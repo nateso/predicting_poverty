{
 "cells": [
  {
   "cell_type": "code",
   "execution_count": 1,
   "id": "680c2cda",
   "metadata": {},
   "outputs": [],
   "source": [
    "import pandas as pd\n",
    "import numpy as np\n",
    "import matplotlib.pyplot as plt\n",
    "import plotly.express as px\n",
    "import plotly.graph_objs as go\n",
    "import copy\n",
    "import os\n",
    "import math"
   ]
  },
  {
   "cell_type": "code",
   "execution_count": 8,
   "id": "b4482ce1",
   "metadata": {},
   "outputs": [],
   "source": [
    "# import the differet datafiles from the dat_mod folder\n",
    "csv_files = os.listdir(\"../../Data/lsms/mod_data/\")\n",
    "dfs  = []\n",
    "for file in csv_files:\n",
    "    path = \"../../Data/lsms/mod_data/\" + file\n",
    "    dfs.append(pd.read_csv(path,index_col = 0))\n",
    "geos = pd.concat(dfs).reset_index(drop = True)\n",
    "geos['year_start'] = [i[:4] for i in list(geos['year'])]\n",
    "geos['year_end'] = [i[-4:] for i in list(geos['year'])]\n",
    "geos['clusterid'] = [i[0]+\"_\"+str(i[1]) for idx,i in geos[['country','clusterid']].iterrows()]\n",
    "geos['cluster_year_id'] = [i[0]+\"_\"+str(i[1]) for idx, i in geos[['clusterid','round']].iterrows()]"
   ]
  },
  {
   "cell_type": "code",
   "execution_count": 9,
   "id": "bd21cd3f",
   "metadata": {},
   "outputs": [
    {
     "name": "stdout",
     "output_type": "stream",
     "text": [
      "Number of EAs in the sample: 1794\n",
      "Number of unique year-EA pairs: 5943\n"
     ]
    }
   ],
   "source": [
    "print(\"Number of EAs in the sample:\", len(np.unique(geos['clusterid'])))\n",
    "print(\"Number of unique year-EA pairs:\",len(np.unique(geos['cluster_year_id'])))"
   ]
  },
  {
   "cell_type": "code",
   "execution_count": 3,
   "id": "4122565c",
   "metadata": {},
   "outputs": [],
   "source": [
    "#pd.crosstab(geos['year_end'],geos['country']).style.to_latex()"
   ]
  },
  {
   "cell_type": "code",
   "execution_count": 10,
   "id": "419930d3",
   "metadata": {},
   "outputs": [
    {
     "data": {
      "text/plain": [
       "11.369846878680802"
      ]
     },
     "execution_count": 10,
     "metadata": {},
     "output_type": "execute_result"
    }
   ],
   "source": [
    "np.mean(geos['n_households'])"
   ]
  },
  {
   "cell_type": "code",
   "execution_count": 23,
   "id": "9fada3cc",
   "metadata": {},
   "outputs": [
    {
     "data": {
      "text/plain": [
       "0"
      ]
     },
     "execution_count": 23,
     "metadata": {},
     "output_type": "execute_result"
    }
   ],
   "source": [
    "sum(geos[['clusterid','round']].duplicated())"
   ]
  },
  {
   "cell_type": "code",
   "execution_count": 29,
   "id": "a772d854",
   "metadata": {},
   "outputs": [
    {
     "name": "stdout",
     "output_type": "stream",
     "text": [
      "if you consider just the simple time-series, you get (n_k-1) time differences (aka observations)\n",
      "in this case, I would have 4149 observations\n"
     ]
    }
   ],
   "source": [
    "print(\"if you consider just the simple time-series, you get (n_k-1) time differences (aka observations)\")\n",
    "print(\"in this case, I would have\",sum(geos.groupby('clusterid').size()-1),'observations')\n"
   ]
  },
  {
   "cell_type": "code",
   "execution_count": 11,
   "id": "42bbb97d",
   "metadata": {},
   "outputs": [
    {
     "name": "stdout",
     "output_type": "stream",
     "text": [
      "If I consider the pairwise differences between all survey rounds within one country I get (n_k C 2) time diffs\n",
      "         occurences  training_obs\n",
      "country                          \n",
      "eth            1195          1094\n",
      "mw              612           714\n",
      "ng             1589          1893\n",
      "tz             1309          1634\n",
      "ug             1238          2188\n",
      "Number of observations: 7523\n"
     ]
    }
   ],
   "source": [
    "print(\"If I consider the pairwise differences between all survey rounds within one country I get (n_k C 2) time diffs\")\n",
    "time_diffs = geos.groupby(['country','clusterid']).size().reset_index(name = 'occurences')\n",
    "time_diffs['training_obs'] = [math.comb(i,2) for i in list(time_diffs['occurences'])]\n",
    "print(time_diffs.groupby(\"country\").sum('training_obs'))\n",
    "print(\"Number of observations:\", sum(time_diffs['training_obs']))"
   ]
  }
 ],
 "metadata": {
  "kernelspec": {
   "display_name": "Python 3 (ipykernel)",
   "language": "python",
   "name": "python3"
  },
  "language_info": {
   "codemirror_mode": {
    "name": "ipython",
    "version": 3
   },
   "file_extension": ".py",
   "mimetype": "text/x-python",
   "name": "python",
   "nbconvert_exporter": "python",
   "pygments_lexer": "ipython3",
   "version": "3.8.2"
  }
 },
 "nbformat": 4,
 "nbformat_minor": 5
}
