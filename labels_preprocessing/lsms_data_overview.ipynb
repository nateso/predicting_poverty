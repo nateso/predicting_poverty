{
 "cells": [
  {
   "cell_type": "code",
   "execution_count": 1,
   "id": "9e008bcc",
   "metadata": {},
   "outputs": [],
   "source": [
    "import pandas as pd\n",
    "import numpy as np\n",
    "import matplotlib.pyplot as plt\n",
    "import plotly.express as px\n",
    "import plotly.graph_objs as go\n",
    "import copy\n",
    "import os\n",
    "import math"
   ]
  },
  {
   "cell_type": "code",
   "execution_count": 4,
   "id": "5a20edab",
   "metadata": {},
   "outputs": [],
   "source": [
    "# import the differet datafiles from the dat_mod folder\n",
    "csv_files = os.listdir(\"Data/lsms/mod_data/\")\n",
    "dfs  = []\n",
    "for file in csv_files:\n",
    "    path = \"Data/lsms/mod_data/\" + file\n",
    "    dfs.append(pd.read_csv(path,index_col = 0))\n",
    "geos = pd.concat(dfs).reset_index(drop = True)\n",
    "geos['year_start'] = [i[:4] for i in list(geos['year'])]\n",
    "geos['year_end'] = [i[-4:] for i in list(geos['year'])]\n",
    "geos['clusterid'] = [i[0]+\"_\"+str(i[1]) for idx,i in geos[['country','clusterid']].iterrows()]\n",
    "geos['cluster_year_id'] = [i[0]+\"_\"+str(i[1]) for idx, i in geos[['clusterid','round']].iterrows()]"
   ]
  },
  {
   "cell_type": "code",
   "execution_count": 5,
   "id": "330a082a",
   "metadata": {},
   "outputs": [
    {
     "data": {
      "text/html": [
       "<div>\n",
       "<style scoped>\n",
       "    .dataframe tbody tr th:only-of-type {\n",
       "        vertical-align: middle;\n",
       "    }\n",
       "\n",
       "    .dataframe tbody tr th {\n",
       "        vertical-align: top;\n",
       "    }\n",
       "\n",
       "    .dataframe thead th {\n",
       "        text-align: right;\n",
       "    }\n",
       "</style>\n",
       "<table border=\"1\" class=\"dataframe\">\n",
       "  <thead>\n",
       "    <tr style=\"text-align: right;\">\n",
       "      <th></th>\n",
       "      <th>country</th>\n",
       "      <th>clusterid</th>\n",
       "      <th>lat</th>\n",
       "      <th>lon</th>\n",
       "      <th>round</th>\n",
       "      <th>year</th>\n",
       "      <th>n_households</th>\n",
       "      <th>year_start</th>\n",
       "      <th>year_end</th>\n",
       "      <th>cluster_year_id</th>\n",
       "    </tr>\n",
       "  </thead>\n",
       "  <tbody>\n",
       "    <tr>\n",
       "      <th>0</th>\n",
       "      <td>ug</td>\n",
       "      <td>ug_10210001</td>\n",
       "      <td>0.333188</td>\n",
       "      <td>32.570656</td>\n",
       "      <td>3</td>\n",
       "      <td>2011/2012</td>\n",
       "      <td>4</td>\n",
       "      <td>2011</td>\n",
       "      <td>2012</td>\n",
       "      <td>ug_10210001_3</td>\n",
       "    </tr>\n",
       "    <tr>\n",
       "      <th>1</th>\n",
       "      <td>ug</td>\n",
       "      <td>ug_10210001</td>\n",
       "      <td>0.333188</td>\n",
       "      <td>32.570656</td>\n",
       "      <td>4</td>\n",
       "      <td>2013/2014</td>\n",
       "      <td>3</td>\n",
       "      <td>2013</td>\n",
       "      <td>2014</td>\n",
       "      <td>ug_10210001_4</td>\n",
       "    </tr>\n",
       "    <tr>\n",
       "      <th>2</th>\n",
       "      <td>ug</td>\n",
       "      <td>ug_10210001</td>\n",
       "      <td>0.333188</td>\n",
       "      <td>32.570656</td>\n",
       "      <td>5</td>\n",
       "      <td>2015/2016</td>\n",
       "      <td>3</td>\n",
       "      <td>2015</td>\n",
       "      <td>2016</td>\n",
       "      <td>ug_10210001_5</td>\n",
       "    </tr>\n",
       "    <tr>\n",
       "      <th>3</th>\n",
       "      <td>ug</td>\n",
       "      <td>ug_10210001</td>\n",
       "      <td>0.333188</td>\n",
       "      <td>32.570656</td>\n",
       "      <td>2</td>\n",
       "      <td>2010/2011</td>\n",
       "      <td>5</td>\n",
       "      <td>2010</td>\n",
       "      <td>2011</td>\n",
       "      <td>ug_10210001_2</td>\n",
       "    </tr>\n",
       "    <tr>\n",
       "      <th>4</th>\n",
       "      <td>ug</td>\n",
       "      <td>ug_10210001</td>\n",
       "      <td>0.333188</td>\n",
       "      <td>32.570656</td>\n",
       "      <td>1</td>\n",
       "      <td>2009/2010</td>\n",
       "      <td>6</td>\n",
       "      <td>2009</td>\n",
       "      <td>2010</td>\n",
       "      <td>ug_10210001_1</td>\n",
       "    </tr>\n",
       "    <tr>\n",
       "      <th>...</th>\n",
       "      <td>...</td>\n",
       "      <td>...</td>\n",
       "      <td>...</td>\n",
       "      <td>...</td>\n",
       "      <td>...</td>\n",
       "      <td>...</td>\n",
       "      <td>...</td>\n",
       "      <td>...</td>\n",
       "      <td>...</td>\n",
       "      <td>...</td>\n",
       "    </tr>\n",
       "    <tr>\n",
       "      <th>5938</th>\n",
       "      <td>tz</td>\n",
       "      <td>tz_55218021</td>\n",
       "      <td>-5.367530</td>\n",
       "      <td>39.664890</td>\n",
       "      <td>1</td>\n",
       "      <td>2008/2009</td>\n",
       "      <td>18</td>\n",
       "      <td>2008</td>\n",
       "      <td>2009</td>\n",
       "      <td>tz_55218021_1</td>\n",
       "    </tr>\n",
       "    <tr>\n",
       "      <th>5939</th>\n",
       "      <td>tz</td>\n",
       "      <td>tz_55218021</td>\n",
       "      <td>-5.367533</td>\n",
       "      <td>39.664894</td>\n",
       "      <td>2</td>\n",
       "      <td>2010/2011</td>\n",
       "      <td>16</td>\n",
       "      <td>2010</td>\n",
       "      <td>2011</td>\n",
       "      <td>tz_55218021_2</td>\n",
       "    </tr>\n",
       "    <tr>\n",
       "      <th>5940</th>\n",
       "      <td>tz</td>\n",
       "      <td>tz_55218021</td>\n",
       "      <td>-5.367533</td>\n",
       "      <td>39.664895</td>\n",
       "      <td>3</td>\n",
       "      <td>2012/2013</td>\n",
       "      <td>8</td>\n",
       "      <td>2012</td>\n",
       "      <td>2013</td>\n",
       "      <td>tz_55218021_3</td>\n",
       "    </tr>\n",
       "    <tr>\n",
       "      <th>5941</th>\n",
       "      <td>tz</td>\n",
       "      <td>tz_55218021</td>\n",
       "      <td>-5.367530</td>\n",
       "      <td>39.664890</td>\n",
       "      <td>4</td>\n",
       "      <td>2014/2015</td>\n",
       "      <td>14</td>\n",
       "      <td>2014</td>\n",
       "      <td>2015</td>\n",
       "      <td>tz_55218021_4</td>\n",
       "    </tr>\n",
       "    <tr>\n",
       "      <th>5942</th>\n",
       "      <td>tz</td>\n",
       "      <td>tz_55218021</td>\n",
       "      <td>-5.367530</td>\n",
       "      <td>39.664890</td>\n",
       "      <td>5</td>\n",
       "      <td>2019/2020</td>\n",
       "      <td>14</td>\n",
       "      <td>2019</td>\n",
       "      <td>2020</td>\n",
       "      <td>tz_55218021_5</td>\n",
       "    </tr>\n",
       "  </tbody>\n",
       "</table>\n",
       "<p>5943 rows × 10 columns</p>\n",
       "</div>"
      ],
      "text/plain": [
       "     country    clusterid       lat        lon  round       year  \\\n",
       "0         ug  ug_10210001  0.333188  32.570656      3  2011/2012   \n",
       "1         ug  ug_10210001  0.333188  32.570656      4  2013/2014   \n",
       "2         ug  ug_10210001  0.333188  32.570656      5  2015/2016   \n",
       "3         ug  ug_10210001  0.333188  32.570656      2  2010/2011   \n",
       "4         ug  ug_10210001  0.333188  32.570656      1  2009/2010   \n",
       "...      ...          ...       ...        ...    ...        ...   \n",
       "5938      tz  tz_55218021 -5.367530  39.664890      1  2008/2009   \n",
       "5939      tz  tz_55218021 -5.367533  39.664894      2  2010/2011   \n",
       "5940      tz  tz_55218021 -5.367533  39.664895      3  2012/2013   \n",
       "5941      tz  tz_55218021 -5.367530  39.664890      4  2014/2015   \n",
       "5942      tz  tz_55218021 -5.367530  39.664890      5  2019/2020   \n",
       "\n",
       "      n_households year_start year_end cluster_year_id  \n",
       "0                4       2011     2012   ug_10210001_3  \n",
       "1                3       2013     2014   ug_10210001_4  \n",
       "2                3       2015     2016   ug_10210001_5  \n",
       "3                5       2010     2011   ug_10210001_2  \n",
       "4                6       2009     2010   ug_10210001_1  \n",
       "...            ...        ...      ...             ...  \n",
       "5938            18       2008     2009   tz_55218021_1  \n",
       "5939            16       2010     2011   tz_55218021_2  \n",
       "5940             8       2012     2013   tz_55218021_3  \n",
       "5941            14       2014     2015   tz_55218021_4  \n",
       "5942            14       2019     2020   tz_55218021_5  \n",
       "\n",
       "[5943 rows x 10 columns]"
      ]
     },
     "execution_count": 5,
     "metadata": {},
     "output_type": "execute_result"
    }
   ],
   "source": []
  },
  {
   "cell_type": "code",
   "execution_count": 7,
   "id": "f5387d76",
   "metadata": {},
   "outputs": [
    {
     "name": "stdout",
     "output_type": "stream",
     "text": [
      "Number of EAs in the sample: 1794\n",
      "Number of unique year-EA pairs: 5943\n"
     ]
    }
   ],
   "source": [
    "print(\"Number of EAs in the sample:\", len(np.unique(geos['clusterid'])))\n",
    "print(\"Number of unique year-EA pairs:\",len(np.unique(geos['cluster_year_id'])))"
   ]
  },
  {
   "cell_type": "code",
   "execution_count": 3,
   "id": "d8cc224d",
   "metadata": {},
   "outputs": [],
   "source": [
    "#pd.crosstab(geos['year_end'],geos['country']).style.to_latex()"
   ]
  },
  {
   "cell_type": "code",
   "execution_count": 5,
   "id": "7db59276",
   "metadata": {},
   "outputs": [
    {
     "data": {
      "text/plain": [
       "11.369846878680802"
      ]
     },
     "execution_count": 5,
     "metadata": {},
     "output_type": "execute_result"
    }
   ],
   "source": [
    "np.mean(geos['n_households'])"
   ]
  },
  {
   "cell_type": "code",
   "execution_count": 23,
   "id": "b7ebf5e7",
   "metadata": {},
   "outputs": [
    {
     "data": {
      "text/plain": [
       "0"
      ]
     },
     "execution_count": 23,
     "metadata": {},
     "output_type": "execute_result"
    }
   ],
   "source": [
    "sum(geos[['clusterid','round']].duplicated())"
   ]
  },
  {
   "cell_type": "code",
   "execution_count": 29,
   "id": "2f6e199b",
   "metadata": {},
   "outputs": [
    {
     "name": "stdout",
     "output_type": "stream",
     "text": [
      "if you consider just the simple time-series, you get (n_k-1) time differences (aka observations)\n",
      "in this case, I would have 4149 observations\n"
     ]
    }
   ],
   "source": [
    "print(\"if you consider just the simple time-series, you get (n_k-1) time differences (aka observations)\")\n",
    "print(\"in this case, I would have\",sum(geos.groupby('clusterid').size()-1),'observations')\n"
   ]
  },
  {
   "cell_type": "code",
   "execution_count": 40,
   "id": "c4be1b36",
   "metadata": {},
   "outputs": [
    {
     "name": "stdout",
     "output_type": "stream",
     "text": [
      "If I consider the pairwise differences between all survey rounds within one country I get (n_k C 2) time diffs\n",
      "         occurences  training_obs\n",
      "country                          \n",
      "eth            1195          1094\n",
      "mw              612           714\n",
      "ng             1589          1893\n",
      "tz             1309          1634\n",
      "ug             1238          2188\n",
      "Number of observations: 7523\n"
     ]
    }
   ],
   "source": [
    "print(\"If I consider the pairwise differences between all survey rounds within one country I get (n_k C 2) time diffs\")\n",
    "time_diffs = geos.groupby(['country','clusterid']).size().reset_index(name = 'occurences')\n",
    "time_diffs['training_obs'] = [math.comb(i,2) for i in list(time_diffs['occurences'])]\n",
    "print(time_diffs.groupby(\"country\").sum('training_obs'))\n",
    "print(\"Number of observations:\", sum(time_diffs['training_obs']))"
   ]
  }
 ],
 "metadata": {
  "kernelspec": {
   "display_name": "Python 3 (ipykernel)",
   "language": "python",
   "name": "python3"
  },
  "language_info": {
   "codemirror_mode": {
    "name": "ipython",
    "version": 3
   },
   "file_extension": ".py",
   "mimetype": "text/x-python",
   "name": "python",
   "nbconvert_exporter": "python",
   "pygments_lexer": "ipython3",
   "version": "3.8.2"
  }
 },
 "nbformat": 4,
 "nbformat_minor": 5
}
