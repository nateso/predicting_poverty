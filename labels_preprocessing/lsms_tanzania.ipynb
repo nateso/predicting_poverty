{
 "cells": [
  {
   "cell_type": "code",
   "execution_count": 13,
   "id": "5351ad15",
   "metadata": {},
   "outputs": [],
   "source": [
    "import pandas as pd\n",
    "import numpy as np\n",
    "import matplotlib.pyplot as plt\n",
    "import plotly.express as px\n",
    "import plotly.graph_objs as go\n",
    "import copy"
   ]
  },
  {
   "cell_type": "code",
   "execution_count": 14,
   "id": "55776790",
   "metadata": {},
   "outputs": [],
   "source": [
    "tz_wv1 = pd.read_stata(\"Data/lsms/Tanzania/TZA_2008_NPS1_v02_M_STATA_English_labels/HH.Geovariables_Y1.dta\")\n",
    "tz_wv2 = pd.read_stata(\"Data/lsms/Tanzania/TZA_2010_NPS-R2_v02_M_STATA8/HH.Geovariables_Y2.dta\")\n",
    "tz_wv2_a = pd.read_stata(\"Data/lsms/Tanzania/TZA_2010_NPS-R2_v02_M_STATA8/HH_SEC_A.dta\")\n",
    "tz_wv3 = pd.read_csv(\"Data/lsms/Tanzania/TZA_2012_NPS-R3_v01_M_CSV/HouseholdGeovars_Y3.csv\")\n",
    "tz_wv3_a = pd.read_csv(\"Data/lsms/Tanzania/TZA_2012_NPS-R3_v01_M_CSV/HH_SEC_A.csv\")\n",
    "tz_wv3_sec_a = pd.read_csv(\"Data/lsms/Tanzania/TZA_2012_NPS-R3_v01_M_CSV/HH_SEC_A.csv\")\n",
    "tz_wv4 = pd.read_csv(\"Data/lsms/Tanzania/TZA_2014_NPS-R4_v03_M_v01_A_EXT_CSV/hh_sec_a.csv\")\n",
    "tz_panel = pd.read_csv(\"Data/lsms/Tanzania/TZA_2008-2014_NPS-UPD_v01_M_CSV/upd4_hh_a.csv\", dtype={'strataid2':'string'})\n",
    "tz_wv5 = pd.read_csv(\"Data/lsms/Tanzania/TZA_2019_NPD-SDD_v05_M_CSV/HH_SEC_A.csv\")"
   ]
  },
  {
   "cell_type": "code",
   "execution_count": 15,
   "id": "b0591db3",
   "metadata": {},
   "outputs": [],
   "source": [
    "# get cluster id for each ea in wave 1:\n",
    "wv1_clusterid = tz_panel[['clusterid','round','r_hhid']].rename(columns = {'r_hhid':'hhid'})\n",
    "wv1_clusterid = wv1_clusterid.loc[wv1_clusterid['round'] == 1,:].drop(columns = 'round')\n",
    "wv1_clusterid = wv1_clusterid.loc[~wv1_clusterid.duplicated(keep = 'first'),:]\n",
    "tz_wv1 = pd.merge(tz_wv1,wv1_clusterid, on = 'hhid', how = 'left')\n"
   ]
  },
  {
   "cell_type": "code",
   "execution_count": 16,
   "id": "4771fd84",
   "metadata": {},
   "outputs": [
    {
     "name": "stdout",
     "output_type": "stream",
     "text": [
      "In wave 1, I have  409 enumeration areas\n",
      "In wave 1, I have  409 different pairs of coordinates\n"
     ]
    }
   ],
   "source": [
    "# enumeration areas\n",
    "wv1_geos = tz_wv1[['clusterid','lat_modified','lon_modified']]\n",
    "wv1_geos = wv1_geos.loc[~wv1_geos.duplicated(keep = 'first'),:]\n",
    "wv1_geos['round'] = 1\n",
    "print(\"In wave 1, I have \", len(np.unique(wv1_geos['clusterid'])), 'enumeration areas')\n",
    "print(\"In wave 1, I have \", len(wv1_geos), 'different pairs of coordinates')"
   ]
  },
  {
   "cell_type": "code",
   "execution_count": 17,
   "id": "c738ca22",
   "metadata": {},
   "outputs": [
    {
     "name": "stdout",
     "output_type": "stream",
     "text": [
      "In wave 2, I have  409 enumeration areas\n",
      "In wave 2, I have  750 different pairs of coordinates\n",
      "The additional pairs of coordinates derive from the splitoff households\n",
      "For instance an adult member of the hosuehold moved to Dar es Salam (see map below)\n"
     ]
    }
   ],
   "source": [
    "# enumeration areas wave 2\n",
    "wv2_geos = tz_wv2[['ea_id','lat_modified','lon_modified']]\n",
    "wv2_geos = pd.merge(wv2_geos, tz_wv1[['ea_id','clusterid']], on = 'ea_id', how = 'left')\n",
    "wv2_geos = wv2_geos.loc[~wv2_geos.duplicated(keep = 'first'),:].drop(columns = 'ea_id')\n",
    "wv2_geos['round'] = 2\n",
    "print(\"In wave 2, I have \", len(np.unique(wv2_geos['clusterid'])), 'enumeration areas')\n",
    "print(\"In wave 2, I have \", len(wv2_geos), 'different pairs of coordinates')\n",
    "print(\"The additional pairs of coordinates derive from the splitoff households\")\n",
    "print(\"For instance an adult member of the hosuehold moved to Dar es Salam (see map below)\")"
   ]
  },
  {
   "cell_type": "code",
   "execution_count": 18,
   "id": "05b88046",
   "metadata": {},
   "outputs": [
    {
     "data": {
      "application/vnd.plotly.v1+json": {
       "config": {
        "plotlyServerURL": "https://plot.ly"
       },
       "data": [
        {
         "hovertemplate": "lat_modified=%{lat}<br>lon_modified=%{lon}<extra></extra>",
         "lat": [
          -5.085750579833984,
          -6.857325077056885
         ],
         "legendgroup": "",
         "lon": [
          35.85438919067383,
          39.26983642578125
         ],
         "marker": {
          "color": "#636efa"
         },
         "mode": "markers",
         "name": "",
         "showlegend": false,
         "subplot": "mapbox",
         "type": "scattermapbox"
        }
       ],
       "layout": {
        "legend": {
         "tracegroupgap": 0
        },
        "mapbox": {
         "center": {
          "lat": -5.9715375900268555,
          "lon": 37.562110900878906
         },
         "domain": {
          "x": [
           0,
           1
          ],
          "y": [
           0,
           1
          ]
         },
         "style": "open-street-map",
         "zoom": 3
        },
        "margin": {
         "t": 60
        },
        "template": {
         "data": {
          "bar": [
           {
            "error_x": {
             "color": "#2a3f5f"
            },
            "error_y": {
             "color": "#2a3f5f"
            },
            "marker": {
             "line": {
              "color": "#E5ECF6",
              "width": 0.5
             },
             "pattern": {
              "fillmode": "overlay",
              "size": 10,
              "solidity": 0.2
             }
            },
            "type": "bar"
           }
          ],
          "barpolar": [
           {
            "marker": {
             "line": {
              "color": "#E5ECF6",
              "width": 0.5
             },
             "pattern": {
              "fillmode": "overlay",
              "size": 10,
              "solidity": 0.2
             }
            },
            "type": "barpolar"
           }
          ],
          "carpet": [
           {
            "aaxis": {
             "endlinecolor": "#2a3f5f",
             "gridcolor": "white",
             "linecolor": "white",
             "minorgridcolor": "white",
             "startlinecolor": "#2a3f5f"
            },
            "baxis": {
             "endlinecolor": "#2a3f5f",
             "gridcolor": "white",
             "linecolor": "white",
             "minorgridcolor": "white",
             "startlinecolor": "#2a3f5f"
            },
            "type": "carpet"
           }
          ],
          "choropleth": [
           {
            "colorbar": {
             "outlinewidth": 0,
             "ticks": ""
            },
            "type": "choropleth"
           }
          ],
          "contour": [
           {
            "colorbar": {
             "outlinewidth": 0,
             "ticks": ""
            },
            "colorscale": [
             [
              0,
              "#0d0887"
             ],
             [
              0.1111111111111111,
              "#46039f"
             ],
             [
              0.2222222222222222,
              "#7201a8"
             ],
             [
              0.3333333333333333,
              "#9c179e"
             ],
             [
              0.4444444444444444,
              "#bd3786"
             ],
             [
              0.5555555555555556,
              "#d8576b"
             ],
             [
              0.6666666666666666,
              "#ed7953"
             ],
             [
              0.7777777777777778,
              "#fb9f3a"
             ],
             [
              0.8888888888888888,
              "#fdca26"
             ],
             [
              1,
              "#f0f921"
             ]
            ],
            "type": "contour"
           }
          ],
          "contourcarpet": [
           {
            "colorbar": {
             "outlinewidth": 0,
             "ticks": ""
            },
            "type": "contourcarpet"
           }
          ],
          "heatmap": [
           {
            "colorbar": {
             "outlinewidth": 0,
             "ticks": ""
            },
            "colorscale": [
             [
              0,
              "#0d0887"
             ],
             [
              0.1111111111111111,
              "#46039f"
             ],
             [
              0.2222222222222222,
              "#7201a8"
             ],
             [
              0.3333333333333333,
              "#9c179e"
             ],
             [
              0.4444444444444444,
              "#bd3786"
             ],
             [
              0.5555555555555556,
              "#d8576b"
             ],
             [
              0.6666666666666666,
              "#ed7953"
             ],
             [
              0.7777777777777778,
              "#fb9f3a"
             ],
             [
              0.8888888888888888,
              "#fdca26"
             ],
             [
              1,
              "#f0f921"
             ]
            ],
            "type": "heatmap"
           }
          ],
          "heatmapgl": [
           {
            "colorbar": {
             "outlinewidth": 0,
             "ticks": ""
            },
            "colorscale": [
             [
              0,
              "#0d0887"
             ],
             [
              0.1111111111111111,
              "#46039f"
             ],
             [
              0.2222222222222222,
              "#7201a8"
             ],
             [
              0.3333333333333333,
              "#9c179e"
             ],
             [
              0.4444444444444444,
              "#bd3786"
             ],
             [
              0.5555555555555556,
              "#d8576b"
             ],
             [
              0.6666666666666666,
              "#ed7953"
             ],
             [
              0.7777777777777778,
              "#fb9f3a"
             ],
             [
              0.8888888888888888,
              "#fdca26"
             ],
             [
              1,
              "#f0f921"
             ]
            ],
            "type": "heatmapgl"
           }
          ],
          "histogram": [
           {
            "marker": {
             "pattern": {
              "fillmode": "overlay",
              "size": 10,
              "solidity": 0.2
             }
            },
            "type": "histogram"
           }
          ],
          "histogram2d": [
           {
            "colorbar": {
             "outlinewidth": 0,
             "ticks": ""
            },
            "colorscale": [
             [
              0,
              "#0d0887"
             ],
             [
              0.1111111111111111,
              "#46039f"
             ],
             [
              0.2222222222222222,
              "#7201a8"
             ],
             [
              0.3333333333333333,
              "#9c179e"
             ],
             [
              0.4444444444444444,
              "#bd3786"
             ],
             [
              0.5555555555555556,
              "#d8576b"
             ],
             [
              0.6666666666666666,
              "#ed7953"
             ],
             [
              0.7777777777777778,
              "#fb9f3a"
             ],
             [
              0.8888888888888888,
              "#fdca26"
             ],
             [
              1,
              "#f0f921"
             ]
            ],
            "type": "histogram2d"
           }
          ],
          "histogram2dcontour": [
           {
            "colorbar": {
             "outlinewidth": 0,
             "ticks": ""
            },
            "colorscale": [
             [
              0,
              "#0d0887"
             ],
             [
              0.1111111111111111,
              "#46039f"
             ],
             [
              0.2222222222222222,
              "#7201a8"
             ],
             [
              0.3333333333333333,
              "#9c179e"
             ],
             [
              0.4444444444444444,
              "#bd3786"
             ],
             [
              0.5555555555555556,
              "#d8576b"
             ],
             [
              0.6666666666666666,
              "#ed7953"
             ],
             [
              0.7777777777777778,
              "#fb9f3a"
             ],
             [
              0.8888888888888888,
              "#fdca26"
             ],
             [
              1,
              "#f0f921"
             ]
            ],
            "type": "histogram2dcontour"
           }
          ],
          "mesh3d": [
           {
            "colorbar": {
             "outlinewidth": 0,
             "ticks": ""
            },
            "type": "mesh3d"
           }
          ],
          "parcoords": [
           {
            "line": {
             "colorbar": {
              "outlinewidth": 0,
              "ticks": ""
             }
            },
            "type": "parcoords"
           }
          ],
          "pie": [
           {
            "automargin": true,
            "type": "pie"
           }
          ],
          "scatter": [
           {
            "marker": {
             "colorbar": {
              "outlinewidth": 0,
              "ticks": ""
             }
            },
            "type": "scatter"
           }
          ],
          "scatter3d": [
           {
            "line": {
             "colorbar": {
              "outlinewidth": 0,
              "ticks": ""
             }
            },
            "marker": {
             "colorbar": {
              "outlinewidth": 0,
              "ticks": ""
             }
            },
            "type": "scatter3d"
           }
          ],
          "scattercarpet": [
           {
            "marker": {
             "colorbar": {
              "outlinewidth": 0,
              "ticks": ""
             }
            },
            "type": "scattercarpet"
           }
          ],
          "scattergeo": [
           {
            "marker": {
             "colorbar": {
              "outlinewidth": 0,
              "ticks": ""
             }
            },
            "type": "scattergeo"
           }
          ],
          "scattergl": [
           {
            "marker": {
             "colorbar": {
              "outlinewidth": 0,
              "ticks": ""
             }
            },
            "type": "scattergl"
           }
          ],
          "scattermapbox": [
           {
            "marker": {
             "colorbar": {
              "outlinewidth": 0,
              "ticks": ""
             }
            },
            "type": "scattermapbox"
           }
          ],
          "scatterpolar": [
           {
            "marker": {
             "colorbar": {
              "outlinewidth": 0,
              "ticks": ""
             }
            },
            "type": "scatterpolar"
           }
          ],
          "scatterpolargl": [
           {
            "marker": {
             "colorbar": {
              "outlinewidth": 0,
              "ticks": ""
             }
            },
            "type": "scatterpolargl"
           }
          ],
          "scatterternary": [
           {
            "marker": {
             "colorbar": {
              "outlinewidth": 0,
              "ticks": ""
             }
            },
            "type": "scatterternary"
           }
          ],
          "surface": [
           {
            "colorbar": {
             "outlinewidth": 0,
             "ticks": ""
            },
            "colorscale": [
             [
              0,
              "#0d0887"
             ],
             [
              0.1111111111111111,
              "#46039f"
             ],
             [
              0.2222222222222222,
              "#7201a8"
             ],
             [
              0.3333333333333333,
              "#9c179e"
             ],
             [
              0.4444444444444444,
              "#bd3786"
             ],
             [
              0.5555555555555556,
              "#d8576b"
             ],
             [
              0.6666666666666666,
              "#ed7953"
             ],
             [
              0.7777777777777778,
              "#fb9f3a"
             ],
             [
              0.8888888888888888,
              "#fdca26"
             ],
             [
              1,
              "#f0f921"
             ]
            ],
            "type": "surface"
           }
          ],
          "table": [
           {
            "cells": {
             "fill": {
              "color": "#EBF0F8"
             },
             "line": {
              "color": "white"
             }
            },
            "header": {
             "fill": {
              "color": "#C8D4E3"
             },
             "line": {
              "color": "white"
             }
            },
            "type": "table"
           }
          ]
         },
         "layout": {
          "annotationdefaults": {
           "arrowcolor": "#2a3f5f",
           "arrowhead": 0,
           "arrowwidth": 1
          },
          "autotypenumbers": "strict",
          "coloraxis": {
           "colorbar": {
            "outlinewidth": 0,
            "ticks": ""
           }
          },
          "colorscale": {
           "diverging": [
            [
             0,
             "#8e0152"
            ],
            [
             0.1,
             "#c51b7d"
            ],
            [
             0.2,
             "#de77ae"
            ],
            [
             0.3,
             "#f1b6da"
            ],
            [
             0.4,
             "#fde0ef"
            ],
            [
             0.5,
             "#f7f7f7"
            ],
            [
             0.6,
             "#e6f5d0"
            ],
            [
             0.7,
             "#b8e186"
            ],
            [
             0.8,
             "#7fbc41"
            ],
            [
             0.9,
             "#4d9221"
            ],
            [
             1,
             "#276419"
            ]
           ],
           "sequential": [
            [
             0,
             "#0d0887"
            ],
            [
             0.1111111111111111,
             "#46039f"
            ],
            [
             0.2222222222222222,
             "#7201a8"
            ],
            [
             0.3333333333333333,
             "#9c179e"
            ],
            [
             0.4444444444444444,
             "#bd3786"
            ],
            [
             0.5555555555555556,
             "#d8576b"
            ],
            [
             0.6666666666666666,
             "#ed7953"
            ],
            [
             0.7777777777777778,
             "#fb9f3a"
            ],
            [
             0.8888888888888888,
             "#fdca26"
            ],
            [
             1,
             "#f0f921"
            ]
           ],
           "sequentialminus": [
            [
             0,
             "#0d0887"
            ],
            [
             0.1111111111111111,
             "#46039f"
            ],
            [
             0.2222222222222222,
             "#7201a8"
            ],
            [
             0.3333333333333333,
             "#9c179e"
            ],
            [
             0.4444444444444444,
             "#bd3786"
            ],
            [
             0.5555555555555556,
             "#d8576b"
            ],
            [
             0.6666666666666666,
             "#ed7953"
            ],
            [
             0.7777777777777778,
             "#fb9f3a"
            ],
            [
             0.8888888888888888,
             "#fdca26"
            ],
            [
             1,
             "#f0f921"
            ]
           ]
          },
          "colorway": [
           "#636efa",
           "#EF553B",
           "#00cc96",
           "#ab63fa",
           "#FFA15A",
           "#19d3f3",
           "#FF6692",
           "#B6E880",
           "#FF97FF",
           "#FECB52"
          ],
          "font": {
           "color": "#2a3f5f"
          },
          "geo": {
           "bgcolor": "white",
           "lakecolor": "white",
           "landcolor": "#E5ECF6",
           "showlakes": true,
           "showland": true,
           "subunitcolor": "white"
          },
          "hoverlabel": {
           "align": "left"
          },
          "hovermode": "closest",
          "mapbox": {
           "style": "light"
          },
          "paper_bgcolor": "white",
          "plot_bgcolor": "#E5ECF6",
          "polar": {
           "angularaxis": {
            "gridcolor": "white",
            "linecolor": "white",
            "ticks": ""
           },
           "bgcolor": "#E5ECF6",
           "radialaxis": {
            "gridcolor": "white",
            "linecolor": "white",
            "ticks": ""
           }
          },
          "scene": {
           "xaxis": {
            "backgroundcolor": "#E5ECF6",
            "gridcolor": "white",
            "gridwidth": 2,
            "linecolor": "white",
            "showbackground": true,
            "ticks": "",
            "zerolinecolor": "white"
           },
           "yaxis": {
            "backgroundcolor": "#E5ECF6",
            "gridcolor": "white",
            "gridwidth": 2,
            "linecolor": "white",
            "showbackground": true,
            "ticks": "",
            "zerolinecolor": "white"
           },
           "zaxis": {
            "backgroundcolor": "#E5ECF6",
            "gridcolor": "white",
            "gridwidth": 2,
            "linecolor": "white",
            "showbackground": true,
            "ticks": "",
            "zerolinecolor": "white"
           }
          },
          "shapedefaults": {
           "line": {
            "color": "#2a3f5f"
           }
          },
          "ternary": {
           "aaxis": {
            "gridcolor": "white",
            "linecolor": "white",
            "ticks": ""
           },
           "baxis": {
            "gridcolor": "white",
            "linecolor": "white",
            "ticks": ""
           },
           "bgcolor": "#E5ECF6",
           "caxis": {
            "gridcolor": "white",
            "linecolor": "white",
            "ticks": ""
           }
          },
          "title": {
           "x": 0.05
          },
          "xaxis": {
           "automargin": true,
           "gridcolor": "white",
           "linecolor": "white",
           "ticks": "",
           "title": {
            "standoff": 15
           },
           "zerolinecolor": "white",
           "zerolinewidth": 2
          },
          "yaxis": {
           "automargin": true,
           "gridcolor": "white",
           "linecolor": "white",
           "ticks": "",
           "title": {
            "standoff": 15
           },
           "zerolinecolor": "white",
           "zerolinewidth": 2
          }
         }
        }
       }
      },
      "text/html": [
       "<div>                            <div id=\"7d14bbee-b7fc-45fe-87de-2f430daf0669\" class=\"plotly-graph-div\" style=\"height:525px; width:100%;\"></div>            <script type=\"text/javascript\">                require([\"plotly\"], function(Plotly) {                    window.PLOTLYENV=window.PLOTLYENV || {};                                    if (document.getElementById(\"7d14bbee-b7fc-45fe-87de-2f430daf0669\")) {                    Plotly.newPlot(                        \"7d14bbee-b7fc-45fe-87de-2f430daf0669\",                        [{\"hovertemplate\":\"lat_modified=%{lat}<br>lon_modified=%{lon}<extra></extra>\",\"lat\":[-5.085750579833984,-6.857325077056885],\"legendgroup\":\"\",\"lon\":[35.85438919067383,39.26983642578125],\"marker\":{\"color\":\"#636efa\"},\"mode\":\"markers\",\"name\":\"\",\"showlegend\":false,\"subplot\":\"mapbox\",\"type\":\"scattermapbox\"}],                        {\"template\":{\"data\":{\"bar\":[{\"error_x\":{\"color\":\"#2a3f5f\"},\"error_y\":{\"color\":\"#2a3f5f\"},\"marker\":{\"line\":{\"color\":\"#E5ECF6\",\"width\":0.5},\"pattern\":{\"fillmode\":\"overlay\",\"size\":10,\"solidity\":0.2}},\"type\":\"bar\"}],\"barpolar\":[{\"marker\":{\"line\":{\"color\":\"#E5ECF6\",\"width\":0.5},\"pattern\":{\"fillmode\":\"overlay\",\"size\":10,\"solidity\":0.2}},\"type\":\"barpolar\"}],\"carpet\":[{\"aaxis\":{\"endlinecolor\":\"#2a3f5f\",\"gridcolor\":\"white\",\"linecolor\":\"white\",\"minorgridcolor\":\"white\",\"startlinecolor\":\"#2a3f5f\"},\"baxis\":{\"endlinecolor\":\"#2a3f5f\",\"gridcolor\":\"white\",\"linecolor\":\"white\",\"minorgridcolor\":\"white\",\"startlinecolor\":\"#2a3f5f\"},\"type\":\"carpet\"}],\"choropleth\":[{\"colorbar\":{\"outlinewidth\":0,\"ticks\":\"\"},\"type\":\"choropleth\"}],\"contour\":[{\"colorbar\":{\"outlinewidth\":0,\"ticks\":\"\"},\"colorscale\":[[0.0,\"#0d0887\"],[0.1111111111111111,\"#46039f\"],[0.2222222222222222,\"#7201a8\"],[0.3333333333333333,\"#9c179e\"],[0.4444444444444444,\"#bd3786\"],[0.5555555555555556,\"#d8576b\"],[0.6666666666666666,\"#ed7953\"],[0.7777777777777778,\"#fb9f3a\"],[0.8888888888888888,\"#fdca26\"],[1.0,\"#f0f921\"]],\"type\":\"contour\"}],\"contourcarpet\":[{\"colorbar\":{\"outlinewidth\":0,\"ticks\":\"\"},\"type\":\"contourcarpet\"}],\"heatmap\":[{\"colorbar\":{\"outlinewidth\":0,\"ticks\":\"\"},\"colorscale\":[[0.0,\"#0d0887\"],[0.1111111111111111,\"#46039f\"],[0.2222222222222222,\"#7201a8\"],[0.3333333333333333,\"#9c179e\"],[0.4444444444444444,\"#bd3786\"],[0.5555555555555556,\"#d8576b\"],[0.6666666666666666,\"#ed7953\"],[0.7777777777777778,\"#fb9f3a\"],[0.8888888888888888,\"#fdca26\"],[1.0,\"#f0f921\"]],\"type\":\"heatmap\"}],\"heatmapgl\":[{\"colorbar\":{\"outlinewidth\":0,\"ticks\":\"\"},\"colorscale\":[[0.0,\"#0d0887\"],[0.1111111111111111,\"#46039f\"],[0.2222222222222222,\"#7201a8\"],[0.3333333333333333,\"#9c179e\"],[0.4444444444444444,\"#bd3786\"],[0.5555555555555556,\"#d8576b\"],[0.6666666666666666,\"#ed7953\"],[0.7777777777777778,\"#fb9f3a\"],[0.8888888888888888,\"#fdca26\"],[1.0,\"#f0f921\"]],\"type\":\"heatmapgl\"}],\"histogram\":[{\"marker\":{\"pattern\":{\"fillmode\":\"overlay\",\"size\":10,\"solidity\":0.2}},\"type\":\"histogram\"}],\"histogram2d\":[{\"colorbar\":{\"outlinewidth\":0,\"ticks\":\"\"},\"colorscale\":[[0.0,\"#0d0887\"],[0.1111111111111111,\"#46039f\"],[0.2222222222222222,\"#7201a8\"],[0.3333333333333333,\"#9c179e\"],[0.4444444444444444,\"#bd3786\"],[0.5555555555555556,\"#d8576b\"],[0.6666666666666666,\"#ed7953\"],[0.7777777777777778,\"#fb9f3a\"],[0.8888888888888888,\"#fdca26\"],[1.0,\"#f0f921\"]],\"type\":\"histogram2d\"}],\"histogram2dcontour\":[{\"colorbar\":{\"outlinewidth\":0,\"ticks\":\"\"},\"colorscale\":[[0.0,\"#0d0887\"],[0.1111111111111111,\"#46039f\"],[0.2222222222222222,\"#7201a8\"],[0.3333333333333333,\"#9c179e\"],[0.4444444444444444,\"#bd3786\"],[0.5555555555555556,\"#d8576b\"],[0.6666666666666666,\"#ed7953\"],[0.7777777777777778,\"#fb9f3a\"],[0.8888888888888888,\"#fdca26\"],[1.0,\"#f0f921\"]],\"type\":\"histogram2dcontour\"}],\"mesh3d\":[{\"colorbar\":{\"outlinewidth\":0,\"ticks\":\"\"},\"type\":\"mesh3d\"}],\"parcoords\":[{\"line\":{\"colorbar\":{\"outlinewidth\":0,\"ticks\":\"\"}},\"type\":\"parcoords\"}],\"pie\":[{\"automargin\":true,\"type\":\"pie\"}],\"scatter\":[{\"marker\":{\"colorbar\":{\"outlinewidth\":0,\"ticks\":\"\"}},\"type\":\"scatter\"}],\"scatter3d\":[{\"line\":{\"colorbar\":{\"outlinewidth\":0,\"ticks\":\"\"}},\"marker\":{\"colorbar\":{\"outlinewidth\":0,\"ticks\":\"\"}},\"type\":\"scatter3d\"}],\"scattercarpet\":[{\"marker\":{\"colorbar\":{\"outlinewidth\":0,\"ticks\":\"\"}},\"type\":\"scattercarpet\"}],\"scattergeo\":[{\"marker\":{\"colorbar\":{\"outlinewidth\":0,\"ticks\":\"\"}},\"type\":\"scattergeo\"}],\"scattergl\":[{\"marker\":{\"colorbar\":{\"outlinewidth\":0,\"ticks\":\"\"}},\"type\":\"scattergl\"}],\"scattermapbox\":[{\"marker\":{\"colorbar\":{\"outlinewidth\":0,\"ticks\":\"\"}},\"type\":\"scattermapbox\"}],\"scatterpolar\":[{\"marker\":{\"colorbar\":{\"outlinewidth\":0,\"ticks\":\"\"}},\"type\":\"scatterpolar\"}],\"scatterpolargl\":[{\"marker\":{\"colorbar\":{\"outlinewidth\":0,\"ticks\":\"\"}},\"type\":\"scatterpolargl\"}],\"scatterternary\":[{\"marker\":{\"colorbar\":{\"outlinewidth\":0,\"ticks\":\"\"}},\"type\":\"scatterternary\"}],\"surface\":[{\"colorbar\":{\"outlinewidth\":0,\"ticks\":\"\"},\"colorscale\":[[0.0,\"#0d0887\"],[0.1111111111111111,\"#46039f\"],[0.2222222222222222,\"#7201a8\"],[0.3333333333333333,\"#9c179e\"],[0.4444444444444444,\"#bd3786\"],[0.5555555555555556,\"#d8576b\"],[0.6666666666666666,\"#ed7953\"],[0.7777777777777778,\"#fb9f3a\"],[0.8888888888888888,\"#fdca26\"],[1.0,\"#f0f921\"]],\"type\":\"surface\"}],\"table\":[{\"cells\":{\"fill\":{\"color\":\"#EBF0F8\"},\"line\":{\"color\":\"white\"}},\"header\":{\"fill\":{\"color\":\"#C8D4E3\"},\"line\":{\"color\":\"white\"}},\"type\":\"table\"}]},\"layout\":{\"annotationdefaults\":{\"arrowcolor\":\"#2a3f5f\",\"arrowhead\":0,\"arrowwidth\":1},\"autotypenumbers\":\"strict\",\"coloraxis\":{\"colorbar\":{\"outlinewidth\":0,\"ticks\":\"\"}},\"colorscale\":{\"diverging\":[[0,\"#8e0152\"],[0.1,\"#c51b7d\"],[0.2,\"#de77ae\"],[0.3,\"#f1b6da\"],[0.4,\"#fde0ef\"],[0.5,\"#f7f7f7\"],[0.6,\"#e6f5d0\"],[0.7,\"#b8e186\"],[0.8,\"#7fbc41\"],[0.9,\"#4d9221\"],[1,\"#276419\"]],\"sequential\":[[0.0,\"#0d0887\"],[0.1111111111111111,\"#46039f\"],[0.2222222222222222,\"#7201a8\"],[0.3333333333333333,\"#9c179e\"],[0.4444444444444444,\"#bd3786\"],[0.5555555555555556,\"#d8576b\"],[0.6666666666666666,\"#ed7953\"],[0.7777777777777778,\"#fb9f3a\"],[0.8888888888888888,\"#fdca26\"],[1.0,\"#f0f921\"]],\"sequentialminus\":[[0.0,\"#0d0887\"],[0.1111111111111111,\"#46039f\"],[0.2222222222222222,\"#7201a8\"],[0.3333333333333333,\"#9c179e\"],[0.4444444444444444,\"#bd3786\"],[0.5555555555555556,\"#d8576b\"],[0.6666666666666666,\"#ed7953\"],[0.7777777777777778,\"#fb9f3a\"],[0.8888888888888888,\"#fdca26\"],[1.0,\"#f0f921\"]]},\"colorway\":[\"#636efa\",\"#EF553B\",\"#00cc96\",\"#ab63fa\",\"#FFA15A\",\"#19d3f3\",\"#FF6692\",\"#B6E880\",\"#FF97FF\",\"#FECB52\"],\"font\":{\"color\":\"#2a3f5f\"},\"geo\":{\"bgcolor\":\"white\",\"lakecolor\":\"white\",\"landcolor\":\"#E5ECF6\",\"showlakes\":true,\"showland\":true,\"subunitcolor\":\"white\"},\"hoverlabel\":{\"align\":\"left\"},\"hovermode\":\"closest\",\"mapbox\":{\"style\":\"light\"},\"paper_bgcolor\":\"white\",\"plot_bgcolor\":\"#E5ECF6\",\"polar\":{\"angularaxis\":{\"gridcolor\":\"white\",\"linecolor\":\"white\",\"ticks\":\"\"},\"bgcolor\":\"#E5ECF6\",\"radialaxis\":{\"gridcolor\":\"white\",\"linecolor\":\"white\",\"ticks\":\"\"}},\"scene\":{\"xaxis\":{\"backgroundcolor\":\"#E5ECF6\",\"gridcolor\":\"white\",\"gridwidth\":2,\"linecolor\":\"white\",\"showbackground\":true,\"ticks\":\"\",\"zerolinecolor\":\"white\"},\"yaxis\":{\"backgroundcolor\":\"#E5ECF6\",\"gridcolor\":\"white\",\"gridwidth\":2,\"linecolor\":\"white\",\"showbackground\":true,\"ticks\":\"\",\"zerolinecolor\":\"white\"},\"zaxis\":{\"backgroundcolor\":\"#E5ECF6\",\"gridcolor\":\"white\",\"gridwidth\":2,\"linecolor\":\"white\",\"showbackground\":true,\"ticks\":\"\",\"zerolinecolor\":\"white\"}},\"shapedefaults\":{\"line\":{\"color\":\"#2a3f5f\"}},\"ternary\":{\"aaxis\":{\"gridcolor\":\"white\",\"linecolor\":\"white\",\"ticks\":\"\"},\"baxis\":{\"gridcolor\":\"white\",\"linecolor\":\"white\",\"ticks\":\"\"},\"bgcolor\":\"#E5ECF6\",\"caxis\":{\"gridcolor\":\"white\",\"linecolor\":\"white\",\"ticks\":\"\"}},\"title\":{\"x\":0.05},\"xaxis\":{\"automargin\":true,\"gridcolor\":\"white\",\"linecolor\":\"white\",\"ticks\":\"\",\"title\":{\"standoff\":15},\"zerolinecolor\":\"white\",\"zerolinewidth\":2},\"yaxis\":{\"automargin\":true,\"gridcolor\":\"white\",\"linecolor\":\"white\",\"ticks\":\"\",\"title\":{\"standoff\":15},\"zerolinecolor\":\"white\",\"zerolinewidth\":2}}},\"mapbox\":{\"domain\":{\"x\":[0.0,1.0],\"y\":[0.0,1.0]},\"center\":{\"lat\":-5.9715375900268555,\"lon\":37.562110900878906},\"zoom\":3,\"style\":\"open-street-map\"},\"legend\":{\"tracegroupgap\":0},\"margin\":{\"t\":60}},                        {\"responsive\": true}                    ).then(function(){\n",
       "                            \n",
       "var gd = document.getElementById('7d14bbee-b7fc-45fe-87de-2f430daf0669');\n",
       "var x = new MutationObserver(function (mutations, observer) {{\n",
       "        var display = window.getComputedStyle(gd).display;\n",
       "        if (!display || display === 'none') {{\n",
       "            console.log([gd, 'removed!']);\n",
       "            Plotly.purge(gd);\n",
       "            observer.disconnect();\n",
       "        }}\n",
       "}});\n",
       "\n",
       "// Listen for the removal of the full notebook cells\n",
       "var notebookContainer = gd.closest('#notebook-container');\n",
       "if (notebookContainer) {{\n",
       "    x.observe(notebookContainer, {childList: true});\n",
       "}}\n",
       "\n",
       "// Listen for the clearing of the current output cell\n",
       "var outputEl = gd.closest('.output');\n",
       "if (outputEl) {{\n",
       "    x.observe(outputEl, {childList: true});\n",
       "}}\n",
       "\n",
       "                        })                };                });            </script>        </div>"
      ]
     },
     "metadata": {},
     "output_type": "display_data"
    }
   ],
   "source": [
    "fig = px.scatter_mapbox(wv2_geos.iloc[0:2,:], lat=\"lat_modified\", lon=\"lon_modified\",size_max=30, zoom=3)\n",
    "fig.update_layout(mapbox_style=\"open-street-map\")\n",
    "fig.show()"
   ]
  },
  {
   "cell_type": "code",
   "execution_count": 19,
   "id": "5c0f7ee7",
   "metadata": {},
   "outputs": [],
   "source": [
    "# keep only the enumeration areas from the first wave\n",
    "# get the original coordinates for each clusterid\n",
    "clusterid_lat_dict = dict(zip(wv1_geos['clusterid'],wv1_geos['lat_modified']))\n",
    "clusterid_lon_dict = dict(zip(wv1_geos['clusterid'],wv1_geos['lon_modified']))\n",
    "\n",
    "wv2_geos['lat_modified'] = [clusterid_lat_dict[i] for i in list(wv2_geos['clusterid'])]\n",
    "wv2_geos['lon_modified'] = [clusterid_lon_dict[i] for i in list(wv2_geos['clusterid'])]\n",
    "wv2_geos = wv2_geos.loc[~wv2_geos.duplicated(keep = 'first'),:]"
   ]
  },
  {
   "cell_type": "code",
   "execution_count": 20,
   "id": "520a00d8",
   "metadata": {},
   "outputs": [
    {
     "data": {
      "text/html": [
       "<div>\n",
       "<style scoped>\n",
       "    .dataframe tbody tr th:only-of-type {\n",
       "        vertical-align: middle;\n",
       "    }\n",
       "\n",
       "    .dataframe tbody tr th {\n",
       "        vertical-align: top;\n",
       "    }\n",
       "\n",
       "    .dataframe thead th {\n",
       "        text-align: right;\n",
       "    }\n",
       "</style>\n",
       "<table border=\"1\" class=\"dataframe\">\n",
       "  <thead>\n",
       "    <tr style=\"text-align: right;\">\n",
       "      <th></th>\n",
       "      <th>lat_modified</th>\n",
       "      <th>lon_modified</th>\n",
       "      <th>clusterid</th>\n",
       "      <th>round</th>\n",
       "    </tr>\n",
       "  </thead>\n",
       "  <tbody>\n",
       "    <tr>\n",
       "      <th>0</th>\n",
       "      <td>-5.08575</td>\n",
       "      <td>35.854389</td>\n",
       "      <td>1114002</td>\n",
       "      <td>2</td>\n",
       "    </tr>\n",
       "    <tr>\n",
       "      <th>72</th>\n",
       "      <td>-6.45662</td>\n",
       "      <td>36.722858</td>\n",
       "      <td>1203003</td>\n",
       "      <td>2</td>\n",
       "    </tr>\n",
       "    <tr>\n",
       "      <th>144</th>\n",
       "      <td>-6.61401</td>\n",
       "      <td>36.508659</td>\n",
       "      <td>1217003</td>\n",
       "      <td>2</td>\n",
       "    </tr>\n",
       "    <tr>\n",
       "      <th>216</th>\n",
       "      <td>-6.17725</td>\n",
       "      <td>36.475750</td>\n",
       "      <td>1313004</td>\n",
       "      <td>2</td>\n",
       "    </tr>\n",
       "    <tr>\n",
       "      <th>280</th>\n",
       "      <td>-6.22962</td>\n",
       "      <td>36.413330</td>\n",
       "      <td>1313301</td>\n",
       "      <td>2</td>\n",
       "    </tr>\n",
       "    <tr>\n",
       "      <th>...</th>\n",
       "      <td>...</td>\n",
       "      <td>...</td>\n",
       "      <td>...</td>\n",
       "      <td>...</td>\n",
       "    </tr>\n",
       "    <tr>\n",
       "      <th>28144</th>\n",
       "      <td>-5.26196</td>\n",
       "      <td>39.790211</td>\n",
       "      <td>55117023</td>\n",
       "      <td>2</td>\n",
       "    </tr>\n",
       "    <tr>\n",
       "      <th>28216</th>\n",
       "      <td>-5.35541</td>\n",
       "      <td>39.650162</td>\n",
       "      <td>55201005</td>\n",
       "      <td>2</td>\n",
       "    </tr>\n",
       "    <tr>\n",
       "      <th>28304</th>\n",
       "      <td>-5.40396</td>\n",
       "      <td>39.694229</td>\n",
       "      <td>55209022</td>\n",
       "      <td>2</td>\n",
       "    </tr>\n",
       "    <tr>\n",
       "      <th>28360</th>\n",
       "      <td>-5.36837</td>\n",
       "      <td>39.702129</td>\n",
       "      <td>55213303</td>\n",
       "      <td>2</td>\n",
       "    </tr>\n",
       "    <tr>\n",
       "      <th>28424</th>\n",
       "      <td>-5.36753</td>\n",
       "      <td>39.664890</td>\n",
       "      <td>55218021</td>\n",
       "      <td>2</td>\n",
       "    </tr>\n",
       "  </tbody>\n",
       "</table>\n",
       "<p>409 rows × 4 columns</p>\n",
       "</div>"
      ],
      "text/plain": [
       "       lat_modified  lon_modified  clusterid  round\n",
       "0          -5.08575     35.854389    1114002      2\n",
       "72         -6.45662     36.722858    1203003      2\n",
       "144        -6.61401     36.508659    1217003      2\n",
       "216        -6.17725     36.475750    1313004      2\n",
       "280        -6.22962     36.413330    1313301      2\n",
       "...             ...           ...        ...    ...\n",
       "28144      -5.26196     39.790211   55117023      2\n",
       "28216      -5.35541     39.650162   55201005      2\n",
       "28304      -5.40396     39.694229   55209022      2\n",
       "28360      -5.36837     39.702129   55213303      2\n",
       "28424      -5.36753     39.664890   55218021      2\n",
       "\n",
       "[409 rows x 4 columns]"
      ]
     },
     "execution_count": 20,
     "metadata": {},
     "output_type": "execute_result"
    }
   ],
   "source": [
    "wv2_geos"
   ]
  },
  {
   "cell_type": "code",
   "execution_count": 21,
   "id": "2ebc0f17",
   "metadata": {},
   "outputs": [
    {
     "name": "stdout",
     "output_type": "stream",
     "text": [
      "In wave 3, I have  409 enumeration areas\n",
      "In wave 3, I have  1602 different pairs of coordinates\n",
      "The additional pairs of coordinates derive from the splitoff households\n",
      "There have been splitoff households in the second wave, these were revisted in the third round. Thus, these households could also be included in the panel... if I wanted to be very precise. (but few datapoints in that case so does not really make sense)\n"
     ]
    }
   ],
   "source": [
    "# enumeration areas wave 3\n",
    "wv3_geos = pd.merge(tz_wv3[['y3_hhid','lat_dd_mod','lon_dd_mod']], tz_wv3_a[['y3_hhid','clusterid']], on = 'y3_hhid', how = 'left')\n",
    "wv3_geos = wv3_geos.drop(columns = 'y3_hhid')\n",
    "wv3_geos = wv3_geos.rename(columns = {\"lat_dd_mod\":'lat_modified', \"lon_dd_mod\":'lon_modified'})\n",
    "wv3_geos = wv3_geos.loc[~wv3_geos.duplicated(keep = 'first'),:]\n",
    "wv3_geos['round'] = 3\n",
    "print(\"In wave 3, I have \", len(np.unique(wv3_geos['clusterid'])), 'enumeration areas')\n",
    "print(\"In wave 3, I have \", len(wv3_geos), 'different pairs of coordinates')\n",
    "print(\"The additional pairs of coordinates derive from the splitoff households\")\n",
    "print(\"There have been splitoff households in the second wave, these were revisted in the third round.\",\n",
    "     \"Thus, these households could also be included in the panel... if I wanted to be very precise.\",\n",
    "     \"(but few datapoints in that case so does not really make sense)\")"
   ]
  },
  {
   "cell_type": "code",
   "execution_count": 22,
   "id": "9f9fe9f2",
   "metadata": {},
   "outputs": [],
   "source": [
    "wv3_geos['lat_modified'] = [clusterid_lat_dict[i] for i in list(wv3_geos['clusterid'])]\n",
    "wv3_geos['lon_modified'] = [clusterid_lon_dict[i] for i in list(wv3_geos['clusterid'])]\n",
    "wv3_geos = wv3_geos.loc[~wv3_geos.duplicated(keep = 'first'),:]"
   ]
  },
  {
   "cell_type": "code",
   "execution_count": 23,
   "id": "b21de9d4",
   "metadata": {},
   "outputs": [
    {
     "name": "stdout",
     "output_type": "stream",
     "text": [
      "In wave 4, for 12 ennumeration areas there is no GPS info\n",
      "There are in total 56 enumeration areas with GPS info in wave 4\n"
     ]
    }
   ],
   "source": [
    "# enumeration areas wave 4\n",
    "wv4_geos = pd.DataFrame({\"clusterid\": np.unique(tz_wv4['clusterid'])})\n",
    "wv4_geos = pd.merge(wv4_geos,wv1_geos,on='clusterid',how = 'left')\n",
    "wv4_geos['round'] = 4\n",
    "print(\"In wave 4, for\", sum(wv4_geos['lat_modified'].isna()), 'ennumeration areas there is no GPS info')\n",
    "print(\"There are in total\", len(wv4_geos) - sum(wv4_geos['lat_modified'].isna()),\n",
    "      'enumeration areas with GPS info in wave 4')\n",
    "# remove eas without GPS information\n",
    "wv4_geos = wv4_geos.loc[~wv4_geos['lat_modified'].isna(),:]\n"
   ]
  },
  {
   "cell_type": "code",
   "execution_count": 24,
   "id": "6f1eb6db",
   "metadata": {},
   "outputs": [
    {
     "name": "stdout",
     "output_type": "stream",
     "text": [
      "In wave 5, for 12 ennumeration areas there is no GPS info\n",
      "There are in total 56 enumeration areas with GPS info in wave 5\n"
     ]
    }
   ],
   "source": [
    "# enumeration areas in wave 5\n",
    "wv5_clusterid = tz_wv4[['y4_hhid','clusterid']]\n",
    "# the cluster id in wave 5 again follows some other fucking convention (I fucking hate this!)\n",
    "wv5_geos = pd.merge(tz_wv5[['y4_hhid']], wv5_clusterid, on = 'y4_hhid', how = 'left')\n",
    "wv5_geos = wv5_geos.drop(columns = 'y4_hhid')\n",
    "wv5_geos = wv5_geos.loc[~wv5_geos.duplicated(),:]\n",
    "wv5_geos = pd.merge(wv5_geos,wv1_geos,on='clusterid',how = 'left')\n",
    "wv5_geos['round'] = 5\n",
    "print(\"In wave 5, for\", sum(wv5_geos['lat_modified'].isna()), 'ennumeration areas there is no GPS info')\n",
    "print(\"There are in total\", len(wv5_geos) - sum(wv5_geos['lat_modified'].isna()),\n",
    "      'enumeration areas with GPS info in wave 5')\n",
    "# again remove them...\n",
    "wv5_geos = wv5_geos.loc[~wv5_geos['lat_modified'].isna(),:]"
   ]
  },
  {
   "cell_type": "code",
   "execution_count": 25,
   "id": "15b41546",
   "metadata": {},
   "outputs": [],
   "source": [
    "# plot the different enumeration areas...\n",
    "tz_map_data = pd.concat([wv1_geos, wv2_geos, wv3_geos, wv4_geos, wv5_geos], axis = 0)\n",
    "tz_map_data['round'] = tz_map_data['round'].astype('category')\n",
    "round_year_dict = {1:2009, 2:2011, 3: 2013, 4: 2015, 5:2019}\n",
    "tz_map_data['year'] = [round_year_dict[i] for i in tz_map_data['round']]"
   ]
  },
  {
   "cell_type": "code",
   "execution_count": 26,
   "id": "ba6931c9",
   "metadata": {},
   "outputs": [
    {
     "data": {
      "application/vnd.plotly.v1+json": {
       "config": {
        "plotlyServerURL": "https://plot.ly"
       },
       "data": [
        {
         "hovertemplate": "round=1<br>lat_modified=%{lat}<br>lon_modified=%{lon}<extra></extra>",
         "lat": [
          -5.085750102996826,
          -6.456620216369629,
          -6.614009857177734,
          -6.177249908447266,
          -6.229619979858398,
          -6.391560077667236,
          -6.375259876251221,
          -5.953279972076416,
          -5.993730068206787,
          -5.947810173034668,
          -6.058629989624023,
          -3.2043800354003906,
          -2.9963901042938232,
          -3.350909948348999,
          -3.4244000911712646,
          -3.4163401126861572,
          -3.4803199768066406,
          -3.3751299381256104,
          -3.3864200115203857,
          -3.3748600482940674,
          -3.3641300201416016,
          -3.372189998626709,
          -2.141050100326538,
          -3.210510015487671,
          -3.196660041809082,
          -3.1111600399017334,
          -3.0966598987579346,
          -3.640010118484497,
          -3.786530017852783,
          -4.366889953613281,
          -4.341030120849609,
          -3.2631099224090576,
          -3.330019950866699,
          -3.309959888458252,
          -3.2054100036621094,
          -3.310029983520508,
          -3.3254899978637695,
          -4.708360195159912,
          -4.718560218811035,
          -5.0278401374816895,
          -5.1726298332214355,
          -4.98130989074707,
          -5.077310085296631,
          -5.236700057983398,
          -4.994530200958252,
          -5.441850185394287,
          -5.539569854736328,
          -5.7271599769592285,
          -5.6338300704956055,
          -5.422979831695557,
          -5.499770164489746,
          -6.543300151824951,
          -6.327270030975342,
          -6.915550231933594,
          -8.132149696350098,
          -8.103670120239258,
          -8.664190292358398,
          -8.736479759216309,
          -6.821979999542236,
          -6.875410079956055,
          -6.800690174102783,
          -6.741829872131348,
          -6.1839799880981445,
          -5.956399917602539,
          -7.185490131378174,
          -6.441180229187012,
          -6.63100004196167,
          -6.616330146789551,
          -6.929200172424316,
          -7.4239702224731445,
          -8.061220169067383,
          -8.125419616699219,
          -8.050180435180664,
          -6.787290096282959,
          -6.816870212554932,
          -6.797359943389893,
          -6.7861199378967285,
          -6.792109966278076,
          -6.782989978790283,
          -6.798850059509277,
          -6.781469821929932,
          -6.785739898681641,
          -6.796679973602295,
          -6.808710098266602,
          -6.802370071411133,
          -6.81003999710083,
          -6.814509868621826,
          -6.808330059051514,
          -6.806379795074463,
          -6.7948899269104,
          -6.803919792175293,
          -6.799039840698242,
          -6.794869899749756,
          -6.7849202156066895,
          -6.754280090332031,
          -6.729519844055176,
          -6.662439823150635,
          -6.697400093078613,
          -6.666450023651123,
          -6.683899879455566,
          -6.814990043640137,
          -6.7961201667785645,
          -6.798120021820068,
          -6.790060043334961,
          -6.780370235443115,
          -6.775279998779297,
          -6.764120101928711,
          -6.797490119934082,
          -6.790740013122559,
          -6.7893500328063965,
          -6.879039764404297,
          -6.864429950714111,
          -6.91526985168457,
          -6.820559978485107,
          -6.863570213317871,
          -6.8615498542785645,
          -6.838640213012695,
          -6.833040237426758,
          -6.822879791259766,
          -6.836730003356934,
          -6.835000038146973,
          -6.920360088348389,
          -6.862360000610352,
          -6.92326021194458,
          -6.9228901863098145,
          -6.935880184173584,
          -6.832870006561279,
          -6.859389781951904,
          -6.873449802398682,
          -6.866260051727295,
          -6.862500190734863,
          -6.857260227203369,
          -6.856709957122803,
          -6.853400230407715,
          -6.854129791259766,
          -6.876649856567383,
          -6.882150173187256,
          -6.9264397621154785,
          -6.872489929199219,
          -6.884309768676758,
          -6.86322021484375,
          -7.157939910888672,
          -7.0995001792907715,
          -8.576160430908203,
          -8.431659698486328,
          -8.826539993286133,
          -9.106229782104492,
          -8.74722957611084,
          -8.929189682006836,
          -10.23449993133545,
          -10.114319801330566,
          -9.922980308532715,
          -10.58353042602539,
          -9.800979614257812,
          -10.224320411682129,
          -9.595120429992676,
          -9.803609848022461,
          -10.071809768676758,
          -10.238719940185547,
          -10.02511978149414,
          -9.993619918823242,
          -10.049440383911133,
          -10.629850387573242,
          -10.386590003967285,
          -10.39111042022705,
          -10.43340015411377,
          -10.298629760742188,
          -10.13092041015625,
          -10.950550079345703,
          -10.920880317687988,
          -10.930990219116211,
          -10.727789878845215,
          -10.578390121459961,
          -10.833490371704102,
          -10.722169876098633,
          -10.778079986572266,
          -10.567330360412598,
          -10.456999778747559,
          -10.9202299118042,
          -10.783430099487305,
          -10.831609725952148,
          -10.796299934387207,
          -10.28557014465332,
          -10.27433967590332,
          -10.334970474243164,
          -10.311989784240723,
          -10.271320343017578,
          -10.971429824829102,
          -11.026280403137207,
          -11.062239646911621,
          -11.072449684143066,
          -11.011940002441406,
          -11.497010231018066,
          -10.569930076599121,
          -10.60552978515625,
          -10.792059898376465,
          -11.315449714660645,
          -11.170319557189941,
          -11.108790397644043,
          -10.987449645996094,
          -10.566309928894043,
          -10.481610298156738,
          -10.098759651184082,
          -10.548080444335938,
          -7.6761298179626465,
          -7.940420150756836,
          -8.550919532775879,
          -8.402629852294922,
          -8.521160125732422,
          -8.549860000610352,
          -8.976869583129883,
          -9.280349731445312,
          -9.065179824829102,
          -9.822159767150879,
          -10.084230422973633,
          -10.078590393066406,
          -7.744349956512451,
          -7.74167013168335,
          -7.789750099182129,
          -7.513070106506348,
          -7.7874298095703125,
          -8.445560455322266,
          -8.696869850158691,
          -8.425009727478027,
          -9.246479988098145,
          -9.138460159301758,
          -9.427490234375,
          -9.638179779052734,
          -9.159589767456055,
          -9.27083969116211,
          -9.167909622192383,
          -9.479180335998535,
          -9.430410385131836,
          -8.890520095825195,
          -8.886630058288574,
          -9.147040367126465,
          -8.638750076293945,
          -8.910499572753906,
          -8.894960403442383,
          -4.229229927062988,
          -4.401279926300049,
          -5.5665998458862305,
          -5.499929904937744,
          -5.952340126037598,
          -4.80935001373291,
          -4.923980236053467,
          -4.234429836273193,
          -4.3897199630737305,
          -4.144979953765869,
          -4.208549976348877,
          -4.098120212554932,
          -4.556920051574707,
          -4.9651899337768555,
          -4.258150100708008,
          -4.577070236206055,
          -5.628819942474365,
          -6.348589897155762,
          -5.360290050506592,
          -5.040530204772949,
          -5.119639873504639,
          -6.352519989013672,
          -5.537720203399658,
          -6.333280086517334,
          -6.34827995300293,
          -8.724430084228516,
          -7.657279968261719,
          -7.817850112915039,
          -7.539070129394531,
          -7.640230178833008,
          -7.371510028839111,
          -7.942200183868408,
          -3.585279941558838,
          -3.6504199504852295,
          -3.751389980316162,
          -3.7800700664520264,
          -4.077159881591797,
          -4.20028018951416,
          -4.365379810333252,
          -4.636630058288574,
          -4.2989501953125,
          -4.5829901695251465,
          -4.713200092315674,
          -5.117650032043457,
          -6.0159502029418945,
          -2.8970999717712402,
          -3.061429977416992,
          -3.194089889526367,
          -3.7384400367736816,
          -3.2850399017333984,
          -3.261970043182373,
          -3.353800058364868,
          -4.086060047149658,
          -3.776599884033203,
          -3.435689926147461,
          -3.5849099159240723,
          -3.2015600204467773,
          -3.6432900428771973,
          -3.558340072631836,
          -3.6106600761413574,
          -3.710059881210327,
          -3.8376400470733643,
          -1.4985500574111938,
          -1.814229965209961,
          -1.0587799549102783,
          -1.2130099534988403,
          -1.213420033454895,
          -1.3385000228881836,
          -1.6396700143814087,
          -2.057960033416748,
          -1.5709099769592285,
          -3.1514599323272705,
          -2.8861498832702637,
          -2.8295700550079346,
          -2.4912099838256836,
          -1.3356499671936035,
          -1.3394500017166138,
          -2.017009973526001,
          -2.575350046157837,
          -2.628119945526123,
          -2.7310500144958496,
          -2.721719980239868,
          -2.578890085220337,
          -2.519040107727051,
          -6.85768985748291,
          -3.319780111312866,
          -2.371340036392212,
          -2.6306099891662598,
          -2.9002599716186523,
          -3.1686699390411377,
          -2.8096299171447754,
          -2.493269920349121,
          -2.427759885787964,
          -1.324779987335205,
          -1.7065099477767944,
          -1.5640900135040283,
          -1.8992700576782227,
          -2.0334200859069824,
          -1.9322500228881836,
          -1.5111700296401978,
          -4.1898698806762695,
          -4.22553014755249,
          -4.50738000869751,
          -4.0543599128723145,
          -4.336120128631592,
          -3.5745699405670166,
          -3.5502400398254395,
          -3.589859962463379,
          -3.581549882888794,
          -5.47914981842041,
          -5.8798298835754395,
          -5.837709903717041,
          -5.847909927368164,
          -5.83981990814209,
          -5.936039924621582,
          -5.946710109710693,
          -5.977570056915283,
          -5.939410209655762,
          -5.970510005950928,
          -6.096069812774658,
          -6.167119979858398,
          -6.412260055541992,
          -6.442039966583252,
          -6.1072998046875,
          -6.055520057678223,
          -6.190720081329346,
          -6.0391998291015625,
          -6.210770130157471,
          -6.196879863739014,
          -6.209280014038086,
          -6.296040058135986,
          -6.176219940185547,
          -6.166369915008545,
          -6.163119792938232,
          -6.12037992477417,
          -6.096799850463867,
          -6.201930046081543,
          -6.160679817199707,
          -6.161320209503174,
          -6.173749923706055,
          -6.167940139770508,
          -6.1454901695251465,
          -6.158989906311035,
          -6.154139995574951,
          -6.1641998291015625,
          -6.185540199279785,
          -6.171870231628418,
          -6.173530101776123,
          -6.166299819946289,
          -5.05709981918335,
          -5.103390216827393,
          -5.204850196838379,
          -5.145689964294434,
          -5.064050197601318,
          -5.061960220336914,
          -4.937739849090576,
          -5.004109859466553,
          -5.011320114135742,
          -4.963280200958252,
          -5.237249851226807,
          -5.172840118408203,
          -5.242149829864502,
          -5.236599922180176,
          -5.23222017288208,
          -5.261270046234131,
          -5.261960029602051,
          -5.355410099029541,
          -5.403960227966309,
          -5.368370056152344,
          -5.36752986907959
         ],
         "legendgroup": "1",
         "lon": [
          35.85438919067383,
          36.72285842895508,
          36.50865936279297,
          36.47574996948242,
          36.413330078125,
          35.896209716796875,
          35.648250579833984,
          35.244380950927734,
          35.85197830200195,
          35.91746139526367,
          35.52204132080078,
          35.928199768066406,
          36.01396179199219,
          36.89004135131836,
          36.839698791503906,
          36.64162826538086,
          36.70206832885742,
          36.68608093261719,
          36.65679168701172,
          36.67036056518555,
          35.80253982543945,
          35.707210540771484,
          35.74726104736328,
          35.35704040527344,
          37.615379333496094,
          37.596439361572266,
          37.63920974731445,
          37.655879974365234,
          37.71141052246094,
          38.05556106567383,
          37.843849182128906,
          37.576988220214844,
          37.38288116455078,
          37.473690032958984,
          37.1875114440918,
          37.06694030761719,
          37.160099029541016,
          38.645931243896484,
          38.284358978271484,
          38.560970306396484,
          38.471920013427734,
          38.50667190551758,
          38.59897994995117,
          38.699989318847656,
          39.083518981933594,
          38.97126007080078,
          38.86109924316406,
          38.186180114746094,
          38.401588439941406,
          37.98640060424805,
          37.55691909790039,
          37.18170166015625,
          37.00638961791992,
          37.84035110473633,
          36.66838073730469,
          36.50537109375,
          36.720741271972656,
          36.72077178955078,
          37.66123962402344,
          37.59038162231445,
          37.64569091796875,
          37.664459228515625,
          37.71067810058594,
          37.661678314208984,
          37.559810638427734,
          38.901878356933594,
          38.347930908203125,
          38.794960021972656,
          38.72658157348633,
          39.100711822509766,
          39.151248931884766,
          39.21821975708008,
          39.73046875,
          39.268280029296875,
          39.254600524902344,
          39.24053955078125,
          39.250728607177734,
          39.2464714050293,
          39.25127029418945,
          39.25600814819336,
          39.26945877075195,
          39.26776885986328,
          39.27008819580078,
          39.26417922973633,
          39.261470794677734,
          39.2606086730957,
          39.24692153930664,
          39.239959716796875,
          39.24568176269531,
          39.217498779296875,
          39.2369499206543,
          39.227169036865234,
          39.2240104675293,
          39.236358642578125,
          39.07978057861328,
          39.21522903442383,
          39.1832389831543,
          39.19240188598633,
          39.07603073120117,
          39.10887908935547,
          39.200199127197266,
          39.20460891723633,
          39.24747848510742,
          39.20996856689453,
          39.22378158569336,
          39.24372100830078,
          39.25101852416992,
          39.156700134277344,
          39.15375900268555,
          39.27661895751953,
          39.17002868652344,
          39.128868103027344,
          39.16345977783203,
          39.25749969482422,
          39.190250396728516,
          39.201908111572266,
          39.24079895019531,
          39.23551940917969,
          39.226341247558594,
          39.320350646972656,
          39.32583999633789,
          39.324501037597656,
          39.345008850097656,
          39.25529861450195,
          39.25572967529297,
          39.25001907348633,
          39.28047180175781,
          39.25400161743164,
          39.2765007019043,
          39.261680603027344,
          39.249141693115234,
          39.26980972290039,
          39.25339889526367,
          39.26469039916992,
          39.26044845581055,
          39.29458999633789,
          39.27342987060547,
          39.26852035522461,
          39.25865173339844,
          39.24720001220703,
          39.25944900512695,
          39.52511978149414,
          39.437259674072266,
          39.23249816894531,
          38.96337890625,
          38.87871170043945,
          39.56222152709961,
          39.415199279785156,
          39.53435134887695,
          39.28192901611328,
          39.244388580322266,
          39.32835006713867,
          38.02730178833008,
          37.89751052856445,
          37.87675857543945,
          37.403099060058594,
          37.981048583984375,
          38.93770980834961,
          38.92237854003906,
          38.890159606933594,
          39.683231353759766,
          39.702640533447266,
          39.881568908691406,
          39.988861083984375,
          39.834171295166016,
          39.77962875366211,
          39.8851318359375,
          39.996421813964844,
          39.27777099609375,
          39.29269027709961,
          39.40372085571289,
          39.40541076660156,
          39.36463928222656,
          39.38814926147461,
          38.803871154785156,
          38.76734161376953,
          38.92811965942383,
          39.07661819458008,
          38.476280212402344,
          39.11280059814453,
          39.7388801574707,
          39.516998291015625,
          40.19746017456055,
          40.188140869140625,
          40.22397994995117,
          40.1469612121582,
          40.17414093017578,
          37.39884948730469,
          37.36246871948242,
          37.305179595947266,
          37.31924819946289,
          37.26911163330078,
          35.60763168334961,
          35.353458404541016,
          35.48897933959961,
          35.75553894042969,
          34.78630065917969,
          34.9964714050293,
          34.64216995239258,
          34.89339065551758,
          34.61722946166992,
          35.688018798828125,
          35.902950286865234,
          36.321861267089844,
          35.73630905151367,
          35.064781188964844,
          34.839271545410156,
          34.74557876586914,
          35.35015106201172,
          35.33964920043945,
          33.95320129394531,
          34.71855163574219,
          34.793209075927734,
          34.45354080200195,
          34.57978820800781,
          34.65861129760742,
          35.70446014404297,
          35.69744110107422,
          35.67259979248047,
          36.442440032958984,
          33.407371520996094,
          33.146400451660156,
          33.28855895996094,
          33.02091979980469,
          33.35498809814453,
          33.33795166015625,
          33.973899841308594,
          33.96001052856445,
          33.830509185791016,
          33.60054016113281,
          33.54330062866211,
          33.12928009033203,
          33.06618881225586,
          33.0212287902832,
          33.134681701660156,
          32.880210876464844,
          34.331241607666016,
          33.5713996887207,
          33.50244903564453,
          34.427040100097656,
          34.272708892822266,
          34.66801071166992,
          34.97288131713867,
          34.062068939208984,
          34.75408172607422,
          34.7040901184082,
          33.17461013793945,
          33.22706985473633,
          33.9851188659668,
          33.80453109741211,
          33.93003845214844,
          33.438411712646484,
          33.51190185546875,
          32.54365921020508,
          32.155879974365234,
          32.90013122558594,
          33.84669876098633,
          32.71773910522461,
          32.799598693847656,
          32.89585876464844,
          31.290210723876953,
          30.342390060424805,
          31.077539443969727,
          31.069740295410156,
          31.967010498046875,
          31.579439163208008,
          31.775590896606445,
          31.11870002746582,
          31.01597023010254,
          30.625829696655273,
          31.70182991027832,
          30.715730667114258,
          30.66510009765625,
          30.62367057800293,
          30.438400268554688,
          30.260019302368164,
          30.503599166870117,
          30.403459548950195,
          29.839290618896484,
          30.16724967956543,
          30.101490020751953,
          29.766469955444336,
          31.03582000732422,
          29.79322052001953,
          34.13228988647461,
          33.754459381103516,
          33.49076843261719,
          33.165489196777344,
          32.83058166503906,
          32.43804931640625,
          32.427921295166016,
          32.23714828491211,
          32.1561393737793,
          31.83885955810547,
          34.192588806152344,
          34.09928894042969,
          33.396968841552734,
          33.41669845581055,
          33.83102035522461,
          33.94071960449219,
          33.70000076293945,
          31.076730728149414,
          30.943540573120117,
          30.697010040283203,
          31.46394920349121,
          31.66550064086914,
          31.684680938720703,
          31.720800399780273,
          31.45509910583496,
          31.672040939331055,
          31.895750045776367,
          30.786340713500977,
          30.460290908813477,
          30.58424949645996,
          31.822940826416016,
          31.7877197265625,
          32.86827850341797,
          33.03422164916992,
          33.31538009643555,
          33.615970611572266,
          33.78028869628906,
          33.45016860961914,
          33.00679016113281,
          39.177520751953125,
          32.973541259765625,
          32.15793991088867,
          31.96993064880371,
          32.23957824707031,
          31.948259353637695,
          33.00349044799805,
          32.91048049926758,
          32.945411682128906,
          34.3549690246582,
          34.25981903076172,
          34.073760986328125,
          33.40155029296875,
          33.868831634521484,
          33.85459899902344,
          33.77141189575195,
          35.699710845947266,
          35.32476043701172,
          35.237491607666016,
          35.254051208496094,
          36.952518463134766,
          36.938541412353516,
          37.01333999633789,
          36.97372055053711,
          36.96759033203125,
          36.31278991699219,
          39.2422981262207,
          39.220001220703125,
          39.29574966430664,
          39.28683853149414,
          39.22209167480469,
          39.238861083984375,
          39.244598388671875,
          39.24177169799805,
          39.29969024658203,
          39.29520034790039,
          39.437320709228516,
          39.54841995239258,
          39.48952102661133,
          39.218841552734375,
          39.21773147583008,
          39.268150329589844,
          39.30672836303711,
          39.213680267333984,
          39.22026824951172,
          39.209991455078125,
          39.29180145263672,
          39.23212814331055,
          39.23099136352539,
          39.25048828125,
          39.22726058959961,
          39.23535919189453,
          39.20951843261719,
          39.195228576660156,
          39.198001861572266,
          39.201148986816406,
          39.21337890625,
          39.21453857421875,
          39.204368591308594,
          39.21794128417969,
          39.2123908996582,
          39.21664047241211,
          39.2234992980957,
          39.20417022705078,
          39.215248107910156,
          39.729591369628906,
          39.634559631347656,
          39.78947830200195,
          39.798030853271484,
          39.72780990600586,
          39.726409912109375,
          39.773338317871094,
          39.73400115966797,
          39.83066177368164,
          39.83047103881836,
          39.79098129272461,
          39.77880096435547,
          39.82648849487305,
          39.768280029296875,
          39.78031921386719,
          39.820560455322266,
          39.79021072387695,
          39.65016174316406,
          39.69422912597656,
          39.70212936401367,
          39.66489028930664
         ],
         "marker": {
          "color": "#636efa"
         },
         "mode": "markers",
         "name": "1",
         "showlegend": true,
         "subplot": "mapbox",
         "type": "scattermapbox"
        },
        {
         "hovertemplate": "round=2<br>lat_modified=%{lat}<br>lon_modified=%{lon}<extra></extra>",
         "lat": [
          -5.085750102996826,
          -6.456620216369629,
          -6.614009857177734,
          -6.177249908447266,
          -6.229619979858398,
          -6.391560077667236,
          -6.375259876251221,
          -5.953279972076416,
          -5.993730068206787,
          -5.947810173034668,
          -6.058629989624023,
          -3.2043800354003906,
          -2.9963901042938232,
          -3.350909948348999,
          -3.4244000911712646,
          -3.4163401126861572,
          -3.4803199768066406,
          -3.3751299381256104,
          -3.3864200115203857,
          -3.3748600482940674,
          -3.3641300201416016,
          -3.372189998626709,
          -2.141050100326538,
          -3.210510015487671,
          -3.196660041809082,
          -3.1111600399017334,
          -3.0966598987579346,
          -3.640010118484497,
          -3.786530017852783,
          -4.366889953613281,
          -4.341030120849609,
          -3.2631099224090576,
          -3.330019950866699,
          -3.309959888458252,
          -3.2054100036621094,
          -3.310029983520508,
          -3.3254899978637695,
          -4.708360195159912,
          -4.718560218811035,
          -5.0278401374816895,
          -5.1726298332214355,
          -4.98130989074707,
          -5.077310085296631,
          -5.236700057983398,
          -4.994530200958252,
          -5.441850185394287,
          -5.539569854736328,
          -5.7271599769592285,
          -5.6338300704956055,
          -5.422979831695557,
          -5.499770164489746,
          -6.543300151824951,
          -6.327270030975342,
          -6.915550231933594,
          -8.132149696350098,
          -8.103670120239258,
          -8.664190292358398,
          -8.736479759216309,
          -6.821979999542236,
          -6.875410079956055,
          -6.800690174102783,
          -6.741829872131348,
          -6.1839799880981445,
          -5.956399917602539,
          -7.185490131378174,
          -6.441180229187012,
          -6.63100004196167,
          -6.616330146789551,
          -6.929200172424316,
          -7.4239702224731445,
          -8.061220169067383,
          -8.125419616699219,
          -8.050180435180664,
          -6.787290096282959,
          -6.816870212554932,
          -6.797359943389893,
          -6.7861199378967285,
          -6.792109966278076,
          -6.782989978790283,
          -6.798850059509277,
          -6.781469821929932,
          -6.785739898681641,
          -6.796679973602295,
          -6.808710098266602,
          -6.802370071411133,
          -6.81003999710083,
          -6.814509868621826,
          -6.808330059051514,
          -6.806379795074463,
          -6.7948899269104,
          -6.803919792175293,
          -6.799039840698242,
          -6.794869899749756,
          -6.7849202156066895,
          -6.754280090332031,
          -6.729519844055176,
          -6.662439823150635,
          -6.697400093078613,
          -6.666450023651123,
          -6.683899879455566,
          -6.814990043640137,
          -6.7961201667785645,
          -6.798120021820068,
          -6.790060043334961,
          -6.780370235443115,
          -6.775279998779297,
          -6.764120101928711,
          -6.797490119934082,
          -6.790740013122559,
          -6.7893500328063965,
          -6.879039764404297,
          -6.864429950714111,
          -6.91526985168457,
          -6.820559978485107,
          -6.863570213317871,
          -6.8615498542785645,
          -6.838640213012695,
          -6.833040237426758,
          -6.822879791259766,
          -6.836730003356934,
          -6.835000038146973,
          -6.920360088348389,
          -6.862360000610352,
          -6.92326021194458,
          -6.9228901863098145,
          -6.935880184173584,
          -6.832870006561279,
          -6.859389781951904,
          -6.873449802398682,
          -6.866260051727295,
          -6.862500190734863,
          -6.857260227203369,
          -6.856709957122803,
          -6.853400230407715,
          -6.854129791259766,
          -6.876649856567383,
          -6.882150173187256,
          -6.9264397621154785,
          -6.872489929199219,
          -6.884309768676758,
          -6.86322021484375,
          -7.157939910888672,
          -7.0995001792907715,
          -8.576160430908203,
          -8.431659698486328,
          -8.826539993286133,
          -9.106229782104492,
          -8.74722957611084,
          -8.929189682006836,
          -10.23449993133545,
          -10.114319801330566,
          -9.922980308532715,
          -10.58353042602539,
          -9.800979614257812,
          -10.224320411682129,
          -9.595120429992676,
          -9.803609848022461,
          -10.071809768676758,
          -10.238719940185547,
          -10.02511978149414,
          -9.993619918823242,
          -10.049440383911133,
          -10.629850387573242,
          -10.386590003967285,
          -10.39111042022705,
          -10.43340015411377,
          -10.298629760742188,
          -10.13092041015625,
          -10.950550079345703,
          -10.920880317687988,
          -10.930990219116211,
          -10.727789878845215,
          -10.578390121459961,
          -10.833490371704102,
          -10.722169876098633,
          -10.778079986572266,
          -10.567330360412598,
          -10.456999778747559,
          -10.9202299118042,
          -10.783430099487305,
          -10.831609725952148,
          -10.796299934387207,
          -10.28557014465332,
          -10.27433967590332,
          -10.334970474243164,
          -10.311989784240723,
          -10.271320343017578,
          -10.971429824829102,
          -11.026280403137207,
          -11.062239646911621,
          -11.072449684143066,
          -11.011940002441406,
          -11.497010231018066,
          -10.569930076599121,
          -10.60552978515625,
          -10.792059898376465,
          -11.315449714660645,
          -11.170319557189941,
          -11.108790397644043,
          -10.987449645996094,
          -10.566309928894043,
          -10.481610298156738,
          -10.098759651184082,
          -10.548080444335938,
          -7.6761298179626465,
          -7.940420150756836,
          -8.550919532775879,
          -8.402629852294922,
          -8.521160125732422,
          -8.549860000610352,
          -8.976869583129883,
          -9.280349731445312,
          -9.065179824829102,
          -9.822159767150879,
          -10.084230422973633,
          -10.078590393066406,
          -7.744349956512451,
          -7.74167013168335,
          -7.789750099182129,
          -7.513070106506348,
          -7.7874298095703125,
          -8.445560455322266,
          -8.696869850158691,
          -8.425009727478027,
          -9.246479988098145,
          -9.138460159301758,
          -9.427490234375,
          -9.638179779052734,
          -9.159589767456055,
          -9.27083969116211,
          -9.167909622192383,
          -9.479180335998535,
          -9.430410385131836,
          -8.890520095825195,
          -8.886630058288574,
          -9.147040367126465,
          -8.638750076293945,
          -8.910499572753906,
          -8.894960403442383,
          -4.229229927062988,
          -4.401279926300049,
          -5.5665998458862305,
          -5.499929904937744,
          -5.952340126037598,
          -4.80935001373291,
          -4.923980236053467,
          -4.234429836273193,
          -4.3897199630737305,
          -4.144979953765869,
          -4.208549976348877,
          -4.098120212554932,
          -4.556920051574707,
          -4.9651899337768555,
          -4.258150100708008,
          -4.577070236206055,
          -5.628819942474365,
          -6.348589897155762,
          -5.360290050506592,
          -5.040530204772949,
          -5.119639873504639,
          -6.352519989013672,
          -5.537720203399658,
          -6.333280086517334,
          -6.34827995300293,
          -8.724430084228516,
          -7.657279968261719,
          -7.817850112915039,
          -7.539070129394531,
          -7.640230178833008,
          -7.371510028839111,
          -7.942200183868408,
          -3.585279941558838,
          -3.6504199504852295,
          -3.751389980316162,
          -3.7800700664520264,
          -4.077159881591797,
          -4.20028018951416,
          -4.365379810333252,
          -4.636630058288574,
          -4.2989501953125,
          -4.5829901695251465,
          -4.713200092315674,
          -5.117650032043457,
          -6.0159502029418945,
          -2.8970999717712402,
          -3.061429977416992,
          -3.194089889526367,
          -3.7384400367736816,
          -3.2850399017333984,
          -3.261970043182373,
          -3.353800058364868,
          -4.086060047149658,
          -3.776599884033203,
          -3.435689926147461,
          -3.5849099159240723,
          -3.2015600204467773,
          -3.6432900428771973,
          -3.558340072631836,
          -3.6106600761413574,
          -3.710059881210327,
          -3.8376400470733643,
          -1.4985500574111938,
          -1.814229965209961,
          -1.0587799549102783,
          -1.2130099534988403,
          -1.213420033454895,
          -1.3385000228881836,
          -1.6396700143814087,
          -2.057960033416748,
          -1.5709099769592285,
          -3.1514599323272705,
          -2.8861498832702637,
          -2.8295700550079346,
          -2.4912099838256836,
          -1.3356499671936035,
          -1.3394500017166138,
          -2.017009973526001,
          -2.575350046157837,
          -2.628119945526123,
          -2.7310500144958496,
          -2.721719980239868,
          -2.578890085220337,
          -2.519040107727051,
          -6.85768985748291,
          -3.319780111312866,
          -2.371340036392212,
          -2.6306099891662598,
          -2.9002599716186523,
          -3.1686699390411377,
          -2.8096299171447754,
          -2.493269920349121,
          -2.427759885787964,
          -1.324779987335205,
          -1.7065099477767944,
          -1.5640900135040283,
          -1.8992700576782227,
          -2.0334200859069824,
          -1.9322500228881836,
          -1.5111700296401978,
          -4.1898698806762695,
          -4.22553014755249,
          -4.50738000869751,
          -4.0543599128723145,
          -4.336120128631592,
          -3.5745699405670166,
          -3.5502400398254395,
          -3.589859962463379,
          -3.581549882888794,
          -5.47914981842041,
          -5.8798298835754395,
          -5.837709903717041,
          -5.847909927368164,
          -5.83981990814209,
          -5.936039924621582,
          -5.946710109710693,
          -5.977570056915283,
          -5.939410209655762,
          -5.970510005950928,
          -6.096069812774658,
          -6.167119979858398,
          -6.412260055541992,
          -6.442039966583252,
          -6.1072998046875,
          -6.055520057678223,
          -6.190720081329346,
          -6.0391998291015625,
          -6.210770130157471,
          -6.196879863739014,
          -6.209280014038086,
          -6.296040058135986,
          -6.176219940185547,
          -6.166369915008545,
          -6.163119792938232,
          -6.12037992477417,
          -6.096799850463867,
          -6.201930046081543,
          -6.160679817199707,
          -6.161320209503174,
          -6.173749923706055,
          -6.167940139770508,
          -6.1454901695251465,
          -6.158989906311035,
          -6.154139995574951,
          -6.1641998291015625,
          -6.185540199279785,
          -6.171870231628418,
          -6.173530101776123,
          -6.166299819946289,
          -5.05709981918335,
          -5.103390216827393,
          -5.204850196838379,
          -5.145689964294434,
          -5.064050197601318,
          -5.061960220336914,
          -4.937739849090576,
          -5.004109859466553,
          -5.011320114135742,
          -4.963280200958252,
          -5.237249851226807,
          -5.172840118408203,
          -5.242149829864502,
          -5.236599922180176,
          -5.23222017288208,
          -5.261270046234131,
          -5.261960029602051,
          -5.355410099029541,
          -5.403960227966309,
          -5.368370056152344,
          -5.36752986907959
         ],
         "legendgroup": "2",
         "lon": [
          35.85438919067383,
          36.72285842895508,
          36.50865936279297,
          36.47574996948242,
          36.413330078125,
          35.896209716796875,
          35.648250579833984,
          35.244380950927734,
          35.85197830200195,
          35.91746139526367,
          35.52204132080078,
          35.928199768066406,
          36.01396179199219,
          36.89004135131836,
          36.839698791503906,
          36.64162826538086,
          36.70206832885742,
          36.68608093261719,
          36.65679168701172,
          36.67036056518555,
          35.80253982543945,
          35.707210540771484,
          35.74726104736328,
          35.35704040527344,
          37.615379333496094,
          37.596439361572266,
          37.63920974731445,
          37.655879974365234,
          37.71141052246094,
          38.05556106567383,
          37.843849182128906,
          37.576988220214844,
          37.38288116455078,
          37.473690032958984,
          37.1875114440918,
          37.06694030761719,
          37.160099029541016,
          38.645931243896484,
          38.284358978271484,
          38.560970306396484,
          38.471920013427734,
          38.50667190551758,
          38.59897994995117,
          38.699989318847656,
          39.083518981933594,
          38.97126007080078,
          38.86109924316406,
          38.186180114746094,
          38.401588439941406,
          37.98640060424805,
          37.55691909790039,
          37.18170166015625,
          37.00638961791992,
          37.84035110473633,
          36.66838073730469,
          36.50537109375,
          36.720741271972656,
          36.72077178955078,
          37.66123962402344,
          37.59038162231445,
          37.64569091796875,
          37.664459228515625,
          37.71067810058594,
          37.661678314208984,
          37.559810638427734,
          38.901878356933594,
          38.347930908203125,
          38.794960021972656,
          38.72658157348633,
          39.100711822509766,
          39.151248931884766,
          39.21821975708008,
          39.73046875,
          39.268280029296875,
          39.254600524902344,
          39.24053955078125,
          39.250728607177734,
          39.2464714050293,
          39.25127029418945,
          39.25600814819336,
          39.26945877075195,
          39.26776885986328,
          39.27008819580078,
          39.26417922973633,
          39.261470794677734,
          39.2606086730957,
          39.24692153930664,
          39.239959716796875,
          39.24568176269531,
          39.217498779296875,
          39.2369499206543,
          39.227169036865234,
          39.2240104675293,
          39.236358642578125,
          39.07978057861328,
          39.21522903442383,
          39.1832389831543,
          39.19240188598633,
          39.07603073120117,
          39.10887908935547,
          39.200199127197266,
          39.20460891723633,
          39.24747848510742,
          39.20996856689453,
          39.22378158569336,
          39.24372100830078,
          39.25101852416992,
          39.156700134277344,
          39.15375900268555,
          39.27661895751953,
          39.17002868652344,
          39.128868103027344,
          39.16345977783203,
          39.25749969482422,
          39.190250396728516,
          39.201908111572266,
          39.24079895019531,
          39.23551940917969,
          39.226341247558594,
          39.320350646972656,
          39.32583999633789,
          39.324501037597656,
          39.345008850097656,
          39.25529861450195,
          39.25572967529297,
          39.25001907348633,
          39.28047180175781,
          39.25400161743164,
          39.2765007019043,
          39.261680603027344,
          39.249141693115234,
          39.26980972290039,
          39.25339889526367,
          39.26469039916992,
          39.26044845581055,
          39.29458999633789,
          39.27342987060547,
          39.26852035522461,
          39.25865173339844,
          39.24720001220703,
          39.25944900512695,
          39.52511978149414,
          39.437259674072266,
          39.23249816894531,
          38.96337890625,
          38.87871170043945,
          39.56222152709961,
          39.415199279785156,
          39.53435134887695,
          39.28192901611328,
          39.244388580322266,
          39.32835006713867,
          38.02730178833008,
          37.89751052856445,
          37.87675857543945,
          37.403099060058594,
          37.981048583984375,
          38.93770980834961,
          38.92237854003906,
          38.890159606933594,
          39.683231353759766,
          39.702640533447266,
          39.881568908691406,
          39.988861083984375,
          39.834171295166016,
          39.77962875366211,
          39.8851318359375,
          39.996421813964844,
          39.27777099609375,
          39.29269027709961,
          39.40372085571289,
          39.40541076660156,
          39.36463928222656,
          39.38814926147461,
          38.803871154785156,
          38.76734161376953,
          38.92811965942383,
          39.07661819458008,
          38.476280212402344,
          39.11280059814453,
          39.7388801574707,
          39.516998291015625,
          40.19746017456055,
          40.188140869140625,
          40.22397994995117,
          40.1469612121582,
          40.17414093017578,
          37.39884948730469,
          37.36246871948242,
          37.305179595947266,
          37.31924819946289,
          37.26911163330078,
          35.60763168334961,
          35.353458404541016,
          35.48897933959961,
          35.75553894042969,
          34.78630065917969,
          34.9964714050293,
          34.64216995239258,
          34.89339065551758,
          34.61722946166992,
          35.688018798828125,
          35.902950286865234,
          36.321861267089844,
          35.73630905151367,
          35.064781188964844,
          34.839271545410156,
          34.74557876586914,
          35.35015106201172,
          35.33964920043945,
          33.95320129394531,
          34.71855163574219,
          34.793209075927734,
          34.45354080200195,
          34.57978820800781,
          34.65861129760742,
          35.70446014404297,
          35.69744110107422,
          35.67259979248047,
          36.442440032958984,
          33.407371520996094,
          33.146400451660156,
          33.28855895996094,
          33.02091979980469,
          33.35498809814453,
          33.33795166015625,
          33.973899841308594,
          33.96001052856445,
          33.830509185791016,
          33.60054016113281,
          33.54330062866211,
          33.12928009033203,
          33.06618881225586,
          33.0212287902832,
          33.134681701660156,
          32.880210876464844,
          34.331241607666016,
          33.5713996887207,
          33.50244903564453,
          34.427040100097656,
          34.272708892822266,
          34.66801071166992,
          34.97288131713867,
          34.062068939208984,
          34.75408172607422,
          34.7040901184082,
          33.17461013793945,
          33.22706985473633,
          33.9851188659668,
          33.80453109741211,
          33.93003845214844,
          33.438411712646484,
          33.51190185546875,
          32.54365921020508,
          32.155879974365234,
          32.90013122558594,
          33.84669876098633,
          32.71773910522461,
          32.799598693847656,
          32.89585876464844,
          31.290210723876953,
          30.342390060424805,
          31.077539443969727,
          31.069740295410156,
          31.967010498046875,
          31.579439163208008,
          31.775590896606445,
          31.11870002746582,
          31.01597023010254,
          30.625829696655273,
          31.70182991027832,
          30.715730667114258,
          30.66510009765625,
          30.62367057800293,
          30.438400268554688,
          30.260019302368164,
          30.503599166870117,
          30.403459548950195,
          29.839290618896484,
          30.16724967956543,
          30.101490020751953,
          29.766469955444336,
          31.03582000732422,
          29.79322052001953,
          34.13228988647461,
          33.754459381103516,
          33.49076843261719,
          33.165489196777344,
          32.83058166503906,
          32.43804931640625,
          32.427921295166016,
          32.23714828491211,
          32.1561393737793,
          31.83885955810547,
          34.192588806152344,
          34.09928894042969,
          33.396968841552734,
          33.41669845581055,
          33.83102035522461,
          33.94071960449219,
          33.70000076293945,
          31.076730728149414,
          30.943540573120117,
          30.697010040283203,
          31.46394920349121,
          31.66550064086914,
          31.684680938720703,
          31.720800399780273,
          31.45509910583496,
          31.672040939331055,
          31.895750045776367,
          30.786340713500977,
          30.460290908813477,
          30.58424949645996,
          31.822940826416016,
          31.7877197265625,
          32.86827850341797,
          33.03422164916992,
          33.31538009643555,
          33.615970611572266,
          33.78028869628906,
          33.45016860961914,
          33.00679016113281,
          39.177520751953125,
          32.973541259765625,
          32.15793991088867,
          31.96993064880371,
          32.23957824707031,
          31.948259353637695,
          33.00349044799805,
          32.91048049926758,
          32.945411682128906,
          34.3549690246582,
          34.25981903076172,
          34.073760986328125,
          33.40155029296875,
          33.868831634521484,
          33.85459899902344,
          33.77141189575195,
          35.699710845947266,
          35.32476043701172,
          35.237491607666016,
          35.254051208496094,
          36.952518463134766,
          36.938541412353516,
          37.01333999633789,
          36.97372055053711,
          36.96759033203125,
          36.31278991699219,
          39.2422981262207,
          39.220001220703125,
          39.29574966430664,
          39.28683853149414,
          39.22209167480469,
          39.238861083984375,
          39.244598388671875,
          39.24177169799805,
          39.29969024658203,
          39.29520034790039,
          39.437320709228516,
          39.54841995239258,
          39.48952102661133,
          39.218841552734375,
          39.21773147583008,
          39.268150329589844,
          39.30672836303711,
          39.213680267333984,
          39.22026824951172,
          39.209991455078125,
          39.29180145263672,
          39.23212814331055,
          39.23099136352539,
          39.25048828125,
          39.22726058959961,
          39.23535919189453,
          39.20951843261719,
          39.195228576660156,
          39.198001861572266,
          39.201148986816406,
          39.21337890625,
          39.21453857421875,
          39.204368591308594,
          39.21794128417969,
          39.2123908996582,
          39.21664047241211,
          39.2234992980957,
          39.20417022705078,
          39.215248107910156,
          39.729591369628906,
          39.634559631347656,
          39.78947830200195,
          39.798030853271484,
          39.72780990600586,
          39.726409912109375,
          39.773338317871094,
          39.73400115966797,
          39.83066177368164,
          39.83047103881836,
          39.79098129272461,
          39.77880096435547,
          39.82648849487305,
          39.768280029296875,
          39.78031921386719,
          39.820560455322266,
          39.79021072387695,
          39.65016174316406,
          39.69422912597656,
          39.70212936401367,
          39.66489028930664
         ],
         "marker": {
          "color": "#EF553B"
         },
         "mode": "markers",
         "name": "2",
         "showlegend": true,
         "subplot": "mapbox",
         "type": "scattermapbox"
        },
        {
         "hovertemplate": "round=3<br>lat_modified=%{lat}<br>lon_modified=%{lon}<extra></extra>",
         "lat": [
          -5.085750102996826,
          -6.456620216369629,
          -6.614009857177734,
          -6.177249908447266,
          -6.229619979858398,
          -6.391560077667236,
          -6.375259876251221,
          -5.953279972076416,
          -5.993730068206787,
          -5.947810173034668,
          -6.058629989624023,
          -3.2043800354003906,
          -2.9963901042938232,
          -3.350909948348999,
          -3.4244000911712646,
          -3.4163401126861572,
          -3.4803199768066406,
          -3.3751299381256104,
          -3.3864200115203857,
          -3.3748600482940674,
          -3.3641300201416016,
          -3.372189998626709,
          -2.141050100326538,
          -3.210510015487671,
          -3.196660041809082,
          -3.1111600399017334,
          -3.0966598987579346,
          -3.640010118484497,
          -3.786530017852783,
          -4.366889953613281,
          -4.341030120849609,
          -3.2631099224090576,
          -3.330019950866699,
          -3.309959888458252,
          -3.2054100036621094,
          -3.310029983520508,
          -3.3254899978637695,
          -4.708360195159912,
          -4.718560218811035,
          -5.0278401374816895,
          -5.1726298332214355,
          -4.98130989074707,
          -5.077310085296631,
          -5.236700057983398,
          -4.994530200958252,
          -5.441850185394287,
          -5.539569854736328,
          -5.7271599769592285,
          -5.6338300704956055,
          -5.422979831695557,
          -5.499770164489746,
          -6.543300151824951,
          -6.327270030975342,
          -6.915550231933594,
          -8.132149696350098,
          -8.103670120239258,
          -8.664190292358398,
          -8.736479759216309,
          -6.821979999542236,
          -6.875410079956055,
          -6.800690174102783,
          -6.741829872131348,
          -6.1839799880981445,
          -5.956399917602539,
          -7.185490131378174,
          -6.441180229187012,
          -6.63100004196167,
          -6.616330146789551,
          -6.929200172424316,
          -7.4239702224731445,
          -8.061220169067383,
          -8.125419616699219,
          -8.050180435180664,
          -6.787290096282959,
          -6.816870212554932,
          -6.797359943389893,
          -6.7861199378967285,
          -6.792109966278076,
          -6.782989978790283,
          -6.798850059509277,
          -6.781469821929932,
          -6.785739898681641,
          -6.796679973602295,
          -6.808710098266602,
          -6.802370071411133,
          -6.81003999710083,
          -6.814509868621826,
          -6.808330059051514,
          -6.806379795074463,
          -6.7948899269104,
          -6.803919792175293,
          -6.799039840698242,
          -6.794869899749756,
          -6.7849202156066895,
          -6.754280090332031,
          -6.729519844055176,
          -6.662439823150635,
          -6.697400093078613,
          -6.666450023651123,
          -6.683899879455566,
          -6.814990043640137,
          -6.7961201667785645,
          -6.798120021820068,
          -6.790060043334961,
          -6.780370235443115,
          -6.775279998779297,
          -6.764120101928711,
          -6.797490119934082,
          -6.790740013122559,
          -6.7893500328063965,
          -6.879039764404297,
          -6.864429950714111,
          -6.91526985168457,
          -6.820559978485107,
          -6.863570213317871,
          -6.8615498542785645,
          -6.838640213012695,
          -6.833040237426758,
          -6.822879791259766,
          -6.836730003356934,
          -6.835000038146973,
          -6.920360088348389,
          -6.862360000610352,
          -6.92326021194458,
          -6.9228901863098145,
          -6.935880184173584,
          -6.832870006561279,
          -6.859389781951904,
          -6.873449802398682,
          -6.866260051727295,
          -6.862500190734863,
          -6.857260227203369,
          -6.856709957122803,
          -6.853400230407715,
          -6.854129791259766,
          -6.876649856567383,
          -6.882150173187256,
          -6.9264397621154785,
          -6.872489929199219,
          -6.884309768676758,
          -6.86322021484375,
          -7.157939910888672,
          -7.0995001792907715,
          -8.576160430908203,
          -8.431659698486328,
          -8.826539993286133,
          -9.106229782104492,
          -8.74722957611084,
          -8.929189682006836,
          -10.23449993133545,
          -10.114319801330566,
          -9.922980308532715,
          -10.58353042602539,
          -9.800979614257812,
          -10.224320411682129,
          -9.595120429992676,
          -9.803609848022461,
          -10.071809768676758,
          -10.238719940185547,
          -10.02511978149414,
          -9.993619918823242,
          -10.049440383911133,
          -10.629850387573242,
          -10.386590003967285,
          -10.39111042022705,
          -10.43340015411377,
          -10.298629760742188,
          -10.13092041015625,
          -10.950550079345703,
          -10.920880317687988,
          -10.930990219116211,
          -10.727789878845215,
          -10.578390121459961,
          -10.833490371704102,
          -10.722169876098633,
          -10.778079986572266,
          -10.567330360412598,
          -10.456999778747559,
          -10.9202299118042,
          -10.783430099487305,
          -10.831609725952148,
          -10.796299934387207,
          -10.28557014465332,
          -10.27433967590332,
          -10.334970474243164,
          -10.311989784240723,
          -10.271320343017578,
          -10.971429824829102,
          -11.026280403137207,
          -11.062239646911621,
          -11.072449684143066,
          -11.011940002441406,
          -11.497010231018066,
          -10.569930076599121,
          -10.60552978515625,
          -10.792059898376465,
          -11.315449714660645,
          -11.170319557189941,
          -11.108790397644043,
          -10.987449645996094,
          -10.566309928894043,
          -10.481610298156738,
          -10.098759651184082,
          -10.548080444335938,
          -7.6761298179626465,
          -7.940420150756836,
          -8.550919532775879,
          -8.402629852294922,
          -8.521160125732422,
          -8.549860000610352,
          -8.976869583129883,
          -9.280349731445312,
          -9.065179824829102,
          -9.822159767150879,
          -10.084230422973633,
          -10.078590393066406,
          -7.744349956512451,
          -7.74167013168335,
          -7.789750099182129,
          -7.513070106506348,
          -7.7874298095703125,
          -8.445560455322266,
          -8.696869850158691,
          -8.425009727478027,
          -9.246479988098145,
          -9.138460159301758,
          -9.427490234375,
          -9.638179779052734,
          -9.159589767456055,
          -9.27083969116211,
          -9.167909622192383,
          -9.479180335998535,
          -9.430410385131836,
          -8.890520095825195,
          -8.886630058288574,
          -9.147040367126465,
          -8.638750076293945,
          -8.910499572753906,
          -8.894960403442383,
          -4.229229927062988,
          -4.401279926300049,
          -5.5665998458862305,
          -5.499929904937744,
          -5.952340126037598,
          -4.80935001373291,
          -4.923980236053467,
          -4.234429836273193,
          -4.3897199630737305,
          -4.144979953765869,
          -4.208549976348877,
          -4.098120212554932,
          -4.556920051574707,
          -4.9651899337768555,
          -4.258150100708008,
          -4.577070236206055,
          -5.628819942474365,
          -6.348589897155762,
          -5.360290050506592,
          -5.040530204772949,
          -5.119639873504639,
          -6.352519989013672,
          -5.537720203399658,
          -6.333280086517334,
          -6.34827995300293,
          -8.724430084228516,
          -7.657279968261719,
          -7.817850112915039,
          -7.539070129394531,
          -7.640230178833008,
          -7.371510028839111,
          -7.942200183868408,
          -3.585279941558838,
          -3.6504199504852295,
          -3.751389980316162,
          -3.7800700664520264,
          -4.077159881591797,
          -4.20028018951416,
          -4.365379810333252,
          -4.636630058288574,
          -4.2989501953125,
          -4.5829901695251465,
          -4.713200092315674,
          -5.117650032043457,
          -6.0159502029418945,
          -2.8970999717712402,
          -3.061429977416992,
          -3.194089889526367,
          -3.7384400367736816,
          -3.2850399017333984,
          -3.261970043182373,
          -3.353800058364868,
          -4.086060047149658,
          -3.776599884033203,
          -3.435689926147461,
          -3.5849099159240723,
          -3.2015600204467773,
          -3.6432900428771973,
          -3.558340072631836,
          -3.6106600761413574,
          -3.710059881210327,
          -3.8376400470733643,
          -1.4985500574111938,
          -1.814229965209961,
          -1.0587799549102783,
          -1.2130099534988403,
          -1.213420033454895,
          -1.3385000228881836,
          -1.6396700143814087,
          -2.057960033416748,
          -1.5709099769592285,
          -3.1514599323272705,
          -2.8861498832702637,
          -2.8295700550079346,
          -2.4912099838256836,
          -1.3356499671936035,
          -1.3394500017166138,
          -2.017009973526001,
          -2.575350046157837,
          -2.628119945526123,
          -2.7310500144958496,
          -2.721719980239868,
          -2.578890085220337,
          -2.519040107727051,
          -6.85768985748291,
          -3.319780111312866,
          -2.371340036392212,
          -2.6306099891662598,
          -2.9002599716186523,
          -3.1686699390411377,
          -2.8096299171447754,
          -2.493269920349121,
          -2.427759885787964,
          -1.324779987335205,
          -1.7065099477767944,
          -1.5640900135040283,
          -1.8992700576782227,
          -2.0334200859069824,
          -1.9322500228881836,
          -1.5111700296401978,
          -4.1898698806762695,
          -4.22553014755249,
          -4.50738000869751,
          -4.0543599128723145,
          -4.336120128631592,
          -3.5745699405670166,
          -3.5502400398254395,
          -3.589859962463379,
          -3.581549882888794,
          -5.47914981842041,
          -5.8798298835754395,
          -5.837709903717041,
          -5.847909927368164,
          -5.83981990814209,
          -5.936039924621582,
          -5.946710109710693,
          -5.977570056915283,
          -5.939410209655762,
          -5.970510005950928,
          -6.096069812774658,
          -6.167119979858398,
          -6.412260055541992,
          -6.442039966583252,
          -6.1072998046875,
          -6.055520057678223,
          -6.190720081329346,
          -6.0391998291015625,
          -6.210770130157471,
          -6.196879863739014,
          -6.209280014038086,
          -6.296040058135986,
          -6.176219940185547,
          -6.166369915008545,
          -6.163119792938232,
          -6.12037992477417,
          -6.096799850463867,
          -6.201930046081543,
          -6.160679817199707,
          -6.161320209503174,
          -6.173749923706055,
          -6.167940139770508,
          -6.1454901695251465,
          -6.158989906311035,
          -6.154139995574951,
          -6.1641998291015625,
          -6.185540199279785,
          -6.171870231628418,
          -6.173530101776123,
          -6.166299819946289,
          -5.05709981918335,
          -5.103390216827393,
          -5.204850196838379,
          -5.145689964294434,
          -5.064050197601318,
          -5.061960220336914,
          -4.937739849090576,
          -5.004109859466553,
          -5.011320114135742,
          -4.963280200958252,
          -5.237249851226807,
          -5.172840118408203,
          -5.242149829864502,
          -5.236599922180176,
          -5.23222017288208,
          -5.261270046234131,
          -5.261960029602051,
          -5.355410099029541,
          -5.403960227966309,
          -5.368370056152344,
          -5.36752986907959
         ],
         "legendgroup": "3",
         "lon": [
          35.85438919067383,
          36.72285842895508,
          36.50865936279297,
          36.47574996948242,
          36.413330078125,
          35.896209716796875,
          35.648250579833984,
          35.244380950927734,
          35.85197830200195,
          35.91746139526367,
          35.52204132080078,
          35.928199768066406,
          36.01396179199219,
          36.89004135131836,
          36.839698791503906,
          36.64162826538086,
          36.70206832885742,
          36.68608093261719,
          36.65679168701172,
          36.67036056518555,
          35.80253982543945,
          35.707210540771484,
          35.74726104736328,
          35.35704040527344,
          37.615379333496094,
          37.596439361572266,
          37.63920974731445,
          37.655879974365234,
          37.71141052246094,
          38.05556106567383,
          37.843849182128906,
          37.576988220214844,
          37.38288116455078,
          37.473690032958984,
          37.1875114440918,
          37.06694030761719,
          37.160099029541016,
          38.645931243896484,
          38.284358978271484,
          38.560970306396484,
          38.471920013427734,
          38.50667190551758,
          38.59897994995117,
          38.699989318847656,
          39.083518981933594,
          38.97126007080078,
          38.86109924316406,
          38.186180114746094,
          38.401588439941406,
          37.98640060424805,
          37.55691909790039,
          37.18170166015625,
          37.00638961791992,
          37.84035110473633,
          36.66838073730469,
          36.50537109375,
          36.720741271972656,
          36.72077178955078,
          37.66123962402344,
          37.59038162231445,
          37.64569091796875,
          37.664459228515625,
          37.71067810058594,
          37.661678314208984,
          37.559810638427734,
          38.901878356933594,
          38.347930908203125,
          38.794960021972656,
          38.72658157348633,
          39.100711822509766,
          39.151248931884766,
          39.21821975708008,
          39.73046875,
          39.268280029296875,
          39.254600524902344,
          39.24053955078125,
          39.250728607177734,
          39.2464714050293,
          39.25127029418945,
          39.25600814819336,
          39.26945877075195,
          39.26776885986328,
          39.27008819580078,
          39.26417922973633,
          39.261470794677734,
          39.2606086730957,
          39.24692153930664,
          39.239959716796875,
          39.24568176269531,
          39.217498779296875,
          39.2369499206543,
          39.227169036865234,
          39.2240104675293,
          39.236358642578125,
          39.07978057861328,
          39.21522903442383,
          39.1832389831543,
          39.19240188598633,
          39.07603073120117,
          39.10887908935547,
          39.200199127197266,
          39.20460891723633,
          39.24747848510742,
          39.20996856689453,
          39.22378158569336,
          39.24372100830078,
          39.25101852416992,
          39.156700134277344,
          39.15375900268555,
          39.27661895751953,
          39.17002868652344,
          39.128868103027344,
          39.16345977783203,
          39.25749969482422,
          39.190250396728516,
          39.201908111572266,
          39.24079895019531,
          39.23551940917969,
          39.226341247558594,
          39.320350646972656,
          39.32583999633789,
          39.324501037597656,
          39.345008850097656,
          39.25529861450195,
          39.25572967529297,
          39.25001907348633,
          39.28047180175781,
          39.25400161743164,
          39.2765007019043,
          39.261680603027344,
          39.249141693115234,
          39.26980972290039,
          39.25339889526367,
          39.26469039916992,
          39.26044845581055,
          39.29458999633789,
          39.27342987060547,
          39.26852035522461,
          39.25865173339844,
          39.24720001220703,
          39.25944900512695,
          39.52511978149414,
          39.437259674072266,
          39.23249816894531,
          38.96337890625,
          38.87871170043945,
          39.56222152709961,
          39.415199279785156,
          39.53435134887695,
          39.28192901611328,
          39.244388580322266,
          39.32835006713867,
          38.02730178833008,
          37.89751052856445,
          37.87675857543945,
          37.403099060058594,
          37.981048583984375,
          38.93770980834961,
          38.92237854003906,
          38.890159606933594,
          39.683231353759766,
          39.702640533447266,
          39.881568908691406,
          39.988861083984375,
          39.834171295166016,
          39.77962875366211,
          39.8851318359375,
          39.996421813964844,
          39.27777099609375,
          39.29269027709961,
          39.40372085571289,
          39.40541076660156,
          39.36463928222656,
          39.38814926147461,
          38.803871154785156,
          38.76734161376953,
          38.92811965942383,
          39.07661819458008,
          38.476280212402344,
          39.11280059814453,
          39.7388801574707,
          39.516998291015625,
          40.19746017456055,
          40.188140869140625,
          40.22397994995117,
          40.1469612121582,
          40.17414093017578,
          37.39884948730469,
          37.36246871948242,
          37.305179595947266,
          37.31924819946289,
          37.26911163330078,
          35.60763168334961,
          35.353458404541016,
          35.48897933959961,
          35.75553894042969,
          34.78630065917969,
          34.9964714050293,
          34.64216995239258,
          34.89339065551758,
          34.61722946166992,
          35.688018798828125,
          35.902950286865234,
          36.321861267089844,
          35.73630905151367,
          35.064781188964844,
          34.839271545410156,
          34.74557876586914,
          35.35015106201172,
          35.33964920043945,
          33.95320129394531,
          34.71855163574219,
          34.793209075927734,
          34.45354080200195,
          34.57978820800781,
          34.65861129760742,
          35.70446014404297,
          35.69744110107422,
          35.67259979248047,
          36.442440032958984,
          33.407371520996094,
          33.146400451660156,
          33.28855895996094,
          33.02091979980469,
          33.35498809814453,
          33.33795166015625,
          33.973899841308594,
          33.96001052856445,
          33.830509185791016,
          33.60054016113281,
          33.54330062866211,
          33.12928009033203,
          33.06618881225586,
          33.0212287902832,
          33.134681701660156,
          32.880210876464844,
          34.331241607666016,
          33.5713996887207,
          33.50244903564453,
          34.427040100097656,
          34.272708892822266,
          34.66801071166992,
          34.97288131713867,
          34.062068939208984,
          34.75408172607422,
          34.7040901184082,
          33.17461013793945,
          33.22706985473633,
          33.9851188659668,
          33.80453109741211,
          33.93003845214844,
          33.438411712646484,
          33.51190185546875,
          32.54365921020508,
          32.155879974365234,
          32.90013122558594,
          33.84669876098633,
          32.71773910522461,
          32.799598693847656,
          32.89585876464844,
          31.290210723876953,
          30.342390060424805,
          31.077539443969727,
          31.069740295410156,
          31.967010498046875,
          31.579439163208008,
          31.775590896606445,
          31.11870002746582,
          31.01597023010254,
          30.625829696655273,
          31.70182991027832,
          30.715730667114258,
          30.66510009765625,
          30.62367057800293,
          30.438400268554688,
          30.260019302368164,
          30.503599166870117,
          30.403459548950195,
          29.839290618896484,
          30.16724967956543,
          30.101490020751953,
          29.766469955444336,
          31.03582000732422,
          29.79322052001953,
          34.13228988647461,
          33.754459381103516,
          33.49076843261719,
          33.165489196777344,
          32.83058166503906,
          32.43804931640625,
          32.427921295166016,
          32.23714828491211,
          32.1561393737793,
          31.83885955810547,
          34.192588806152344,
          34.09928894042969,
          33.396968841552734,
          33.41669845581055,
          33.83102035522461,
          33.94071960449219,
          33.70000076293945,
          31.076730728149414,
          30.943540573120117,
          30.697010040283203,
          31.46394920349121,
          31.66550064086914,
          31.684680938720703,
          31.720800399780273,
          31.45509910583496,
          31.672040939331055,
          31.895750045776367,
          30.786340713500977,
          30.460290908813477,
          30.58424949645996,
          31.822940826416016,
          31.7877197265625,
          32.86827850341797,
          33.03422164916992,
          33.31538009643555,
          33.615970611572266,
          33.78028869628906,
          33.45016860961914,
          33.00679016113281,
          39.177520751953125,
          32.973541259765625,
          32.15793991088867,
          31.96993064880371,
          32.23957824707031,
          31.948259353637695,
          33.00349044799805,
          32.91048049926758,
          32.945411682128906,
          34.3549690246582,
          34.25981903076172,
          34.073760986328125,
          33.40155029296875,
          33.868831634521484,
          33.85459899902344,
          33.77141189575195,
          35.699710845947266,
          35.32476043701172,
          35.237491607666016,
          35.254051208496094,
          36.952518463134766,
          36.938541412353516,
          37.01333999633789,
          36.97372055053711,
          36.96759033203125,
          36.31278991699219,
          39.2422981262207,
          39.220001220703125,
          39.29574966430664,
          39.28683853149414,
          39.22209167480469,
          39.238861083984375,
          39.244598388671875,
          39.24177169799805,
          39.29969024658203,
          39.29520034790039,
          39.437320709228516,
          39.54841995239258,
          39.48952102661133,
          39.218841552734375,
          39.21773147583008,
          39.268150329589844,
          39.30672836303711,
          39.213680267333984,
          39.22026824951172,
          39.209991455078125,
          39.29180145263672,
          39.23212814331055,
          39.23099136352539,
          39.25048828125,
          39.22726058959961,
          39.23535919189453,
          39.20951843261719,
          39.195228576660156,
          39.198001861572266,
          39.201148986816406,
          39.21337890625,
          39.21453857421875,
          39.204368591308594,
          39.21794128417969,
          39.2123908996582,
          39.21664047241211,
          39.2234992980957,
          39.20417022705078,
          39.215248107910156,
          39.729591369628906,
          39.634559631347656,
          39.78947830200195,
          39.798030853271484,
          39.72780990600586,
          39.726409912109375,
          39.773338317871094,
          39.73400115966797,
          39.83066177368164,
          39.83047103881836,
          39.79098129272461,
          39.77880096435547,
          39.82648849487305,
          39.768280029296875,
          39.78031921386719,
          39.820560455322266,
          39.79021072387695,
          39.65016174316406,
          39.69422912597656,
          39.70212936401367,
          39.66489028930664
         ],
         "marker": {
          "color": "#00cc96"
         },
         "mode": "markers",
         "name": "3",
         "showlegend": true,
         "subplot": "mapbox",
         "type": "scattermapbox"
        },
        {
         "hovertemplate": "round=4<br>lat_modified=%{lat}<br>lon_modified=%{lon}<extra></extra>",
         "lat": [
          -5.085750102996826,
          -6.456620216369629,
          -3.4163401126861572,
          -3.3641300201416016,
          -3.1111600399017334,
          -3.786530017852783,
          -4.708360195159912,
          -5.077310085296631,
          -5.422979831695557,
          -8.103670120239258,
          -6.800690174102783,
          -7.185490131378174,
          -6.441180229187012,
          -6.7861199378967285,
          -6.785739898681641,
          -6.814509868621826,
          -6.799039840698242,
          -6.662439823150635,
          -6.798120021820068,
          -6.797490119934082,
          -6.863570213317871,
          -6.833040237426758,
          -6.9228901863098145,
          -6.866260051727295,
          -6.882150173187256,
          -6.884309768676758,
          -8.576160430908203,
          -10.58353042602539,
          -10.049440383911133,
          -10.920880317687988,
          -10.930990219116211,
          -10.722169876098633,
          -10.783430099487305,
          -10.60552978515625,
          -10.792059898376465,
          -10.566309928894043,
          -8.521160125732422,
          -7.744349956512451,
          -7.74167013168335,
          -9.246479988098145,
          -9.138460159301758,
          -4.229229927062988,
          -4.401279926300049,
          -4.258150100708008,
          -5.040530204772949,
          -6.352519989013672,
          -7.539070129394531,
          -7.371510028839111,
          -4.20028018951416,
          -2.057960033416748,
          -2.578890085220337,
          -1.8992700576782227,
          -5.847909927368164,
          -6.185540199279785,
          -5.061960220336914,
          -4.963280200958252
         ],
         "legendgroup": "4",
         "lon": [
          35.85438919067383,
          36.72285842895508,
          36.64162826538086,
          35.80253982543945,
          37.596439361572266,
          37.71141052246094,
          38.645931243896484,
          38.59897994995117,
          37.98640060424805,
          36.50537109375,
          37.64569091796875,
          37.559810638427734,
          38.901878356933594,
          39.250728607177734,
          39.26776885986328,
          39.24692153930664,
          39.227169036865234,
          39.1832389831543,
          39.24747848510742,
          39.156700134277344,
          39.190250396728516,
          39.23551940917969,
          39.25572967529297,
          39.261680603027344,
          39.27342987060547,
          39.24720001220703,
          39.23249816894531,
          38.02730178833008,
          39.702640533447266,
          39.29269027709961,
          39.40372085571289,
          38.803871154785156,
          39.11280059814453,
          35.48897933959961,
          35.75553894042969,
          34.61722946166992,
          35.35015106201172,
          35.70446014404297,
          35.69744110107422,
          33.35498809814453,
          33.33795166015625,
          34.427040100097656,
          34.272708892822266,
          32.54365921020508,
          32.799598693847656,
          31.290210723876953,
          31.11870002746582,
          30.625829696655273,
          30.503599166870117,
          31.45509910583496,
          33.45016860961914,
          33.40155029296875,
          39.29574966430664,
          39.21664047241211,
          39.726409912109375,
          39.83047103881836
         ],
         "marker": {
          "color": "#ab63fa"
         },
         "mode": "markers",
         "name": "4",
         "showlegend": true,
         "subplot": "mapbox",
         "type": "scattermapbox"
        },
        {
         "hovertemplate": "round=5<br>lat_modified=%{lat}<br>lon_modified=%{lon}<extra></extra>",
         "lat": [
          -5.085750102996826,
          -6.456620216369629,
          -3.4163401126861572,
          -3.3641300201416016,
          -3.1111600399017334,
          -3.786530017852783,
          -4.708360195159912,
          -5.077310085296631,
          -5.422979831695557,
          -8.103670120239258,
          -6.800690174102783,
          -7.185490131378174,
          -6.441180229187012,
          -6.7861199378967285,
          -6.785739898681641,
          -6.814509868621826,
          -6.799039840698242,
          -6.662439823150635,
          -6.798120021820068,
          -6.797490119934082,
          -6.863570213317871,
          -6.833040237426758,
          -6.9228901863098145,
          -6.866260051727295,
          -6.882150173187256,
          -6.884309768676758,
          -8.576160430908203,
          -10.58353042602539,
          -10.049440383911133,
          -10.920880317687988,
          -10.930990219116211,
          -10.722169876098633,
          -10.783430099487305,
          -10.60552978515625,
          -10.792059898376465,
          -10.566309928894043,
          -8.521160125732422,
          -7.744349956512451,
          -7.74167013168335,
          -9.246479988098145,
          -9.138460159301758,
          -4.229229927062988,
          -4.401279926300049,
          -4.258150100708008,
          -5.040530204772949,
          -6.352519989013672,
          -7.539070129394531,
          -7.371510028839111,
          -4.20028018951416,
          -2.057960033416748,
          -2.578890085220337,
          -1.8992700576782227,
          -5.847909927368164,
          -6.185540199279785,
          -5.061960220336914,
          -4.963280200958252
         ],
         "legendgroup": "5",
         "lon": [
          35.85438919067383,
          36.72285842895508,
          36.64162826538086,
          35.80253982543945,
          37.596439361572266,
          37.71141052246094,
          38.645931243896484,
          38.59897994995117,
          37.98640060424805,
          36.50537109375,
          37.64569091796875,
          37.559810638427734,
          38.901878356933594,
          39.250728607177734,
          39.26776885986328,
          39.24692153930664,
          39.227169036865234,
          39.1832389831543,
          39.24747848510742,
          39.156700134277344,
          39.190250396728516,
          39.23551940917969,
          39.25572967529297,
          39.261680603027344,
          39.27342987060547,
          39.24720001220703,
          39.23249816894531,
          38.02730178833008,
          39.702640533447266,
          39.29269027709961,
          39.40372085571289,
          38.803871154785156,
          39.11280059814453,
          35.48897933959961,
          35.75553894042969,
          34.61722946166992,
          35.35015106201172,
          35.70446014404297,
          35.69744110107422,
          33.35498809814453,
          33.33795166015625,
          34.427040100097656,
          34.272708892822266,
          32.54365921020508,
          32.799598693847656,
          31.290210723876953,
          31.11870002746582,
          30.625829696655273,
          30.503599166870117,
          31.45509910583496,
          33.45016860961914,
          33.40155029296875,
          39.29574966430664,
          39.21664047241211,
          39.726409912109375,
          39.83047103881836
         ],
         "marker": {
          "color": "#FFA15A"
         },
         "mode": "markers",
         "name": "5",
         "showlegend": true,
         "subplot": "mapbox",
         "type": "scattermapbox"
        }
       ],
       "layout": {
        "legend": {
         "title": {
          "text": "round"
         },
         "tracegroupgap": 0
        },
        "mapbox": {
         "center": {
          "lat": -6.33692537331599,
          "lon": 36.66332402845387
         },
         "domain": {
          "x": [
           0,
           1
          ],
          "y": [
           0,
           1
          ]
         },
         "style": "open-street-map",
         "zoom": 3
        },
        "margin": {
         "t": 60
        },
        "template": {
         "data": {
          "bar": [
           {
            "error_x": {
             "color": "#2a3f5f"
            },
            "error_y": {
             "color": "#2a3f5f"
            },
            "marker": {
             "line": {
              "color": "#E5ECF6",
              "width": 0.5
             },
             "pattern": {
              "fillmode": "overlay",
              "size": 10,
              "solidity": 0.2
             }
            },
            "type": "bar"
           }
          ],
          "barpolar": [
           {
            "marker": {
             "line": {
              "color": "#E5ECF6",
              "width": 0.5
             },
             "pattern": {
              "fillmode": "overlay",
              "size": 10,
              "solidity": 0.2
             }
            },
            "type": "barpolar"
           }
          ],
          "carpet": [
           {
            "aaxis": {
             "endlinecolor": "#2a3f5f",
             "gridcolor": "white",
             "linecolor": "white",
             "minorgridcolor": "white",
             "startlinecolor": "#2a3f5f"
            },
            "baxis": {
             "endlinecolor": "#2a3f5f",
             "gridcolor": "white",
             "linecolor": "white",
             "minorgridcolor": "white",
             "startlinecolor": "#2a3f5f"
            },
            "type": "carpet"
           }
          ],
          "choropleth": [
           {
            "colorbar": {
             "outlinewidth": 0,
             "ticks": ""
            },
            "type": "choropleth"
           }
          ],
          "contour": [
           {
            "colorbar": {
             "outlinewidth": 0,
             "ticks": ""
            },
            "colorscale": [
             [
              0,
              "#0d0887"
             ],
             [
              0.1111111111111111,
              "#46039f"
             ],
             [
              0.2222222222222222,
              "#7201a8"
             ],
             [
              0.3333333333333333,
              "#9c179e"
             ],
             [
              0.4444444444444444,
              "#bd3786"
             ],
             [
              0.5555555555555556,
              "#d8576b"
             ],
             [
              0.6666666666666666,
              "#ed7953"
             ],
             [
              0.7777777777777778,
              "#fb9f3a"
             ],
             [
              0.8888888888888888,
              "#fdca26"
             ],
             [
              1,
              "#f0f921"
             ]
            ],
            "type": "contour"
           }
          ],
          "contourcarpet": [
           {
            "colorbar": {
             "outlinewidth": 0,
             "ticks": ""
            },
            "type": "contourcarpet"
           }
          ],
          "heatmap": [
           {
            "colorbar": {
             "outlinewidth": 0,
             "ticks": ""
            },
            "colorscale": [
             [
              0,
              "#0d0887"
             ],
             [
              0.1111111111111111,
              "#46039f"
             ],
             [
              0.2222222222222222,
              "#7201a8"
             ],
             [
              0.3333333333333333,
              "#9c179e"
             ],
             [
              0.4444444444444444,
              "#bd3786"
             ],
             [
              0.5555555555555556,
              "#d8576b"
             ],
             [
              0.6666666666666666,
              "#ed7953"
             ],
             [
              0.7777777777777778,
              "#fb9f3a"
             ],
             [
              0.8888888888888888,
              "#fdca26"
             ],
             [
              1,
              "#f0f921"
             ]
            ],
            "type": "heatmap"
           }
          ],
          "heatmapgl": [
           {
            "colorbar": {
             "outlinewidth": 0,
             "ticks": ""
            },
            "colorscale": [
             [
              0,
              "#0d0887"
             ],
             [
              0.1111111111111111,
              "#46039f"
             ],
             [
              0.2222222222222222,
              "#7201a8"
             ],
             [
              0.3333333333333333,
              "#9c179e"
             ],
             [
              0.4444444444444444,
              "#bd3786"
             ],
             [
              0.5555555555555556,
              "#d8576b"
             ],
             [
              0.6666666666666666,
              "#ed7953"
             ],
             [
              0.7777777777777778,
              "#fb9f3a"
             ],
             [
              0.8888888888888888,
              "#fdca26"
             ],
             [
              1,
              "#f0f921"
             ]
            ],
            "type": "heatmapgl"
           }
          ],
          "histogram": [
           {
            "marker": {
             "pattern": {
              "fillmode": "overlay",
              "size": 10,
              "solidity": 0.2
             }
            },
            "type": "histogram"
           }
          ],
          "histogram2d": [
           {
            "colorbar": {
             "outlinewidth": 0,
             "ticks": ""
            },
            "colorscale": [
             [
              0,
              "#0d0887"
             ],
             [
              0.1111111111111111,
              "#46039f"
             ],
             [
              0.2222222222222222,
              "#7201a8"
             ],
             [
              0.3333333333333333,
              "#9c179e"
             ],
             [
              0.4444444444444444,
              "#bd3786"
             ],
             [
              0.5555555555555556,
              "#d8576b"
             ],
             [
              0.6666666666666666,
              "#ed7953"
             ],
             [
              0.7777777777777778,
              "#fb9f3a"
             ],
             [
              0.8888888888888888,
              "#fdca26"
             ],
             [
              1,
              "#f0f921"
             ]
            ],
            "type": "histogram2d"
           }
          ],
          "histogram2dcontour": [
           {
            "colorbar": {
             "outlinewidth": 0,
             "ticks": ""
            },
            "colorscale": [
             [
              0,
              "#0d0887"
             ],
             [
              0.1111111111111111,
              "#46039f"
             ],
             [
              0.2222222222222222,
              "#7201a8"
             ],
             [
              0.3333333333333333,
              "#9c179e"
             ],
             [
              0.4444444444444444,
              "#bd3786"
             ],
             [
              0.5555555555555556,
              "#d8576b"
             ],
             [
              0.6666666666666666,
              "#ed7953"
             ],
             [
              0.7777777777777778,
              "#fb9f3a"
             ],
             [
              0.8888888888888888,
              "#fdca26"
             ],
             [
              1,
              "#f0f921"
             ]
            ],
            "type": "histogram2dcontour"
           }
          ],
          "mesh3d": [
           {
            "colorbar": {
             "outlinewidth": 0,
             "ticks": ""
            },
            "type": "mesh3d"
           }
          ],
          "parcoords": [
           {
            "line": {
             "colorbar": {
              "outlinewidth": 0,
              "ticks": ""
             }
            },
            "type": "parcoords"
           }
          ],
          "pie": [
           {
            "automargin": true,
            "type": "pie"
           }
          ],
          "scatter": [
           {
            "marker": {
             "colorbar": {
              "outlinewidth": 0,
              "ticks": ""
             }
            },
            "type": "scatter"
           }
          ],
          "scatter3d": [
           {
            "line": {
             "colorbar": {
              "outlinewidth": 0,
              "ticks": ""
             }
            },
            "marker": {
             "colorbar": {
              "outlinewidth": 0,
              "ticks": ""
             }
            },
            "type": "scatter3d"
           }
          ],
          "scattercarpet": [
           {
            "marker": {
             "colorbar": {
              "outlinewidth": 0,
              "ticks": ""
             }
            },
            "type": "scattercarpet"
           }
          ],
          "scattergeo": [
           {
            "marker": {
             "colorbar": {
              "outlinewidth": 0,
              "ticks": ""
             }
            },
            "type": "scattergeo"
           }
          ],
          "scattergl": [
           {
            "marker": {
             "colorbar": {
              "outlinewidth": 0,
              "ticks": ""
             }
            },
            "type": "scattergl"
           }
          ],
          "scattermapbox": [
           {
            "marker": {
             "colorbar": {
              "outlinewidth": 0,
              "ticks": ""
             }
            },
            "type": "scattermapbox"
           }
          ],
          "scatterpolar": [
           {
            "marker": {
             "colorbar": {
              "outlinewidth": 0,
              "ticks": ""
             }
            },
            "type": "scatterpolar"
           }
          ],
          "scatterpolargl": [
           {
            "marker": {
             "colorbar": {
              "outlinewidth": 0,
              "ticks": ""
             }
            },
            "type": "scatterpolargl"
           }
          ],
          "scatterternary": [
           {
            "marker": {
             "colorbar": {
              "outlinewidth": 0,
              "ticks": ""
             }
            },
            "type": "scatterternary"
           }
          ],
          "surface": [
           {
            "colorbar": {
             "outlinewidth": 0,
             "ticks": ""
            },
            "colorscale": [
             [
              0,
              "#0d0887"
             ],
             [
              0.1111111111111111,
              "#46039f"
             ],
             [
              0.2222222222222222,
              "#7201a8"
             ],
             [
              0.3333333333333333,
              "#9c179e"
             ],
             [
              0.4444444444444444,
              "#bd3786"
             ],
             [
              0.5555555555555556,
              "#d8576b"
             ],
             [
              0.6666666666666666,
              "#ed7953"
             ],
             [
              0.7777777777777778,
              "#fb9f3a"
             ],
             [
              0.8888888888888888,
              "#fdca26"
             ],
             [
              1,
              "#f0f921"
             ]
            ],
            "type": "surface"
           }
          ],
          "table": [
           {
            "cells": {
             "fill": {
              "color": "#EBF0F8"
             },
             "line": {
              "color": "white"
             }
            },
            "header": {
             "fill": {
              "color": "#C8D4E3"
             },
             "line": {
              "color": "white"
             }
            },
            "type": "table"
           }
          ]
         },
         "layout": {
          "annotationdefaults": {
           "arrowcolor": "#2a3f5f",
           "arrowhead": 0,
           "arrowwidth": 1
          },
          "autotypenumbers": "strict",
          "coloraxis": {
           "colorbar": {
            "outlinewidth": 0,
            "ticks": ""
           }
          },
          "colorscale": {
           "diverging": [
            [
             0,
             "#8e0152"
            ],
            [
             0.1,
             "#c51b7d"
            ],
            [
             0.2,
             "#de77ae"
            ],
            [
             0.3,
             "#f1b6da"
            ],
            [
             0.4,
             "#fde0ef"
            ],
            [
             0.5,
             "#f7f7f7"
            ],
            [
             0.6,
             "#e6f5d0"
            ],
            [
             0.7,
             "#b8e186"
            ],
            [
             0.8,
             "#7fbc41"
            ],
            [
             0.9,
             "#4d9221"
            ],
            [
             1,
             "#276419"
            ]
           ],
           "sequential": [
            [
             0,
             "#0d0887"
            ],
            [
             0.1111111111111111,
             "#46039f"
            ],
            [
             0.2222222222222222,
             "#7201a8"
            ],
            [
             0.3333333333333333,
             "#9c179e"
            ],
            [
             0.4444444444444444,
             "#bd3786"
            ],
            [
             0.5555555555555556,
             "#d8576b"
            ],
            [
             0.6666666666666666,
             "#ed7953"
            ],
            [
             0.7777777777777778,
             "#fb9f3a"
            ],
            [
             0.8888888888888888,
             "#fdca26"
            ],
            [
             1,
             "#f0f921"
            ]
           ],
           "sequentialminus": [
            [
             0,
             "#0d0887"
            ],
            [
             0.1111111111111111,
             "#46039f"
            ],
            [
             0.2222222222222222,
             "#7201a8"
            ],
            [
             0.3333333333333333,
             "#9c179e"
            ],
            [
             0.4444444444444444,
             "#bd3786"
            ],
            [
             0.5555555555555556,
             "#d8576b"
            ],
            [
             0.6666666666666666,
             "#ed7953"
            ],
            [
             0.7777777777777778,
             "#fb9f3a"
            ],
            [
             0.8888888888888888,
             "#fdca26"
            ],
            [
             1,
             "#f0f921"
            ]
           ]
          },
          "colorway": [
           "#636efa",
           "#EF553B",
           "#00cc96",
           "#ab63fa",
           "#FFA15A",
           "#19d3f3",
           "#FF6692",
           "#B6E880",
           "#FF97FF",
           "#FECB52"
          ],
          "font": {
           "color": "#2a3f5f"
          },
          "geo": {
           "bgcolor": "white",
           "lakecolor": "white",
           "landcolor": "#E5ECF6",
           "showlakes": true,
           "showland": true,
           "subunitcolor": "white"
          },
          "hoverlabel": {
           "align": "left"
          },
          "hovermode": "closest",
          "mapbox": {
           "style": "light"
          },
          "paper_bgcolor": "white",
          "plot_bgcolor": "#E5ECF6",
          "polar": {
           "angularaxis": {
            "gridcolor": "white",
            "linecolor": "white",
            "ticks": ""
           },
           "bgcolor": "#E5ECF6",
           "radialaxis": {
            "gridcolor": "white",
            "linecolor": "white",
            "ticks": ""
           }
          },
          "scene": {
           "xaxis": {
            "backgroundcolor": "#E5ECF6",
            "gridcolor": "white",
            "gridwidth": 2,
            "linecolor": "white",
            "showbackground": true,
            "ticks": "",
            "zerolinecolor": "white"
           },
           "yaxis": {
            "backgroundcolor": "#E5ECF6",
            "gridcolor": "white",
            "gridwidth": 2,
            "linecolor": "white",
            "showbackground": true,
            "ticks": "",
            "zerolinecolor": "white"
           },
           "zaxis": {
            "backgroundcolor": "#E5ECF6",
            "gridcolor": "white",
            "gridwidth": 2,
            "linecolor": "white",
            "showbackground": true,
            "ticks": "",
            "zerolinecolor": "white"
           }
          },
          "shapedefaults": {
           "line": {
            "color": "#2a3f5f"
           }
          },
          "ternary": {
           "aaxis": {
            "gridcolor": "white",
            "linecolor": "white",
            "ticks": ""
           },
           "baxis": {
            "gridcolor": "white",
            "linecolor": "white",
            "ticks": ""
           },
           "bgcolor": "#E5ECF6",
           "caxis": {
            "gridcolor": "white",
            "linecolor": "white",
            "ticks": ""
           }
          },
          "title": {
           "x": 0.05
          },
          "xaxis": {
           "automargin": true,
           "gridcolor": "white",
           "linecolor": "white",
           "ticks": "",
           "title": {
            "standoff": 15
           },
           "zerolinecolor": "white",
           "zerolinewidth": 2
          },
          "yaxis": {
           "automargin": true,
           "gridcolor": "white",
           "linecolor": "white",
           "ticks": "",
           "title": {
            "standoff": 15
           },
           "zerolinecolor": "white",
           "zerolinewidth": 2
          }
         }
        }
       }
      },
      "text/html": [
       "<div>                            <div id=\"a05870ca-30aa-4cd9-a440-3ffe41860d35\" class=\"plotly-graph-div\" style=\"height:525px; width:100%;\"></div>            <script type=\"text/javascript\">                require([\"plotly\"], function(Plotly) {                    window.PLOTLYENV=window.PLOTLYENV || {};                                    if (document.getElementById(\"a05870ca-30aa-4cd9-a440-3ffe41860d35\")) {                    Plotly.newPlot(                        \"a05870ca-30aa-4cd9-a440-3ffe41860d35\",                        [{\"hovertemplate\":\"round=1<br>lat_modified=%{lat}<br>lon_modified=%{lon}<extra></extra>\",\"lat\":[-5.085750102996826,-6.456620216369629,-6.614009857177734,-6.177249908447266,-6.229619979858398,-6.391560077667236,-6.375259876251221,-5.953279972076416,-5.993730068206787,-5.947810173034668,-6.058629989624023,-3.2043800354003906,-2.9963901042938232,-3.350909948348999,-3.4244000911712646,-3.4163401126861572,-3.4803199768066406,-3.3751299381256104,-3.3864200115203857,-3.3748600482940674,-3.3641300201416016,-3.372189998626709,-2.141050100326538,-3.210510015487671,-3.196660041809082,-3.1111600399017334,-3.0966598987579346,-3.640010118484497,-3.786530017852783,-4.366889953613281,-4.341030120849609,-3.2631099224090576,-3.330019950866699,-3.309959888458252,-3.2054100036621094,-3.310029983520508,-3.3254899978637695,-4.708360195159912,-4.718560218811035,-5.0278401374816895,-5.1726298332214355,-4.98130989074707,-5.077310085296631,-5.236700057983398,-4.994530200958252,-5.441850185394287,-5.539569854736328,-5.7271599769592285,-5.6338300704956055,-5.422979831695557,-5.499770164489746,-6.543300151824951,-6.327270030975342,-6.915550231933594,-8.132149696350098,-8.103670120239258,-8.664190292358398,-8.736479759216309,-6.821979999542236,-6.875410079956055,-6.800690174102783,-6.741829872131348,-6.1839799880981445,-5.956399917602539,-7.185490131378174,-6.441180229187012,-6.63100004196167,-6.616330146789551,-6.929200172424316,-7.4239702224731445,-8.061220169067383,-8.125419616699219,-8.050180435180664,-6.787290096282959,-6.816870212554932,-6.797359943389893,-6.7861199378967285,-6.792109966278076,-6.782989978790283,-6.798850059509277,-6.781469821929932,-6.785739898681641,-6.796679973602295,-6.808710098266602,-6.802370071411133,-6.81003999710083,-6.814509868621826,-6.808330059051514,-6.806379795074463,-6.7948899269104,-6.803919792175293,-6.799039840698242,-6.794869899749756,-6.7849202156066895,-6.754280090332031,-6.729519844055176,-6.662439823150635,-6.697400093078613,-6.666450023651123,-6.683899879455566,-6.814990043640137,-6.7961201667785645,-6.798120021820068,-6.790060043334961,-6.780370235443115,-6.775279998779297,-6.764120101928711,-6.797490119934082,-6.790740013122559,-6.7893500328063965,-6.879039764404297,-6.864429950714111,-6.91526985168457,-6.820559978485107,-6.863570213317871,-6.8615498542785645,-6.838640213012695,-6.833040237426758,-6.822879791259766,-6.836730003356934,-6.835000038146973,-6.920360088348389,-6.862360000610352,-6.92326021194458,-6.9228901863098145,-6.935880184173584,-6.832870006561279,-6.859389781951904,-6.873449802398682,-6.866260051727295,-6.862500190734863,-6.857260227203369,-6.856709957122803,-6.853400230407715,-6.854129791259766,-6.876649856567383,-6.882150173187256,-6.9264397621154785,-6.872489929199219,-6.884309768676758,-6.86322021484375,-7.157939910888672,-7.0995001792907715,-8.576160430908203,-8.431659698486328,-8.826539993286133,-9.106229782104492,-8.74722957611084,-8.929189682006836,-10.23449993133545,-10.114319801330566,-9.922980308532715,-10.58353042602539,-9.800979614257812,-10.224320411682129,-9.595120429992676,-9.803609848022461,-10.071809768676758,-10.238719940185547,-10.02511978149414,-9.993619918823242,-10.049440383911133,-10.629850387573242,-10.386590003967285,-10.39111042022705,-10.43340015411377,-10.298629760742188,-10.13092041015625,-10.950550079345703,-10.920880317687988,-10.930990219116211,-10.727789878845215,-10.578390121459961,-10.833490371704102,-10.722169876098633,-10.778079986572266,-10.567330360412598,-10.456999778747559,-10.9202299118042,-10.783430099487305,-10.831609725952148,-10.796299934387207,-10.28557014465332,-10.27433967590332,-10.334970474243164,-10.311989784240723,-10.271320343017578,-10.971429824829102,-11.026280403137207,-11.062239646911621,-11.072449684143066,-11.011940002441406,-11.497010231018066,-10.569930076599121,-10.60552978515625,-10.792059898376465,-11.315449714660645,-11.170319557189941,-11.108790397644043,-10.987449645996094,-10.566309928894043,-10.481610298156738,-10.098759651184082,-10.548080444335938,-7.6761298179626465,-7.940420150756836,-8.550919532775879,-8.402629852294922,-8.521160125732422,-8.549860000610352,-8.976869583129883,-9.280349731445312,-9.065179824829102,-9.822159767150879,-10.084230422973633,-10.078590393066406,-7.744349956512451,-7.74167013168335,-7.789750099182129,-7.513070106506348,-7.7874298095703125,-8.445560455322266,-8.696869850158691,-8.425009727478027,-9.246479988098145,-9.138460159301758,-9.427490234375,-9.638179779052734,-9.159589767456055,-9.27083969116211,-9.167909622192383,-9.479180335998535,-9.430410385131836,-8.890520095825195,-8.886630058288574,-9.147040367126465,-8.638750076293945,-8.910499572753906,-8.894960403442383,-4.229229927062988,-4.401279926300049,-5.5665998458862305,-5.499929904937744,-5.952340126037598,-4.80935001373291,-4.923980236053467,-4.234429836273193,-4.3897199630737305,-4.144979953765869,-4.208549976348877,-4.098120212554932,-4.556920051574707,-4.9651899337768555,-4.258150100708008,-4.577070236206055,-5.628819942474365,-6.348589897155762,-5.360290050506592,-5.040530204772949,-5.119639873504639,-6.352519989013672,-5.537720203399658,-6.333280086517334,-6.34827995300293,-8.724430084228516,-7.657279968261719,-7.817850112915039,-7.539070129394531,-7.640230178833008,-7.371510028839111,-7.942200183868408,-3.585279941558838,-3.6504199504852295,-3.751389980316162,-3.7800700664520264,-4.077159881591797,-4.20028018951416,-4.365379810333252,-4.636630058288574,-4.2989501953125,-4.5829901695251465,-4.713200092315674,-5.117650032043457,-6.0159502029418945,-2.8970999717712402,-3.061429977416992,-3.194089889526367,-3.7384400367736816,-3.2850399017333984,-3.261970043182373,-3.353800058364868,-4.086060047149658,-3.776599884033203,-3.435689926147461,-3.5849099159240723,-3.2015600204467773,-3.6432900428771973,-3.558340072631836,-3.6106600761413574,-3.710059881210327,-3.8376400470733643,-1.4985500574111938,-1.814229965209961,-1.0587799549102783,-1.2130099534988403,-1.213420033454895,-1.3385000228881836,-1.6396700143814087,-2.057960033416748,-1.5709099769592285,-3.1514599323272705,-2.8861498832702637,-2.8295700550079346,-2.4912099838256836,-1.3356499671936035,-1.3394500017166138,-2.017009973526001,-2.575350046157837,-2.628119945526123,-2.7310500144958496,-2.721719980239868,-2.578890085220337,-2.519040107727051,-6.85768985748291,-3.319780111312866,-2.371340036392212,-2.6306099891662598,-2.9002599716186523,-3.1686699390411377,-2.8096299171447754,-2.493269920349121,-2.427759885787964,-1.324779987335205,-1.7065099477767944,-1.5640900135040283,-1.8992700576782227,-2.0334200859069824,-1.9322500228881836,-1.5111700296401978,-4.1898698806762695,-4.22553014755249,-4.50738000869751,-4.0543599128723145,-4.336120128631592,-3.5745699405670166,-3.5502400398254395,-3.589859962463379,-3.581549882888794,-5.47914981842041,-5.8798298835754395,-5.837709903717041,-5.847909927368164,-5.83981990814209,-5.936039924621582,-5.946710109710693,-5.977570056915283,-5.939410209655762,-5.970510005950928,-6.096069812774658,-6.167119979858398,-6.412260055541992,-6.442039966583252,-6.1072998046875,-6.055520057678223,-6.190720081329346,-6.0391998291015625,-6.210770130157471,-6.196879863739014,-6.209280014038086,-6.296040058135986,-6.176219940185547,-6.166369915008545,-6.163119792938232,-6.12037992477417,-6.096799850463867,-6.201930046081543,-6.160679817199707,-6.161320209503174,-6.173749923706055,-6.167940139770508,-6.1454901695251465,-6.158989906311035,-6.154139995574951,-6.1641998291015625,-6.185540199279785,-6.171870231628418,-6.173530101776123,-6.166299819946289,-5.05709981918335,-5.103390216827393,-5.204850196838379,-5.145689964294434,-5.064050197601318,-5.061960220336914,-4.937739849090576,-5.004109859466553,-5.011320114135742,-4.963280200958252,-5.237249851226807,-5.172840118408203,-5.242149829864502,-5.236599922180176,-5.23222017288208,-5.261270046234131,-5.261960029602051,-5.355410099029541,-5.403960227966309,-5.368370056152344,-5.36752986907959],\"legendgroup\":\"1\",\"lon\":[35.85438919067383,36.72285842895508,36.50865936279297,36.47574996948242,36.413330078125,35.896209716796875,35.648250579833984,35.244380950927734,35.85197830200195,35.91746139526367,35.52204132080078,35.928199768066406,36.01396179199219,36.89004135131836,36.839698791503906,36.64162826538086,36.70206832885742,36.68608093261719,36.65679168701172,36.67036056518555,35.80253982543945,35.707210540771484,35.74726104736328,35.35704040527344,37.615379333496094,37.596439361572266,37.63920974731445,37.655879974365234,37.71141052246094,38.05556106567383,37.843849182128906,37.576988220214844,37.38288116455078,37.473690032958984,37.1875114440918,37.06694030761719,37.160099029541016,38.645931243896484,38.284358978271484,38.560970306396484,38.471920013427734,38.50667190551758,38.59897994995117,38.699989318847656,39.083518981933594,38.97126007080078,38.86109924316406,38.186180114746094,38.401588439941406,37.98640060424805,37.55691909790039,37.18170166015625,37.00638961791992,37.84035110473633,36.66838073730469,36.50537109375,36.720741271972656,36.72077178955078,37.66123962402344,37.59038162231445,37.64569091796875,37.664459228515625,37.71067810058594,37.661678314208984,37.559810638427734,38.901878356933594,38.347930908203125,38.794960021972656,38.72658157348633,39.100711822509766,39.151248931884766,39.21821975708008,39.73046875,39.268280029296875,39.254600524902344,39.24053955078125,39.250728607177734,39.2464714050293,39.25127029418945,39.25600814819336,39.26945877075195,39.26776885986328,39.27008819580078,39.26417922973633,39.261470794677734,39.2606086730957,39.24692153930664,39.239959716796875,39.24568176269531,39.217498779296875,39.2369499206543,39.227169036865234,39.2240104675293,39.236358642578125,39.07978057861328,39.21522903442383,39.1832389831543,39.19240188598633,39.07603073120117,39.10887908935547,39.200199127197266,39.20460891723633,39.24747848510742,39.20996856689453,39.22378158569336,39.24372100830078,39.25101852416992,39.156700134277344,39.15375900268555,39.27661895751953,39.17002868652344,39.128868103027344,39.16345977783203,39.25749969482422,39.190250396728516,39.201908111572266,39.24079895019531,39.23551940917969,39.226341247558594,39.320350646972656,39.32583999633789,39.324501037597656,39.345008850097656,39.25529861450195,39.25572967529297,39.25001907348633,39.28047180175781,39.25400161743164,39.2765007019043,39.261680603027344,39.249141693115234,39.26980972290039,39.25339889526367,39.26469039916992,39.26044845581055,39.29458999633789,39.27342987060547,39.26852035522461,39.25865173339844,39.24720001220703,39.25944900512695,39.52511978149414,39.437259674072266,39.23249816894531,38.96337890625,38.87871170043945,39.56222152709961,39.415199279785156,39.53435134887695,39.28192901611328,39.244388580322266,39.32835006713867,38.02730178833008,37.89751052856445,37.87675857543945,37.403099060058594,37.981048583984375,38.93770980834961,38.92237854003906,38.890159606933594,39.683231353759766,39.702640533447266,39.881568908691406,39.988861083984375,39.834171295166016,39.77962875366211,39.8851318359375,39.996421813964844,39.27777099609375,39.29269027709961,39.40372085571289,39.40541076660156,39.36463928222656,39.38814926147461,38.803871154785156,38.76734161376953,38.92811965942383,39.07661819458008,38.476280212402344,39.11280059814453,39.7388801574707,39.516998291015625,40.19746017456055,40.188140869140625,40.22397994995117,40.1469612121582,40.17414093017578,37.39884948730469,37.36246871948242,37.305179595947266,37.31924819946289,37.26911163330078,35.60763168334961,35.353458404541016,35.48897933959961,35.75553894042969,34.78630065917969,34.9964714050293,34.64216995239258,34.89339065551758,34.61722946166992,35.688018798828125,35.902950286865234,36.321861267089844,35.73630905151367,35.064781188964844,34.839271545410156,34.74557876586914,35.35015106201172,35.33964920043945,33.95320129394531,34.71855163574219,34.793209075927734,34.45354080200195,34.57978820800781,34.65861129760742,35.70446014404297,35.69744110107422,35.67259979248047,36.442440032958984,33.407371520996094,33.146400451660156,33.28855895996094,33.02091979980469,33.35498809814453,33.33795166015625,33.973899841308594,33.96001052856445,33.830509185791016,33.60054016113281,33.54330062866211,33.12928009033203,33.06618881225586,33.0212287902832,33.134681701660156,32.880210876464844,34.331241607666016,33.5713996887207,33.50244903564453,34.427040100097656,34.272708892822266,34.66801071166992,34.97288131713867,34.062068939208984,34.75408172607422,34.7040901184082,33.17461013793945,33.22706985473633,33.9851188659668,33.80453109741211,33.93003845214844,33.438411712646484,33.51190185546875,32.54365921020508,32.155879974365234,32.90013122558594,33.84669876098633,32.71773910522461,32.799598693847656,32.89585876464844,31.290210723876953,30.342390060424805,31.077539443969727,31.069740295410156,31.967010498046875,31.579439163208008,31.775590896606445,31.11870002746582,31.01597023010254,30.625829696655273,31.70182991027832,30.715730667114258,30.66510009765625,30.62367057800293,30.438400268554688,30.260019302368164,30.503599166870117,30.403459548950195,29.839290618896484,30.16724967956543,30.101490020751953,29.766469955444336,31.03582000732422,29.79322052001953,34.13228988647461,33.754459381103516,33.49076843261719,33.165489196777344,32.83058166503906,32.43804931640625,32.427921295166016,32.23714828491211,32.1561393737793,31.83885955810547,34.192588806152344,34.09928894042969,33.396968841552734,33.41669845581055,33.83102035522461,33.94071960449219,33.70000076293945,31.076730728149414,30.943540573120117,30.697010040283203,31.46394920349121,31.66550064086914,31.684680938720703,31.720800399780273,31.45509910583496,31.672040939331055,31.895750045776367,30.786340713500977,30.460290908813477,30.58424949645996,31.822940826416016,31.7877197265625,32.86827850341797,33.03422164916992,33.31538009643555,33.615970611572266,33.78028869628906,33.45016860961914,33.00679016113281,39.177520751953125,32.973541259765625,32.15793991088867,31.96993064880371,32.23957824707031,31.948259353637695,33.00349044799805,32.91048049926758,32.945411682128906,34.3549690246582,34.25981903076172,34.073760986328125,33.40155029296875,33.868831634521484,33.85459899902344,33.77141189575195,35.699710845947266,35.32476043701172,35.237491607666016,35.254051208496094,36.952518463134766,36.938541412353516,37.01333999633789,36.97372055053711,36.96759033203125,36.31278991699219,39.2422981262207,39.220001220703125,39.29574966430664,39.28683853149414,39.22209167480469,39.238861083984375,39.244598388671875,39.24177169799805,39.29969024658203,39.29520034790039,39.437320709228516,39.54841995239258,39.48952102661133,39.218841552734375,39.21773147583008,39.268150329589844,39.30672836303711,39.213680267333984,39.22026824951172,39.209991455078125,39.29180145263672,39.23212814331055,39.23099136352539,39.25048828125,39.22726058959961,39.23535919189453,39.20951843261719,39.195228576660156,39.198001861572266,39.201148986816406,39.21337890625,39.21453857421875,39.204368591308594,39.21794128417969,39.2123908996582,39.21664047241211,39.2234992980957,39.20417022705078,39.215248107910156,39.729591369628906,39.634559631347656,39.78947830200195,39.798030853271484,39.72780990600586,39.726409912109375,39.773338317871094,39.73400115966797,39.83066177368164,39.83047103881836,39.79098129272461,39.77880096435547,39.82648849487305,39.768280029296875,39.78031921386719,39.820560455322266,39.79021072387695,39.65016174316406,39.69422912597656,39.70212936401367,39.66489028930664],\"marker\":{\"color\":\"#636efa\"},\"mode\":\"markers\",\"name\":\"1\",\"showlegend\":true,\"subplot\":\"mapbox\",\"type\":\"scattermapbox\"},{\"hovertemplate\":\"round=2<br>lat_modified=%{lat}<br>lon_modified=%{lon}<extra></extra>\",\"lat\":[-5.085750102996826,-6.456620216369629,-6.614009857177734,-6.177249908447266,-6.229619979858398,-6.391560077667236,-6.375259876251221,-5.953279972076416,-5.993730068206787,-5.947810173034668,-6.058629989624023,-3.2043800354003906,-2.9963901042938232,-3.350909948348999,-3.4244000911712646,-3.4163401126861572,-3.4803199768066406,-3.3751299381256104,-3.3864200115203857,-3.3748600482940674,-3.3641300201416016,-3.372189998626709,-2.141050100326538,-3.210510015487671,-3.196660041809082,-3.1111600399017334,-3.0966598987579346,-3.640010118484497,-3.786530017852783,-4.366889953613281,-4.341030120849609,-3.2631099224090576,-3.330019950866699,-3.309959888458252,-3.2054100036621094,-3.310029983520508,-3.3254899978637695,-4.708360195159912,-4.718560218811035,-5.0278401374816895,-5.1726298332214355,-4.98130989074707,-5.077310085296631,-5.236700057983398,-4.994530200958252,-5.441850185394287,-5.539569854736328,-5.7271599769592285,-5.6338300704956055,-5.422979831695557,-5.499770164489746,-6.543300151824951,-6.327270030975342,-6.915550231933594,-8.132149696350098,-8.103670120239258,-8.664190292358398,-8.736479759216309,-6.821979999542236,-6.875410079956055,-6.800690174102783,-6.741829872131348,-6.1839799880981445,-5.956399917602539,-7.185490131378174,-6.441180229187012,-6.63100004196167,-6.616330146789551,-6.929200172424316,-7.4239702224731445,-8.061220169067383,-8.125419616699219,-8.050180435180664,-6.787290096282959,-6.816870212554932,-6.797359943389893,-6.7861199378967285,-6.792109966278076,-6.782989978790283,-6.798850059509277,-6.781469821929932,-6.785739898681641,-6.796679973602295,-6.808710098266602,-6.802370071411133,-6.81003999710083,-6.814509868621826,-6.808330059051514,-6.806379795074463,-6.7948899269104,-6.803919792175293,-6.799039840698242,-6.794869899749756,-6.7849202156066895,-6.754280090332031,-6.729519844055176,-6.662439823150635,-6.697400093078613,-6.666450023651123,-6.683899879455566,-6.814990043640137,-6.7961201667785645,-6.798120021820068,-6.790060043334961,-6.780370235443115,-6.775279998779297,-6.764120101928711,-6.797490119934082,-6.790740013122559,-6.7893500328063965,-6.879039764404297,-6.864429950714111,-6.91526985168457,-6.820559978485107,-6.863570213317871,-6.8615498542785645,-6.838640213012695,-6.833040237426758,-6.822879791259766,-6.836730003356934,-6.835000038146973,-6.920360088348389,-6.862360000610352,-6.92326021194458,-6.9228901863098145,-6.935880184173584,-6.832870006561279,-6.859389781951904,-6.873449802398682,-6.866260051727295,-6.862500190734863,-6.857260227203369,-6.856709957122803,-6.853400230407715,-6.854129791259766,-6.876649856567383,-6.882150173187256,-6.9264397621154785,-6.872489929199219,-6.884309768676758,-6.86322021484375,-7.157939910888672,-7.0995001792907715,-8.576160430908203,-8.431659698486328,-8.826539993286133,-9.106229782104492,-8.74722957611084,-8.929189682006836,-10.23449993133545,-10.114319801330566,-9.922980308532715,-10.58353042602539,-9.800979614257812,-10.224320411682129,-9.595120429992676,-9.803609848022461,-10.071809768676758,-10.238719940185547,-10.02511978149414,-9.993619918823242,-10.049440383911133,-10.629850387573242,-10.386590003967285,-10.39111042022705,-10.43340015411377,-10.298629760742188,-10.13092041015625,-10.950550079345703,-10.920880317687988,-10.930990219116211,-10.727789878845215,-10.578390121459961,-10.833490371704102,-10.722169876098633,-10.778079986572266,-10.567330360412598,-10.456999778747559,-10.9202299118042,-10.783430099487305,-10.831609725952148,-10.796299934387207,-10.28557014465332,-10.27433967590332,-10.334970474243164,-10.311989784240723,-10.271320343017578,-10.971429824829102,-11.026280403137207,-11.062239646911621,-11.072449684143066,-11.011940002441406,-11.497010231018066,-10.569930076599121,-10.60552978515625,-10.792059898376465,-11.315449714660645,-11.170319557189941,-11.108790397644043,-10.987449645996094,-10.566309928894043,-10.481610298156738,-10.098759651184082,-10.548080444335938,-7.6761298179626465,-7.940420150756836,-8.550919532775879,-8.402629852294922,-8.521160125732422,-8.549860000610352,-8.976869583129883,-9.280349731445312,-9.065179824829102,-9.822159767150879,-10.084230422973633,-10.078590393066406,-7.744349956512451,-7.74167013168335,-7.789750099182129,-7.513070106506348,-7.7874298095703125,-8.445560455322266,-8.696869850158691,-8.425009727478027,-9.246479988098145,-9.138460159301758,-9.427490234375,-9.638179779052734,-9.159589767456055,-9.27083969116211,-9.167909622192383,-9.479180335998535,-9.430410385131836,-8.890520095825195,-8.886630058288574,-9.147040367126465,-8.638750076293945,-8.910499572753906,-8.894960403442383,-4.229229927062988,-4.401279926300049,-5.5665998458862305,-5.499929904937744,-5.952340126037598,-4.80935001373291,-4.923980236053467,-4.234429836273193,-4.3897199630737305,-4.144979953765869,-4.208549976348877,-4.098120212554932,-4.556920051574707,-4.9651899337768555,-4.258150100708008,-4.577070236206055,-5.628819942474365,-6.348589897155762,-5.360290050506592,-5.040530204772949,-5.119639873504639,-6.352519989013672,-5.537720203399658,-6.333280086517334,-6.34827995300293,-8.724430084228516,-7.657279968261719,-7.817850112915039,-7.539070129394531,-7.640230178833008,-7.371510028839111,-7.942200183868408,-3.585279941558838,-3.6504199504852295,-3.751389980316162,-3.7800700664520264,-4.077159881591797,-4.20028018951416,-4.365379810333252,-4.636630058288574,-4.2989501953125,-4.5829901695251465,-4.713200092315674,-5.117650032043457,-6.0159502029418945,-2.8970999717712402,-3.061429977416992,-3.194089889526367,-3.7384400367736816,-3.2850399017333984,-3.261970043182373,-3.353800058364868,-4.086060047149658,-3.776599884033203,-3.435689926147461,-3.5849099159240723,-3.2015600204467773,-3.6432900428771973,-3.558340072631836,-3.6106600761413574,-3.710059881210327,-3.8376400470733643,-1.4985500574111938,-1.814229965209961,-1.0587799549102783,-1.2130099534988403,-1.213420033454895,-1.3385000228881836,-1.6396700143814087,-2.057960033416748,-1.5709099769592285,-3.1514599323272705,-2.8861498832702637,-2.8295700550079346,-2.4912099838256836,-1.3356499671936035,-1.3394500017166138,-2.017009973526001,-2.575350046157837,-2.628119945526123,-2.7310500144958496,-2.721719980239868,-2.578890085220337,-2.519040107727051,-6.85768985748291,-3.319780111312866,-2.371340036392212,-2.6306099891662598,-2.9002599716186523,-3.1686699390411377,-2.8096299171447754,-2.493269920349121,-2.427759885787964,-1.324779987335205,-1.7065099477767944,-1.5640900135040283,-1.8992700576782227,-2.0334200859069824,-1.9322500228881836,-1.5111700296401978,-4.1898698806762695,-4.22553014755249,-4.50738000869751,-4.0543599128723145,-4.336120128631592,-3.5745699405670166,-3.5502400398254395,-3.589859962463379,-3.581549882888794,-5.47914981842041,-5.8798298835754395,-5.837709903717041,-5.847909927368164,-5.83981990814209,-5.936039924621582,-5.946710109710693,-5.977570056915283,-5.939410209655762,-5.970510005950928,-6.096069812774658,-6.167119979858398,-6.412260055541992,-6.442039966583252,-6.1072998046875,-6.055520057678223,-6.190720081329346,-6.0391998291015625,-6.210770130157471,-6.196879863739014,-6.209280014038086,-6.296040058135986,-6.176219940185547,-6.166369915008545,-6.163119792938232,-6.12037992477417,-6.096799850463867,-6.201930046081543,-6.160679817199707,-6.161320209503174,-6.173749923706055,-6.167940139770508,-6.1454901695251465,-6.158989906311035,-6.154139995574951,-6.1641998291015625,-6.185540199279785,-6.171870231628418,-6.173530101776123,-6.166299819946289,-5.05709981918335,-5.103390216827393,-5.204850196838379,-5.145689964294434,-5.064050197601318,-5.061960220336914,-4.937739849090576,-5.004109859466553,-5.011320114135742,-4.963280200958252,-5.237249851226807,-5.172840118408203,-5.242149829864502,-5.236599922180176,-5.23222017288208,-5.261270046234131,-5.261960029602051,-5.355410099029541,-5.403960227966309,-5.368370056152344,-5.36752986907959],\"legendgroup\":\"2\",\"lon\":[35.85438919067383,36.72285842895508,36.50865936279297,36.47574996948242,36.413330078125,35.896209716796875,35.648250579833984,35.244380950927734,35.85197830200195,35.91746139526367,35.52204132080078,35.928199768066406,36.01396179199219,36.89004135131836,36.839698791503906,36.64162826538086,36.70206832885742,36.68608093261719,36.65679168701172,36.67036056518555,35.80253982543945,35.707210540771484,35.74726104736328,35.35704040527344,37.615379333496094,37.596439361572266,37.63920974731445,37.655879974365234,37.71141052246094,38.05556106567383,37.843849182128906,37.576988220214844,37.38288116455078,37.473690032958984,37.1875114440918,37.06694030761719,37.160099029541016,38.645931243896484,38.284358978271484,38.560970306396484,38.471920013427734,38.50667190551758,38.59897994995117,38.699989318847656,39.083518981933594,38.97126007080078,38.86109924316406,38.186180114746094,38.401588439941406,37.98640060424805,37.55691909790039,37.18170166015625,37.00638961791992,37.84035110473633,36.66838073730469,36.50537109375,36.720741271972656,36.72077178955078,37.66123962402344,37.59038162231445,37.64569091796875,37.664459228515625,37.71067810058594,37.661678314208984,37.559810638427734,38.901878356933594,38.347930908203125,38.794960021972656,38.72658157348633,39.100711822509766,39.151248931884766,39.21821975708008,39.73046875,39.268280029296875,39.254600524902344,39.24053955078125,39.250728607177734,39.2464714050293,39.25127029418945,39.25600814819336,39.26945877075195,39.26776885986328,39.27008819580078,39.26417922973633,39.261470794677734,39.2606086730957,39.24692153930664,39.239959716796875,39.24568176269531,39.217498779296875,39.2369499206543,39.227169036865234,39.2240104675293,39.236358642578125,39.07978057861328,39.21522903442383,39.1832389831543,39.19240188598633,39.07603073120117,39.10887908935547,39.200199127197266,39.20460891723633,39.24747848510742,39.20996856689453,39.22378158569336,39.24372100830078,39.25101852416992,39.156700134277344,39.15375900268555,39.27661895751953,39.17002868652344,39.128868103027344,39.16345977783203,39.25749969482422,39.190250396728516,39.201908111572266,39.24079895019531,39.23551940917969,39.226341247558594,39.320350646972656,39.32583999633789,39.324501037597656,39.345008850097656,39.25529861450195,39.25572967529297,39.25001907348633,39.28047180175781,39.25400161743164,39.2765007019043,39.261680603027344,39.249141693115234,39.26980972290039,39.25339889526367,39.26469039916992,39.26044845581055,39.29458999633789,39.27342987060547,39.26852035522461,39.25865173339844,39.24720001220703,39.25944900512695,39.52511978149414,39.437259674072266,39.23249816894531,38.96337890625,38.87871170043945,39.56222152709961,39.415199279785156,39.53435134887695,39.28192901611328,39.244388580322266,39.32835006713867,38.02730178833008,37.89751052856445,37.87675857543945,37.403099060058594,37.981048583984375,38.93770980834961,38.92237854003906,38.890159606933594,39.683231353759766,39.702640533447266,39.881568908691406,39.988861083984375,39.834171295166016,39.77962875366211,39.8851318359375,39.996421813964844,39.27777099609375,39.29269027709961,39.40372085571289,39.40541076660156,39.36463928222656,39.38814926147461,38.803871154785156,38.76734161376953,38.92811965942383,39.07661819458008,38.476280212402344,39.11280059814453,39.7388801574707,39.516998291015625,40.19746017456055,40.188140869140625,40.22397994995117,40.1469612121582,40.17414093017578,37.39884948730469,37.36246871948242,37.305179595947266,37.31924819946289,37.26911163330078,35.60763168334961,35.353458404541016,35.48897933959961,35.75553894042969,34.78630065917969,34.9964714050293,34.64216995239258,34.89339065551758,34.61722946166992,35.688018798828125,35.902950286865234,36.321861267089844,35.73630905151367,35.064781188964844,34.839271545410156,34.74557876586914,35.35015106201172,35.33964920043945,33.95320129394531,34.71855163574219,34.793209075927734,34.45354080200195,34.57978820800781,34.65861129760742,35.70446014404297,35.69744110107422,35.67259979248047,36.442440032958984,33.407371520996094,33.146400451660156,33.28855895996094,33.02091979980469,33.35498809814453,33.33795166015625,33.973899841308594,33.96001052856445,33.830509185791016,33.60054016113281,33.54330062866211,33.12928009033203,33.06618881225586,33.0212287902832,33.134681701660156,32.880210876464844,34.331241607666016,33.5713996887207,33.50244903564453,34.427040100097656,34.272708892822266,34.66801071166992,34.97288131713867,34.062068939208984,34.75408172607422,34.7040901184082,33.17461013793945,33.22706985473633,33.9851188659668,33.80453109741211,33.93003845214844,33.438411712646484,33.51190185546875,32.54365921020508,32.155879974365234,32.90013122558594,33.84669876098633,32.71773910522461,32.799598693847656,32.89585876464844,31.290210723876953,30.342390060424805,31.077539443969727,31.069740295410156,31.967010498046875,31.579439163208008,31.775590896606445,31.11870002746582,31.01597023010254,30.625829696655273,31.70182991027832,30.715730667114258,30.66510009765625,30.62367057800293,30.438400268554688,30.260019302368164,30.503599166870117,30.403459548950195,29.839290618896484,30.16724967956543,30.101490020751953,29.766469955444336,31.03582000732422,29.79322052001953,34.13228988647461,33.754459381103516,33.49076843261719,33.165489196777344,32.83058166503906,32.43804931640625,32.427921295166016,32.23714828491211,32.1561393737793,31.83885955810547,34.192588806152344,34.09928894042969,33.396968841552734,33.41669845581055,33.83102035522461,33.94071960449219,33.70000076293945,31.076730728149414,30.943540573120117,30.697010040283203,31.46394920349121,31.66550064086914,31.684680938720703,31.720800399780273,31.45509910583496,31.672040939331055,31.895750045776367,30.786340713500977,30.460290908813477,30.58424949645996,31.822940826416016,31.7877197265625,32.86827850341797,33.03422164916992,33.31538009643555,33.615970611572266,33.78028869628906,33.45016860961914,33.00679016113281,39.177520751953125,32.973541259765625,32.15793991088867,31.96993064880371,32.23957824707031,31.948259353637695,33.00349044799805,32.91048049926758,32.945411682128906,34.3549690246582,34.25981903076172,34.073760986328125,33.40155029296875,33.868831634521484,33.85459899902344,33.77141189575195,35.699710845947266,35.32476043701172,35.237491607666016,35.254051208496094,36.952518463134766,36.938541412353516,37.01333999633789,36.97372055053711,36.96759033203125,36.31278991699219,39.2422981262207,39.220001220703125,39.29574966430664,39.28683853149414,39.22209167480469,39.238861083984375,39.244598388671875,39.24177169799805,39.29969024658203,39.29520034790039,39.437320709228516,39.54841995239258,39.48952102661133,39.218841552734375,39.21773147583008,39.268150329589844,39.30672836303711,39.213680267333984,39.22026824951172,39.209991455078125,39.29180145263672,39.23212814331055,39.23099136352539,39.25048828125,39.22726058959961,39.23535919189453,39.20951843261719,39.195228576660156,39.198001861572266,39.201148986816406,39.21337890625,39.21453857421875,39.204368591308594,39.21794128417969,39.2123908996582,39.21664047241211,39.2234992980957,39.20417022705078,39.215248107910156,39.729591369628906,39.634559631347656,39.78947830200195,39.798030853271484,39.72780990600586,39.726409912109375,39.773338317871094,39.73400115966797,39.83066177368164,39.83047103881836,39.79098129272461,39.77880096435547,39.82648849487305,39.768280029296875,39.78031921386719,39.820560455322266,39.79021072387695,39.65016174316406,39.69422912597656,39.70212936401367,39.66489028930664],\"marker\":{\"color\":\"#EF553B\"},\"mode\":\"markers\",\"name\":\"2\",\"showlegend\":true,\"subplot\":\"mapbox\",\"type\":\"scattermapbox\"},{\"hovertemplate\":\"round=3<br>lat_modified=%{lat}<br>lon_modified=%{lon}<extra></extra>\",\"lat\":[-5.085750102996826,-6.456620216369629,-6.614009857177734,-6.177249908447266,-6.229619979858398,-6.391560077667236,-6.375259876251221,-5.953279972076416,-5.993730068206787,-5.947810173034668,-6.058629989624023,-3.2043800354003906,-2.9963901042938232,-3.350909948348999,-3.4244000911712646,-3.4163401126861572,-3.4803199768066406,-3.3751299381256104,-3.3864200115203857,-3.3748600482940674,-3.3641300201416016,-3.372189998626709,-2.141050100326538,-3.210510015487671,-3.196660041809082,-3.1111600399017334,-3.0966598987579346,-3.640010118484497,-3.786530017852783,-4.366889953613281,-4.341030120849609,-3.2631099224090576,-3.330019950866699,-3.309959888458252,-3.2054100036621094,-3.310029983520508,-3.3254899978637695,-4.708360195159912,-4.718560218811035,-5.0278401374816895,-5.1726298332214355,-4.98130989074707,-5.077310085296631,-5.236700057983398,-4.994530200958252,-5.441850185394287,-5.539569854736328,-5.7271599769592285,-5.6338300704956055,-5.422979831695557,-5.499770164489746,-6.543300151824951,-6.327270030975342,-6.915550231933594,-8.132149696350098,-8.103670120239258,-8.664190292358398,-8.736479759216309,-6.821979999542236,-6.875410079956055,-6.800690174102783,-6.741829872131348,-6.1839799880981445,-5.956399917602539,-7.185490131378174,-6.441180229187012,-6.63100004196167,-6.616330146789551,-6.929200172424316,-7.4239702224731445,-8.061220169067383,-8.125419616699219,-8.050180435180664,-6.787290096282959,-6.816870212554932,-6.797359943389893,-6.7861199378967285,-6.792109966278076,-6.782989978790283,-6.798850059509277,-6.781469821929932,-6.785739898681641,-6.796679973602295,-6.808710098266602,-6.802370071411133,-6.81003999710083,-6.814509868621826,-6.808330059051514,-6.806379795074463,-6.7948899269104,-6.803919792175293,-6.799039840698242,-6.794869899749756,-6.7849202156066895,-6.754280090332031,-6.729519844055176,-6.662439823150635,-6.697400093078613,-6.666450023651123,-6.683899879455566,-6.814990043640137,-6.7961201667785645,-6.798120021820068,-6.790060043334961,-6.780370235443115,-6.775279998779297,-6.764120101928711,-6.797490119934082,-6.790740013122559,-6.7893500328063965,-6.879039764404297,-6.864429950714111,-6.91526985168457,-6.820559978485107,-6.863570213317871,-6.8615498542785645,-6.838640213012695,-6.833040237426758,-6.822879791259766,-6.836730003356934,-6.835000038146973,-6.920360088348389,-6.862360000610352,-6.92326021194458,-6.9228901863098145,-6.935880184173584,-6.832870006561279,-6.859389781951904,-6.873449802398682,-6.866260051727295,-6.862500190734863,-6.857260227203369,-6.856709957122803,-6.853400230407715,-6.854129791259766,-6.876649856567383,-6.882150173187256,-6.9264397621154785,-6.872489929199219,-6.884309768676758,-6.86322021484375,-7.157939910888672,-7.0995001792907715,-8.576160430908203,-8.431659698486328,-8.826539993286133,-9.106229782104492,-8.74722957611084,-8.929189682006836,-10.23449993133545,-10.114319801330566,-9.922980308532715,-10.58353042602539,-9.800979614257812,-10.224320411682129,-9.595120429992676,-9.803609848022461,-10.071809768676758,-10.238719940185547,-10.02511978149414,-9.993619918823242,-10.049440383911133,-10.629850387573242,-10.386590003967285,-10.39111042022705,-10.43340015411377,-10.298629760742188,-10.13092041015625,-10.950550079345703,-10.920880317687988,-10.930990219116211,-10.727789878845215,-10.578390121459961,-10.833490371704102,-10.722169876098633,-10.778079986572266,-10.567330360412598,-10.456999778747559,-10.9202299118042,-10.783430099487305,-10.831609725952148,-10.796299934387207,-10.28557014465332,-10.27433967590332,-10.334970474243164,-10.311989784240723,-10.271320343017578,-10.971429824829102,-11.026280403137207,-11.062239646911621,-11.072449684143066,-11.011940002441406,-11.497010231018066,-10.569930076599121,-10.60552978515625,-10.792059898376465,-11.315449714660645,-11.170319557189941,-11.108790397644043,-10.987449645996094,-10.566309928894043,-10.481610298156738,-10.098759651184082,-10.548080444335938,-7.6761298179626465,-7.940420150756836,-8.550919532775879,-8.402629852294922,-8.521160125732422,-8.549860000610352,-8.976869583129883,-9.280349731445312,-9.065179824829102,-9.822159767150879,-10.084230422973633,-10.078590393066406,-7.744349956512451,-7.74167013168335,-7.789750099182129,-7.513070106506348,-7.7874298095703125,-8.445560455322266,-8.696869850158691,-8.425009727478027,-9.246479988098145,-9.138460159301758,-9.427490234375,-9.638179779052734,-9.159589767456055,-9.27083969116211,-9.167909622192383,-9.479180335998535,-9.430410385131836,-8.890520095825195,-8.886630058288574,-9.147040367126465,-8.638750076293945,-8.910499572753906,-8.894960403442383,-4.229229927062988,-4.401279926300049,-5.5665998458862305,-5.499929904937744,-5.952340126037598,-4.80935001373291,-4.923980236053467,-4.234429836273193,-4.3897199630737305,-4.144979953765869,-4.208549976348877,-4.098120212554932,-4.556920051574707,-4.9651899337768555,-4.258150100708008,-4.577070236206055,-5.628819942474365,-6.348589897155762,-5.360290050506592,-5.040530204772949,-5.119639873504639,-6.352519989013672,-5.537720203399658,-6.333280086517334,-6.34827995300293,-8.724430084228516,-7.657279968261719,-7.817850112915039,-7.539070129394531,-7.640230178833008,-7.371510028839111,-7.942200183868408,-3.585279941558838,-3.6504199504852295,-3.751389980316162,-3.7800700664520264,-4.077159881591797,-4.20028018951416,-4.365379810333252,-4.636630058288574,-4.2989501953125,-4.5829901695251465,-4.713200092315674,-5.117650032043457,-6.0159502029418945,-2.8970999717712402,-3.061429977416992,-3.194089889526367,-3.7384400367736816,-3.2850399017333984,-3.261970043182373,-3.353800058364868,-4.086060047149658,-3.776599884033203,-3.435689926147461,-3.5849099159240723,-3.2015600204467773,-3.6432900428771973,-3.558340072631836,-3.6106600761413574,-3.710059881210327,-3.8376400470733643,-1.4985500574111938,-1.814229965209961,-1.0587799549102783,-1.2130099534988403,-1.213420033454895,-1.3385000228881836,-1.6396700143814087,-2.057960033416748,-1.5709099769592285,-3.1514599323272705,-2.8861498832702637,-2.8295700550079346,-2.4912099838256836,-1.3356499671936035,-1.3394500017166138,-2.017009973526001,-2.575350046157837,-2.628119945526123,-2.7310500144958496,-2.721719980239868,-2.578890085220337,-2.519040107727051,-6.85768985748291,-3.319780111312866,-2.371340036392212,-2.6306099891662598,-2.9002599716186523,-3.1686699390411377,-2.8096299171447754,-2.493269920349121,-2.427759885787964,-1.324779987335205,-1.7065099477767944,-1.5640900135040283,-1.8992700576782227,-2.0334200859069824,-1.9322500228881836,-1.5111700296401978,-4.1898698806762695,-4.22553014755249,-4.50738000869751,-4.0543599128723145,-4.336120128631592,-3.5745699405670166,-3.5502400398254395,-3.589859962463379,-3.581549882888794,-5.47914981842041,-5.8798298835754395,-5.837709903717041,-5.847909927368164,-5.83981990814209,-5.936039924621582,-5.946710109710693,-5.977570056915283,-5.939410209655762,-5.970510005950928,-6.096069812774658,-6.167119979858398,-6.412260055541992,-6.442039966583252,-6.1072998046875,-6.055520057678223,-6.190720081329346,-6.0391998291015625,-6.210770130157471,-6.196879863739014,-6.209280014038086,-6.296040058135986,-6.176219940185547,-6.166369915008545,-6.163119792938232,-6.12037992477417,-6.096799850463867,-6.201930046081543,-6.160679817199707,-6.161320209503174,-6.173749923706055,-6.167940139770508,-6.1454901695251465,-6.158989906311035,-6.154139995574951,-6.1641998291015625,-6.185540199279785,-6.171870231628418,-6.173530101776123,-6.166299819946289,-5.05709981918335,-5.103390216827393,-5.204850196838379,-5.145689964294434,-5.064050197601318,-5.061960220336914,-4.937739849090576,-5.004109859466553,-5.011320114135742,-4.963280200958252,-5.237249851226807,-5.172840118408203,-5.242149829864502,-5.236599922180176,-5.23222017288208,-5.261270046234131,-5.261960029602051,-5.355410099029541,-5.403960227966309,-5.368370056152344,-5.36752986907959],\"legendgroup\":\"3\",\"lon\":[35.85438919067383,36.72285842895508,36.50865936279297,36.47574996948242,36.413330078125,35.896209716796875,35.648250579833984,35.244380950927734,35.85197830200195,35.91746139526367,35.52204132080078,35.928199768066406,36.01396179199219,36.89004135131836,36.839698791503906,36.64162826538086,36.70206832885742,36.68608093261719,36.65679168701172,36.67036056518555,35.80253982543945,35.707210540771484,35.74726104736328,35.35704040527344,37.615379333496094,37.596439361572266,37.63920974731445,37.655879974365234,37.71141052246094,38.05556106567383,37.843849182128906,37.576988220214844,37.38288116455078,37.473690032958984,37.1875114440918,37.06694030761719,37.160099029541016,38.645931243896484,38.284358978271484,38.560970306396484,38.471920013427734,38.50667190551758,38.59897994995117,38.699989318847656,39.083518981933594,38.97126007080078,38.86109924316406,38.186180114746094,38.401588439941406,37.98640060424805,37.55691909790039,37.18170166015625,37.00638961791992,37.84035110473633,36.66838073730469,36.50537109375,36.720741271972656,36.72077178955078,37.66123962402344,37.59038162231445,37.64569091796875,37.664459228515625,37.71067810058594,37.661678314208984,37.559810638427734,38.901878356933594,38.347930908203125,38.794960021972656,38.72658157348633,39.100711822509766,39.151248931884766,39.21821975708008,39.73046875,39.268280029296875,39.254600524902344,39.24053955078125,39.250728607177734,39.2464714050293,39.25127029418945,39.25600814819336,39.26945877075195,39.26776885986328,39.27008819580078,39.26417922973633,39.261470794677734,39.2606086730957,39.24692153930664,39.239959716796875,39.24568176269531,39.217498779296875,39.2369499206543,39.227169036865234,39.2240104675293,39.236358642578125,39.07978057861328,39.21522903442383,39.1832389831543,39.19240188598633,39.07603073120117,39.10887908935547,39.200199127197266,39.20460891723633,39.24747848510742,39.20996856689453,39.22378158569336,39.24372100830078,39.25101852416992,39.156700134277344,39.15375900268555,39.27661895751953,39.17002868652344,39.128868103027344,39.16345977783203,39.25749969482422,39.190250396728516,39.201908111572266,39.24079895019531,39.23551940917969,39.226341247558594,39.320350646972656,39.32583999633789,39.324501037597656,39.345008850097656,39.25529861450195,39.25572967529297,39.25001907348633,39.28047180175781,39.25400161743164,39.2765007019043,39.261680603027344,39.249141693115234,39.26980972290039,39.25339889526367,39.26469039916992,39.26044845581055,39.29458999633789,39.27342987060547,39.26852035522461,39.25865173339844,39.24720001220703,39.25944900512695,39.52511978149414,39.437259674072266,39.23249816894531,38.96337890625,38.87871170043945,39.56222152709961,39.415199279785156,39.53435134887695,39.28192901611328,39.244388580322266,39.32835006713867,38.02730178833008,37.89751052856445,37.87675857543945,37.403099060058594,37.981048583984375,38.93770980834961,38.92237854003906,38.890159606933594,39.683231353759766,39.702640533447266,39.881568908691406,39.988861083984375,39.834171295166016,39.77962875366211,39.8851318359375,39.996421813964844,39.27777099609375,39.29269027709961,39.40372085571289,39.40541076660156,39.36463928222656,39.38814926147461,38.803871154785156,38.76734161376953,38.92811965942383,39.07661819458008,38.476280212402344,39.11280059814453,39.7388801574707,39.516998291015625,40.19746017456055,40.188140869140625,40.22397994995117,40.1469612121582,40.17414093017578,37.39884948730469,37.36246871948242,37.305179595947266,37.31924819946289,37.26911163330078,35.60763168334961,35.353458404541016,35.48897933959961,35.75553894042969,34.78630065917969,34.9964714050293,34.64216995239258,34.89339065551758,34.61722946166992,35.688018798828125,35.902950286865234,36.321861267089844,35.73630905151367,35.064781188964844,34.839271545410156,34.74557876586914,35.35015106201172,35.33964920043945,33.95320129394531,34.71855163574219,34.793209075927734,34.45354080200195,34.57978820800781,34.65861129760742,35.70446014404297,35.69744110107422,35.67259979248047,36.442440032958984,33.407371520996094,33.146400451660156,33.28855895996094,33.02091979980469,33.35498809814453,33.33795166015625,33.973899841308594,33.96001052856445,33.830509185791016,33.60054016113281,33.54330062866211,33.12928009033203,33.06618881225586,33.0212287902832,33.134681701660156,32.880210876464844,34.331241607666016,33.5713996887207,33.50244903564453,34.427040100097656,34.272708892822266,34.66801071166992,34.97288131713867,34.062068939208984,34.75408172607422,34.7040901184082,33.17461013793945,33.22706985473633,33.9851188659668,33.80453109741211,33.93003845214844,33.438411712646484,33.51190185546875,32.54365921020508,32.155879974365234,32.90013122558594,33.84669876098633,32.71773910522461,32.799598693847656,32.89585876464844,31.290210723876953,30.342390060424805,31.077539443969727,31.069740295410156,31.967010498046875,31.579439163208008,31.775590896606445,31.11870002746582,31.01597023010254,30.625829696655273,31.70182991027832,30.715730667114258,30.66510009765625,30.62367057800293,30.438400268554688,30.260019302368164,30.503599166870117,30.403459548950195,29.839290618896484,30.16724967956543,30.101490020751953,29.766469955444336,31.03582000732422,29.79322052001953,34.13228988647461,33.754459381103516,33.49076843261719,33.165489196777344,32.83058166503906,32.43804931640625,32.427921295166016,32.23714828491211,32.1561393737793,31.83885955810547,34.192588806152344,34.09928894042969,33.396968841552734,33.41669845581055,33.83102035522461,33.94071960449219,33.70000076293945,31.076730728149414,30.943540573120117,30.697010040283203,31.46394920349121,31.66550064086914,31.684680938720703,31.720800399780273,31.45509910583496,31.672040939331055,31.895750045776367,30.786340713500977,30.460290908813477,30.58424949645996,31.822940826416016,31.7877197265625,32.86827850341797,33.03422164916992,33.31538009643555,33.615970611572266,33.78028869628906,33.45016860961914,33.00679016113281,39.177520751953125,32.973541259765625,32.15793991088867,31.96993064880371,32.23957824707031,31.948259353637695,33.00349044799805,32.91048049926758,32.945411682128906,34.3549690246582,34.25981903076172,34.073760986328125,33.40155029296875,33.868831634521484,33.85459899902344,33.77141189575195,35.699710845947266,35.32476043701172,35.237491607666016,35.254051208496094,36.952518463134766,36.938541412353516,37.01333999633789,36.97372055053711,36.96759033203125,36.31278991699219,39.2422981262207,39.220001220703125,39.29574966430664,39.28683853149414,39.22209167480469,39.238861083984375,39.244598388671875,39.24177169799805,39.29969024658203,39.29520034790039,39.437320709228516,39.54841995239258,39.48952102661133,39.218841552734375,39.21773147583008,39.268150329589844,39.30672836303711,39.213680267333984,39.22026824951172,39.209991455078125,39.29180145263672,39.23212814331055,39.23099136352539,39.25048828125,39.22726058959961,39.23535919189453,39.20951843261719,39.195228576660156,39.198001861572266,39.201148986816406,39.21337890625,39.21453857421875,39.204368591308594,39.21794128417969,39.2123908996582,39.21664047241211,39.2234992980957,39.20417022705078,39.215248107910156,39.729591369628906,39.634559631347656,39.78947830200195,39.798030853271484,39.72780990600586,39.726409912109375,39.773338317871094,39.73400115966797,39.83066177368164,39.83047103881836,39.79098129272461,39.77880096435547,39.82648849487305,39.768280029296875,39.78031921386719,39.820560455322266,39.79021072387695,39.65016174316406,39.69422912597656,39.70212936401367,39.66489028930664],\"marker\":{\"color\":\"#00cc96\"},\"mode\":\"markers\",\"name\":\"3\",\"showlegend\":true,\"subplot\":\"mapbox\",\"type\":\"scattermapbox\"},{\"hovertemplate\":\"round=4<br>lat_modified=%{lat}<br>lon_modified=%{lon}<extra></extra>\",\"lat\":[-5.085750102996826,-6.456620216369629,-3.4163401126861572,-3.3641300201416016,-3.1111600399017334,-3.786530017852783,-4.708360195159912,-5.077310085296631,-5.422979831695557,-8.103670120239258,-6.800690174102783,-7.185490131378174,-6.441180229187012,-6.7861199378967285,-6.785739898681641,-6.814509868621826,-6.799039840698242,-6.662439823150635,-6.798120021820068,-6.797490119934082,-6.863570213317871,-6.833040237426758,-6.9228901863098145,-6.866260051727295,-6.882150173187256,-6.884309768676758,-8.576160430908203,-10.58353042602539,-10.049440383911133,-10.920880317687988,-10.930990219116211,-10.722169876098633,-10.783430099487305,-10.60552978515625,-10.792059898376465,-10.566309928894043,-8.521160125732422,-7.744349956512451,-7.74167013168335,-9.246479988098145,-9.138460159301758,-4.229229927062988,-4.401279926300049,-4.258150100708008,-5.040530204772949,-6.352519989013672,-7.539070129394531,-7.371510028839111,-4.20028018951416,-2.057960033416748,-2.578890085220337,-1.8992700576782227,-5.847909927368164,-6.185540199279785,-5.061960220336914,-4.963280200958252],\"legendgroup\":\"4\",\"lon\":[35.85438919067383,36.72285842895508,36.64162826538086,35.80253982543945,37.596439361572266,37.71141052246094,38.645931243896484,38.59897994995117,37.98640060424805,36.50537109375,37.64569091796875,37.559810638427734,38.901878356933594,39.250728607177734,39.26776885986328,39.24692153930664,39.227169036865234,39.1832389831543,39.24747848510742,39.156700134277344,39.190250396728516,39.23551940917969,39.25572967529297,39.261680603027344,39.27342987060547,39.24720001220703,39.23249816894531,38.02730178833008,39.702640533447266,39.29269027709961,39.40372085571289,38.803871154785156,39.11280059814453,35.48897933959961,35.75553894042969,34.61722946166992,35.35015106201172,35.70446014404297,35.69744110107422,33.35498809814453,33.33795166015625,34.427040100097656,34.272708892822266,32.54365921020508,32.799598693847656,31.290210723876953,31.11870002746582,30.625829696655273,30.503599166870117,31.45509910583496,33.45016860961914,33.40155029296875,39.29574966430664,39.21664047241211,39.726409912109375,39.83047103881836],\"marker\":{\"color\":\"#ab63fa\"},\"mode\":\"markers\",\"name\":\"4\",\"showlegend\":true,\"subplot\":\"mapbox\",\"type\":\"scattermapbox\"},{\"hovertemplate\":\"round=5<br>lat_modified=%{lat}<br>lon_modified=%{lon}<extra></extra>\",\"lat\":[-5.085750102996826,-6.456620216369629,-3.4163401126861572,-3.3641300201416016,-3.1111600399017334,-3.786530017852783,-4.708360195159912,-5.077310085296631,-5.422979831695557,-8.103670120239258,-6.800690174102783,-7.185490131378174,-6.441180229187012,-6.7861199378967285,-6.785739898681641,-6.814509868621826,-6.799039840698242,-6.662439823150635,-6.798120021820068,-6.797490119934082,-6.863570213317871,-6.833040237426758,-6.9228901863098145,-6.866260051727295,-6.882150173187256,-6.884309768676758,-8.576160430908203,-10.58353042602539,-10.049440383911133,-10.920880317687988,-10.930990219116211,-10.722169876098633,-10.783430099487305,-10.60552978515625,-10.792059898376465,-10.566309928894043,-8.521160125732422,-7.744349956512451,-7.74167013168335,-9.246479988098145,-9.138460159301758,-4.229229927062988,-4.401279926300049,-4.258150100708008,-5.040530204772949,-6.352519989013672,-7.539070129394531,-7.371510028839111,-4.20028018951416,-2.057960033416748,-2.578890085220337,-1.8992700576782227,-5.847909927368164,-6.185540199279785,-5.061960220336914,-4.963280200958252],\"legendgroup\":\"5\",\"lon\":[35.85438919067383,36.72285842895508,36.64162826538086,35.80253982543945,37.596439361572266,37.71141052246094,38.645931243896484,38.59897994995117,37.98640060424805,36.50537109375,37.64569091796875,37.559810638427734,38.901878356933594,39.250728607177734,39.26776885986328,39.24692153930664,39.227169036865234,39.1832389831543,39.24747848510742,39.156700134277344,39.190250396728516,39.23551940917969,39.25572967529297,39.261680603027344,39.27342987060547,39.24720001220703,39.23249816894531,38.02730178833008,39.702640533447266,39.29269027709961,39.40372085571289,38.803871154785156,39.11280059814453,35.48897933959961,35.75553894042969,34.61722946166992,35.35015106201172,35.70446014404297,35.69744110107422,33.35498809814453,33.33795166015625,34.427040100097656,34.272708892822266,32.54365921020508,32.799598693847656,31.290210723876953,31.11870002746582,30.625829696655273,30.503599166870117,31.45509910583496,33.45016860961914,33.40155029296875,39.29574966430664,39.21664047241211,39.726409912109375,39.83047103881836],\"marker\":{\"color\":\"#FFA15A\"},\"mode\":\"markers\",\"name\":\"5\",\"showlegend\":true,\"subplot\":\"mapbox\",\"type\":\"scattermapbox\"}],                        {\"template\":{\"data\":{\"bar\":[{\"error_x\":{\"color\":\"#2a3f5f\"},\"error_y\":{\"color\":\"#2a3f5f\"},\"marker\":{\"line\":{\"color\":\"#E5ECF6\",\"width\":0.5},\"pattern\":{\"fillmode\":\"overlay\",\"size\":10,\"solidity\":0.2}},\"type\":\"bar\"}],\"barpolar\":[{\"marker\":{\"line\":{\"color\":\"#E5ECF6\",\"width\":0.5},\"pattern\":{\"fillmode\":\"overlay\",\"size\":10,\"solidity\":0.2}},\"type\":\"barpolar\"}],\"carpet\":[{\"aaxis\":{\"endlinecolor\":\"#2a3f5f\",\"gridcolor\":\"white\",\"linecolor\":\"white\",\"minorgridcolor\":\"white\",\"startlinecolor\":\"#2a3f5f\"},\"baxis\":{\"endlinecolor\":\"#2a3f5f\",\"gridcolor\":\"white\",\"linecolor\":\"white\",\"minorgridcolor\":\"white\",\"startlinecolor\":\"#2a3f5f\"},\"type\":\"carpet\"}],\"choropleth\":[{\"colorbar\":{\"outlinewidth\":0,\"ticks\":\"\"},\"type\":\"choropleth\"}],\"contour\":[{\"colorbar\":{\"outlinewidth\":0,\"ticks\":\"\"},\"colorscale\":[[0.0,\"#0d0887\"],[0.1111111111111111,\"#46039f\"],[0.2222222222222222,\"#7201a8\"],[0.3333333333333333,\"#9c179e\"],[0.4444444444444444,\"#bd3786\"],[0.5555555555555556,\"#d8576b\"],[0.6666666666666666,\"#ed7953\"],[0.7777777777777778,\"#fb9f3a\"],[0.8888888888888888,\"#fdca26\"],[1.0,\"#f0f921\"]],\"type\":\"contour\"}],\"contourcarpet\":[{\"colorbar\":{\"outlinewidth\":0,\"ticks\":\"\"},\"type\":\"contourcarpet\"}],\"heatmap\":[{\"colorbar\":{\"outlinewidth\":0,\"ticks\":\"\"},\"colorscale\":[[0.0,\"#0d0887\"],[0.1111111111111111,\"#46039f\"],[0.2222222222222222,\"#7201a8\"],[0.3333333333333333,\"#9c179e\"],[0.4444444444444444,\"#bd3786\"],[0.5555555555555556,\"#d8576b\"],[0.6666666666666666,\"#ed7953\"],[0.7777777777777778,\"#fb9f3a\"],[0.8888888888888888,\"#fdca26\"],[1.0,\"#f0f921\"]],\"type\":\"heatmap\"}],\"heatmapgl\":[{\"colorbar\":{\"outlinewidth\":0,\"ticks\":\"\"},\"colorscale\":[[0.0,\"#0d0887\"],[0.1111111111111111,\"#46039f\"],[0.2222222222222222,\"#7201a8\"],[0.3333333333333333,\"#9c179e\"],[0.4444444444444444,\"#bd3786\"],[0.5555555555555556,\"#d8576b\"],[0.6666666666666666,\"#ed7953\"],[0.7777777777777778,\"#fb9f3a\"],[0.8888888888888888,\"#fdca26\"],[1.0,\"#f0f921\"]],\"type\":\"heatmapgl\"}],\"histogram\":[{\"marker\":{\"pattern\":{\"fillmode\":\"overlay\",\"size\":10,\"solidity\":0.2}},\"type\":\"histogram\"}],\"histogram2d\":[{\"colorbar\":{\"outlinewidth\":0,\"ticks\":\"\"},\"colorscale\":[[0.0,\"#0d0887\"],[0.1111111111111111,\"#46039f\"],[0.2222222222222222,\"#7201a8\"],[0.3333333333333333,\"#9c179e\"],[0.4444444444444444,\"#bd3786\"],[0.5555555555555556,\"#d8576b\"],[0.6666666666666666,\"#ed7953\"],[0.7777777777777778,\"#fb9f3a\"],[0.8888888888888888,\"#fdca26\"],[1.0,\"#f0f921\"]],\"type\":\"histogram2d\"}],\"histogram2dcontour\":[{\"colorbar\":{\"outlinewidth\":0,\"ticks\":\"\"},\"colorscale\":[[0.0,\"#0d0887\"],[0.1111111111111111,\"#46039f\"],[0.2222222222222222,\"#7201a8\"],[0.3333333333333333,\"#9c179e\"],[0.4444444444444444,\"#bd3786\"],[0.5555555555555556,\"#d8576b\"],[0.6666666666666666,\"#ed7953\"],[0.7777777777777778,\"#fb9f3a\"],[0.8888888888888888,\"#fdca26\"],[1.0,\"#f0f921\"]],\"type\":\"histogram2dcontour\"}],\"mesh3d\":[{\"colorbar\":{\"outlinewidth\":0,\"ticks\":\"\"},\"type\":\"mesh3d\"}],\"parcoords\":[{\"line\":{\"colorbar\":{\"outlinewidth\":0,\"ticks\":\"\"}},\"type\":\"parcoords\"}],\"pie\":[{\"automargin\":true,\"type\":\"pie\"}],\"scatter\":[{\"marker\":{\"colorbar\":{\"outlinewidth\":0,\"ticks\":\"\"}},\"type\":\"scatter\"}],\"scatter3d\":[{\"line\":{\"colorbar\":{\"outlinewidth\":0,\"ticks\":\"\"}},\"marker\":{\"colorbar\":{\"outlinewidth\":0,\"ticks\":\"\"}},\"type\":\"scatter3d\"}],\"scattercarpet\":[{\"marker\":{\"colorbar\":{\"outlinewidth\":0,\"ticks\":\"\"}},\"type\":\"scattercarpet\"}],\"scattergeo\":[{\"marker\":{\"colorbar\":{\"outlinewidth\":0,\"ticks\":\"\"}},\"type\":\"scattergeo\"}],\"scattergl\":[{\"marker\":{\"colorbar\":{\"outlinewidth\":0,\"ticks\":\"\"}},\"type\":\"scattergl\"}],\"scattermapbox\":[{\"marker\":{\"colorbar\":{\"outlinewidth\":0,\"ticks\":\"\"}},\"type\":\"scattermapbox\"}],\"scatterpolar\":[{\"marker\":{\"colorbar\":{\"outlinewidth\":0,\"ticks\":\"\"}},\"type\":\"scatterpolar\"}],\"scatterpolargl\":[{\"marker\":{\"colorbar\":{\"outlinewidth\":0,\"ticks\":\"\"}},\"type\":\"scatterpolargl\"}],\"scatterternary\":[{\"marker\":{\"colorbar\":{\"outlinewidth\":0,\"ticks\":\"\"}},\"type\":\"scatterternary\"}],\"surface\":[{\"colorbar\":{\"outlinewidth\":0,\"ticks\":\"\"},\"colorscale\":[[0.0,\"#0d0887\"],[0.1111111111111111,\"#46039f\"],[0.2222222222222222,\"#7201a8\"],[0.3333333333333333,\"#9c179e\"],[0.4444444444444444,\"#bd3786\"],[0.5555555555555556,\"#d8576b\"],[0.6666666666666666,\"#ed7953\"],[0.7777777777777778,\"#fb9f3a\"],[0.8888888888888888,\"#fdca26\"],[1.0,\"#f0f921\"]],\"type\":\"surface\"}],\"table\":[{\"cells\":{\"fill\":{\"color\":\"#EBF0F8\"},\"line\":{\"color\":\"white\"}},\"header\":{\"fill\":{\"color\":\"#C8D4E3\"},\"line\":{\"color\":\"white\"}},\"type\":\"table\"}]},\"layout\":{\"annotationdefaults\":{\"arrowcolor\":\"#2a3f5f\",\"arrowhead\":0,\"arrowwidth\":1},\"autotypenumbers\":\"strict\",\"coloraxis\":{\"colorbar\":{\"outlinewidth\":0,\"ticks\":\"\"}},\"colorscale\":{\"diverging\":[[0,\"#8e0152\"],[0.1,\"#c51b7d\"],[0.2,\"#de77ae\"],[0.3,\"#f1b6da\"],[0.4,\"#fde0ef\"],[0.5,\"#f7f7f7\"],[0.6,\"#e6f5d0\"],[0.7,\"#b8e186\"],[0.8,\"#7fbc41\"],[0.9,\"#4d9221\"],[1,\"#276419\"]],\"sequential\":[[0.0,\"#0d0887\"],[0.1111111111111111,\"#46039f\"],[0.2222222222222222,\"#7201a8\"],[0.3333333333333333,\"#9c179e\"],[0.4444444444444444,\"#bd3786\"],[0.5555555555555556,\"#d8576b\"],[0.6666666666666666,\"#ed7953\"],[0.7777777777777778,\"#fb9f3a\"],[0.8888888888888888,\"#fdca26\"],[1.0,\"#f0f921\"]],\"sequentialminus\":[[0.0,\"#0d0887\"],[0.1111111111111111,\"#46039f\"],[0.2222222222222222,\"#7201a8\"],[0.3333333333333333,\"#9c179e\"],[0.4444444444444444,\"#bd3786\"],[0.5555555555555556,\"#d8576b\"],[0.6666666666666666,\"#ed7953\"],[0.7777777777777778,\"#fb9f3a\"],[0.8888888888888888,\"#fdca26\"],[1.0,\"#f0f921\"]]},\"colorway\":[\"#636efa\",\"#EF553B\",\"#00cc96\",\"#ab63fa\",\"#FFA15A\",\"#19d3f3\",\"#FF6692\",\"#B6E880\",\"#FF97FF\",\"#FECB52\"],\"font\":{\"color\":\"#2a3f5f\"},\"geo\":{\"bgcolor\":\"white\",\"lakecolor\":\"white\",\"landcolor\":\"#E5ECF6\",\"showlakes\":true,\"showland\":true,\"subunitcolor\":\"white\"},\"hoverlabel\":{\"align\":\"left\"},\"hovermode\":\"closest\",\"mapbox\":{\"style\":\"light\"},\"paper_bgcolor\":\"white\",\"plot_bgcolor\":\"#E5ECF6\",\"polar\":{\"angularaxis\":{\"gridcolor\":\"white\",\"linecolor\":\"white\",\"ticks\":\"\"},\"bgcolor\":\"#E5ECF6\",\"radialaxis\":{\"gridcolor\":\"white\",\"linecolor\":\"white\",\"ticks\":\"\"}},\"scene\":{\"xaxis\":{\"backgroundcolor\":\"#E5ECF6\",\"gridcolor\":\"white\",\"gridwidth\":2,\"linecolor\":\"white\",\"showbackground\":true,\"ticks\":\"\",\"zerolinecolor\":\"white\"},\"yaxis\":{\"backgroundcolor\":\"#E5ECF6\",\"gridcolor\":\"white\",\"gridwidth\":2,\"linecolor\":\"white\",\"showbackground\":true,\"ticks\":\"\",\"zerolinecolor\":\"white\"},\"zaxis\":{\"backgroundcolor\":\"#E5ECF6\",\"gridcolor\":\"white\",\"gridwidth\":2,\"linecolor\":\"white\",\"showbackground\":true,\"ticks\":\"\",\"zerolinecolor\":\"white\"}},\"shapedefaults\":{\"line\":{\"color\":\"#2a3f5f\"}},\"ternary\":{\"aaxis\":{\"gridcolor\":\"white\",\"linecolor\":\"white\",\"ticks\":\"\"},\"baxis\":{\"gridcolor\":\"white\",\"linecolor\":\"white\",\"ticks\":\"\"},\"bgcolor\":\"#E5ECF6\",\"caxis\":{\"gridcolor\":\"white\",\"linecolor\":\"white\",\"ticks\":\"\"}},\"title\":{\"x\":0.05},\"xaxis\":{\"automargin\":true,\"gridcolor\":\"white\",\"linecolor\":\"white\",\"ticks\":\"\",\"title\":{\"standoff\":15},\"zerolinecolor\":\"white\",\"zerolinewidth\":2},\"yaxis\":{\"automargin\":true,\"gridcolor\":\"white\",\"linecolor\":\"white\",\"ticks\":\"\",\"title\":{\"standoff\":15},\"zerolinecolor\":\"white\",\"zerolinewidth\":2}}},\"mapbox\":{\"domain\":{\"x\":[0.0,1.0],\"y\":[0.0,1.0]},\"center\":{\"lat\":-6.33692537331599,\"lon\":36.66332402845387},\"zoom\":3,\"style\":\"open-street-map\"},\"legend\":{\"title\":{\"text\":\"round\"},\"tracegroupgap\":0},\"margin\":{\"t\":60}},                        {\"responsive\": true}                    ).then(function(){\n",
       "                            \n",
       "var gd = document.getElementById('a05870ca-30aa-4cd9-a440-3ffe41860d35');\n",
       "var x = new MutationObserver(function (mutations, observer) {{\n",
       "        var display = window.getComputedStyle(gd).display;\n",
       "        if (!display || display === 'none') {{\n",
       "            console.log([gd, 'removed!']);\n",
       "            Plotly.purge(gd);\n",
       "            observer.disconnect();\n",
       "        }}\n",
       "}});\n",
       "\n",
       "// Listen for the removal of the full notebook cells\n",
       "var notebookContainer = gd.closest('#notebook-container');\n",
       "if (notebookContainer) {{\n",
       "    x.observe(notebookContainer, {childList: true});\n",
       "}}\n",
       "\n",
       "// Listen for the clearing of the current output cell\n",
       "var outputEl = gd.closest('.output');\n",
       "if (outputEl) {{\n",
       "    x.observe(outputEl, {childList: true});\n",
       "}}\n",
       "\n",
       "                        })                };                });            </script>        </div>"
      ]
     },
     "metadata": {},
     "output_type": "display_data"
    }
   ],
   "source": [
    "fig = px.scatter_mapbox(tz_map_data, lat=\"lat_modified\", lon=\"lon_modified\", color = 'round',size_max=30, zoom=3)\n",
    "fig.update_layout(mapbox_style=\"open-street-map\")\n",
    "fig.show()"
   ]
  },
  {
   "cell_type": "code",
   "execution_count": 27,
   "id": "1e992387",
   "metadata": {},
   "outputs": [
    {
     "data": {
      "text/html": [
       "<div>\n",
       "<style scoped>\n",
       "    .dataframe tbody tr th:only-of-type {\n",
       "        vertical-align: middle;\n",
       "    }\n",
       "\n",
       "    .dataframe tbody tr th {\n",
       "        vertical-align: top;\n",
       "    }\n",
       "\n",
       "    .dataframe thead th {\n",
       "        text-align: right;\n",
       "    }\n",
       "</style>\n",
       "<table border=\"1\" class=\"dataframe\">\n",
       "  <thead>\n",
       "    <tr style=\"text-align: right;\">\n",
       "      <th></th>\n",
       "      <th>clusterid</th>\n",
       "      <th>lat_modified</th>\n",
       "      <th>lon_modified</th>\n",
       "      <th>round</th>\n",
       "      <th>year</th>\n",
       "    </tr>\n",
       "  </thead>\n",
       "  <tbody>\n",
       "    <tr>\n",
       "      <th>0</th>\n",
       "      <td>1114002</td>\n",
       "      <td>-5.08575</td>\n",
       "      <td>35.854389</td>\n",
       "      <td>1</td>\n",
       "      <td>2009</td>\n",
       "    </tr>\n",
       "    <tr>\n",
       "      <th>1</th>\n",
       "      <td>1203003</td>\n",
       "      <td>-6.45662</td>\n",
       "      <td>36.722858</td>\n",
       "      <td>1</td>\n",
       "      <td>2009</td>\n",
       "    </tr>\n",
       "    <tr>\n",
       "      <th>2</th>\n",
       "      <td>1217003</td>\n",
       "      <td>-6.61401</td>\n",
       "      <td>36.508659</td>\n",
       "      <td>1</td>\n",
       "      <td>2009</td>\n",
       "    </tr>\n",
       "    <tr>\n",
       "      <th>3</th>\n",
       "      <td>1313004</td>\n",
       "      <td>-6.17725</td>\n",
       "      <td>36.475750</td>\n",
       "      <td>1</td>\n",
       "      <td>2009</td>\n",
       "    </tr>\n",
       "    <tr>\n",
       "      <th>4</th>\n",
       "      <td>1313301</td>\n",
       "      <td>-6.22962</td>\n",
       "      <td>36.413330</td>\n",
       "      <td>1</td>\n",
       "      <td>2009</td>\n",
       "    </tr>\n",
       "    <tr>\n",
       "      <th>...</th>\n",
       "      <td>...</td>\n",
       "      <td>...</td>\n",
       "      <td>...</td>\n",
       "      <td>...</td>\n",
       "      <td>...</td>\n",
       "    </tr>\n",
       "    <tr>\n",
       "      <th>1334</th>\n",
       "      <td>20324004</td>\n",
       "      <td>-1.89927</td>\n",
       "      <td>33.401550</td>\n",
       "      <td>5</td>\n",
       "      <td>2019</td>\n",
       "    </tr>\n",
       "    <tr>\n",
       "      <th>1335</th>\n",
       "      <td>51107052</td>\n",
       "      <td>-5.84791</td>\n",
       "      <td>39.295750</td>\n",
       "      <td>5</td>\n",
       "      <td>2019</td>\n",
       "    </tr>\n",
       "    <tr>\n",
       "      <th>1336</th>\n",
       "      <td>53219008</td>\n",
       "      <td>-6.18554</td>\n",
       "      <td>39.216640</td>\n",
       "      <td>5</td>\n",
       "      <td>2019</td>\n",
       "    </tr>\n",
       "    <tr>\n",
       "      <th>1337</th>\n",
       "      <td>54117008</td>\n",
       "      <td>-5.06196</td>\n",
       "      <td>39.726410</td>\n",
       "      <td>5</td>\n",
       "      <td>2019</td>\n",
       "    </tr>\n",
       "    <tr>\n",
       "      <th>1338</th>\n",
       "      <td>54213016</td>\n",
       "      <td>-4.96328</td>\n",
       "      <td>39.830471</td>\n",
       "      <td>5</td>\n",
       "      <td>2019</td>\n",
       "    </tr>\n",
       "  </tbody>\n",
       "</table>\n",
       "<p>1339 rows × 5 columns</p>\n",
       "</div>"
      ],
      "text/plain": [
       "      clusterid  lat_modified  lon_modified round  year\n",
       "0       1114002      -5.08575     35.854389     1  2009\n",
       "1       1203003      -6.45662     36.722858     1  2009\n",
       "2       1217003      -6.61401     36.508659     1  2009\n",
       "3       1313004      -6.17725     36.475750     1  2009\n",
       "4       1313301      -6.22962     36.413330     1  2009\n",
       "...         ...           ...           ...   ...   ...\n",
       "1334   20324004      -1.89927     33.401550     5  2019\n",
       "1335   51107052      -5.84791     39.295750     5  2019\n",
       "1336   53219008      -6.18554     39.216640     5  2019\n",
       "1337   54117008      -5.06196     39.726410     5  2019\n",
       "1338   54213016      -4.96328     39.830471     5  2019\n",
       "\n",
       "[1339 rows x 5 columns]"
      ]
     },
     "execution_count": 27,
     "metadata": {},
     "output_type": "execute_result"
    }
   ],
   "source": [
    "tz_map_data = tz_map_data.reset_index(drop = True)\n",
    "tz_map_data"
   ]
  },
  {
   "cell_type": "code",
   "execution_count": 28,
   "id": "883d5765",
   "metadata": {},
   "outputs": [
    {
     "data": {
      "text/plain": [
       "year\n",
       "2009    409\n",
       "2011    409\n",
       "2013    409\n",
       "2015     56\n",
       "2019     56\n",
       "dtype: int64"
      ]
     },
     "execution_count": 28,
     "metadata": {},
     "output_type": "execute_result"
    }
   ],
   "source": [
    "tz_map_data.groupby('year').size()\n"
   ]
  },
  {
   "cell_type": "code",
   "execution_count": 29,
   "id": "dce3e414",
   "metadata": {},
   "outputs": [
    {
     "name": "stdout",
     "output_type": "stream",
     "text": [
      "56 enumeration areas are available for all 5 waves\n",
      "353 enumeration areas are available for the first three waves.\n"
     ]
    }
   ],
   "source": [
    "print(\"56 enumeration areas are available for all 5 waves\")\n",
    "print(409 - 56,\"enumeration areas are available for the first three waves.\")"
   ]
  },
  {
   "cell_type": "code",
   "execution_count": 31,
   "id": "b7e20620",
   "metadata": {},
   "outputs": [],
   "source": [
    "tz_geos = tz_map_data"
   ]
  },
  {
   "cell_type": "code",
   "execution_count": 32,
   "id": "801f1597",
   "metadata": {},
   "outputs": [
    {
     "data": {
      "text/html": [
       "<div>\n",
       "<style scoped>\n",
       "    .dataframe tbody tr th:only-of-type {\n",
       "        vertical-align: middle;\n",
       "    }\n",
       "\n",
       "    .dataframe tbody tr th {\n",
       "        vertical-align: top;\n",
       "    }\n",
       "\n",
       "    .dataframe thead th {\n",
       "        text-align: right;\n",
       "    }\n",
       "</style>\n",
       "<table border=\"1\" class=\"dataframe\">\n",
       "  <thead>\n",
       "    <tr style=\"text-align: right;\">\n",
       "      <th></th>\n",
       "      <th>clusterid</th>\n",
       "      <th>lat_modified</th>\n",
       "      <th>lon_modified</th>\n",
       "      <th>round</th>\n",
       "      <th>year</th>\n",
       "    </tr>\n",
       "  </thead>\n",
       "  <tbody>\n",
       "    <tr>\n",
       "      <th>0</th>\n",
       "      <td>1114002</td>\n",
       "      <td>-5.08575</td>\n",
       "      <td>35.854389</td>\n",
       "      <td>1</td>\n",
       "      <td>2009</td>\n",
       "    </tr>\n",
       "    <tr>\n",
       "      <th>1</th>\n",
       "      <td>1203003</td>\n",
       "      <td>-6.45662</td>\n",
       "      <td>36.722858</td>\n",
       "      <td>1</td>\n",
       "      <td>2009</td>\n",
       "    </tr>\n",
       "    <tr>\n",
       "      <th>2</th>\n",
       "      <td>1217003</td>\n",
       "      <td>-6.61401</td>\n",
       "      <td>36.508659</td>\n",
       "      <td>1</td>\n",
       "      <td>2009</td>\n",
       "    </tr>\n",
       "    <tr>\n",
       "      <th>3</th>\n",
       "      <td>1313004</td>\n",
       "      <td>-6.17725</td>\n",
       "      <td>36.475750</td>\n",
       "      <td>1</td>\n",
       "      <td>2009</td>\n",
       "    </tr>\n",
       "    <tr>\n",
       "      <th>4</th>\n",
       "      <td>1313301</td>\n",
       "      <td>-6.22962</td>\n",
       "      <td>36.413330</td>\n",
       "      <td>1</td>\n",
       "      <td>2009</td>\n",
       "    </tr>\n",
       "    <tr>\n",
       "      <th>...</th>\n",
       "      <td>...</td>\n",
       "      <td>...</td>\n",
       "      <td>...</td>\n",
       "      <td>...</td>\n",
       "      <td>...</td>\n",
       "    </tr>\n",
       "    <tr>\n",
       "      <th>1334</th>\n",
       "      <td>20324004</td>\n",
       "      <td>-1.89927</td>\n",
       "      <td>33.401550</td>\n",
       "      <td>5</td>\n",
       "      <td>2019</td>\n",
       "    </tr>\n",
       "    <tr>\n",
       "      <th>1335</th>\n",
       "      <td>51107052</td>\n",
       "      <td>-5.84791</td>\n",
       "      <td>39.295750</td>\n",
       "      <td>5</td>\n",
       "      <td>2019</td>\n",
       "    </tr>\n",
       "    <tr>\n",
       "      <th>1336</th>\n",
       "      <td>53219008</td>\n",
       "      <td>-6.18554</td>\n",
       "      <td>39.216640</td>\n",
       "      <td>5</td>\n",
       "      <td>2019</td>\n",
       "    </tr>\n",
       "    <tr>\n",
       "      <th>1337</th>\n",
       "      <td>54117008</td>\n",
       "      <td>-5.06196</td>\n",
       "      <td>39.726410</td>\n",
       "      <td>5</td>\n",
       "      <td>2019</td>\n",
       "    </tr>\n",
       "    <tr>\n",
       "      <th>1338</th>\n",
       "      <td>54213016</td>\n",
       "      <td>-4.96328</td>\n",
       "      <td>39.830471</td>\n",
       "      <td>5</td>\n",
       "      <td>2019</td>\n",
       "    </tr>\n",
       "  </tbody>\n",
       "</table>\n",
       "<p>1339 rows × 5 columns</p>\n",
       "</div>"
      ],
      "text/plain": [
       "      clusterid  lat_modified  lon_modified round  year\n",
       "0       1114002      -5.08575     35.854389     1  2009\n",
       "1       1203003      -6.45662     36.722858     1  2009\n",
       "2       1217003      -6.61401     36.508659     1  2009\n",
       "3       1313004      -6.17725     36.475750     1  2009\n",
       "4       1313301      -6.22962     36.413330     1  2009\n",
       "...         ...           ...           ...   ...   ...\n",
       "1334   20324004      -1.89927     33.401550     5  2019\n",
       "1335   51107052      -5.84791     39.295750     5  2019\n",
       "1336   53219008      -6.18554     39.216640     5  2019\n",
       "1337   54117008      -5.06196     39.726410     5  2019\n",
       "1338   54213016      -4.96328     39.830471     5  2019\n",
       "\n",
       "[1339 rows x 5 columns]"
      ]
     },
     "execution_count": 32,
     "metadata": {},
     "output_type": "execute_result"
    }
   ],
   "source": [
    "tz_geos"
   ]
  },
  {
   "cell_type": "markdown",
   "id": "32e2d757",
   "metadata": {},
   "source": [
    "# This is older stuff directly using the panel dataset..."
   ]
  },
  {
   "cell_type": "markdown",
   "id": "700402f3",
   "metadata": {},
   "source": [
    "Geovariables are only available for waves 1-3. In the panel dataset they are omitted, thus need to reconstruct them from the first wave.\n",
    "WV4 includes households as well as the panel dataset includes households that were nwely sampled in wv4 (only a subset was sampled in all four periods. However, this subset of households is also included in wv5.\n",
    "Thus, I remove all households that were only included once in wave 4 (also because I cannot reconstruct the geodata for them)."
   ]
  }
 ],
 "metadata": {
  "kernelspec": {
   "display_name": "Python 3 (ipykernel)",
   "language": "python",
   "name": "python3"
  },
  "language_info": {
   "codemirror_mode": {
    "name": "ipython",
    "version": 3
   },
   "file_extension": ".py",
   "mimetype": "text/x-python",
   "name": "python",
   "nbconvert_exporter": "python",
   "pygments_lexer": "ipython3",
   "version": "3.8.2"
  }
 },
 "nbformat": 4,
 "nbformat_minor": 5
}
