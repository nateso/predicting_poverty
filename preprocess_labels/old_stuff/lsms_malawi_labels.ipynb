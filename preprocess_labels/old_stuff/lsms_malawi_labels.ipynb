{
 "cells": [
  {
   "cell_type": "code",
   "execution_count": 22,
   "id": "68d0e4e3",
   "metadata": {},
   "outputs": [],
   "source": [
    "import pandas as pd\n",
    "import numpy as np\n",
    "import matplotlib.pyplot as plt\n",
    "import plotly.express as px\n",
    "import plotly.graph_objs as go\n",
    "import math"
   ]
  },
  {
   "cell_type": "code",
   "execution_count": 68,
   "id": "81629fa3",
   "metadata": {},
   "outputs": [],
   "source": [
    "# round 1\n",
    "mw1 = pd.read_stata(\"../../Data/lsms/Malawi/short_panel/HouseholdGeovariables_IHS3_Rerelease_10.dta\", \n",
    "                   columns = ['ea_id','case_id','lat_modified','lon_modified'])\n",
    "#mw1 = mw1.rename(columns = {\"lat_modified\":\"lat\", \"lon_modified\":\"lon\"})\n",
    "mw1['round'] = 1\n",
    "\n",
    "# get weights, dates and interview outcome \n",
    "mw1_a = pd.read_stata('../../Data/lsms/Malawi/short_panel/HH_MOD_A_FILT_10.dta', convert_categoricals = False)\n",
    "mw1_a = mw1_a.rename(columns = {\"hh_a23_1\":\"date_visit_1\", \"hh_a23_2\":\"date_visit_2\"})\n",
    "mw1_a = mw1_a[['case_id','ea_id','hh_wgt','reside','date_visit_1']]\n",
    "\n",
    "# get the asset data and consumption data\n",
    "mw_cons = pd.read_csv(\"../../Data/lsms/Malawi/wave_1/Panel/Round 1 (2010) Consumption Aggregate.csv\", \n",
    "                      usecols = ['case_id','hhsize','adulteq','rexpagg','pcrexpagg',\n",
    "                                 'absolute_povline','extreme_povline','poor','epoor'])\n",
    "mw_house = pd.read_csv(\"../../Data/lsms/Malawi/wave_1/Panel/Household/hh_mod_f.csv\")\n",
    "mw_house = mw_house.rename(columns = {'hh_f07':'wall_material',\n",
    "                                      'hh_f08':'roof_material',\n",
    "                                      'hh_f09':'floor_material',\n",
    "                                      'hh_f10':'n_rooms',\n",
    "                                      'hh_f11':'lighting_fuel',\n",
    "                                      'hh_f12':'cooking_fuel',\n",
    "                                      'hh_f19':'electricity',\n",
    "                                      'hh_f34':'n_cellphones',\n",
    "                                      'hh_f36':'water_source',\n",
    "                                      'hh_f41':'toilet_facility'})\n",
    "mw_house = mw_house[['case_id','wall_material','roof_material','floor_material','n_rooms','lighting_fuel',\n",
    "                    'cooking_fuel','electricity','n_cellphones','water_source','toilet_facility']]\n",
    "mw_ass = pd.read_csv(\"../../Data/lsms/Malawi/wave_1/Panel/Household/hh_mod_l.csv\")\n",
    "\n",
    "# for assets keep the Radio (507), TV (509),Bike (516), Motorbike (517), Car (518)\n",
    "mask = [i in [507,509,516,517,518] for i in mw_ass['hh_l02']]\n",
    "mw_ass = mw_ass.loc[mask,:].reset_index(drop = True)\n",
    "mw_ass['own'] = [1 if i == 1 else 0 for i in mw_ass['hh_l01']]\n",
    "code_asset_dict = {507:'radio',509:'tv',516:'bike',517:'motorbike',518:'car'}\n",
    "mw_ass['asset'] = [code_asset_dict[i] for i in mw_ass['hh_l02']]\n",
    "mw_ass = mw_ass[['case_id','asset','own']]\n",
    "mw_ass = mw_ass.pivot(index = 'case_id',columns = 'asset', values = 'own').reset_index()\n",
    "mw_ass.columns.name = None"
   ]
  }
 ],
 "metadata": {
  "kernelspec": {
   "display_name": "Python 3 (ipykernel)",
   "language": "python",
   "name": "python3"
  },
  "language_info": {
   "codemirror_mode": {
    "name": "ipython",
    "version": 3
   },
   "file_extension": ".py",
   "mimetype": "text/x-python",
   "name": "python",
   "nbconvert_exporter": "python",
   "pygments_lexer": "ipython3",
   "version": "3.8.2"
  }
 },
 "nbformat": 4,
 "nbformat_minor": 5
}
