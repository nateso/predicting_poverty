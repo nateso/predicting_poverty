{
 "cells": [
  {
   "cell_type": "markdown",
   "id": "f83192ef",
   "metadata": {},
   "source": [
    "# Train Model by country"
   ]
  },
  {
   "cell_type": "code",
   "execution_count": 1,
   "id": "c6c075f2",
   "metadata": {},
   "outputs": [],
   "source": [
    "import matplotlib\n",
    "import matplotlib.pyplot as plt\n",
    "import pandas as pd\n",
    "import numpy as np\n",
    "import pickle\n",
    "from tqdm.auto import tqdm\n",
    "\n",
    "from sklearn.metrics import r2_score\n",
    "from sklearn.metrics import mean_squared_error\n",
    "\n",
    "# set the font size for matplotlib and the font family.\n",
    "font = {'family' : 'sans-serif',\n",
    "        'weight' : 'normal',\n",
    "        'size'   : 16}\n",
    "\n",
    "matplotlib.rc('font', **font)"
   ]
  },
  {
   "cell_type": "code",
   "execution_count": 2,
   "id": "85546b01",
   "metadata": {},
   "outputs": [],
   "source": [
    "# load the necessary functions from the analysis package\n",
    "\n",
    "# load the variable names, this allows to access the variables in the feature data in a compact way\n",
    "from analysis_utils.variable_names import *\n",
    "\n",
    "# load flagged ids \n",
    "from analysis_utils.flagged_uids import *\n",
    "\n",
    "# load the functions to do spatial k-fold CV\n",
    "from analysis_utils.spatial_CV import *\n",
    "\n",
    "# load the helper functions\n",
    "from analysis_utils.analysis_helpers import *\n",
    "\n",
    "# load the random forest trainer and cross_validator\n",
    "import analysis_utils.RandomForest as rf\n",
    "\n",
    "# load the combien model\n",
    "from analysis_utils.CombinedModel import CombinedModel"
   ]
  },
  {
   "cell_type": "code",
   "execution_count": 3,
   "id": "f591882d",
   "metadata": {},
   "outputs": [],
   "source": [
    "# set the global file paths\n",
    "root_data_dir = \"../../Data\"\n",
    "\n",
    "# the lsms data\n",
    "lsms_pth = f\"{root_data_dir}/lsms/processed/labels_cluster_v1.csv\"\n",
    "\n",
    "# the feature data\n",
    "feat_data_pth = f\"{root_data_dir}/feature_data/tabular_data.csv\"\n",
    "\n",
    "# set the random seed\n",
    "random_seed = 423\n",
    "spatial_cv_random_seed = 348\n",
    "\n",
    "# set the number of folds for k-fold CV\n",
    "n_folds = 5"
   ]
  },
  {
   "cell_type": "code",
   "execution_count": 4,
   "id": "fcf85078",
   "metadata": {},
   "outputs": [
    {
     "name": "stdout",
     "output_type": "stream",
     "text": [
      "Number of observations 6401\n",
      "Number of clusters 2128\n",
      "Number of x vars 113\n"
     ]
    }
   ],
   "source": [
    "# load the feature and the label data\n",
    "lsms_df = pd.read_csv(lsms_pth)\n",
    "\n",
    "# remove flagged ids form dataset\n",
    "lsms_df = lsms_df[~lsms_df.unique_id.isin(flagged_uids)].reset_index(drop = True)\n",
    "\n",
    "# create average varaibles for the between model\n",
    "lsms_df['avg_log_mean_pc_cons_usd_2017'] = lsms_df.groupby('cluster_id')['log_mean_pc_cons_usd_2017'].transform('mean')\n",
    "lsms_df['avg_mean_asset_index_yeh'] = lsms_df.groupby('cluster_id')['mean_asset_index_yeh'].transform('mean')\n",
    "\n",
    "# load the feature data\n",
    "feat_df = pd.read_csv(feat_data_pth)\n",
    "\n",
    "# describe the training data broadly\n",
    "print(f\"Number of observations {len(lsms_df)}\")\n",
    "print(f\"Number of clusters {len(np.unique(lsms_df.cluster_id))}\")\n",
    "print(f\"Number of x vars {len(feat_df.columns)-2}\")"
   ]
  },
  {
   "cell_type": "code",
   "execution_count": 5,
   "id": "3a04c985",
   "metadata": {},
   "outputs": [],
   "source": [
    "# merge the label and the feature data to one dataset\n",
    "lsms_vars = ['unique_id','n_households', 'country', 'lat', 'lon',        \n",
    "             'log_mean_pc_cons_usd_2017', 'avg_log_mean_pc_cons_usd_2017',\n",
    "             'mean_asset_index_yeh', 'avg_mean_asset_index_yeh']\n",
    "df = pd.merge(lsms_df[lsms_vars], feat_df, on = 'unique_id', how = 'left')"
   ]
  },
  {
   "cell_type": "code",
   "execution_count": 6,
   "id": "7b266418",
   "metadata": {},
   "outputs": [],
   "source": [
    "# define the x variables and the target variable for the between and within models\n",
    "\n",
    "# define the between variables\n",
    "avg_rs_vars = avg_ndvi_vars + avg_ndwi_gao_vars + avg_nl_vars\n",
    "osm_vars = osm_dist_vars + osm_count_vars + osm_road_vars\n",
    "between_x_vars = osm_vars + esa_lc_vars + wsf_vars + avg_rs_vars + avg_preciptiation + median_rgb_vars \n",
    "between_target_var = 'avg_log_mean_pc_cons_usd_2017'\n",
    "\n",
    "# define the within varaibles\n",
    "dyn_rs_vars = dyn_ndvi_vars + dyn_ndwi_gao_vars + dyn_nl_vars\n",
    "within_x_vars = dyn_rs_vars + precipitation + dyn_rgb_vars\n",
    "within_target_var = 'log_mean_pc_cons_usd_2017'"
   ]
  },
  {
   "cell_type": "code",
   "execution_count": 7,
   "id": "8e1a65c2",
   "metadata": {},
   "outputs": [],
   "source": [
    "# define the between and the within df\n",
    "\n",
    "between_df = df[['cluster_id', 'country', between_target_var] + between_x_vars].drop_duplicates().reset_index(drop = True)\n",
    "within_df = df[['unique_id', 'cluster_id', 'country',within_target_var] + within_x_vars]"
   ]
  },
  {
   "cell_type": "markdown",
   "id": "61cbc4ec",
   "metadata": {},
   "source": [
    "# Run the CV"
   ]
  },
  {
   "cell_type": "code",
   "execution_count": 8,
   "id": "15bc630d",
   "metadata": {},
   "outputs": [],
   "source": [
    "# train a model on each country and evaluate on the remaining countries.\n",
    "# for the country itself, use spatial cross validation to evaluate the model"
   ]
  },
  {
   "cell_type": "code",
   "execution_count": 9,
   "id": "4ffa039b",
   "metadata": {},
   "outputs": [
    {
     "data": {
      "application/vnd.jupyter.widget-view+json": {
       "model_id": "6e73ee6329cd43feb22d061991f36632",
       "version_major": 2,
       "version_minor": 0
      },
      "text/plain": [
       "  0%|          | 0/5 [00:00<?, ?it/s]"
      ]
     },
     "metadata": {},
     "output_type": "display_data"
    }
   ],
   "source": [
    "countries = ['eth', 'mwi', 'nga', 'tza', 'uga']\n",
    "cross_cntry_res = {}\n",
    "\n",
    "between_df_norm = standardise_df(between_df, exclude_cols = [between_target_var])\n",
    "demeaned_df_norm = standardise_df(demean_df(within_df), exclude_cols = [within_target_var])\n",
    "demeaned_df_norm['country'] = within_df['country']\n",
    "\n",
    "for cntry in tqdm(countries):\n",
    "    \n",
    "    # subset the training data\n",
    "    train_between_df_norm = between_df_norm[between_df_norm.country == cntry].reset_index(drop = True)\n",
    "    train_demeaned_df_norm = demeaned_df_norm[demeaned_df_norm.country == cntry].reset_index(drop = True)\n",
    "    \n",
    "    # get the X and y vectors\n",
    "    X_train_between = train_between_df_norm.loc[:, between_x_vars]\n",
    "    y_train_between = np.array(train_between_df_norm[[between_target_var]]).ravel()\n",
    "    \n",
    "    X_train_within = train_demeaned_df_norm.loc[:, within_x_vars]\n",
    "    y_train_within = np.array(train_demeaned_df_norm[[within_target_var]]).ravel()\n",
    "    \n",
    "    # train the between model\n",
    "    between_rf = rf.Trainer(X_train_between, y_train_between, None, None, random_seed)\n",
    "    between_rf.train(min_samples_leaf = 1)\n",
    "    \n",
    "    # train within model\n",
    "    within_rf = rf.Trainer(X_train_within, y_train_within, None, None, random_seed)\n",
    "    within_rf.train(min_samples_leaf = 1)\n",
    "    \n",
    "    # evaluate the between and the within models on all other countries\n",
    "    val_countries = [i for i in countries if i != cntry]\n",
    "    \n",
    "    # define object to store results of country\n",
    "    cross_cntry_res[cntry] = {\n",
    "        'between_r2': [],\n",
    "        'within_r2': [], \n",
    "        'overall_r2': [],\n",
    "        'val_cntry': []\n",
    "    }\n",
    "    \n",
    "    for val_cntry in val_countries:\n",
    "        \n",
    "        # subset the data to the validation country\n",
    "        val_df = df.loc[df.country == val_cntry].reset_index(drop = True)\n",
    "        \n",
    "        # normalise data\n",
    "        val_between_df_norm = between_df_norm[between_df_norm.country == val_cntry].reset_index(drop = True)\n",
    "        val_demeaned_df_norm = demeaned_df_norm[demeaned_df_norm.country == val_cntry].reset_index(drop = True)\n",
    "    \n",
    "        # get the X and y vectors\n",
    "        X_val_between = val_between_df_norm.loc[:, between_x_vars]\n",
    "        y_val_between = np.array(val_between_df_norm[[between_target_var]]).ravel()\n",
    "\n",
    "        X_val_within = val_demeaned_df_norm.loc[:, within_x_vars]\n",
    "        y_val_within = np.array(val_demeaned_df_norm[[within_target_var]]).ravel()\n",
    "        \n",
    "        # validate both models on the validation country\n",
    "        between_preds, between_r2, between_mse = between_rf.validate(X_val_between, y_val_between)\n",
    "        between_preds_df = pd.DataFrame({\n",
    "            'cluster_id': val_between_df_norm.cluster_id,\n",
    "            'between_y_hat': between_preds\n",
    "        })\n",
    "        \n",
    "        # validate the within model\n",
    "        within_preds, within_r2, within_mse = within_rf.validate(X_val_within, y_val_within)\n",
    "        within_preds_df = pd.DataFrame({\n",
    "            'unique_id': val_demeaned_df_norm.unique_id,\n",
    "            'cluster_id': val_demeaned_df_norm.cluster_id,\n",
    "            'within_y_hat': within_preds\n",
    "        })\n",
    "        \n",
    "        # combine both predictions\n",
    "        preds_df = pd.merge(within_preds_df, between_preds_df, on = 'cluster_id', how = 'left')\n",
    "        preds_df['y_hat'] = preds_df['between_y_hat'] + preds_df['within_y_hat']\n",
    "        preds_df['y'] = val_df['log_mean_pc_cons_usd_2017']\n",
    "        \n",
    "        # evaluate the predictions\n",
    "        overall_r2 = r2_score(preds_df['y'], preds_df['y_hat'])\n",
    "        \n",
    "        # results\n",
    "        cross_cntry_res[cntry]['between_r2'].append(between_r2)\n",
    "        cross_cntry_res[cntry]['within_r2'].append(within_r2)\n",
    "        cross_cntry_res[cntry]['overall_r2'].append(overall_r2)\n",
    "        cross_cntry_res[cntry]['val_cntry'].append(val_cntry)"
   ]
  },
  {
   "cell_type": "code",
   "execution_count": 10,
   "id": "82bf99a2",
   "metadata": {},
   "outputs": [],
   "source": [
    "# save results\n",
    "pth = 'results/robustness/cross_cntry_res.pkl'\n",
    "with open(pth, 'wb') as f:\n",
    "    pickle.dump(cross_cntry_res, f)"
   ]
  },
  {
   "cell_type": "markdown",
   "id": "e79bccb5",
   "metadata": {},
   "source": [
    "# Train on country and evaluate on country"
   ]
  },
  {
   "cell_type": "code",
   "execution_count": 11,
   "id": "8264c72c",
   "metadata": {},
   "outputs": [
    {
     "data": {
      "application/vnd.jupyter.widget-view+json": {
       "model_id": "eb905331eee74d0890dd3de8aa62b5d2",
       "version_major": 2,
       "version_minor": 0
      },
      "text/plain": [
       "  0%|          | 0/5 [00:00<?, ?it/s]"
      ]
     },
     "metadata": {},
     "output_type": "display_data"
    },
    {
     "name": "stdout",
     "output_type": "stream",
     "text": [
      "====================================================================================================\n",
      "Training and Evaluating on country eth\n",
      "====================================================================================================\n",
      "\n",
      "\n",
      "....................................................................................................\n",
      "Iteration 0\n",
      "....................................................................................................\n",
      "Fold 0, specified test ratio: 0.2 - Actual test ratio 0.20\n",
      "Fold 1, specified test ratio: 0.2 - Actual test ratio 0.20\n",
      "Fold 2, specified test ratio: 0.2 - Actual test ratio 0.20\n",
      "Fold 3, specified test ratio: 0.2 - Actual test ratio 0.20\n",
      "Fold 4, specified test ratio: 0.2 - Actual test ratio 0.19\n",
      "\n",
      "\tBetween model\n",
      "Initialising training\n"
     ]
    },
    {
     "data": {
      "application/vnd.jupyter.widget-view+json": {
       "model_id": "d9e852117f264cacb872981658e0eb40",
       "version_major": 2,
       "version_minor": 0
      },
      "text/plain": [
       "  0%|          | 0/5 [00:00<?, ?it/s]"
      ]
     },
     "metadata": {},
     "output_type": "display_data"
    },
    {
     "name": "stdout",
     "output_type": "stream",
     "text": [
      "Finished training after 68 seconds\n",
      "\n",
      "\tWithin Model\n",
      "Initialising training\n"
     ]
    },
    {
     "data": {
      "application/vnd.jupyter.widget-view+json": {
       "model_id": "6981a43dad2b4d47ba25960870f4fb1d",
       "version_major": 2,
       "version_minor": 0
      },
      "text/plain": [
       "  0%|          | 0/5 [00:00<?, ?it/s]"
      ]
     },
     "metadata": {},
     "output_type": "display_data"
    },
    {
     "name": "stdout",
     "output_type": "stream",
     "text": [
      "Finished training after 119 seconds\n",
      "\t{'combined': 0.30718322448674035, 'between': 0.4100329622482507, 'within': 0.08672138834756424}\n",
      "....................................................................................................\n",
      "Iteration 1\n",
      "....................................................................................................\n",
      "Fold 0, specified test ratio: 0.2 - Actual test ratio 0.21\n",
      "Fold 1, specified test ratio: 0.2 - Actual test ratio 0.20\n",
      "Fold 2, specified test ratio: 0.2 - Actual test ratio 0.20\n",
      "Fold 3, specified test ratio: 0.2 - Actual test ratio 0.21\n",
      "Fold 4, specified test ratio: 0.2 - Actual test ratio 0.18\n",
      "\n",
      "\tBetween model\n",
      "Initialising training\n"
     ]
    },
    {
     "data": {
      "application/vnd.jupyter.widget-view+json": {
       "model_id": "f459ea984cad498c976a67b4f19d2064",
       "version_major": 2,
       "version_minor": 0
      },
      "text/plain": [
       "  0%|          | 0/5 [00:00<?, ?it/s]"
      ]
     },
     "metadata": {},
     "output_type": "display_data"
    },
    {
     "name": "stdout",
     "output_type": "stream",
     "text": [
      "Finished training after 69 seconds\n",
      "\n",
      "\tWithin Model\n",
      "Initialising training\n"
     ]
    },
    {
     "data": {
      "application/vnd.jupyter.widget-view+json": {
       "model_id": "698b0b3a1b5445f882d8e132dc2e806d",
       "version_major": 2,
       "version_minor": 0
      },
      "text/plain": [
       "  0%|          | 0/5 [00:00<?, ?it/s]"
      ]
     },
     "metadata": {},
     "output_type": "display_data"
    },
    {
     "name": "stdout",
     "output_type": "stream",
     "text": [
      "Finished training after 120 seconds\n",
      "\t{'combined': 0.2612390778239202, 'between': 0.3426766083384696, 'within': 0.09354637724916197}\n",
      "....................................................................................................\n",
      "Iteration 2\n",
      "....................................................................................................\n",
      "Fold 0, specified test ratio: 0.2 - Actual test ratio 0.20\n",
      "Fold 1, specified test ratio: 0.2 - Actual test ratio 0.22\n",
      "Fold 2, specified test ratio: 0.2 - Actual test ratio 0.20\n",
      "Fold 3, specified test ratio: 0.2 - Actual test ratio 0.20\n",
      "Fold 4, specified test ratio: 0.2 - Actual test ratio 0.18\n",
      "\n",
      "\tBetween model\n",
      "Initialising training\n"
     ]
    },
    {
     "data": {
      "application/vnd.jupyter.widget-view+json": {
       "model_id": "fa1831c5040e4998884b6d025a480503",
       "version_major": 2,
       "version_minor": 0
      },
      "text/plain": [
       "  0%|          | 0/5 [00:00<?, ?it/s]"
      ]
     },
     "metadata": {},
     "output_type": "display_data"
    },
    {
     "name": "stdout",
     "output_type": "stream",
     "text": [
      "Finished training after 68 seconds\n",
      "\n",
      "\tWithin Model\n",
      "Initialising training\n"
     ]
    },
    {
     "data": {
      "application/vnd.jupyter.widget-view+json": {
       "model_id": "1ccb894027804a6283c92fe74ebd4922",
       "version_major": 2,
       "version_minor": 0
      },
      "text/plain": [
       "  0%|          | 0/5 [00:00<?, ?it/s]"
      ]
     },
     "metadata": {},
     "output_type": "display_data"
    },
    {
     "name": "stdout",
     "output_type": "stream",
     "text": [
      "Finished training after 123 seconds\n",
      "\t{'combined': 0.2757325895094271, 'between': 0.36132333230618807, 'within': 0.07223921633470567}\n",
      "....................................................................................................\n",
      "Iteration 3\n",
      "....................................................................................................\n",
      "Fold 0, specified test ratio: 0.2 - Actual test ratio 0.20\n",
      "Fold 1, specified test ratio: 0.2 - Actual test ratio 0.20\n",
      "Fold 2, specified test ratio: 0.2 - Actual test ratio 0.20\n",
      "Fold 3, specified test ratio: 0.2 - Actual test ratio 0.20\n",
      "Fold 4, specified test ratio: 0.2 - Actual test ratio 0.20\n",
      "\n",
      "\tBetween model\n",
      "Initialising training\n"
     ]
    },
    {
     "data": {
      "application/vnd.jupyter.widget-view+json": {
       "model_id": "25f76bf05a8240b59bb26fb6f8cc2623",
       "version_major": 2,
       "version_minor": 0
      },
      "text/plain": [
       "  0%|          | 0/5 [00:00<?, ?it/s]"
      ]
     },
     "metadata": {},
     "output_type": "display_data"
    },
    {
     "name": "stdout",
     "output_type": "stream",
     "text": [
      "Finished training after 70 seconds\n",
      "\n",
      "\tWithin Model\n",
      "Initialising training\n"
     ]
    },
    {
     "data": {
      "application/vnd.jupyter.widget-view+json": {
       "model_id": "0731acdbac5f4e70bed657af16e23b67",
       "version_major": 2,
       "version_minor": 0
      },
      "text/plain": [
       "  0%|          | 0/5 [00:00<?, ?it/s]"
      ]
     },
     "metadata": {},
     "output_type": "display_data"
    },
    {
     "name": "stdout",
     "output_type": "stream",
     "text": [
      "Finished training after 122 seconds\n",
      "\t{'combined': 0.30246560043445225, 'between': 0.39332408680475134, 'within': 0.06319286082119273}\n",
      "....................................................................................................\n",
      "Iteration 4\n",
      "....................................................................................................\n",
      "Fold 0, specified test ratio: 0.2 - Actual test ratio 0.21\n",
      "Fold 1, specified test ratio: 0.2 - Actual test ratio 0.20\n",
      "Fold 2, specified test ratio: 0.2 - Actual test ratio 0.20\n",
      "Fold 3, specified test ratio: 0.2 - Actual test ratio 0.20\n",
      "Fold 4, specified test ratio: 0.2 - Actual test ratio 0.18\n",
      "\n",
      "\tBetween model\n",
      "Initialising training\n"
     ]
    },
    {
     "data": {
      "application/vnd.jupyter.widget-view+json": {
       "model_id": "ae0ce911dd89408e8cab357f24defd38",
       "version_major": 2,
       "version_minor": 0
      },
      "text/plain": [
       "  0%|          | 0/5 [00:00<?, ?it/s]"
      ]
     },
     "metadata": {},
     "output_type": "display_data"
    },
    {
     "name": "stdout",
     "output_type": "stream",
     "text": [
      "Finished training after 71 seconds\n",
      "\n",
      "\tWithin Model\n",
      "Initialising training\n"
     ]
    },
    {
     "data": {
      "application/vnd.jupyter.widget-view+json": {
       "model_id": "54961d54697f4df79e1cfd093ed26480",
       "version_major": 2,
       "version_minor": 0
      },
      "text/plain": [
       "  0%|          | 0/5 [00:00<?, ?it/s]"
      ]
     },
     "metadata": {},
     "output_type": "display_data"
    },
    {
     "name": "stdout",
     "output_type": "stream",
     "text": [
      "Finished training after 122 seconds\n",
      "\t{'combined': 0.27516396269826354, 'between': 0.361686830624868, 'within': 0.07488085103063254}\n",
      "....................................................................................................\n",
      "Iteration 5\n",
      "....................................................................................................\n",
      "Fold 0, specified test ratio: 0.2 - Actual test ratio 0.20\n",
      "Fold 1, specified test ratio: 0.2 - Actual test ratio 0.21\n",
      "Fold 2, specified test ratio: 0.2 - Actual test ratio 0.20\n",
      "Fold 3, specified test ratio: 0.2 - Actual test ratio 0.20\n",
      "Fold 4, specified test ratio: 0.2 - Actual test ratio 0.19\n",
      "\n",
      "\tBetween model\n",
      "Initialising training\n"
     ]
    },
    {
     "data": {
      "application/vnd.jupyter.widget-view+json": {
       "model_id": "6afa0f6fa61f4b09b3d329c68cab5475",
       "version_major": 2,
       "version_minor": 0
      },
      "text/plain": [
       "  0%|          | 0/5 [00:00<?, ?it/s]"
      ]
     },
     "metadata": {},
     "output_type": "display_data"
    },
    {
     "name": "stdout",
     "output_type": "stream",
     "text": [
      "Finished training after 70 seconds\n",
      "\n",
      "\tWithin Model\n",
      "Initialising training\n"
     ]
    },
    {
     "data": {
      "application/vnd.jupyter.widget-view+json": {
       "model_id": "129c3ef73da5476e9d4f1b0640f8c866",
       "version_major": 2,
       "version_minor": 0
      },
      "text/plain": [
       "  0%|          | 0/5 [00:00<?, ?it/s]"
      ]
     },
     "metadata": {},
     "output_type": "display_data"
    },
    {
     "name": "stdout",
     "output_type": "stream",
     "text": [
      "Finished training after 122 seconds\n",
      "\t{'combined': 0.2919038837669459, 'between': 0.3863582811974017, 'within': 0.09048771881650926}\n",
      "....................................................................................................\n",
      "Iteration 6\n",
      "....................................................................................................\n",
      "Fold 0, specified test ratio: 0.2 - Actual test ratio 0.20\n",
      "Fold 1, specified test ratio: 0.2 - Actual test ratio 0.20\n",
      "Fold 2, specified test ratio: 0.2 - Actual test ratio 0.20\n",
      "Fold 3, specified test ratio: 0.2 - Actual test ratio 0.20\n",
      "Fold 4, specified test ratio: 0.2 - Actual test ratio 0.19\n",
      "\n",
      "\tBetween model\n",
      "Initialising training\n"
     ]
    },
    {
     "data": {
      "application/vnd.jupyter.widget-view+json": {
       "model_id": "19278e7a846d474aa6f831873734e38f",
       "version_major": 2,
       "version_minor": 0
      },
      "text/plain": [
       "  0%|          | 0/5 [00:00<?, ?it/s]"
      ]
     },
     "metadata": {},
     "output_type": "display_data"
    },
    {
     "name": "stdout",
     "output_type": "stream",
     "text": [
      "Finished training after 70 seconds\n",
      "\n",
      "\tWithin Model\n",
      "Initialising training\n"
     ]
    },
    {
     "data": {
      "application/vnd.jupyter.widget-view+json": {
       "model_id": "6daed9e07ace4f6ba0a80079c02c4207",
       "version_major": 2,
       "version_minor": 0
      },
      "text/plain": [
       "  0%|          | 0/5 [00:00<?, ?it/s]"
      ]
     },
     "metadata": {},
     "output_type": "display_data"
    },
    {
     "name": "stdout",
     "output_type": "stream",
     "text": [
      "Finished training after 121 seconds\n",
      "\t{'combined': 0.30020527164366206, 'between': 0.37960813584076925, 'within': 0.0968143760226046}\n",
      "....................................................................................................\n",
      "Iteration 7\n",
      "....................................................................................................\n",
      "Fold 0, specified test ratio: 0.2 - Actual test ratio 0.22\n",
      "Fold 1, specified test ratio: 0.2 - Actual test ratio 0.20\n",
      "Fold 2, specified test ratio: 0.2 - Actual test ratio 0.20\n",
      "Fold 3, specified test ratio: 0.2 - Actual test ratio 0.20\n",
      "Fold 4, specified test ratio: 0.2 - Actual test ratio 0.18\n",
      "\n",
      "\tBetween model\n",
      "Initialising training\n"
     ]
    },
    {
     "data": {
      "application/vnd.jupyter.widget-view+json": {
       "model_id": "76606f3242784b94a3893f91d743e9d3",
       "version_major": 2,
       "version_minor": 0
      },
      "text/plain": [
       "  0%|          | 0/5 [00:00<?, ?it/s]"
      ]
     },
     "metadata": {},
     "output_type": "display_data"
    },
    {
     "name": "stdout",
     "output_type": "stream",
     "text": [
      "Finished training after 70 seconds\n",
      "\n",
      "\tWithin Model\n",
      "Initialising training\n"
     ]
    },
    {
     "data": {
      "application/vnd.jupyter.widget-view+json": {
       "model_id": "a6c6fd3304ee4ee0b03c208d0d42598b",
       "version_major": 2,
       "version_minor": 0
      },
      "text/plain": [
       "  0%|          | 0/5 [00:00<?, ?it/s]"
      ]
     },
     "metadata": {},
     "output_type": "display_data"
    },
    {
     "name": "stdout",
     "output_type": "stream",
     "text": [
      "Finished training after 122 seconds\n",
      "\t{'combined': 0.2783693987122319, 'between': 0.3631529141202763, 'within': 0.08875363227734683}\n",
      "....................................................................................................\n",
      "Iteration 8\n",
      "....................................................................................................\n",
      "Fold 0, specified test ratio: 0.2 - Actual test ratio 0.21\n",
      "Fold 1, specified test ratio: 0.2 - Actual test ratio 0.21\n",
      "Fold 2, specified test ratio: 0.2 - Actual test ratio 0.21\n",
      "Fold 3, specified test ratio: 0.2 - Actual test ratio 0.20\n",
      "Fold 4, specified test ratio: 0.2 - Actual test ratio 0.17\n",
      "\n",
      "\tBetween model\n",
      "Initialising training\n"
     ]
    },
    {
     "data": {
      "application/vnd.jupyter.widget-view+json": {
       "model_id": "3f80080152034ccf85ff126780e3a80e",
       "version_major": 2,
       "version_minor": 0
      },
      "text/plain": [
       "  0%|          | 0/5 [00:00<?, ?it/s]"
      ]
     },
     "metadata": {},
     "output_type": "display_data"
    },
    {
     "name": "stdout",
     "output_type": "stream",
     "text": [
      "Finished training after 70 seconds\n",
      "\n",
      "\tWithin Model\n",
      "Initialising training\n"
     ]
    },
    {
     "data": {
      "application/vnd.jupyter.widget-view+json": {
       "model_id": "f80c42b8ade3464d84185be40bf52078",
       "version_major": 2,
       "version_minor": 0
      },
      "text/plain": [
       "  0%|          | 0/5 [00:00<?, ?it/s]"
      ]
     },
     "metadata": {},
     "output_type": "display_data"
    },
    {
     "name": "stdout",
     "output_type": "stream",
     "text": [
      "Finished training after 121 seconds\n",
      "\t{'combined': 0.2858216407519644, 'between': 0.3781252909305448, 'within': 0.07648611926850948}\n",
      "....................................................................................................\n",
      "Iteration 9\n",
      "....................................................................................................\n",
      "Fold 0, specified test ratio: 0.2 - Actual test ratio 0.20\n",
      "Fold 1, specified test ratio: 0.2 - Actual test ratio 0.20\n",
      "Fold 2, specified test ratio: 0.2 - Actual test ratio 0.21\n",
      "Fold 3, specified test ratio: 0.2 - Actual test ratio 0.20\n",
      "Fold 4, specified test ratio: 0.2 - Actual test ratio 0.19\n",
      "\n",
      "\tBetween model\n",
      "Initialising training\n"
     ]
    },
    {
     "data": {
      "application/vnd.jupyter.widget-view+json": {
       "model_id": "913f2f37543a420390e7e1224273348b",
       "version_major": 2,
       "version_minor": 0
      },
      "text/plain": [
       "  0%|          | 0/5 [00:00<?, ?it/s]"
      ]
     },
     "metadata": {},
     "output_type": "display_data"
    },
    {
     "name": "stdout",
     "output_type": "stream",
     "text": [
      "Finished training after 70 seconds\n",
      "\n",
      "\tWithin Model\n",
      "Initialising training\n"
     ]
    },
    {
     "data": {
      "application/vnd.jupyter.widget-view+json": {
       "model_id": "25dd3ca1ccec4d9aab415694cdfd65a3",
       "version_major": 2,
       "version_minor": 0
      },
      "text/plain": [
       "  0%|          | 0/5 [00:00<?, ?it/s]"
      ]
     },
     "metadata": {},
     "output_type": "display_data"
    },
    {
     "name": "stdout",
     "output_type": "stream",
     "text": [
      "Finished training after 121 seconds\n",
      "\t{'combined': 0.2871810669991151, 'between': 0.39627521751915756, 'within': 0.0790805031403716}\n",
      "====================================================================================================\n",
      "Training and Evaluating on country mwi\n",
      "====================================================================================================\n",
      "\n",
      "\n",
      "....................................................................................................\n",
      "Iteration 0\n",
      "....................................................................................................\n",
      "Fold 0, specified test ratio: 0.2 - Actual test ratio 0.21\n",
      "Fold 1, specified test ratio: 0.2 - Actual test ratio 0.20\n",
      "Fold 2, specified test ratio: 0.2 - Actual test ratio 0.20\n",
      "Fold 3, specified test ratio: 0.2 - Actual test ratio 0.26\n",
      "Fold 4, specified test ratio: 0.2 - Actual test ratio 0.14\n",
      "\n",
      "\tBetween model\n",
      "Initialising training\n"
     ]
    },
    {
     "data": {
      "application/vnd.jupyter.widget-view+json": {
       "model_id": "1fb19e894a1643368ddcf25b46cb7968",
       "version_major": 2,
       "version_minor": 0
      },
      "text/plain": [
       "  0%|          | 0/5 [00:00<?, ?it/s]"
      ]
     },
     "metadata": {},
     "output_type": "display_data"
    },
    {
     "name": "stdout",
     "output_type": "stream",
     "text": [
      "Finished training after 50 seconds\n",
      "\n",
      "\tWithin Model\n",
      "Initialising training\n"
     ]
    },
    {
     "data": {
      "application/vnd.jupyter.widget-view+json": {
       "model_id": "1ed4411da3a1430187f3d077447cb7bc",
       "version_major": 2,
       "version_minor": 0
      },
      "text/plain": [
       "  0%|          | 0/5 [00:00<?, ?it/s]"
      ]
     },
     "metadata": {},
     "output_type": "display_data"
    },
    {
     "name": "stdout",
     "output_type": "stream",
     "text": [
      "Finished training after 60 seconds\n",
      "\t{'combined': 0.3231413274389484, 'between': 0.3619760937489842, 'within': -0.052061774720162865}\n",
      "....................................................................................................\n",
      "Iteration 1\n",
      "....................................................................................................\n",
      "Fold 0, specified test ratio: 0.2 - Actual test ratio 0.20\n",
      "Fold 1, specified test ratio: 0.2 - Actual test ratio 0.21\n",
      "Fold 2, specified test ratio: 0.2 - Actual test ratio 0.20\n",
      "Fold 3, specified test ratio: 0.2 - Actual test ratio 0.21\n",
      "Fold 4, specified test ratio: 0.2 - Actual test ratio 0.19\n",
      "\n",
      "\tBetween model\n",
      "Initialising training\n"
     ]
    },
    {
     "data": {
      "application/vnd.jupyter.widget-view+json": {
       "model_id": "c4f0a544f3be4afb98a4fef4c50cd9c6",
       "version_major": 2,
       "version_minor": 0
      },
      "text/plain": [
       "  0%|          | 0/5 [00:00<?, ?it/s]"
      ]
     },
     "metadata": {},
     "output_type": "display_data"
    },
    {
     "name": "stdout",
     "output_type": "stream",
     "text": [
      "Finished training after 50 seconds\n",
      "\n",
      "\tWithin Model\n",
      "Initialising training\n"
     ]
    },
    {
     "data": {
      "application/vnd.jupyter.widget-view+json": {
       "model_id": "baa6af88eb824f7aabe45bfc175afdc7",
       "version_major": 2,
       "version_minor": 0
      },
      "text/plain": [
       "  0%|          | 0/5 [00:00<?, ?it/s]"
      ]
     },
     "metadata": {},
     "output_type": "display_data"
    },
    {
     "name": "stdout",
     "output_type": "stream",
     "text": [
      "Finished training after 59 seconds\n",
      "\t{'combined': 0.34643467911880027, 'between': 0.3743275018630578, 'within': 0.008312697413136205}\n",
      "....................................................................................................\n",
      "Iteration 2\n",
      "....................................................................................................\n",
      "Fold 0, specified test ratio: 0.2 - Actual test ratio 0.21\n",
      "Fold 1, specified test ratio: 0.2 - Actual test ratio 0.20\n",
      "Fold 2, specified test ratio: 0.2 - Actual test ratio 0.21\n",
      "Fold 3, specified test ratio: 0.2 - Actual test ratio 0.21\n",
      "Fold 4, specified test ratio: 0.2 - Actual test ratio 0.17\n",
      "\n",
      "\tBetween model\n",
      "Initialising training\n"
     ]
    },
    {
     "data": {
      "application/vnd.jupyter.widget-view+json": {
       "model_id": "bc52acf1383648ac85b2cf34cdb7885e",
       "version_major": 2,
       "version_minor": 0
      },
      "text/plain": [
       "  0%|          | 0/5 [00:00<?, ?it/s]"
      ]
     },
     "metadata": {},
     "output_type": "display_data"
    },
    {
     "name": "stdout",
     "output_type": "stream",
     "text": [
      "Finished training after 50 seconds\n",
      "\n",
      "\tWithin Model\n",
      "Initialising training\n"
     ]
    },
    {
     "data": {
      "application/vnd.jupyter.widget-view+json": {
       "model_id": "a3a926854bd1461eb5025534d009c2c3",
       "version_major": 2,
       "version_minor": 0
      },
      "text/plain": [
       "  0%|          | 0/5 [00:00<?, ?it/s]"
      ]
     },
     "metadata": {},
     "output_type": "display_data"
    },
    {
     "name": "stdout",
     "output_type": "stream",
     "text": [
      "Finished training after 59 seconds\n",
      "\t{'combined': 0.1388286259145293, 'between': 0.15403266165372903, 'within': -0.0026254654714228387}\n",
      "....................................................................................................\n",
      "Iteration 3\n",
      "....................................................................................................\n",
      "Fold 0, specified test ratio: 0.2 - Actual test ratio 0.31\n",
      "Fold 1, specified test ratio: 0.2 - Actual test ratio 0.21\n",
      "Fold 2, specified test ratio: 0.2 - Actual test ratio 0.20\n",
      "Fold 3, specified test ratio: 0.2 - Actual test ratio 0.20\n",
      "Fold 4, specified test ratio: 0.2 - Actual test ratio 0.08\n",
      "\n",
      "\tBetween model\n",
      "Initialising training\n"
     ]
    },
    {
     "data": {
      "application/vnd.jupyter.widget-view+json": {
       "model_id": "1eaaab46e55c45408cbff3585833a675",
       "version_major": 2,
       "version_minor": 0
      },
      "text/plain": [
       "  0%|          | 0/5 [00:00<?, ?it/s]"
      ]
     },
     "metadata": {},
     "output_type": "display_data"
    },
    {
     "name": "stdout",
     "output_type": "stream",
     "text": [
      "Finished training after 49 seconds\n",
      "\n",
      "\tWithin Model\n",
      "Initialising training\n"
     ]
    },
    {
     "data": {
      "application/vnd.jupyter.widget-view+json": {
       "model_id": "d02e45f6583c4a8ba27bf2351442f213",
       "version_major": 2,
       "version_minor": 0
      },
      "text/plain": [
       "  0%|          | 0/5 [00:00<?, ?it/s]"
      ]
     },
     "metadata": {},
     "output_type": "display_data"
    },
    {
     "name": "stdout",
     "output_type": "stream",
     "text": [
      "Finished training after 58 seconds\n",
      "\t{'combined': -0.048759107471595446, 'between': -0.06043754677017332, 'within': -0.03649708757691439}\n",
      "....................................................................................................\n",
      "Iteration 4\n",
      "....................................................................................................\n",
      "Fold 0, specified test ratio: 0.2 - Actual test ratio 0.21\n",
      "Fold 1, specified test ratio: 0.2 - Actual test ratio 0.20\n",
      "Fold 2, specified test ratio: 0.2 - Actual test ratio 0.21\n",
      "Fold 3, specified test ratio: 0.2 - Actual test ratio 0.21\n",
      "Fold 4, specified test ratio: 0.2 - Actual test ratio 0.16\n",
      "\n",
      "\tBetween model\n",
      "Initialising training\n"
     ]
    },
    {
     "data": {
      "application/vnd.jupyter.widget-view+json": {
       "model_id": "1725283a7be34590b5b207d037803746",
       "version_major": 2,
       "version_minor": 0
      },
      "text/plain": [
       "  0%|          | 0/5 [00:00<?, ?it/s]"
      ]
     },
     "metadata": {},
     "output_type": "display_data"
    },
    {
     "name": "stdout",
     "output_type": "stream",
     "text": [
      "Finished training after 51 seconds\n",
      "\n",
      "\tWithin Model\n",
      "Initialising training\n"
     ]
    },
    {
     "data": {
      "application/vnd.jupyter.widget-view+json": {
       "model_id": "4f8c9fd12b174f0a8530315f234707a3",
       "version_major": 2,
       "version_minor": 0
      },
      "text/plain": [
       "  0%|          | 0/5 [00:00<?, ?it/s]"
      ]
     },
     "metadata": {},
     "output_type": "display_data"
    },
    {
     "name": "stdout",
     "output_type": "stream",
     "text": [
      "Finished training after 58 seconds\n",
      "\t{'combined': 0.13145711594331783, 'between': 0.14143661530124652, 'within': 0.023656283761313613}\n",
      "....................................................................................................\n",
      "Iteration 5\n",
      "....................................................................................................\n",
      "Fold 0, specified test ratio: 0.2 - Actual test ratio 0.21\n",
      "Fold 1, specified test ratio: 0.2 - Actual test ratio 0.20\n",
      "Fold 2, specified test ratio: 0.2 - Actual test ratio 0.20\n",
      "Fold 3, specified test ratio: 0.2 - Actual test ratio 0.20\n",
      "Fold 4, specified test ratio: 0.2 - Actual test ratio 0.20\n",
      "\n",
      "\tBetween model\n",
      "Initialising training\n"
     ]
    },
    {
     "data": {
      "application/vnd.jupyter.widget-view+json": {
       "model_id": "45070d9750b44b1d84e9c666fa490c83",
       "version_major": 2,
       "version_minor": 0
      },
      "text/plain": [
       "  0%|          | 0/5 [00:00<?, ?it/s]"
      ]
     },
     "metadata": {},
     "output_type": "display_data"
    },
    {
     "name": "stdout",
     "output_type": "stream",
     "text": [
      "Finished training after 49 seconds\n",
      "\n",
      "\tWithin Model\n",
      "Initialising training\n"
     ]
    },
    {
     "data": {
      "application/vnd.jupyter.widget-view+json": {
       "model_id": "5b00486e47bc4315a18b7c70bdc4c410",
       "version_major": 2,
       "version_minor": 0
      },
      "text/plain": [
       "  0%|          | 0/5 [00:00<?, ?it/s]"
      ]
     },
     "metadata": {},
     "output_type": "display_data"
    },
    {
     "name": "stdout",
     "output_type": "stream",
     "text": [
      "Finished training after 58 seconds\n",
      "\t{'combined': 0.21063203554349857, 'between': 0.22352415494441674, 'within': -0.03889535435054632}\n",
      "....................................................................................................\n",
      "Iteration 6\n",
      "....................................................................................................\n",
      "Fold 0, specified test ratio: 0.2 - Actual test ratio 0.20\n",
      "Fold 1, specified test ratio: 0.2 - Actual test ratio 0.20\n",
      "Fold 2, specified test ratio: 0.2 - Actual test ratio 0.20\n",
      "Fold 3, specified test ratio: 0.2 - Actual test ratio 0.21\n",
      "Fold 4, specified test ratio: 0.2 - Actual test ratio 0.19\n",
      "\n",
      "\tBetween model\n",
      "Initialising training\n"
     ]
    },
    {
     "data": {
      "application/vnd.jupyter.widget-view+json": {
       "model_id": "50d8c318f7d749bd900d8e118bfb3d3b",
       "version_major": 2,
       "version_minor": 0
      },
      "text/plain": [
       "  0%|          | 0/5 [00:00<?, ?it/s]"
      ]
     },
     "metadata": {},
     "output_type": "display_data"
    },
    {
     "name": "stdout",
     "output_type": "stream",
     "text": [
      "Finished training after 49 seconds\n",
      "\n",
      "\tWithin Model\n",
      "Initialising training\n"
     ]
    },
    {
     "data": {
      "application/vnd.jupyter.widget-view+json": {
       "model_id": "0bb0bd4f09b54ea68c12e197f540aab3",
       "version_major": 2,
       "version_minor": 0
      },
      "text/plain": [
       "  0%|          | 0/5 [00:00<?, ?it/s]"
      ]
     },
     "metadata": {},
     "output_type": "display_data"
    },
    {
     "name": "stdout",
     "output_type": "stream",
     "text": [
      "Finished training after 58 seconds\n",
      "\t{'combined': 0.1594101936913304, 'between': 0.18443155948759002, 'within': -0.050443380698729376}\n",
      "....................................................................................................\n",
      "Iteration 7\n",
      "....................................................................................................\n",
      "Fold 0, specified test ratio: 0.2 - Actual test ratio 0.20\n",
      "Fold 1, specified test ratio: 0.2 - Actual test ratio 0.20\n",
      "Fold 2, specified test ratio: 0.2 - Actual test ratio 0.20\n",
      "Fold 3, specified test ratio: 0.2 - Actual test ratio 0.21\n",
      "Fold 4, specified test ratio: 0.2 - Actual test ratio 0.20\n",
      "\n",
      "\tBetween model\n",
      "Initialising training\n"
     ]
    },
    {
     "data": {
      "application/vnd.jupyter.widget-view+json": {
       "model_id": "b84991a80f9d4a36b21f0be690135e9b",
       "version_major": 2,
       "version_minor": 0
      },
      "text/plain": [
       "  0%|          | 0/5 [00:00<?, ?it/s]"
      ]
     },
     "metadata": {},
     "output_type": "display_data"
    },
    {
     "name": "stdout",
     "output_type": "stream",
     "text": [
      "Finished training after 49 seconds\n",
      "\n",
      "\tWithin Model\n",
      "Initialising training\n"
     ]
    },
    {
     "data": {
      "application/vnd.jupyter.widget-view+json": {
       "model_id": "1122df4818734681b0570423340ddf56",
       "version_major": 2,
       "version_minor": 0
      },
      "text/plain": [
       "  0%|          | 0/5 [00:00<?, ?it/s]"
      ]
     },
     "metadata": {},
     "output_type": "display_data"
    },
    {
     "name": "stdout",
     "output_type": "stream",
     "text": [
      "Finished training after 58 seconds\n",
      "\t{'combined': 0.23374698865497845, 'between': 0.2650426822050429, 'within': -0.017642692967712214}\n",
      "....................................................................................................\n",
      "Iteration 8\n",
      "....................................................................................................\n",
      "Fold 0, specified test ratio: 0.2 - Actual test ratio 0.20\n",
      "Fold 1, specified test ratio: 0.2 - Actual test ratio 0.20\n",
      "Fold 2, specified test ratio: 0.2 - Actual test ratio 0.21\n",
      "Fold 3, specified test ratio: 0.2 - Actual test ratio 0.20\n",
      "Fold 4, specified test ratio: 0.2 - Actual test ratio 0.19\n",
      "\n",
      "\tBetween model\n",
      "Initialising training\n"
     ]
    },
    {
     "data": {
      "application/vnd.jupyter.widget-view+json": {
       "model_id": "17b458c00672403e930b8730ae02b69a",
       "version_major": 2,
       "version_minor": 0
      },
      "text/plain": [
       "  0%|          | 0/5 [00:00<?, ?it/s]"
      ]
     },
     "metadata": {},
     "output_type": "display_data"
    },
    {
     "name": "stdout",
     "output_type": "stream",
     "text": [
      "Finished training after 49 seconds\n",
      "\n",
      "\tWithin Model\n",
      "Initialising training\n"
     ]
    },
    {
     "data": {
      "application/vnd.jupyter.widget-view+json": {
       "model_id": "36fed72f4f284137ab1212d35d435f3a",
       "version_major": 2,
       "version_minor": 0
      },
      "text/plain": [
       "  0%|          | 0/5 [00:00<?, ?it/s]"
      ]
     },
     "metadata": {},
     "output_type": "display_data"
    },
    {
     "name": "stdout",
     "output_type": "stream",
     "text": [
      "Finished training after 58 seconds\n",
      "\t{'combined': 0.205893460450007, 'between': 0.22362039156616922, 'within': -0.03721482974924488}\n",
      "....................................................................................................\n",
      "Iteration 9\n",
      "....................................................................................................\n",
      "Fold 0, specified test ratio: 0.2 - Actual test ratio 0.21\n",
      "Fold 1, specified test ratio: 0.2 - Actual test ratio 0.20\n",
      "Fold 2, specified test ratio: 0.2 - Actual test ratio 0.20\n",
      "Fold 3, specified test ratio: 0.2 - Actual test ratio 0.21\n",
      "Fold 4, specified test ratio: 0.2 - Actual test ratio 0.18\n",
      "\n",
      "\tBetween model\n",
      "Initialising training\n"
     ]
    },
    {
     "data": {
      "application/vnd.jupyter.widget-view+json": {
       "model_id": "77495b17f00544088b1a4e5cf3b5725a",
       "version_major": 2,
       "version_minor": 0
      },
      "text/plain": [
       "  0%|          | 0/5 [00:00<?, ?it/s]"
      ]
     },
     "metadata": {},
     "output_type": "display_data"
    },
    {
     "name": "stdout",
     "output_type": "stream",
     "text": [
      "Finished training after 49 seconds\n",
      "\n",
      "\tWithin Model\n",
      "Initialising training\n"
     ]
    },
    {
     "data": {
      "application/vnd.jupyter.widget-view+json": {
       "model_id": "78b5c45f7dc3400eb566a6bfb73512af",
       "version_major": 2,
       "version_minor": 0
      },
      "text/plain": [
       "  0%|          | 0/5 [00:00<?, ?it/s]"
      ]
     },
     "metadata": {},
     "output_type": "display_data"
    },
    {
     "name": "stdout",
     "output_type": "stream",
     "text": [
      "Finished training after 58 seconds\n",
      "\t{'combined': 0.35485361353067224, 'between': 0.38941913753515384, 'within': 0.0025091252607079674}\n",
      "====================================================================================================\n",
      "Training and Evaluating on country nga\n",
      "====================================================================================================\n",
      "\n",
      "\n",
      "....................................................................................................\n",
      "Iteration 0\n",
      "....................................................................................................\n",
      "Fold 0, specified test ratio: 0.2 - Actual test ratio 0.21\n",
      "Fold 1, specified test ratio: 0.2 - Actual test ratio 0.20\n",
      "Fold 2, specified test ratio: 0.2 - Actual test ratio 0.21\n",
      "Fold 3, specified test ratio: 0.2 - Actual test ratio 0.20\n",
      "Fold 4, specified test ratio: 0.2 - Actual test ratio 0.19\n",
      "\n",
      "\tBetween model\n",
      "Initialising training\n"
     ]
    },
    {
     "data": {
      "application/vnd.jupyter.widget-view+json": {
       "model_id": "a86c7a62705146a1b72a53374768f876",
       "version_major": 2,
       "version_minor": 0
      },
      "text/plain": [
       "  0%|          | 0/5 [00:00<?, ?it/s]"
      ]
     },
     "metadata": {},
     "output_type": "display_data"
    },
    {
     "name": "stdout",
     "output_type": "stream",
     "text": [
      "Finished training after 66 seconds\n",
      "\n",
      "\tWithin Model\n",
      "Initialising training\n"
     ]
    },
    {
     "data": {
      "application/vnd.jupyter.widget-view+json": {
       "model_id": "d1203a68e5c44152821463c03b1ce387",
       "version_major": 2,
       "version_minor": 0
      },
      "text/plain": [
       "  0%|          | 0/5 [00:00<?, ?it/s]"
      ]
     },
     "metadata": {},
     "output_type": "display_data"
    },
    {
     "name": "stdout",
     "output_type": "stream",
     "text": [
      "Finished training after 127 seconds\n",
      "\t{'combined': 0.3838994960244463, 'between': 0.4803481987685581, 'within': -0.015389768476234212}\n",
      "....................................................................................................\n",
      "Iteration 1\n",
      "....................................................................................................\n",
      "Fold 0, specified test ratio: 0.2 - Actual test ratio 0.21\n",
      "Fold 1, specified test ratio: 0.2 - Actual test ratio 0.20\n",
      "Fold 2, specified test ratio: 0.2 - Actual test ratio 0.20\n",
      "Fold 3, specified test ratio: 0.2 - Actual test ratio 0.21\n",
      "Fold 4, specified test ratio: 0.2 - Actual test ratio 0.19\n",
      "\n",
      "\tBetween model\n",
      "Initialising training\n"
     ]
    },
    {
     "data": {
      "application/vnd.jupyter.widget-view+json": {
       "model_id": "dd5d10abea2640a3a3eb46e5eb276bba",
       "version_major": 2,
       "version_minor": 0
      },
      "text/plain": [
       "  0%|          | 0/5 [00:00<?, ?it/s]"
      ]
     },
     "metadata": {},
     "output_type": "display_data"
    },
    {
     "name": "stdout",
     "output_type": "stream",
     "text": [
      "Finished training after 67 seconds\n",
      "\n",
      "\tWithin Model\n",
      "Initialising training\n"
     ]
    },
    {
     "data": {
      "application/vnd.jupyter.widget-view+json": {
       "model_id": "2e019657438346ad857bae145472303f",
       "version_major": 2,
       "version_minor": 0
      },
      "text/plain": [
       "  0%|          | 0/5 [00:00<?, ?it/s]"
      ]
     },
     "metadata": {},
     "output_type": "display_data"
    },
    {
     "name": "stdout",
     "output_type": "stream",
     "text": [
      "Finished training after 129 seconds\n",
      "\t{'combined': 0.3943448588633412, 'between': 0.4953181899495289, 'within': -0.003869399520417627}\n",
      "....................................................................................................\n",
      "Iteration 2\n",
      "....................................................................................................\n",
      "Fold 0, specified test ratio: 0.2 - Actual test ratio 0.20\n",
      "Fold 1, specified test ratio: 0.2 - Actual test ratio 0.20\n",
      "Fold 2, specified test ratio: 0.2 - Actual test ratio 0.20\n",
      "Fold 3, specified test ratio: 0.2 - Actual test ratio 0.20\n",
      "Fold 4, specified test ratio: 0.2 - Actual test ratio 0.20\n",
      "\n",
      "\tBetween model\n",
      "Initialising training\n"
     ]
    },
    {
     "data": {
      "application/vnd.jupyter.widget-view+json": {
       "model_id": "6e32d9a963d549c7965558ee9bea2ba6",
       "version_major": 2,
       "version_minor": 0
      },
      "text/plain": [
       "  0%|          | 0/5 [00:00<?, ?it/s]"
      ]
     },
     "metadata": {},
     "output_type": "display_data"
    },
    {
     "name": "stdout",
     "output_type": "stream",
     "text": [
      "Finished training after 67 seconds\n",
      "\n",
      "\tWithin Model\n",
      "Initialising training\n"
     ]
    },
    {
     "data": {
      "application/vnd.jupyter.widget-view+json": {
       "model_id": "f7ce7baef8364bfe9817b9bb0c3e9bc8",
       "version_major": 2,
       "version_minor": 0
      },
      "text/plain": [
       "  0%|          | 0/5 [00:00<?, ?it/s]"
      ]
     },
     "metadata": {},
     "output_type": "display_data"
    },
    {
     "name": "stdout",
     "output_type": "stream",
     "text": [
      "Finished training after 128 seconds\n",
      "\t{'combined': 0.3987746403840825, 'between': 0.5039690661020069, 'within': -0.00815130369743997}\n",
      "....................................................................................................\n",
      "Iteration 3\n",
      "....................................................................................................\n",
      "Fold 0, specified test ratio: 0.2 - Actual test ratio 0.20\n",
      "Fold 1, specified test ratio: 0.2 - Actual test ratio 0.21\n",
      "Fold 2, specified test ratio: 0.2 - Actual test ratio 0.20\n",
      "Fold 3, specified test ratio: 0.2 - Actual test ratio 0.20\n",
      "Fold 4, specified test ratio: 0.2 - Actual test ratio 0.19\n",
      "\n",
      "\tBetween model\n",
      "Initialising training\n"
     ]
    },
    {
     "data": {
      "application/vnd.jupyter.widget-view+json": {
       "model_id": "1193a884a07d42649ff8d76c9aca1e21",
       "version_major": 2,
       "version_minor": 0
      },
      "text/plain": [
       "  0%|          | 0/5 [00:00<?, ?it/s]"
      ]
     },
     "metadata": {},
     "output_type": "display_data"
    },
    {
     "name": "stdout",
     "output_type": "stream",
     "text": [
      "Finished training after 67 seconds\n",
      "\n",
      "\tWithin Model\n",
      "Initialising training\n"
     ]
    },
    {
     "data": {
      "application/vnd.jupyter.widget-view+json": {
       "model_id": "58bec484d2c64a8f8d5f1929bbc021a5",
       "version_major": 2,
       "version_minor": 0
      },
      "text/plain": [
       "  0%|          | 0/5 [00:00<?, ?it/s]"
      ]
     },
     "metadata": {},
     "output_type": "display_data"
    },
    {
     "name": "stdout",
     "output_type": "stream",
     "text": [
      "Finished training after 127 seconds\n",
      "\t{'combined': 0.3887484854049516, 'between': 0.49187147182703156, 'within': -0.027045103436523554}\n",
      "....................................................................................................\n",
      "Iteration 4\n",
      "....................................................................................................\n",
      "Fold 0, specified test ratio: 0.2 - Actual test ratio 0.20\n",
      "Fold 1, specified test ratio: 0.2 - Actual test ratio 0.20\n",
      "Fold 2, specified test ratio: 0.2 - Actual test ratio 0.21\n",
      "Fold 3, specified test ratio: 0.2 - Actual test ratio 0.20\n",
      "Fold 4, specified test ratio: 0.2 - Actual test ratio 0.19\n",
      "\n",
      "\tBetween model\n",
      "Initialising training\n"
     ]
    },
    {
     "data": {
      "application/vnd.jupyter.widget-view+json": {
       "model_id": "ccbf8a79b35a4607a11b837c10149a4c",
       "version_major": 2,
       "version_minor": 0
      },
      "text/plain": [
       "  0%|          | 0/5 [00:00<?, ?it/s]"
      ]
     },
     "metadata": {},
     "output_type": "display_data"
    },
    {
     "name": "stdout",
     "output_type": "stream",
     "text": [
      "Finished training after 68 seconds\n",
      "\n",
      "\tWithin Model\n",
      "Initialising training\n"
     ]
    },
    {
     "data": {
      "application/vnd.jupyter.widget-view+json": {
       "model_id": "201950e251a747f2bc1686420ae89838",
       "version_major": 2,
       "version_minor": 0
      },
      "text/plain": [
       "  0%|          | 0/5 [00:00<?, ?it/s]"
      ]
     },
     "metadata": {},
     "output_type": "display_data"
    },
    {
     "name": "stdout",
     "output_type": "stream",
     "text": [
      "Finished training after 129 seconds\n",
      "\t{'combined': 0.38250375808874365, 'between': 0.4844994767402976, 'within': -0.03450818195753991}\n",
      "....................................................................................................\n",
      "Iteration 5\n",
      "....................................................................................................\n",
      "Fold 0, specified test ratio: 0.2 - Actual test ratio 0.20\n",
      "Fold 1, specified test ratio: 0.2 - Actual test ratio 0.22\n",
      "Fold 2, specified test ratio: 0.2 - Actual test ratio 0.21\n",
      "Fold 3, specified test ratio: 0.2 - Actual test ratio 0.20\n",
      "Fold 4, specified test ratio: 0.2 - Actual test ratio 0.17\n",
      "\n",
      "\tBetween model\n",
      "Initialising training\n"
     ]
    },
    {
     "data": {
      "application/vnd.jupyter.widget-view+json": {
       "model_id": "997a6c822d604849b818edc3472b9b6b",
       "version_major": 2,
       "version_minor": 0
      },
      "text/plain": [
       "  0%|          | 0/5 [00:00<?, ?it/s]"
      ]
     },
     "metadata": {},
     "output_type": "display_data"
    },
    {
     "name": "stdout",
     "output_type": "stream",
     "text": [
      "Finished training after 68 seconds\n",
      "\n",
      "\tWithin Model\n",
      "Initialising training\n"
     ]
    },
    {
     "data": {
      "application/vnd.jupyter.widget-view+json": {
       "model_id": "0e0cb89c00d04e2b87dc9a31f7962c94",
       "version_major": 2,
       "version_minor": 0
      },
      "text/plain": [
       "  0%|          | 0/5 [00:00<?, ?it/s]"
      ]
     },
     "metadata": {},
     "output_type": "display_data"
    },
    {
     "name": "stdout",
     "output_type": "stream",
     "text": [
      "Finished training after 128 seconds\n",
      "\t{'combined': 0.39887522121207697, 'between': 0.5054241901088975, 'within': -0.022429126706376777}\n",
      "....................................................................................................\n",
      "Iteration 6\n",
      "....................................................................................................\n",
      "Fold 0, specified test ratio: 0.2 - Actual test ratio 0.21\n",
      "Fold 1, specified test ratio: 0.2 - Actual test ratio 0.20\n",
      "Fold 2, specified test ratio: 0.2 - Actual test ratio 0.20\n",
      "Fold 3, specified test ratio: 0.2 - Actual test ratio 0.20\n",
      "Fold 4, specified test ratio: 0.2 - Actual test ratio 0.19\n",
      "\n",
      "\tBetween model\n",
      "Initialising training\n"
     ]
    },
    {
     "data": {
      "application/vnd.jupyter.widget-view+json": {
       "model_id": "731cbe78aefc49bea17d6568a53dda16",
       "version_major": 2,
       "version_minor": 0
      },
      "text/plain": [
       "  0%|          | 0/5 [00:00<?, ?it/s]"
      ]
     },
     "metadata": {},
     "output_type": "display_data"
    },
    {
     "name": "stdout",
     "output_type": "stream",
     "text": [
      "Finished training after 68 seconds\n",
      "\n",
      "\tWithin Model\n",
      "Initialising training\n"
     ]
    },
    {
     "data": {
      "application/vnd.jupyter.widget-view+json": {
       "model_id": "066c7457ba78446682313340df645572",
       "version_major": 2,
       "version_minor": 0
      },
      "text/plain": [
       "  0%|          | 0/5 [00:00<?, ?it/s]"
      ]
     },
     "metadata": {},
     "output_type": "display_data"
    },
    {
     "name": "stdout",
     "output_type": "stream",
     "text": [
      "Finished training after 128 seconds\n",
      "\t{'combined': 0.4013227070314757, 'between': 0.5095381997681642, 'within': -0.032504953591250184}\n",
      "....................................................................................................\n",
      "Iteration 7\n",
      "....................................................................................................\n",
      "Fold 0, specified test ratio: 0.2 - Actual test ratio 0.21\n",
      "Fold 1, specified test ratio: 0.2 - Actual test ratio 0.21\n",
      "Fold 2, specified test ratio: 0.2 - Actual test ratio 0.20\n",
      "Fold 3, specified test ratio: 0.2 - Actual test ratio 0.20\n",
      "Fold 4, specified test ratio: 0.2 - Actual test ratio 0.19\n",
      "\n",
      "\tBetween model\n",
      "Initialising training\n"
     ]
    },
    {
     "data": {
      "application/vnd.jupyter.widget-view+json": {
       "model_id": "21525520c52e49779eb45261cf2d86b2",
       "version_major": 2,
       "version_minor": 0
      },
      "text/plain": [
       "  0%|          | 0/5 [00:00<?, ?it/s]"
      ]
     },
     "metadata": {},
     "output_type": "display_data"
    },
    {
     "name": "stdout",
     "output_type": "stream",
     "text": [
      "Finished training after 68 seconds\n",
      "\n",
      "\tWithin Model\n",
      "Initialising training\n"
     ]
    },
    {
     "data": {
      "application/vnd.jupyter.widget-view+json": {
       "model_id": "40cc0da880a14c66bfaced3471c82e4b",
       "version_major": 2,
       "version_minor": 0
      },
      "text/plain": [
       "  0%|          | 0/5 [00:00<?, ?it/s]"
      ]
     },
     "metadata": {},
     "output_type": "display_data"
    },
    {
     "name": "stdout",
     "output_type": "stream",
     "text": [
      "Finished training after 129 seconds\n",
      "\t{'combined': 0.37588038365031906, 'between': 0.4765625649583293, 'within': -0.00859761204705083}\n",
      "....................................................................................................\n",
      "Iteration 8\n",
      "....................................................................................................\n",
      "Fold 0, specified test ratio: 0.2 - Actual test ratio 0.20\n",
      "Fold 1, specified test ratio: 0.2 - Actual test ratio 0.21\n",
      "Fold 2, specified test ratio: 0.2 - Actual test ratio 0.20\n",
      "Fold 3, specified test ratio: 0.2 - Actual test ratio 0.21\n",
      "Fold 4, specified test ratio: 0.2 - Actual test ratio 0.18\n",
      "\n",
      "\tBetween model\n",
      "Initialising training\n"
     ]
    },
    {
     "data": {
      "application/vnd.jupyter.widget-view+json": {
       "model_id": "1a8b6c9ba8c4459c94e2c5590c1ea7b5",
       "version_major": 2,
       "version_minor": 0
      },
      "text/plain": [
       "  0%|          | 0/5 [00:00<?, ?it/s]"
      ]
     },
     "metadata": {},
     "output_type": "display_data"
    },
    {
     "name": "stdout",
     "output_type": "stream",
     "text": [
      "Finished training after 68 seconds\n",
      "\n",
      "\tWithin Model\n",
      "Initialising training\n"
     ]
    },
    {
     "data": {
      "application/vnd.jupyter.widget-view+json": {
       "model_id": "ce281b08492547d190e312fdab57927b",
       "version_major": 2,
       "version_minor": 0
      },
      "text/plain": [
       "  0%|          | 0/5 [00:00<?, ?it/s]"
      ]
     },
     "metadata": {},
     "output_type": "display_data"
    },
    {
     "name": "stdout",
     "output_type": "stream",
     "text": [
      "Finished training after 130 seconds\n",
      "\t{'combined': 0.39795893551439415, 'between': 0.49914255103547794, 'within': -0.012809235533181428}\n",
      "....................................................................................................\n",
      "Iteration 9\n",
      "....................................................................................................\n",
      "Fold 0, specified test ratio: 0.2 - Actual test ratio 0.20\n",
      "Fold 1, specified test ratio: 0.2 - Actual test ratio 0.20\n",
      "Fold 2, specified test ratio: 0.2 - Actual test ratio 0.20\n",
      "Fold 3, specified test ratio: 0.2 - Actual test ratio 0.20\n",
      "Fold 4, specified test ratio: 0.2 - Actual test ratio 0.20\n",
      "\n",
      "\tBetween model\n",
      "Initialising training\n"
     ]
    },
    {
     "data": {
      "application/vnd.jupyter.widget-view+json": {
       "model_id": "c2be7371c36a488993ea395de97fae0c",
       "version_major": 2,
       "version_minor": 0
      },
      "text/plain": [
       "  0%|          | 0/5 [00:00<?, ?it/s]"
      ]
     },
     "metadata": {},
     "output_type": "display_data"
    },
    {
     "name": "stdout",
     "output_type": "stream",
     "text": [
      "Finished training after 67 seconds\n",
      "\n",
      "\tWithin Model\n",
      "Initialising training\n"
     ]
    },
    {
     "data": {
      "application/vnd.jupyter.widget-view+json": {
       "model_id": "a6746cf080724bdd92284e576907545e",
       "version_major": 2,
       "version_minor": 0
      },
      "text/plain": [
       "  0%|          | 0/5 [00:00<?, ?it/s]"
      ]
     },
     "metadata": {},
     "output_type": "display_data"
    },
    {
     "name": "stdout",
     "output_type": "stream",
     "text": [
      "Finished training after 128 seconds\n",
      "\t{'combined': 0.39503371609556814, 'between': 0.4997640536726604, 'within': -0.018071964122461683}\n",
      "====================================================================================================\n",
      "Training and Evaluating on country uga\n",
      "====================================================================================================\n",
      "\n",
      "\n",
      "....................................................................................................\n",
      "Iteration 0\n",
      "....................................................................................................\n",
      "Fold 0, specified test ratio: 0.2 - Actual test ratio 0.31\n",
      "Fold 1, specified test ratio: 0.2 - Actual test ratio 0.20\n",
      "Fold 2, specified test ratio: 0.2 - Actual test ratio 0.20\n",
      "Fold 3, specified test ratio: 0.2 - Actual test ratio 0.20\n",
      "Fold 4, specified test ratio: 0.2 - Actual test ratio 0.09\n",
      "\n",
      "\tBetween model\n",
      "Initialising training\n"
     ]
    },
    {
     "data": {
      "application/vnd.jupyter.widget-view+json": {
       "model_id": "d397032264c14679944f4f160335f201",
       "version_major": 2,
       "version_minor": 0
      },
      "text/plain": [
       "  0%|          | 0/5 [00:00<?, ?it/s]"
      ]
     },
     "metadata": {},
     "output_type": "display_data"
    },
    {
     "name": "stdout",
     "output_type": "stream",
     "text": [
      "Finished training after 62 seconds\n",
      "\n",
      "\tWithin Model\n",
      "Initialising training\n"
     ]
    },
    {
     "data": {
      "application/vnd.jupyter.widget-view+json": {
       "model_id": "51398a3e78644f1286bb5bda2e72fbff",
       "version_major": 2,
       "version_minor": 0
      },
      "text/plain": [
       "  0%|          | 0/5 [00:00<?, ?it/s]"
      ]
     },
     "metadata": {},
     "output_type": "display_data"
    },
    {
     "name": "stdout",
     "output_type": "stream",
     "text": [
      "Finished training after 173 seconds\n",
      "\t{'combined': 0.35294062377791074, 'between': 0.4006494121911256, 'within': 0.014131643761894264}\n",
      "....................................................................................................\n",
      "Iteration 1\n",
      "....................................................................................................\n",
      "Fold 0, specified test ratio: 0.2 - Actual test ratio 0.32\n",
      "Fold 1, specified test ratio: 0.2 - Actual test ratio 0.20\n",
      "Fold 2, specified test ratio: 0.2 - Actual test ratio 0.20\n",
      "Fold 3, specified test ratio: 0.2 - Actual test ratio 0.20\n",
      "Fold 4, specified test ratio: 0.2 - Actual test ratio 0.08\n",
      "\n",
      "\tBetween model\n",
      "Initialising training\n"
     ]
    },
    {
     "data": {
      "application/vnd.jupyter.widget-view+json": {
       "model_id": "fa91541084774989a3b0d47b70cf6f94",
       "version_major": 2,
       "version_minor": 0
      },
      "text/plain": [
       "  0%|          | 0/5 [00:00<?, ?it/s]"
      ]
     },
     "metadata": {},
     "output_type": "display_data"
    },
    {
     "name": "stdout",
     "output_type": "stream",
     "text": [
      "Finished training after 62 seconds\n",
      "\n",
      "\tWithin Model\n",
      "Initialising training\n"
     ]
    },
    {
     "data": {
      "application/vnd.jupyter.widget-view+json": {
       "model_id": "5f61a0b54f6a4910ad011bc8b4fd063c",
       "version_major": 2,
       "version_minor": 0
      },
      "text/plain": [
       "  0%|          | 0/5 [00:00<?, ?it/s]"
      ]
     },
     "metadata": {},
     "output_type": "display_data"
    },
    {
     "name": "stdout",
     "output_type": "stream",
     "text": [
      "Finished training after 172 seconds\n",
      "\t{'combined': 0.30674340790793414, 'between': 0.3402875718994769, 'within': 0.04466296083662511}\n",
      "....................................................................................................\n",
      "Iteration 2\n",
      "....................................................................................................\n",
      "Fold 0, specified test ratio: 0.2 - Actual test ratio 0.20\n",
      "Fold 1, specified test ratio: 0.2 - Actual test ratio 0.20\n",
      "Fold 2, specified test ratio: 0.2 - Actual test ratio 0.20\n",
      "Fold 3, specified test ratio: 0.2 - Actual test ratio 0.20\n",
      "Fold 4, specified test ratio: 0.2 - Actual test ratio 0.19\n",
      "\n",
      "\tBetween model\n",
      "Initialising training\n"
     ]
    },
    {
     "data": {
      "application/vnd.jupyter.widget-view+json": {
       "model_id": "65be68fcd3de4d8ea6173c727a9f9bcc",
       "version_major": 2,
       "version_minor": 0
      },
      "text/plain": [
       "  0%|          | 0/5 [00:00<?, ?it/s]"
      ]
     },
     "metadata": {},
     "output_type": "display_data"
    },
    {
     "name": "stdout",
     "output_type": "stream",
     "text": [
      "Finished training after 61 seconds\n",
      "\n",
      "\tWithin Model\n",
      "Initialising training\n"
     ]
    },
    {
     "data": {
      "application/vnd.jupyter.widget-view+json": {
       "model_id": "d2ec4819de134c44a734712887e26d78",
       "version_major": 2,
       "version_minor": 0
      },
      "text/plain": [
       "  0%|          | 0/5 [00:00<?, ?it/s]"
      ]
     },
     "metadata": {},
     "output_type": "display_data"
    },
    {
     "name": "stdout",
     "output_type": "stream",
     "text": [
      "Finished training after 172 seconds\n",
      "\t{'combined': 0.27451854275826054, 'between': 0.2981790598613691, 'within': 0.052874251503613336}\n",
      "....................................................................................................\n",
      "Iteration 3\n",
      "....................................................................................................\n",
      "Fold 0, specified test ratio: 0.2 - Actual test ratio 0.21\n",
      "Fold 1, specified test ratio: 0.2 - Actual test ratio 0.20\n",
      "Fold 2, specified test ratio: 0.2 - Actual test ratio 0.20\n",
      "Fold 3, specified test ratio: 0.2 - Actual test ratio 0.21\n",
      "Fold 4, specified test ratio: 0.2 - Actual test ratio 0.18\n",
      "\n",
      "\tBetween model\n",
      "Initialising training\n"
     ]
    },
    {
     "data": {
      "application/vnd.jupyter.widget-view+json": {
       "model_id": "524c0823d10744a79f13f92b7dd95559",
       "version_major": 2,
       "version_minor": 0
      },
      "text/plain": [
       "  0%|          | 0/5 [00:00<?, ?it/s]"
      ]
     },
     "metadata": {},
     "output_type": "display_data"
    },
    {
     "name": "stdout",
     "output_type": "stream",
     "text": [
      "Finished training after 62 seconds\n",
      "\n",
      "\tWithin Model\n",
      "Initialising training\n"
     ]
    },
    {
     "data": {
      "application/vnd.jupyter.widget-view+json": {
       "model_id": "9d6c70ea33534f8c86cf288e1c2dff7d",
       "version_major": 2,
       "version_minor": 0
      },
      "text/plain": [
       "  0%|          | 0/5 [00:00<?, ?it/s]"
      ]
     },
     "metadata": {},
     "output_type": "display_data"
    },
    {
     "name": "stdout",
     "output_type": "stream",
     "text": [
      "Finished training after 172 seconds\n",
      "\t{'combined': 0.309363442959717, 'between': 0.3400987245762517, 'within': 0.048851258494047346}\n",
      "....................................................................................................\n",
      "Iteration 4\n",
      "....................................................................................................\n",
      "Fold 0, specified test ratio: 0.2 - Actual test ratio 0.29\n",
      "Fold 1, specified test ratio: 0.2 - Actual test ratio 0.20\n",
      "Fold 2, specified test ratio: 0.2 - Actual test ratio 0.21\n",
      "Fold 3, specified test ratio: 0.2 - Actual test ratio 0.20\n",
      "Fold 4, specified test ratio: 0.2 - Actual test ratio 0.10\n",
      "\n",
      "\tBetween model\n",
      "Initialising training\n"
     ]
    },
    {
     "data": {
      "application/vnd.jupyter.widget-view+json": {
       "model_id": "5190b294818d4876a533acb022c5e2ad",
       "version_major": 2,
       "version_minor": 0
      },
      "text/plain": [
       "  0%|          | 0/5 [00:00<?, ?it/s]"
      ]
     },
     "metadata": {},
     "output_type": "display_data"
    },
    {
     "name": "stdout",
     "output_type": "stream",
     "text": [
      "Finished training after 62 seconds\n",
      "\n",
      "\tWithin Model\n",
      "Initialising training\n"
     ]
    },
    {
     "data": {
      "application/vnd.jupyter.widget-view+json": {
       "model_id": "46fa18ed0ef643a3bc6cd4b981d5eff7",
       "version_major": 2,
       "version_minor": 0
      },
      "text/plain": [
       "  0%|          | 0/5 [00:00<?, ?it/s]"
      ]
     },
     "metadata": {},
     "output_type": "display_data"
    },
    {
     "name": "stdout",
     "output_type": "stream",
     "text": [
      "Finished training after 171 seconds\n",
      "\t{'combined': 0.38762316418551096, 'between': 0.4639240569846163, 'within': 0.058319068502112416}\n",
      "....................................................................................................\n",
      "Iteration 5\n",
      "....................................................................................................\n",
      "Fold 0, specified test ratio: 0.2 - Actual test ratio 0.20\n",
      "Fold 1, specified test ratio: 0.2 - Actual test ratio 0.20\n",
      "Fold 2, specified test ratio: 0.2 - Actual test ratio 0.20\n",
      "Fold 3, specified test ratio: 0.2 - Actual test ratio 0.20\n",
      "Fold 4, specified test ratio: 0.2 - Actual test ratio 0.19\n",
      "\n",
      "\tBetween model\n",
      "Initialising training\n"
     ]
    },
    {
     "data": {
      "application/vnd.jupyter.widget-view+json": {
       "model_id": "8fc601f9c6b247938093f7579c80d4ab",
       "version_major": 2,
       "version_minor": 0
      },
      "text/plain": [
       "  0%|          | 0/5 [00:00<?, ?it/s]"
      ]
     },
     "metadata": {},
     "output_type": "display_data"
    },
    {
     "name": "stdout",
     "output_type": "stream",
     "text": [
      "Finished training after 61 seconds\n",
      "\n",
      "\tWithin Model\n",
      "Initialising training\n"
     ]
    },
    {
     "data": {
      "application/vnd.jupyter.widget-view+json": {
       "model_id": "5cdf449547904219b76c7a8de0ef9553",
       "version_major": 2,
       "version_minor": 0
      },
      "text/plain": [
       "  0%|          | 0/5 [00:00<?, ?it/s]"
      ]
     },
     "metadata": {},
     "output_type": "display_data"
    },
    {
     "name": "stdout",
     "output_type": "stream",
     "text": [
      "Finished training after 171 seconds\n",
      "\t{'combined': 0.3156981383779722, 'between': 0.38696968229559714, 'within': 0.05752235256935072}\n",
      "....................................................................................................\n",
      "Iteration 6\n",
      "....................................................................................................\n",
      "Fold 0, specified test ratio: 0.2 - Actual test ratio 0.27\n",
      "Fold 1, specified test ratio: 0.2 - Actual test ratio 0.20\n",
      "Fold 2, specified test ratio: 0.2 - Actual test ratio 0.20\n",
      "Fold 3, specified test ratio: 0.2 - Actual test ratio 0.20\n",
      "Fold 4, specified test ratio: 0.2 - Actual test ratio 0.13\n",
      "\n",
      "\tBetween model\n",
      "Initialising training\n"
     ]
    },
    {
     "data": {
      "application/vnd.jupyter.widget-view+json": {
       "model_id": "df991e8335544f1c9708ada2abdec4f7",
       "version_major": 2,
       "version_minor": 0
      },
      "text/plain": [
       "  0%|          | 0/5 [00:00<?, ?it/s]"
      ]
     },
     "metadata": {},
     "output_type": "display_data"
    },
    {
     "name": "stdout",
     "output_type": "stream",
     "text": [
      "Finished training after 61 seconds\n",
      "\n",
      "\tWithin Model\n",
      "Initialising training\n"
     ]
    },
    {
     "data": {
      "application/vnd.jupyter.widget-view+json": {
       "model_id": "666a311483ad4410bb3d4e6c2344d55f",
       "version_major": 2,
       "version_minor": 0
      },
      "text/plain": [
       "  0%|          | 0/5 [00:00<?, ?it/s]"
      ]
     },
     "metadata": {},
     "output_type": "display_data"
    },
    {
     "name": "stdout",
     "output_type": "stream",
     "text": [
      "Finished training after 171 seconds\n",
      "\t{'combined': 0.3185512844864575, 'between': 0.38129724839636686, 'within': 0.04442568590877247}\n",
      "....................................................................................................\n",
      "Iteration 7\n",
      "....................................................................................................\n",
      "Fold 0, specified test ratio: 0.2 - Actual test ratio 0.20\n",
      "Fold 1, specified test ratio: 0.2 - Actual test ratio 0.20\n",
      "Fold 2, specified test ratio: 0.2 - Actual test ratio 0.21\n",
      "Fold 3, specified test ratio: 0.2 - Actual test ratio 0.20\n",
      "Fold 4, specified test ratio: 0.2 - Actual test ratio 0.20\n",
      "\n",
      "\tBetween model\n",
      "Initialising training\n"
     ]
    },
    {
     "data": {
      "application/vnd.jupyter.widget-view+json": {
       "model_id": "074a85eb243644edaeedcfc56ccfce6e",
       "version_major": 2,
       "version_minor": 0
      },
      "text/plain": [
       "  0%|          | 0/5 [00:00<?, ?it/s]"
      ]
     },
     "metadata": {},
     "output_type": "display_data"
    },
    {
     "name": "stdout",
     "output_type": "stream",
     "text": [
      "Finished training after 61 seconds\n",
      "\n",
      "\tWithin Model\n",
      "Initialising training\n"
     ]
    },
    {
     "data": {
      "application/vnd.jupyter.widget-view+json": {
       "model_id": "d595dfe4e1b042d3b9d7288f173aac56",
       "version_major": 2,
       "version_minor": 0
      },
      "text/plain": [
       "  0%|          | 0/5 [00:00<?, ?it/s]"
      ]
     },
     "metadata": {},
     "output_type": "display_data"
    },
    {
     "name": "stdout",
     "output_type": "stream",
     "text": [
      "Finished training after 174 seconds\n",
      "\t{'combined': 0.32048731126424396, 'between': 0.3743041642745915, 'within': 0.05063917310052417}\n",
      "....................................................................................................\n",
      "Iteration 8\n",
      "....................................................................................................\n",
      "Fold 0, specified test ratio: 0.2 - Actual test ratio 0.20\n",
      "Fold 1, specified test ratio: 0.2 - Actual test ratio 0.21\n",
      "Fold 2, specified test ratio: 0.2 - Actual test ratio 0.20\n",
      "Fold 3, specified test ratio: 0.2 - Actual test ratio 0.20\n",
      "Fold 4, specified test ratio: 0.2 - Actual test ratio 0.19\n",
      "\n",
      "\tBetween model\n",
      "Initialising training\n"
     ]
    },
    {
     "data": {
      "application/vnd.jupyter.widget-view+json": {
       "model_id": "3b2214ccba13407ca07619e2ef81621b",
       "version_major": 2,
       "version_minor": 0
      },
      "text/plain": [
       "  0%|          | 0/5 [00:00<?, ?it/s]"
      ]
     },
     "metadata": {},
     "output_type": "display_data"
    },
    {
     "name": "stdout",
     "output_type": "stream",
     "text": [
      "Finished training after 62 seconds\n",
      "\n",
      "\tWithin Model\n",
      "Initialising training\n"
     ]
    },
    {
     "data": {
      "application/vnd.jupyter.widget-view+json": {
       "model_id": "5ae0be2860804dc5b818c76a673963ff",
       "version_major": 2,
       "version_minor": 0
      },
      "text/plain": [
       "  0%|          | 0/5 [00:00<?, ?it/s]"
      ]
     },
     "metadata": {},
     "output_type": "display_data"
    },
    {
     "name": "stdout",
     "output_type": "stream",
     "text": [
      "Finished training after 175 seconds\n",
      "\t{'combined': 0.3143887042445036, 'between': 0.3378571600166552, 'within': 0.04882366158243916}\n",
      "....................................................................................................\n",
      "Iteration 9\n",
      "....................................................................................................\n",
      "Fold 0, specified test ratio: 0.2 - Actual test ratio 0.29\n",
      "Fold 1, specified test ratio: 0.2 - Actual test ratio 0.21\n",
      "Fold 2, specified test ratio: 0.2 - Actual test ratio 0.21\n",
      "Fold 3, specified test ratio: 0.2 - Actual test ratio 0.20\n",
      "Fold 4, specified test ratio: 0.2 - Actual test ratio 0.10\n",
      "\n",
      "\tBetween model\n",
      "Initialising training\n"
     ]
    },
    {
     "data": {
      "application/vnd.jupyter.widget-view+json": {
       "model_id": "d195690e6cbb4e59b8d7a517da4bb805",
       "version_major": 2,
       "version_minor": 0
      },
      "text/plain": [
       "  0%|          | 0/5 [00:00<?, ?it/s]"
      ]
     },
     "metadata": {},
     "output_type": "display_data"
    },
    {
     "name": "stdout",
     "output_type": "stream",
     "text": [
      "Finished training after 61 seconds\n",
      "\n",
      "\tWithin Model\n",
      "Initialising training\n"
     ]
    },
    {
     "data": {
      "application/vnd.jupyter.widget-view+json": {
       "model_id": "9747de4b6d154270b94faa62e34774d0",
       "version_major": 2,
       "version_minor": 0
      },
      "text/plain": [
       "  0%|          | 0/5 [00:00<?, ?it/s]"
      ]
     },
     "metadata": {},
     "output_type": "display_data"
    },
    {
     "name": "stdout",
     "output_type": "stream",
     "text": [
      "Finished training after 174 seconds\n",
      "\t{'combined': 0.3263126767828572, 'between': 0.3590848237130658, 'within': 0.04320917258815926}\n",
      "====================================================================================================\n",
      "Training and Evaluating on country tza\n",
      "====================================================================================================\n",
      "\n",
      "\n",
      "....................................................................................................\n",
      "Iteration 0\n",
      "....................................................................................................\n",
      "Fold 0, specified test ratio: 0.2 - Actual test ratio 0.29\n",
      "Fold 1, specified test ratio: 0.2 - Actual test ratio 0.21\n",
      "Fold 2, specified test ratio: 0.2 - Actual test ratio 0.20\n",
      "Fold 3, specified test ratio: 0.2 - Actual test ratio 0.20\n",
      "Fold 4, specified test ratio: 0.2 - Actual test ratio 0.10\n",
      "\n",
      "\tBetween model\n",
      "Initialising training\n"
     ]
    },
    {
     "data": {
      "application/vnd.jupyter.widget-view+json": {
       "model_id": "0d74efdce2674be9811de32033ff6ef2",
       "version_major": 2,
       "version_minor": 0
      },
      "text/plain": [
       "  0%|          | 0/5 [00:00<?, ?it/s]"
      ]
     },
     "metadata": {},
     "output_type": "display_data"
    },
    {
     "name": "stdout",
     "output_type": "stream",
     "text": [
      "Finished training after 105 seconds\n",
      "\n",
      "\tWithin Model\n",
      "Initialising training\n"
     ]
    },
    {
     "data": {
      "application/vnd.jupyter.widget-view+json": {
       "model_id": "7631a8826760488ea14a6a4c585bbd90",
       "version_major": 2,
       "version_minor": 0
      },
      "text/plain": [
       "  0%|          | 0/5 [00:00<?, ?it/s]"
      ]
     },
     "metadata": {},
     "output_type": "display_data"
    },
    {
     "name": "stdout",
     "output_type": "stream",
     "text": [
      "Finished training after 200 seconds\n",
      "\t{'combined': 0.291718249057664, 'between': 0.33619152310309564, 'within': -0.0030916321842579864}\n",
      "....................................................................................................\n",
      "Iteration 1\n",
      "....................................................................................................\n",
      "Fold 0, specified test ratio: 0.2 - Actual test ratio 0.27\n",
      "Fold 1, specified test ratio: 0.2 - Actual test ratio 0.20\n",
      "Fold 2, specified test ratio: 0.2 - Actual test ratio 0.20\n",
      "Fold 3, specified test ratio: 0.2 - Actual test ratio 0.20\n",
      "Fold 4, specified test ratio: 0.2 - Actual test ratio 0.12\n",
      "\n",
      "\tBetween model\n",
      "Initialising training\n"
     ]
    },
    {
     "data": {
      "application/vnd.jupyter.widget-view+json": {
       "model_id": "c22f0866854f4a97a534dddd4841d478",
       "version_major": 2,
       "version_minor": 0
      },
      "text/plain": [
       "  0%|          | 0/5 [00:00<?, ?it/s]"
      ]
     },
     "metadata": {},
     "output_type": "display_data"
    },
    {
     "name": "stdout",
     "output_type": "stream",
     "text": [
      "Finished training after 105 seconds\n",
      "\n",
      "\tWithin Model\n",
      "Initialising training\n"
     ]
    },
    {
     "data": {
      "application/vnd.jupyter.widget-view+json": {
       "model_id": "deac136b3764474294c83b2c0bd67b76",
       "version_major": 2,
       "version_minor": 0
      },
      "text/plain": [
       "  0%|          | 0/5 [00:00<?, ?it/s]"
      ]
     },
     "metadata": {},
     "output_type": "display_data"
    },
    {
     "name": "stdout",
     "output_type": "stream",
     "text": [
      "Finished training after 199 seconds\n",
      "\t{'combined': 0.2785958852483965, 'between': 0.31957189154415977, 'within': 0.0061124595787695355}\n",
      "....................................................................................................\n",
      "Iteration 2\n",
      "....................................................................................................\n",
      "Fold 0, specified test ratio: 0.2 - Actual test ratio 0.20\n",
      "Fold 1, specified test ratio: 0.2 - Actual test ratio 0.20\n",
      "Fold 2, specified test ratio: 0.2 - Actual test ratio 0.20\n",
      "Fold 3, specified test ratio: 0.2 - Actual test ratio 0.20\n",
      "Fold 4, specified test ratio: 0.2 - Actual test ratio 0.19\n",
      "\n",
      "\tBetween model\n",
      "Initialising training\n"
     ]
    },
    {
     "data": {
      "application/vnd.jupyter.widget-view+json": {
       "model_id": "930ee7ac9b644d0c8124b2b2a5267dc0",
       "version_major": 2,
       "version_minor": 0
      },
      "text/plain": [
       "  0%|          | 0/5 [00:00<?, ?it/s]"
      ]
     },
     "metadata": {},
     "output_type": "display_data"
    },
    {
     "name": "stdout",
     "output_type": "stream",
     "text": [
      "Finished training after 105 seconds\n",
      "\n",
      "\tWithin Model\n",
      "Initialising training\n"
     ]
    },
    {
     "data": {
      "application/vnd.jupyter.widget-view+json": {
       "model_id": "20e45d81a381444b8f5ae49b64bd74c4",
       "version_major": 2,
       "version_minor": 0
      },
      "text/plain": [
       "  0%|          | 0/5 [00:00<?, ?it/s]"
      ]
     },
     "metadata": {},
     "output_type": "display_data"
    },
    {
     "name": "stdout",
     "output_type": "stream",
     "text": [
      "Finished training after 198 seconds\n",
      "\t{'combined': 0.26409791322231924, 'between': 0.3091047928533583, 'within': 0.017083272910510972}\n",
      "....................................................................................................\n",
      "Iteration 3\n",
      "....................................................................................................\n",
      "Fold 0, specified test ratio: 0.2 - Actual test ratio 0.20\n",
      "Fold 1, specified test ratio: 0.2 - Actual test ratio 0.20\n",
      "Fold 2, specified test ratio: 0.2 - Actual test ratio 0.20\n",
      "Fold 3, specified test ratio: 0.2 - Actual test ratio 0.20\n",
      "Fold 4, specified test ratio: 0.2 - Actual test ratio 0.20\n",
      "\n",
      "\tBetween model\n",
      "Initialising training\n"
     ]
    },
    {
     "data": {
      "application/vnd.jupyter.widget-view+json": {
       "model_id": "298145edb96746c3ac7f5226a1880268",
       "version_major": 2,
       "version_minor": 0
      },
      "text/plain": [
       "  0%|          | 0/5 [00:00<?, ?it/s]"
      ]
     },
     "metadata": {},
     "output_type": "display_data"
    },
    {
     "name": "stdout",
     "output_type": "stream",
     "text": [
      "Finished training after 104 seconds\n",
      "\n",
      "\tWithin Model\n",
      "Initialising training\n"
     ]
    },
    {
     "data": {
      "application/vnd.jupyter.widget-view+json": {
       "model_id": "0cad86187df947a381f79c4d41dd9d95",
       "version_major": 2,
       "version_minor": 0
      },
      "text/plain": [
       "  0%|          | 0/5 [00:00<?, ?it/s]"
      ]
     },
     "metadata": {},
     "output_type": "display_data"
    },
    {
     "name": "stdout",
     "output_type": "stream",
     "text": [
      "Finished training after 198 seconds\n",
      "\t{'combined': 0.25733948021588066, 'between': 0.28666690569191594, 'within': 0.0023381787438235156}\n",
      "....................................................................................................\n",
      "Iteration 4\n",
      "....................................................................................................\n",
      "Fold 0, specified test ratio: 0.2 - Actual test ratio 0.30\n",
      "Fold 1, specified test ratio: 0.2 - Actual test ratio 0.20\n",
      "Fold 2, specified test ratio: 0.2 - Actual test ratio 0.20\n",
      "Fold 3, specified test ratio: 0.2 - Actual test ratio 0.20\n",
      "Fold 4, specified test ratio: 0.2 - Actual test ratio 0.10\n",
      "\n",
      "\tBetween model\n",
      "Initialising training\n"
     ]
    },
    {
     "data": {
      "application/vnd.jupyter.widget-view+json": {
       "model_id": "8d3e51108b3f48b4a95f94b9d155c070",
       "version_major": 2,
       "version_minor": 0
      },
      "text/plain": [
       "  0%|          | 0/5 [00:00<?, ?it/s]"
      ]
     },
     "metadata": {},
     "output_type": "display_data"
    },
    {
     "name": "stdout",
     "output_type": "stream",
     "text": [
      "Finished training after 105 seconds\n",
      "\n",
      "\tWithin Model\n",
      "Initialising training\n"
     ]
    },
    {
     "data": {
      "application/vnd.jupyter.widget-view+json": {
       "model_id": "5aeb75c1fa2841dbaae67f7c2281027b",
       "version_major": 2,
       "version_minor": 0
      },
      "text/plain": [
       "  0%|          | 0/5 [00:00<?, ?it/s]"
      ]
     },
     "metadata": {},
     "output_type": "display_data"
    },
    {
     "name": "stdout",
     "output_type": "stream",
     "text": [
      "Finished training after 199 seconds\n",
      "\t{'combined': 0.3105384769226573, 'between': 0.36887734812985057, 'within': -0.008230443228658846}\n",
      "....................................................................................................\n",
      "Iteration 5\n",
      "....................................................................................................\n",
      "Fold 0, specified test ratio: 0.2 - Actual test ratio 0.20\n",
      "Fold 1, specified test ratio: 0.2 - Actual test ratio 0.21\n",
      "Fold 2, specified test ratio: 0.2 - Actual test ratio 0.20\n",
      "Fold 3, specified test ratio: 0.2 - Actual test ratio 0.20\n",
      "Fold 4, specified test ratio: 0.2 - Actual test ratio 0.18\n",
      "\n",
      "\tBetween model\n",
      "Initialising training\n"
     ]
    },
    {
     "data": {
      "application/vnd.jupyter.widget-view+json": {
       "model_id": "c93c57388ea7419ea18c06a5f9eaf844",
       "version_major": 2,
       "version_minor": 0
      },
      "text/plain": [
       "  0%|          | 0/5 [00:00<?, ?it/s]"
      ]
     },
     "metadata": {},
     "output_type": "display_data"
    },
    {
     "name": "stdout",
     "output_type": "stream",
     "text": [
      "Finished training after 105 seconds\n",
      "\n",
      "\tWithin Model\n",
      "Initialising training\n"
     ]
    },
    {
     "data": {
      "application/vnd.jupyter.widget-view+json": {
       "model_id": "001ca1794540444f980b9498937a4afa",
       "version_major": 2,
       "version_minor": 0
      },
      "text/plain": [
       "  0%|          | 0/5 [00:00<?, ?it/s]"
      ]
     },
     "metadata": {},
     "output_type": "display_data"
    },
    {
     "name": "stdout",
     "output_type": "stream",
     "text": [
      "Finished training after 199 seconds\n",
      "\t{'combined': 0.2652156227104093, 'between': 0.2931702288972456, 'within': 0.02124782049794325}\n",
      "....................................................................................................\n",
      "Iteration 6\n",
      "....................................................................................................\n",
      "Fold 0, specified test ratio: 0.2 - Actual test ratio 0.27\n",
      "Fold 1, specified test ratio: 0.2 - Actual test ratio 0.20\n",
      "Fold 2, specified test ratio: 0.2 - Actual test ratio 0.20\n",
      "Fold 3, specified test ratio: 0.2 - Actual test ratio 0.20\n",
      "Fold 4, specified test ratio: 0.2 - Actual test ratio 0.12\n",
      "\n",
      "\tBetween model\n",
      "Initialising training\n"
     ]
    },
    {
     "data": {
      "application/vnd.jupyter.widget-view+json": {
       "model_id": "2023410131f84e36bd52e286187d06a5",
       "version_major": 2,
       "version_minor": 0
      },
      "text/plain": [
       "  0%|          | 0/5 [00:00<?, ?it/s]"
      ]
     },
     "metadata": {},
     "output_type": "display_data"
    },
    {
     "name": "stdout",
     "output_type": "stream",
     "text": [
      "Finished training after 104 seconds\n",
      "\n",
      "\tWithin Model\n",
      "Initialising training\n"
     ]
    },
    {
     "data": {
      "application/vnd.jupyter.widget-view+json": {
       "model_id": "77ad39e0ea9b4685a9abd6af204eb41e",
       "version_major": 2,
       "version_minor": 0
      },
      "text/plain": [
       "  0%|          | 0/5 [00:00<?, ?it/s]"
      ]
     },
     "metadata": {},
     "output_type": "display_data"
    },
    {
     "name": "stdout",
     "output_type": "stream",
     "text": [
      "Finished training after 200 seconds\n",
      "\t{'combined': 0.2461477495436179, 'between': 0.28889028985345633, 'within': 0.005216159314757274}\n",
      "....................................................................................................\n",
      "Iteration 7\n",
      "....................................................................................................\n",
      "Fold 0, specified test ratio: 0.2 - Actual test ratio 0.20\n",
      "Fold 1, specified test ratio: 0.2 - Actual test ratio 0.20\n",
      "Fold 2, specified test ratio: 0.2 - Actual test ratio 0.20\n",
      "Fold 3, specified test ratio: 0.2 - Actual test ratio 0.20\n",
      "Fold 4, specified test ratio: 0.2 - Actual test ratio 0.19\n",
      "\n",
      "\tBetween model\n",
      "Initialising training\n"
     ]
    },
    {
     "data": {
      "application/vnd.jupyter.widget-view+json": {
       "model_id": "ebe4f988e1a0412ab0e20ce63660d48d",
       "version_major": 2,
       "version_minor": 0
      },
      "text/plain": [
       "  0%|          | 0/5 [00:00<?, ?it/s]"
      ]
     },
     "metadata": {},
     "output_type": "display_data"
    },
    {
     "name": "stdout",
     "output_type": "stream",
     "text": [
      "Finished training after 106 seconds\n",
      "\n",
      "\tWithin Model\n",
      "Initialising training\n"
     ]
    },
    {
     "data": {
      "application/vnd.jupyter.widget-view+json": {
       "model_id": "c5e0a61d8123423bbfe829b1e7990f06",
       "version_major": 2,
       "version_minor": 0
      },
      "text/plain": [
       "  0%|          | 0/5 [00:00<?, ?it/s]"
      ]
     },
     "metadata": {},
     "output_type": "display_data"
    },
    {
     "name": "stdout",
     "output_type": "stream",
     "text": [
      "Finished training after 207 seconds\n",
      "\t{'combined': 0.23233532798313644, 'between': 0.2611410073984063, 'within': 0.013300334990962014}\n",
      "....................................................................................................\n",
      "Iteration 8\n",
      "....................................................................................................\n",
      "Fold 0, specified test ratio: 0.2 - Actual test ratio 0.20\n",
      "Fold 1, specified test ratio: 0.2 - Actual test ratio 0.20\n",
      "Fold 2, specified test ratio: 0.2 - Actual test ratio 0.20\n",
      "Fold 3, specified test ratio: 0.2 - Actual test ratio 0.20\n",
      "Fold 4, specified test ratio: 0.2 - Actual test ratio 0.20\n",
      "\n",
      "\tBetween model\n",
      "Initialising training\n"
     ]
    },
    {
     "data": {
      "application/vnd.jupyter.widget-view+json": {
       "model_id": "3af6e758e0d04db39f8951ff55888370",
       "version_major": 2,
       "version_minor": 0
      },
      "text/plain": [
       "  0%|          | 0/5 [00:00<?, ?it/s]"
      ]
     },
     "metadata": {},
     "output_type": "display_data"
    },
    {
     "name": "stdout",
     "output_type": "stream",
     "text": [
      "Finished training after 106 seconds\n",
      "\n",
      "\tWithin Model\n",
      "Initialising training\n"
     ]
    },
    {
     "data": {
      "application/vnd.jupyter.widget-view+json": {
       "model_id": "2ffc93edca8d435ca65daa0e0d86bcca",
       "version_major": 2,
       "version_minor": 0
      },
      "text/plain": [
       "  0%|          | 0/5 [00:00<?, ?it/s]"
      ]
     },
     "metadata": {},
     "output_type": "display_data"
    },
    {
     "name": "stdout",
     "output_type": "stream",
     "text": [
      "Finished training after 198 seconds\n",
      "\t{'combined': 0.2515104417551416, 'between': 0.2849176624465565, 'within': 0.009822290358662911}\n",
      "....................................................................................................\n",
      "Iteration 9\n",
      "....................................................................................................\n",
      "Fold 0, specified test ratio: 0.2 - Actual test ratio 0.20\n",
      "Fold 1, specified test ratio: 0.2 - Actual test ratio 0.20\n",
      "Fold 2, specified test ratio: 0.2 - Actual test ratio 0.20\n",
      "Fold 3, specified test ratio: 0.2 - Actual test ratio 0.20\n",
      "Fold 4, specified test ratio: 0.2 - Actual test ratio 0.19\n",
      "\n",
      "\tBetween model\n",
      "Initialising training\n"
     ]
    },
    {
     "data": {
      "application/vnd.jupyter.widget-view+json": {
       "model_id": "7feaf2cb23b1479f8f7b3ca35f973024",
       "version_major": 2,
       "version_minor": 0
      },
      "text/plain": [
       "  0%|          | 0/5 [00:00<?, ?it/s]"
      ]
     },
     "metadata": {},
     "output_type": "display_data"
    },
    {
     "name": "stdout",
     "output_type": "stream",
     "text": [
      "Finished training after 105 seconds\n",
      "\n",
      "\tWithin Model\n",
      "Initialising training\n"
     ]
    },
    {
     "data": {
      "application/vnd.jupyter.widget-view+json": {
       "model_id": "8b939576f2a54ce8848c01425cae668f",
       "version_major": 2,
       "version_minor": 0
      },
      "text/plain": [
       "  0%|          | 0/5 [00:00<?, ?it/s]"
      ]
     },
     "metadata": {},
     "output_type": "display_data"
    },
    {
     "name": "stdout",
     "output_type": "stream",
     "text": [
      "Finished training after 199 seconds\n",
      "\t{'combined': 0.1959761137290564, 'between': 0.2290847838395208, 'within': 0.011538916721951375}\n"
     ]
    }
   ],
   "source": [
    "same_cntry_res = {\n",
    "    'country': [],\n",
    "    'between_r2': [],\n",
    "    'within_r2': [],\n",
    "    'overall_r2': []\n",
    "}\n",
    "it = 0\n",
    "for cntry in tqdm(countries):\n",
    "    print(\"=\"*100)\n",
    "    print(f\"Training and Evaluating on country {cntry}\")\n",
    "    print(\"=\"*100)\n",
    "    print(\"\\n\")\n",
    "    \n",
    "    # subset the df to country\n",
    "    df_sub = df.loc[df.country == cntry].reset_index(drop = True)\n",
    "    between_df_sub = between_df[between_df.country == cntry].reset_index(drop = True)\n",
    "    within_df_sub = within_df[within_df.country == cntry].reset_index(drop = True)\n",
    "    \n",
    "    # standardise the datasets\n",
    "        between_df_norm = standardise_df(between_df_sub, exclude_cols = [between_target_var])\n",
    "    demeaned_df_norm = standardise_df(demean_df(within_df_sub), exclude_cols = [within_target_var])\n",
    "\n",
    "    aux_r2_b = []\n",
    "    aux_r2_w = []\n",
    "    aux_r2_o = []\n",
    "    \n",
    "    for j in range(10):\n",
    "        print(\".\"*100)\n",
    "        print(f\"Iteration {j}\")\n",
    "        print(\".\"*100)\n",
    "        \n",
    "        seeed = random_seed + j + it\n",
    "        \n",
    "        # get training and validation ids using spatial CV scheme\n",
    "        fold_ids = split_lsms_spatial(df_sub, n_folds = n_folds, random_seed = seeed)\n",
    "        \n",
    "        # run the bewtween training\n",
    "        print('\\n\\tBetween model')\n",
    "        between_cv_trainer = rf.CrossValidator(between_df_norm, \n",
    "                                               fold_ids,\n",
    "                                               between_target_var, \n",
    "                                               between_x_vars, \n",
    "                                               id_var = 'cluster_id',\n",
    "                                               random_seed = seeed)\n",
    "        between_cv_trainer.run_cv_training(min_samples_leaf = 1)\n",
    "        between_res = between_cv_trainer.compute_overall_performance()\n",
    "\n",
    "        # run the within training\n",
    "        print('\\n\\tWithin Model')\n",
    "        within_cv_trainer = rf.CrossValidator(demeaned_df_norm, \n",
    "                                              fold_ids, \n",
    "                                              within_target_var, \n",
    "                                              within_x_vars,\n",
    "                                              id_var = 'unique_id',\n",
    "                                              random_seed = seeed)\n",
    "        within_cv_trainer.run_cv_training(min_samples_leaf = 1)\n",
    "        within_res = within_cv_trainer.compute_overall_performance()\n",
    "\n",
    "        # run the combined model\n",
    "        combined_model = CombinedModel(df_sub, between_cv_trainer, within_cv_trainer)\n",
    "        combined_model.evaluate()\n",
    "        combined_res = combined_model.compute_overall_performance()\n",
    "        print(f\"\\t{combined_res['r2']}\")\n",
    "\n",
    "        # store results\n",
    "        aux_r2_b.append(combined_res['r2']['between'])\n",
    "        aux_r2_w.append(combined_res['r2']['within'])\n",
    "        aux_r2_o.append(combined_res['r2']['combined'])\n",
    "        \n",
    "    it += 1\n",
    "    \n",
    "    # take the average over all results\n",
    "    same_cntry_res['country'].append(cntry)\n",
    "    same_cntry_res['between_r2'].append(np.mean(aux_r2_b))\n",
    "    same_cntry_res['within_r2'].append(np.mean(aux_r2_w))\n",
    "    same_cntry_res['overall_r2'].append(np.mean(aux_r2_o))"
   ]
  },
  {
   "cell_type": "code",
   "execution_count": 12,
   "id": "5168ca87",
   "metadata": {},
   "outputs": [],
   "source": [
    "pth = 'results/robustness/same_cntry_res.pkl'\n",
    "with open(pth, 'wb') as f:\n",
    "    pickle.dump(same_cntry_res, f)"
   ]
  },
  {
   "cell_type": "markdown",
   "id": "8a9281aa",
   "metadata": {},
   "source": [
    "# Make the plot"
   ]
  },
  {
   "cell_type": "code",
   "execution_count": 11,
   "id": "11b86422",
   "metadata": {},
   "outputs": [],
   "source": [
    "# load the data\n",
    "pth = 'results/robustness/same_cntry_res.pkl'\n",
    "with open(pth, 'rb') as f:\n",
    "    same_cntry_res = pickle.load(f)\n",
    "    \n",
    "pth = 'results/robustness/cross_cntry_res.pkl'\n",
    "with open(pth, 'rb') as f:\n",
    "    cross_cntry_res = pickle.load(f)\n"
   ]
  },
  {
   "cell_type": "code",
   "execution_count": 18,
   "id": "dbe72c7d",
   "metadata": {},
   "outputs": [],
   "source": [
    "same_cntry_df = pd.DataFrame(same_cntry_res)"
   ]
  },
  {
   "cell_type": "code",
   "execution_count": 33,
   "id": "011b1e7a",
   "metadata": {},
   "outputs": [],
   "source": [
    "# combine cross cntry and same cntry results to one matrix\n",
    "res_dict = {}\n",
    "for cntry, res in cross_cntry_res.items():\n",
    "    res_df = pd.DataFrame(res)\n",
    "    same_df = same_cntry_df[same_cntry_df.country == cntry]\n",
    "    same_df = same_df.rename(columns = {'country': 'val_cntry'})\n",
    "    res_df = pd.concat([res_df, same_df], ignore_index = True)\n",
    "    res_dict[cntry] = res_df.sort_values(by = 'val_cntry').reset_index(drop = True)"
   ]
  },
  {
   "cell_type": "code",
   "execution_count": 249,
   "id": "7cf0d69e",
   "metadata": {},
   "outputs": [],
   "source": [
    "res_dict['eth']\n",
    "between_df = pd.DataFrame({\n",
    "    'eth': [], \n",
    "    'mwi': [],\n",
    "    'nga': [],\n",
    "    'tza': [],\n",
    "    'uga': []\n",
    "})\n",
    "\n",
    "within_df = copy.deepcopy(between_df)\n",
    "overall_df = copy.deepcopy(between_df)\n",
    "\n",
    "final_res = {\n",
    "    'between_r2': between_df,\n",
    "    'within_r2': within_df,\n",
    "    'overall_r2': overall_df\n",
    "}\n",
    "\n",
    "for cntry, res_df in res_dict.items():\n",
    "    for r2, final_df in final_res.items():\n",
    "        aux_df = res_dict[cntry][[r2, 'val_cntry']].T\n",
    "        aux_df.columns = aux_df[aux_df.index == 'val_cntry'].values[0]\n",
    "        aux_df = aux_df[aux_df.index != 'val_cntry']\n",
    "        aux_df = aux_df.rename(index = {r2: cntry})\n",
    "        final_res[r2] = pd.concat([final_df, aux_df], ignore_index = False)\n",
    "        \n",
    "for r2, df in final_res.items():\n",
    "    final_res[r2].columns = [i.upper() for i in final_res[r2].columns.values]\n",
    "    final_res[r2].index = [i.upper() for i in final_res[r2].index.values]\n",
    "    final_res[r2] = final_res[r2].sort_index()\n",
    "    \n",
    "    "
   ]
  },
  {
   "cell_type": "code",
   "execution_count": 250,
   "id": "d1686ba9",
   "metadata": {},
   "outputs": [],
   "source": [
    "import seaborn as sns"
   ]
  },
  {
   "cell_type": "code",
   "execution_count": 251,
   "id": "bd7e4b90",
   "metadata": {},
   "outputs": [],
   "source": [
    "import matplotlib.cm as cm\n",
    "from matplotlib.colors import LinearSegmentedColormap\n",
    "sns.set(font_scale=3)"
   ]
  },
  {
   "cell_type": "code",
   "execution_count": 258,
   "id": "6f81af5b",
   "metadata": {},
   "outputs": [
    {
     "data": {
      "image/png": "[encoded data removed]",
      "text/plain": [
       "<Figure size 1200x400 with 4 Axes>"
      ]
     },
     "metadata": {},
     "output_type": "display_data"
    }
   ],
   "source": [
    "letters =  ['A', 'B', 'C']\n",
    "sns.set_theme(style=\"white\")\n",
    "\n",
    "# Create a figure and axis for the plot\n",
    "fig, axes = plt.subplots(1,3, figsize=(12, 4), sharey = True)\n",
    "\n",
    "data_between = final_res['between_r2'].astype(float)\n",
    "data_within = final_res['within_r2'].astype(float)\n",
    "data_overall = final_res['overall_r2'].astype(float)\n",
    "\n",
    "colors = ['#3B4CC0', '#F7F7F7', '#B8122A']  # Blue, Gray, Red\n",
    "\n",
    "# Define the positions for the color transitions\n",
    "positions = [0, 0.69, 1]  # Corresponding to blue, gray, and red\n",
    "\n",
    "# Create a colormap with color transitions around 0\n",
    "cmap = LinearSegmentedColormap.from_list(\"BlueGrayRed\", list(zip(positions, colors)), N=256)\n",
    "\n",
    "# Define the color map with segmented colors\n",
    "\n",
    "common_vmin = max(min(data_between.min().min(), data_within.min().min(), data_overall.min().min()),-1)\n",
    "common_vmax = max(data_between.max().max(), data_within.max().max(), data_overall.max().min())\n",
    "\n",
    "#cmap = LinearSegmentedColormap.from_list(\"BlueGrayRed\", colors, N=256)\n",
    "\n",
    "\n",
    "#sns.heatmap(data, cmap='coolwarm', annot=True, fmt='.2f', cbar=True, ax=ax, linewidths=1)\n",
    "\n",
    "# Create heatmaps for each data frame and place them in the subplots\n",
    "heatmap_between = sns.heatmap(data_between, cmap=cmap, annot=True, fmt='.2f', cbar=False, ax=axes[0], linewidths=1, vmin=common_vmin, vmax=common_vmax)\n",
    "heatmap_within = sns.heatmap(data_within, cmap=cmap, annot=True, fmt='.2f', cbar=False, ax=axes[1], linewidths=1, vmin=common_vmin, vmax=common_vmax)\n",
    "heatmap_overall = sns.heatmap(data_overall, cmap=cmap, annot=True, fmt='.2f', cbar=False, ax=axes[2], linewidths=1, vmin=common_vmin, vmax=common_vmax)\n",
    "\n",
    "plt.tight_layout()\n",
    "\n",
    "# cbar_ax = fig.add_axes([0.92, 0.15, 0.02, 0.7])  # [x, y, width, height]\n",
    "# cbar = fig.colorbar(heatmap_overall, cax=cbar_ax)\n",
    "# Create a common color bar based on vmin and vmax\n",
    "sm = cm.ScalarMappable(cmap=cmap, norm=plt.Normalize(vmin=common_vmin, vmax=common_vmax))\n",
    "sm.set_array([])  # Dummy empty array for the ScalarMappable\n",
    "\n",
    "# Add the color bar to the figure\n",
    "cbar = fig.colorbar(sm, ax=axes.ravel().tolist(), pad=0.02)\n",
    "cbar.ax.tick_params(size=0, labelsize = 14)\n",
    "cbar.outline.set_visible(False)\n",
    "\n",
    "# Set titles for each subplot\n",
    "heatmap_between.set_title('Between $R^2_B$', size = 16)\n",
    "heatmap_within.set_title('Within $R^2_W$', size = 16)\n",
    "heatmap_overall.set_title('Overall $R^2$', size = 16)\n",
    "\n",
    "for ax in axes:\n",
    "    ax.tick_params(axis='x', labelsize=12)\n",
    "    ax.tick_params(axis='y', labelsize=12)\n",
    "\n",
    "# add letter to every plot\n",
    "text_y = 1.02\n",
    "text_x = 0.02\n",
    "axes[0].text(text_x, text_y, 'A', transform=axes[0].transAxes, weight='bold', size = 16)\n",
    "axes[1].text(text_x, text_y, 'B', transform=axes[1].transAxes, weight='bold', size = 16)\n",
    "axes[2].text(text_x, text_y, 'C', transform=axes[2].transAxes, weight='bold', size = 16)\n",
    "\n",
    "# Show the plot\n",
    "fig.text(0.5, -.02, \"Country validated on\", ha=\"center\", size = 16)\n",
    "fig.text(-.02, 0.5, \"Country trained on\", va=\"center\", rotation=\"vertical\", size = 16)\n",
    "plt.savefig('../figures/results/cross_cntry_validation.png', dpi = 300, bbox_inches='tight')\n",
    "plt.show()"
   ]
  }
 ],
 "metadata": {
  "kernelspec": {
   "display_name": "Python 3 (ipykernel)",
   "language": "python",
   "name": "python3"
  },
  "language_info": {
   "codemirror_mode": {
    "name": "ipython",
    "version": 3
   },
   "file_extension": ".py",
   "mimetype": "text/x-python",
   "name": "python",
   "nbconvert_exporter": "python",
   "pygments_lexer": "ipython3",
   "version": "3.10.12"
  }
 },
 "nbformat": 4,
 "nbformat_minor": 5
}
