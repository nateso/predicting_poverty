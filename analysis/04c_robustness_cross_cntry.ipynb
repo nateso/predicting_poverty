{
 "cells": [
  {
   "cell_type": "markdown",
   "id": "f83192ef",
   "metadata": {},
   "source": [
    "# Train Model by country"
   ]
  },
  {
   "cell_type": "code",
   "execution_count": 1,
   "id": "c6c075f2",
   "metadata": {},
   "outputs": [],
   "source": [
    "import matplotlib\n",
    "import matplotlib.pyplot as plt\n",
    "import pandas as pd\n",
    "import numpy as np\n",
    "import pickle\n",
    "from tqdm.auto import tqdm\n",
    "\n",
    "from sklearn.metrics import r2_score\n",
    "from sklearn.metrics import mean_squared_error\n",
    "\n",
    "# set the font size for matplotlib and the font family.\n",
    "font = {'family' : 'sans-serif',\n",
    "        'weight' : 'normal',\n",
    "        'size'   : 16}\n",
    "\n",
    "matplotlib.rc('font', **font)"
   ]
  },
  {
   "cell_type": "code",
   "execution_count": 2,
   "id": "85546b01",
   "metadata": {},
   "outputs": [],
   "source": [
    "# load the necessary functions from the analysis package\n",
    "\n",
    "# load the variable names, this allows to access the variables in the feature data in a compact way\n",
    "from analysis_utils.variable_names import *\n",
    "\n",
    "# load flagged ids \n",
    "from analysis_utils.flagged_uids import *\n",
    "\n",
    "# load the functions to do spatial k-fold CV\n",
    "from analysis_utils.spatial_CV import *\n",
    "\n",
    "# load the helper functions\n",
    "from analysis_utils.analysis_helpers import *\n",
    "\n",
    "# load the random forest trainer and cross_validator\n",
    "import analysis_utils.RandomForest as rf\n",
    "\n",
    "# load the combien model\n",
    "from analysis_utils.CombinedModel import CombinedModel"
   ]
  },
  {
   "cell_type": "code",
   "execution_count": 3,
   "id": "f591882d",
   "metadata": {},
   "outputs": [],
   "source": [
    "# set the global file paths\n",
    "root_data_dir = \"../../Data\"\n",
    "\n",
    "# the lsms data\n",
    "lsms_pth = f\"{root_data_dir}/lsms/processed/labels_cluster_v1.csv\"\n",
    "\n",
    "# the feature data\n",
    "feat_data_pth = f\"{root_data_dir}/feature_data/tabular_data.csv\"\n",
    "\n",
    "# set the random seed\n",
    "random_seed = 423\n",
    "spatial_cv_random_seed = 348\n",
    "\n",
    "# set the number of folds for k-fold CV\n",
    "n_folds = 5"
   ]
  },
  {
   "cell_type": "code",
   "execution_count": 4,
   "id": "fcf85078",
   "metadata": {},
   "outputs": [
    {
     "name": "stdout",
     "output_type": "stream",
     "text": [
      "Number of observations 6401\n",
      "Number of clusters 2128\n",
      "Number of x vars 113\n"
     ]
    }
   ],
   "source": [
    "# load the feature and the label data\n",
    "lsms_df = pd.read_csv(lsms_pth)\n",
    "\n",
    "# remove flagged ids form dataset\n",
    "lsms_df = lsms_df[~lsms_df.unique_id.isin(flagged_uids)].reset_index(drop = True)\n",
    "\n",
    "# create average varaibles for the between model\n",
    "lsms_df['avg_log_mean_pc_cons_usd_2017'] = lsms_df.groupby('cluster_id')['log_mean_pc_cons_usd_2017'].transform('mean')\n",
    "lsms_df['avg_mean_asset_index_yeh'] = lsms_df.groupby('cluster_id')['mean_asset_index_yeh'].transform('mean')\n",
    "\n",
    "# load the feature data\n",
    "feat_df = pd.read_csv(feat_data_pth)\n",
    "\n",
    "# describe the training data broadly\n",
    "print(f\"Number of observations {len(lsms_df)}\")\n",
    "print(f\"Number of clusters {len(np.unique(lsms_df.cluster_id))}\")\n",
    "print(f\"Number of x vars {len(feat_df.columns)-2}\")"
   ]
  },
  {
   "cell_type": "code",
   "execution_count": 5,
   "id": "3a04c985",
   "metadata": {},
   "outputs": [],
   "source": [
    "# merge the label and the feature data to one dataset\n",
    "lsms_vars = ['unique_id','n_households', 'country', 'lat', 'lon',        \n",
    "             'log_mean_pc_cons_usd_2017', 'avg_log_mean_pc_cons_usd_2017',\n",
    "             'mean_asset_index_yeh', 'avg_mean_asset_index_yeh']\n",
    "df = pd.merge(lsms_df[lsms_vars], feat_df, on = 'unique_id', how = 'left')"
   ]
  },
  {
   "cell_type": "code",
   "execution_count": 6,
   "id": "7b266418",
   "metadata": {},
   "outputs": [],
   "source": [
    "# define the x variables and the target variable for the between and within models\n",
    "\n",
    "# define the between variables\n",
    "avg_rs_vars = avg_ndvi_vars + avg_ndwi_gao_vars + avg_nl_vars\n",
    "osm_vars = osm_dist_vars + osm_count_vars + osm_road_vars\n",
    "between_x_vars = osm_vars + esa_lc_vars + wsf_vars + avg_rs_vars + avg_preciptiation + median_rgb_vars \n",
    "between_target_var = 'avg_log_mean_pc_cons_usd_2017'\n",
    "\n",
    "# define the within varaibles\n",
    "dyn_rs_vars = dyn_ndvi_vars + dyn_ndwi_gao_vars + dyn_nl_vars\n",
    "within_x_vars = dyn_rs_vars + precipitation + dyn_rgb_vars\n",
    "within_target_var = 'log_mean_pc_cons_usd_2017'"
   ]
  },
  {
   "cell_type": "code",
   "execution_count": 7,
   "id": "8e1a65c2",
   "metadata": {},
   "outputs": [],
   "source": [
    "# define the between and the within df\n",
    "\n",
    "between_df = df[['cluster_id', 'country', between_target_var] + between_x_vars].drop_duplicates().reset_index(drop = True)\n",
    "within_df = df[['unique_id', 'cluster_id', 'country',within_target_var] + within_x_vars]"
   ]
  },
  {
   "cell_type": "markdown",
   "id": "61cbc4ec",
   "metadata": {},
   "source": [
    "# Run the CV"
   ]
  },
  {
   "cell_type": "code",
   "execution_count": 8,
   "id": "15bc630d",
   "metadata": {},
   "outputs": [],
   "source": [
    "# train a model on each country and evaluate on the remaining countries.\n",
    "# for the country itself, use spatial cross validation to evaluate the model"
   ]
  },
  {
   "cell_type": "code",
   "execution_count": 9,
   "id": "4ffa039b",
   "metadata": {},
   "outputs": [
    {
     "data": {
      "application/vnd.jupyter.widget-view+json": {
       "model_id": "f4127e5aa27a480c80e2e9c73306251a",
       "version_major": 2,
       "version_minor": 0
      },
      "text/plain": [
       "  0%|          | 0/5 [00:00<?, ?it/s]"
      ]
     },
     "metadata": {},
     "output_type": "display_data"
    }
   ],
   "source": [
    "countries = ['eth', 'mwi', 'nga', 'tza', 'uga']\n",
    "cross_cntry_res = {}\n",
    "\n",
    "between_df_norm = standardise_df(between_df, exclude_cols = [between_target_var])\n",
    "demeaned_df_norm = standardise_df(demean_df(within_df), exclude_cols = [within_target_var])\n",
    "demeaned_df_norm['country'] = within_df['country']\n",
    "\n",
    "for cntry in tqdm(countries):\n",
    "    \n",
    "    # subset the training data\n",
    "    train_between_df_norm = between_df_norm[between_df_norm.country == cntry].reset_index(drop = True)\n",
    "    train_demeaned_df_norm = demeaned_df_norm[demeaned_df_norm.country == cntry].reset_index(drop = True)\n",
    "    \n",
    "    # get the X and y vectors\n",
    "    X_train_between = train_between_df_norm.loc[:, between_x_vars]\n",
    "    y_train_between = np.array(train_between_df_norm[[between_target_var]]).ravel()\n",
    "    \n",
    "    X_train_within = train_demeaned_df_norm.loc[:, within_x_vars]\n",
    "    y_train_within = np.array(train_demeaned_df_norm[[within_target_var]]).ravel()\n",
    "    \n",
    "    # train the between model\n",
    "    between_rf = rf.Trainer(X_train_between, y_train_between, None, None, random_seed)\n",
    "    between_rf.train(min_samples_leaf = 5)\n",
    "    \n",
    "    # train within model\n",
    "    within_rf = rf.Trainer(X_train_within, y_train_within, None, None, random_seed)\n",
    "    within_rf.train(min_samples_leaf = 15)\n",
    "    \n",
    "    # evaluate the between and the within models on all other countries\n",
    "    val_countries = [i for i in countries if i != cntry]\n",
    "    \n",
    "    # define object to store results of country\n",
    "    cross_cntry_res[cntry] = {\n",
    "        'between_r2': [],\n",
    "        'within_r2': [], \n",
    "        'overall_r2': [],\n",
    "        'val_cntry': []\n",
    "    }\n",
    "    \n",
    "    for val_cntry in val_countries:\n",
    "        \n",
    "        # subset the data to the validation country\n",
    "        val_df = df.loc[df.country == val_cntry].reset_index(drop = True)\n",
    "        \n",
    "        # normalise data\n",
    "        val_between_df_norm = between_df_norm[between_df_norm.country == val_cntry].reset_index(drop = True)\n",
    "        val_demeaned_df_norm = demeaned_df_norm[demeaned_df_norm.country == val_cntry].reset_index(drop = True)\n",
    "    \n",
    "        # get the X and y vectors\n",
    "        X_val_between = val_between_df_norm.loc[:, between_x_vars]\n",
    "        y_val_between = np.array(val_between_df_norm[[between_target_var]]).ravel()\n",
    "\n",
    "        X_val_within = val_demeaned_df_norm.loc[:, within_x_vars]\n",
    "        y_val_within = np.array(val_demeaned_df_norm[[within_target_var]]).ravel()\n",
    "        \n",
    "        # validate both models on the validation country\n",
    "        between_preds, between_r2, between_mse = between_rf.validate(X_val_between, y_val_between)\n",
    "        between_preds_df = pd.DataFrame({\n",
    "            'cluster_id': val_between_df_norm.cluster_id,\n",
    "            'between_y_hat': between_preds\n",
    "        })\n",
    "        \n",
    "        # validate the within model\n",
    "        within_preds, within_r2, within_mse = within_rf.validate(X_val_within, y_val_within)\n",
    "        within_preds_df = pd.DataFrame({\n",
    "            'unique_id': val_demeaned_df_norm.unique_id,\n",
    "            'cluster_id': val_demeaned_df_norm.cluster_id,\n",
    "            'within_y_hat': within_preds\n",
    "        })\n",
    "        \n",
    "        # combine both predictions\n",
    "        preds_df = pd.merge(within_preds_df, between_preds_df, on = 'cluster_id', how = 'left')\n",
    "        preds_df['y_hat'] = preds_df['between_y_hat'] + preds_df['within_y_hat']\n",
    "        preds_df['y'] = val_df['log_mean_pc_cons_usd_2017']\n",
    "        \n",
    "        # evaluate the predictions\n",
    "        overall_r2 = r2_score(preds_df['y'], preds_df['y_hat'])\n",
    "        \n",
    "        # results\n",
    "        cross_cntry_res[cntry]['between_r2'].append(between_r2)\n",
    "        cross_cntry_res[cntry]['within_r2'].append(within_r2)\n",
    "        cross_cntry_res[cntry]['overall_r2'].append(overall_r2)\n",
    "        cross_cntry_res[cntry]['val_cntry'].append(val_cntry)"
   ]
  },
  {
   "cell_type": "code",
   "execution_count": 10,
   "id": "82bf99a2",
   "metadata": {},
   "outputs": [],
   "source": [
    "# save results\n",
    "pth = 'results/robustness/cross_cntry_res.pkl'\n",
    "with open(pth, 'wb') as f:\n",
    "    pickle.dump(cross_cntry_res, f)"
   ]
  },
  {
   "cell_type": "markdown",
   "id": "e79bccb5",
   "metadata": {},
   "source": [
    "# Train on country and evaluate on country"
   ]
  },
  {
   "cell_type": "code",
   "execution_count": 13,
   "id": "8264c72c",
   "metadata": {},
   "outputs": [
    {
     "data": {
      "application/vnd.jupyter.widget-view+json": {
       "model_id": "98aa410d1d8f436982d410dfe2f15efe",
       "version_major": 2,
       "version_minor": 0
      },
      "text/plain": [
       "  0%|          | 0/5 [00:00<?, ?it/s]"
      ]
     },
     "metadata": {},
     "output_type": "display_data"
    },
    {
     "name": "stdout",
     "output_type": "stream",
     "text": [
      "====================================================================================================\n",
      "Training and Evaluating on country eth\n",
      "====================================================================================================\n",
      "\n",
      "\n",
      "....................................................................................................\n",
      "Iteration 0\n",
      "....................................................................................................\n",
      "Fold 0, specified test ratio: 0.2 - Actual test ratio 0.20\n",
      "Fold 1, specified test ratio: 0.2 - Actual test ratio 0.20\n",
      "Fold 2, specified test ratio: 0.2 - Actual test ratio 0.20\n",
      "Fold 3, specified test ratio: 0.2 - Actual test ratio 0.20\n",
      "Fold 4, specified test ratio: 0.2 - Actual test ratio 0.19\n",
      "\n",
      "\tBetween model\n",
      "Initialising training\n"
     ]
    },
    {
     "data": {
      "application/vnd.jupyter.widget-view+json": {
       "model_id": "38de524a21dd45f286efcc901152bd4c",
       "version_major": 2,
       "version_minor": 0
      },
      "text/plain": [
       "  0%|          | 0/5 [00:00<?, ?it/s]"
      ]
     },
     "metadata": {},
     "output_type": "display_data"
    },
    {
     "name": "stdout",
     "output_type": "stream",
     "text": [
      "Finished training after 53 seconds\n",
      "\n",
      "\tWithin Model\n",
      "Initialising training\n"
     ]
    },
    {
     "data": {
      "application/vnd.jupyter.widget-view+json": {
       "model_id": "7d62d0253538431eb1763c3a7763cb2f",
       "version_major": 2,
       "version_minor": 0
      },
      "text/plain": [
       "  0%|          | 0/5 [00:00<?, ?it/s]"
      ]
     },
     "metadata": {},
     "output_type": "display_data"
    },
    {
     "name": "stdout",
     "output_type": "stream",
     "text": [
      "Finished training after 69 seconds\n",
      "\t{'overall': 0.3077962798418053, 'between': 0.40919473391720873, 'within': 0.09107822987644609}\n",
      "....................................................................................................\n",
      "Iteration 1\n",
      "....................................................................................................\n",
      "Fold 0, specified test ratio: 0.2 - Actual test ratio 0.21\n",
      "Fold 1, specified test ratio: 0.2 - Actual test ratio 0.20\n",
      "Fold 2, specified test ratio: 0.2 - Actual test ratio 0.20\n",
      "Fold 3, specified test ratio: 0.2 - Actual test ratio 0.21\n",
      "Fold 4, specified test ratio: 0.2 - Actual test ratio 0.18\n",
      "\n",
      "\tBetween model\n",
      "Initialising training\n"
     ]
    },
    {
     "data": {
      "application/vnd.jupyter.widget-view+json": {
       "model_id": "4ce8f6c9f85745ad9410ce944f4b0e08",
       "version_major": 2,
       "version_minor": 0
      },
      "text/plain": [
       "  0%|          | 0/5 [00:00<?, ?it/s]"
      ]
     },
     "metadata": {},
     "output_type": "display_data"
    },
    {
     "name": "stdout",
     "output_type": "stream",
     "text": [
      "Finished training after 51 seconds\n",
      "\n",
      "\tWithin Model\n",
      "Initialising training\n"
     ]
    },
    {
     "data": {
      "application/vnd.jupyter.widget-view+json": {
       "model_id": "85f897a64ac54d1b8e77182a8bd9926d",
       "version_major": 2,
       "version_minor": 0
      },
      "text/plain": [
       "  0%|          | 0/5 [00:00<?, ?it/s]"
      ]
     },
     "metadata": {},
     "output_type": "display_data"
    },
    {
     "name": "stdout",
     "output_type": "stream",
     "text": [
      "Finished training after 65 seconds\n",
      "\t{'overall': 0.26025135006211386, 'between': 0.33890983636051386, 'within': 0.09587256726313634}\n",
      "....................................................................................................\n",
      "Iteration 2\n",
      "....................................................................................................\n",
      "Fold 0, specified test ratio: 0.2 - Actual test ratio 0.20\n",
      "Fold 1, specified test ratio: 0.2 - Actual test ratio 0.22\n",
      "Fold 2, specified test ratio: 0.2 - Actual test ratio 0.20\n",
      "Fold 3, specified test ratio: 0.2 - Actual test ratio 0.20\n",
      "Fold 4, specified test ratio: 0.2 - Actual test ratio 0.18\n",
      "\n",
      "\tBetween model\n",
      "Initialising training\n"
     ]
    },
    {
     "data": {
      "application/vnd.jupyter.widget-view+json": {
       "model_id": "50b68082f27f4992bab048becb6ffb3d",
       "version_major": 2,
       "version_minor": 0
      },
      "text/plain": [
       "  0%|          | 0/5 [00:00<?, ?it/s]"
      ]
     },
     "metadata": {},
     "output_type": "display_data"
    },
    {
     "name": "stdout",
     "output_type": "stream",
     "text": [
      "Finished training after 55 seconds\n",
      "\n",
      "\tWithin Model\n",
      "Initialising training\n"
     ]
    },
    {
     "data": {
      "application/vnd.jupyter.widget-view+json": {
       "model_id": "1f1305cf433043a49f3c8738bfc83e17",
       "version_major": 2,
       "version_minor": 0
      },
      "text/plain": [
       "  0%|          | 0/5 [00:00<?, ?it/s]"
      ]
     },
     "metadata": {},
     "output_type": "display_data"
    },
    {
     "name": "stdout",
     "output_type": "stream",
     "text": [
      "Finished training after 81 seconds\n",
      "\t{'overall': 0.2751505546786301, 'between': 0.3587579302825841, 'within': 0.07523726063244132}\n",
      "....................................................................................................\n",
      "Iteration 3\n",
      "....................................................................................................\n",
      "Fold 0, specified test ratio: 0.2 - Actual test ratio 0.20\n",
      "Fold 1, specified test ratio: 0.2 - Actual test ratio 0.20\n",
      "Fold 2, specified test ratio: 0.2 - Actual test ratio 0.20\n",
      "Fold 3, specified test ratio: 0.2 - Actual test ratio 0.20\n",
      "Fold 4, specified test ratio: 0.2 - Actual test ratio 0.20\n",
      "\n",
      "\tBetween model\n",
      "Initialising training\n"
     ]
    },
    {
     "data": {
      "application/vnd.jupyter.widget-view+json": {
       "model_id": "d7785af780f545d699bafdf561b57cb7",
       "version_major": 2,
       "version_minor": 0
      },
      "text/plain": [
       "  0%|          | 0/5 [00:00<?, ?it/s]"
      ]
     },
     "metadata": {},
     "output_type": "display_data"
    },
    {
     "name": "stdout",
     "output_type": "stream",
     "text": [
      "Finished training after 68 seconds\n",
      "\n",
      "\tWithin Model\n",
      "Initialising training\n"
     ]
    },
    {
     "data": {
      "application/vnd.jupyter.widget-view+json": {
       "model_id": "fca20d90bfe844b082c480d5942d1bcf",
       "version_major": 2,
       "version_minor": 0
      },
      "text/plain": [
       "  0%|          | 0/5 [00:00<?, ?it/s]"
      ]
     },
     "metadata": {},
     "output_type": "display_data"
    },
    {
     "name": "stdout",
     "output_type": "stream",
     "text": [
      "Finished training after 70 seconds\n",
      "\t{'overall': 0.29878348730354104, 'between': 0.386402556772843, 'within': 0.0674728815974314}\n",
      "....................................................................................................\n",
      "Iteration 4\n",
      "....................................................................................................\n",
      "Fold 0, specified test ratio: 0.2 - Actual test ratio 0.21\n",
      "Fold 1, specified test ratio: 0.2 - Actual test ratio 0.20\n",
      "Fold 2, specified test ratio: 0.2 - Actual test ratio 0.20\n",
      "Fold 3, specified test ratio: 0.2 - Actual test ratio 0.20\n",
      "Fold 4, specified test ratio: 0.2 - Actual test ratio 0.18\n",
      "\n",
      "\tBetween model\n",
      "Initialising training\n"
     ]
    },
    {
     "data": {
      "application/vnd.jupyter.widget-view+json": {
       "model_id": "6c0d2b5f142e4f9c825c2fc8c3122d9e",
       "version_major": 2,
       "version_minor": 0
      },
      "text/plain": [
       "  0%|          | 0/5 [00:00<?, ?it/s]"
      ]
     },
     "metadata": {},
     "output_type": "display_data"
    },
    {
     "name": "stdout",
     "output_type": "stream",
     "text": [
      "Finished training after 71 seconds\n",
      "\n",
      "\tWithin Model\n",
      "Initialising training\n"
     ]
    },
    {
     "data": {
      "application/vnd.jupyter.widget-view+json": {
       "model_id": "c1b28f1488e4459db680e387d55809fc",
       "version_major": 2,
       "version_minor": 0
      },
      "text/plain": [
       "  0%|          | 0/5 [00:00<?, ?it/s]"
      ]
     },
     "metadata": {},
     "output_type": "display_data"
    },
    {
     "name": "stdout",
     "output_type": "stream",
     "text": [
      "Finished training after 110 seconds\n",
      "\t{'overall': 0.2802720320690453, 'between': 0.3651005536022533, 'within': 0.08373616248943391}\n",
      "....................................................................................................\n",
      "Iteration 5\n",
      "....................................................................................................\n",
      "Fold 0, specified test ratio: 0.2 - Actual test ratio 0.20\n",
      "Fold 1, specified test ratio: 0.2 - Actual test ratio 0.21\n",
      "Fold 2, specified test ratio: 0.2 - Actual test ratio 0.20\n",
      "Fold 3, specified test ratio: 0.2 - Actual test ratio 0.20\n",
      "Fold 4, specified test ratio: 0.2 - Actual test ratio 0.19\n",
      "\n",
      "\tBetween model\n",
      "Initialising training\n"
     ]
    },
    {
     "data": {
      "application/vnd.jupyter.widget-view+json": {
       "model_id": "cc1ac9ae9aa845cfbbbd3493c57dbd3c",
       "version_major": 2,
       "version_minor": 0
      },
      "text/plain": [
       "  0%|          | 0/5 [00:00<?, ?it/s]"
      ]
     },
     "metadata": {},
     "output_type": "display_data"
    },
    {
     "name": "stdout",
     "output_type": "stream",
     "text": [
      "Finished training after 62 seconds\n",
      "\n",
      "\tWithin Model\n",
      "Initialising training\n"
     ]
    },
    {
     "data": {
      "application/vnd.jupyter.widget-view+json": {
       "model_id": "a722114b139d41b387cc345988edc5c0",
       "version_major": 2,
       "version_minor": 0
      },
      "text/plain": [
       "  0%|          | 0/5 [00:00<?, ?it/s]"
      ]
     },
     "metadata": {},
     "output_type": "display_data"
    },
    {
     "name": "stdout",
     "output_type": "stream",
     "text": [
      "Finished training after 70 seconds\n",
      "\t{'overall': 0.2893357971283626, 'between': 0.38444984108417424, 'within': 0.09096773686728847}\n",
      "....................................................................................................\n",
      "Iteration 6\n",
      "....................................................................................................\n",
      "Fold 0, specified test ratio: 0.2 - Actual test ratio 0.20\n",
      "Fold 1, specified test ratio: 0.2 - Actual test ratio 0.20\n",
      "Fold 2, specified test ratio: 0.2 - Actual test ratio 0.20\n",
      "Fold 3, specified test ratio: 0.2 - Actual test ratio 0.20\n",
      "Fold 4, specified test ratio: 0.2 - Actual test ratio 0.19\n",
      "\n",
      "\tBetween model\n",
      "Initialising training\n"
     ]
    },
    {
     "data": {
      "application/vnd.jupyter.widget-view+json": {
       "model_id": "e482bf334b9b4b08b3693a3303c79e12",
       "version_major": 2,
       "version_minor": 0
      },
      "text/plain": [
       "  0%|          | 0/5 [00:00<?, ?it/s]"
      ]
     },
     "metadata": {},
     "output_type": "display_data"
    },
    {
     "name": "stdout",
     "output_type": "stream",
     "text": [
      "Finished training after 50 seconds\n",
      "\n",
      "\tWithin Model\n",
      "Initialising training\n"
     ]
    },
    {
     "data": {
      "application/vnd.jupyter.widget-view+json": {
       "model_id": "a4af2611985d40148da6688717692173",
       "version_major": 2,
       "version_minor": 0
      },
      "text/plain": [
       "  0%|          | 0/5 [00:00<?, ?it/s]"
      ]
     },
     "metadata": {},
     "output_type": "display_data"
    },
    {
     "name": "stdout",
     "output_type": "stream",
     "text": [
      "Finished training after 79 seconds\n",
      "\t{'overall': 0.3025417149498995, 'between': 0.38364082980129566, 'within': 0.09680787043188713}\n",
      "....................................................................................................\n",
      "Iteration 7\n",
      "....................................................................................................\n",
      "Fold 0, specified test ratio: 0.2 - Actual test ratio 0.22\n",
      "Fold 1, specified test ratio: 0.2 - Actual test ratio 0.20\n",
      "Fold 2, specified test ratio: 0.2 - Actual test ratio 0.20\n",
      "Fold 3, specified test ratio: 0.2 - Actual test ratio 0.20\n",
      "Fold 4, specified test ratio: 0.2 - Actual test ratio 0.18\n",
      "\n",
      "\tBetween model\n",
      "Initialising training\n"
     ]
    },
    {
     "data": {
      "application/vnd.jupyter.widget-view+json": {
       "model_id": "aa585e358a7c474e8796d4fc2657fe6e",
       "version_major": 2,
       "version_minor": 0
      },
      "text/plain": [
       "  0%|          | 0/5 [00:00<?, ?it/s]"
      ]
     },
     "metadata": {},
     "output_type": "display_data"
    },
    {
     "name": "stdout",
     "output_type": "stream",
     "text": [
      "Finished training after 50 seconds\n",
      "\n",
      "\tWithin Model\n",
      "Initialising training\n"
     ]
    },
    {
     "data": {
      "application/vnd.jupyter.widget-view+json": {
       "model_id": "c848826e5e5d462b8e942cdf53138e50",
       "version_major": 2,
       "version_minor": 0
      },
      "text/plain": [
       "  0%|          | 0/5 [00:00<?, ?it/s]"
      ]
     },
     "metadata": {},
     "output_type": "display_data"
    },
    {
     "name": "stdout",
     "output_type": "stream",
     "text": [
      "Finished training after 76 seconds\n",
      "\t{'overall': 0.2727516905922212, 'between': 0.35460787414930295, 'within': 0.09178502367411065}\n",
      "....................................................................................................\n",
      "Iteration 8\n",
      "....................................................................................................\n",
      "Fold 0, specified test ratio: 0.2 - Actual test ratio 0.21\n",
      "Fold 1, specified test ratio: 0.2 - Actual test ratio 0.21\n",
      "Fold 2, specified test ratio: 0.2 - Actual test ratio 0.21\n",
      "Fold 3, specified test ratio: 0.2 - Actual test ratio 0.20\n",
      "Fold 4, specified test ratio: 0.2 - Actual test ratio 0.17\n",
      "\n",
      "\tBetween model\n",
      "Initialising training\n"
     ]
    },
    {
     "data": {
      "application/vnd.jupyter.widget-view+json": {
       "model_id": "a96fe7b8107642e69a98c4868992b1a3",
       "version_major": 2,
       "version_minor": 0
      },
      "text/plain": [
       "  0%|          | 0/5 [00:00<?, ?it/s]"
      ]
     },
     "metadata": {},
     "output_type": "display_data"
    },
    {
     "name": "stdout",
     "output_type": "stream",
     "text": [
      "Finished training after 84 seconds\n",
      "\n",
      "\tWithin Model\n",
      "Initialising training\n"
     ]
    },
    {
     "data": {
      "application/vnd.jupyter.widget-view+json": {
       "model_id": "814dc56b32114b9fb9596707ae27025a",
       "version_major": 2,
       "version_minor": 0
      },
      "text/plain": [
       "  0%|          | 0/5 [00:00<?, ?it/s]"
      ]
     },
     "metadata": {},
     "output_type": "display_data"
    },
    {
     "name": "stdout",
     "output_type": "stream",
     "text": [
      "Finished training after 78 seconds\n",
      "\t{'overall': 0.2823884568371272, 'between': 0.3734340176403732, 'within': 0.08146880627947975}\n",
      "....................................................................................................\n",
      "Iteration 9\n",
      "....................................................................................................\n",
      "Fold 0, specified test ratio: 0.2 - Actual test ratio 0.20\n",
      "Fold 1, specified test ratio: 0.2 - Actual test ratio 0.20\n",
      "Fold 2, specified test ratio: 0.2 - Actual test ratio 0.21\n",
      "Fold 3, specified test ratio: 0.2 - Actual test ratio 0.20\n",
      "Fold 4, specified test ratio: 0.2 - Actual test ratio 0.19\n",
      "\n",
      "\tBetween model\n",
      "Initialising training\n"
     ]
    },
    {
     "data": {
      "application/vnd.jupyter.widget-view+json": {
       "model_id": "f5b06de99ef146e2a6443ecc7b7c7bdb",
       "version_major": 2,
       "version_minor": 0
      },
      "text/plain": [
       "  0%|          | 0/5 [00:00<?, ?it/s]"
      ]
     },
     "metadata": {},
     "output_type": "display_data"
    },
    {
     "name": "stdout",
     "output_type": "stream",
     "text": [
      "Finished training after 57 seconds\n",
      "\n",
      "\tWithin Model\n",
      "Initialising training\n"
     ]
    },
    {
     "data": {
      "application/vnd.jupyter.widget-view+json": {
       "model_id": "755670c5a2a04a718c6681adb8895d0c",
       "version_major": 2,
       "version_minor": 0
      },
      "text/plain": [
       "  0%|          | 0/5 [00:00<?, ?it/s]"
      ]
     },
     "metadata": {},
     "output_type": "display_data"
    },
    {
     "name": "stdout",
     "output_type": "stream",
     "text": [
      "Finished training after 72 seconds\n",
      "\t{'overall': 0.2886471230780821, 'between': 0.3962019201267009, 'within': 0.08435879619484452}\n",
      "====================================================================================================\n",
      "Training and Evaluating on country mwi\n",
      "====================================================================================================\n",
      "\n",
      "\n",
      "....................................................................................................\n",
      "Iteration 0\n",
      "....................................................................................................\n",
      "Fold 0, specified test ratio: 0.2 - Actual test ratio 0.21\n",
      "Fold 1, specified test ratio: 0.2 - Actual test ratio 0.20\n",
      "Fold 2, specified test ratio: 0.2 - Actual test ratio 0.20\n",
      "Fold 3, specified test ratio: 0.2 - Actual test ratio 0.26\n",
      "Fold 4, specified test ratio: 0.2 - Actual test ratio 0.14\n",
      "\n",
      "\tBetween model\n",
      "Initialising training\n"
     ]
    },
    {
     "data": {
      "application/vnd.jupyter.widget-view+json": {
       "model_id": "769d8a6a4273492aba3c68944cac7b15",
       "version_major": 2,
       "version_minor": 0
      },
      "text/plain": [
       "  0%|          | 0/5 [00:00<?, ?it/s]"
      ]
     },
     "metadata": {},
     "output_type": "display_data"
    },
    {
     "name": "stdout",
     "output_type": "stream",
     "text": [
      "Finished training after 46 seconds\n",
      "\n",
      "\tWithin Model\n",
      "Initialising training\n"
     ]
    },
    {
     "data": {
      "application/vnd.jupyter.widget-view+json": {
       "model_id": "20227a62bfc14dd3a833a6a26a7ca183",
       "version_major": 2,
       "version_minor": 0
      },
      "text/plain": [
       "  0%|          | 0/5 [00:00<?, ?it/s]"
      ]
     },
     "metadata": {},
     "output_type": "display_data"
    },
    {
     "name": "stdout",
     "output_type": "stream",
     "text": [
      "Finished training after 43 seconds\n",
      "\t{'overall': 0.3002522058589536, 'between': 0.33673762734776946, 'within': -0.04457245395280842}\n",
      "....................................................................................................\n",
      "Iteration 1\n",
      "....................................................................................................\n",
      "Fold 0, specified test ratio: 0.2 - Actual test ratio 0.20\n",
      "Fold 1, specified test ratio: 0.2 - Actual test ratio 0.21\n",
      "Fold 2, specified test ratio: 0.2 - Actual test ratio 0.20\n",
      "Fold 3, specified test ratio: 0.2 - Actual test ratio 0.21\n",
      "Fold 4, specified test ratio: 0.2 - Actual test ratio 0.19\n",
      "\n",
      "\tBetween model\n",
      "Initialising training\n"
     ]
    },
    {
     "data": {
      "application/vnd.jupyter.widget-view+json": {
       "model_id": "dc648d73cd2f459da9166998cf7ac202",
       "version_major": 2,
       "version_minor": 0
      },
      "text/plain": [
       "  0%|          | 0/5 [00:00<?, ?it/s]"
      ]
     },
     "metadata": {},
     "output_type": "display_data"
    },
    {
     "name": "stdout",
     "output_type": "stream",
     "text": [
      "Finished training after 54 seconds\n",
      "\n",
      "\tWithin Model\n",
      "Initialising training\n"
     ]
    },
    {
     "data": {
      "application/vnd.jupyter.widget-view+json": {
       "model_id": "ef99edc543c043599cb509ea61380158",
       "version_major": 2,
       "version_minor": 0
      },
      "text/plain": [
       "  0%|          | 0/5 [00:00<?, ?it/s]"
      ]
     },
     "metadata": {},
     "output_type": "display_data"
    },
    {
     "name": "stdout",
     "output_type": "stream",
     "text": [
      "Finished training after 69 seconds\n",
      "\t{'overall': 0.3200224946322965, 'between': 0.3490198594818062, 'within': -0.006231418381200449}\n",
      "....................................................................................................\n",
      "Iteration 2\n",
      "....................................................................................................\n",
      "Fold 0, specified test ratio: 0.2 - Actual test ratio 0.21\n",
      "Fold 1, specified test ratio: 0.2 - Actual test ratio 0.20\n",
      "Fold 2, specified test ratio: 0.2 - Actual test ratio 0.21\n",
      "Fold 3, specified test ratio: 0.2 - Actual test ratio 0.21\n",
      "Fold 4, specified test ratio: 0.2 - Actual test ratio 0.17\n",
      "\n",
      "\tBetween model\n",
      "Initialising training\n"
     ]
    },
    {
     "data": {
      "application/vnd.jupyter.widget-view+json": {
       "model_id": "bc09c09c2da74026a32f6217ec103c87",
       "version_major": 2,
       "version_minor": 0
      },
      "text/plain": [
       "  0%|          | 0/5 [00:00<?, ?it/s]"
      ]
     },
     "metadata": {},
     "output_type": "display_data"
    },
    {
     "name": "stdout",
     "output_type": "stream",
     "text": [
      "Finished training after 48 seconds\n",
      "\n",
      "\tWithin Model\n",
      "Initialising training\n"
     ]
    },
    {
     "data": {
      "application/vnd.jupyter.widget-view+json": {
       "model_id": "46c618e22f5d43e58d6e413738a16c4e",
       "version_major": 2,
       "version_minor": 0
      },
      "text/plain": [
       "  0%|          | 0/5 [00:00<?, ?it/s]"
      ]
     },
     "metadata": {},
     "output_type": "display_data"
    },
    {
     "name": "stdout",
     "output_type": "stream",
     "text": [
      "Finished training after 51 seconds\n",
      "\t{'overall': 0.13732446609619814, 'between': 0.1500919136909123, 'within': -0.002168495482773203}\n",
      "....................................................................................................\n",
      "Iteration 3\n",
      "....................................................................................................\n",
      "Fold 0, specified test ratio: 0.2 - Actual test ratio 0.31\n",
      "Fold 1, specified test ratio: 0.2 - Actual test ratio 0.21\n",
      "Fold 2, specified test ratio: 0.2 - Actual test ratio 0.20\n",
      "Fold 3, specified test ratio: 0.2 - Actual test ratio 0.20\n",
      "Fold 4, specified test ratio: 0.2 - Actual test ratio 0.08\n",
      "\n",
      "\tBetween model\n",
      "Initialising training\n"
     ]
    },
    {
     "data": {
      "application/vnd.jupyter.widget-view+json": {
       "model_id": "287b6c536a6f40c9a006b88bbffed162",
       "version_major": 2,
       "version_minor": 0
      },
      "text/plain": [
       "  0%|          | 0/5 [00:00<?, ?it/s]"
      ]
     },
     "metadata": {},
     "output_type": "display_data"
    },
    {
     "name": "stdout",
     "output_type": "stream",
     "text": [
      "Finished training after 50 seconds\n",
      "\n",
      "\tWithin Model\n",
      "Initialising training\n"
     ]
    },
    {
     "data": {
      "application/vnd.jupyter.widget-view+json": {
       "model_id": "eccd1e2baa6a4dbdb7745a458528a153",
       "version_major": 2,
       "version_minor": 0
      },
      "text/plain": [
       "  0%|          | 0/5 [00:00<?, ?it/s]"
      ]
     },
     "metadata": {},
     "output_type": "display_data"
    },
    {
     "name": "stdout",
     "output_type": "stream",
     "text": [
      "Finished training after 64 seconds\n",
      "\t{'overall': -0.0677236268313822, 'between': -0.08354513346344056, 'within': -0.016013392374916724}\n",
      "....................................................................................................\n",
      "Iteration 4\n",
      "....................................................................................................\n",
      "Fold 0, specified test ratio: 0.2 - Actual test ratio 0.21\n",
      "Fold 1, specified test ratio: 0.2 - Actual test ratio 0.20\n",
      "Fold 2, specified test ratio: 0.2 - Actual test ratio 0.21\n",
      "Fold 3, specified test ratio: 0.2 - Actual test ratio 0.21\n",
      "Fold 4, specified test ratio: 0.2 - Actual test ratio 0.16\n",
      "\n",
      "\tBetween model\n",
      "Initialising training\n"
     ]
    },
    {
     "data": {
      "application/vnd.jupyter.widget-view+json": {
       "model_id": "cd6db80246194e2a87a4be7d185d3c0c",
       "version_major": 2,
       "version_minor": 0
      },
      "text/plain": [
       "  0%|          | 0/5 [00:00<?, ?it/s]"
      ]
     },
     "metadata": {},
     "output_type": "display_data"
    },
    {
     "name": "stdout",
     "output_type": "stream",
     "text": [
      "Finished training after 57 seconds\n",
      "\n",
      "\tWithin Model\n",
      "Initialising training\n"
     ]
    },
    {
     "data": {
      "application/vnd.jupyter.widget-view+json": {
       "model_id": "a6873c1767824e629d5b386db7bdcff6",
       "version_major": 2,
       "version_minor": 0
      },
      "text/plain": [
       "  0%|          | 0/5 [00:00<?, ?it/s]"
      ]
     },
     "metadata": {},
     "output_type": "display_data"
    },
    {
     "name": "stdout",
     "output_type": "stream",
     "text": [
      "Finished training after 60 seconds\n",
      "\t{'overall': 0.12272741427309007, 'between': 0.13185772514314517, 'within': 0.011934861059885615}\n",
      "....................................................................................................\n",
      "Iteration 5\n",
      "....................................................................................................\n",
      "Fold 0, specified test ratio: 0.2 - Actual test ratio 0.21\n",
      "Fold 1, specified test ratio: 0.2 - Actual test ratio 0.20\n",
      "Fold 2, specified test ratio: 0.2 - Actual test ratio 0.20\n",
      "Fold 3, specified test ratio: 0.2 - Actual test ratio 0.20\n",
      "Fold 4, specified test ratio: 0.2 - Actual test ratio 0.20\n",
      "\n",
      "\tBetween model\n",
      "Initialising training\n"
     ]
    },
    {
     "data": {
      "application/vnd.jupyter.widget-view+json": {
       "model_id": "d0263c6e881f44289a22a6df2493175a",
       "version_major": 2,
       "version_minor": 0
      },
      "text/plain": [
       "  0%|          | 0/5 [00:00<?, ?it/s]"
      ]
     },
     "metadata": {},
     "output_type": "display_data"
    },
    {
     "name": "stdout",
     "output_type": "stream",
     "text": [
      "Finished training after 53 seconds\n",
      "\n",
      "\tWithin Model\n",
      "Initialising training\n"
     ]
    },
    {
     "data": {
      "application/vnd.jupyter.widget-view+json": {
       "model_id": "e44806104e0f48fb9c1bcdf9646157a9",
       "version_major": 2,
       "version_minor": 0
      },
      "text/plain": [
       "  0%|          | 0/5 [00:00<?, ?it/s]"
      ]
     },
     "metadata": {},
     "output_type": "display_data"
    },
    {
     "name": "stdout",
     "output_type": "stream",
     "text": [
      "Finished training after 59 seconds\n",
      "\t{'overall': 0.18356493839576718, 'between': 0.19294249282809126, 'within': -0.03731689645497782}\n",
      "....................................................................................................\n",
      "Iteration 6\n",
      "....................................................................................................\n",
      "Fold 0, specified test ratio: 0.2 - Actual test ratio 0.20\n",
      "Fold 1, specified test ratio: 0.2 - Actual test ratio 0.20\n",
      "Fold 2, specified test ratio: 0.2 - Actual test ratio 0.20\n",
      "Fold 3, specified test ratio: 0.2 - Actual test ratio 0.21\n",
      "Fold 4, specified test ratio: 0.2 - Actual test ratio 0.19\n",
      "\n",
      "\tBetween model\n",
      "Initialising training\n"
     ]
    },
    {
     "data": {
      "application/vnd.jupyter.widget-view+json": {
       "model_id": "3aa2316214a840e284bacc1c4ef4d5ee",
       "version_major": 2,
       "version_minor": 0
      },
      "text/plain": [
       "  0%|          | 0/5 [00:00<?, ?it/s]"
      ]
     },
     "metadata": {},
     "output_type": "display_data"
    },
    {
     "name": "stdout",
     "output_type": "stream",
     "text": [
      "Finished training after 59 seconds\n",
      "\n",
      "\tWithin Model\n",
      "Initialising training\n"
     ]
    },
    {
     "data": {
      "application/vnd.jupyter.widget-view+json": {
       "model_id": "a08c708141604c92994e03be210e0dac",
       "version_major": 2,
       "version_minor": 0
      },
      "text/plain": [
       "  0%|          | 0/5 [00:00<?, ?it/s]"
      ]
     },
     "metadata": {},
     "output_type": "display_data"
    },
    {
     "name": "stdout",
     "output_type": "stream",
     "text": [
      "Finished training after 64 seconds\n",
      "\t{'overall': 0.1550314695249528, 'between': 0.17846616235771023, 'within': -0.052328790400751536}\n",
      "....................................................................................................\n",
      "Iteration 7\n",
      "....................................................................................................\n",
      "Fold 0, specified test ratio: 0.2 - Actual test ratio 0.20\n",
      "Fold 1, specified test ratio: 0.2 - Actual test ratio 0.20\n",
      "Fold 2, specified test ratio: 0.2 - Actual test ratio 0.20\n",
      "Fold 3, specified test ratio: 0.2 - Actual test ratio 0.21\n",
      "Fold 4, specified test ratio: 0.2 - Actual test ratio 0.20\n",
      "\n",
      "\tBetween model\n",
      "Initialising training\n"
     ]
    },
    {
     "data": {
      "application/vnd.jupyter.widget-view+json": {
       "model_id": "2e9288998814424f83111c81b0c854c8",
       "version_major": 2,
       "version_minor": 0
      },
      "text/plain": [
       "  0%|          | 0/5 [00:00<?, ?it/s]"
      ]
     },
     "metadata": {},
     "output_type": "display_data"
    },
    {
     "name": "stdout",
     "output_type": "stream",
     "text": [
      "Finished training after 59 seconds\n",
      "\n",
      "\tWithin Model\n",
      "Initialising training\n"
     ]
    },
    {
     "data": {
      "application/vnd.jupyter.widget-view+json": {
       "model_id": "7884f357679b45df98d50a4ee17e1eb2",
       "version_major": 2,
       "version_minor": 0
      },
      "text/plain": [
       "  0%|          | 0/5 [00:00<?, ?it/s]"
      ]
     },
     "metadata": {},
     "output_type": "display_data"
    },
    {
     "name": "stdout",
     "output_type": "stream",
     "text": [
      "Finished training after 70 seconds\n",
      "\t{'overall': 0.21097210043248077, 'between': 0.24024083583389766, 'within': -0.010565422265206403}\n",
      "....................................................................................................\n",
      "Iteration 8\n",
      "....................................................................................................\n",
      "Fold 0, specified test ratio: 0.2 - Actual test ratio 0.20\n",
      "Fold 1, specified test ratio: 0.2 - Actual test ratio 0.20\n",
      "Fold 2, specified test ratio: 0.2 - Actual test ratio 0.21\n",
      "Fold 3, specified test ratio: 0.2 - Actual test ratio 0.20\n",
      "Fold 4, specified test ratio: 0.2 - Actual test ratio 0.19\n",
      "\n",
      "\tBetween model\n",
      "Initialising training\n"
     ]
    },
    {
     "data": {
      "application/vnd.jupyter.widget-view+json": {
       "model_id": "6de359d096294fd4be96f9e07451b789",
       "version_major": 2,
       "version_minor": 0
      },
      "text/plain": [
       "  0%|          | 0/5 [00:00<?, ?it/s]"
      ]
     },
     "metadata": {},
     "output_type": "display_data"
    },
    {
     "name": "stdout",
     "output_type": "stream",
     "text": [
      "Finished training after 70 seconds\n",
      "\n",
      "\tWithin Model\n",
      "Initialising training\n"
     ]
    },
    {
     "data": {
      "application/vnd.jupyter.widget-view+json": {
       "model_id": "65deead1953c41ba98a9cd9c765f1560",
       "version_major": 2,
       "version_minor": 0
      },
      "text/plain": [
       "  0%|          | 0/5 [00:00<?, ?it/s]"
      ]
     },
     "metadata": {},
     "output_type": "display_data"
    },
    {
     "name": "stdout",
     "output_type": "stream",
     "text": [
      "Finished training after 53 seconds\n",
      "\t{'overall': 0.19055028887112863, 'between': 0.20714914195486275, 'within': -0.04114906235305971}\n",
      "....................................................................................................\n",
      "Iteration 9\n",
      "....................................................................................................\n",
      "Fold 0, specified test ratio: 0.2 - Actual test ratio 0.21\n",
      "Fold 1, specified test ratio: 0.2 - Actual test ratio 0.20\n",
      "Fold 2, specified test ratio: 0.2 - Actual test ratio 0.20\n",
      "Fold 3, specified test ratio: 0.2 - Actual test ratio 0.21\n",
      "Fold 4, specified test ratio: 0.2 - Actual test ratio 0.18\n",
      "\n",
      "\tBetween model\n",
      "Initialising training\n"
     ]
    },
    {
     "data": {
      "application/vnd.jupyter.widget-view+json": {
       "model_id": "944bbfbd5be944f19a29c57d2a857da4",
       "version_major": 2,
       "version_minor": 0
      },
      "text/plain": [
       "  0%|          | 0/5 [00:00<?, ?it/s]"
      ]
     },
     "metadata": {},
     "output_type": "display_data"
    },
    {
     "name": "stdout",
     "output_type": "stream",
     "text": [
      "Finished training after 53 seconds\n",
      "\n",
      "\tWithin Model\n",
      "Initialising training\n"
     ]
    },
    {
     "data": {
      "application/vnd.jupyter.widget-view+json": {
       "model_id": "27f2b00cdd4347dabe7d833371b460f9",
       "version_major": 2,
       "version_minor": 0
      },
      "text/plain": [
       "  0%|          | 0/5 [00:00<?, ?it/s]"
      ]
     },
     "metadata": {},
     "output_type": "display_data"
    },
    {
     "name": "stdout",
     "output_type": "stream",
     "text": [
      "Finished training after 53 seconds\n",
      "\t{'overall': 0.3312368987765969, 'between': 0.36284039723866174, 'within': 0.008761653118539558}\n",
      "====================================================================================================\n",
      "Training and Evaluating on country nga\n",
      "====================================================================================================\n",
      "\n",
      "\n",
      "....................................................................................................\n",
      "Iteration 0\n",
      "....................................................................................................\n",
      "Fold 0, specified test ratio: 0.2 - Actual test ratio 0.21\n",
      "Fold 1, specified test ratio: 0.2 - Actual test ratio 0.20\n",
      "Fold 2, specified test ratio: 0.2 - Actual test ratio 0.21\n",
      "Fold 3, specified test ratio: 0.2 - Actual test ratio 0.20\n",
      "Fold 4, specified test ratio: 0.2 - Actual test ratio 0.19\n",
      "\n",
      "\tBetween model\n",
      "Initialising training\n"
     ]
    },
    {
     "data": {
      "application/vnd.jupyter.widget-view+json": {
       "model_id": "e9ebd7d34c68435d89b774947ecf3cc7",
       "version_major": 2,
       "version_minor": 0
      },
      "text/plain": [
       "  0%|          | 0/5 [00:00<?, ?it/s]"
      ]
     },
     "metadata": {},
     "output_type": "display_data"
    },
    {
     "name": "stdout",
     "output_type": "stream",
     "text": [
      "Finished training after 92 seconds\n",
      "\n",
      "\tWithin Model\n",
      "Initialising training\n"
     ]
    },
    {
     "data": {
      "application/vnd.jupyter.widget-view+json": {
       "model_id": "b759ba77bd8c4e1ca9b0830066070717",
       "version_major": 2,
       "version_minor": 0
      },
      "text/plain": [
       "  0%|          | 0/5 [00:00<?, ?it/s]"
      ]
     },
     "metadata": {},
     "output_type": "display_data"
    },
    {
     "name": "stdout",
     "output_type": "stream",
     "text": [
      "Finished training after 81 seconds\n",
      "\t{'overall': 0.39113598966276386, 'between': 0.48032577799663534, 'within': 0.006810037147265646}\n",
      "....................................................................................................\n",
      "Iteration 1\n",
      "....................................................................................................\n",
      "Fold 0, specified test ratio: 0.2 - Actual test ratio 0.21\n",
      "Fold 1, specified test ratio: 0.2 - Actual test ratio 0.20\n",
      "Fold 2, specified test ratio: 0.2 - Actual test ratio 0.20\n",
      "Fold 3, specified test ratio: 0.2 - Actual test ratio 0.21\n",
      "Fold 4, specified test ratio: 0.2 - Actual test ratio 0.19\n",
      "\n",
      "\tBetween model\n",
      "Initialising training\n"
     ]
    },
    {
     "data": {
      "application/vnd.jupyter.widget-view+json": {
       "model_id": "fc53307253854ba791f4645eff5f1111",
       "version_major": 2,
       "version_minor": 0
      },
      "text/plain": [
       "  0%|          | 0/5 [00:00<?, ?it/s]"
      ]
     },
     "metadata": {},
     "output_type": "display_data"
    },
    {
     "name": "stdout",
     "output_type": "stream",
     "text": [
      "Finished training after 58 seconds\n",
      "\n",
      "\tWithin Model\n",
      "Initialising training\n"
     ]
    },
    {
     "data": {
      "application/vnd.jupyter.widget-view+json": {
       "model_id": "eda7c72ff17b4eeda92ce6e3c551ca0f",
       "version_major": 2,
       "version_minor": 0
      },
      "text/plain": [
       "  0%|          | 0/5 [00:00<?, ?it/s]"
      ]
     },
     "metadata": {},
     "output_type": "display_data"
    },
    {
     "name": "stdout",
     "output_type": "stream",
     "text": [
      "Finished training after 85 seconds\n",
      "\t{'overall': 0.4003473864421567, 'between': 0.49451215040257607, 'within': 0.008276243283425045}\n",
      "....................................................................................................\n",
      "Iteration 2\n",
      "....................................................................................................\n",
      "Fold 0, specified test ratio: 0.2 - Actual test ratio 0.20\n",
      "Fold 1, specified test ratio: 0.2 - Actual test ratio 0.20\n",
      "Fold 2, specified test ratio: 0.2 - Actual test ratio 0.20\n",
      "Fold 3, specified test ratio: 0.2 - Actual test ratio 0.20\n",
      "Fold 4, specified test ratio: 0.2 - Actual test ratio 0.20\n",
      "\n",
      "\tBetween model\n",
      "Initialising training\n"
     ]
    },
    {
     "data": {
      "application/vnd.jupyter.widget-view+json": {
       "model_id": "7697c302859c48c6b972a7762ba175e9",
       "version_major": 2,
       "version_minor": 0
      },
      "text/plain": [
       "  0%|          | 0/5 [00:00<?, ?it/s]"
      ]
     },
     "metadata": {},
     "output_type": "display_data"
    },
    {
     "name": "stdout",
     "output_type": "stream",
     "text": [
      "Finished training after 80 seconds\n",
      "\n",
      "\tWithin Model\n",
      "Initialising training\n"
     ]
    },
    {
     "data": {
      "application/vnd.jupyter.widget-view+json": {
       "model_id": "aa8e44bfdb764c56ab735824f28b5426",
       "version_major": 2,
       "version_minor": 0
      },
      "text/plain": [
       "  0%|          | 0/5 [00:00<?, ?it/s]"
      ]
     },
     "metadata": {},
     "output_type": "display_data"
    },
    {
     "name": "stdout",
     "output_type": "stream",
     "text": [
      "Finished training after 92 seconds\n",
      "\t{'overall': 0.40507285333788046, 'between': 0.5025591903391983, 'within': 0.008729324858488475}\n",
      "....................................................................................................\n",
      "Iteration 3\n",
      "....................................................................................................\n",
      "Fold 0, specified test ratio: 0.2 - Actual test ratio 0.20\n",
      "Fold 1, specified test ratio: 0.2 - Actual test ratio 0.21\n",
      "Fold 2, specified test ratio: 0.2 - Actual test ratio 0.20\n",
      "Fold 3, specified test ratio: 0.2 - Actual test ratio 0.20\n",
      "Fold 4, specified test ratio: 0.2 - Actual test ratio 0.19\n",
      "\n",
      "\tBetween model\n",
      "Initialising training\n"
     ]
    },
    {
     "data": {
      "application/vnd.jupyter.widget-view+json": {
       "model_id": "0db0fbdc788844479fcfe6c11e693dfc",
       "version_major": 2,
       "version_minor": 0
      },
      "text/plain": [
       "  0%|          | 0/5 [00:00<?, ?it/s]"
      ]
     },
     "metadata": {},
     "output_type": "display_data"
    },
    {
     "name": "stdout",
     "output_type": "stream",
     "text": [
      "Finished training after 58 seconds\n",
      "\n",
      "\tWithin Model\n",
      "Initialising training\n"
     ]
    },
    {
     "data": {
      "application/vnd.jupyter.widget-view+json": {
       "model_id": "0a98244ec70547c2b7d26834a6136637",
       "version_major": 2,
       "version_minor": 0
      },
      "text/plain": [
       "  0%|          | 0/5 [00:00<?, ?it/s]"
      ]
     },
     "metadata": {},
     "output_type": "display_data"
    },
    {
     "name": "stdout",
     "output_type": "stream",
     "text": [
      "Finished training after 87 seconds\n",
      "\t{'overall': 0.3959511136406031, 'between': 0.4926725243311383, 'within': -0.010379598724704397}\n",
      "....................................................................................................\n",
      "Iteration 4\n",
      "....................................................................................................\n",
      "Fold 0, specified test ratio: 0.2 - Actual test ratio 0.20\n",
      "Fold 1, specified test ratio: 0.2 - Actual test ratio 0.20\n",
      "Fold 2, specified test ratio: 0.2 - Actual test ratio 0.21\n",
      "Fold 3, specified test ratio: 0.2 - Actual test ratio 0.20\n",
      "Fold 4, specified test ratio: 0.2 - Actual test ratio 0.19\n",
      "\n",
      "\tBetween model\n",
      "Initialising training\n"
     ]
    },
    {
     "data": {
      "application/vnd.jupyter.widget-view+json": {
       "model_id": "7dc5b88d16a94c808681ebf6c7cccdf5",
       "version_major": 2,
       "version_minor": 0
      },
      "text/plain": [
       "  0%|          | 0/5 [00:00<?, ?it/s]"
      ]
     },
     "metadata": {},
     "output_type": "display_data"
    },
    {
     "name": "stdout",
     "output_type": "stream",
     "text": [
      "Finished training after 56 seconds\n",
      "\n",
      "\tWithin Model\n",
      "Initialising training\n"
     ]
    },
    {
     "data": {
      "application/vnd.jupyter.widget-view+json": {
       "model_id": "d21cb4d258e14a48ba0c4d7a553ad8b0",
       "version_major": 2,
       "version_minor": 0
      },
      "text/plain": [
       "  0%|          | 0/5 [00:00<?, ?it/s]"
      ]
     },
     "metadata": {},
     "output_type": "display_data"
    },
    {
     "name": "stdout",
     "output_type": "stream",
     "text": [
      "Finished training after 82 seconds\n",
      "\t{'overall': 0.3900072618804884, 'between': 0.48633205090216497, 'within': -0.017705381637709496}\n",
      "....................................................................................................\n",
      "Iteration 5\n",
      "....................................................................................................\n",
      "Fold 0, specified test ratio: 0.2 - Actual test ratio 0.20\n",
      "Fold 1, specified test ratio: 0.2 - Actual test ratio 0.22\n",
      "Fold 2, specified test ratio: 0.2 - Actual test ratio 0.21\n",
      "Fold 3, specified test ratio: 0.2 - Actual test ratio 0.20\n",
      "Fold 4, specified test ratio: 0.2 - Actual test ratio 0.17\n",
      "\n",
      "\tBetween model\n",
      "Initialising training\n"
     ]
    },
    {
     "data": {
      "application/vnd.jupyter.widget-view+json": {
       "model_id": "ae3240f0d0e948f5af249511872e59a0",
       "version_major": 2,
       "version_minor": 0
      },
      "text/plain": [
       "  0%|          | 0/5 [00:00<?, ?it/s]"
      ]
     },
     "metadata": {},
     "output_type": "display_data"
    },
    {
     "name": "stdout",
     "output_type": "stream",
     "text": [
      "Finished training after 60 seconds\n",
      "\n",
      "\tWithin Model\n",
      "Initialising training\n"
     ]
    },
    {
     "data": {
      "application/vnd.jupyter.widget-view+json": {
       "model_id": "facfb23197244e0ba203661f51468731",
       "version_major": 2,
       "version_minor": 0
      },
      "text/plain": [
       "  0%|          | 0/5 [00:00<?, ?it/s]"
      ]
     },
     "metadata": {},
     "output_type": "display_data"
    },
    {
     "name": "stdout",
     "output_type": "stream",
     "text": [
      "Finished training after 85 seconds\n",
      "\t{'overall': 0.40845114580250175, 'between': 0.5048310015162804, 'within': -0.0026726174981676065}\n",
      "....................................................................................................\n",
      "Iteration 6\n",
      "....................................................................................................\n",
      "Fold 0, specified test ratio: 0.2 - Actual test ratio 0.21\n",
      "Fold 1, specified test ratio: 0.2 - Actual test ratio 0.20\n",
      "Fold 2, specified test ratio: 0.2 - Actual test ratio 0.20\n",
      "Fold 3, specified test ratio: 0.2 - Actual test ratio 0.20\n",
      "Fold 4, specified test ratio: 0.2 - Actual test ratio 0.19\n",
      "\n",
      "\tBetween model\n",
      "Initialising training\n"
     ]
    },
    {
     "data": {
      "application/vnd.jupyter.widget-view+json": {
       "model_id": "9498f970225a41bb93ad6ed726469c31",
       "version_major": 2,
       "version_minor": 0
      },
      "text/plain": [
       "  0%|          | 0/5 [00:00<?, ?it/s]"
      ]
     },
     "metadata": {},
     "output_type": "display_data"
    },
    {
     "name": "stdout",
     "output_type": "stream",
     "text": [
      "Finished training after 68 seconds\n",
      "\n",
      "\tWithin Model\n",
      "Initialising training\n"
     ]
    },
    {
     "data": {
      "application/vnd.jupyter.widget-view+json": {
       "model_id": "72ae9343234641fc8af473c5e54eb7e5",
       "version_major": 2,
       "version_minor": 0
      },
      "text/plain": [
       "  0%|          | 0/5 [00:00<?, ?it/s]"
      ]
     },
     "metadata": {},
     "output_type": "display_data"
    },
    {
     "name": "stdout",
     "output_type": "stream",
     "text": [
      "Finished training after 89 seconds\n",
      "\t{'overall': 0.4105076931959868, 'between': 0.5093083833243108, 'within': -0.009589260655874132}\n",
      "....................................................................................................\n",
      "Iteration 7\n",
      "....................................................................................................\n",
      "Fold 0, specified test ratio: 0.2 - Actual test ratio 0.21\n",
      "Fold 1, specified test ratio: 0.2 - Actual test ratio 0.21\n",
      "Fold 2, specified test ratio: 0.2 - Actual test ratio 0.20\n",
      "Fold 3, specified test ratio: 0.2 - Actual test ratio 0.20\n",
      "Fold 4, specified test ratio: 0.2 - Actual test ratio 0.19\n",
      "\n",
      "\tBetween model\n",
      "Initialising training\n"
     ]
    },
    {
     "data": {
      "application/vnd.jupyter.widget-view+json": {
       "model_id": "a77f75aaab4d490281afa64717138fbd",
       "version_major": 2,
       "version_minor": 0
      },
      "text/plain": [
       "  0%|          | 0/5 [00:00<?, ?it/s]"
      ]
     },
     "metadata": {},
     "output_type": "display_data"
    },
    {
     "name": "stdout",
     "output_type": "stream",
     "text": [
      "Finished training after 66 seconds\n",
      "\n",
      "\tWithin Model\n",
      "Initialising training\n"
     ]
    },
    {
     "data": {
      "application/vnd.jupyter.widget-view+json": {
       "model_id": "c418917205ca45cb96d9d36a6a8cca56",
       "version_major": 2,
       "version_minor": 0
      },
      "text/plain": [
       "  0%|          | 0/5 [00:00<?, ?it/s]"
      ]
     },
     "metadata": {},
     "output_type": "display_data"
    },
    {
     "name": "stdout",
     "output_type": "stream",
     "text": [
      "Finished training after 94 seconds\n",
      "\t{'overall': 0.3806116720083243, 'between': 0.47409668946152556, 'within': 0.00369399034641551}\n",
      "....................................................................................................\n",
      "Iteration 8\n",
      "....................................................................................................\n",
      "Fold 0, specified test ratio: 0.2 - Actual test ratio 0.20\n",
      "Fold 1, specified test ratio: 0.2 - Actual test ratio 0.21\n",
      "Fold 2, specified test ratio: 0.2 - Actual test ratio 0.20\n",
      "Fold 3, specified test ratio: 0.2 - Actual test ratio 0.21\n",
      "Fold 4, specified test ratio: 0.2 - Actual test ratio 0.18\n",
      "\n",
      "\tBetween model\n",
      "Initialising training\n"
     ]
    },
    {
     "data": {
      "application/vnd.jupyter.widget-view+json": {
       "model_id": "63cbbcfc1db84f48a32d3e7b7306fff2",
       "version_major": 2,
       "version_minor": 0
      },
      "text/plain": [
       "  0%|          | 0/5 [00:00<?, ?it/s]"
      ]
     },
     "metadata": {},
     "output_type": "display_data"
    },
    {
     "name": "stdout",
     "output_type": "stream",
     "text": [
      "Finished training after 76 seconds\n",
      "\n",
      "\tWithin Model\n",
      "Initialising training\n"
     ]
    },
    {
     "data": {
      "application/vnd.jupyter.widget-view+json": {
       "model_id": "442dfad7a88f446883b260ebaad334eb",
       "version_major": 2,
       "version_minor": 0
      },
      "text/plain": [
       "  0%|          | 0/5 [00:00<?, ?it/s]"
      ]
     },
     "metadata": {},
     "output_type": "display_data"
    },
    {
     "name": "stdout",
     "output_type": "stream",
     "text": [
      "Finished training after 103 seconds\n",
      "\t{'overall': 0.400982279376286, 'between': 0.4981433863583596, 'within': -0.0014521403155660418}\n",
      "....................................................................................................\n",
      "Iteration 9\n",
      "....................................................................................................\n",
      "Fold 0, specified test ratio: 0.2 - Actual test ratio 0.20\n",
      "Fold 1, specified test ratio: 0.2 - Actual test ratio 0.20\n",
      "Fold 2, specified test ratio: 0.2 - Actual test ratio 0.20\n",
      "Fold 3, specified test ratio: 0.2 - Actual test ratio 0.20\n",
      "Fold 4, specified test ratio: 0.2 - Actual test ratio 0.20\n",
      "\n",
      "\tBetween model\n",
      "Initialising training\n"
     ]
    },
    {
     "data": {
      "application/vnd.jupyter.widget-view+json": {
       "model_id": "c5a98f91b0c64422967645ec05ab6dfc",
       "version_major": 2,
       "version_minor": 0
      },
      "text/plain": [
       "  0%|          | 0/5 [00:00<?, ?it/s]"
      ]
     },
     "metadata": {},
     "output_type": "display_data"
    },
    {
     "name": "stdout",
     "output_type": "stream",
     "text": [
      "Finished training after 65 seconds\n",
      "\n",
      "\tWithin Model\n",
      "Initialising training\n"
     ]
    },
    {
     "data": {
      "application/vnd.jupyter.widget-view+json": {
       "model_id": "36f027563d4747f7910d19c38142e010",
       "version_major": 2,
       "version_minor": 0
      },
      "text/plain": [
       "  0%|          | 0/5 [00:00<?, ?it/s]"
      ]
     },
     "metadata": {},
     "output_type": "display_data"
    },
    {
     "name": "stdout",
     "output_type": "stream",
     "text": [
      "Finished training after 64 seconds\n",
      "\t{'overall': 0.398045475991667, 'between': 0.49501763782299896, 'within': 0.0004567982558093098}\n",
      "====================================================================================================\n",
      "Training and Evaluating on country tza\n",
      "====================================================================================================\n",
      "\n",
      "\n",
      "....................................................................................................\n",
      "Iteration 0\n",
      "....................................................................................................\n",
      "Fold 0, specified test ratio: 0.2 - Actual test ratio 0.29\n",
      "Fold 1, specified test ratio: 0.2 - Actual test ratio 0.20\n",
      "Fold 2, specified test ratio: 0.2 - Actual test ratio 0.20\n",
      "Fold 3, specified test ratio: 0.2 - Actual test ratio 0.20\n",
      "Fold 4, specified test ratio: 0.2 - Actual test ratio 0.11\n",
      "\n",
      "\tBetween model\n",
      "Initialising training\n"
     ]
    },
    {
     "data": {
      "application/vnd.jupyter.widget-view+json": {
       "model_id": "07ce402ca7ee439f903e31069e6bb6b3",
       "version_major": 2,
       "version_minor": 0
      },
      "text/plain": [
       "  0%|          | 0/5 [00:00<?, ?it/s]"
      ]
     },
     "metadata": {},
     "output_type": "display_data"
    },
    {
     "name": "stdout",
     "output_type": "stream",
     "text": [
      "Finished training after 65 seconds\n",
      "\n",
      "\tWithin Model\n",
      "Initialising training\n"
     ]
    },
    {
     "data": {
      "application/vnd.jupyter.widget-view+json": {
       "model_id": "7224cfc951414782857d3a12d8d5c692",
       "version_major": 2,
       "version_minor": 0
      },
      "text/plain": [
       "  0%|          | 0/5 [00:00<?, ?it/s]"
      ]
     },
     "metadata": {},
     "output_type": "display_data"
    },
    {
     "name": "stdout",
     "output_type": "stream",
     "text": [
      "Finished training after 119 seconds\n",
      "\t{'overall': 0.2924251997005497, 'between': 0.339124189371112, 'within': 0.008898276107180414}\n",
      "....................................................................................................\n",
      "Iteration 1\n",
      "....................................................................................................\n",
      "Fold 0, specified test ratio: 0.2 - Actual test ratio 0.29\n",
      "Fold 1, specified test ratio: 0.2 - Actual test ratio 0.21\n",
      "Fold 2, specified test ratio: 0.2 - Actual test ratio 0.20\n",
      "Fold 3, specified test ratio: 0.2 - Actual test ratio 0.20\n",
      "Fold 4, specified test ratio: 0.2 - Actual test ratio 0.10\n",
      "\n",
      "\tBetween model\n",
      "Initialising training\n"
     ]
    },
    {
     "data": {
      "application/vnd.jupyter.widget-view+json": {
       "model_id": "e1972816c11a48309d37fb5efd868500",
       "version_major": 2,
       "version_minor": 0
      },
      "text/plain": [
       "  0%|          | 0/5 [00:00<?, ?it/s]"
      ]
     },
     "metadata": {},
     "output_type": "display_data"
    },
    {
     "name": "stdout",
     "output_type": "stream",
     "text": [
      "Finished training after 61 seconds\n",
      "\n",
      "\tWithin Model\n",
      "Initialising training\n"
     ]
    },
    {
     "data": {
      "application/vnd.jupyter.widget-view+json": {
       "model_id": "dc13dab8010f4586a88aede07a576ac0",
       "version_major": 2,
       "version_minor": 0
      },
      "text/plain": [
       "  0%|          | 0/5 [00:00<?, ?it/s]"
      ]
     },
     "metadata": {},
     "output_type": "display_data"
    },
    {
     "name": "stdout",
     "output_type": "stream",
     "text": [
      "Finished training after 91 seconds\n",
      "\t{'overall': 0.3030315594582934, 'between': 0.34660594466322997, 'within': 0.0012935651415633131}\n",
      "....................................................................................................\n",
      "Iteration 2\n",
      "....................................................................................................\n",
      "Fold 0, specified test ratio: 0.2 - Actual test ratio 0.27\n",
      "Fold 1, specified test ratio: 0.2 - Actual test ratio 0.20\n",
      "Fold 2, specified test ratio: 0.2 - Actual test ratio 0.20\n",
      "Fold 3, specified test ratio: 0.2 - Actual test ratio 0.20\n",
      "Fold 4, specified test ratio: 0.2 - Actual test ratio 0.12\n",
      "\n",
      "\tBetween model\n",
      "Initialising training\n"
     ]
    },
    {
     "data": {
      "application/vnd.jupyter.widget-view+json": {
       "model_id": "026fde746d614f8aa28f0a30441f496a",
       "version_major": 2,
       "version_minor": 0
      },
      "text/plain": [
       "  0%|          | 0/5 [00:00<?, ?it/s]"
      ]
     },
     "metadata": {},
     "output_type": "display_data"
    },
    {
     "name": "stdout",
     "output_type": "stream",
     "text": [
      "Finished training after 61 seconds\n",
      "\n",
      "\tWithin Model\n",
      "Initialising training\n"
     ]
    },
    {
     "data": {
      "application/vnd.jupyter.widget-view+json": {
       "model_id": "b1a8f41b687f4eae998dec6da3ffd837",
       "version_major": 2,
       "version_minor": 0
      },
      "text/plain": [
       "  0%|          | 0/5 [00:00<?, ?it/s]"
      ]
     },
     "metadata": {},
     "output_type": "display_data"
    },
    {
     "name": "stdout",
     "output_type": "stream",
     "text": [
      "Finished training after 91 seconds\n",
      "\t{'overall': 0.2904095224381552, 'between': 0.3272027967697537, 'within': 0.008986676484275601}\n",
      "....................................................................................................\n",
      "Iteration 3\n",
      "....................................................................................................\n",
      "Fold 0, specified test ratio: 0.2 - Actual test ratio 0.20\n",
      "Fold 1, specified test ratio: 0.2 - Actual test ratio 0.20\n",
      "Fold 2, specified test ratio: 0.2 - Actual test ratio 0.20\n",
      "Fold 3, specified test ratio: 0.2 - Actual test ratio 0.20\n",
      "Fold 4, specified test ratio: 0.2 - Actual test ratio 0.19\n",
      "\n",
      "\tBetween model\n",
      "Initialising training\n"
     ]
    },
    {
     "data": {
      "application/vnd.jupyter.widget-view+json": {
       "model_id": "00f0482d36ec46ac97f45b6dfc53620c",
       "version_major": 2,
       "version_minor": 0
      },
      "text/plain": [
       "  0%|          | 0/5 [00:00<?, ?it/s]"
      ]
     },
     "metadata": {},
     "output_type": "display_data"
    },
    {
     "name": "stdout",
     "output_type": "stream",
     "text": [
      "Finished training after 61 seconds\n",
      "\n",
      "\tWithin Model\n",
      "Initialising training\n"
     ]
    },
    {
     "data": {
      "application/vnd.jupyter.widget-view+json": {
       "model_id": "060766fd427c4d30a33b509dd49651ce",
       "version_major": 2,
       "version_minor": 0
      },
      "text/plain": [
       "  0%|          | 0/5 [00:00<?, ?it/s]"
      ]
     },
     "metadata": {},
     "output_type": "display_data"
    },
    {
     "name": "stdout",
     "output_type": "stream",
     "text": [
      "Finished training after 92 seconds\n",
      "\t{'overall': 0.2741719811411238, 'between': 0.31915641845951026, 'within': 0.02193464288587834}\n",
      "....................................................................................................\n",
      "Iteration 4\n",
      "....................................................................................................\n",
      "Fold 0, specified test ratio: 0.2 - Actual test ratio 0.20\n",
      "Fold 1, specified test ratio: 0.2 - Actual test ratio 0.20\n",
      "Fold 2, specified test ratio: 0.2 - Actual test ratio 0.20\n",
      "Fold 3, specified test ratio: 0.2 - Actual test ratio 0.20\n",
      "Fold 4, specified test ratio: 0.2 - Actual test ratio 0.20\n",
      "\n",
      "\tBetween model\n",
      "Initialising training\n"
     ]
    },
    {
     "data": {
      "application/vnd.jupyter.widget-view+json": {
       "model_id": "d98a06875d904d08b6a63aef34e7f15f",
       "version_major": 2,
       "version_minor": 0
      },
      "text/plain": [
       "  0%|          | 0/5 [00:00<?, ?it/s]"
      ]
     },
     "metadata": {},
     "output_type": "display_data"
    },
    {
     "name": "stdout",
     "output_type": "stream",
     "text": [
      "Finished training after 61 seconds\n",
      "\n",
      "\tWithin Model\n",
      "Initialising training\n"
     ]
    },
    {
     "data": {
      "application/vnd.jupyter.widget-view+json": {
       "model_id": "e915ce9013ef447caa59577cf5cd4327",
       "version_major": 2,
       "version_minor": 0
      },
      "text/plain": [
       "  0%|          | 0/5 [00:00<?, ?it/s]"
      ]
     },
     "metadata": {},
     "output_type": "display_data"
    },
    {
     "name": "stdout",
     "output_type": "stream",
     "text": [
      "Finished training after 90 seconds\n",
      "\t{'overall': 0.27043007836248706, 'between': 0.29966610895888607, 'within': 0.007635087676971164}\n",
      "....................................................................................................\n",
      "Iteration 5\n",
      "....................................................................................................\n",
      "Fold 0, specified test ratio: 0.2 - Actual test ratio 0.30\n",
      "Fold 1, specified test ratio: 0.2 - Actual test ratio 0.20\n",
      "Fold 2, specified test ratio: 0.2 - Actual test ratio 0.20\n",
      "Fold 3, specified test ratio: 0.2 - Actual test ratio 0.20\n",
      "Fold 4, specified test ratio: 0.2 - Actual test ratio 0.10\n",
      "\n",
      "\tBetween model\n",
      "Initialising training\n"
     ]
    },
    {
     "data": {
      "application/vnd.jupyter.widget-view+json": {
       "model_id": "497e316ff5a34f1eb0c9526036fe4abf",
       "version_major": 2,
       "version_minor": 0
      },
      "text/plain": [
       "  0%|          | 0/5 [00:00<?, ?it/s]"
      ]
     },
     "metadata": {},
     "output_type": "display_data"
    },
    {
     "name": "stdout",
     "output_type": "stream",
     "text": [
      "Finished training after 62 seconds\n",
      "\n",
      "\tWithin Model\n",
      "Initialising training\n"
     ]
    },
    {
     "data": {
      "application/vnd.jupyter.widget-view+json": {
       "model_id": "70f4fc7f5380437d9fda497b181b9af4",
       "version_major": 2,
       "version_minor": 0
      },
      "text/plain": [
       "  0%|          | 0/5 [00:00<?, ?it/s]"
      ]
     },
     "metadata": {},
     "output_type": "display_data"
    },
    {
     "name": "stdout",
     "output_type": "stream",
     "text": [
      "Finished training after 90 seconds\n",
      "\t{'overall': 0.32000217623339755, 'between': 0.37436731732482487, 'within': -0.0036564236248883162}\n",
      "....................................................................................................\n",
      "Iteration 6\n",
      "....................................................................................................\n",
      "Fold 0, specified test ratio: 0.2 - Actual test ratio 0.20\n",
      "Fold 1, specified test ratio: 0.2 - Actual test ratio 0.21\n",
      "Fold 2, specified test ratio: 0.2 - Actual test ratio 0.20\n",
      "Fold 3, specified test ratio: 0.2 - Actual test ratio 0.20\n",
      "Fold 4, specified test ratio: 0.2 - Actual test ratio 0.18\n",
      "\n",
      "\tBetween model\n",
      "Initialising training\n"
     ]
    },
    {
     "data": {
      "application/vnd.jupyter.widget-view+json": {
       "model_id": "7814f3fc87bc4795ae0240f592f11c85",
       "version_major": 2,
       "version_minor": 0
      },
      "text/plain": [
       "  0%|          | 0/5 [00:00<?, ?it/s]"
      ]
     },
     "metadata": {},
     "output_type": "display_data"
    },
    {
     "name": "stdout",
     "output_type": "stream",
     "text": [
      "Finished training after 60 seconds\n",
      "\n",
      "\tWithin Model\n",
      "Initialising training\n"
     ]
    },
    {
     "data": {
      "application/vnd.jupyter.widget-view+json": {
       "model_id": "a69a8143afd44e3d8f2c42e090c66b8a",
       "version_major": 2,
       "version_minor": 0
      },
      "text/plain": [
       "  0%|          | 0/5 [00:00<?, ?it/s]"
      ]
     },
     "metadata": {},
     "output_type": "display_data"
    },
    {
     "name": "stdout",
     "output_type": "stream",
     "text": [
      "Finished training after 91 seconds\n",
      "\t{'overall': 0.27520416163040734, 'between': 0.3040681858190664, 'within': 0.023119268809603445}\n",
      "....................................................................................................\n",
      "Iteration 7\n",
      "....................................................................................................\n",
      "Fold 0, specified test ratio: 0.2 - Actual test ratio 0.27\n",
      "Fold 1, specified test ratio: 0.2 - Actual test ratio 0.20\n",
      "Fold 2, specified test ratio: 0.2 - Actual test ratio 0.20\n",
      "Fold 3, specified test ratio: 0.2 - Actual test ratio 0.20\n",
      "Fold 4, specified test ratio: 0.2 - Actual test ratio 0.12\n",
      "\n",
      "\tBetween model\n",
      "Initialising training\n"
     ]
    },
    {
     "data": {
      "application/vnd.jupyter.widget-view+json": {
       "model_id": "b9b81bc6f6c64d54a38b10b2835e32b0",
       "version_major": 2,
       "version_minor": 0
      },
      "text/plain": [
       "  0%|          | 0/5 [00:00<?, ?it/s]"
      ]
     },
     "metadata": {},
     "output_type": "display_data"
    },
    {
     "name": "stdout",
     "output_type": "stream",
     "text": [
      "Finished training after 61 seconds\n",
      "\n",
      "\tWithin Model\n",
      "Initialising training\n"
     ]
    },
    {
     "data": {
      "application/vnd.jupyter.widget-view+json": {
       "model_id": "dd3faf18d632439ca22d7cfc83ad70d0",
       "version_major": 2,
       "version_minor": 0
      },
      "text/plain": [
       "  0%|          | 0/5 [00:00<?, ?it/s]"
      ]
     },
     "metadata": {},
     "output_type": "display_data"
    },
    {
     "name": "stdout",
     "output_type": "stream",
     "text": [
      "Finished training after 91 seconds\n",
      "\t{'overall': 0.2605163590266719, 'between': 0.2991691117296289, 'within': 0.008387776150202008}\n",
      "....................................................................................................\n",
      "Iteration 8\n",
      "....................................................................................................\n",
      "Fold 0, specified test ratio: 0.2 - Actual test ratio 0.20\n",
      "Fold 1, specified test ratio: 0.2 - Actual test ratio 0.20\n",
      "Fold 2, specified test ratio: 0.2 - Actual test ratio 0.20\n",
      "Fold 3, specified test ratio: 0.2 - Actual test ratio 0.20\n",
      "Fold 4, specified test ratio: 0.2 - Actual test ratio 0.19\n",
      "\n",
      "\tBetween model\n",
      "Initialising training\n"
     ]
    },
    {
     "data": {
      "application/vnd.jupyter.widget-view+json": {
       "model_id": "fed93487f6e04188a38741b13a7cb76a",
       "version_major": 2,
       "version_minor": 0
      },
      "text/plain": [
       "  0%|          | 0/5 [00:00<?, ?it/s]"
      ]
     },
     "metadata": {},
     "output_type": "display_data"
    },
    {
     "name": "stdout",
     "output_type": "stream",
     "text": [
      "Finished training after 61 seconds\n",
      "\n",
      "\tWithin Model\n",
      "Initialising training\n"
     ]
    },
    {
     "data": {
      "application/vnd.jupyter.widget-view+json": {
       "model_id": "09c22ec85ef6417dbcbb86b4615abb1a",
       "version_major": 2,
       "version_minor": 0
      },
      "text/plain": [
       "  0%|          | 0/5 [00:00<?, ?it/s]"
      ]
     },
     "metadata": {},
     "output_type": "display_data"
    },
    {
     "name": "stdout",
     "output_type": "stream",
     "text": [
      "Finished training after 91 seconds\n",
      "\t{'overall': 0.239505534754286, 'between': 0.2683835034020393, 'within': 0.01862247295605244}\n",
      "....................................................................................................\n",
      "Iteration 9\n",
      "....................................................................................................\n",
      "Fold 0, specified test ratio: 0.2 - Actual test ratio 0.20\n",
      "Fold 1, specified test ratio: 0.2 - Actual test ratio 0.20\n",
      "Fold 2, specified test ratio: 0.2 - Actual test ratio 0.20\n",
      "Fold 3, specified test ratio: 0.2 - Actual test ratio 0.20\n",
      "Fold 4, specified test ratio: 0.2 - Actual test ratio 0.20\n",
      "\n",
      "\tBetween model\n",
      "Initialising training\n"
     ]
    },
    {
     "data": {
      "application/vnd.jupyter.widget-view+json": {
       "model_id": "15688dbadbcc408b8b666a1e686609e1",
       "version_major": 2,
       "version_minor": 0
      },
      "text/plain": [
       "  0%|          | 0/5 [00:00<?, ?it/s]"
      ]
     },
     "metadata": {},
     "output_type": "display_data"
    },
    {
     "name": "stdout",
     "output_type": "stream",
     "text": [
      "Finished training after 60 seconds\n",
      "\n",
      "\tWithin Model\n",
      "Initialising training\n"
     ]
    },
    {
     "data": {
      "application/vnd.jupyter.widget-view+json": {
       "model_id": "91ee1e9f65944365a75cc682b20bad85",
       "version_major": 2,
       "version_minor": 0
      },
      "text/plain": [
       "  0%|          | 0/5 [00:00<?, ?it/s]"
      ]
     },
     "metadata": {},
     "output_type": "display_data"
    },
    {
     "name": "stdout",
     "output_type": "stream",
     "text": [
      "Finished training after 91 seconds\n",
      "\t{'overall': 0.2595632334553118, 'between': 0.29277776567840574, 'within': 0.013954786980865474}\n",
      "====================================================================================================\n",
      "Training and Evaluating on country uga\n",
      "====================================================================================================\n",
      "\n",
      "\n",
      "....................................................................................................\n",
      "Iteration 0\n",
      "....................................................................................................\n",
      "Fold 0, specified test ratio: 0.2 - Actual test ratio 0.32\n",
      "Fold 1, specified test ratio: 0.2 - Actual test ratio 0.20\n",
      "Fold 2, specified test ratio: 0.2 - Actual test ratio 0.20\n",
      "Fold 3, specified test ratio: 0.2 - Actual test ratio 0.20\n",
      "Fold 4, specified test ratio: 0.2 - Actual test ratio 0.08\n",
      "\n",
      "\tBetween model\n",
      "Initialising training\n"
     ]
    },
    {
     "data": {
      "application/vnd.jupyter.widget-view+json": {
       "model_id": "d6580d37fd9647d68f84fd6fc96d1b7c",
       "version_major": 2,
       "version_minor": 0
      },
      "text/plain": [
       "  0%|          | 0/5 [00:00<?, ?it/s]"
      ]
     },
     "metadata": {},
     "output_type": "display_data"
    },
    {
     "name": "stdout",
     "output_type": "stream",
     "text": [
      "Finished training after 43 seconds\n",
      "\n",
      "\tWithin Model\n",
      "Initialising training\n"
     ]
    },
    {
     "data": {
      "application/vnd.jupyter.widget-view+json": {
       "model_id": "d456e5d938d14a5b8101e4f01ccb84ea",
       "version_major": 2,
       "version_minor": 0
      },
      "text/plain": [
       "  0%|          | 0/5 [00:00<?, ?it/s]"
      ]
     },
     "metadata": {},
     "output_type": "display_data"
    },
    {
     "name": "stdout",
     "output_type": "stream",
     "text": [
      "Finished training after 79 seconds\n",
      "\t{'overall': 0.28527376820605, 'between': 0.3229212187503063, 'within': 0.04829495480094472}\n",
      "....................................................................................................\n",
      "Iteration 1\n",
      "....................................................................................................\n",
      "Fold 0, specified test ratio: 0.2 - Actual test ratio 0.20\n",
      "Fold 1, specified test ratio: 0.2 - Actual test ratio 0.20\n",
      "Fold 2, specified test ratio: 0.2 - Actual test ratio 0.20\n",
      "Fold 3, specified test ratio: 0.2 - Actual test ratio 0.20\n",
      "Fold 4, specified test ratio: 0.2 - Actual test ratio 0.19\n",
      "\n",
      "\tBetween model\n",
      "Initialising training\n"
     ]
    },
    {
     "data": {
      "application/vnd.jupyter.widget-view+json": {
       "model_id": "bfecd998ddbc47a09f00e69abbd1e15d",
       "version_major": 2,
       "version_minor": 0
      },
      "text/plain": [
       "  0%|          | 0/5 [00:00<?, ?it/s]"
      ]
     },
     "metadata": {},
     "output_type": "display_data"
    },
    {
     "name": "stdout",
     "output_type": "stream",
     "text": [
      "Finished training after 40 seconds\n",
      "\n",
      "\tWithin Model\n",
      "Initialising training\n"
     ]
    },
    {
     "data": {
      "application/vnd.jupyter.widget-view+json": {
       "model_id": "39ee80e33e6d4fef9a3fe959d370ffad",
       "version_major": 2,
       "version_minor": 0
      },
      "text/plain": [
       "  0%|          | 0/5 [00:00<?, ?it/s]"
      ]
     },
     "metadata": {},
     "output_type": "display_data"
    },
    {
     "name": "stdout",
     "output_type": "stream",
     "text": [
      "Finished training after 80 seconds\n",
      "\t{'overall': 0.244761944319221, 'between': 0.27830528044171654, 'within': 0.05466729908836652}\n",
      "....................................................................................................\n",
      "Iteration 2\n",
      "....................................................................................................\n",
      "Fold 0, specified test ratio: 0.2 - Actual test ratio 0.21\n",
      "Fold 1, specified test ratio: 0.2 - Actual test ratio 0.20\n",
      "Fold 2, specified test ratio: 0.2 - Actual test ratio 0.20\n",
      "Fold 3, specified test ratio: 0.2 - Actual test ratio 0.21\n",
      "Fold 4, specified test ratio: 0.2 - Actual test ratio 0.18\n",
      "\n",
      "\tBetween model\n",
      "Initialising training\n"
     ]
    },
    {
     "data": {
      "application/vnd.jupyter.widget-view+json": {
       "model_id": "26ae1e0749d6452dabd447ab7d6f8fe4",
       "version_major": 2,
       "version_minor": 0
      },
      "text/plain": [
       "  0%|          | 0/5 [00:00<?, ?it/s]"
      ]
     },
     "metadata": {},
     "output_type": "display_data"
    },
    {
     "name": "stdout",
     "output_type": "stream",
     "text": [
      "Finished training after 40 seconds\n",
      "\n",
      "\tWithin Model\n",
      "Initialising training\n"
     ]
    },
    {
     "data": {
      "application/vnd.jupyter.widget-view+json": {
       "model_id": "8fd8d1f2fbed480f8fdc00fa745ddd7f",
       "version_major": 2,
       "version_minor": 0
      },
      "text/plain": [
       "  0%|          | 0/5 [00:00<?, ?it/s]"
      ]
     },
     "metadata": {},
     "output_type": "display_data"
    },
    {
     "name": "stdout",
     "output_type": "stream",
     "text": [
      "Finished training after 79 seconds\n",
      "\t{'overall': 0.27784929518206936, 'between': 0.3109154260395918, 'within': 0.050462926423416654}\n",
      "....................................................................................................\n",
      "Iteration 3\n",
      "....................................................................................................\n",
      "Fold 0, specified test ratio: 0.2 - Actual test ratio 0.29\n",
      "Fold 1, specified test ratio: 0.2 - Actual test ratio 0.20\n",
      "Fold 2, specified test ratio: 0.2 - Actual test ratio 0.21\n",
      "Fold 3, specified test ratio: 0.2 - Actual test ratio 0.20\n",
      "Fold 4, specified test ratio: 0.2 - Actual test ratio 0.10\n",
      "\n",
      "\tBetween model\n",
      "Initialising training\n"
     ]
    },
    {
     "data": {
      "application/vnd.jupyter.widget-view+json": {
       "model_id": "5aa2e7e21b684fb9a4e3f812a3075695",
       "version_major": 2,
       "version_minor": 0
      },
      "text/plain": [
       "  0%|          | 0/5 [00:00<?, ?it/s]"
      ]
     },
     "metadata": {},
     "output_type": "display_data"
    },
    {
     "name": "stdout",
     "output_type": "stream",
     "text": [
      "Finished training after 39 seconds\n",
      "\n",
      "\tWithin Model\n",
      "Initialising training\n"
     ]
    },
    {
     "data": {
      "application/vnd.jupyter.widget-view+json": {
       "model_id": "fc8aa01df7a844f2b901ca5e217010ac",
       "version_major": 2,
       "version_minor": 0
      },
      "text/plain": [
       "  0%|          | 0/5 [00:00<?, ?it/s]"
      ]
     },
     "metadata": {},
     "output_type": "display_data"
    },
    {
     "name": "stdout",
     "output_type": "stream",
     "text": [
      "Finished training after 79 seconds\n",
      "\t{'overall': 0.36350456490329885, 'between': 0.4429057290708957, 'within': 0.057540603122051136}\n",
      "....................................................................................................\n",
      "Iteration 4\n",
      "....................................................................................................\n",
      "Fold 0, specified test ratio: 0.2 - Actual test ratio 0.20\n",
      "Fold 1, specified test ratio: 0.2 - Actual test ratio 0.20\n",
      "Fold 2, specified test ratio: 0.2 - Actual test ratio 0.20\n",
      "Fold 3, specified test ratio: 0.2 - Actual test ratio 0.20\n",
      "Fold 4, specified test ratio: 0.2 - Actual test ratio 0.19\n",
      "\n",
      "\tBetween model\n",
      "Initialising training\n"
     ]
    },
    {
     "data": {
      "application/vnd.jupyter.widget-view+json": {
       "model_id": "65aa6d91aa0c4676940ad58d19ddfdf3",
       "version_major": 2,
       "version_minor": 0
      },
      "text/plain": [
       "  0%|          | 0/5 [00:00<?, ?it/s]"
      ]
     },
     "metadata": {},
     "output_type": "display_data"
    },
    {
     "name": "stdout",
     "output_type": "stream",
     "text": [
      "Finished training after 39 seconds\n",
      "\n",
      "\tWithin Model\n",
      "Initialising training\n"
     ]
    },
    {
     "data": {
      "application/vnd.jupyter.widget-view+json": {
       "model_id": "3d9ea35ccd694c72bb19397d579765b5",
       "version_major": 2,
       "version_minor": 0
      },
      "text/plain": [
       "  0%|          | 0/5 [00:00<?, ?it/s]"
      ]
     },
     "metadata": {},
     "output_type": "display_data"
    },
    {
     "name": "stdout",
     "output_type": "stream",
     "text": [
      "Finished training after 86 seconds\n",
      "\t{'overall': 0.31160293819126944, 'between': 0.3865167330253438, 'within': 0.05871917276776113}\n",
      "....................................................................................................\n",
      "Iteration 5\n",
      "....................................................................................................\n",
      "Fold 0, specified test ratio: 0.2 - Actual test ratio 0.27\n",
      "Fold 1, specified test ratio: 0.2 - Actual test ratio 0.20\n",
      "Fold 2, specified test ratio: 0.2 - Actual test ratio 0.20\n",
      "Fold 3, specified test ratio: 0.2 - Actual test ratio 0.20\n",
      "Fold 4, specified test ratio: 0.2 - Actual test ratio 0.13\n",
      "\n",
      "\tBetween model\n",
      "Initialising training\n"
     ]
    },
    {
     "data": {
      "application/vnd.jupyter.widget-view+json": {
       "model_id": "a5f2b834fca34bf7a36c163a165fecba",
       "version_major": 2,
       "version_minor": 0
      },
      "text/plain": [
       "  0%|          | 0/5 [00:00<?, ?it/s]"
      ]
     },
     "metadata": {},
     "output_type": "display_data"
    },
    {
     "name": "stdout",
     "output_type": "stream",
     "text": [
      "Finished training after 40 seconds\n",
      "\n",
      "\tWithin Model\n",
      "Initialising training\n"
     ]
    },
    {
     "data": {
      "application/vnd.jupyter.widget-view+json": {
       "model_id": "ecd7d48465f34d9fa56965c50141b75e",
       "version_major": 2,
       "version_minor": 0
      },
      "text/plain": [
       "  0%|          | 0/5 [00:00<?, ?it/s]"
      ]
     },
     "metadata": {},
     "output_type": "display_data"
    },
    {
     "name": "stdout",
     "output_type": "stream",
     "text": [
      "Finished training after 82 seconds\n",
      "\t{'overall': 0.2928880496613229, 'between': 0.35869472408872993, 'within': 0.04854651003960664}\n",
      "....................................................................................................\n",
      "Iteration 6\n",
      "....................................................................................................\n",
      "Fold 0, specified test ratio: 0.2 - Actual test ratio 0.20\n",
      "Fold 1, specified test ratio: 0.2 - Actual test ratio 0.20\n",
      "Fold 2, specified test ratio: 0.2 - Actual test ratio 0.21\n",
      "Fold 3, specified test ratio: 0.2 - Actual test ratio 0.20\n",
      "Fold 4, specified test ratio: 0.2 - Actual test ratio 0.20\n",
      "\n",
      "\tBetween model\n",
      "Initialising training\n"
     ]
    },
    {
     "data": {
      "application/vnd.jupyter.widget-view+json": {
       "model_id": "92cec0b264b043f6afae6fb0388224c0",
       "version_major": 2,
       "version_minor": 0
      },
      "text/plain": [
       "  0%|          | 0/5 [00:00<?, ?it/s]"
      ]
     },
     "metadata": {},
     "output_type": "display_data"
    },
    {
     "name": "stdout",
     "output_type": "stream",
     "text": [
      "Finished training after 40 seconds\n",
      "\n",
      "\tWithin Model\n",
      "Initialising training\n"
     ]
    },
    {
     "data": {
      "application/vnd.jupyter.widget-view+json": {
       "model_id": "fc75cdb36347404fa803c844651036b3",
       "version_major": 2,
       "version_minor": 0
      },
      "text/plain": [
       "  0%|          | 0/5 [00:00<?, ?it/s]"
      ]
     },
     "metadata": {},
     "output_type": "display_data"
    },
    {
     "name": "stdout",
     "output_type": "stream",
     "text": [
      "Finished training after 80 seconds\n",
      "\t{'overall': 0.3145862922481168, 'between': 0.3702199845274607, 'within': 0.051962752302337004}\n",
      "....................................................................................................\n",
      "Iteration 7\n",
      "....................................................................................................\n",
      "Fold 0, specified test ratio: 0.2 - Actual test ratio 0.20\n",
      "Fold 1, specified test ratio: 0.2 - Actual test ratio 0.21\n",
      "Fold 2, specified test ratio: 0.2 - Actual test ratio 0.20\n",
      "Fold 3, specified test ratio: 0.2 - Actual test ratio 0.20\n",
      "Fold 4, specified test ratio: 0.2 - Actual test ratio 0.19\n",
      "\n",
      "\tBetween model\n",
      "Initialising training\n"
     ]
    },
    {
     "data": {
      "application/vnd.jupyter.widget-view+json": {
       "model_id": "1faa881133364ce780eecc3a031e6111",
       "version_major": 2,
       "version_minor": 0
      },
      "text/plain": [
       "  0%|          | 0/5 [00:00<?, ?it/s]"
      ]
     },
     "metadata": {},
     "output_type": "display_data"
    },
    {
     "name": "stdout",
     "output_type": "stream",
     "text": [
      "Finished training after 41 seconds\n",
      "\n",
      "\tWithin Model\n",
      "Initialising training\n"
     ]
    },
    {
     "data": {
      "application/vnd.jupyter.widget-view+json": {
       "model_id": "ba090849b8524facbacc0888e090bd47",
       "version_major": 2,
       "version_minor": 0
      },
      "text/plain": [
       "  0%|          | 0/5 [00:00<?, ?it/s]"
      ]
     },
     "metadata": {},
     "output_type": "display_data"
    },
    {
     "name": "stdout",
     "output_type": "stream",
     "text": [
      "Finished training after 80 seconds\n",
      "\t{'overall': 0.29284394577649414, 'between': 0.32505777588783474, 'within': 0.05109997846194299}\n",
      "....................................................................................................\n",
      "Iteration 8\n",
      "....................................................................................................\n",
      "Fold 0, specified test ratio: 0.2 - Actual test ratio 0.29\n",
      "Fold 1, specified test ratio: 0.2 - Actual test ratio 0.21\n",
      "Fold 2, specified test ratio: 0.2 - Actual test ratio 0.21\n",
      "Fold 3, specified test ratio: 0.2 - Actual test ratio 0.20\n",
      "Fold 4, specified test ratio: 0.2 - Actual test ratio 0.10\n",
      "\n",
      "\tBetween model\n",
      "Initialising training\n"
     ]
    },
    {
     "data": {
      "application/vnd.jupyter.widget-view+json": {
       "model_id": "b81c4cbe2a26487e8e97e506195e6d97",
       "version_major": 2,
       "version_minor": 0
      },
      "text/plain": [
       "  0%|          | 0/5 [00:00<?, ?it/s]"
      ]
     },
     "metadata": {},
     "output_type": "display_data"
    },
    {
     "name": "stdout",
     "output_type": "stream",
     "text": [
      "Finished training after 40 seconds\n",
      "\n",
      "\tWithin Model\n",
      "Initialising training\n"
     ]
    },
    {
     "data": {
      "application/vnd.jupyter.widget-view+json": {
       "model_id": "40d3e68b255a47bba30714f7b38ef5fc",
       "version_major": 2,
       "version_minor": 0
      },
      "text/plain": [
       "  0%|          | 0/5 [00:00<?, ?it/s]"
      ]
     },
     "metadata": {},
     "output_type": "display_data"
    },
    {
     "name": "stdout",
     "output_type": "stream",
     "text": [
      "Finished training after 79 seconds\n",
      "\t{'overall': 0.2951623370670927, 'between': 0.33545632111360973, 'within': 0.05096173493981095}\n",
      "....................................................................................................\n",
      "Iteration 9\n",
      "....................................................................................................\n",
      "Fold 0, specified test ratio: 0.2 - Actual test ratio 0.20\n",
      "Fold 1, specified test ratio: 0.2 - Actual test ratio 0.20\n",
      "Fold 2, specified test ratio: 0.2 - Actual test ratio 0.20\n",
      "Fold 3, specified test ratio: 0.2 - Actual test ratio 0.20\n",
      "Fold 4, specified test ratio: 0.2 - Actual test ratio 0.20\n",
      "\n",
      "\tBetween model\n",
      "Initialising training\n"
     ]
    },
    {
     "data": {
      "application/vnd.jupyter.widget-view+json": {
       "model_id": "0cd77df7813c485c86a06369b399e90f",
       "version_major": 2,
       "version_minor": 0
      },
      "text/plain": [
       "  0%|          | 0/5 [00:00<?, ?it/s]"
      ]
     },
     "metadata": {},
     "output_type": "display_data"
    },
    {
     "name": "stdout",
     "output_type": "stream",
     "text": [
      "Finished training after 40 seconds\n",
      "\n",
      "\tWithin Model\n",
      "Initialising training\n"
     ]
    },
    {
     "data": {
      "application/vnd.jupyter.widget-view+json": {
       "model_id": "1aba61b66cf54b99a9c672cd24ea4b6a",
       "version_major": 2,
       "version_minor": 0
      },
      "text/plain": [
       "  0%|          | 0/5 [00:00<?, ?it/s]"
      ]
     },
     "metadata": {},
     "output_type": "display_data"
    },
    {
     "name": "stdout",
     "output_type": "stream",
     "text": [
      "Finished training after 79 seconds\n",
      "\t{'overall': 0.1763781938773185, 'between': 0.1957841283104348, 'within': 0.05518397683346445}\n"
     ]
    }
   ],
   "source": [
    "same_cntry_res = {\n",
    "    'country': [],\n",
    "    'between_r2': [],\n",
    "    'within_r2': [],\n",
    "    'overall_r2': []\n",
    "}\n",
    "it = 0\n",
    "for cntry in tqdm(countries):\n",
    "    print(\"=\"*100)\n",
    "    print(f\"Training and Evaluating on country {cntry}\")\n",
    "    print(\"=\"*100)\n",
    "    print(\"\\n\")\n",
    "    \n",
    "    # subset the df to country\n",
    "    df_sub = df.loc[df.country == cntry].reset_index(drop = True)\n",
    "    between_df_sub = between_df[between_df.country == cntry].reset_index(drop = True)\n",
    "    within_df_sub = within_df[within_df.country == cntry].reset_index(drop = True)\n",
    "    \n",
    "    # standardise the datasets\n",
    "    between_df_norm = standardise_df(between_df_sub, exclude_cols = [between_target_var])\n",
    "    demeaned_df_norm = standardise_df(demean_df(within_df_sub), exclude_cols = [within_target_var])\n",
    "\n",
    "    aux_r2_b = []\n",
    "    aux_r2_w = []\n",
    "    aux_r2_o = []\n",
    "    \n",
    "    for j in range(10):\n",
    "        print(\".\"*100)\n",
    "        print(f\"Iteration {j}\")\n",
    "        print(\".\"*100)\n",
    "        \n",
    "        seeed = random_seed + j + it\n",
    "        \n",
    "        # get training and validation ids using spatial CV scheme\n",
    "        fold_ids = split_lsms_spatial(df_sub, n_folds = n_folds, random_seed = seeed)\n",
    "        \n",
    "        # run the bewtween training\n",
    "        print('\\n\\tBetween model')\n",
    "        between_cv_trainer = rf.CrossValidator(between_df_norm, \n",
    "                                               fold_ids,\n",
    "                                               between_target_var, \n",
    "                                               between_x_vars, \n",
    "                                               id_var = 'cluster_id',\n",
    "                                               random_seed = seeed)\n",
    "        between_cv_trainer.run_cv_training(min_samples_leaf = 5)\n",
    "        between_res = between_cv_trainer.compute_overall_performance()\n",
    "\n",
    "        # run the within training\n",
    "        print('\\n\\tWithin Model')\n",
    "        within_cv_trainer = rf.CrossValidator(demeaned_df_norm, \n",
    "                                              fold_ids, \n",
    "                                              within_target_var, \n",
    "                                              within_x_vars,\n",
    "                                              id_var = 'unique_id',\n",
    "                                              random_seed = seeed)\n",
    "        within_cv_trainer.run_cv_training(min_samples_leaf = 15)\n",
    "        within_res = within_cv_trainer.compute_overall_performance()\n",
    "\n",
    "        # run the combined model\n",
    "        combined_model = CombinedModel(df_sub, between_cv_trainer, within_cv_trainer)\n",
    "        combined_model.evaluate()\n",
    "        combined_res = combined_model.compute_overall_performance()\n",
    "        print(f\"\\t{combined_res['r2']}\")\n",
    "\n",
    "        # store results\n",
    "        aux_r2_b.append(combined_res['r2']['between'])\n",
    "        aux_r2_w.append(combined_res['r2']['within'])\n",
    "        aux_r2_o.append(combined_res['r2']['overall'])\n",
    "        \n",
    "    it += 1\n",
    "    \n",
    "    # take the average over all results\n",
    "    same_cntry_res['country'].append(cntry)\n",
    "    same_cntry_res['between_r2'].append(np.mean(aux_r2_b))\n",
    "    same_cntry_res['within_r2'].append(np.mean(aux_r2_w))\n",
    "    same_cntry_res['overall_r2'].append(np.mean(aux_r2_o))"
   ]
  },
  {
   "cell_type": "code",
   "execution_count": 14,
   "id": "5168ca87",
   "metadata": {},
   "outputs": [],
   "source": [
    "pth = 'results/robustness/same_cntry_res.pkl'\n",
    "with open(pth, 'wb') as f:\n",
    "    pickle.dump(same_cntry_res, f)"
   ]
  },
  {
   "cell_type": "markdown",
   "id": "8a9281aa",
   "metadata": {},
   "source": [
    "# Make the plot"
   ]
  },
  {
   "cell_type": "code",
   "execution_count": 15,
   "id": "11b86422",
   "metadata": {},
   "outputs": [],
   "source": [
    "# load the data\n",
    "pth = 'results/robustness/same_cntry_res.pkl'\n",
    "with open(pth, 'rb') as f:\n",
    "    same_cntry_res = pickle.load(f)\n",
    "    \n",
    "pth = 'results/robustness/cross_cntry_res.pkl'\n",
    "with open(pth, 'rb') as f:\n",
    "    cross_cntry_res = pickle.load(f)"
   ]
  },
  {
   "cell_type": "code",
   "execution_count": 16,
   "id": "dbe72c7d",
   "metadata": {},
   "outputs": [],
   "source": [
    "same_cntry_df = pd.DataFrame(same_cntry_res)"
   ]
  },
  {
   "cell_type": "code",
   "execution_count": 17,
   "id": "011b1e7a",
   "metadata": {},
   "outputs": [],
   "source": [
    "# combine cross cntry and same cntry results to one matrix\n",
    "res_dict = {}\n",
    "for cntry, res in cross_cntry_res.items():\n",
    "    res_df = pd.DataFrame(res)\n",
    "    same_df = same_cntry_df[same_cntry_df.country == cntry]\n",
    "    same_df = same_df.rename(columns = {'country': 'val_cntry'})\n",
    "    res_df = pd.concat([res_df, same_df], ignore_index = True)\n",
    "    res_dict[cntry] = res_df.sort_values(by = 'val_cntry').reset_index(drop = True)"
   ]
  },
  {
   "cell_type": "code",
   "execution_count": 18,
   "id": "7cf0d69e",
   "metadata": {},
   "outputs": [],
   "source": [
    "res_dict['eth']\n",
    "between_df = pd.DataFrame({\n",
    "    'eth': [], \n",
    "    'mwi': [],\n",
    "    'nga': [],\n",
    "    'tza': [],\n",
    "    'uga': []\n",
    "})\n",
    "\n",
    "within_df = copy.deepcopy(between_df)\n",
    "overall_df = copy.deepcopy(between_df)\n",
    "\n",
    "final_res = {\n",
    "    'between_r2': between_df,\n",
    "    'within_r2': within_df,\n",
    "    'overall_r2': overall_df\n",
    "}\n",
    "\n",
    "for cntry, res_df in res_dict.items():\n",
    "    for r2, final_df in final_res.items():\n",
    "        aux_df = res_dict[cntry][[r2, 'val_cntry']].T\n",
    "        aux_df.columns = aux_df[aux_df.index == 'val_cntry'].values[0]\n",
    "        aux_df = aux_df[aux_df.index != 'val_cntry']\n",
    "        aux_df = aux_df.rename(index = {r2: cntry})\n",
    "        final_res[r2] = pd.concat([final_df, aux_df], ignore_index = False)\n",
    "        \n",
    "for r2, df in final_res.items():\n",
    "    final_res[r2].columns = [i.upper() for i in final_res[r2].columns.values]\n",
    "    final_res[r2].index = [i.upper() for i in final_res[r2].index.values]\n",
    "    final_res[r2] = final_res[r2].sort_index()\n",
    "    \n",
    "    "
   ]
  },
  {
   "cell_type": "code",
   "execution_count": 19,
   "id": "d1686ba9",
   "metadata": {},
   "outputs": [],
   "source": [
    "import seaborn as sns"
   ]
  },
  {
   "cell_type": "code",
   "execution_count": 20,
   "id": "bd7e4b90",
   "metadata": {},
   "outputs": [],
   "source": [
    "import matplotlib.cm as cm\n",
    "from matplotlib.colors import LinearSegmentedColormap\n",
    "sns.set(font_scale=3)"
   ]
  },
  {
   "cell_type": "code",
   "execution_count": 21,
   "id": "6f81af5b",
   "metadata": {},
   "outputs": [
    {
     "data": {
      "image/png": "[encoded data removed]",
      "text/plain": [
       "<Figure size 1200x400 with 4 Axes>"
      ]
     },
     "metadata": {},
     "output_type": "display_data"
    }
   ],
   "source": [
    "letters =  ['A', 'B', 'C']\n",
    "sns.set_theme(style=\"white\")\n",
    "\n",
    "# Create a figure and axis for the plot\n",
    "fig, axes = plt.subplots(1,3, figsize=(12, 4), sharey = True)\n",
    "\n",
    "data_between = final_res['between_r2'].astype(float)\n",
    "data_within = final_res['within_r2'].astype(float)\n",
    "data_overall = final_res['overall_r2'].astype(float)\n",
    "\n",
    "colors = ['#3B4CC0', '#F7F7F7', '#B8122A']  # Blue, Gray, Red\n",
    "\n",
    "# Define the positions for the color transitions\n",
    "positions = [0, 0.69, 1]  # Corresponding to blue, gray, and red\n",
    "\n",
    "# Create a colormap with color transitions around 0\n",
    "cmap = LinearSegmentedColormap.from_list(\"BlueGrayRed\", list(zip(positions, colors)), N=256)\n",
    "\n",
    "# Define the color map with segmented colors\n",
    "\n",
    "common_vmin = max(min(data_between.min().min(), data_within.min().min(), data_overall.min().min()),-1)\n",
    "common_vmax = max(data_between.max().max(), data_within.max().max(), data_overall.max().min())\n",
    "\n",
    "#cmap = LinearSegmentedColormap.from_list(\"BlueGrayRed\", colors, N=256)\n",
    "\n",
    "\n",
    "#sns.heatmap(data, cmap='coolwarm', annot=True, fmt='.2f', cbar=True, ax=ax, linewidths=1)\n",
    "\n",
    "# Create heatmaps for each data frame and place them in the subplots\n",
    "heatmap_between = sns.heatmap(data_between, cmap=cmap, annot=True, fmt='.2f', cbar=False, ax=axes[0], linewidths=1, vmin=common_vmin, vmax=common_vmax)\n",
    "heatmap_within = sns.heatmap(data_within, cmap=cmap, annot=True, fmt='.2f', cbar=False, ax=axes[1], linewidths=1, vmin=common_vmin, vmax=common_vmax)\n",
    "heatmap_overall = sns.heatmap(data_overall, cmap=cmap, annot=True, fmt='.2f', cbar=False, ax=axes[2], linewidths=1, vmin=common_vmin, vmax=common_vmax)\n",
    "\n",
    "plt.tight_layout()\n",
    "\n",
    "# cbar_ax = fig.add_axes([0.92, 0.15, 0.02, 0.7])  # [x, y, width, height]\n",
    "# cbar = fig.colorbar(heatmap_overall, cax=cbar_ax)\n",
    "# Create a common color bar based on vmin and vmax\n",
    "sm = cm.ScalarMappable(cmap=cmap, norm=plt.Normalize(vmin=common_vmin, vmax=common_vmax))\n",
    "sm.set_array([])  # Dummy empty array for the ScalarMappable\n",
    "\n",
    "# Add the color bar to the figure\n",
    "cbar = fig.colorbar(sm, ax=axes.ravel().tolist(), pad=0.02)\n",
    "cbar.ax.tick_params(size=0, labelsize = 14)\n",
    "cbar.outline.set_visible(False)\n",
    "\n",
    "# Set titles for each subplot\n",
    "heatmap_between.set_title('Between $R^2_B$', size = 16)\n",
    "heatmap_within.set_title('Within $R^2_W$', size = 16)\n",
    "heatmap_overall.set_title('Overall $R^2$', size = 16)\n",
    "\n",
    "for ax in axes:\n",
    "    ax.tick_params(axis='x', labelsize=12)\n",
    "    ax.tick_params(axis='y', labelsize=12)\n",
    "\n",
    "# add letter to every plot\n",
    "text_y = 1.02\n",
    "text_x = 0.02\n",
    "axes[0].text(text_x, text_y, 'A', transform=axes[0].transAxes, weight='bold', size = 16)\n",
    "axes[1].text(text_x, text_y, 'B', transform=axes[1].transAxes, weight='bold', size = 16)\n",
    "axes[2].text(text_x, text_y, 'C', transform=axes[2].transAxes, weight='bold', size = 16)\n",
    "\n",
    "# Show the plot\n",
    "fig.text(0.5, -.02, \"Country validated on\", ha=\"center\", size = 16)\n",
    "fig.text(-.02, 0.5, \"Country trained on\", va=\"center\", rotation=\"vertical\", size = 16)\n",
    "plt.savefig('../figures/results/cross_cntry_validation.png', dpi = 300, bbox_inches='tight')\n",
    "plt.show()"
   ]
  }
 ],
 "metadata": {
  "kernelspec": {
   "display_name": "Python 3 (ipykernel)",
   "language": "python",
   "name": "python3"
  },
  "language_info": {
   "codemirror_mode": {
    "name": "ipython",
    "version": 3
   },
   "file_extension": ".py",
   "mimetype": "text/x-python",
   "name": "python",
   "nbconvert_exporter": "python",
   "pygments_lexer": "ipython3",
   "version": "3.10.12"
  }
 },
 "nbformat": 4,
 "nbformat_minor": 5
}
