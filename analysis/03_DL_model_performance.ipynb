{
 "cells": [
  {
   "cell_type": "code",
   "execution_count": 1,
   "id": "16de8c5a",
   "metadata": {},
   "outputs": [],
   "source": [
    "import pandas as pd\n",
    "import numpy as np\n",
    "import torch\n",
    "import pickle\n",
    "\n",
    "from sklearn.metrics import r2_score"
   ]
  },
  {
   "cell_type": "code",
   "execution_count": 2,
   "id": "4aae7d16",
   "metadata": {},
   "outputs": [],
   "source": [
    "from analysis_utils.CombinedModel import CombinedModel\n",
    "from analysis_utils.flagged_uids import flagged_uids\n",
    "from analysis_utils.spatial_CV import *\n",
    "from analysis_utils.variable_names import *"
   ]
  },
  {
   "cell_type": "code",
   "execution_count": 4,
   "id": "ca331ae5",
   "metadata": {},
   "outputs": [],
   "source": [
    "# set the global file paths\n",
    "root_data_dir = \"../../Data\"\n",
    "\n",
    "# the lsms data\n",
    "lsms_pth = f\"{root_data_dir}/lsms/processed/labels_cluster_v1.csv\"\n",
    "\n",
    "# load the feature and the label data\n",
    "lsms_df = pd.read_csv(lsms_pth)\n",
    "\n",
    "# remove flagged ids form dataset\n",
    "lsms_df = lsms_df[~lsms_df.unique_id.isin(flagged_uids)].reset_index()\n",
    "\n",
    "# add delta id to data\n",
    "lsms_df['delta_id'] = lsms_df.unique_id\n",
    "\n",
    "# lsms_df with the normalised target variable\n",
    "lsms_df_norm = lsms_df.copy()\n",
    "lsms_df_norm['log_mean_pc_cons_usd_2017'] = (lsms_df_norm['log_mean_pc_cons_usd_2017'] - lsms_df_norm['log_mean_pc_cons_usd_2017'].mean())/lsms_df_norm['log_mean_pc_cons_usd_2017'].std() "
   ]
  },
  {
   "cell_type": "code",
   "execution_count": 5,
   "id": "6878a47c",
   "metadata": {},
   "outputs": [],
   "source": [
    "def print_results_dict(dictionary):\n",
    "    # Get the keys in the dictionary\n",
    "    keys = list(dictionary.keys())\n",
    "\n",
    "    # Get the number of entries in each fold\n",
    "    num_entries = len(dictionary[keys[0]])\n",
    "    \n",
    "    # Print the header row with fold names\n",
    "    header = [f\"Fold \\t {keys[0]} \\t {keys[1]} \\t {keys[2]}\"]\n",
    "    print(\"\".join(header))\n",
    "\n",
    "    # Iterate through the entries and print them in rows\n",
    "    for i in range(num_entries):\n",
    "        row = [f\"{i+1}\"]\n",
    "        for key in keys:\n",
    "            value = dictionary[key][i]\n",
    "            formatted_value = \"{:.4f}\".format(value)\n",
    "            row.append('\\t\\t')\n",
    "            row.append(formatted_value)\n",
    "        print(\"\".join(row))"
   ]
  },
  {
   "cell_type": "markdown",
   "id": "250ee011",
   "metadata": {},
   "source": [
    "## Consumption expenditure - Full model"
   ]
  },
  {
   "cell_type": "code",
   "execution_count": 6,
   "id": "7fdfc3b2",
   "metadata": {},
   "outputs": [
    {
     "name": "stdout",
     "output_type": "stream",
     "text": [
      "R2: {'overall': 0.3844386237299032, 'between': 0.4700126573842902, 'within': -0.010345140943119557}\n",
      "\n",
      "Tex output:\n",
      "& 0.4700 & -0.0103 & 0.3844\n",
      "\n",
      "MSE: {'overall': 0.216518287992741, 'between': 0.15630641664181993, 'within': 0.05663912594888358}\n",
      "\n",
      "Fold Performance (R2):\n",
      "Fold \t overall \t between \t within\n",
      "1\t\t0.4927\t\t0.5484\t\t-0.1034\n",
      "2\t\t0.3713\t\t0.4418\t\t0.0152\n",
      "3\t\t0.4202\t\t0.5111\t\t-0.0158\n",
      "4\t\t0.3316\t\t0.4263\t\t0.0218\n",
      "5\t\t0.3010\t\t0.4189\t\t0.0305\n"
     ]
    }
   ],
   "source": [
    "# load the within and between model results\n",
    "results_dir = \"results\"\n",
    "between_cons_pth = f\"{results_dir}/model_objects/between_cons.pkl\"\n",
    "within_cons_pth = f\"{results_dir}/model_objects/within_cons.pkl\"\n",
    "\n",
    "with open(between_cons_pth, 'rb') as f:\n",
    "    between_cons_cv = pickle.load(f)\n",
    "    \n",
    "with open(within_cons_pth, 'rb') as f:\n",
    "    within_cons_cv = pickle.load(f)\n",
    "\n",
    "combined_cons = CombinedModel(lsms_df, between_cons_cv, within_cons_cv)\n",
    "combined_cons.evaluate()\n",
    "results_cons_combined = combined_cons.compute_overall_performance(use_fold_weights = True)\n",
    "print(f\"R2: {results_cons_combined['r2']}\")\n",
    "\n",
    "print('\\nTex output:')\n",
    "combined_cons.print_tex('r2')\n",
    "\n",
    "print(f\"\\nMSE: {results_cons_combined['mse']}\")\n",
    "\n",
    "print('\\nFold Performance (R2):')\n",
    "print_results_dict(combined_cons.res_r2)"
   ]
  },
  {
   "cell_type": "markdown",
   "id": "1bf19096",
   "metadata": {},
   "source": [
    "## Consumption expenditure -- RGB Landsat"
   ]
  },
  {
   "cell_type": "code",
   "execution_count": 7,
   "id": "a57b64aa",
   "metadata": {},
   "outputs": [
    {
     "name": "stdout",
     "output_type": "stream",
     "text": [
      "R2: {'overall': 0.06634923112060229, 'between': 0.1785347684882714, 'within': -0.0021438570430164284}\n",
      "\n",
      "Tex output:\n",
      "& 0.1785 & -0.0021 & 0.0663\n",
      "\n",
      "MSE: {'overall': 0.8584840942857698, 'between': 0.7566866652017697, 'within': 1.0022619}\n",
      "\n",
      "Fold Performance (R2):\n",
      "Fold \t overall \t between \t within\n",
      "1\t\t0.0918\t\t0.1326\t\t-0.0133\n",
      "2\t\t0.1152\t\t0.2318\t\t0.0046\n",
      "3\t\t-0.1345\t\t0.0605\t\t-0.0288\n",
      "4\t\t0.1540\t\t0.2486\t\t0.0050\n",
      "5\t\t0.1152\t\t0.2239\t\t0.0217\n"
     ]
    }
   ],
   "source": [
    "# load the within and between model results\n",
    "results_dir = \"results\"\n",
    "between_cons_ls_pth = f\"{results_dir}/model_objects/between_cons_LS_cv.pkl\"\n",
    "within_cons_ls_pth = f\"{results_dir}/model_objects/within_cons_LS_cv.pkl\"\n",
    "\n",
    "with open(between_cons_ls_pth, 'rb') as f:\n",
    "    between_cons_ls = pickle.load(f)\n",
    "    \n",
    "with open(within_cons_ls_pth, 'rb') as f:\n",
    "    within_cons_ls = pickle.load(f)\n",
    "\n",
    "combined_cons_ls = CombinedModel(lsms_df_norm, between_cons_ls, within_cons_ls)\n",
    "\n",
    "combined_cons_ls.evaluate()\n",
    "results_cons_combined_ls = combined_cons_ls.compute_overall_performance(use_fold_weights = True)\n",
    "print(f\"R2: {results_cons_combined_ls['r2']}\")\n",
    "\n",
    "print('\\nTex output:')\n",
    "combined_cons_ls.print_tex('r2')\n",
    "\n",
    "print(f\"\\nMSE: {results_cons_combined_ls['mse']}\")\n",
    "\n",
    "print('\\nFold Performance (R2):')\n",
    "print_results_dict(combined_cons_ls.res_r2)"
   ]
  },
  {
   "cell_type": "markdown",
   "id": "4a0e6f51",
   "metadata": {},
   "source": [
    "## Consumption expenditure -- RS images"
   ]
  },
  {
   "cell_type": "code",
   "execution_count": 8,
   "id": "2f1f0991",
   "metadata": {},
   "outputs": [
    {
     "name": "stdout",
     "output_type": "stream",
     "text": [
      "R2: {'overall': 0.3057057835118867, 'between': 0.38905982455411, 'within': 0.008462319196773826}\n",
      "\n",
      "Tex output:\n",
      "& 0.3891 & 0.0085 & 0.3057\n",
      "\n",
      "MSE: {'overall': 0.6264404668330583, 'between': 0.5496754105573982, 'within': 0.9925707}\n",
      "\n",
      "Fold Performance (R2):\n",
      "Fold \t overall \t between \t within\n",
      "1\t\t0.4274\t\t0.4492\t\t0.0011\n",
      "2\t\t0.2577\t\t0.3747\t\t0.0135\n",
      "3\t\t0.3862\t\t0.4564\t\t0.0047\n",
      "4\t\t0.2332\t\t0.3190\t\t0.0123\n",
      "5\t\t0.2158\t\t0.3421\t\t0.0107\n"
     ]
    }
   ],
   "source": [
    "# load the within and between model results\n",
    "results_dir = \"results\"\n",
    "between_cons_rs_pth = f\"{results_dir}/model_objects/between_cons_RS_cv.pkl\"\n",
    "within_cons_rs_pth = f\"{results_dir}/model_objects/within_cons_RS_cv.pkl\"\n",
    "\n",
    "with open(between_cons_rs_pth, 'rb') as f:\n",
    "    between_cons_rs = pickle.load(f)\n",
    "    \n",
    "with open(within_cons_rs_pth, 'rb') as f:\n",
    "    within_cons_rs = pickle.load(f)\n",
    "#within_cons_rs.predictions['delta_id'] = lsms_df.unique_id\n",
    "\n",
    "combined_cons_rs = CombinedModel(lsms_df_norm, between_cons_rs, within_cons_rs)\n",
    "\n",
    "combined_cons_rs.evaluate()\n",
    "results_cons_combined_rs = combined_cons_rs.compute_overall_performance(use_fold_weights = True)\n",
    "print(f\"R2: {results_cons_combined_rs['r2']}\")\n",
    "print('\\nTex output:')\n",
    "combined_cons_rs.print_tex('r2')\n",
    "\n",
    "print(f\"\\nMSE: {results_cons_combined_rs['mse']}\")\n",
    "\n",
    "print('\\nFold Performance (R2):')\n",
    "print_results_dict(combined_cons_rs.res_r2)"
   ]
  },
  {
   "cell_type": "markdown",
   "id": "c312694d",
   "metadata": {},
   "source": [
    "# Asset index - Full model"
   ]
  },
  {
   "cell_type": "code",
   "execution_count": 9,
   "id": "47c657c0",
   "metadata": {},
   "outputs": [
    {
     "name": "stdout",
     "output_type": "stream",
     "text": [
      "R2: {'overall': 0.5086660544330386, 'between': 0.5417230937392483, 'within': 0.02370752397174105}\n",
      "\n",
      "Tex output:\n",
      "& 0.5417 & 0.0237 & 0.5087\n",
      "\n",
      "MSE: {'overall': 1.0851358498039378, 'between': 1.1072535025546855, 'within': 0.07405648002968442}\n",
      "\n",
      "Fold Performance (R2):\n",
      "Fold \t overall \t between \t within\n",
      "1\t\t0.6245\t\t0.6633\t\t-0.0029\n",
      "2\t\t0.6049\t\t0.6152\t\t0.0178\n",
      "3\t\t0.4609\t\t0.4909\t\t0.0393\n",
      "4\t\t0.4988\t\t0.5293\t\t0.0448\n",
      "5\t\t0.3522\t\t0.4029\t\t0.0195\n"
     ]
    }
   ],
   "source": [
    "# load the within and between model results\n",
    "results_dir = \"results\"\n",
    "between_asset_pth = f\"{results_dir}/model_objects/between_asset.pkl\"\n",
    "within_asset_pth = f\"{results_dir}/model_objects/within_asset.pkl\"\n",
    "\n",
    "with open(between_asset_pth, 'rb') as f:\n",
    "    between_asset_cv = pickle.load(f)\n",
    "    \n",
    "with open(within_asset_pth, 'rb') as f:\n",
    "    within_asset_cv = pickle.load(f)\n",
    "\n",
    "combined_asset= CombinedModel(lsms_df, between_asset_cv, within_asset_cv)\n",
    "combined_asset.evaluate()\n",
    "results_asset_combined = combined_asset.compute_overall_performance(use_fold_weights = True)\n",
    "print(f\"R2: {results_asset_combined['r2']}\")\n",
    "\n",
    "print('\\nTex output:')\n",
    "combined_asset.print_tex('r2')\n",
    "\n",
    "print(f\"\\nMSE: {results_asset_combined['mse']}\")\n",
    "\n",
    "print('\\nFold Performance (R2):')\n",
    "print_results_dict(combined_asset.res_r2)"
   ]
  },
  {
   "cell_type": "markdown",
   "id": "988008c6",
   "metadata": {},
   "source": [
    "## Asset index -- RGB images"
   ]
  },
  {
   "cell_type": "code",
   "execution_count": 10,
   "id": "fc58b344",
   "metadata": {},
   "outputs": [
    {
     "name": "stdout",
     "output_type": "stream",
     "text": [
      "R2: {'overall': 0.3072283701228052, 'between': 0.39582788988194384, 'within': -0.001205724074963399}\n",
      "\n",
      "Tex output:\n",
      "& 0.3958 & -0.0012 & 0.3072\n",
      "\n",
      "MSE: {'overall': 1.541819144567217, 'between': 0.552586328042181, 'within': 1.0028496}\n",
      "\n",
      "Fold Performance (R2):\n",
      "Fold \t overall \t between \t within\n",
      "1\t\t0.4115\t\t0.5925\t\t-0.0265\n",
      "2\t\t0.4161\t\t0.5437\t\t0.0151\n",
      "3\t\t0.3064\t\t0.3478\t\t0.0073\n",
      "4\t\t0.3047\t\t0.3827\t\t-0.0059\n",
      "5\t\t0.0921\t\t0.0960\t\t0.0040\n"
     ]
    }
   ],
   "source": [
    "# load the within and between model results\n",
    "results_dir = \"results\"\n",
    "between_asset_ls_pth = f\"{results_dir}/model_objects/between_asset_LS_cv.pkl\"\n",
    "within_asset_ls_pth = f\"{results_dir}/model_objects/within_asset_LS_cv.pkl\"\n",
    "\n",
    "with open(between_asset_ls_pth, 'rb') as f:\n",
    "    between_asset_ls = pickle.load(f)\n",
    "    \n",
    "with open(within_asset_ls_pth, 'rb') as f:\n",
    "    within_asset_ls = pickle.load(f)\n",
    "\n",
    "combined_asset_ls = CombinedModel(lsms_df_norm, between_asset_ls, within_asset_ls)\n",
    "\n",
    "combined_asset_ls.evaluate()\n",
    "results_asset_combined_ls = combined_asset_ls.compute_overall_performance(use_fold_weights = True)\n",
    "print(f\"R2: {results_asset_combined_ls['r2']}\")\n",
    "\n",
    "print('\\nTex output:')\n",
    "combined_asset_ls.print_tex('r2')\n",
    "\n",
    "print(f\"\\nMSE: {results_asset_combined_ls['mse']}\")\n",
    "\n",
    "print('\\nFold Performance (R2):')\n",
    "print_results_dict(combined_asset_ls.res_r2)"
   ]
  },
  {
   "cell_type": "markdown",
   "id": "6e22a7b1",
   "metadata": {},
   "source": [
    "## Asset index -- RS images"
   ]
  },
  {
   "cell_type": "code",
   "execution_count": 11,
   "id": "69fbcb03",
   "metadata": {},
   "outputs": [
    {
     "name": "stdout",
     "output_type": "stream",
     "text": [
      "R2: {'overall': 0.15634533188287117, 'between': 0.14527235985910825, 'within': -0.01275680362642222}\n",
      "\n",
      "Tex output:\n",
      "& 0.1453 & -0.0128 & 0.1563\n",
      "\n",
      "MSE: {'overall': 1.8414238780478103, 'between': 0.7665750399736085, 'within': 1.0149889}\n",
      "\n",
      "Fold Performance (R2):\n",
      "Fold \t overall \t between \t within\n",
      "1\t\t0.4496\t\t0.5880\t\t-0.0252\n",
      "2\t\t0.3472\t\t0.4575\t\t-0.0490\n",
      "3\t\t-0.0829\t\t-0.2795\t\t0.0172\n",
      "4\t\t0.2601\t\t0.3512\t\t0.0097\n",
      "5\t\t-0.1931\t\t-0.4154\t\t-0.0165\n"
     ]
    }
   ],
   "source": [
    "# load the within and between model results\n",
    "results_dir = \"results\"\n",
    "between_asset_rs_pth = f\"{results_dir}/model_objects/between_asset_RS_cv.pkl\"\n",
    "within_asset_rs_pth = f\"{results_dir}/model_objects/within_asset_RS_cv.pkl\"\n",
    "\n",
    "with open(between_asset_rs_pth, 'rb') as f:\n",
    "    between_asset_rs = pickle.load(f)\n",
    "    \n",
    "with open(within_asset_rs_pth, 'rb') as f:\n",
    "    within_asset_rs = pickle.load(f)\n",
    "\n",
    "combined_asset_rs = CombinedModel(lsms_df_norm, between_asset_rs, within_asset_rs)\n",
    "\n",
    "combined_asset_rs.evaluate()\n",
    "results_asset_combined_rs = combined_asset_rs.compute_overall_performance(use_fold_weights = True)\n",
    "print(f\"R2: {results_asset_combined_rs['r2']}\")\n",
    "\n",
    "print('\\nTex output:')\n",
    "combined_asset_rs.print_tex('r2')\n",
    "\n",
    "print(f\"\\nMSE: {results_asset_combined_rs['mse']}\")\n",
    "\n",
    "print('\\nFold Performance (R2):')\n",
    "print_results_dict(combined_asset_rs.res_r2)"
   ]
  },
  {
   "cell_type": "code",
   "execution_count": null,
   "id": "ca3c7d0c",
   "metadata": {},
   "outputs": [],
   "source": []
  }
 ],
 "metadata": {
  "kernelspec": {
   "display_name": "Python 3 (ipykernel)",
   "language": "python",
   "name": "python3"
  },
  "language_info": {
   "codemirror_mode": {
    "name": "ipython",
    "version": 3
   },
   "file_extension": ".py",
   "mimetype": "text/x-python",
   "name": "python",
   "nbconvert_exporter": "python",
   "pygments_lexer": "ipython3",
   "version": "3.10.12"
  }
 },
 "nbformat": 4,
 "nbformat_minor": 5
}
