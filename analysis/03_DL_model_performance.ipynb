{
 "cells": [
  {
   "cell_type": "code",
   "execution_count": 1,
   "id": "16de8c5a",
   "metadata": {},
   "outputs": [],
   "source": [
    "import pandas as pd\n",
    "import numpy as np\n",
    "import torch\n",
    "import pickle\n",
    "\n",
    "from sklearn.metrics import r2_score"
   ]
  },
  {
   "cell_type": "code",
   "execution_count": 2,
   "id": "4aae7d16",
   "metadata": {},
   "outputs": [],
   "source": [
    "from analysis_utils.CombinedModel import CombinedModel\n",
    "from analysis_utils.flagged_uids import flagged_uids\n",
    "from analysis_utils.spatial_CV import *\n",
    "from analysis_utils.variable_names import *"
   ]
  },
  {
   "cell_type": "code",
   "execution_count": 3,
   "id": "ca331ae5",
   "metadata": {},
   "outputs": [],
   "source": [
    "# set the global file paths\n",
    "root_data_dir = \"../../Data\"\n",
    "\n",
    "# the lsms data\n",
    "lsms_pth = f\"{root_data_dir}/lsms/processed/labels_cluster_v1.csv\"\n",
    "\n",
    "# load the feature and the label data\n",
    "lsms_df = pd.read_csv(lsms_pth)\n",
    "\n",
    "# remove flagged ids form dataset\n",
    "lsms_df = lsms_df[~lsms_df.unique_id.isin(flagged_uids)].reset_index()\n",
    "\n",
    "# add delta id to data\n",
    "lsms_df['delta_id'] = lsms_df.unique_id\n",
    "\n",
    "# lsms_df with the normalised target variable\n",
    "lsms_df_norm = lsms_df.copy()\n",
    "lsms_df_norm['log_mean_pc_cons_usd_2017'] = (lsms_df_norm['log_mean_pc_cons_usd_2017'] - lsms_df_norm['log_mean_pc_cons_usd_2017'].mean())/lsms_df_norm['log_mean_pc_cons_usd_2017'].std() "
   ]
  },
  {
   "cell_type": "code",
   "execution_count": 4,
   "id": "6878a47c",
   "metadata": {},
   "outputs": [],
   "source": [
    "def print_results_dict(dictionary):\n",
    "    # Get the keys in the dictionary\n",
    "    keys = list(dictionary.keys())\n",
    "\n",
    "    # Get the number of entries in each fold\n",
    "    num_entries = len(dictionary[keys[0]])\n",
    "    \n",
    "    # Print the header row with fold names\n",
    "    header = [f\"Fold \\t {keys[0]} \\t {keys[1]} \\t {keys[2]}\"]\n",
    "    print(\"\".join(header))\n",
    "\n",
    "    # Iterate through the entries and print them in rows\n",
    "    for i in range(num_entries):\n",
    "        row = [f\"{i+1}\"]\n",
    "        for key in keys:\n",
    "            value = dictionary[key][i]\n",
    "            formatted_value = \"{:.4f}\".format(value)\n",
    "            row.append('\\t\\t')\n",
    "            row.append(formatted_value)\n",
    "        print(\"\".join(row))"
   ]
  },
  {
   "cell_type": "markdown",
   "id": "250ee011",
   "metadata": {},
   "source": [
    "## Consumption expenditure - Full model"
   ]
  },
  {
   "cell_type": "code",
   "execution_count": 5,
   "id": "7fdfc3b2",
   "metadata": {},
   "outputs": [
    {
     "name": "stdout",
     "output_type": "stream",
     "text": [
      "R2: {'overall': 0.37354795387299544, 'between': 0.44844445387722087, 'within': 0.008093481748325183}\n",
      "\n",
      "Tex output:\n",
      "& 0.4484 & 0.0081 & 0.3735\n",
      "\n",
      "MSE: {'overall': 0.2189345822075508, 'between': 0.16118160603365803, 'within': 0.055572761879272826}\n",
      "\n",
      "Fold Performance (R2):\n",
      "Fold \t overall \t between \t within\n",
      "1\t\t0.5215\t\t0.5764\t\t-0.0039\n",
      "2\t\t0.3694\t\t0.4192\t\t-0.0032\n",
      "3\t\t0.4082\t\t0.4810\t\t0.0059\n",
      "4\t\t0.2888\t\t0.3707\t\t0.0208\n",
      "5\t\t0.2737\t\t0.3913\t\t0.0208\n"
     ]
    }
   ],
   "source": [
    "# load the within and between model results\n",
    "results_dir = \"results\"\n",
    "between_cons_pth = f\"{results_dir}/model_objects/between_cons.pkl\"\n",
    "within_cons_pth = f\"{results_dir}/model_objects/within_cons.pkl\"\n",
    "\n",
    "with open(between_cons_pth, 'rb') as f:\n",
    "    between_cons_cv = pickle.load(f)\n",
    "    \n",
    "with open(within_cons_pth, 'rb') as f:\n",
    "    within_cons_cv = pickle.load(f)\n",
    "\n",
    "combined_cons = CombinedModel(lsms_df, between_cons_cv, within_cons_cv)\n",
    "combined_cons.evaluate()\n",
    "results_cons_combined = combined_cons.compute_overall_performance(use_fold_weights = True)\n",
    "print(f\"R2: {results_cons_combined['r2']}\")\n",
    "\n",
    "print('\\nTex output:')\n",
    "combined_cons.print_tex('r2')\n",
    "\n",
    "print(f\"\\nMSE: {results_cons_combined['mse']}\")\n",
    "\n",
    "print('\\nFold Performance (R2):')\n",
    "print_results_dict(combined_cons.res_r2)"
   ]
  },
  {
   "cell_type": "markdown",
   "id": "1bf19096",
   "metadata": {},
   "source": [
    "## Consumption expenditure -- RGB Landsat"
   ]
  },
  {
   "cell_type": "code",
   "execution_count": 6,
   "id": "a57b64aa",
   "metadata": {},
   "outputs": [
    {
     "name": "stdout",
     "output_type": "stream",
     "text": [
      "R2: {'overall': 0.15151180675754178, 'between': 0.2380614097501642, 'within': -0.012435943199214839}\n",
      "\n",
      "Tex output:\n",
      "& 0.2381 & -0.0124 & 0.1515\n",
      "\n",
      "MSE: {'overall': 0.7553152315945647, 'between': 0.6708351454340425, 'within': 1.012957}\n",
      "\n",
      "Fold Performance (R2):\n",
      "Fold \t overall \t between \t within\n",
      "1\t\t0.4152\t\t0.4392\t\t-0.0193\n",
      "2\t\t0.0710\t\t0.1447\t\t-0.0000\n",
      "3\t\t0.2432\t\t0.3553\t\t-0.0368\n",
      "4\t\t-0.0330\t\t0.0970\t\t-0.0048\n",
      "5\t\t0.0500\t\t0.1474\t\t-0.0013\n"
     ]
    }
   ],
   "source": [
    "# load the within and between model results\n",
    "results_dir = \"results\"\n",
    "between_cons_ls_pth = f\"{results_dir}/model_objects/between_cons_LS_cv.pkl\"\n",
    "within_cons_ls_pth = f\"{results_dir}/model_objects/within_cons_LS_cv.pkl\"\n",
    "\n",
    "with open(between_cons_ls_pth, 'rb') as f:\n",
    "    between_cons_ls = pickle.load(f)\n",
    "    \n",
    "with open(within_cons_ls_pth, 'rb') as f:\n",
    "    within_cons_ls = pickle.load(f)\n",
    "\n",
    "combined_cons_ls = CombinedModel(lsms_df_norm, between_cons_ls, within_cons_ls)\n",
    "\n",
    "combined_cons_ls.evaluate()\n",
    "results_cons_combined_ls = combined_cons_ls.compute_overall_performance(use_fold_weights = True)\n",
    "print(f\"R2: {results_cons_combined_ls['r2']}\")\n",
    "\n",
    "print('\\nTex output:')\n",
    "combined_cons_ls.print_tex('r2')\n",
    "\n",
    "print(f\"\\nMSE: {results_cons_combined_ls['mse']}\")\n",
    "\n",
    "print('\\nFold Performance (R2):')\n",
    "print_results_dict(combined_cons_ls.res_r2)"
   ]
  },
  {
   "cell_type": "markdown",
   "id": "0f4f6dbb",
   "metadata": {},
   "source": [
    "## Consumption expenditure -- MS images"
   ]
  },
  {
   "cell_type": "code",
   "execution_count": 7,
   "id": "c2d3b4b8",
   "metadata": {},
   "outputs": [
    {
     "name": "stdout",
     "output_type": "stream",
     "text": [
      "R2: {'overall': 0.24085925581985226, 'between': 0.32938913554918553, 'within': 0.0019305886908217219}\n",
      "\n",
      "Tex output:\n",
      "& 0.3294 & 0.0019 & 0.2409\n",
      "\n",
      "MSE: {'overall': 0.6731676971974084, 'between': 0.589787778801712, 'within': 0.99882174}\n",
      "\n",
      "Fold Performance (R2):\n",
      "Fold \t overall \t between \t within\n",
      "1\t\t0.4871\t\t0.5286\t\t-0.0043\n",
      "2\t\t0.1954\t\t0.2527\t\t-0.0002\n",
      "3\t\t0.1638\t\t0.2464\t\t0.0002\n",
      "4\t\t0.1917\t\t0.3335\t\t0.0004\n",
      "5\t\t0.1630\t\t0.2855\t\t0.0136\n"
     ]
    }
   ],
   "source": [
    "# load the within and between model results\n",
    "results_dir = \"results\"\n",
    "between_cons_ms_pth = f\"{results_dir}/model_objects/between_cons_MS_cv.pkl\"\n",
    "within_cons_ms_pth = f\"{results_dir}/model_objects/within_cons_MS_cv.pkl\"\n",
    "\n",
    "with open(between_cons_ms_pth, 'rb') as f:\n",
    "    between_cons_ms = pickle.load(f)\n",
    "    \n",
    "with open(within_cons_ms_pth, 'rb') as f:\n",
    "    within_cons_ms = pickle.load(f)\n",
    "\n",
    "combined_cons_ms = CombinedModel(lsms_df_norm, between_cons_ms, within_cons_ms)\n",
    "\n",
    "combined_cons_ms.evaluate()\n",
    "results_cons_combined_ms = combined_cons_ms.compute_overall_performance(use_fold_weights = True)\n",
    "print(f\"R2: {results_cons_combined_ms['r2']}\")\n",
    "\n",
    "print('\\nTex output:')\n",
    "combined_cons_ms.print_tex('r2')\n",
    "\n",
    "print(f\"\\nMSE: {results_cons_combined_ms['mse']}\")\n",
    "\n",
    "print('\\nFold Performance (R2):')\n",
    "print_results_dict(combined_cons_ms.res_r2)"
   ]
  },
  {
   "cell_type": "markdown",
   "id": "4a0e6f51",
   "metadata": {},
   "source": [
    "## Consumption expenditure -- RS images"
   ]
  },
  {
   "cell_type": "code",
   "execution_count": 8,
   "id": "2f1f0991",
   "metadata": {},
   "outputs": [
    {
     "name": "stdout",
     "output_type": "stream",
     "text": [
      "R2: {'overall': 0.23692466618596075, 'between': 0.3566787434956019, 'within': -0.014295974233413843}\n",
      "\n",
      "Tex output:\n",
      "& 0.3567 & -0.0143 & 0.2369\n",
      "\n",
      "MSE: {'overall': 0.6720954078337877, 'between': 0.558671315795833, 'within': 1.0143683}\n",
      "\n",
      "Fold Performance (R2):\n",
      "Fold \t overall \t between \t within\n",
      "1\t\t0.5220\t\t0.5874\t\t-0.0202\n",
      "2\t\t0.1542\t\t0.2591\t\t-0.0120\n",
      "3\t\t0.2386\t\t0.4512\t\t-0.0493\n",
      "4\t\t0.1466\t\t0.2392\t\t0.0125\n",
      "5\t\t0.1142\t\t0.2386\t\t-0.0026\n"
     ]
    }
   ],
   "source": [
    "# load the within and between model results\n",
    "results_dir = \"results\"\n",
    "between_cons_rs_pth = f\"{results_dir}/model_objects/between_cons_RS_cv.pkl\"\n",
    "within_cons_rs_pth = f\"{results_dir}/model_objects/within_cons_RS_cv.pkl\"\n",
    "\n",
    "with open(between_cons_rs_pth, 'rb') as f:\n",
    "    between_cons_rs = pickle.load(f)\n",
    "    \n",
    "with open(within_cons_rs_pth, 'rb') as f:\n",
    "    within_cons_rs = pickle.load(f)\n",
    "#within_cons_rs.predictions['delta_id'] = lsms_df.unique_id\n",
    "\n",
    "combined_cons_rs = CombinedModel(lsms_df_norm, between_cons_rs, within_cons_rs)\n",
    "\n",
    "combined_cons_rs.evaluate()\n",
    "results_cons_combined_rs = combined_cons_rs.compute_overall_performance(use_fold_weights = True)\n",
    "print(f\"R2: {results_cons_combined_rs['r2']}\")\n",
    "print('\\nTex output:')\n",
    "combined_cons_rs.print_tex('r2')\n",
    "\n",
    "print(f\"\\nMSE: {results_cons_combined_rs['mse']}\")\n",
    "\n",
    "print('\\nFold Performance (R2):')\n",
    "print_results_dict(combined_cons_rs.res_r2)"
   ]
  },
  {
   "cell_type": "markdown",
   "id": "c312694d",
   "metadata": {},
   "source": [
    "# Asset index - Full model"
   ]
  },
  {
   "cell_type": "code",
   "execution_count": 9,
   "id": "47c657c0",
   "metadata": {},
   "outputs": [
    {
     "name": "stdout",
     "output_type": "stream",
     "text": [
      "R2: {'overall': 0.5287710011382827, 'between': 0.5640425172460577, 'within': 0.032482750018734505}\n",
      "\n",
      "Tex output:\n",
      "& 0.5640 & 0.0325 & 0.5288\n",
      "\n",
      "MSE: {'overall': 1.0486109882435282, 'between': 1.060152961844711, 'within': 0.07321724432322547}\n",
      "\n",
      "Fold Performance (R2):\n",
      "Fold \t overall \t between \t within\n",
      "1\t\t0.6026\t\t0.6594\t\t0.0148\n",
      "2\t\t0.6075\t\t0.6112\t\t0.0464\n",
      "3\t\t0.5249\t\t0.5539\t\t0.0489\n",
      "4\t\t0.5088\t\t0.5353\t\t0.0368\n",
      "5\t\t0.3971\t\t0.4543\t\t0.0156\n"
     ]
    }
   ],
   "source": [
    "# load the within and between model results\n",
    "results_dir = \"results\"\n",
    "between_asset_pth = f\"{results_dir}/model_objects/between_asset.pkl\"\n",
    "within_asset_pth = f\"{results_dir}/model_objects/within_asset.pkl\"\n",
    "\n",
    "with open(between_asset_pth, 'rb') as f:\n",
    "    between_asset_cv = pickle.load(f)\n",
    "    \n",
    "with open(within_asset_pth, 'rb') as f:\n",
    "    within_asset_cv = pickle.load(f)\n",
    "\n",
    "combined_asset= CombinedModel(lsms_df, between_asset_cv, within_asset_cv)\n",
    "combined_asset.evaluate()\n",
    "results_asset_combined = combined_asset.compute_overall_performance(use_fold_weights = True)\n",
    "print(f\"R2: {results_asset_combined['r2']}\")\n",
    "\n",
    "print('\\nTex output:')\n",
    "combined_asset.print_tex('r2')\n",
    "\n",
    "print(f\"\\nMSE: {results_asset_combined['mse']}\")\n",
    "\n",
    "print('\\nFold Performance (R2):')\n",
    "print_results_dict(combined_asset.res_r2)"
   ]
  },
  {
   "cell_type": "markdown",
   "id": "988008c6",
   "metadata": {},
   "source": [
    "## Asset index -- RGB images"
   ]
  },
  {
   "cell_type": "code",
   "execution_count": 10,
   "id": "fc58b344",
   "metadata": {},
   "outputs": [
    {
     "name": "stdout",
     "output_type": "stream",
     "text": [
      "R2: {'overall': 0.3237998095240234, 'between': 0.4619510149523673, 'within': -0.05570842192597003}\n",
      "\n",
      "Tex output:\n",
      "& 0.4620 & -0.0557 & 0.3238\n",
      "\n",
      "MSE: {'overall': 1.5146265488449118, 'between': 0.49836870506966024, 'within': 1.0461318}\n",
      "\n",
      "Fold Performance (R2):\n",
      "Fold \t overall \t between \t within\n",
      "1\t\t0.4408\t\t0.5943\t\t0.0039\n",
      "2\t\t0.3819\t\t0.5542\t\t-0.0165\n",
      "3\t\t0.1932\t\t0.3949\t\t-0.2828\n",
      "4\t\t0.3615\t\t0.4247\t\t0.0168\n",
      "5\t\t0.2440\t\t0.3356\t\t0.0000\n"
     ]
    }
   ],
   "source": [
    "# load the within and between model results\n",
    "results_dir = \"results\"\n",
    "between_asset_ls_pth = f\"{results_dir}/model_objects/between_asset_LS_cv.pkl\"\n",
    "within_asset_ls_pth = f\"{results_dir}/model_objects/within_asset_LS_cv.pkl\"\n",
    "\n",
    "with open(between_asset_ls_pth, 'rb') as f:\n",
    "    between_asset_ls = pickle.load(f)\n",
    "    \n",
    "with open(within_asset_ls_pth, 'rb') as f:\n",
    "    within_asset_ls = pickle.load(f)\n",
    "\n",
    "combined_asset_ls = CombinedModel(lsms_df_norm, between_asset_ls, within_asset_ls)\n",
    "\n",
    "combined_asset_ls.evaluate()\n",
    "results_asset_combined_ls = combined_asset_ls.compute_overall_performance(use_fold_weights = True)\n",
    "print(f\"R2: {results_asset_combined_ls['r2']}\")\n",
    "\n",
    "print('\\nTex output:')\n",
    "combined_asset_ls.print_tex('r2')\n",
    "\n",
    "print(f\"\\nMSE: {results_asset_combined_ls['mse']}\")\n",
    "\n",
    "print('\\nFold Performance (R2):')\n",
    "print_results_dict(combined_asset_ls.res_r2)"
   ]
  },
  {
   "cell_type": "markdown",
   "id": "6e22a7b1",
   "metadata": {},
   "source": [
    "## Asset index -- RS images"
   ]
  },
  {
   "cell_type": "code",
   "execution_count": 11,
   "id": "69fbcb03",
   "metadata": {},
   "outputs": [
    {
     "name": "stdout",
     "output_type": "stream",
     "text": [
      "R2: {'overall': 0.3267188252317363, 'between': 0.34636288760358247, 'within': -0.0010206133378735326}\n",
      "\n",
      "Tex output:\n",
      "& 0.3464 & -0.0010 & 0.3267\n",
      "\n",
      "MSE: {'overall': 1.505437637766029, 'between': 0.6052104550924965, 'within': 0.9994925}\n",
      "\n",
      "Fold Performance (R2):\n",
      "Fold \t overall \t between \t within\n",
      "1\t\t0.4667\t\t0.4450\t\t-0.0023\n",
      "2\t\t0.4096\t\t0.5175\t\t0.0116\n",
      "3\t\t0.3632\t\t0.3878\t\t-0.0179\n",
      "4\t\t0.1445\t\t0.0974\t\t0.0145\n",
      "5\t\t0.2465\t\t0.2793\t\t-0.0111\n"
     ]
    }
   ],
   "source": [
    "# load the within and between model results\n",
    "results_dir = \"results\"\n",
    "between_asset_rs_pth = f\"{results_dir}/model_objects/between_asset_RS_cv.pkl\"\n",
    "within_asset_rs_pth = f\"{results_dir}/model_objects/within_asset_RS_cv.pkl\"\n",
    "\n",
    "with open(between_asset_rs_pth, 'rb') as f:\n",
    "    between_asset_rs = pickle.load(f)\n",
    "    \n",
    "with open(within_asset_rs_pth, 'rb') as f:\n",
    "    within_asset_rs = pickle.load(f)\n",
    "\n",
    "combined_asset_rs = CombinedModel(lsms_df_norm, between_asset_rs, within_asset_rs)\n",
    "\n",
    "combined_asset_rs.evaluate()\n",
    "results_asset_combined_rs = combined_asset_rs.compute_overall_performance(use_fold_weights = True)\n",
    "print(f\"R2: {results_asset_combined_rs['r2']}\")\n",
    "\n",
    "print('\\nTex output:')\n",
    "combined_asset_rs.print_tex('r2')\n",
    "\n",
    "print(f\"\\nMSE: {results_asset_combined_rs['mse']}\")\n",
    "\n",
    "print('\\nFold Performance (R2):')\n",
    "print_results_dict(combined_asset_rs.res_r2)"
   ]
  },
  {
   "cell_type": "markdown",
   "id": "f5689990",
   "metadata": {},
   "source": [
    "## Asset Index - MS images"
   ]
  },
  {
   "cell_type": "code",
   "execution_count": 12,
   "id": "618c0d3d",
   "metadata": {},
   "outputs": [
    {
     "name": "stdout",
     "output_type": "stream",
     "text": [
      "R2: {'overall': 0.36037754850405057, 'between': 0.4549363977852485, 'within': -0.021413154280719993}\n",
      "\n",
      "Tex output:\n",
      "& 0.4549 & -0.0214 & 0.3604\n",
      "\n",
      "MSE: {'overall': 1.4198382373183949, 'between': 0.5083236585938392, 'within': 1.0136703}\n",
      "\n",
      "Fold Performance (R2):\n",
      "Fold \t overall \t between \t within\n",
      "1\t\t0.5495\t\t0.5229\t\t-0.0000\n",
      "2\t\t0.4040\t\t0.5293\t\t0.0234\n",
      "3\t\t0.3163\t\t0.4315\t\t0.0147\n",
      "4\t\t0.3643\t\t0.4619\t\t0.0046\n",
      "5\t\t0.1621\t\t0.3216\t\t-0.1498\n"
     ]
    }
   ],
   "source": [
    "# load the within and between model results\n",
    "results_dir = \"results\"\n",
    "between_asset_ms_pth = f\"{results_dir}/model_objects/between_asset_MS_cv.pkl\"\n",
    "within_asset_ms_pth = f\"{results_dir}/model_objects/within_asset_MS_cv.pkl\"\n",
    "\n",
    "with open(between_asset_ms_pth, 'rb') as f:\n",
    "    between_asset_ms = pickle.load(f)\n",
    "    \n",
    "with open(within_asset_ms_pth, 'rb') as f:\n",
    "    within_asset_ms = pickle.load(f)\n",
    "\n",
    "combined_asset_ms = CombinedModel(lsms_df_norm, between_asset_ms, within_asset_ms)\n",
    "\n",
    "combined_asset_ms.evaluate()\n",
    "results_asset_combined_ms = combined_asset_ms.compute_overall_performance(use_fold_weights = True)\n",
    "print(f\"R2: {results_asset_combined_ms['r2']}\")\n",
    "\n",
    "print('\\nTex output:')\n",
    "combined_asset_ms.print_tex('r2')\n",
    "\n",
    "print(f\"\\nMSE: {results_asset_combined_ms['mse']}\")\n",
    "\n",
    "print('\\nFold Performance (R2):')\n",
    "print_results_dict(combined_asset_ms.res_r2)"
   ]
  },
  {
   "cell_type": "markdown",
   "id": "cc95d21a",
   "metadata": {},
   "source": [
    "# Save results"
   ]
  },
  {
   "cell_type": "code",
   "execution_count": 13,
   "id": "c89abd2f",
   "metadata": {},
   "outputs": [],
   "source": [
    "dl_res = {}\n",
    "\n",
    "dl_res['cons_combined'] = copy.deepcopy(results_cons_combined['r2'])\n",
    "dl_res['cons_rgb'] = copy.deepcopy(results_cons_combined_ls['r2'])\n",
    "dl_res['cons_ms'] = copy.deepcopy(results_cons_combined_ms['r2'])\n",
    "dl_res['cons_rs'] = copy.deepcopy(results_cons_combined_rs['r2'])\n",
    "\n",
    "dl_res['asset_combined'] = copy.deepcopy(results_asset_combined['r2'])\n",
    "dl_res['asset_rgb'] = copy.deepcopy(results_asset_combined_ls['r2'])\n",
    "dl_res['asset_ms'] = copy.deepcopy(results_asset_combined_ms['r2'])\n",
    "dl_res['asset_rs'] = copy.deepcopy(results_asset_combined_rs['r2'])\n",
    "\n",
    "# rename the entries of each dictionary:\n",
    "for model_name, res in dl_res.items():\n",
    "    for k, v in list(res.items()):\n",
    "        new_key = k + \"_r2\"\n",
    "        res[new_key] = v\n",
    "        del res[k]\n",
    "    dl_res[model_name] = res\n",
    "\n",
    "\n",
    "with open(\"results/deep_learning_res.pkl\", 'wb') as f:\n",
    "    pickle.dump(dl_res, f)"
   ]
  },
  {
   "cell_type": "code",
   "execution_count": null,
   "id": "759ea830",
   "metadata": {},
   "outputs": [],
   "source": []
  }
 ],
 "metadata": {
  "kernelspec": {
   "display_name": "Python 3 (ipykernel)",
   "language": "python",
   "name": "python3"
  },
  "language_info": {
   "codemirror_mode": {
    "name": "ipython",
    "version": 3
   },
   "file_extension": ".py",
   "mimetype": "text/x-python",
   "name": "python",
   "nbconvert_exporter": "python",
   "pygments_lexer": "ipython3",
   "version": "3.10.12"
  }
 },
 "nbformat": 4,
 "nbformat_minor": 5
}
