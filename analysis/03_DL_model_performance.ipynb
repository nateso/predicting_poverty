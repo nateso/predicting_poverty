{
 "cells": [
  {
   "cell_type": "code",
   "execution_count": 1,
   "id": "16de8c5a",
   "metadata": {},
   "outputs": [],
   "source": [
    "import pandas as pd\n",
    "import numpy as np\n",
    "import torch\n",
    "import pickle\n",
    "\n",
    "from sklearn.metrics import r2_score"
   ]
  },
  {
   "cell_type": "code",
   "execution_count": 5,
   "id": "7fdfc3b2",
   "metadata": {},
   "outputs": [],
   "source": [
    "# load the consumption and the asset model \n",
    "results_dir = \"results\"\n",
    "between_cons_pth = f\"{results_dir}/model_objects/between_cons.pkl\"\n",
    "between_asset_pth = f\"{results_dir}/model_objects/between_asset.pkl\"\n",
    "\n",
    "with open(between_cons_pth, 'rb') as f:\n",
    "    between_cons_cv = pickle.load(f)\n",
    "    \n",
    "with open(between_asset_pth, 'rb') as f:\n",
    "    between_asset_cv = pickle.load(f)"
   ]
  },
  {
   "cell_type": "code",
   "execution_count": 27,
   "id": "c92a7821",
   "metadata": {},
   "outputs": [
    {
     "name": "stdout",
     "output_type": "stream",
     "text": [
      "Target: consumption expenditure\n",
      "\tBetween R2 LS + RS + OSM + P: 0.5240\n",
      "\tBetween R2 LS: 0.2365\n",
      "\tBetween R2 RS: 0.2892\n",
      "\n",
      "\n",
      "Target: asset index\n",
      "\tBetween R2 LS + RS + OSM + P: 0.6899\n",
      "\tBetween R2 LS: 0.4017\n",
      "\tBetween R2 RS: 0.3079\n",
      "\n",
      "\n"
     ]
    }
   ],
   "source": [
    "# print the performance for the consumption expenditure model\n",
    "val_weights = between_cons_cv.get_fold_weights()[0]\n",
    "print(\"Target: consumption expenditure\")\n",
    "print(f\"\\tBetween R2 LS + RS + OSM + P: {between_cons_cv.compute_overall_performance()['val_r2']:.4f}\")\n",
    "print(f\"\\tBetween R2 LS: {np.average(between_cons_cv.ls_r2['val'], weights = val_weights):.4f}\")\n",
    "print(f\"\\tBetween R2 RS: {np.average(between_cons_cv.rs_r2['val'], weights = val_weights):.4f}\")\n",
    "print('\\n')\n",
    "print(\"Target: asset index\")\n",
    "print(f\"\\tBetween R2 LS + RS + OSM + P: {between_asset_cv.compute_overall_performance()['val_r2']:.4f}\")\n",
    "print(f\"\\tBetween R2 LS: {np.average(between_asset_cv.ls_r2['val'], weights = val_weights):.4f}\")\n",
    "print(f\"\\tBetween R2 RS: {np.average(between_asset_cv.rs_r2['val'], weights = val_weights):.4f}\")\n",
    "print('\\n')"
   ]
  },
  {
   "cell_type": "code",
   "execution_count": 13,
   "id": "3225c2dc",
   "metadata": {},
   "outputs": [
    {
     "ename": "TypeError",
     "evalue": "'NoneType' object is not subscriptable",
     "output_type": "error",
     "traceback": [
      "\u001b[0;31m---------------------------------------------------------------------------\u001b[0m",
      "\u001b[0;31mTypeError\u001b[0m                                 Traceback (most recent call last)",
      "Cell \u001b[0;32mIn[13], line 1\u001b[0m\n\u001b[0;32m----> 1\u001b[0m \u001b[43mbetween_cons_cv\u001b[49m\u001b[38;5;241;43m.\u001b[39;49m\u001b[43mget_feature_importance\u001b[49m\u001b[43m(\u001b[49m\u001b[43m)\u001b[49m\n",
      "File \u001b[0;32m~/Documents/AngSt/master_thesis/data_analysis/predicting_poverty/analysis/analysis_utils/torch_framework/LsRsCombinedModel.py:192\u001b[0m, in \u001b[0;36mLsRsCombinedModel.get_feature_importance\u001b[0;34m(self)\u001b[0m\n\u001b[1;32m    190\u001b[0m feat_imp \u001b[38;5;241m=\u001b[39m []\n\u001b[1;32m    191\u001b[0m \u001b[38;5;28;01mfor\u001b[39;00m fold \u001b[38;5;129;01min\u001b[39;00m \u001b[38;5;28mrange\u001b[39m(\u001b[38;5;28mlen\u001b[39m(\u001b[38;5;28mself\u001b[39m\u001b[38;5;241m.\u001b[39mfold_ids\u001b[38;5;241m.\u001b[39mkeys())):\n\u001b[0;32m--> 192\u001b[0m     feat_imp\u001b[38;5;241m.\u001b[39mappend(\u001b[38;5;28;43mself\u001b[39;49m\u001b[38;5;241;43m.\u001b[39;49m\u001b[43mmodels\u001b[49m\u001b[43m[\u001b[49m\u001b[43mfold\u001b[49m\u001b[43m]\u001b[49m\u001b[38;5;241m.\u001b[39mfeature_importances_)\n\u001b[1;32m    194\u001b[0m mean_feat_imp \u001b[38;5;241m=\u001b[39m pd\u001b[38;5;241m.\u001b[39mDataFrame({\n\u001b[1;32m    195\u001b[0m     \u001b[38;5;124m'\u001b[39m\u001b[38;5;124mvariable_name\u001b[39m\u001b[38;5;124m'\u001b[39m: \u001b[38;5;28mself\u001b[39m\u001b[38;5;241m.\u001b[39mfeat_names,\n\u001b[1;32m    196\u001b[0m     \u001b[38;5;124m'\u001b[39m\u001b[38;5;124mfeat_importance\u001b[39m\u001b[38;5;124m'\u001b[39m: np\u001b[38;5;241m.\u001b[39mmean(np\u001b[38;5;241m.\u001b[39mvstack(feat_imp)\u001b[38;5;241m.\u001b[39mT, axis\u001b[38;5;241m=\u001b[39m\u001b[38;5;241m1\u001b[39m)\n\u001b[1;32m    197\u001b[0m })\n\u001b[1;32m    199\u001b[0m mean_feat_imp \u001b[38;5;241m=\u001b[39m mean_feat_imp\u001b[38;5;241m.\u001b[39msort_values(by\u001b[38;5;241m=\u001b[39m\u001b[38;5;124m'\u001b[39m\u001b[38;5;124mfeat_importance\u001b[39m\u001b[38;5;124m'\u001b[39m, ascending\u001b[38;5;241m=\u001b[39m\u001b[38;5;28;01mTrue\u001b[39;00m)\n",
      "\u001b[0;31mTypeError\u001b[0m: 'NoneType' object is not subscriptable"
     ]
    }
   ],
   "source": [
    "between_cons_cv.get_feature_importance()"
   ]
  },
  {
   "cell_type": "code",
   "execution_count": 2,
   "id": "af2e7945",
   "metadata": {},
   "outputs": [],
   "source": [
    "results_dir = \"results\"\n",
    "\n",
    "between_cons_LS_pth = f\"{results_dir}/model_objects/between_cons_LS_cv.pkl\"\n",
    "between_cons_RS_pth = f\"{results_dir}/model_objects/between_cons_RS_cv.pkl\"\n",
    "between_cons_pth = f\"{results_dir}/model_objects/between_cons.pkl\""
   ]
  },
  {
   "cell_type": "code",
   "execution_count": 74,
   "id": "7dc6f6ea",
   "metadata": {},
   "outputs": [],
   "source": [
    "between_asset_LS_pth = f\"{results_dir}/model_objects/between_asset_LS_cv.pkl\"\n",
    "between_asset_RS_pth = f\"{results_dir}/model_objects/between_asset_RS_cv.pkl\"\n",
    "between_asset_pth = f\"{results_dir}/model_objects/between_asset.pkl\""
   ]
  },
  {
   "cell_type": "code",
   "execution_count": 3,
   "id": "e64cb6c8",
   "metadata": {},
   "outputs": [],
   "source": [
    "with open(between_cons_LS_pth, 'rb') as f: \n",
    "    between_cons_ls_cv = pickle.load(f)\n",
    "    \n",
    "with open(between_cons_RS_pth, 'rb') as f:\n",
    "    between_cons_rs_cv = pickle.load(f)\n",
    "    \n",
    "with open(between_cons_pth, 'rb') as f:\n",
    "    between_cons_cv = pickle.load(f)"
   ]
  },
  {
   "cell_type": "code",
   "execution_count": 5,
   "id": "a7cc5e7e",
   "metadata": {},
   "outputs": [],
   "source": [
    "with open(between_asset_LS_pth, 'rb') as f: \n",
    "    between_asset_ls_cv = pickle.load(f)\n",
    "    \n",
    "with open(between_asset_RS_pth, 'rb') as f:\n",
    "    between_asset_rs_cv = pickle.load(f)\n",
    "    \n",
    "with open(between_asset_pth, 'rb') as f:\n",
    "    between_asset_cv = pickle.load(f)"
   ]
  },
  {
   "cell_type": "code",
   "execution_count": 6,
   "id": "95201994",
   "metadata": {},
   "outputs": [
    {
     "data": {
      "text/plain": [
       "{'train_r2': 0.9491080230717786,\n",
       " 'train_mse': 0.016321086321030822,\n",
       " 'val_r2': 0.5196389660765651,\n",
       " 'val_mse': 0.13930157844183633}"
      ]
     },
     "execution_count": 6,
     "metadata": {},
     "output_type": "execute_result"
    }
   ],
   "source": [
    "between_cons_cv.compute_overall_performance()"
   ]
  },
  {
   "cell_type": "code",
   "execution_count": 7,
   "id": "cba561cc",
   "metadata": {},
   "outputs": [
    {
     "ename": "TypeError",
     "evalue": "'NoneType' object is not subscriptable",
     "output_type": "error",
     "traceback": [
      "\u001b[0;31m---------------------------------------------------------------------------\u001b[0m",
      "\u001b[0;31mTypeError\u001b[0m                                 Traceback (most recent call last)",
      "Cell \u001b[0;32mIn[7], line 1\u001b[0m\n\u001b[0;32m----> 1\u001b[0m \u001b[43mbetween_cons_cv\u001b[49m\u001b[38;5;241;43m.\u001b[39;49m\u001b[43mplot_feature_importance\u001b[49m\u001b[43m(\u001b[49m\u001b[43m)\u001b[49m\n",
      "File \u001b[0;32m~/Documents/AngSt/master_thesis/data_analysis/predicting_poverty/analysis/analysis_utils/torch_framework/BetweenModel.py:200\u001b[0m, in \u001b[0;36mBetweenModel.plot_feature_importance\u001b[0;34m(self, fname, varnames)\u001b[0m\n\u001b[1;32m    199\u001b[0m \u001b[38;5;28;01mdef\u001b[39;00m \u001b[38;5;21mplot_feature_importance\u001b[39m(\u001b[38;5;28mself\u001b[39m, fname\u001b[38;5;241m=\u001b[39m\u001b[38;5;28;01mNone\u001b[39;00m, varnames\u001b[38;5;241m=\u001b[39m\u001b[38;5;28;01mNone\u001b[39;00m):\n\u001b[0;32m--> 200\u001b[0m     feat_imp \u001b[38;5;241m=\u001b[39m \u001b[38;5;28;43mself\u001b[39;49m\u001b[38;5;241;43m.\u001b[39;49m\u001b[43mget_feature_importance\u001b[49m\u001b[43m(\u001b[49m\u001b[43m)\u001b[49m\n\u001b[1;32m    201\u001b[0m     \u001b[38;5;28;01mif\u001b[39;00m \u001b[38;5;129;01mnot\u001b[39;00m varnames:\n\u001b[1;32m    202\u001b[0m         varnames \u001b[38;5;241m=\u001b[39m feat_imp[\u001b[38;5;124m'\u001b[39m\u001b[38;5;124mvariable_name\u001b[39m\u001b[38;5;124m'\u001b[39m]\n",
      "File \u001b[0;32m~/Documents/AngSt/master_thesis/data_analysis/predicting_poverty/analysis/analysis_utils/torch_framework/BetweenModel.py:189\u001b[0m, in \u001b[0;36mBetweenModel.get_feature_importance\u001b[0;34m(self)\u001b[0m\n\u001b[1;32m    187\u001b[0m feat_imp \u001b[38;5;241m=\u001b[39m []\n\u001b[1;32m    188\u001b[0m \u001b[38;5;28;01mfor\u001b[39;00m fold \u001b[38;5;129;01min\u001b[39;00m \u001b[38;5;28mrange\u001b[39m(\u001b[38;5;28mlen\u001b[39m(\u001b[38;5;28mself\u001b[39m\u001b[38;5;241m.\u001b[39mfold_ids\u001b[38;5;241m.\u001b[39mkeys())):\n\u001b[0;32m--> 189\u001b[0m     feat_imp\u001b[38;5;241m.\u001b[39mappend(\u001b[38;5;28;43mself\u001b[39;49m\u001b[38;5;241;43m.\u001b[39;49m\u001b[43mmodels\u001b[49m\u001b[43m[\u001b[49m\u001b[43mfold\u001b[49m\u001b[43m]\u001b[49m\u001b[38;5;241m.\u001b[39mfeature_importances_)\n\u001b[1;32m    191\u001b[0m mean_feat_imp \u001b[38;5;241m=\u001b[39m pd\u001b[38;5;241m.\u001b[39mDataFrame({\n\u001b[1;32m    192\u001b[0m     \u001b[38;5;124m'\u001b[39m\u001b[38;5;124mvariable_name\u001b[39m\u001b[38;5;124m'\u001b[39m: \u001b[38;5;28mself\u001b[39m\u001b[38;5;241m.\u001b[39mfeat_names,\n\u001b[1;32m    193\u001b[0m     \u001b[38;5;124m'\u001b[39m\u001b[38;5;124mfeat_importance\u001b[39m\u001b[38;5;124m'\u001b[39m: np\u001b[38;5;241m.\u001b[39mmean(np\u001b[38;5;241m.\u001b[39mvstack(feat_imp)\u001b[38;5;241m.\u001b[39mT, axis\u001b[38;5;241m=\u001b[39m\u001b[38;5;241m1\u001b[39m)\n\u001b[1;32m    194\u001b[0m })\n\u001b[1;32m    196\u001b[0m mean_feat_imp \u001b[38;5;241m=\u001b[39m mean_feat_imp\u001b[38;5;241m.\u001b[39msort_values(by\u001b[38;5;241m=\u001b[39m\u001b[38;5;124m'\u001b[39m\u001b[38;5;124mfeat_importance\u001b[39m\u001b[38;5;124m'\u001b[39m, ascending\u001b[38;5;241m=\u001b[39m\u001b[38;5;28;01mTrue\u001b[39;00m)\n",
      "\u001b[0;31mTypeError\u001b[0m: 'NoneType' object is not subscriptable"
     ]
    }
   ],
   "source": [
    "between_cons_cv.plot_feature_importance()"
   ]
  },
  {
   "cell_type": "code",
   "execution_count": 77,
   "id": "da9c3de2",
   "metadata": {},
   "outputs": [
    {
     "data": {
      "text/plain": [
       "{'train': [0.8754869099811048,\n",
       "  0.48981622362866606,\n",
       "  0.4409219991730289,\n",
       "  0.5066746491971172,\n",
       "  0.485604452074612],\n",
       " 'val': [0.20968970158446076,\n",
       "  0.11282379055203018,\n",
       "  0.3123343084688449,\n",
       "  0.28274812897248147,\n",
       "  0.2653407053519967]}"
      ]
     },
     "execution_count": 77,
     "metadata": {},
     "output_type": "execute_result"
    }
   ],
   "source": [
    "between_cons_ls_cv.res_r2"
   ]
  },
  {
   "cell_type": "code",
   "execution_count": 69,
   "id": "a43db9d0",
   "metadata": {},
   "outputs": [
    {
     "data": {
      "text/plain": [
       "{'train': [0.8166503475362561,\n",
       "  0.8289705802061504,\n",
       "  0.829286359364952,\n",
       "  0.8275269766393913,\n",
       "  0.8243058442102047],\n",
       " 'val': [0.34690196036937837,\n",
       "  0.3681909910013099,\n",
       "  0.41444380892493293,\n",
       "  0.2216537126926884,\n",
       "  -0.16825681592766317]}"
      ]
     },
     "execution_count": 69,
     "metadata": {},
     "output_type": "execute_result"
    }
   ],
   "source": [
    "between_cons_cv.res_r2"
   ]
  },
  {
   "cell_type": "code",
   "execution_count": 49,
   "id": "cae6ebd3",
   "metadata": {},
   "outputs": [
    {
     "data": {
      "text/plain": [
       "0.4018928454900642"
      ]
     },
     "execution_count": 49,
     "metadata": {},
     "output_type": "execute_result"
    }
   ],
   "source": [
    "np.mean(between_asset_ls_cv.res_r2['val'])"
   ]
  },
  {
   "cell_type": "code",
   "execution_count": 12,
   "id": "48b9d79d",
   "metadata": {},
   "outputs": [
    {
     "data": {
      "text/plain": [
       "0.28675610917238126"
      ]
     },
     "execution_count": 12,
     "metadata": {},
     "output_type": "execute_result"
    }
   ],
   "source": [
    "np.mean(between_cons_rs_cv.res_r2['val'])"
   ]
  },
  {
   "cell_type": "code",
   "execution_count": 52,
   "id": "ef9a774d",
   "metadata": {},
   "outputs": [
    {
     "data": {
      "text/plain": [
       "0.28675610917238126"
      ]
     },
     "execution_count": 52,
     "metadata": {},
     "output_type": "execute_result"
    }
   ],
   "source": [
    "np.mean(between_cons_rs_cv.res_r2['val'])"
   ]
  },
  {
   "cell_type": "code",
   "execution_count": 54,
   "id": "d6bb5ebb",
   "metadata": {},
   "outputs": [
    {
     "data": {
      "text/plain": [
       "[{'lr': 0.01,\n",
       "  'batch_size': 128,\n",
       "  'alpha': 0.001,\n",
       "  'step_size': 1,\n",
       "  'gamma': 0.96,\n",
       "  'n_epochs': 32,\n",
       "  'patience': 40},\n",
       " {'lr': 0.01,\n",
       "  'batch_size': 128,\n",
       "  'alpha': 0.001,\n",
       "  'step_size': 1,\n",
       "  'gamma': 0.96,\n",
       "  'n_epochs': 62,\n",
       "  'patience': 40},\n",
       " {'lr': 0.001,\n",
       "  'batch_size': 128,\n",
       "  'alpha': 0.01,\n",
       "  'step_size': 1,\n",
       "  'gamma': 0.96,\n",
       "  'n_epochs': 9,\n",
       "  'patience': 40},\n",
       " {'lr': 0.001,\n",
       "  'batch_size': 128,\n",
       "  'alpha': 0.01,\n",
       "  'step_size': 1,\n",
       "  'gamma': 0.96,\n",
       "  'n_epochs': 2,\n",
       "  'patience': 40},\n",
       " {'lr': 0.01,\n",
       "  'batch_size': 128,\n",
       "  'alpha': 0.001,\n",
       "  'step_size': 1,\n",
       "  'gamma': 0.96,\n",
       "  'n_epochs': 30,\n",
       "  'patience': 40}]"
      ]
     },
     "execution_count": 54,
     "metadata": {},
     "output_type": "execute_result"
    }
   ],
   "source": [
    "between_cons_rs_cv.best_hyper_params"
   ]
  },
  {
   "cell_type": "code",
   "execution_count": 53,
   "id": "bb5ede4d",
   "metadata": {},
   "outputs": [
    {
     "data": {
      "text/plain": [
       "[0.536523194734434,\n",
       " 0.03976297978862409,\n",
       " 0.4648407988569836,\n",
       " 0.27803958051994615,\n",
       " 0.11461399196191879]"
      ]
     },
     "execution_count": 53,
     "metadata": {},
     "output_type": "execute_result"
    }
   ],
   "source": [
    "between_cons_rs_cv.res_r2['val']"
   ]
  },
  {
   "cell_type": "code",
   "execution_count": 60,
   "id": "76290c99",
   "metadata": {},
   "outputs": [],
   "source": [
    "test = pd.DataFrame(between_cons_ls_cv.predictions)"
   ]
  },
  {
   "cell_type": "code",
   "execution_count": 61,
   "id": "3a587b2e",
   "metadata": {},
   "outputs": [
    {
     "data": {
      "text/plain": [
       "0.3024060993089719"
      ]
     },
     "execution_count": 61,
     "metadata": {},
     "output_type": "execute_result"
    }
   ],
   "source": [
    "r2_score(test['y'], test['y_hat'])"
   ]
  },
  {
   "cell_type": "code",
   "execution_count": 63,
   "id": "c3175489",
   "metadata": {},
   "outputs": [
    {
     "data": {
      "text/plain": [
       "0.2365873269859628"
      ]
     },
     "execution_count": 63,
     "metadata": {},
     "output_type": "execute_result"
    }
   ],
   "source": [
    "np.mean(between_cons_ls_cv.res_r2['val'])"
   ]
  },
  {
   "cell_type": "code",
   "execution_count": 62,
   "id": "57a937f2",
   "metadata": {},
   "outputs": [
    {
     "ename": "AttributeError",
     "evalue": "'CrossValidator' object has no attribute 'r2'",
     "output_type": "error",
     "traceback": [
      "\u001b[0;31m---------------------------------------------------------------------------\u001b[0m",
      "\u001b[0;31mAttributeError\u001b[0m                            Traceback (most recent call last)",
      "Cell \u001b[0;32mIn[62], line 1\u001b[0m\n\u001b[0;32m----> 1\u001b[0m \u001b[43mbetween_cons_ls_cv\u001b[49m\u001b[38;5;241;43m.\u001b[39;49m\u001b[43mcompute_overall_performance\u001b[49m\u001b[43m(\u001b[49m\u001b[43muse_fold_weights\u001b[49m\u001b[38;5;241;43m=\u001b[39;49m\u001b[38;5;28;43;01mFalse\u001b[39;49;00m\u001b[43m)\u001b[49m\n",
      "File \u001b[0;32m~/Documents/AngSt/master_thesis/data_analysis/predicting_poverty/analysis/analysis_utils/torch_framework/CrossValidator.py:213\u001b[0m, in \u001b[0;36mCrossValidator.compute_overall_performance\u001b[0;34m(self, use_fold_weights)\u001b[0m\n\u001b[1;32m    211\u001b[0m     val_mse \u001b[38;5;241m=\u001b[39m np\u001b[38;5;241m.\u001b[39maverage(\u001b[38;5;28mself\u001b[39m\u001b[38;5;241m.\u001b[39mmse[\u001b[38;5;124m'\u001b[39m\u001b[38;5;124mval\u001b[39m\u001b[38;5;124m'\u001b[39m], weights\u001b[38;5;241m=\u001b[39mval_fold_weights)\n\u001b[1;32m    212\u001b[0m \u001b[38;5;28;01melse\u001b[39;00m:\n\u001b[0;32m--> 213\u001b[0m     train_r2 \u001b[38;5;241m=\u001b[39m np\u001b[38;5;241m.\u001b[39mmean(\u001b[38;5;28;43mself\u001b[39;49m\u001b[38;5;241;43m.\u001b[39;49m\u001b[43mr2\u001b[49m[\u001b[38;5;124m'\u001b[39m\u001b[38;5;124mtrain\u001b[39m\u001b[38;5;124m'\u001b[39m])\n\u001b[1;32m    214\u001b[0m     train_mse \u001b[38;5;241m=\u001b[39m np\u001b[38;5;241m.\u001b[39mmean(\u001b[38;5;28mself\u001b[39m\u001b[38;5;241m.\u001b[39mmse[\u001b[38;5;124m'\u001b[39m\u001b[38;5;124mtrain\u001b[39m\u001b[38;5;124m'\u001b[39m])\n\u001b[1;32m    215\u001b[0m     val_r2 \u001b[38;5;241m=\u001b[39m np\u001b[38;5;241m.\u001b[39mmean(\u001b[38;5;28mself\u001b[39m\u001b[38;5;241m.\u001b[39mr2[\u001b[38;5;124m'\u001b[39m\u001b[38;5;124mval\u001b[39m\u001b[38;5;124m'\u001b[39m])\n",
      "\u001b[0;31mAttributeError\u001b[0m: 'CrossValidator' object has no attribute 'r2'"
     ]
    }
   ],
   "source": [
    "between_cons_ls_cv.res_"
   ]
  },
  {
   "cell_type": "code",
   "execution_count": 9,
   "id": "329b9aec",
   "metadata": {},
   "outputs": [],
   "source": [
    "sat_img_dir = \"../../Data/satellite_imgs\"\n",
    "data_type = \"LS\"\n",
    "img_stats_pth = f\"{sat_img_dir}/{data_type}/{data_type}_median_img_stats.pkl\"\n",
    "\n",
    "with open(img_stats_pth, 'rb') as f:\n",
    "    img_stats = pickle.load(f)"
   ]
  },
  {
   "cell_type": "code",
   "execution_count": 11,
   "id": "90467dfd",
   "metadata": {},
   "outputs": [
    {
     "data": {
      "text/plain": [
       "dict_keys([0, 1, 2, 3, 4, 5])"
      ]
     },
     "execution_count": 11,
     "metadata": {},
     "output_type": "execute_result"
    }
   ],
   "source": [
    "img_stats.keys()"
   ]
  }
 ],
 "metadata": {
  "kernelspec": {
   "display_name": "Python 3 (ipykernel)",
   "language": "python",
   "name": "python3"
  },
  "language_info": {
   "codemirror_mode": {
    "name": "ipython",
    "version": 3
   },
   "file_extension": ".py",
   "mimetype": "text/x-python",
   "name": "python",
   "nbconvert_exporter": "python",
   "pygments_lexer": "ipython3",
   "version": "3.10.12"
  }
 },
 "nbformat": 4,
 "nbformat_minor": 5
}
