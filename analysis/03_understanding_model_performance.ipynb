{
 "cells": [
  {
   "cell_type": "markdown",
   "id": "2c7d5c03",
   "metadata": {},
   "source": [
    "Overall the temporal model does not explain any of the temporal variance in the data. There are two potential explanations for this failure. First, the observed temporal variation in the labels originates from misreporting in the surveys and not from actual variation in the wealth indicators. In general survey data on consumption expenditure is quite noisy as it involves recalling what a housheold consumed in a given time period prior to the survey date. Thus, parts of the temporal variation in the data might actually originate from misreporting rather than from actual variation in the wealth indicator. If the ratio of variation due to noise in survey answers to actual variation in the wealth indicator is too large, any model will have a hard time learning meaningful mappings between the features and the target variables. Unfortunately, there is no direct way to estimate this ratio. However, I study different channels that affect noise in the training data. \n",
    "\n",
    "First: the level of analysis is the cluster level and the target variables are the average response of all households within a cluster. In general, a cluster level average will be more noisy, if it relies on fewer households. Thus, I reduce noise in the target variables by iteratively excluding clusters with fewer than $H_c \\in {1,...,15}$ households. I train a model for each value of $H_c$. \n",
    "\n",
    "Second: time of survey as quality indicator.\n",
    "\n",
    "Another source of noise that might affect the performance of models is introduced by jittered geoloactions. I recenter geolocations using the four-step procedure described in section .... Arguably, clusters that are recentered in the first round of the procedure are geographically closer to their true location. Thus, I study whether it makes a difference if clusters are recentered in either of the four steps, by excluding clusters that are recentered in any of the subsequent iterations. \n",
    "\n",
    "\n",
    "\n",
    "However, here I empirically assess \n",
    "\n",
    "\n",
    "\n",
    "a statistical argument can be made to study this: the level of analysis is the cluster level and the more households to "
   ]
  },
  {
   "cell_type": "code",
   "execution_count": 1,
   "id": "e612952e",
   "metadata": {},
   "outputs": [],
   "source": [
    "import matplotlib\n",
    "import matplotlib.pyplot as plt\n",
    "import pandas as pd\n",
    "import numpy as np\n",
    "import pickle\n",
    "\n",
    "from sklearn.metrics import r2_score\n",
    "from sklearn.metrics import mean_squared_error"
   ]
  },
  {
   "cell_type": "code",
   "execution_count": 26,
   "id": "0edc1e03",
   "metadata": {},
   "outputs": [],
   "source": [
    "# set the font size for matplotlib and the font family.\n",
    "font = {'family' : 'sans-serif',\n",
    "        'weight' : 'normal',\n",
    "        'size'   : 16}\n",
    "\n",
    "matplotlib.rc('font', **font)"
   ]
  },
  {
   "cell_type": "code",
   "execution_count": 3,
   "id": "1c63dde6",
   "metadata": {},
   "outputs": [],
   "source": [
    "# load the necessary functions from the analysis package\n",
    "\n",
    "# load the variable names, this allows to access the variables in the feature data in a compact way\n",
    "from analysis_utils.variable_names import *\n",
    "\n",
    "# load flagged ids \n",
    "from analysis_utils.flagged_uids import *\n",
    "\n",
    "# load the functions to do spatial k-fold CV\n",
    "from analysis_utils.spatial_CV import *\n",
    "\n",
    "# load the helper functions\n",
    "from analysis_utils.analysis_helpers import *\n",
    "\n",
    "# load the random forest trainer and cross_validator\n",
    "import analysis_utils.RandomForest as rf\n",
    "\n",
    "# load the combien model\n",
    "from analysis_utils.CombinedModel import CombinedModel"
   ]
  },
  {
   "cell_type": "code",
   "execution_count": 4,
   "id": "33f62ffc",
   "metadata": {},
   "outputs": [],
   "source": [
    "# set the global file paths\n",
    "root_data_dir = \"../../Data\"\n",
    "\n",
    "# the lsms data\n",
    "lsms_pth = f\"{root_data_dir}/lsms/processed/labels_cluster_v1.csv\"\n",
    "\n",
    "# the feature data\n",
    "feat_data_pth = f\"{root_data_dir}/feature_data/tabular_data.csv\"\n",
    "\n",
    "# set the random seed\n",
    "random_seed = 423\n",
    "spatial_cv_random_seed = 348\n",
    "\n",
    "# set the number of folds for k-fold CV\n",
    "n_folds = 5"
   ]
  },
  {
   "cell_type": "code",
   "execution_count": 5,
   "id": "b1c49d17",
   "metadata": {},
   "outputs": [
    {
     "name": "stdout",
     "output_type": "stream",
     "text": [
      "Number of observations 6401\n",
      "Number of clusters 2128\n",
      "Number of x vars 113\n"
     ]
    }
   ],
   "source": [
    "# load the feature and the label data\n",
    "lsms_df = pd.read_csv(lsms_pth)\n",
    "\n",
    "# remove flagged ids form dataset\n",
    "lsms_df = lsms_df[~lsms_df.unique_id.isin(flagged_uids)].reset_index(drop = True)\n",
    "\n",
    "# create average varaibles for the between model\n",
    "lsms_df['avg_log_mean_pc_cons_usd_2017'] = lsms_df.groupby('cluster_id')['log_mean_pc_cons_usd_2017'].transform('mean')\n",
    "lsms_df['avg_mean_asset_index_yeh'] = lsms_df.groupby('cluster_id')['mean_asset_index_yeh'].transform('mean')\n",
    "\n",
    "# load the feature data\n",
    "feat_df = pd.read_csv(feat_data_pth)\n",
    "\n",
    "# describe the training data broadly\n",
    "print(f\"Number of observations {len(lsms_df)}\")\n",
    "print(f\"Number of clusters {len(np.unique(lsms_df.cluster_id))}\")\n",
    "print(f\"Number of x vars {len(feat_df.columns)-2}\")"
   ]
  },
  {
   "cell_type": "code",
   "execution_count": 6,
   "id": "7fa08c66",
   "metadata": {},
   "outputs": [],
   "source": [
    "# merge the label and the feature data to one dataset\n",
    "lsms_vars = ['unique_id','n_households', 'country', 'lat', 'lon',        \n",
    "             'log_mean_pc_cons_usd_2017', 'avg_log_mean_pc_cons_usd_2017',\n",
    "             'mean_asset_index_yeh', 'avg_mean_asset_index_yeh']\n",
    "df = pd.merge(lsms_df[lsms_vars], feat_df, on = 'unique_id', how = 'left')"
   ]
  },
  {
   "cell_type": "code",
   "execution_count": 7,
   "id": "4a858ff0",
   "metadata": {},
   "outputs": [],
   "source": [
    "df = pd.merge(lsms_df, feat_df, on  = ('cluster_id', 'unique_id'), how = 'left')"
   ]
  },
  {
   "cell_type": "code",
   "execution_count": 8,
   "id": "82653966",
   "metadata": {},
   "outputs": [],
   "source": [
    "# define the x variables and the target variable for the between and within models\n",
    "\n",
    "# define the between variables\n",
    "avg_rs_vars = avg_ndvi_vars + avg_ndwi_gao_vars + avg_nl_vars\n",
    "osm_vars = osm_dist_vars + osm_count_vars + osm_road_vars\n",
    "between_x_vars = osm_vars + esa_lc_vars + wsf_vars + avg_rs_vars + avg_preciptiation\n",
    "between_target_var = 'avg_log_mean_pc_cons_usd_2017'\n",
    "\n",
    "# define the within varaibles\n",
    "dyn_rs_vars = dyn_ndvi_vars + dyn_ndwi_gao_vars + dyn_nl_vars\n",
    "within_x_vars = dyn_rs_vars + precipitation \n",
    "within_target_var = 'log_mean_pc_cons_usd_2017'"
   ]
  },
  {
   "cell_type": "markdown",
   "id": "bb68be93",
   "metadata": {},
   "source": [
    "# Different number of households\n"
   ]
  },
  {
   "cell_type": "code",
   "execution_count": 9,
   "id": "a20871cc",
   "metadata": {},
   "outputs": [],
   "source": [
    "# define the housheold thresholds\n",
    "n_households = [1,2,3,4,5,6,7,8,9,10,11,12,13,14,15]\n",
    "# n_households = [1,2]\n",
    "\n",
    "# define the between df for this task, inlcuding all necessary variables\n",
    "between_df = df[['cluster_id', between_target_var, 'n_households'] + between_x_vars].drop_duplicates().reset_index(drop = True)\n",
    "\n",
    "# define the within df for this task, including all necessary variables\n",
    "within_df = df[['unique_id', 'cluster_id', within_target_var, 'n_households'] + within_x_vars]"
   ]
  },
  {
   "cell_type": "code",
   "execution_count": 10,
   "id": "6f5d1292",
   "metadata": {},
   "outputs": [
    {
     "name": "stdout",
     "output_type": "stream",
     "text": [
      "Training on at least 1 Households per cluster\n",
      "Fold 0, specified test ratio: 0.2 - Actual test ratio 0.20\n",
      "Fold 1, specified test ratio: 0.2 - Actual test ratio 0.20\n",
      "Fold 2, specified test ratio: 0.2 - Actual test ratio 0.20\n",
      "Fold 3, specified test ratio: 0.2 - Actual test ratio 0.20\n",
      "Fold 4, specified test ratio: 0.2 - Actual test ratio 0.19\n",
      "\n",
      "\tBetween model\n",
      "Initialising training\n"
     ]
    },
    {
     "data": {
      "application/vnd.jupyter.widget-view+json": {
       "model_id": "e6c44645cd294f17aa8f28bb49829afd",
       "version_major": 2,
       "version_minor": 0
      },
      "text/plain": [
       "  0%|          | 0/5 [00:00<?, ?it/s]"
      ]
     },
     "metadata": {},
     "output_type": "display_data"
    },
    {
     "name": "stdout",
     "output_type": "stream",
     "text": [
      "Finished training after 133 seconds\n",
      "\n",
      "\tWithin Model\n",
      "Initialising training\n"
     ]
    },
    {
     "data": {
      "application/vnd.jupyter.widget-view+json": {
       "model_id": "75f658e031fd4ac39a1849f79e9f8665",
       "version_major": 2,
       "version_minor": 0
      },
      "text/plain": [
       "  0%|          | 0/5 [00:00<?, ?it/s]"
      ]
     },
     "metadata": {},
     "output_type": "display_data"
    },
    {
     "name": "stdout",
     "output_type": "stream",
     "text": [
      "Finished training after 289 seconds\n",
      "\t{'combined': 0.37304968490558427, 'between': 0.4500568985559014, 'within': -0.016164244618326752}\n",
      "Fold 0, specified test ratio: 0.2 - Actual test ratio 0.20\n",
      "Fold 1, specified test ratio: 0.2 - Actual test ratio 0.20\n",
      "Fold 2, specified test ratio: 0.2 - Actual test ratio 0.20\n",
      "Fold 3, specified test ratio: 0.2 - Actual test ratio 0.20\n",
      "Fold 4, specified test ratio: 0.2 - Actual test ratio 0.18\n",
      "\n",
      "\tBetween model\n",
      "Initialising training\n"
     ]
    },
    {
     "data": {
      "application/vnd.jupyter.widget-view+json": {
       "model_id": "76399aebba6047689b4586f9a1118a95",
       "version_major": 2,
       "version_minor": 0
      },
      "text/plain": [
       "  0%|          | 0/5 [00:00<?, ?it/s]"
      ]
     },
     "metadata": {},
     "output_type": "display_data"
    },
    {
     "name": "stdout",
     "output_type": "stream",
     "text": [
      "Finished training after 131 seconds\n",
      "\n",
      "\tWithin Model\n",
      "Initialising training\n"
     ]
    },
    {
     "data": {
      "application/vnd.jupyter.widget-view+json": {
       "model_id": "e7ed8fa6a7ed4a7b9e36422d4122ef69",
       "version_major": 2,
       "version_minor": 0
      },
      "text/plain": [
       "  0%|          | 0/5 [00:00<?, ?it/s]"
      ]
     },
     "metadata": {},
     "output_type": "display_data"
    },
    {
     "name": "stdout",
     "output_type": "stream",
     "text": [
      "Finished training after 285 seconds\n",
      "\t{'combined': 0.39583584437693775, 'between': 0.4803684306254626, 'within': -0.024650844747643296}\n",
      "Fold 0, specified test ratio: 0.2 - Actual test ratio 0.21\n",
      "Fold 1, specified test ratio: 0.2 - Actual test ratio 0.20\n",
      "Fold 2, specified test ratio: 0.2 - Actual test ratio 0.21\n",
      "Fold 3, specified test ratio: 0.2 - Actual test ratio 0.20\n",
      "Fold 4, specified test ratio: 0.2 - Actual test ratio 0.17\n",
      "\n",
      "\tBetween model\n",
      "Initialising training\n"
     ]
    },
    {
     "data": {
      "application/vnd.jupyter.widget-view+json": {
       "model_id": "2d42ca40260746139bb7df31e3654997",
       "version_major": 2,
       "version_minor": 0
      },
      "text/plain": [
       "  0%|          | 0/5 [00:00<?, ?it/s]"
      ]
     },
     "metadata": {},
     "output_type": "display_data"
    },
    {
     "name": "stdout",
     "output_type": "stream",
     "text": [
      "Finished training after 139 seconds\n",
      "\n",
      "\tWithin Model\n",
      "Initialising training\n"
     ]
    },
    {
     "data": {
      "application/vnd.jupyter.widget-view+json": {
       "model_id": "737f4bb455904ce6aa372ef3ca7f7af3",
       "version_major": 2,
       "version_minor": 0
      },
      "text/plain": [
       "  0%|          | 0/5 [00:00<?, ?it/s]"
      ]
     },
     "metadata": {},
     "output_type": "display_data"
    },
    {
     "name": "stdout",
     "output_type": "stream",
     "text": [
      "Finished training after 283 seconds\n",
      "\t{'combined': 0.36949617214173236, 'between': 0.4511383156551728, 'within': -0.01600670772236712}\n",
      "Fold 0, specified test ratio: 0.2 - Actual test ratio 0.23\n",
      "Fold 1, specified test ratio: 0.2 - Actual test ratio 0.20\n",
      "Fold 2, specified test ratio: 0.2 - Actual test ratio 0.20\n",
      "Fold 3, specified test ratio: 0.2 - Actual test ratio 0.20\n",
      "Fold 4, specified test ratio: 0.2 - Actual test ratio 0.16\n",
      "\n",
      "\tBetween model\n",
      "Initialising training\n"
     ]
    },
    {
     "data": {
      "application/vnd.jupyter.widget-view+json": {
       "model_id": "14e31fc179ab4069921bbc65c7ed2b2d",
       "version_major": 2,
       "version_minor": 0
      },
      "text/plain": [
       "  0%|          | 0/5 [00:00<?, ?it/s]"
      ]
     },
     "metadata": {},
     "output_type": "display_data"
    },
    {
     "name": "stdout",
     "output_type": "stream",
     "text": [
      "Finished training after 133 seconds\n",
      "\n",
      "\tWithin Model\n",
      "Initialising training\n"
     ]
    },
    {
     "data": {
      "application/vnd.jupyter.widget-view+json": {
       "model_id": "3bb5d63b61ef4a26818661c89794ae58",
       "version_major": 2,
       "version_minor": 0
      },
      "text/plain": [
       "  0%|          | 0/5 [00:00<?, ?it/s]"
      ]
     },
     "metadata": {},
     "output_type": "display_data"
    },
    {
     "name": "stdout",
     "output_type": "stream",
     "text": [
      "Finished training after 287 seconds\n",
      "\t{'combined': 0.37995103178858525, 'between': 0.4578841373568325, 'within': -0.02291855916820775}\n",
      "Fold 0, specified test ratio: 0.2 - Actual test ratio 0.26\n",
      "Fold 1, specified test ratio: 0.2 - Actual test ratio 0.21\n",
      "Fold 2, specified test ratio: 0.2 - Actual test ratio 0.20\n",
      "Fold 3, specified test ratio: 0.2 - Actual test ratio 0.20\n",
      "Fold 4, specified test ratio: 0.2 - Actual test ratio 0.13\n",
      "\n",
      "\tBetween model\n",
      "Initialising training\n"
     ]
    },
    {
     "data": {
      "application/vnd.jupyter.widget-view+json": {
       "model_id": "769fb884652f4ecf87ffc62762e90667",
       "version_major": 2,
       "version_minor": 0
      },
      "text/plain": [
       "  0%|          | 0/5 [00:00<?, ?it/s]"
      ]
     },
     "metadata": {},
     "output_type": "display_data"
    },
    {
     "name": "stdout",
     "output_type": "stream",
     "text": [
      "Finished training after 147 seconds\n",
      "\n",
      "\tWithin Model\n",
      "Initialising training\n"
     ]
    },
    {
     "data": {
      "application/vnd.jupyter.widget-view+json": {
       "model_id": "444fb1dfd6f7461982b69b63894b5ede",
       "version_major": 2,
       "version_minor": 0
      },
      "text/plain": [
       "  0%|          | 0/5 [00:00<?, ?it/s]"
      ]
     },
     "metadata": {},
     "output_type": "display_data"
    },
    {
     "name": "stdout",
     "output_type": "stream",
     "text": [
      "Finished training after 279 seconds\n",
      "\t{'combined': 0.39292398731662315, 'between': 0.47197616845570284, 'within': -0.022456719832581705}\n",
      "Fold 0, specified test ratio: 0.2 - Actual test ratio 0.21\n",
      "Fold 1, specified test ratio: 0.2 - Actual test ratio 0.20\n",
      "Fold 2, specified test ratio: 0.2 - Actual test ratio 0.20\n",
      "Fold 3, specified test ratio: 0.2 - Actual test ratio 0.20\n",
      "Fold 4, specified test ratio: 0.2 - Actual test ratio 0.18\n",
      "\n",
      "\tBetween model\n",
      "Initialising training\n"
     ]
    },
    {
     "data": {
      "application/vnd.jupyter.widget-view+json": {
       "model_id": "d7aaefe1b86e427089877850814d22d7",
       "version_major": 2,
       "version_minor": 0
      },
      "text/plain": [
       "  0%|          | 0/5 [00:00<?, ?it/s]"
      ]
     },
     "metadata": {},
     "output_type": "display_data"
    },
    {
     "name": "stdout",
     "output_type": "stream",
     "text": [
      "Finished training after 137 seconds\n",
      "\n",
      "\tWithin Model\n",
      "Initialising training\n"
     ]
    },
    {
     "data": {
      "application/vnd.jupyter.widget-view+json": {
       "model_id": "0d1efdc5fe9245e5a73c25e03f484a7e",
       "version_major": 2,
       "version_minor": 0
      },
      "text/plain": [
       "  0%|          | 0/5 [00:00<?, ?it/s]"
      ]
     },
     "metadata": {},
     "output_type": "display_data"
    },
    {
     "name": "stdout",
     "output_type": "stream",
     "text": [
      "Finished training after 284 seconds\n",
      "\t{'combined': 0.39982928095852344, 'between': 0.4800900580200512, 'within': -0.010752590167958199}\n",
      "Fold 0, specified test ratio: 0.2 - Actual test ratio 0.25\n",
      "Fold 1, specified test ratio: 0.2 - Actual test ratio 0.20\n",
      "Fold 2, specified test ratio: 0.2 - Actual test ratio 0.20\n",
      "Fold 3, specified test ratio: 0.2 - Actual test ratio 0.20\n",
      "Fold 4, specified test ratio: 0.2 - Actual test ratio 0.14\n",
      "\n",
      "\tBetween model\n",
      "Initialising training\n"
     ]
    },
    {
     "data": {
      "application/vnd.jupyter.widget-view+json": {
       "model_id": "bf3a6e545d5c43228dcd6f8eab6a3d96",
       "version_major": 2,
       "version_minor": 0
      },
      "text/plain": [
       "  0%|          | 0/5 [00:00<?, ?it/s]"
      ]
     },
     "metadata": {},
     "output_type": "display_data"
    },
    {
     "name": "stdout",
     "output_type": "stream",
     "text": [
      "Finished training after 137 seconds\n",
      "\n",
      "\tWithin Model\n",
      "Initialising training\n"
     ]
    },
    {
     "data": {
      "application/vnd.jupyter.widget-view+json": {
       "model_id": "e65635272ba74e3ba0efbcdf526010d1",
       "version_major": 2,
       "version_minor": 0
      },
      "text/plain": [
       "  0%|          | 0/5 [00:00<?, ?it/s]"
      ]
     },
     "metadata": {},
     "output_type": "display_data"
    },
    {
     "name": "stdout",
     "output_type": "stream",
     "text": [
      "Finished training after 283 seconds\n",
      "\t{'combined': 0.38595181668314715, 'between': 0.4656794952928928, 'within': -0.014798669541319143}\n",
      "Fold 0, specified test ratio: 0.2 - Actual test ratio 0.23\n",
      "Fold 1, specified test ratio: 0.2 - Actual test ratio 0.20\n",
      "Fold 2, specified test ratio: 0.2 - Actual test ratio 0.20\n",
      "Fold 3, specified test ratio: 0.2 - Actual test ratio 0.20\n",
      "Fold 4, specified test ratio: 0.2 - Actual test ratio 0.16\n",
      "\n",
      "\tBetween model\n",
      "Initialising training\n"
     ]
    },
    {
     "data": {
      "application/vnd.jupyter.widget-view+json": {
       "model_id": "20fed84a4f23420291ade5b71bd39572",
       "version_major": 2,
       "version_minor": 0
      },
      "text/plain": [
       "  0%|          | 0/5 [00:00<?, ?it/s]"
      ]
     },
     "metadata": {},
     "output_type": "display_data"
    },
    {
     "name": "stdout",
     "output_type": "stream",
     "text": [
      "Finished training after 133 seconds\n",
      "\n",
      "\tWithin Model\n",
      "Initialising training\n"
     ]
    },
    {
     "data": {
      "application/vnd.jupyter.widget-view+json": {
       "model_id": "7a054927e06b455ebd06366b3cc0fbc8",
       "version_major": 2,
       "version_minor": 0
      },
      "text/plain": [
       "  0%|          | 0/5 [00:00<?, ?it/s]"
      ]
     },
     "metadata": {},
     "output_type": "display_data"
    },
    {
     "name": "stdout",
     "output_type": "stream",
     "text": [
      "Finished training after 289 seconds\n",
      "\t{'combined': 0.3810376805303637, 'between': 0.4674557087734256, 'within': -0.018701676952764146}\n",
      "Fold 0, specified test ratio: 0.2 - Actual test ratio 0.21\n",
      "Fold 1, specified test ratio: 0.2 - Actual test ratio 0.20\n",
      "Fold 2, specified test ratio: 0.2 - Actual test ratio 0.20\n",
      "Fold 3, specified test ratio: 0.2 - Actual test ratio 0.20\n",
      "Fold 4, specified test ratio: 0.2 - Actual test ratio 0.19\n",
      "\n",
      "\tBetween model\n",
      "Initialising training\n"
     ]
    },
    {
     "data": {
      "application/vnd.jupyter.widget-view+json": {
       "model_id": "63e8dd760a424e01ab66050ea5b209cc",
       "version_major": 2,
       "version_minor": 0
      },
      "text/plain": [
       "  0%|          | 0/5 [00:00<?, ?it/s]"
      ]
     },
     "metadata": {},
     "output_type": "display_data"
    },
    {
     "name": "stdout",
     "output_type": "stream",
     "text": [
      "Finished training after 145 seconds\n",
      "\n",
      "\tWithin Model\n",
      "Initialising training\n"
     ]
    },
    {
     "data": {
      "application/vnd.jupyter.widget-view+json": {
       "model_id": "b472e63f17bb429e951820f8887ee395",
       "version_major": 2,
       "version_minor": 0
      },
      "text/plain": [
       "  0%|          | 0/5 [00:00<?, ?it/s]"
      ]
     },
     "metadata": {},
     "output_type": "display_data"
    },
    {
     "name": "stdout",
     "output_type": "stream",
     "text": [
      "Finished training after 286 seconds\n",
      "\t{'combined': 0.38923296740023716, 'between': 0.47206736032722074, 'within': -0.02460963098772473}\n",
      "Fold 0, specified test ratio: 0.2 - Actual test ratio 0.21\n",
      "Fold 1, specified test ratio: 0.2 - Actual test ratio 0.20\n",
      "Fold 2, specified test ratio: 0.2 - Actual test ratio 0.20\n",
      "Fold 3, specified test ratio: 0.2 - Actual test ratio 0.20\n",
      "Fold 4, specified test ratio: 0.2 - Actual test ratio 0.18\n",
      "\n",
      "\tBetween model\n",
      "Initialising training\n"
     ]
    },
    {
     "data": {
      "application/vnd.jupyter.widget-view+json": {
       "model_id": "fb0c15add9a04381b4a342834c1e57ac",
       "version_major": 2,
       "version_minor": 0
      },
      "text/plain": [
       "  0%|          | 0/5 [00:00<?, ?it/s]"
      ]
     },
     "metadata": {},
     "output_type": "display_data"
    },
    {
     "name": "stdout",
     "output_type": "stream",
     "text": [
      "Finished training after 132 seconds\n",
      "\n",
      "\tWithin Model\n",
      "Initialising training\n"
     ]
    },
    {
     "data": {
      "application/vnd.jupyter.widget-view+json": {
       "model_id": "5cb7626e8f8645d2adc82cc3cb9a0466",
       "version_major": 2,
       "version_minor": 0
      },
      "text/plain": [
       "  0%|          | 0/5 [00:00<?, ?it/s]"
      ]
     },
     "metadata": {},
     "output_type": "display_data"
    },
    {
     "name": "stdout",
     "output_type": "stream",
     "text": [
      "Finished training after 285 seconds\n",
      "\t{'combined': 0.3747744864939166, 'between': 0.44826685777981834, 'within': -0.025686376128564503}\n",
      "\n",
      "\n",
      "\n",
      "\n",
      "Training on at least 2 Households per cluster\n",
      "Fold 0, specified test ratio: 0.2 - Actual test ratio 0.21\n",
      "Fold 1, specified test ratio: 0.2 - Actual test ratio 0.21\n",
      "Fold 2, specified test ratio: 0.2 - Actual test ratio 0.20\n",
      "Fold 3, specified test ratio: 0.2 - Actual test ratio 0.20\n",
      "Fold 4, specified test ratio: 0.2 - Actual test ratio 0.18\n",
      "\n",
      "\tBetween model\n",
      "Initialising training\n"
     ]
    },
    {
     "data": {
      "application/vnd.jupyter.widget-view+json": {
       "model_id": "fcd8a07f1fcd469ba05b6c4705f4f346",
       "version_major": 2,
       "version_minor": 0
      },
      "text/plain": [
       "  0%|          | 0/5 [00:00<?, ?it/s]"
      ]
     },
     "metadata": {},
     "output_type": "display_data"
    },
    {
     "name": "stdout",
     "output_type": "stream",
     "text": [
      "Finished training after 137 seconds\n",
      "\n",
      "\tWithin Model\n",
      "Initialising training\n"
     ]
    },
    {
     "data": {
      "application/vnd.jupyter.widget-view+json": {
       "model_id": "de6ce5314a294811bd23bac497ca69f3",
       "version_major": 2,
       "version_minor": 0
      },
      "text/plain": [
       "  0%|          | 0/5 [00:00<?, ?it/s]"
      ]
     },
     "metadata": {},
     "output_type": "display_data"
    },
    {
     "name": "stdout",
     "output_type": "stream",
     "text": [
      "Finished training after 277 seconds\n",
      "\t{'combined': 0.4015729288322234, 'between': 0.4820418479116391, 'within': -0.012441180334801304}\n",
      "Fold 0, specified test ratio: 0.2 - Actual test ratio 0.25\n",
      "Fold 1, specified test ratio: 0.2 - Actual test ratio 0.20\n",
      "Fold 2, specified test ratio: 0.2 - Actual test ratio 0.20\n",
      "Fold 3, specified test ratio: 0.2 - Actual test ratio 0.20\n",
      "Fold 4, specified test ratio: 0.2 - Actual test ratio 0.15\n",
      "\n",
      "\tBetween model\n",
      "Initialising training\n"
     ]
    },
    {
     "data": {
      "application/vnd.jupyter.widget-view+json": {
       "model_id": "b5b06bcad0144203a10b77c4f3d57a5b",
       "version_major": 2,
       "version_minor": 0
      },
      "text/plain": [
       "  0%|          | 0/5 [00:00<?, ?it/s]"
      ]
     },
     "metadata": {},
     "output_type": "display_data"
    },
    {
     "name": "stdout",
     "output_type": "stream",
     "text": [
      "Finished training after 130 seconds\n",
      "\n",
      "\tWithin Model\n",
      "Initialising training\n"
     ]
    },
    {
     "data": {
      "application/vnd.jupyter.widget-view+json": {
       "model_id": "2a3da915e2884f668ebb008de28502ed",
       "version_major": 2,
       "version_minor": 0
      },
      "text/plain": [
       "  0%|          | 0/5 [00:00<?, ?it/s]"
      ]
     },
     "metadata": {},
     "output_type": "display_data"
    },
    {
     "name": "stdout",
     "output_type": "stream",
     "text": [
      "Finished training after 276 seconds\n",
      "\t{'combined': 0.4090109508004495, 'between': 0.480215476596779, 'within': -0.005041498155516644}\n",
      "Fold 0, specified test ratio: 0.2 - Actual test ratio 0.21\n",
      "Fold 1, specified test ratio: 0.2 - Actual test ratio 0.22\n",
      "Fold 2, specified test ratio: 0.2 - Actual test ratio 0.20\n",
      "Fold 3, specified test ratio: 0.2 - Actual test ratio 0.20\n",
      "Fold 4, specified test ratio: 0.2 - Actual test ratio 0.17\n",
      "\n",
      "\tBetween model\n",
      "Initialising training\n"
     ]
    },
    {
     "data": {
      "application/vnd.jupyter.widget-view+json": {
       "model_id": "e0a4c2b92b104867876229a74475f218",
       "version_major": 2,
       "version_minor": 0
      },
      "text/plain": [
       "  0%|          | 0/5 [00:00<?, ?it/s]"
      ]
     },
     "metadata": {},
     "output_type": "display_data"
    },
    {
     "name": "stdout",
     "output_type": "stream",
     "text": [
      "Finished training after 142 seconds\n",
      "\n",
      "\tWithin Model\n",
      "Initialising training\n"
     ]
    },
    {
     "data": {
      "application/vnd.jupyter.widget-view+json": {
       "model_id": "501041a06fd4432292bf0eef0db64851",
       "version_major": 2,
       "version_minor": 0
      },
      "text/plain": [
       "  0%|          | 0/5 [00:00<?, ?it/s]"
      ]
     },
     "metadata": {},
     "output_type": "display_data"
    },
    {
     "name": "stdout",
     "output_type": "stream",
     "text": [
      "Finished training after 273 seconds\n",
      "\t{'combined': 0.4015483866348888, 'between': 0.47480962554139655, 'within': -0.008928444034803085}\n",
      "Fold 0, specified test ratio: 0.2 - Actual test ratio 0.23\n",
      "Fold 1, specified test ratio: 0.2 - Actual test ratio 0.21\n",
      "Fold 2, specified test ratio: 0.2 - Actual test ratio 0.20\n",
      "Fold 3, specified test ratio: 0.2 - Actual test ratio 0.20\n",
      "Fold 4, specified test ratio: 0.2 - Actual test ratio 0.15\n",
      "\n",
      "\tBetween model\n",
      "Initialising training\n"
     ]
    },
    {
     "data": {
      "application/vnd.jupyter.widget-view+json": {
       "model_id": "75ea9b5717b6464a94642c4c16941cb1",
       "version_major": 2,
       "version_minor": 0
      },
      "text/plain": [
       "  0%|          | 0/5 [00:00<?, ?it/s]"
      ]
     },
     "metadata": {},
     "output_type": "display_data"
    },
    {
     "name": "stdout",
     "output_type": "stream",
     "text": [
      "Finished training after 133 seconds\n",
      "\n",
      "\tWithin Model\n",
      "Initialising training\n"
     ]
    },
    {
     "data": {
      "application/vnd.jupyter.widget-view+json": {
       "model_id": "d5721e6df94c4b1babecfbae4b0d3041",
       "version_major": 2,
       "version_minor": 0
      },
      "text/plain": [
       "  0%|          | 0/5 [00:00<?, ?it/s]"
      ]
     },
     "metadata": {},
     "output_type": "display_data"
    },
    {
     "name": "stdout",
     "output_type": "stream",
     "text": [
      "Finished training after 275 seconds\n",
      "\t{'combined': 0.3931694664164373, 'between': 0.47296720941891945, 'within': -0.010497985699760081}\n",
      "Fold 0, specified test ratio: 0.2 - Actual test ratio 0.24\n",
      "Fold 1, specified test ratio: 0.2 - Actual test ratio 0.21\n",
      "Fold 2, specified test ratio: 0.2 - Actual test ratio 0.20\n",
      "Fold 3, specified test ratio: 0.2 - Actual test ratio 0.20\n",
      "Fold 4, specified test ratio: 0.2 - Actual test ratio 0.15\n",
      "\n",
      "\tBetween model\n",
      "Initialising training\n"
     ]
    },
    {
     "data": {
      "application/vnd.jupyter.widget-view+json": {
       "model_id": "4b83740f7f324166b02ff06a03f56424",
       "version_major": 2,
       "version_minor": 0
      },
      "text/plain": [
       "  0%|          | 0/5 [00:00<?, ?it/s]"
      ]
     },
     "metadata": {},
     "output_type": "display_data"
    },
    {
     "name": "stdout",
     "output_type": "stream",
     "text": [
      "Finished training after 133 seconds\n",
      "\n",
      "\tWithin Model\n",
      "Initialising training\n"
     ]
    },
    {
     "data": {
      "application/vnd.jupyter.widget-view+json": {
       "model_id": "be7e635aeced46ac9d92926175bf4f9e",
       "version_major": 2,
       "version_minor": 0
      },
      "text/plain": [
       "  0%|          | 0/5 [00:00<?, ?it/s]"
      ]
     },
     "metadata": {},
     "output_type": "display_data"
    },
    {
     "name": "stdout",
     "output_type": "stream",
     "text": [
      "Finished training after 273 seconds\n",
      "\t{'combined': 0.39767388384734337, 'between': 0.47506104114677805, 'within': -0.021031998266851603}\n",
      "Fold 0, specified test ratio: 0.2 - Actual test ratio 0.26\n",
      "Fold 1, specified test ratio: 0.2 - Actual test ratio 0.20\n",
      "Fold 2, specified test ratio: 0.2 - Actual test ratio 0.20\n",
      "Fold 3, specified test ratio: 0.2 - Actual test ratio 0.20\n",
      "Fold 4, specified test ratio: 0.2 - Actual test ratio 0.13\n",
      "\n",
      "\tBetween model\n",
      "Initialising training\n"
     ]
    },
    {
     "data": {
      "application/vnd.jupyter.widget-view+json": {
       "model_id": "041cf56ed38b439d80deccfdd39909dc",
       "version_major": 2,
       "version_minor": 0
      },
      "text/plain": [
       "  0%|          | 0/5 [00:00<?, ?it/s]"
      ]
     },
     "metadata": {},
     "output_type": "display_data"
    },
    {
     "name": "stdout",
     "output_type": "stream",
     "text": [
      "Finished training after 136 seconds\n",
      "\n",
      "\tWithin Model\n",
      "Initialising training\n"
     ]
    },
    {
     "data": {
      "application/vnd.jupyter.widget-view+json": {
       "model_id": "4ff0450edc0a43aab895d6d8c6d344f1",
       "version_major": 2,
       "version_minor": 0
      },
      "text/plain": [
       "  0%|          | 0/5 [00:00<?, ?it/s]"
      ]
     },
     "metadata": {},
     "output_type": "display_data"
    },
    {
     "name": "stdout",
     "output_type": "stream",
     "text": [
      "Finished training after 273 seconds\n",
      "\t{'combined': 0.39016766887116594, 'between': 0.4675336349305232, 'within': -0.015418015139460128}\n",
      "Fold 0, specified test ratio: 0.2 - Actual test ratio 0.20\n",
      "Fold 1, specified test ratio: 0.2 - Actual test ratio 0.22\n",
      "Fold 2, specified test ratio: 0.2 - Actual test ratio 0.20\n",
      "Fold 3, specified test ratio: 0.2 - Actual test ratio 0.20\n",
      "Fold 4, specified test ratio: 0.2 - Actual test ratio 0.18\n",
      "\n",
      "\tBetween model\n",
      "Initialising training\n"
     ]
    },
    {
     "data": {
      "application/vnd.jupyter.widget-view+json": {
       "model_id": "1599320dce664cf19dfec86f87a03977",
       "version_major": 2,
       "version_minor": 0
      },
      "text/plain": [
       "  0%|          | 0/5 [00:00<?, ?it/s]"
      ]
     },
     "metadata": {},
     "output_type": "display_data"
    },
    {
     "name": "stdout",
     "output_type": "stream",
     "text": [
      "Finished training after 131 seconds\n",
      "\n",
      "\tWithin Model\n",
      "Initialising training\n"
     ]
    },
    {
     "data": {
      "application/vnd.jupyter.widget-view+json": {
       "model_id": "7c3722d1f9b046ffb85101508ea09e4e",
       "version_major": 2,
       "version_minor": 0
      },
      "text/plain": [
       "  0%|          | 0/5 [00:00<?, ?it/s]"
      ]
     },
     "metadata": {},
     "output_type": "display_data"
    },
    {
     "name": "stdout",
     "output_type": "stream",
     "text": [
      "Finished training after 285 seconds\n",
      "\t{'combined': 0.3783725697344295, 'between': 0.4527088480674082, 'within': -0.011380401988509582}\n",
      "Fold 0, specified test ratio: 0.2 - Actual test ratio 0.21\n",
      "Fold 1, specified test ratio: 0.2 - Actual test ratio 0.21\n",
      "Fold 2, specified test ratio: 0.2 - Actual test ratio 0.20\n",
      "Fold 3, specified test ratio: 0.2 - Actual test ratio 0.20\n",
      "Fold 4, specified test ratio: 0.2 - Actual test ratio 0.18\n",
      "\n",
      "\tBetween model\n",
      "Initialising training\n"
     ]
    },
    {
     "data": {
      "application/vnd.jupyter.widget-view+json": {
       "model_id": "eb616873c1d04673b8af7993fe1ce36c",
       "version_major": 2,
       "version_minor": 0
      },
      "text/plain": [
       "  0%|          | 0/5 [00:00<?, ?it/s]"
      ]
     },
     "metadata": {},
     "output_type": "display_data"
    },
    {
     "name": "stdout",
     "output_type": "stream",
     "text": [
      "Finished training after 131 seconds\n",
      "\n",
      "\tWithin Model\n",
      "Initialising training\n"
     ]
    },
    {
     "data": {
      "application/vnd.jupyter.widget-view+json": {
       "model_id": "3314883d04e64609ba65e7400e76e910",
       "version_major": 2,
       "version_minor": 0
      },
      "text/plain": [
       "  0%|          | 0/5 [00:00<?, ?it/s]"
      ]
     },
     "metadata": {},
     "output_type": "display_data"
    },
    {
     "name": "stdout",
     "output_type": "stream",
     "text": [
      "Finished training after 287 seconds\n",
      "\t{'combined': 0.39291006992242083, 'between': 0.46255040279849646, 'within': -0.013019361621420412}\n",
      "Fold 0, specified test ratio: 0.2 - Actual test ratio 0.22\n",
      "Fold 1, specified test ratio: 0.2 - Actual test ratio 0.20\n",
      "Fold 2, specified test ratio: 0.2 - Actual test ratio 0.20\n",
      "Fold 3, specified test ratio: 0.2 - Actual test ratio 0.20\n",
      "Fold 4, specified test ratio: 0.2 - Actual test ratio 0.17\n",
      "\n",
      "\tBetween model\n",
      "Initialising training\n"
     ]
    },
    {
     "data": {
      "application/vnd.jupyter.widget-view+json": {
       "model_id": "46c04f3084eb4f558b95a918097ff09f",
       "version_major": 2,
       "version_minor": 0
      },
      "text/plain": [
       "  0%|          | 0/5 [00:00<?, ?it/s]"
      ]
     },
     "metadata": {},
     "output_type": "display_data"
    },
    {
     "name": "stdout",
     "output_type": "stream",
     "text": [
      "Finished training after 137 seconds\n",
      "\n",
      "\tWithin Model\n",
      "Initialising training\n"
     ]
    },
    {
     "data": {
      "application/vnd.jupyter.widget-view+json": {
       "model_id": "85def684947441fc92e29e75bdf7ad23",
       "version_major": 2,
       "version_minor": 0
      },
      "text/plain": [
       "  0%|          | 0/5 [00:00<?, ?it/s]"
      ]
     },
     "metadata": {},
     "output_type": "display_data"
    },
    {
     "name": "stdout",
     "output_type": "stream",
     "text": [
      "Finished training after 280 seconds\n",
      "\t{'combined': 0.39669974090937, 'between': 0.4693623589802812, 'within': -0.01483927167543051}\n",
      "Fold 0, specified test ratio: 0.2 - Actual test ratio 0.21\n",
      "Fold 1, specified test ratio: 0.2 - Actual test ratio 0.20\n",
      "Fold 2, specified test ratio: 0.2 - Actual test ratio 0.20\n",
      "Fold 3, specified test ratio: 0.2 - Actual test ratio 0.20\n",
      "Fold 4, specified test ratio: 0.2 - Actual test ratio 0.18\n",
      "\n",
      "\tBetween model\n",
      "Initialising training\n"
     ]
    },
    {
     "data": {
      "application/vnd.jupyter.widget-view+json": {
       "model_id": "581260dd4127413a843b22de810500af",
       "version_major": 2,
       "version_minor": 0
      },
      "text/plain": [
       "  0%|          | 0/5 [00:00<?, ?it/s]"
      ]
     },
     "metadata": {},
     "output_type": "display_data"
    },
    {
     "name": "stdout",
     "output_type": "stream",
     "text": [
      "Finished training after 142 seconds\n",
      "\n",
      "\tWithin Model\n",
      "Initialising training\n"
     ]
    },
    {
     "data": {
      "application/vnd.jupyter.widget-view+json": {
       "model_id": "b4aa80cb15144e97b22ee4d9152fbccb",
       "version_major": 2,
       "version_minor": 0
      },
      "text/plain": [
       "  0%|          | 0/5 [00:00<?, ?it/s]"
      ]
     },
     "metadata": {},
     "output_type": "display_data"
    },
    {
     "name": "stdout",
     "output_type": "stream",
     "text": [
      "Finished training after 270 seconds\n",
      "\t{'combined': 0.3991155280854782, 'between': 0.47633481457188803, 'within': -0.01872390755462818}\n",
      "\n",
      "\n",
      "\n",
      "\n",
      "Training on at least 3 Households per cluster\n",
      "Fold 0, specified test ratio: 0.2 - Actual test ratio 0.21\n",
      "Fold 1, specified test ratio: 0.2 - Actual test ratio 0.20\n",
      "Fold 2, specified test ratio: 0.2 - Actual test ratio 0.20\n",
      "Fold 3, specified test ratio: 0.2 - Actual test ratio 0.20\n",
      "Fold 4, specified test ratio: 0.2 - Actual test ratio 0.19\n",
      "\n",
      "\tBetween model\n",
      "Initialising training\n"
     ]
    },
    {
     "data": {
      "application/vnd.jupyter.widget-view+json": {
       "model_id": "3845413a9b2b44d9ab3be82fc563481d",
       "version_major": 2,
       "version_minor": 0
      },
      "text/plain": [
       "  0%|          | 0/5 [00:00<?, ?it/s]"
      ]
     },
     "metadata": {},
     "output_type": "display_data"
    },
    {
     "name": "stdout",
     "output_type": "stream",
     "text": [
      "Finished training after 131 seconds\n",
      "\n",
      "\tWithin Model\n",
      "Initialising training\n"
     ]
    },
    {
     "data": {
      "application/vnd.jupyter.widget-view+json": {
       "model_id": "a0da719a223d4aeab8e0e5eb2fe6f38c",
       "version_major": 2,
       "version_minor": 0
      },
      "text/plain": [
       "  0%|          | 0/5 [00:00<?, ?it/s]"
      ]
     },
     "metadata": {},
     "output_type": "display_data"
    },
    {
     "name": "stdout",
     "output_type": "stream",
     "text": [
      "Finished training after 263 seconds\n",
      "\t{'combined': 0.4038197990192309, 'between': 0.4696729160380202, 'within': -0.011177060336089362}\n",
      "Fold 0, specified test ratio: 0.2 - Actual test ratio 0.23\n",
      "Fold 1, specified test ratio: 0.2 - Actual test ratio 0.21\n",
      "Fold 2, specified test ratio: 0.2 - Actual test ratio 0.20\n",
      "Fold 3, specified test ratio: 0.2 - Actual test ratio 0.20\n",
      "Fold 4, specified test ratio: 0.2 - Actual test ratio 0.16\n",
      "\n",
      "\tBetween model\n",
      "Initialising training\n"
     ]
    },
    {
     "data": {
      "application/vnd.jupyter.widget-view+json": {
       "model_id": "c6722b3dbb2947428dde8efbe711ae55",
       "version_major": 2,
       "version_minor": 0
      },
      "text/plain": [
       "  0%|          | 0/5 [00:00<?, ?it/s]"
      ]
     },
     "metadata": {},
     "output_type": "display_data"
    },
    {
     "name": "stdout",
     "output_type": "stream",
     "text": [
      "Finished training after 131 seconds\n",
      "\n",
      "\tWithin Model\n",
      "Initialising training\n"
     ]
    },
    {
     "data": {
      "application/vnd.jupyter.widget-view+json": {
       "model_id": "b3611e36342846c9aa47c8e971e5a8d2",
       "version_major": 2,
       "version_minor": 0
      },
      "text/plain": [
       "  0%|          | 0/5 [00:00<?, ?it/s]"
      ]
     },
     "metadata": {},
     "output_type": "display_data"
    },
    {
     "name": "stdout",
     "output_type": "stream",
     "text": [
      "Finished training after 264 seconds\n",
      "\t{'combined': 0.43444986711259426, 'between': 0.4978281781203546, 'within': -0.011723323241087246}\n",
      "Fold 0, specified test ratio: 0.2 - Actual test ratio 0.26\n",
      "Fold 1, specified test ratio: 0.2 - Actual test ratio 0.20\n",
      "Fold 2, specified test ratio: 0.2 - Actual test ratio 0.20\n",
      "Fold 3, specified test ratio: 0.2 - Actual test ratio 0.20\n",
      "Fold 4, specified test ratio: 0.2 - Actual test ratio 0.14\n",
      "\n",
      "\tBetween model\n",
      "Initialising training\n"
     ]
    },
    {
     "data": {
      "application/vnd.jupyter.widget-view+json": {
       "model_id": "107f900e023143aa9e703c9f0183edd5",
       "version_major": 2,
       "version_minor": 0
      },
      "text/plain": [
       "  0%|          | 0/5 [00:00<?, ?it/s]"
      ]
     },
     "metadata": {},
     "output_type": "display_data"
    },
    {
     "name": "stdout",
     "output_type": "stream",
     "text": [
      "Finished training after 130 seconds\n",
      "\n",
      "\tWithin Model\n",
      "Initialising training\n"
     ]
    },
    {
     "data": {
      "application/vnd.jupyter.widget-view+json": {
       "model_id": "fdf94c3623f342c8bbe3900b73bf857a",
       "version_major": 2,
       "version_minor": 0
      },
      "text/plain": [
       "  0%|          | 0/5 [00:00<?, ?it/s]"
      ]
     },
     "metadata": {},
     "output_type": "display_data"
    },
    {
     "name": "stdout",
     "output_type": "stream",
     "text": [
      "Finished training after 261 seconds\n",
      "\t{'combined': 0.4020562375371734, 'between': 0.4790905721699752, 'within': -0.015785688879906324}\n",
      "Fold 0, specified test ratio: 0.2 - Actual test ratio 0.20\n",
      "Fold 1, specified test ratio: 0.2 - Actual test ratio 0.21\n",
      "Fold 2, specified test ratio: 0.2 - Actual test ratio 0.20\n",
      "Fold 3, specified test ratio: 0.2 - Actual test ratio 0.20\n",
      "Fold 4, specified test ratio: 0.2 - Actual test ratio 0.19\n",
      "\n",
      "\tBetween model\n",
      "Initialising training\n"
     ]
    },
    {
     "data": {
      "application/vnd.jupyter.widget-view+json": {
       "model_id": "5362e7f811b94485a3bf72a4bd872f4e",
       "version_major": 2,
       "version_minor": 0
      },
      "text/plain": [
       "  0%|          | 0/5 [00:00<?, ?it/s]"
      ]
     },
     "metadata": {},
     "output_type": "display_data"
    },
    {
     "name": "stdout",
     "output_type": "stream",
     "text": [
      "Finished training after 128 seconds\n",
      "\n",
      "\tWithin Model\n",
      "Initialising training\n"
     ]
    },
    {
     "data": {
      "application/vnd.jupyter.widget-view+json": {
       "model_id": "a3e765ed196d4ae180ddd694ff97a291",
       "version_major": 2,
       "version_minor": 0
      },
      "text/plain": [
       "  0%|          | 0/5 [00:00<?, ?it/s]"
      ]
     },
     "metadata": {},
     "output_type": "display_data"
    },
    {
     "name": "stdout",
     "output_type": "stream",
     "text": [
      "Finished training after 267 seconds\n",
      "\t{'combined': 0.43297615276077844, 'between': 0.5031716804261719, 'within': -0.015366383184360921}\n",
      "Fold 0, specified test ratio: 0.2 - Actual test ratio 0.21\n",
      "Fold 1, specified test ratio: 0.2 - Actual test ratio 0.20\n",
      "Fold 2, specified test ratio: 0.2 - Actual test ratio 0.20\n",
      "Fold 3, specified test ratio: 0.2 - Actual test ratio 0.20\n",
      "Fold 4, specified test ratio: 0.2 - Actual test ratio 0.18\n",
      "\n",
      "\tBetween model\n",
      "Initialising training\n"
     ]
    },
    {
     "data": {
      "application/vnd.jupyter.widget-view+json": {
       "model_id": "1b7b0da65bad4abf8f34cebe0b36544e",
       "version_major": 2,
       "version_minor": 0
      },
      "text/plain": [
       "  0%|          | 0/5 [00:00<?, ?it/s]"
      ]
     },
     "metadata": {},
     "output_type": "display_data"
    },
    {
     "name": "stdout",
     "output_type": "stream",
     "text": [
      "Finished training after 125 seconds\n",
      "\n",
      "\tWithin Model\n",
      "Initialising training\n"
     ]
    },
    {
     "data": {
      "application/vnd.jupyter.widget-view+json": {
       "model_id": "607513cf8d594e088bec1362a8f0fe7f",
       "version_major": 2,
       "version_minor": 0
      },
      "text/plain": [
       "  0%|          | 0/5 [00:00<?, ?it/s]"
      ]
     },
     "metadata": {},
     "output_type": "display_data"
    },
    {
     "name": "stdout",
     "output_type": "stream",
     "text": [
      "Finished training after 263 seconds\n",
      "\t{'combined': 0.384133477887641, 'between': 0.4466711511187576, 'within': -0.012832008553677988}\n",
      "Fold 0, specified test ratio: 0.2 - Actual test ratio 0.21\n",
      "Fold 1, specified test ratio: 0.2 - Actual test ratio 0.20\n",
      "Fold 2, specified test ratio: 0.2 - Actual test ratio 0.20\n",
      "Fold 3, specified test ratio: 0.2 - Actual test ratio 0.20\n",
      "Fold 4, specified test ratio: 0.2 - Actual test ratio 0.18\n",
      "\n",
      "\tBetween model\n",
      "Initialising training\n"
     ]
    },
    {
     "data": {
      "application/vnd.jupyter.widget-view+json": {
       "model_id": "c7db36a85a7f451c9fe62e8386c524b8",
       "version_major": 2,
       "version_minor": 0
      },
      "text/plain": [
       "  0%|          | 0/5 [00:00<?, ?it/s]"
      ]
     },
     "metadata": {},
     "output_type": "display_data"
    },
    {
     "name": "stdout",
     "output_type": "stream",
     "text": [
      "Finished training after 136 seconds\n",
      "\n",
      "\tWithin Model\n",
      "Initialising training\n"
     ]
    },
    {
     "data": {
      "application/vnd.jupyter.widget-view+json": {
       "model_id": "081c6933abe346a5834e747005f58064",
       "version_major": 2,
       "version_minor": 0
      },
      "text/plain": [
       "  0%|          | 0/5 [00:00<?, ?it/s]"
      ]
     },
     "metadata": {},
     "output_type": "display_data"
    },
    {
     "name": "stdout",
     "output_type": "stream",
     "text": [
      "Finished training after 270 seconds\n",
      "\t{'combined': 0.40064754618811255, 'between': 0.4814339361264765, 'within': -0.010885223074388061}\n",
      "Fold 0, specified test ratio: 0.2 - Actual test ratio 0.23\n",
      "Fold 1, specified test ratio: 0.2 - Actual test ratio 0.20\n",
      "Fold 2, specified test ratio: 0.2 - Actual test ratio 0.20\n",
      "Fold 3, specified test ratio: 0.2 - Actual test ratio 0.20\n",
      "Fold 4, specified test ratio: 0.2 - Actual test ratio 0.17\n",
      "\n",
      "\tBetween model\n",
      "Initialising training\n"
     ]
    },
    {
     "data": {
      "application/vnd.jupyter.widget-view+json": {
       "model_id": "1cfb40782f39469f93edd303d51aaba1",
       "version_major": 2,
       "version_minor": 0
      },
      "text/plain": [
       "  0%|          | 0/5 [00:00<?, ?it/s]"
      ]
     },
     "metadata": {},
     "output_type": "display_data"
    },
    {
     "name": "stdout",
     "output_type": "stream",
     "text": [
      "Finished training after 127 seconds\n",
      "\n",
      "\tWithin Model\n",
      "Initialising training\n"
     ]
    },
    {
     "data": {
      "application/vnd.jupyter.widget-view+json": {
       "model_id": "2df036ce020341dfb1c115a83e7df851",
       "version_major": 2,
       "version_minor": 0
      },
      "text/plain": [
       "  0%|          | 0/5 [00:00<?, ?it/s]"
      ]
     },
     "metadata": {},
     "output_type": "display_data"
    },
    {
     "name": "stdout",
     "output_type": "stream",
     "text": [
      "Finished training after 264 seconds\n",
      "\t{'combined': 0.4069140326265833, 'between': 0.4800475565544467, 'within': -0.013741747131286819}\n",
      "Fold 0, specified test ratio: 0.2 - Actual test ratio 0.23\n",
      "Fold 1, specified test ratio: 0.2 - Actual test ratio 0.20\n",
      "Fold 2, specified test ratio: 0.2 - Actual test ratio 0.20\n",
      "Fold 3, specified test ratio: 0.2 - Actual test ratio 0.20\n",
      "Fold 4, specified test ratio: 0.2 - Actual test ratio 0.16\n",
      "\n",
      "\tBetween model\n",
      "Initialising training\n"
     ]
    },
    {
     "data": {
      "application/vnd.jupyter.widget-view+json": {
       "model_id": "24fa630a740c490892173c74c643fd00",
       "version_major": 2,
       "version_minor": 0
      },
      "text/plain": [
       "  0%|          | 0/5 [00:00<?, ?it/s]"
      ]
     },
     "metadata": {},
     "output_type": "display_data"
    },
    {
     "name": "stdout",
     "output_type": "stream",
     "text": [
      "Finished training after 135 seconds\n",
      "\n",
      "\tWithin Model\n",
      "Initialising training\n"
     ]
    },
    {
     "data": {
      "application/vnd.jupyter.widget-view+json": {
       "model_id": "7a1730e37d544772bab47b285df87f24",
       "version_major": 2,
       "version_minor": 0
      },
      "text/plain": [
       "  0%|          | 0/5 [00:00<?, ?it/s]"
      ]
     },
     "metadata": {},
     "output_type": "display_data"
    },
    {
     "name": "stdout",
     "output_type": "stream",
     "text": [
      "Finished training after 264 seconds\n",
      "\t{'combined': 0.3772473568814848, 'between': 0.44621609664514494, 'within': -0.023442159270566365}\n",
      "Fold 0, specified test ratio: 0.2 - Actual test ratio 0.23\n",
      "Fold 1, specified test ratio: 0.2 - Actual test ratio 0.21\n",
      "Fold 2, specified test ratio: 0.2 - Actual test ratio 0.20\n",
      "Fold 3, specified test ratio: 0.2 - Actual test ratio 0.20\n",
      "Fold 4, specified test ratio: 0.2 - Actual test ratio 0.16\n",
      "\n",
      "\tBetween model\n",
      "Initialising training\n"
     ]
    },
    {
     "data": {
      "application/vnd.jupyter.widget-view+json": {
       "model_id": "12d7640dd8a54abf83a68f2bc306d6b0",
       "version_major": 2,
       "version_minor": 0
      },
      "text/plain": [
       "  0%|          | 0/5 [00:00<?, ?it/s]"
      ]
     },
     "metadata": {},
     "output_type": "display_data"
    },
    {
     "name": "stdout",
     "output_type": "stream",
     "text": [
      "Finished training after 133 seconds\n",
      "\n",
      "\tWithin Model\n",
      "Initialising training\n"
     ]
    },
    {
     "data": {
      "application/vnd.jupyter.widget-view+json": {
       "model_id": "0ec70e982f67456abc7bd91b31c316f1",
       "version_major": 2,
       "version_minor": 0
      },
      "text/plain": [
       "  0%|          | 0/5 [00:00<?, ?it/s]"
      ]
     },
     "metadata": {},
     "output_type": "display_data"
    },
    {
     "name": "stdout",
     "output_type": "stream",
     "text": [
      "Finished training after 260 seconds\n",
      "\t{'combined': 0.42222312270540596, 'between': 0.49709381434752925, 'within': -0.018529319015726232}\n",
      "Fold 0, specified test ratio: 0.2 - Actual test ratio 0.21\n",
      "Fold 1, specified test ratio: 0.2 - Actual test ratio 0.21\n",
      "Fold 2, specified test ratio: 0.2 - Actual test ratio 0.20\n",
      "Fold 3, specified test ratio: 0.2 - Actual test ratio 0.20\n",
      "Fold 4, specified test ratio: 0.2 - Actual test ratio 0.18\n",
      "\n",
      "\tBetween model\n",
      "Initialising training\n"
     ]
    },
    {
     "data": {
      "application/vnd.jupyter.widget-view+json": {
       "model_id": "1fe9363f70ef428e8ae86bcc756e9986",
       "version_major": 2,
       "version_minor": 0
      },
      "text/plain": [
       "  0%|          | 0/5 [00:00<?, ?it/s]"
      ]
     },
     "metadata": {},
     "output_type": "display_data"
    },
    {
     "name": "stdout",
     "output_type": "stream",
     "text": [
      "Finished training after 133 seconds\n",
      "\n",
      "\tWithin Model\n",
      "Initialising training\n"
     ]
    },
    {
     "data": {
      "application/vnd.jupyter.widget-view+json": {
       "model_id": "c1ce4e61f59241a591536a848c226aef",
       "version_major": 2,
       "version_minor": 0
      },
      "text/plain": [
       "  0%|          | 0/5 [00:00<?, ?it/s]"
      ]
     },
     "metadata": {},
     "output_type": "display_data"
    },
    {
     "name": "stdout",
     "output_type": "stream",
     "text": [
      "Finished training after 262 seconds\n",
      "\t{'combined': 0.37361474643371134, 'between': 0.44475770507754614, 'within': -0.0068852738493162535}\n",
      "\n",
      "\n",
      "\n",
      "\n",
      "Training on at least 4 Households per cluster\n",
      "Fold 0, specified test ratio: 0.2 - Actual test ratio 0.21\n",
      "Fold 1, specified test ratio: 0.2 - Actual test ratio 0.21\n",
      "Fold 2, specified test ratio: 0.2 - Actual test ratio 0.20\n",
      "Fold 3, specified test ratio: 0.2 - Actual test ratio 0.20\n",
      "Fold 4, specified test ratio: 0.2 - Actual test ratio 0.18\n",
      "\n",
      "\tBetween model\n",
      "Initialising training\n"
     ]
    },
    {
     "data": {
      "application/vnd.jupyter.widget-view+json": {
       "model_id": "c891ccba01804e55befa30619c3bb183",
       "version_major": 2,
       "version_minor": 0
      },
      "text/plain": [
       "  0%|          | 0/5 [00:00<?, ?it/s]"
      ]
     },
     "metadata": {},
     "output_type": "display_data"
    },
    {
     "name": "stdout",
     "output_type": "stream",
     "text": [
      "Finished training after 128 seconds\n",
      "\n",
      "\tWithin Model\n",
      "Initialising training\n"
     ]
    },
    {
     "data": {
      "application/vnd.jupyter.widget-view+json": {
       "model_id": "f22aa3bbe2a1478988949485fde6acb2",
       "version_major": 2,
       "version_minor": 0
      },
      "text/plain": [
       "  0%|          | 0/5 [00:00<?, ?it/s]"
      ]
     },
     "metadata": {},
     "output_type": "display_data"
    },
    {
     "name": "stdout",
     "output_type": "stream",
     "text": [
      "Finished training after 249 seconds\n",
      "\t{'combined': 0.3927717931428341, 'between': 0.4640381432746888, 'within': -0.013373214608738282}\n",
      "Fold 0, specified test ratio: 0.2 - Actual test ratio 0.23\n",
      "Fold 1, specified test ratio: 0.2 - Actual test ratio 0.21\n",
      "Fold 2, specified test ratio: 0.2 - Actual test ratio 0.20\n",
      "Fold 3, specified test ratio: 0.2 - Actual test ratio 0.20\n",
      "Fold 4, specified test ratio: 0.2 - Actual test ratio 0.16\n",
      "\n",
      "\tBetween model\n",
      "Initialising training\n"
     ]
    },
    {
     "data": {
      "application/vnd.jupyter.widget-view+json": {
       "model_id": "e5647d5575ad4c369dd738d0871954c6",
       "version_major": 2,
       "version_minor": 0
      },
      "text/plain": [
       "  0%|          | 0/5 [00:00<?, ?it/s]"
      ]
     },
     "metadata": {},
     "output_type": "display_data"
    },
    {
     "name": "stdout",
     "output_type": "stream",
     "text": [
      "Finished training after 127 seconds\n",
      "\n",
      "\tWithin Model\n",
      "Initialising training\n"
     ]
    },
    {
     "data": {
      "application/vnd.jupyter.widget-view+json": {
       "model_id": "6420f6f2421b4484a01528328fd00f74",
       "version_major": 2,
       "version_minor": 0
      },
      "text/plain": [
       "  0%|          | 0/5 [00:00<?, ?it/s]"
      ]
     },
     "metadata": {},
     "output_type": "display_data"
    },
    {
     "name": "stdout",
     "output_type": "stream",
     "text": [
      "Finished training after 248 seconds\n",
      "\t{'combined': 0.41130051546069035, 'between': 0.48505776714088455, 'within': -0.021717281584239377}\n",
      "Fold 0, specified test ratio: 0.2 - Actual test ratio 0.25\n",
      "Fold 1, specified test ratio: 0.2 - Actual test ratio 0.20\n",
      "Fold 2, specified test ratio: 0.2 - Actual test ratio 0.20\n",
      "Fold 3, specified test ratio: 0.2 - Actual test ratio 0.20\n",
      "Fold 4, specified test ratio: 0.2 - Actual test ratio 0.14\n",
      "\n",
      "\tBetween model\n",
      "Initialising training\n"
     ]
    },
    {
     "data": {
      "application/vnd.jupyter.widget-view+json": {
       "model_id": "69bc0f9cac784603909461205dd40cca",
       "version_major": 2,
       "version_minor": 0
      },
      "text/plain": [
       "  0%|          | 0/5 [00:00<?, ?it/s]"
      ]
     },
     "metadata": {},
     "output_type": "display_data"
    },
    {
     "name": "stdout",
     "output_type": "stream",
     "text": [
      "Finished training after 128 seconds\n",
      "\n",
      "\tWithin Model\n",
      "Initialising training\n"
     ]
    },
    {
     "data": {
      "application/vnd.jupyter.widget-view+json": {
       "model_id": "b8c6bb570b8e49049eda53001325b5b5",
       "version_major": 2,
       "version_minor": 0
      },
      "text/plain": [
       "  0%|          | 0/5 [00:00<?, ?it/s]"
      ]
     },
     "metadata": {},
     "output_type": "display_data"
    },
    {
     "name": "stdout",
     "output_type": "stream",
     "text": [
      "Finished training after 247 seconds\n",
      "\t{'combined': 0.4152969606597678, 'between': 0.48170904060388764, 'within': -0.01546611770806865}\n",
      "Fold 0, specified test ratio: 0.2 - Actual test ratio 0.26\n",
      "Fold 1, specified test ratio: 0.2 - Actual test ratio 0.20\n",
      "Fold 2, specified test ratio: 0.2 - Actual test ratio 0.21\n",
      "Fold 3, specified test ratio: 0.2 - Actual test ratio 0.20\n",
      "Fold 4, specified test ratio: 0.2 - Actual test ratio 0.13\n",
      "\n",
      "\tBetween model\n",
      "Initialising training\n"
     ]
    },
    {
     "data": {
      "application/vnd.jupyter.widget-view+json": {
       "model_id": "8cc8128ae96a480cba9e2caf5d36b7a6",
       "version_major": 2,
       "version_minor": 0
      },
      "text/plain": [
       "  0%|          | 0/5 [00:00<?, ?it/s]"
      ]
     },
     "metadata": {},
     "output_type": "display_data"
    },
    {
     "name": "stdout",
     "output_type": "stream",
     "text": [
      "Finished training after 127 seconds\n",
      "\n",
      "\tWithin Model\n",
      "Initialising training\n"
     ]
    },
    {
     "data": {
      "application/vnd.jupyter.widget-view+json": {
       "model_id": "dbb9280255f146249e054a5d7be2bb9f",
       "version_major": 2,
       "version_minor": 0
      },
      "text/plain": [
       "  0%|          | 0/5 [00:00<?, ?it/s]"
      ]
     },
     "metadata": {},
     "output_type": "display_data"
    },
    {
     "name": "stdout",
     "output_type": "stream",
     "text": [
      "Finished training after 251 seconds\n",
      "\t{'combined': 0.39914543434813593, 'between': 0.4717293543535382, 'within': -0.024852610681231367}\n",
      "Fold 0, specified test ratio: 0.2 - Actual test ratio 0.21\n",
      "Fold 1, specified test ratio: 0.2 - Actual test ratio 0.20\n",
      "Fold 2, specified test ratio: 0.2 - Actual test ratio 0.20\n",
      "Fold 3, specified test ratio: 0.2 - Actual test ratio 0.20\n",
      "Fold 4, specified test ratio: 0.2 - Actual test ratio 0.19\n",
      "\n",
      "\tBetween model\n",
      "Initialising training\n"
     ]
    },
    {
     "data": {
      "application/vnd.jupyter.widget-view+json": {
       "model_id": "c2815876c3274e70820e5bab325f7d44",
       "version_major": 2,
       "version_minor": 0
      },
      "text/plain": [
       "  0%|          | 0/5 [00:00<?, ?it/s]"
      ]
     },
     "metadata": {},
     "output_type": "display_data"
    },
    {
     "name": "stdout",
     "output_type": "stream",
     "text": [
      "Finished training after 142 seconds\n",
      "\n",
      "\tWithin Model\n",
      "Initialising training\n"
     ]
    },
    {
     "data": {
      "application/vnd.jupyter.widget-view+json": {
       "model_id": "fe1d96a78b54431b97bf272b38ad61c3",
       "version_major": 2,
       "version_minor": 0
      },
      "text/plain": [
       "  0%|          | 0/5 [00:00<?, ?it/s]"
      ]
     },
     "metadata": {},
     "output_type": "display_data"
    },
    {
     "name": "stdout",
     "output_type": "stream",
     "text": [
      "Finished training after 276 seconds\n",
      "\t{'combined': 0.38563369839234296, 'between': 0.45979584939420737, 'within': -0.018312605058344155}\n",
      "Fold 0, specified test ratio: 0.2 - Actual test ratio 0.26\n",
      "Fold 1, specified test ratio: 0.2 - Actual test ratio 0.21\n",
      "Fold 2, specified test ratio: 0.2 - Actual test ratio 0.20\n",
      "Fold 3, specified test ratio: 0.2 - Actual test ratio 0.20\n",
      "Fold 4, specified test ratio: 0.2 - Actual test ratio 0.13\n",
      "\n",
      "\tBetween model\n",
      "Initialising training\n"
     ]
    },
    {
     "data": {
      "application/vnd.jupyter.widget-view+json": {
       "model_id": "600aab7740c84ffea2fc093fee915cb0",
       "version_major": 2,
       "version_minor": 0
      },
      "text/plain": [
       "  0%|          | 0/5 [00:00<?, ?it/s]"
      ]
     },
     "metadata": {},
     "output_type": "display_data"
    },
    {
     "name": "stdout",
     "output_type": "stream",
     "text": [
      "Finished training after 141 seconds\n",
      "\n",
      "\tWithin Model\n",
      "Initialising training\n"
     ]
    },
    {
     "data": {
      "application/vnd.jupyter.widget-view+json": {
       "model_id": "afe91ccd668f412db8e2dba93608ef9f",
       "version_major": 2,
       "version_minor": 0
      },
      "text/plain": [
       "  0%|          | 0/5 [00:00<?, ?it/s]"
      ]
     },
     "metadata": {},
     "output_type": "display_data"
    },
    {
     "name": "stdout",
     "output_type": "stream",
     "text": [
      "Finished training after 274 seconds\n",
      "\t{'combined': 0.3993911282731315, 'between': 0.46556083038004853, 'within': -0.012134119338804395}\n",
      "Fold 0, specified test ratio: 0.2 - Actual test ratio 0.20\n",
      "Fold 1, specified test ratio: 0.2 - Actual test ratio 0.20\n",
      "Fold 2, specified test ratio: 0.2 - Actual test ratio 0.20\n",
      "Fold 3, specified test ratio: 0.2 - Actual test ratio 0.20\n",
      "Fold 4, specified test ratio: 0.2 - Actual test ratio 0.19\n",
      "\n",
      "\tBetween model\n",
      "Initialising training\n"
     ]
    },
    {
     "data": {
      "application/vnd.jupyter.widget-view+json": {
       "model_id": "c2b3b23c824c42a19cf9d965b35b3249",
       "version_major": 2,
       "version_minor": 0
      },
      "text/plain": [
       "  0%|          | 0/5 [00:00<?, ?it/s]"
      ]
     },
     "metadata": {},
     "output_type": "display_data"
    },
    {
     "name": "stdout",
     "output_type": "stream",
     "text": [
      "Finished training after 142 seconds\n",
      "\n",
      "\tWithin Model\n",
      "Initialising training\n"
     ]
    },
    {
     "data": {
      "application/vnd.jupyter.widget-view+json": {
       "model_id": "7417c6dd214b4a7d99b7093e6c07e4f5",
       "version_major": 2,
       "version_minor": 0
      },
      "text/plain": [
       "  0%|          | 0/5 [00:00<?, ?it/s]"
      ]
     },
     "metadata": {},
     "output_type": "display_data"
    },
    {
     "name": "stdout",
     "output_type": "stream",
     "text": [
      "Finished training after 277 seconds\n",
      "\t{'combined': 0.3979173172490521, 'between': 0.472548932014738, 'within': -0.012573778597832907}\n",
      "Fold 0, specified test ratio: 0.2 - Actual test ratio 0.23\n",
      "Fold 1, specified test ratio: 0.2 - Actual test ratio 0.20\n",
      "Fold 2, specified test ratio: 0.2 - Actual test ratio 0.20\n",
      "Fold 3, specified test ratio: 0.2 - Actual test ratio 0.20\n",
      "Fold 4, specified test ratio: 0.2 - Actual test ratio 0.17\n",
      "\n",
      "\tBetween model\n",
      "Initialising training\n"
     ]
    },
    {
     "data": {
      "application/vnd.jupyter.widget-view+json": {
       "model_id": "4e3c8979637a4195abddbc37e190b3e8",
       "version_major": 2,
       "version_minor": 0
      },
      "text/plain": [
       "  0%|          | 0/5 [00:00<?, ?it/s]"
      ]
     },
     "metadata": {},
     "output_type": "display_data"
    },
    {
     "name": "stdout",
     "output_type": "stream",
     "text": [
      "Finished training after 142 seconds\n",
      "\n",
      "\tWithin Model\n",
      "Initialising training\n"
     ]
    },
    {
     "data": {
      "application/vnd.jupyter.widget-view+json": {
       "model_id": "4b329e6e50ef4be7bfe1d1d7546ce87c",
       "version_major": 2,
       "version_minor": 0
      },
      "text/plain": [
       "  0%|          | 0/5 [00:00<?, ?it/s]"
      ]
     },
     "metadata": {},
     "output_type": "display_data"
    },
    {
     "name": "stdout",
     "output_type": "stream",
     "text": [
      "Finished training after 275 seconds\n",
      "\t{'combined': 0.4083921812253616, 'between': 0.47806956771010983, 'within': -0.0173296965048495}\n",
      "Fold 0, specified test ratio: 0.2 - Actual test ratio 0.25\n",
      "Fold 1, specified test ratio: 0.2 - Actual test ratio 0.21\n",
      "Fold 2, specified test ratio: 0.2 - Actual test ratio 0.20\n",
      "Fold 3, specified test ratio: 0.2 - Actual test ratio 0.20\n",
      "Fold 4, specified test ratio: 0.2 - Actual test ratio 0.14\n",
      "\n",
      "\tBetween model\n",
      "Initialising training\n"
     ]
    },
    {
     "data": {
      "application/vnd.jupyter.widget-view+json": {
       "model_id": "23b9d6f0369a455a83085e82ec348cb7",
       "version_major": 2,
       "version_minor": 0
      },
      "text/plain": [
       "  0%|          | 0/5 [00:00<?, ?it/s]"
      ]
     },
     "metadata": {},
     "output_type": "display_data"
    },
    {
     "name": "stdout",
     "output_type": "stream",
     "text": [
      "Finished training after 143 seconds\n",
      "\n",
      "\tWithin Model\n",
      "Initialising training\n"
     ]
    },
    {
     "data": {
      "application/vnd.jupyter.widget-view+json": {
       "model_id": "91d822376d9344f1b986b7a8dbac4334",
       "version_major": 2,
       "version_minor": 0
      },
      "text/plain": [
       "  0%|          | 0/5 [00:00<?, ?it/s]"
      ]
     },
     "metadata": {},
     "output_type": "display_data"
    },
    {
     "name": "stdout",
     "output_type": "stream",
     "text": [
      "Finished training after 275 seconds\n",
      "\t{'combined': 0.3984996078751471, 'between': 0.4759935392065294, 'within': -0.019125357226384733}\n",
      "Fold 0, specified test ratio: 0.2 - Actual test ratio 0.20\n",
      "Fold 1, specified test ratio: 0.2 - Actual test ratio 0.20\n",
      "Fold 2, specified test ratio: 0.2 - Actual test ratio 0.21\n",
      "Fold 3, specified test ratio: 0.2 - Actual test ratio 0.20\n",
      "Fold 4, specified test ratio: 0.2 - Actual test ratio 0.19\n",
      "\n",
      "\tBetween model\n",
      "Initialising training\n"
     ]
    },
    {
     "data": {
      "application/vnd.jupyter.widget-view+json": {
       "model_id": "02901fa2ce2d4bd2a73c144a082e1e8a",
       "version_major": 2,
       "version_minor": 0
      },
      "text/plain": [
       "  0%|          | 0/5 [00:00<?, ?it/s]"
      ]
     },
     "metadata": {},
     "output_type": "display_data"
    },
    {
     "name": "stdout",
     "output_type": "stream",
     "text": [
      "Finished training after 145 seconds\n",
      "\n",
      "\tWithin Model\n",
      "Initialising training\n"
     ]
    },
    {
     "data": {
      "application/vnd.jupyter.widget-view+json": {
       "model_id": "bafd8ea2204e4a1da0e774a527e07a7a",
       "version_major": 2,
       "version_minor": 0
      },
      "text/plain": [
       "  0%|          | 0/5 [00:00<?, ?it/s]"
      ]
     },
     "metadata": {},
     "output_type": "display_data"
    },
    {
     "name": "stdout",
     "output_type": "stream",
     "text": [
      "Finished training after 275 seconds\n",
      "\t{'combined': 0.384360090047505, 'between': 0.4554584431125086, 'within': -0.016300107674143537}\n",
      "\n",
      "\n",
      "\n",
      "\n",
      "Training on at least 5 Households per cluster\n",
      "Fold 0, specified test ratio: 0.2 - Actual test ratio 0.23\n",
      "Fold 1, specified test ratio: 0.2 - Actual test ratio 0.20\n",
      "Fold 2, specified test ratio: 0.2 - Actual test ratio 0.21\n",
      "Fold 3, specified test ratio: 0.2 - Actual test ratio 0.20\n",
      "Fold 4, specified test ratio: 0.2 - Actual test ratio 0.16\n",
      "\n",
      "\tBetween model\n",
      "Initialising training\n"
     ]
    },
    {
     "data": {
      "application/vnd.jupyter.widget-view+json": {
       "model_id": "f298655d6d9f4b47b8adeeb6f69731a4",
       "version_major": 2,
       "version_minor": 0
      },
      "text/plain": [
       "  0%|          | 0/5 [00:00<?, ?it/s]"
      ]
     },
     "metadata": {},
     "output_type": "display_data"
    },
    {
     "name": "stdout",
     "output_type": "stream",
     "text": [
      "Finished training after 137 seconds\n",
      "\n",
      "\tWithin Model\n",
      "Initialising training\n"
     ]
    },
    {
     "data": {
      "application/vnd.jupyter.widget-view+json": {
       "model_id": "af7580bc762c47b49b063a7d599f4edb",
       "version_major": 2,
       "version_minor": 0
      },
      "text/plain": [
       "  0%|          | 0/5 [00:00<?, ?it/s]"
      ]
     },
     "metadata": {},
     "output_type": "display_data"
    },
    {
     "name": "stdout",
     "output_type": "stream",
     "text": [
      "Finished training after 258 seconds\n",
      "\t{'combined': 0.40387906622391123, 'between': 0.48085928164079034, 'within': -0.014422503395477505}\n",
      "Fold 0, specified test ratio: 0.2 - Actual test ratio 0.22\n",
      "Fold 1, specified test ratio: 0.2 - Actual test ratio 0.20\n",
      "Fold 2, specified test ratio: 0.2 - Actual test ratio 0.21\n",
      "Fold 3, specified test ratio: 0.2 - Actual test ratio 0.20\n",
      "Fold 4, specified test ratio: 0.2 - Actual test ratio 0.17\n",
      "\n",
      "\tBetween model\n",
      "Initialising training\n"
     ]
    },
    {
     "data": {
      "application/vnd.jupyter.widget-view+json": {
       "model_id": "336225f8584d49198551243ed7640913",
       "version_major": 2,
       "version_minor": 0
      },
      "text/plain": [
       "  0%|          | 0/5 [00:00<?, ?it/s]"
      ]
     },
     "metadata": {},
     "output_type": "display_data"
    },
    {
     "name": "stdout",
     "output_type": "stream",
     "text": [
      "Finished training after 135 seconds\n",
      "\n",
      "\tWithin Model\n",
      "Initialising training\n"
     ]
    },
    {
     "data": {
      "application/vnd.jupyter.widget-view+json": {
       "model_id": "df55940cc6324379951ba61cc96ba8f8",
       "version_major": 2,
       "version_minor": 0
      },
      "text/plain": [
       "  0%|          | 0/5 [00:00<?, ?it/s]"
      ]
     },
     "metadata": {},
     "output_type": "display_data"
    },
    {
     "name": "stdout",
     "output_type": "stream",
     "text": [
      "Finished training after 258 seconds\n",
      "\t{'combined': 0.40704400093735515, 'between': 0.47561755218212615, 'within': -0.02311010521659367}\n",
      "Fold 0, specified test ratio: 0.2 - Actual test ratio 0.22\n",
      "Fold 1, specified test ratio: 0.2 - Actual test ratio 0.21\n",
      "Fold 2, specified test ratio: 0.2 - Actual test ratio 0.21\n",
      "Fold 3, specified test ratio: 0.2 - Actual test ratio 0.20\n",
      "Fold 4, specified test ratio: 0.2 - Actual test ratio 0.17\n",
      "\n",
      "\tBetween model\n",
      "Initialising training\n"
     ]
    },
    {
     "data": {
      "application/vnd.jupyter.widget-view+json": {
       "model_id": "28afb87976a04e4889779b0d76846de1",
       "version_major": 2,
       "version_minor": 0
      },
      "text/plain": [
       "  0%|          | 0/5 [00:00<?, ?it/s]"
      ]
     },
     "metadata": {},
     "output_type": "display_data"
    },
    {
     "name": "stdout",
     "output_type": "stream",
     "text": [
      "Finished training after 137 seconds\n",
      "\n",
      "\tWithin Model\n",
      "Initialising training\n"
     ]
    },
    {
     "data": {
      "application/vnd.jupyter.widget-view+json": {
       "model_id": "33ed80e915ab4366bce29685dab44d32",
       "version_major": 2,
       "version_minor": 0
      },
      "text/plain": [
       "  0%|          | 0/5 [00:00<?, ?it/s]"
      ]
     },
     "metadata": {},
     "output_type": "display_data"
    },
    {
     "name": "stdout",
     "output_type": "stream",
     "text": [
      "Finished training after 240 seconds\n",
      "\t{'combined': 0.40412733960654557, 'between': 0.47654344561444156, 'within': -0.01048226515379531}\n",
      "Fold 0, specified test ratio: 0.2 - Actual test ratio 0.24\n",
      "Fold 1, specified test ratio: 0.2 - Actual test ratio 0.21\n",
      "Fold 2, specified test ratio: 0.2 - Actual test ratio 0.21\n",
      "Fold 3, specified test ratio: 0.2 - Actual test ratio 0.20\n",
      "Fold 4, specified test ratio: 0.2 - Actual test ratio 0.15\n",
      "\n",
      "\tBetween model\n",
      "Initialising training\n"
     ]
    },
    {
     "data": {
      "application/vnd.jupyter.widget-view+json": {
       "model_id": "f8d78a92046c44039d78d6e3cecd7c5a",
       "version_major": 2,
       "version_minor": 0
      },
      "text/plain": [
       "  0%|          | 0/5 [00:00<?, ?it/s]"
      ]
     },
     "metadata": {},
     "output_type": "display_data"
    },
    {
     "name": "stdout",
     "output_type": "stream",
     "text": [
      "Finished training after 126 seconds\n",
      "\n",
      "\tWithin Model\n",
      "Initialising training\n"
     ]
    },
    {
     "data": {
      "application/vnd.jupyter.widget-view+json": {
       "model_id": "81c67787d07a467fba5fd69641315f14",
       "version_major": 2,
       "version_minor": 0
      },
      "text/plain": [
       "  0%|          | 0/5 [00:00<?, ?it/s]"
      ]
     },
     "metadata": {},
     "output_type": "display_data"
    },
    {
     "name": "stdout",
     "output_type": "stream",
     "text": [
      "Finished training after 234 seconds\n",
      "\t{'combined': 0.4109849402915917, 'between': 0.4846201168352521, 'within': -0.024562810901136302}\n",
      "Fold 0, specified test ratio: 0.2 - Actual test ratio 0.24\n",
      "Fold 1, specified test ratio: 0.2 - Actual test ratio 0.21\n",
      "Fold 2, specified test ratio: 0.2 - Actual test ratio 0.20\n",
      "Fold 3, specified test ratio: 0.2 - Actual test ratio 0.20\n",
      "Fold 4, specified test ratio: 0.2 - Actual test ratio 0.15\n",
      "\n",
      "\tBetween model\n",
      "Initialising training\n"
     ]
    },
    {
     "data": {
      "application/vnd.jupyter.widget-view+json": {
       "model_id": "2f2de2b98df04ba8b5dd50f78e02a082",
       "version_major": 2,
       "version_minor": 0
      },
      "text/plain": [
       "  0%|          | 0/5 [00:00<?, ?it/s]"
      ]
     },
     "metadata": {},
     "output_type": "display_data"
    },
    {
     "name": "stdout",
     "output_type": "stream",
     "text": [
      "Finished training after 124 seconds\n",
      "\n",
      "\tWithin Model\n",
      "Initialising training\n"
     ]
    },
    {
     "data": {
      "application/vnd.jupyter.widget-view+json": {
       "model_id": "7df238551ccb46f596e95e3fe60f8f0f",
       "version_major": 2,
       "version_minor": 0
      },
      "text/plain": [
       "  0%|          | 0/5 [00:00<?, ?it/s]"
      ]
     },
     "metadata": {},
     "output_type": "display_data"
    },
    {
     "name": "stdout",
     "output_type": "stream",
     "text": [
      "Finished training after 233 seconds\n",
      "\t{'combined': 0.4164937360767835, 'between': 0.4957138794820995, 'within': -0.023730494975179272}\n",
      "Fold 0, specified test ratio: 0.2 - Actual test ratio 0.21\n",
      "Fold 1, specified test ratio: 0.2 - Actual test ratio 0.22\n",
      "Fold 2, specified test ratio: 0.2 - Actual test ratio 0.20\n",
      "Fold 3, specified test ratio: 0.2 - Actual test ratio 0.20\n",
      "Fold 4, specified test ratio: 0.2 - Actual test ratio 0.16\n",
      "\n",
      "\tBetween model\n",
      "Initialising training\n"
     ]
    },
    {
     "data": {
      "application/vnd.jupyter.widget-view+json": {
       "model_id": "d41cdfe30d424f7096b0d0d266bbb512",
       "version_major": 2,
       "version_minor": 0
      },
      "text/plain": [
       "  0%|          | 0/5 [00:00<?, ?it/s]"
      ]
     },
     "metadata": {},
     "output_type": "display_data"
    },
    {
     "name": "stdout",
     "output_type": "stream",
     "text": [
      "Finished training after 123 seconds\n",
      "\n",
      "\tWithin Model\n",
      "Initialising training\n"
     ]
    },
    {
     "data": {
      "application/vnd.jupyter.widget-view+json": {
       "model_id": "c255cf0581ba48978531a329fab3934d",
       "version_major": 2,
       "version_minor": 0
      },
      "text/plain": [
       "  0%|          | 0/5 [00:00<?, ?it/s]"
      ]
     },
     "metadata": {},
     "output_type": "display_data"
    },
    {
     "name": "stdout",
     "output_type": "stream",
     "text": [
      "Finished training after 235 seconds\n",
      "\t{'combined': 0.38857648009822726, 'between': 0.4512811206426201, 'within': -0.024532714509945118}\n",
      "Fold 0, specified test ratio: 0.2 - Actual test ratio 0.24\n",
      "Fold 1, specified test ratio: 0.2 - Actual test ratio 0.20\n",
      "Fold 2, specified test ratio: 0.2 - Actual test ratio 0.20\n",
      "Fold 3, specified test ratio: 0.2 - Actual test ratio 0.20\n",
      "Fold 4, specified test ratio: 0.2 - Actual test ratio 0.15\n",
      "\n",
      "\tBetween model\n",
      "Initialising training\n"
     ]
    },
    {
     "data": {
      "application/vnd.jupyter.widget-view+json": {
       "model_id": "dcf7eff5cd0f4ff9812d67c86ce70b3f",
       "version_major": 2,
       "version_minor": 0
      },
      "text/plain": [
       "  0%|          | 0/5 [00:00<?, ?it/s]"
      ]
     },
     "metadata": {},
     "output_type": "display_data"
    },
    {
     "name": "stdout",
     "output_type": "stream",
     "text": [
      "Finished training after 120 seconds\n",
      "\n",
      "\tWithin Model\n",
      "Initialising training\n"
     ]
    },
    {
     "data": {
      "application/vnd.jupyter.widget-view+json": {
       "model_id": "f18360bd4d3d4b7dac6a7639a78aab57",
       "version_major": 2,
       "version_minor": 0
      },
      "text/plain": [
       "  0%|          | 0/5 [00:00<?, ?it/s]"
      ]
     },
     "metadata": {},
     "output_type": "display_data"
    },
    {
     "name": "stdout",
     "output_type": "stream",
     "text": [
      "Finished training after 235 seconds\n",
      "\t{'combined': 0.40969397921848566, 'between': 0.4779488783835824, 'within': -0.023995433682989176}\n",
      "Fold 0, specified test ratio: 0.2 - Actual test ratio 0.21\n",
      "Fold 1, specified test ratio: 0.2 - Actual test ratio 0.20\n",
      "Fold 2, specified test ratio: 0.2 - Actual test ratio 0.21\n",
      "Fold 3, specified test ratio: 0.2 - Actual test ratio 0.20\n",
      "Fold 4, specified test ratio: 0.2 - Actual test ratio 0.18\n",
      "\n",
      "\tBetween model\n",
      "Initialising training\n"
     ]
    },
    {
     "data": {
      "application/vnd.jupyter.widget-view+json": {
       "model_id": "cf005162d4eb4f0983c96b18cb09fc4f",
       "version_major": 2,
       "version_minor": 0
      },
      "text/plain": [
       "  0%|          | 0/5 [00:00<?, ?it/s]"
      ]
     },
     "metadata": {},
     "output_type": "display_data"
    },
    {
     "name": "stdout",
     "output_type": "stream",
     "text": [
      "Finished training after 123 seconds\n",
      "\n",
      "\tWithin Model\n",
      "Initialising training\n"
     ]
    },
    {
     "data": {
      "application/vnd.jupyter.widget-view+json": {
       "model_id": "b9050f6d54804b9e8d1cf9215871c425",
       "version_major": 2,
       "version_minor": 0
      },
      "text/plain": [
       "  0%|          | 0/5 [00:00<?, ?it/s]"
      ]
     },
     "metadata": {},
     "output_type": "display_data"
    },
    {
     "name": "stdout",
     "output_type": "stream",
     "text": [
      "Finished training after 236 seconds\n",
      "\t{'combined': 0.40822460517456644, 'between': 0.48786411109801214, 'within': -0.021430353562614267}\n",
      "Fold 0, specified test ratio: 0.2 - Actual test ratio 0.22\n",
      "Fold 1, specified test ratio: 0.2 - Actual test ratio 0.20\n",
      "Fold 2, specified test ratio: 0.2 - Actual test ratio 0.21\n",
      "Fold 3, specified test ratio: 0.2 - Actual test ratio 0.20\n",
      "Fold 4, specified test ratio: 0.2 - Actual test ratio 0.16\n",
      "\n",
      "\tBetween model\n",
      "Initialising training\n"
     ]
    },
    {
     "data": {
      "application/vnd.jupyter.widget-view+json": {
       "model_id": "d6b214eca78d4d92bce4a32d84ba956c",
       "version_major": 2,
       "version_minor": 0
      },
      "text/plain": [
       "  0%|          | 0/5 [00:00<?, ?it/s]"
      ]
     },
     "metadata": {},
     "output_type": "display_data"
    },
    {
     "name": "stdout",
     "output_type": "stream",
     "text": [
      "Finished training after 121 seconds\n",
      "\n",
      "\tWithin Model\n",
      "Initialising training\n"
     ]
    },
    {
     "data": {
      "application/vnd.jupyter.widget-view+json": {
       "model_id": "d91e2892e6b5473ea050b87217f5e83e",
       "version_major": 2,
       "version_minor": 0
      },
      "text/plain": [
       "  0%|          | 0/5 [00:00<?, ?it/s]"
      ]
     },
     "metadata": {},
     "output_type": "display_data"
    },
    {
     "name": "stdout",
     "output_type": "stream",
     "text": [
      "Finished training after 236 seconds\n",
      "\t{'combined': 0.39421512783434465, 'between': 0.4662060014091279, 'within': -0.01823702465871575}\n",
      "Fold 0, specified test ratio: 0.2 - Actual test ratio 0.21\n",
      "Fold 1, specified test ratio: 0.2 - Actual test ratio 0.20\n",
      "Fold 2, specified test ratio: 0.2 - Actual test ratio 0.20\n",
      "Fold 3, specified test ratio: 0.2 - Actual test ratio 0.20\n",
      "Fold 4, specified test ratio: 0.2 - Actual test ratio 0.18\n",
      "\n",
      "\tBetween model\n",
      "Initialising training\n"
     ]
    },
    {
     "data": {
      "application/vnd.jupyter.widget-view+json": {
       "model_id": "60bebe36b471461aab961279dce067d7",
       "version_major": 2,
       "version_minor": 0
      },
      "text/plain": [
       "  0%|          | 0/5 [00:00<?, ?it/s]"
      ]
     },
     "metadata": {},
     "output_type": "display_data"
    },
    {
     "name": "stdout",
     "output_type": "stream",
     "text": [
      "Finished training after 123 seconds\n",
      "\n",
      "\tWithin Model\n",
      "Initialising training\n"
     ]
    },
    {
     "data": {
      "application/vnd.jupyter.widget-view+json": {
       "model_id": "577a28542ac04da89df577b6e2049cb7",
       "version_major": 2,
       "version_minor": 0
      },
      "text/plain": [
       "  0%|          | 0/5 [00:00<?, ?it/s]"
      ]
     },
     "metadata": {},
     "output_type": "display_data"
    },
    {
     "name": "stdout",
     "output_type": "stream",
     "text": [
      "Finished training after 234 seconds\n",
      "\t{'combined': 0.3944509393564149, 'between': 0.4632029267325791, 'within': -0.023306306133480927}\n",
      "\n",
      "\n",
      "\n",
      "\n",
      "Training on at least 6 Households per cluster\n",
      "Fold 0, specified test ratio: 0.2 - Actual test ratio 0.21\n",
      "Fold 1, specified test ratio: 0.2 - Actual test ratio 0.21\n",
      "Fold 2, specified test ratio: 0.2 - Actual test ratio 0.20\n",
      "Fold 3, specified test ratio: 0.2 - Actual test ratio 0.20\n",
      "Fold 4, specified test ratio: 0.2 - Actual test ratio 0.18\n",
      "\n",
      "\tBetween model\n",
      "Initialising training\n"
     ]
    },
    {
     "data": {
      "application/vnd.jupyter.widget-view+json": {
       "model_id": "dc3601cccf7b4615b0ad8d92a23ef6f5",
       "version_major": 2,
       "version_minor": 0
      },
      "text/plain": [
       "  0%|          | 0/5 [00:00<?, ?it/s]"
      ]
     },
     "metadata": {},
     "output_type": "display_data"
    },
    {
     "name": "stdout",
     "output_type": "stream",
     "text": [
      "Finished training after 114 seconds\n",
      "\n",
      "\tWithin Model\n",
      "Initialising training\n"
     ]
    },
    {
     "data": {
      "application/vnd.jupyter.widget-view+json": {
       "model_id": "adfaa83a7eb3459188012c386a071c03",
       "version_major": 2,
       "version_minor": 0
      },
      "text/plain": [
       "  0%|          | 0/5 [00:00<?, ?it/s]"
      ]
     },
     "metadata": {},
     "output_type": "display_data"
    },
    {
     "name": "stdout",
     "output_type": "stream",
     "text": [
      "Finished training after 216 seconds\n",
      "\t{'combined': 0.3980063732525417, 'between': 0.47233611526315744, 'within': -0.014050294681499964}\n",
      "Fold 0, specified test ratio: 0.2 - Actual test ratio 0.21\n",
      "Fold 1, specified test ratio: 0.2 - Actual test ratio 0.20\n",
      "Fold 2, specified test ratio: 0.2 - Actual test ratio 0.20\n",
      "Fold 3, specified test ratio: 0.2 - Actual test ratio 0.20\n",
      "Fold 4, specified test ratio: 0.2 - Actual test ratio 0.18\n",
      "\n",
      "\tBetween model\n",
      "Initialising training\n"
     ]
    },
    {
     "data": {
      "application/vnd.jupyter.widget-view+json": {
       "model_id": "5fcbb3cba8454d04a0bc021422e184c2",
       "version_major": 2,
       "version_minor": 0
      },
      "text/plain": [
       "  0%|          | 0/5 [00:00<?, ?it/s]"
      ]
     },
     "metadata": {},
     "output_type": "display_data"
    },
    {
     "name": "stdout",
     "output_type": "stream",
     "text": [
      "Finished training after 114 seconds\n",
      "\n",
      "\tWithin Model\n",
      "Initialising training\n"
     ]
    },
    {
     "data": {
      "application/vnd.jupyter.widget-view+json": {
       "model_id": "919b7db765534dc4bcdddac671266163",
       "version_major": 2,
       "version_minor": 0
      },
      "text/plain": [
       "  0%|          | 0/5 [00:00<?, ?it/s]"
      ]
     },
     "metadata": {},
     "output_type": "display_data"
    },
    {
     "name": "stdout",
     "output_type": "stream",
     "text": [
      "Finished training after 214 seconds\n",
      "\t{'combined': 0.38868852190847775, 'between': 0.46722736729660713, 'within': -0.016838341437688965}\n",
      "Fold 0, specified test ratio: 0.2 - Actual test ratio 0.21\n",
      "Fold 1, specified test ratio: 0.2 - Actual test ratio 0.20\n",
      "Fold 2, specified test ratio: 0.2 - Actual test ratio 0.20\n",
      "Fold 3, specified test ratio: 0.2 - Actual test ratio 0.20\n",
      "Fold 4, specified test ratio: 0.2 - Actual test ratio 0.19\n",
      "\n",
      "\tBetween model\n",
      "Initialising training\n"
     ]
    },
    {
     "data": {
      "application/vnd.jupyter.widget-view+json": {
       "model_id": "87d777a6a4d64dac84205ba836dc80d1",
       "version_major": 2,
       "version_minor": 0
      },
      "text/plain": [
       "  0%|          | 0/5 [00:00<?, ?it/s]"
      ]
     },
     "metadata": {},
     "output_type": "display_data"
    },
    {
     "name": "stdout",
     "output_type": "stream",
     "text": [
      "Finished training after 116 seconds\n",
      "\n",
      "\tWithin Model\n",
      "Initialising training\n"
     ]
    },
    {
     "data": {
      "application/vnd.jupyter.widget-view+json": {
       "model_id": "dc9aeaeb789044e2b255291452f6ea0e",
       "version_major": 2,
       "version_minor": 0
      },
      "text/plain": [
       "  0%|          | 0/5 [00:00<?, ?it/s]"
      ]
     },
     "metadata": {},
     "output_type": "display_data"
    },
    {
     "name": "stdout",
     "output_type": "stream",
     "text": [
      "Finished training after 214 seconds\n",
      "\t{'combined': 0.3818989139276464, 'between': 0.457076591255091, 'within': -0.021840774690428732}\n",
      "Fold 0, specified test ratio: 0.2 - Actual test ratio 0.22\n",
      "Fold 1, specified test ratio: 0.2 - Actual test ratio 0.20\n",
      "Fold 2, specified test ratio: 0.2 - Actual test ratio 0.21\n",
      "Fold 3, specified test ratio: 0.2 - Actual test ratio 0.20\n",
      "Fold 4, specified test ratio: 0.2 - Actual test ratio 0.17\n",
      "\n",
      "\tBetween model\n",
      "Initialising training\n"
     ]
    },
    {
     "data": {
      "application/vnd.jupyter.widget-view+json": {
       "model_id": "bbb10497621a4b6d921508ad87a0f6af",
       "version_major": 2,
       "version_minor": 0
      },
      "text/plain": [
       "  0%|          | 0/5 [00:00<?, ?it/s]"
      ]
     },
     "metadata": {},
     "output_type": "display_data"
    },
    {
     "name": "stdout",
     "output_type": "stream",
     "text": [
      "Finished training after 120 seconds\n",
      "\n",
      "\tWithin Model\n",
      "Initialising training\n"
     ]
    },
    {
     "data": {
      "application/vnd.jupyter.widget-view+json": {
       "model_id": "6cfc990d333d4f7494f0d3ec908c6104",
       "version_major": 2,
       "version_minor": 0
      },
      "text/plain": [
       "  0%|          | 0/5 [00:00<?, ?it/s]"
      ]
     },
     "metadata": {},
     "output_type": "display_data"
    },
    {
     "name": "stdout",
     "output_type": "stream",
     "text": [
      "Finished training after 212 seconds\n",
      "\t{'combined': 0.39925065774415497, 'between': 0.4661695343688313, 'within': -0.01689681423948821}\n",
      "Fold 0, specified test ratio: 0.2 - Actual test ratio 0.24\n",
      "Fold 1, specified test ratio: 0.2 - Actual test ratio 0.20\n",
      "Fold 2, specified test ratio: 0.2 - Actual test ratio 0.20\n",
      "Fold 3, specified test ratio: 0.2 - Actual test ratio 0.20\n",
      "Fold 4, specified test ratio: 0.2 - Actual test ratio 0.15\n",
      "\n",
      "\tBetween model\n",
      "Initialising training\n"
     ]
    },
    {
     "data": {
      "application/vnd.jupyter.widget-view+json": {
       "model_id": "d108f7eacab54b73bc3cfa88ad164aec",
       "version_major": 2,
       "version_minor": 0
      },
      "text/plain": [
       "  0%|          | 0/5 [00:00<?, ?it/s]"
      ]
     },
     "metadata": {},
     "output_type": "display_data"
    },
    {
     "name": "stdout",
     "output_type": "stream",
     "text": [
      "Finished training after 116 seconds\n",
      "\n",
      "\tWithin Model\n",
      "Initialising training\n"
     ]
    },
    {
     "data": {
      "application/vnd.jupyter.widget-view+json": {
       "model_id": "6f97d8f8ac49428fbc36ab421bdbc1d8",
       "version_major": 2,
       "version_minor": 0
      },
      "text/plain": [
       "  0%|          | 0/5 [00:00<?, ?it/s]"
      ]
     },
     "metadata": {},
     "output_type": "display_data"
    },
    {
     "name": "stdout",
     "output_type": "stream",
     "text": [
      "Finished training after 214 seconds\n",
      "\t{'combined': 0.40312798031550606, 'between': 0.4819940758200846, 'within': -0.017869899760827312}\n",
      "Fold 0, specified test ratio: 0.2 - Actual test ratio 0.22\n",
      "Fold 1, specified test ratio: 0.2 - Actual test ratio 0.21\n",
      "Fold 2, specified test ratio: 0.2 - Actual test ratio 0.20\n",
      "Fold 3, specified test ratio: 0.2 - Actual test ratio 0.20\n",
      "Fold 4, specified test ratio: 0.2 - Actual test ratio 0.17\n",
      "\n",
      "\tBetween model\n",
      "Initialising training\n"
     ]
    },
    {
     "data": {
      "application/vnd.jupyter.widget-view+json": {
       "model_id": "77991a6a0ae14ce3bd74235bf12258ab",
       "version_major": 2,
       "version_minor": 0
      },
      "text/plain": [
       "  0%|          | 0/5 [00:00<?, ?it/s]"
      ]
     },
     "metadata": {},
     "output_type": "display_data"
    },
    {
     "name": "stdout",
     "output_type": "stream",
     "text": [
      "Finished training after 115 seconds\n",
      "\n",
      "\tWithin Model\n",
      "Initialising training\n"
     ]
    },
    {
     "data": {
      "application/vnd.jupyter.widget-view+json": {
       "model_id": "4a2c6d76a0ba43b4b57ce70d2cbfba4c",
       "version_major": 2,
       "version_minor": 0
      },
      "text/plain": [
       "  0%|          | 0/5 [00:00<?, ?it/s]"
      ]
     },
     "metadata": {},
     "output_type": "display_data"
    },
    {
     "name": "stdout",
     "output_type": "stream",
     "text": [
      "Finished training after 213 seconds\n",
      "\t{'combined': 0.37710954998467233, 'between': 0.44855844647265986, 'within': -0.020885344362536685}\n",
      "Fold 0, specified test ratio: 0.2 - Actual test ratio 0.21\n",
      "Fold 1, specified test ratio: 0.2 - Actual test ratio 0.21\n",
      "Fold 2, specified test ratio: 0.2 - Actual test ratio 0.20\n",
      "Fold 3, specified test ratio: 0.2 - Actual test ratio 0.20\n",
      "Fold 4, specified test ratio: 0.2 - Actual test ratio 0.17\n",
      "\n",
      "\tBetween model\n",
      "Initialising training\n"
     ]
    },
    {
     "data": {
      "application/vnd.jupyter.widget-view+json": {
       "model_id": "b4a0ada3126546cda507eb1b382f9802",
       "version_major": 2,
       "version_minor": 0
      },
      "text/plain": [
       "  0%|          | 0/5 [00:00<?, ?it/s]"
      ]
     },
     "metadata": {},
     "output_type": "display_data"
    },
    {
     "name": "stdout",
     "output_type": "stream",
     "text": [
      "Finished training after 115 seconds\n",
      "\n",
      "\tWithin Model\n",
      "Initialising training\n"
     ]
    },
    {
     "data": {
      "application/vnd.jupyter.widget-view+json": {
       "model_id": "62f53752220343d0a1998f804d24bae5",
       "version_major": 2,
       "version_minor": 0
      },
      "text/plain": [
       "  0%|          | 0/5 [00:00<?, ?it/s]"
      ]
     },
     "metadata": {},
     "output_type": "display_data"
    },
    {
     "name": "stdout",
     "output_type": "stream",
     "text": [
      "Finished training after 212 seconds\n",
      "\t{'combined': 0.39184570475325986, 'between': 0.4682353061831583, 'within': -0.0139518765602191}\n",
      "Fold 0, specified test ratio: 0.2 - Actual test ratio 0.21\n",
      "Fold 1, specified test ratio: 0.2 - Actual test ratio 0.20\n",
      "Fold 2, specified test ratio: 0.2 - Actual test ratio 0.20\n",
      "Fold 3, specified test ratio: 0.2 - Actual test ratio 0.20\n",
      "Fold 4, specified test ratio: 0.2 - Actual test ratio 0.18\n",
      "\n",
      "\tBetween model\n",
      "Initialising training\n"
     ]
    },
    {
     "data": {
      "application/vnd.jupyter.widget-view+json": {
       "model_id": "d749bf3a00884db7b1a9f270a53e2e7d",
       "version_major": 2,
       "version_minor": 0
      },
      "text/plain": [
       "  0%|          | 0/5 [00:00<?, ?it/s]"
      ]
     },
     "metadata": {},
     "output_type": "display_data"
    },
    {
     "name": "stdout",
     "output_type": "stream",
     "text": [
      "Finished training after 115 seconds\n",
      "\n",
      "\tWithin Model\n",
      "Initialising training\n"
     ]
    },
    {
     "data": {
      "application/vnd.jupyter.widget-view+json": {
       "model_id": "7344251d143e444ab597878be8dca626",
       "version_major": 2,
       "version_minor": 0
      },
      "text/plain": [
       "  0%|          | 0/5 [00:00<?, ?it/s]"
      ]
     },
     "metadata": {},
     "output_type": "display_data"
    },
    {
     "name": "stdout",
     "output_type": "stream",
     "text": [
      "Finished training after 211 seconds\n",
      "\t{'combined': 0.3873511111463544, 'between': 0.46492610968716874, 'within': -0.021793839445805173}\n",
      "Fold 0, specified test ratio: 0.2 - Actual test ratio 0.21\n",
      "Fold 1, specified test ratio: 0.2 - Actual test ratio 0.20\n",
      "Fold 2, specified test ratio: 0.2 - Actual test ratio 0.21\n",
      "Fold 3, specified test ratio: 0.2 - Actual test ratio 0.20\n",
      "Fold 4, specified test ratio: 0.2 - Actual test ratio 0.18\n",
      "\n",
      "\tBetween model\n",
      "Initialising training\n"
     ]
    },
    {
     "data": {
      "application/vnd.jupyter.widget-view+json": {
       "model_id": "c22f8dce07d3442b811d70fc9d7d43e0",
       "version_major": 2,
       "version_minor": 0
      },
      "text/plain": [
       "  0%|          | 0/5 [00:00<?, ?it/s]"
      ]
     },
     "metadata": {},
     "output_type": "display_data"
    },
    {
     "name": "stdout",
     "output_type": "stream",
     "text": [
      "Finished training after 117 seconds\n",
      "\n",
      "\tWithin Model\n",
      "Initialising training\n"
     ]
    },
    {
     "data": {
      "application/vnd.jupyter.widget-view+json": {
       "model_id": "72e6447b7bcb40fd84fd48e5c1639901",
       "version_major": 2,
       "version_minor": 0
      },
      "text/plain": [
       "  0%|          | 0/5 [00:00<?, ?it/s]"
      ]
     },
     "metadata": {},
     "output_type": "display_data"
    },
    {
     "name": "stdout",
     "output_type": "stream",
     "text": [
      "Finished training after 212 seconds\n",
      "\t{'combined': 0.389713425771135, 'between': 0.4676122291292445, 'within': -0.01767555093135358}\n",
      "Fold 0, specified test ratio: 0.2 - Actual test ratio 0.21\n",
      "Fold 1, specified test ratio: 0.2 - Actual test ratio 0.20\n",
      "Fold 2, specified test ratio: 0.2 - Actual test ratio 0.20\n",
      "Fold 3, specified test ratio: 0.2 - Actual test ratio 0.20\n",
      "Fold 4, specified test ratio: 0.2 - Actual test ratio 0.18\n",
      "\n",
      "\tBetween model\n",
      "Initialising training\n"
     ]
    },
    {
     "data": {
      "application/vnd.jupyter.widget-view+json": {
       "model_id": "9aeacc188e054cd68ec9fbca5d014abc",
       "version_major": 2,
       "version_minor": 0
      },
      "text/plain": [
       "  0%|          | 0/5 [00:00<?, ?it/s]"
      ]
     },
     "metadata": {},
     "output_type": "display_data"
    },
    {
     "name": "stdout",
     "output_type": "stream",
     "text": [
      "Finished training after 114 seconds\n",
      "\n",
      "\tWithin Model\n",
      "Initialising training\n"
     ]
    },
    {
     "data": {
      "application/vnd.jupyter.widget-view+json": {
       "model_id": "d7c61fa8e45c4596a201b28c42c5eecb",
       "version_major": 2,
       "version_minor": 0
      },
      "text/plain": [
       "  0%|          | 0/5 [00:00<?, ?it/s]"
      ]
     },
     "metadata": {},
     "output_type": "display_data"
    },
    {
     "name": "stdout",
     "output_type": "stream",
     "text": [
      "Finished training after 212 seconds\n",
      "\t{'combined': 0.39378833427524956, 'between': 0.476442059862185, 'within': -0.019044763881067926}\n",
      "\n",
      "\n",
      "\n",
      "\n",
      "Training on at least 7 Households per cluster\n",
      "Fold 0, specified test ratio: 0.2 - Actual test ratio 0.20\n",
      "Fold 1, specified test ratio: 0.2 - Actual test ratio 0.20\n",
      "Fold 2, specified test ratio: 0.2 - Actual test ratio 0.20\n",
      "Fold 3, specified test ratio: 0.2 - Actual test ratio 0.21\n",
      "Fold 4, specified test ratio: 0.2 - Actual test ratio 0.19\n",
      "\n",
      "\tBetween model\n",
      "Initialising training\n"
     ]
    },
    {
     "data": {
      "application/vnd.jupyter.widget-view+json": {
       "model_id": "0c4991055cb2490d9039241465e83e9d",
       "version_major": 2,
       "version_minor": 0
      },
      "text/plain": [
       "  0%|          | 0/5 [00:00<?, ?it/s]"
      ]
     },
     "metadata": {},
     "output_type": "display_data"
    },
    {
     "name": "stdout",
     "output_type": "stream",
     "text": [
      "Finished training after 104 seconds\n",
      "\n",
      "\tWithin Model\n",
      "Initialising training\n"
     ]
    },
    {
     "data": {
      "application/vnd.jupyter.widget-view+json": {
       "model_id": "e9e1235a8e2d42f9b95cca1ecc379ee3",
       "version_major": 2,
       "version_minor": 0
      },
      "text/plain": [
       "  0%|          | 0/5 [00:00<?, ?it/s]"
      ]
     },
     "metadata": {},
     "output_type": "display_data"
    },
    {
     "name": "stdout",
     "output_type": "stream",
     "text": [
      "Finished training after 183 seconds\n",
      "\t{'combined': 0.4064482613234763, 'between': 0.48066479929891953, 'within': -0.02081998827716376}\n",
      "Fold 0, specified test ratio: 0.2 - Actual test ratio 0.22\n",
      "Fold 1, specified test ratio: 0.2 - Actual test ratio 0.20\n",
      "Fold 2, specified test ratio: 0.2 - Actual test ratio 0.21\n",
      "Fold 3, specified test ratio: 0.2 - Actual test ratio 0.20\n",
      "Fold 4, specified test ratio: 0.2 - Actual test ratio 0.17\n",
      "\n",
      "\tBetween model\n",
      "Initialising training\n"
     ]
    },
    {
     "data": {
      "application/vnd.jupyter.widget-view+json": {
       "model_id": "199f6e64f9f844f0ac3dc0650d81abd4",
       "version_major": 2,
       "version_minor": 0
      },
      "text/plain": [
       "  0%|          | 0/5 [00:00<?, ?it/s]"
      ]
     },
     "metadata": {},
     "output_type": "display_data"
    },
    {
     "name": "stdout",
     "output_type": "stream",
     "text": [
      "Finished training after 100 seconds\n",
      "\n",
      "\tWithin Model\n",
      "Initialising training\n"
     ]
    },
    {
     "data": {
      "application/vnd.jupyter.widget-view+json": {
       "model_id": "1db8cdeb22dd4d2aab18c046c8c91455",
       "version_major": 2,
       "version_minor": 0
      },
      "text/plain": [
       "  0%|          | 0/5 [00:00<?, ?it/s]"
      ]
     },
     "metadata": {},
     "output_type": "display_data"
    },
    {
     "name": "stdout",
     "output_type": "stream",
     "text": [
      "Finished training after 185 seconds\n",
      "\t{'combined': 0.38848706026435875, 'between': 0.4622161505547575, 'within': -0.019462874068107004}\n",
      "Fold 0, specified test ratio: 0.2 - Actual test ratio 0.20\n",
      "Fold 1, specified test ratio: 0.2 - Actual test ratio 0.20\n",
      "Fold 2, specified test ratio: 0.2 - Actual test ratio 0.20\n",
      "Fold 3, specified test ratio: 0.2 - Actual test ratio 0.20\n",
      "Fold 4, specified test ratio: 0.2 - Actual test ratio 0.19\n",
      "\n",
      "\tBetween model\n",
      "Initialising training\n"
     ]
    },
    {
     "data": {
      "application/vnd.jupyter.widget-view+json": {
       "model_id": "7207643e01164b23a0de821afa1e8c47",
       "version_major": 2,
       "version_minor": 0
      },
      "text/plain": [
       "  0%|          | 0/5 [00:00<?, ?it/s]"
      ]
     },
     "metadata": {},
     "output_type": "display_data"
    },
    {
     "name": "stdout",
     "output_type": "stream",
     "text": [
      "Finished training after 103 seconds\n",
      "\n",
      "\tWithin Model\n",
      "Initialising training\n"
     ]
    },
    {
     "data": {
      "application/vnd.jupyter.widget-view+json": {
       "model_id": "65172c9129ff4fd2b366afb63edf7182",
       "version_major": 2,
       "version_minor": 0
      },
      "text/plain": [
       "  0%|          | 0/5 [00:00<?, ?it/s]"
      ]
     },
     "metadata": {},
     "output_type": "display_data"
    },
    {
     "name": "stdout",
     "output_type": "stream",
     "text": [
      "Finished training after 187 seconds\n",
      "\t{'combined': 0.3826442725284576, 'between': 0.4567444246953719, 'within': -0.026290649127719147}\n",
      "Fold 0, specified test ratio: 0.2 - Actual test ratio 0.20\n",
      "Fold 1, specified test ratio: 0.2 - Actual test ratio 0.20\n",
      "Fold 2, specified test ratio: 0.2 - Actual test ratio 0.21\n",
      "Fold 3, specified test ratio: 0.2 - Actual test ratio 0.20\n",
      "Fold 4, specified test ratio: 0.2 - Actual test ratio 0.19\n",
      "\n",
      "\tBetween model\n",
      "Initialising training\n"
     ]
    },
    {
     "data": {
      "application/vnd.jupyter.widget-view+json": {
       "model_id": "f3ece9f79ee841bb9a2add0cf7217ca4",
       "version_major": 2,
       "version_minor": 0
      },
      "text/plain": [
       "  0%|          | 0/5 [00:00<?, ?it/s]"
      ]
     },
     "metadata": {},
     "output_type": "display_data"
    },
    {
     "name": "stdout",
     "output_type": "stream",
     "text": [
      "Finished training after 102 seconds\n",
      "\n",
      "\tWithin Model\n",
      "Initialising training\n"
     ]
    },
    {
     "data": {
      "application/vnd.jupyter.widget-view+json": {
       "model_id": "92fe5977f2294c65abb993c89589fe85",
       "version_major": 2,
       "version_minor": 0
      },
      "text/plain": [
       "  0%|          | 0/5 [00:00<?, ?it/s]"
      ]
     },
     "metadata": {},
     "output_type": "display_data"
    },
    {
     "name": "stdout",
     "output_type": "stream",
     "text": [
      "Finished training after 189 seconds\n",
      "\t{'combined': 0.3900307197684929, 'between': 0.4679212588397742, 'within': -0.03485215113516023}\n",
      "Fold 0, specified test ratio: 0.2 - Actual test ratio 0.21\n",
      "Fold 1, specified test ratio: 0.2 - Actual test ratio 0.20\n",
      "Fold 2, specified test ratio: 0.2 - Actual test ratio 0.20\n",
      "Fold 3, specified test ratio: 0.2 - Actual test ratio 0.20\n",
      "Fold 4, specified test ratio: 0.2 - Actual test ratio 0.18\n",
      "\n",
      "\tBetween model\n",
      "Initialising training\n"
     ]
    },
    {
     "data": {
      "application/vnd.jupyter.widget-view+json": {
       "model_id": "7b1a05d98a6b4f3e8461be7642e9fdd3",
       "version_major": 2,
       "version_minor": 0
      },
      "text/plain": [
       "  0%|          | 0/5 [00:00<?, ?it/s]"
      ]
     },
     "metadata": {},
     "output_type": "display_data"
    },
    {
     "name": "stdout",
     "output_type": "stream",
     "text": [
      "Finished training after 96 seconds\n",
      "\n",
      "\tWithin Model\n",
      "Initialising training\n"
     ]
    },
    {
     "data": {
      "application/vnd.jupyter.widget-view+json": {
       "model_id": "1550776777404277bfcf95a5a83de525",
       "version_major": 2,
       "version_minor": 0
      },
      "text/plain": [
       "  0%|          | 0/5 [00:00<?, ?it/s]"
      ]
     },
     "metadata": {},
     "output_type": "display_data"
    },
    {
     "name": "stdout",
     "output_type": "stream",
     "text": [
      "Finished training after 186 seconds\n",
      "\t{'combined': 0.3785820071854382, 'between': 0.45677581466425565, 'within': -0.02424277374549457}\n",
      "Fold 0, specified test ratio: 0.2 - Actual test ratio 0.22\n",
      "Fold 1, specified test ratio: 0.2 - Actual test ratio 0.20\n",
      "Fold 2, specified test ratio: 0.2 - Actual test ratio 0.21\n",
      "Fold 3, specified test ratio: 0.2 - Actual test ratio 0.20\n",
      "Fold 4, specified test ratio: 0.2 - Actual test ratio 0.18\n",
      "\n",
      "\tBetween model\n",
      "Initialising training\n"
     ]
    },
    {
     "data": {
      "application/vnd.jupyter.widget-view+json": {
       "model_id": "48ba8f3107474702ab1c0367e5bf9556",
       "version_major": 2,
       "version_minor": 0
      },
      "text/plain": [
       "  0%|          | 0/5 [00:00<?, ?it/s]"
      ]
     },
     "metadata": {},
     "output_type": "display_data"
    },
    {
     "name": "stdout",
     "output_type": "stream",
     "text": [
      "Finished training after 96 seconds\n",
      "\n",
      "\tWithin Model\n",
      "Initialising training\n"
     ]
    },
    {
     "data": {
      "application/vnd.jupyter.widget-view+json": {
       "model_id": "7183c178ac6f42458a2dc7383b88b682",
       "version_major": 2,
       "version_minor": 0
      },
      "text/plain": [
       "  0%|          | 0/5 [00:00<?, ?it/s]"
      ]
     },
     "metadata": {},
     "output_type": "display_data"
    },
    {
     "name": "stdout",
     "output_type": "stream",
     "text": [
      "Finished training after 186 seconds\n",
      "\t{'combined': 0.3729311158705215, 'between': 0.44712315832697885, 'within': -0.020724211499756874}\n",
      "Fold 0, specified test ratio: 0.2 - Actual test ratio 0.20\n",
      "Fold 1, specified test ratio: 0.2 - Actual test ratio 0.21\n",
      "Fold 2, specified test ratio: 0.2 - Actual test ratio 0.21\n",
      "Fold 3, specified test ratio: 0.2 - Actual test ratio 0.20\n",
      "Fold 4, specified test ratio: 0.2 - Actual test ratio 0.18\n",
      "\n",
      "\tBetween model\n",
      "Initialising training\n"
     ]
    },
    {
     "data": {
      "application/vnd.jupyter.widget-view+json": {
       "model_id": "ffc9dc3b7f394c56a84e21ef34ed8bfb",
       "version_major": 2,
       "version_minor": 0
      },
      "text/plain": [
       "  0%|          | 0/5 [00:00<?, ?it/s]"
      ]
     },
     "metadata": {},
     "output_type": "display_data"
    },
    {
     "name": "stdout",
     "output_type": "stream",
     "text": [
      "Finished training after 97 seconds\n",
      "\n",
      "\tWithin Model\n",
      "Initialising training\n"
     ]
    },
    {
     "data": {
      "application/vnd.jupyter.widget-view+json": {
       "model_id": "847c530f9b2c4fd38d78c795842a43c6",
       "version_major": 2,
       "version_minor": 0
      },
      "text/plain": [
       "  0%|          | 0/5 [00:00<?, ?it/s]"
      ]
     },
     "metadata": {},
     "output_type": "display_data"
    },
    {
     "name": "stdout",
     "output_type": "stream",
     "text": [
      "Finished training after 185 seconds\n",
      "\t{'combined': 0.3658611675900574, 'between': 0.43208547745251036, 'within': -0.029154210247227152}\n",
      "Fold 0, specified test ratio: 0.2 - Actual test ratio 0.20\n",
      "Fold 1, specified test ratio: 0.2 - Actual test ratio 0.20\n",
      "Fold 2, specified test ratio: 0.2 - Actual test ratio 0.20\n",
      "Fold 3, specified test ratio: 0.2 - Actual test ratio 0.20\n",
      "Fold 4, specified test ratio: 0.2 - Actual test ratio 0.19\n",
      "\n",
      "\tBetween model\n",
      "Initialising training\n"
     ]
    },
    {
     "data": {
      "application/vnd.jupyter.widget-view+json": {
       "model_id": "36cf77c9390a4aed8ecb9a3835f0d302",
       "version_major": 2,
       "version_minor": 0
      },
      "text/plain": [
       "  0%|          | 0/5 [00:00<?, ?it/s]"
      ]
     },
     "metadata": {},
     "output_type": "display_data"
    },
    {
     "name": "stdout",
     "output_type": "stream",
     "text": [
      "Finished training after 97 seconds\n",
      "\n",
      "\tWithin Model\n",
      "Initialising training\n"
     ]
    },
    {
     "data": {
      "application/vnd.jupyter.widget-view+json": {
       "model_id": "c51958db1eb447418ca5c5776ffbd92a",
       "version_major": 2,
       "version_minor": 0
      },
      "text/plain": [
       "  0%|          | 0/5 [00:00<?, ?it/s]"
      ]
     },
     "metadata": {},
     "output_type": "display_data"
    },
    {
     "name": "stdout",
     "output_type": "stream",
     "text": [
      "Finished training after 186 seconds\n",
      "\t{'combined': 0.3644949190659832, 'between': 0.4332801715735525, 'within': -0.02833531191053331}\n",
      "Fold 0, specified test ratio: 0.2 - Actual test ratio 0.21\n",
      "Fold 1, specified test ratio: 0.2 - Actual test ratio 0.20\n",
      "Fold 2, specified test ratio: 0.2 - Actual test ratio 0.21\n",
      "Fold 3, specified test ratio: 0.2 - Actual test ratio 0.20\n",
      "Fold 4, specified test ratio: 0.2 - Actual test ratio 0.18\n",
      "\n",
      "\tBetween model\n",
      "Initialising training\n"
     ]
    },
    {
     "data": {
      "application/vnd.jupyter.widget-view+json": {
       "model_id": "32748013c9e042e499dee59db4123ab0",
       "version_major": 2,
       "version_minor": 0
      },
      "text/plain": [
       "  0%|          | 0/5 [00:00<?, ?it/s]"
      ]
     },
     "metadata": {},
     "output_type": "display_data"
    },
    {
     "name": "stdout",
     "output_type": "stream",
     "text": [
      "Finished training after 97 seconds\n",
      "\n",
      "\tWithin Model\n",
      "Initialising training\n"
     ]
    },
    {
     "data": {
      "application/vnd.jupyter.widget-view+json": {
       "model_id": "0c484500fac54e8692b4a1dda983efd6",
       "version_major": 2,
       "version_minor": 0
      },
      "text/plain": [
       "  0%|          | 0/5 [00:00<?, ?it/s]"
      ]
     },
     "metadata": {},
     "output_type": "display_data"
    },
    {
     "name": "stdout",
     "output_type": "stream",
     "text": [
      "Finished training after 185 seconds\n",
      "\t{'combined': 0.3933153669293336, 'between': 0.46881932573141044, 'within': -0.024799346971132508}\n",
      "Fold 0, specified test ratio: 0.2 - Actual test ratio 0.21\n",
      "Fold 1, specified test ratio: 0.2 - Actual test ratio 0.20\n",
      "Fold 2, specified test ratio: 0.2 - Actual test ratio 0.20\n",
      "Fold 3, specified test ratio: 0.2 - Actual test ratio 0.20\n",
      "Fold 4, specified test ratio: 0.2 - Actual test ratio 0.18\n",
      "\n",
      "\tBetween model\n",
      "Initialising training\n"
     ]
    },
    {
     "data": {
      "application/vnd.jupyter.widget-view+json": {
       "model_id": "72ed531b8e714976b9c0cb92facfc26e",
       "version_major": 2,
       "version_minor": 0
      },
      "text/plain": [
       "  0%|          | 0/5 [00:00<?, ?it/s]"
      ]
     },
     "metadata": {},
     "output_type": "display_data"
    },
    {
     "name": "stdout",
     "output_type": "stream",
     "text": [
      "Finished training after 97 seconds\n",
      "\n",
      "\tWithin Model\n",
      "Initialising training\n"
     ]
    },
    {
     "data": {
      "application/vnd.jupyter.widget-view+json": {
       "model_id": "11492a9f905c4627a9a8ce13ae509168",
       "version_major": 2,
       "version_minor": 0
      },
      "text/plain": [
       "  0%|          | 0/5 [00:00<?, ?it/s]"
      ]
     },
     "metadata": {},
     "output_type": "display_data"
    },
    {
     "name": "stdout",
     "output_type": "stream",
     "text": [
      "Finished training after 186 seconds\n",
      "\t{'combined': 0.38965121487794097, 'between': 0.4599815926780713, 'within': -0.022148043748618295}\n",
      "\n",
      "\n",
      "\n",
      "\n",
      "Training on at least 8 Households per cluster\n",
      "Fold 0, specified test ratio: 0.2 - Actual test ratio 0.21\n",
      "Fold 1, specified test ratio: 0.2 - Actual test ratio 0.20\n",
      "Fold 2, specified test ratio: 0.2 - Actual test ratio 0.20\n",
      "Fold 3, specified test ratio: 0.2 - Actual test ratio 0.20\n",
      "Fold 4, specified test ratio: 0.2 - Actual test ratio 0.18\n",
      "\n",
      "\tBetween model\n",
      "Initialising training\n"
     ]
    },
    {
     "data": {
      "application/vnd.jupyter.widget-view+json": {
       "model_id": "cd36cae1a90e43e8b0820bf9c1fed9a9",
       "version_major": 2,
       "version_minor": 0
      },
      "text/plain": [
       "  0%|          | 0/5 [00:00<?, ?it/s]"
      ]
     },
     "metadata": {},
     "output_type": "display_data"
    },
    {
     "name": "stdout",
     "output_type": "stream",
     "text": [
      "Finished training after 79 seconds\n",
      "\n",
      "\tWithin Model\n",
      "Initialising training\n"
     ]
    },
    {
     "data": {
      "application/vnd.jupyter.widget-view+json": {
       "model_id": "8beadc47f3b44323a2bcbcbe1edfc142",
       "version_major": 2,
       "version_minor": 0
      },
      "text/plain": [
       "  0%|          | 0/5 [00:00<?, ?it/s]"
      ]
     },
     "metadata": {},
     "output_type": "display_data"
    },
    {
     "name": "stdout",
     "output_type": "stream",
     "text": [
      "Finished training after 136 seconds\n",
      "\t{'combined': 0.3938594595724918, 'between': 0.46478441218923555, 'within': -0.00925451787619953}\n",
      "Fold 0, specified test ratio: 0.2 - Actual test ratio 0.21\n",
      "Fold 1, specified test ratio: 0.2 - Actual test ratio 0.21\n",
      "Fold 2, specified test ratio: 0.2 - Actual test ratio 0.20\n",
      "Fold 3, specified test ratio: 0.2 - Actual test ratio 0.20\n",
      "Fold 4, specified test ratio: 0.2 - Actual test ratio 0.17\n",
      "\n",
      "\tBetween model\n",
      "Initialising training\n"
     ]
    },
    {
     "data": {
      "application/vnd.jupyter.widget-view+json": {
       "model_id": "8480f7aa82c64603ba3c288df351b2fc",
       "version_major": 2,
       "version_minor": 0
      },
      "text/plain": [
       "  0%|          | 0/5 [00:00<?, ?it/s]"
      ]
     },
     "metadata": {},
     "output_type": "display_data"
    },
    {
     "name": "stdout",
     "output_type": "stream",
     "text": [
      "Finished training after 76 seconds\n",
      "\n",
      "\tWithin Model\n",
      "Initialising training\n"
     ]
    },
    {
     "data": {
      "application/vnd.jupyter.widget-view+json": {
       "model_id": "1285cc7dbf2a4f04a437c99e20e9931b",
       "version_major": 2,
       "version_minor": 0
      },
      "text/plain": [
       "  0%|          | 0/5 [00:00<?, ?it/s]"
      ]
     },
     "metadata": {},
     "output_type": "display_data"
    },
    {
     "name": "stdout",
     "output_type": "stream",
     "text": [
      "Finished training after 132 seconds\n",
      "\t{'combined': 0.37680192301304805, 'between': 0.4434931385841679, 'within': -0.025115154806272223}\n",
      "Fold 0, specified test ratio: 0.2 - Actual test ratio 0.23\n",
      "Fold 1, specified test ratio: 0.2 - Actual test ratio 0.20\n",
      "Fold 2, specified test ratio: 0.2 - Actual test ratio 0.20\n",
      "Fold 3, specified test ratio: 0.2 - Actual test ratio 0.20\n",
      "Fold 4, specified test ratio: 0.2 - Actual test ratio 0.16\n",
      "\n",
      "\tBetween model\n",
      "Initialising training\n"
     ]
    },
    {
     "data": {
      "application/vnd.jupyter.widget-view+json": {
       "model_id": "8db64502a28f4a30abd452c18ea39940",
       "version_major": 2,
       "version_minor": 0
      },
      "text/plain": [
       "  0%|          | 0/5 [00:00<?, ?it/s]"
      ]
     },
     "metadata": {},
     "output_type": "display_data"
    },
    {
     "name": "stdout",
     "output_type": "stream",
     "text": [
      "Finished training after 79 seconds\n",
      "\n",
      "\tWithin Model\n",
      "Initialising training\n"
     ]
    },
    {
     "data": {
      "application/vnd.jupyter.widget-view+json": {
       "model_id": "ee7b933f97ad4b64b48f46e5d7fbb716",
       "version_major": 2,
       "version_minor": 0
      },
      "text/plain": [
       "  0%|          | 0/5 [00:00<?, ?it/s]"
      ]
     },
     "metadata": {},
     "output_type": "display_data"
    },
    {
     "name": "stdout",
     "output_type": "stream",
     "text": [
      "Finished training after 130 seconds\n",
      "\t{'combined': 0.3925722474884017, 'between': 0.45852903372774295, 'within': -0.021705960602578612}\n",
      "Fold 0, specified test ratio: 0.2 - Actual test ratio 0.21\n",
      "Fold 1, specified test ratio: 0.2 - Actual test ratio 0.20\n",
      "Fold 2, specified test ratio: 0.2 - Actual test ratio 0.20\n",
      "Fold 3, specified test ratio: 0.2 - Actual test ratio 0.20\n",
      "Fold 4, specified test ratio: 0.2 - Actual test ratio 0.18\n",
      "\n",
      "\tBetween model\n",
      "Initialising training\n"
     ]
    },
    {
     "data": {
      "application/vnd.jupyter.widget-view+json": {
       "model_id": "686ab6684f0b4059bf2275b1f71014c8",
       "version_major": 2,
       "version_minor": 0
      },
      "text/plain": [
       "  0%|          | 0/5 [00:00<?, ?it/s]"
      ]
     },
     "metadata": {},
     "output_type": "display_data"
    },
    {
     "name": "stdout",
     "output_type": "stream",
     "text": [
      "Finished training after 76 seconds\n",
      "\n",
      "\tWithin Model\n",
      "Initialising training\n"
     ]
    },
    {
     "data": {
      "application/vnd.jupyter.widget-view+json": {
       "model_id": "35c39e7503534c0b893114fd0453ce94",
       "version_major": 2,
       "version_minor": 0
      },
      "text/plain": [
       "  0%|          | 0/5 [00:00<?, ?it/s]"
      ]
     },
     "metadata": {},
     "output_type": "display_data"
    },
    {
     "name": "stdout",
     "output_type": "stream",
     "text": [
      "Finished training after 132 seconds\n",
      "\t{'combined': 0.3913910652621469, 'between': 0.46315733225631417, 'within': -0.016235346978229127}\n",
      "Fold 0, specified test ratio: 0.2 - Actual test ratio 0.22\n",
      "Fold 1, specified test ratio: 0.2 - Actual test ratio 0.21\n",
      "Fold 2, specified test ratio: 0.2 - Actual test ratio 0.20\n",
      "Fold 3, specified test ratio: 0.2 - Actual test ratio 0.20\n",
      "Fold 4, specified test ratio: 0.2 - Actual test ratio 0.17\n",
      "\n",
      "\tBetween model\n",
      "Initialising training\n"
     ]
    },
    {
     "data": {
      "application/vnd.jupyter.widget-view+json": {
       "model_id": "93ee407792fc4a8dbf41c103f6d6c852",
       "version_major": 2,
       "version_minor": 0
      },
      "text/plain": [
       "  0%|          | 0/5 [00:00<?, ?it/s]"
      ]
     },
     "metadata": {},
     "output_type": "display_data"
    },
    {
     "name": "stdout",
     "output_type": "stream",
     "text": [
      "Finished training after 78 seconds\n",
      "\n",
      "\tWithin Model\n",
      "Initialising training\n"
     ]
    },
    {
     "data": {
      "application/vnd.jupyter.widget-view+json": {
       "model_id": "20b78b8506b045ecb7b71c227a0450d0",
       "version_major": 2,
       "version_minor": 0
      },
      "text/plain": [
       "  0%|          | 0/5 [00:00<?, ?it/s]"
      ]
     },
     "metadata": {},
     "output_type": "display_data"
    },
    {
     "name": "stdout",
     "output_type": "stream",
     "text": [
      "Finished training after 133 seconds\n",
      "\t{'combined': 0.39762835183467093, 'between': 0.47030037650500506, 'within': -0.01391725478329553}\n",
      "Fold 0, specified test ratio: 0.2 - Actual test ratio 0.22\n",
      "Fold 1, specified test ratio: 0.2 - Actual test ratio 0.21\n",
      "Fold 2, specified test ratio: 0.2 - Actual test ratio 0.20\n",
      "Fold 3, specified test ratio: 0.2 - Actual test ratio 0.21\n",
      "Fold 4, specified test ratio: 0.2 - Actual test ratio 0.16\n",
      "\n",
      "\tBetween model\n",
      "Initialising training\n"
     ]
    },
    {
     "data": {
      "application/vnd.jupyter.widget-view+json": {
       "model_id": "cfeffeacc1af418dab36c23bf79cd46b",
       "version_major": 2,
       "version_minor": 0
      },
      "text/plain": [
       "  0%|          | 0/5 [00:00<?, ?it/s]"
      ]
     },
     "metadata": {},
     "output_type": "display_data"
    },
    {
     "name": "stdout",
     "output_type": "stream",
     "text": [
      "Finished training after 77 seconds\n",
      "\n",
      "\tWithin Model\n",
      "Initialising training\n"
     ]
    },
    {
     "data": {
      "application/vnd.jupyter.widget-view+json": {
       "model_id": "5169964279e64d9f8dde66a94566fbb4",
       "version_major": 2,
       "version_minor": 0
      },
      "text/plain": [
       "  0%|          | 0/5 [00:00<?, ?it/s]"
      ]
     },
     "metadata": {},
     "output_type": "display_data"
    },
    {
     "name": "stdout",
     "output_type": "stream",
     "text": [
      "Finished training after 131 seconds\n",
      "\t{'combined': 0.3897654917052118, 'between': 0.4639312168409183, 'within': -0.023860644835378288}\n",
      "Fold 0, specified test ratio: 0.2 - Actual test ratio 0.21\n",
      "Fold 1, specified test ratio: 0.2 - Actual test ratio 0.20\n",
      "Fold 2, specified test ratio: 0.2 - Actual test ratio 0.20\n",
      "Fold 3, specified test ratio: 0.2 - Actual test ratio 0.20\n",
      "Fold 4, specified test ratio: 0.2 - Actual test ratio 0.18\n",
      "\n",
      "\tBetween model\n",
      "Initialising training\n"
     ]
    },
    {
     "data": {
      "application/vnd.jupyter.widget-view+json": {
       "model_id": "7e717d9441f8400d8d37509b3b62ea2c",
       "version_major": 2,
       "version_minor": 0
      },
      "text/plain": [
       "  0%|          | 0/5 [00:00<?, ?it/s]"
      ]
     },
     "metadata": {},
     "output_type": "display_data"
    },
    {
     "name": "stdout",
     "output_type": "stream",
     "text": [
      "Finished training after 77 seconds\n",
      "\n",
      "\tWithin Model\n",
      "Initialising training\n"
     ]
    },
    {
     "data": {
      "application/vnd.jupyter.widget-view+json": {
       "model_id": "a1457fbab9a44e8daad2f353b8425f7e",
       "version_major": 2,
       "version_minor": 0
      },
      "text/plain": [
       "  0%|          | 0/5 [00:00<?, ?it/s]"
      ]
     },
     "metadata": {},
     "output_type": "display_data"
    },
    {
     "name": "stdout",
     "output_type": "stream",
     "text": [
      "Finished training after 133 seconds\n",
      "\t{'combined': 0.3748532092426013, 'between': 0.44740629412532484, 'within': -0.020227658060879783}\n",
      "Fold 0, specified test ratio: 0.2 - Actual test ratio 0.21\n",
      "Fold 1, specified test ratio: 0.2 - Actual test ratio 0.20\n",
      "Fold 2, specified test ratio: 0.2 - Actual test ratio 0.20\n",
      "Fold 3, specified test ratio: 0.2 - Actual test ratio 0.20\n",
      "Fold 4, specified test ratio: 0.2 - Actual test ratio 0.18\n",
      "\n",
      "\tBetween model\n",
      "Initialising training\n"
     ]
    },
    {
     "data": {
      "application/vnd.jupyter.widget-view+json": {
       "model_id": "76ca7ba617344604a934fb0dda0134fe",
       "version_major": 2,
       "version_minor": 0
      },
      "text/plain": [
       "  0%|          | 0/5 [00:00<?, ?it/s]"
      ]
     },
     "metadata": {},
     "output_type": "display_data"
    },
    {
     "name": "stdout",
     "output_type": "stream",
     "text": [
      "Finished training after 77 seconds\n",
      "\n",
      "\tWithin Model\n",
      "Initialising training\n"
     ]
    },
    {
     "data": {
      "application/vnd.jupyter.widget-view+json": {
       "model_id": "0cfe2ef061ac47d78c61e8c33925391d",
       "version_major": 2,
       "version_minor": 0
      },
      "text/plain": [
       "  0%|          | 0/5 [00:00<?, ?it/s]"
      ]
     },
     "metadata": {},
     "output_type": "display_data"
    },
    {
     "name": "stdout",
     "output_type": "stream",
     "text": [
      "Finished training after 134 seconds\n",
      "\t{'combined': 0.3717401400900071, 'between': 0.4454341486024459, 'within': -0.014625859697478205}\n",
      "Fold 0, specified test ratio: 0.2 - Actual test ratio 0.21\n",
      "Fold 1, specified test ratio: 0.2 - Actual test ratio 0.21\n",
      "Fold 2, specified test ratio: 0.2 - Actual test ratio 0.20\n",
      "Fold 3, specified test ratio: 0.2 - Actual test ratio 0.20\n",
      "Fold 4, specified test ratio: 0.2 - Actual test ratio 0.18\n",
      "\n",
      "\tBetween model\n",
      "Initialising training\n"
     ]
    },
    {
     "data": {
      "application/vnd.jupyter.widget-view+json": {
       "model_id": "9908f38e0ee84f32830071ae545c860a",
       "version_major": 2,
       "version_minor": 0
      },
      "text/plain": [
       "  0%|          | 0/5 [00:00<?, ?it/s]"
      ]
     },
     "metadata": {},
     "output_type": "display_data"
    },
    {
     "name": "stdout",
     "output_type": "stream",
     "text": [
      "Finished training after 77 seconds\n",
      "\n",
      "\tWithin Model\n",
      "Initialising training\n"
     ]
    },
    {
     "data": {
      "application/vnd.jupyter.widget-view+json": {
       "model_id": "1ef6719296ac444ba9251f8130538c8b",
       "version_major": 2,
       "version_minor": 0
      },
      "text/plain": [
       "  0%|          | 0/5 [00:00<?, ?it/s]"
      ]
     },
     "metadata": {},
     "output_type": "display_data"
    },
    {
     "name": "stdout",
     "output_type": "stream",
     "text": [
      "Finished training after 132 seconds\n",
      "\t{'combined': 0.39119335563315766, 'between': 0.46122909995229033, 'within': -0.0166055914099019}\n",
      "Fold 0, specified test ratio: 0.2 - Actual test ratio 0.21\n",
      "Fold 1, specified test ratio: 0.2 - Actual test ratio 0.20\n",
      "Fold 2, specified test ratio: 0.2 - Actual test ratio 0.20\n",
      "Fold 3, specified test ratio: 0.2 - Actual test ratio 0.20\n",
      "Fold 4, specified test ratio: 0.2 - Actual test ratio 0.18\n",
      "\n",
      "\tBetween model\n",
      "Initialising training\n"
     ]
    },
    {
     "data": {
      "application/vnd.jupyter.widget-view+json": {
       "model_id": "2debd7cd02b44b5abdae642f8c8e2093",
       "version_major": 2,
       "version_minor": 0
      },
      "text/plain": [
       "  0%|          | 0/5 [00:00<?, ?it/s]"
      ]
     },
     "metadata": {},
     "output_type": "display_data"
    },
    {
     "name": "stdout",
     "output_type": "stream",
     "text": [
      "Finished training after 77 seconds\n",
      "\n",
      "\tWithin Model\n",
      "Initialising training\n"
     ]
    },
    {
     "data": {
      "application/vnd.jupyter.widget-view+json": {
       "model_id": "346ea55118a049cb8012d30fe499f8c8",
       "version_major": 2,
       "version_minor": 0
      },
      "text/plain": [
       "  0%|          | 0/5 [00:00<?, ?it/s]"
      ]
     },
     "metadata": {},
     "output_type": "display_data"
    },
    {
     "name": "stdout",
     "output_type": "stream",
     "text": [
      "Finished training after 131 seconds\n",
      "\t{'combined': 0.3760824836058937, 'between': 0.4430265219104446, 'within': -0.014878395392242427}\n",
      "\n",
      "\n",
      "\n",
      "\n",
      "Training on at least 9 Households per cluster\n",
      "Fold 0, specified test ratio: 0.2 - Actual test ratio 0.21\n",
      "Fold 1, specified test ratio: 0.2 - Actual test ratio 0.21\n",
      "Fold 2, specified test ratio: 0.2 - Actual test ratio 0.20\n",
      "Fold 3, specified test ratio: 0.2 - Actual test ratio 0.21\n",
      "Fold 4, specified test ratio: 0.2 - Actual test ratio 0.17\n",
      "\n",
      "\tBetween model\n",
      "Initialising training\n"
     ]
    },
    {
     "data": {
      "application/vnd.jupyter.widget-view+json": {
       "model_id": "61f24c3d84244e9ab2677a104183eb76",
       "version_major": 2,
       "version_minor": 0
      },
      "text/plain": [
       "  0%|          | 0/5 [00:00<?, ?it/s]"
      ]
     },
     "metadata": {},
     "output_type": "display_data"
    },
    {
     "name": "stdout",
     "output_type": "stream",
     "text": [
      "Finished training after 61 seconds\n",
      "\n",
      "\tWithin Model\n",
      "Initialising training\n"
     ]
    },
    {
     "data": {
      "application/vnd.jupyter.widget-view+json": {
       "model_id": "2c1f40dd0a6d4375a598c7a313b768a5",
       "version_major": 2,
       "version_minor": 0
      },
      "text/plain": [
       "  0%|          | 0/5 [00:00<?, ?it/s]"
      ]
     },
     "metadata": {},
     "output_type": "display_data"
    },
    {
     "name": "stdout",
     "output_type": "stream",
     "text": [
      "Finished training after 93 seconds\n",
      "\t{'combined': 0.36628746920241373, 'between': 0.4296993484121079, 'within': -0.023601669669008517}\n",
      "Fold 0, specified test ratio: 0.2 - Actual test ratio 0.22\n",
      "Fold 1, specified test ratio: 0.2 - Actual test ratio 0.22\n",
      "Fold 2, specified test ratio: 0.2 - Actual test ratio 0.21\n",
      "Fold 3, specified test ratio: 0.2 - Actual test ratio 0.20\n",
      "Fold 4, specified test ratio: 0.2 - Actual test ratio 0.15\n",
      "\n",
      "\tBetween model\n",
      "Initialising training\n"
     ]
    },
    {
     "data": {
      "application/vnd.jupyter.widget-view+json": {
       "model_id": "71699c4fc8de43e69c50f67af06098f6",
       "version_major": 2,
       "version_minor": 0
      },
      "text/plain": [
       "  0%|          | 0/5 [00:00<?, ?it/s]"
      ]
     },
     "metadata": {},
     "output_type": "display_data"
    },
    {
     "name": "stdout",
     "output_type": "stream",
     "text": [
      "Finished training after 58 seconds\n",
      "\n",
      "\tWithin Model\n",
      "Initialising training\n"
     ]
    },
    {
     "data": {
      "application/vnd.jupyter.widget-view+json": {
       "model_id": "888026d3833344ffa95b7243293d45a0",
       "version_major": 2,
       "version_minor": 0
      },
      "text/plain": [
       "  0%|          | 0/5 [00:00<?, ?it/s]"
      ]
     },
     "metadata": {},
     "output_type": "display_data"
    },
    {
     "name": "stdout",
     "output_type": "stream",
     "text": [
      "Finished training after 92 seconds\n",
      "\t{'combined': 0.3688602137923231, 'between': 0.43670448845051074, 'within': -0.011656184215954112}\n",
      "Fold 0, specified test ratio: 0.2 - Actual test ratio 0.22\n",
      "Fold 1, specified test ratio: 0.2 - Actual test ratio 0.21\n",
      "Fold 2, specified test ratio: 0.2 - Actual test ratio 0.21\n",
      "Fold 3, specified test ratio: 0.2 - Actual test ratio 0.20\n",
      "Fold 4, specified test ratio: 0.2 - Actual test ratio 0.17\n",
      "\n",
      "\tBetween model\n",
      "Initialising training\n"
     ]
    },
    {
     "data": {
      "application/vnd.jupyter.widget-view+json": {
       "model_id": "e783c392ae4d48b28a11aebe0be000e2",
       "version_major": 2,
       "version_minor": 0
      },
      "text/plain": [
       "  0%|          | 0/5 [00:00<?, ?it/s]"
      ]
     },
     "metadata": {},
     "output_type": "display_data"
    },
    {
     "name": "stdout",
     "output_type": "stream",
     "text": [
      "Finished training after 58 seconds\n",
      "\n",
      "\tWithin Model\n",
      "Initialising training\n"
     ]
    },
    {
     "data": {
      "application/vnd.jupyter.widget-view+json": {
       "model_id": "45746b6dc9ce45f084d28c5257359df9",
       "version_major": 2,
       "version_minor": 0
      },
      "text/plain": [
       "  0%|          | 0/5 [00:00<?, ?it/s]"
      ]
     },
     "metadata": {},
     "output_type": "display_data"
    },
    {
     "name": "stdout",
     "output_type": "stream",
     "text": [
      "Finished training after 92 seconds\n",
      "\t{'combined': 0.3765197814360403, 'between': 0.44633991488187463, 'within': -0.011067848354811827}\n",
      "Fold 0, specified test ratio: 0.2 - Actual test ratio 0.21\n",
      "Fold 1, specified test ratio: 0.2 - Actual test ratio 0.21\n",
      "Fold 2, specified test ratio: 0.2 - Actual test ratio 0.20\n",
      "Fold 3, specified test ratio: 0.2 - Actual test ratio 0.21\n",
      "Fold 4, specified test ratio: 0.2 - Actual test ratio 0.17\n",
      "\n",
      "\tBetween model\n",
      "Initialising training\n"
     ]
    },
    {
     "data": {
      "application/vnd.jupyter.widget-view+json": {
       "model_id": "1de0c2b3d65f4dad821167988d8dbbf1",
       "version_major": 2,
       "version_minor": 0
      },
      "text/plain": [
       "  0%|          | 0/5 [00:00<?, ?it/s]"
      ]
     },
     "metadata": {},
     "output_type": "display_data"
    },
    {
     "name": "stdout",
     "output_type": "stream",
     "text": [
      "Finished training after 58 seconds\n",
      "\n",
      "\tWithin Model\n",
      "Initialising training\n"
     ]
    },
    {
     "data": {
      "application/vnd.jupyter.widget-view+json": {
       "model_id": "d172acced0a84c7881077758c6a07943",
       "version_major": 2,
       "version_minor": 0
      },
      "text/plain": [
       "  0%|          | 0/5 [00:00<?, ?it/s]"
      ]
     },
     "metadata": {},
     "output_type": "display_data"
    },
    {
     "name": "stdout",
     "output_type": "stream",
     "text": [
      "Finished training after 92 seconds\n",
      "\t{'combined': 0.36456965770295746, 'between': 0.4360614808217971, 'within': -0.012799439391675627}\n",
      "Fold 0, specified test ratio: 0.2 - Actual test ratio 0.21\n",
      "Fold 1, specified test ratio: 0.2 - Actual test ratio 0.21\n",
      "Fold 2, specified test ratio: 0.2 - Actual test ratio 0.20\n",
      "Fold 3, specified test ratio: 0.2 - Actual test ratio 0.20\n",
      "Fold 4, specified test ratio: 0.2 - Actual test ratio 0.17\n",
      "\n",
      "\tBetween model\n",
      "Initialising training\n"
     ]
    },
    {
     "data": {
      "application/vnd.jupyter.widget-view+json": {
       "model_id": "47a85afff85d40b1b9af92b6bcd5ba52",
       "version_major": 2,
       "version_minor": 0
      },
      "text/plain": [
       "  0%|          | 0/5 [00:00<?, ?it/s]"
      ]
     },
     "metadata": {},
     "output_type": "display_data"
    },
    {
     "name": "stdout",
     "output_type": "stream",
     "text": [
      "Finished training after 57 seconds\n",
      "\n",
      "\tWithin Model\n",
      "Initialising training\n"
     ]
    },
    {
     "data": {
      "application/vnd.jupyter.widget-view+json": {
       "model_id": "4b5d932b938d4df29a0b0f0e5dc4bab8",
       "version_major": 2,
       "version_minor": 0
      },
      "text/plain": [
       "  0%|          | 0/5 [00:00<?, ?it/s]"
      ]
     },
     "metadata": {},
     "output_type": "display_data"
    },
    {
     "name": "stdout",
     "output_type": "stream",
     "text": [
      "Finished training after 91 seconds\n",
      "\t{'combined': 0.3761097255797798, 'between': 0.4493854644109718, 'within': -0.022453736470958562}\n",
      "Fold 0, specified test ratio: 0.2 - Actual test ratio 0.22\n",
      "Fold 1, specified test ratio: 0.2 - Actual test ratio 0.22\n",
      "Fold 2, specified test ratio: 0.2 - Actual test ratio 0.21\n",
      "Fold 3, specified test ratio: 0.2 - Actual test ratio 0.20\n",
      "Fold 4, specified test ratio: 0.2 - Actual test ratio 0.15\n",
      "\n",
      "\tBetween model\n",
      "Initialising training\n"
     ]
    },
    {
     "data": {
      "application/vnd.jupyter.widget-view+json": {
       "model_id": "b4a9a66fc15c43629b5c0fab30a52b12",
       "version_major": 2,
       "version_minor": 0
      },
      "text/plain": [
       "  0%|          | 0/5 [00:00<?, ?it/s]"
      ]
     },
     "metadata": {},
     "output_type": "display_data"
    },
    {
     "name": "stdout",
     "output_type": "stream",
     "text": [
      "Finished training after 58 seconds\n",
      "\n",
      "\tWithin Model\n",
      "Initialising training\n"
     ]
    },
    {
     "data": {
      "application/vnd.jupyter.widget-view+json": {
       "model_id": "5aaa72e71d364a06bc411021ca5579b0",
       "version_major": 2,
       "version_minor": 0
      },
      "text/plain": [
       "  0%|          | 0/5 [00:00<?, ?it/s]"
      ]
     },
     "metadata": {},
     "output_type": "display_data"
    },
    {
     "name": "stdout",
     "output_type": "stream",
     "text": [
      "Finished training after 91 seconds\n",
      "\t{'combined': 0.34033187597326686, 'between': 0.3984121427056495, 'within': -0.008228474829072496}\n",
      "Fold 0, specified test ratio: 0.2 - Actual test ratio 0.21\n",
      "Fold 1, specified test ratio: 0.2 - Actual test ratio 0.20\n",
      "Fold 2, specified test ratio: 0.2 - Actual test ratio 0.21\n",
      "Fold 3, specified test ratio: 0.2 - Actual test ratio 0.20\n",
      "Fold 4, specified test ratio: 0.2 - Actual test ratio 0.17\n",
      "\n",
      "\tBetween model\n",
      "Initialising training\n"
     ]
    },
    {
     "data": {
      "application/vnd.jupyter.widget-view+json": {
       "model_id": "4502cc0043884f3f86c326cfc06a636c",
       "version_major": 2,
       "version_minor": 0
      },
      "text/plain": [
       "  0%|          | 0/5 [00:00<?, ?it/s]"
      ]
     },
     "metadata": {},
     "output_type": "display_data"
    },
    {
     "name": "stdout",
     "output_type": "stream",
     "text": [
      "Finished training after 57 seconds\n",
      "\n",
      "\tWithin Model\n",
      "Initialising training\n"
     ]
    },
    {
     "data": {
      "application/vnd.jupyter.widget-view+json": {
       "model_id": "37728cdffd0b4cc6acec1293c681269b",
       "version_major": 2,
       "version_minor": 0
      },
      "text/plain": [
       "  0%|          | 0/5 [00:00<?, ?it/s]"
      ]
     },
     "metadata": {},
     "output_type": "display_data"
    },
    {
     "name": "stdout",
     "output_type": "stream",
     "text": [
      "Finished training after 92 seconds\n",
      "\t{'combined': 0.3701026985721565, 'between': 0.43925674173572377, 'within': -0.012187381914412843}\n",
      "Fold 0, specified test ratio: 0.2 - Actual test ratio 0.21\n",
      "Fold 1, specified test ratio: 0.2 - Actual test ratio 0.20\n",
      "Fold 2, specified test ratio: 0.2 - Actual test ratio 0.20\n",
      "Fold 3, specified test ratio: 0.2 - Actual test ratio 0.20\n",
      "Fold 4, specified test ratio: 0.2 - Actual test ratio 0.18\n",
      "\n",
      "\tBetween model\n",
      "Initialising training\n"
     ]
    },
    {
     "data": {
      "application/vnd.jupyter.widget-view+json": {
       "model_id": "ac3dff62fca1496ab9310cbaf3bd4f55",
       "version_major": 2,
       "version_minor": 0
      },
      "text/plain": [
       "  0%|          | 0/5 [00:00<?, ?it/s]"
      ]
     },
     "metadata": {},
     "output_type": "display_data"
    },
    {
     "name": "stdout",
     "output_type": "stream",
     "text": [
      "Finished training after 57 seconds\n",
      "\n",
      "\tWithin Model\n",
      "Initialising training\n"
     ]
    },
    {
     "data": {
      "application/vnd.jupyter.widget-view+json": {
       "model_id": "48e5a857826d4d61980c68e378d226c6",
       "version_major": 2,
       "version_minor": 0
      },
      "text/plain": [
       "  0%|          | 0/5 [00:00<?, ?it/s]"
      ]
     },
     "metadata": {},
     "output_type": "display_data"
    },
    {
     "name": "stdout",
     "output_type": "stream",
     "text": [
      "Finished training after 92 seconds\n",
      "\t{'combined': 0.37766546563636727, 'between': 0.4479992605853601, 'within': -0.027605560326654156}\n",
      "Fold 0, specified test ratio: 0.2 - Actual test ratio 0.21\n",
      "Fold 1, specified test ratio: 0.2 - Actual test ratio 0.20\n",
      "Fold 2, specified test ratio: 0.2 - Actual test ratio 0.20\n",
      "Fold 3, specified test ratio: 0.2 - Actual test ratio 0.20\n",
      "Fold 4, specified test ratio: 0.2 - Actual test ratio 0.18\n",
      "\n",
      "\tBetween model\n",
      "Initialising training\n"
     ]
    },
    {
     "data": {
      "application/vnd.jupyter.widget-view+json": {
       "model_id": "d5b12a849f2f4e579a7f42912ff39393",
       "version_major": 2,
       "version_minor": 0
      },
      "text/plain": [
       "  0%|          | 0/5 [00:00<?, ?it/s]"
      ]
     },
     "metadata": {},
     "output_type": "display_data"
    },
    {
     "name": "stdout",
     "output_type": "stream",
     "text": [
      "Finished training after 58 seconds\n",
      "\n",
      "\tWithin Model\n",
      "Initialising training\n"
     ]
    },
    {
     "data": {
      "application/vnd.jupyter.widget-view+json": {
       "model_id": "e2d5b98b14284e438571e0a9a99978fd",
       "version_major": 2,
       "version_minor": 0
      },
      "text/plain": [
       "  0%|          | 0/5 [00:00<?, ?it/s]"
      ]
     },
     "metadata": {},
     "output_type": "display_data"
    },
    {
     "name": "stdout",
     "output_type": "stream",
     "text": [
      "Finished training after 92 seconds\n",
      "\t{'combined': 0.39045604611037266, 'between': 0.4691595332638884, 'within': -0.014987060396362505}\n",
      "Fold 0, specified test ratio: 0.2 - Actual test ratio 0.22\n",
      "Fold 1, specified test ratio: 0.2 - Actual test ratio 0.21\n",
      "Fold 2, specified test ratio: 0.2 - Actual test ratio 0.21\n",
      "Fold 3, specified test ratio: 0.2 - Actual test ratio 0.21\n",
      "Fold 4, specified test ratio: 0.2 - Actual test ratio 0.15\n",
      "\n",
      "\tBetween model\n",
      "Initialising training\n"
     ]
    },
    {
     "data": {
      "application/vnd.jupyter.widget-view+json": {
       "model_id": "3cde5db19ec746e58522fc48ef24bf17",
       "version_major": 2,
       "version_minor": 0
      },
      "text/plain": [
       "  0%|          | 0/5 [00:00<?, ?it/s]"
      ]
     },
     "metadata": {},
     "output_type": "display_data"
    },
    {
     "name": "stdout",
     "output_type": "stream",
     "text": [
      "Finished training after 58 seconds\n",
      "\n",
      "\tWithin Model\n",
      "Initialising training\n"
     ]
    },
    {
     "data": {
      "application/vnd.jupyter.widget-view+json": {
       "model_id": "c4f5c3b5f588456e9493fab10ede3fdd",
       "version_major": 2,
       "version_minor": 0
      },
      "text/plain": [
       "  0%|          | 0/5 [00:00<?, ?it/s]"
      ]
     },
     "metadata": {},
     "output_type": "display_data"
    },
    {
     "name": "stdout",
     "output_type": "stream",
     "text": [
      "Finished training after 92 seconds\n",
      "\t{'combined': 0.3854038494894894, 'between': 0.4586617242478117, 'within': -0.02334027430793457}\n",
      "\n",
      "\n",
      "\n",
      "\n",
      "Training on at least 10 Households per cluster\n",
      "Fold 0, specified test ratio: 0.2 - Actual test ratio 0.22\n",
      "Fold 1, specified test ratio: 0.2 - Actual test ratio 0.20\n",
      "Fold 2, specified test ratio: 0.2 - Actual test ratio 0.21\n",
      "Fold 3, specified test ratio: 0.2 - Actual test ratio 0.20\n",
      "Fold 4, specified test ratio: 0.2 - Actual test ratio 0.17\n",
      "\n",
      "\tBetween model\n",
      "Initialising training\n"
     ]
    },
    {
     "data": {
      "application/vnd.jupyter.widget-view+json": {
       "model_id": "4b5f2a9a1c844427aa558b0d52b286b5",
       "version_major": 2,
       "version_minor": 0
      },
      "text/plain": [
       "  0%|          | 0/5 [00:00<?, ?it/s]"
      ]
     },
     "metadata": {},
     "output_type": "display_data"
    },
    {
     "name": "stdout",
     "output_type": "stream",
     "text": [
      "Finished training after 50 seconds\n",
      "\n",
      "\tWithin Model\n",
      "Initialising training\n"
     ]
    },
    {
     "data": {
      "application/vnd.jupyter.widget-view+json": {
       "model_id": "e01addee1ef04fb4a2ccaf6121f784df",
       "version_major": 2,
       "version_minor": 0
      },
      "text/plain": [
       "  0%|          | 0/5 [00:00<?, ?it/s]"
      ]
     },
     "metadata": {},
     "output_type": "display_data"
    },
    {
     "name": "stdout",
     "output_type": "stream",
     "text": [
      "Finished training after 74 seconds\n",
      "\t{'combined': 0.3175629696371384, 'between': 0.38439854400449835, 'within': -0.026992211177390146}\n",
      "Fold 0, specified test ratio: 0.2 - Actual test ratio 0.20\n",
      "Fold 1, specified test ratio: 0.2 - Actual test ratio 0.23\n",
      "Fold 2, specified test ratio: 0.2 - Actual test ratio 0.20\n",
      "Fold 3, specified test ratio: 0.2 - Actual test ratio 0.21\n",
      "Fold 4, specified test ratio: 0.2 - Actual test ratio 0.16\n",
      "\n",
      "\tBetween model\n",
      "Initialising training\n"
     ]
    },
    {
     "data": {
      "application/vnd.jupyter.widget-view+json": {
       "model_id": "db3bd42acfa5465391bf350530f5a612",
       "version_major": 2,
       "version_minor": 0
      },
      "text/plain": [
       "  0%|          | 0/5 [00:00<?, ?it/s]"
      ]
     },
     "metadata": {},
     "output_type": "display_data"
    },
    {
     "name": "stdout",
     "output_type": "stream",
     "text": [
      "Finished training after 50 seconds\n",
      "\n",
      "\tWithin Model\n",
      "Initialising training\n"
     ]
    },
    {
     "data": {
      "application/vnd.jupyter.widget-view+json": {
       "model_id": "16f105f153b540baa16d9a1c6d743568",
       "version_major": 2,
       "version_minor": 0
      },
      "text/plain": [
       "  0%|          | 0/5 [00:00<?, ?it/s]"
      ]
     },
     "metadata": {},
     "output_type": "display_data"
    },
    {
     "name": "stdout",
     "output_type": "stream",
     "text": [
      "Finished training after 73 seconds\n",
      "\t{'combined': 0.31934918085187475, 'between': 0.38305974542895316, 'within': -0.02557712371677412}\n",
      "Fold 0, specified test ratio: 0.2 - Actual test ratio 0.23\n",
      "Fold 1, specified test ratio: 0.2 - Actual test ratio 0.20\n",
      "Fold 2, specified test ratio: 0.2 - Actual test ratio 0.21\n",
      "Fold 3, specified test ratio: 0.2 - Actual test ratio 0.20\n",
      "Fold 4, specified test ratio: 0.2 - Actual test ratio 0.16\n",
      "\n",
      "\tBetween model\n",
      "Initialising training\n"
     ]
    },
    {
     "data": {
      "application/vnd.jupyter.widget-view+json": {
       "model_id": "c7c7f0864acb4f219b580a641fe8d9f7",
       "version_major": 2,
       "version_minor": 0
      },
      "text/plain": [
       "  0%|          | 0/5 [00:00<?, ?it/s]"
      ]
     },
     "metadata": {},
     "output_type": "display_data"
    },
    {
     "name": "stdout",
     "output_type": "stream",
     "text": [
      "Finished training after 50 seconds\n",
      "\n",
      "\tWithin Model\n",
      "Initialising training\n"
     ]
    },
    {
     "data": {
      "application/vnd.jupyter.widget-view+json": {
       "model_id": "3ec0fae75b6848fea8e568bf972617d5",
       "version_major": 2,
       "version_minor": 0
      },
      "text/plain": [
       "  0%|          | 0/5 [00:00<?, ?it/s]"
      ]
     },
     "metadata": {},
     "output_type": "display_data"
    },
    {
     "name": "stdout",
     "output_type": "stream",
     "text": [
      "Finished training after 73 seconds\n",
      "\t{'combined': 0.27968047082256997, 'between': 0.3463541184332253, 'within': -0.0411900166857138}\n",
      "Fold 0, specified test ratio: 0.2 - Actual test ratio 0.21\n",
      "Fold 1, specified test ratio: 0.2 - Actual test ratio 0.21\n",
      "Fold 2, specified test ratio: 0.2 - Actual test ratio 0.20\n",
      "Fold 3, specified test ratio: 0.2 - Actual test ratio 0.20\n",
      "Fold 4, specified test ratio: 0.2 - Actual test ratio 0.17\n",
      "\n",
      "\tBetween model\n",
      "Initialising training\n"
     ]
    },
    {
     "data": {
      "application/vnd.jupyter.widget-view+json": {
       "model_id": "78f3392de0cd4d628b4cb149af15cafd",
       "version_major": 2,
       "version_minor": 0
      },
      "text/plain": [
       "  0%|          | 0/5 [00:00<?, ?it/s]"
      ]
     },
     "metadata": {},
     "output_type": "display_data"
    },
    {
     "name": "stdout",
     "output_type": "stream",
     "text": [
      "Finished training after 50 seconds\n",
      "\n",
      "\tWithin Model\n",
      "Initialising training\n"
     ]
    },
    {
     "data": {
      "application/vnd.jupyter.widget-view+json": {
       "model_id": "092afdc68f6a4086bda07d49eaf3c0b4",
       "version_major": 2,
       "version_minor": 0
      },
      "text/plain": [
       "  0%|          | 0/5 [00:00<?, ?it/s]"
      ]
     },
     "metadata": {},
     "output_type": "display_data"
    },
    {
     "name": "stdout",
     "output_type": "stream",
     "text": [
      "Finished training after 74 seconds\n",
      "\t{'combined': 0.3011258691016717, 'between': 0.36880372253006033, 'within': -0.036504910764082354}\n",
      "Fold 0, specified test ratio: 0.2 - Actual test ratio 0.23\n",
      "Fold 1, specified test ratio: 0.2 - Actual test ratio 0.21\n",
      "Fold 2, specified test ratio: 0.2 - Actual test ratio 0.21\n",
      "Fold 3, specified test ratio: 0.2 - Actual test ratio 0.20\n",
      "Fold 4, specified test ratio: 0.2 - Actual test ratio 0.16\n",
      "\n",
      "\tBetween model\n",
      "Initialising training\n"
     ]
    },
    {
     "data": {
      "application/vnd.jupyter.widget-view+json": {
       "model_id": "6ec9195e779f4a13a295316432c30b23",
       "version_major": 2,
       "version_minor": 0
      },
      "text/plain": [
       "  0%|          | 0/5 [00:00<?, ?it/s]"
      ]
     },
     "metadata": {},
     "output_type": "display_data"
    },
    {
     "name": "stdout",
     "output_type": "stream",
     "text": [
      "Finished training after 50 seconds\n",
      "\n",
      "\tWithin Model\n",
      "Initialising training\n"
     ]
    },
    {
     "data": {
      "application/vnd.jupyter.widget-view+json": {
       "model_id": "23208f46b29646e3a978d7edcf1eb18c",
       "version_major": 2,
       "version_minor": 0
      },
      "text/plain": [
       "  0%|          | 0/5 [00:00<?, ?it/s]"
      ]
     },
     "metadata": {},
     "output_type": "display_data"
    },
    {
     "name": "stdout",
     "output_type": "stream",
     "text": [
      "Finished training after 73 seconds\n",
      "\t{'combined': 0.2538055677130938, 'between': 0.30473739770013875, 'within': -0.03613596129100842}\n",
      "Fold 0, specified test ratio: 0.2 - Actual test ratio 0.20\n",
      "Fold 1, specified test ratio: 0.2 - Actual test ratio 0.22\n",
      "Fold 2, specified test ratio: 0.2 - Actual test ratio 0.22\n",
      "Fold 3, specified test ratio: 0.2 - Actual test ratio 0.21\n",
      "Fold 4, specified test ratio: 0.2 - Actual test ratio 0.15\n",
      "\n",
      "\tBetween model\n",
      "Initialising training\n"
     ]
    },
    {
     "data": {
      "application/vnd.jupyter.widget-view+json": {
       "model_id": "8e2085341452401ab2398ce9fbd00972",
       "version_major": 2,
       "version_minor": 0
      },
      "text/plain": [
       "  0%|          | 0/5 [00:00<?, ?it/s]"
      ]
     },
     "metadata": {},
     "output_type": "display_data"
    },
    {
     "name": "stdout",
     "output_type": "stream",
     "text": [
      "Finished training after 51 seconds\n",
      "\n",
      "\tWithin Model\n",
      "Initialising training\n"
     ]
    },
    {
     "data": {
      "application/vnd.jupyter.widget-view+json": {
       "model_id": "2fae0939d91443a7b20bd76a912bab2e",
       "version_major": 2,
       "version_minor": 0
      },
      "text/plain": [
       "  0%|          | 0/5 [00:00<?, ?it/s]"
      ]
     },
     "metadata": {},
     "output_type": "display_data"
    },
    {
     "name": "stdout",
     "output_type": "stream",
     "text": [
      "Finished training after 74 seconds\n",
      "\t{'combined': 0.3345680643646717, 'between': 0.40391636417659427, 'within': -0.030291102071954158}\n",
      "Fold 0, specified test ratio: 0.2 - Actual test ratio 0.21\n",
      "Fold 1, specified test ratio: 0.2 - Actual test ratio 0.21\n",
      "Fold 2, specified test ratio: 0.2 - Actual test ratio 0.21\n",
      "Fold 3, specified test ratio: 0.2 - Actual test ratio 0.20\n",
      "Fold 4, specified test ratio: 0.2 - Actual test ratio 0.17\n",
      "\n",
      "\tBetween model\n",
      "Initialising training\n"
     ]
    },
    {
     "data": {
      "application/vnd.jupyter.widget-view+json": {
       "model_id": "c4d5bf79ff38422ab61d1e1ea7caff9c",
       "version_major": 2,
       "version_minor": 0
      },
      "text/plain": [
       "  0%|          | 0/5 [00:00<?, ?it/s]"
      ]
     },
     "metadata": {},
     "output_type": "display_data"
    },
    {
     "name": "stdout",
     "output_type": "stream",
     "text": [
      "Finished training after 50 seconds\n",
      "\n",
      "\tWithin Model\n",
      "Initialising training\n"
     ]
    },
    {
     "data": {
      "application/vnd.jupyter.widget-view+json": {
       "model_id": "49d7a6ea428f4f9f9a20bbd146b1e382",
       "version_major": 2,
       "version_minor": 0
      },
      "text/plain": [
       "  0%|          | 0/5 [00:00<?, ?it/s]"
      ]
     },
     "metadata": {},
     "output_type": "display_data"
    },
    {
     "name": "stdout",
     "output_type": "stream",
     "text": [
      "Finished training after 74 seconds\n",
      "\t{'combined': 0.31699180361693413, 'between': 0.3796676225873537, 'within': -0.029669357139398046}\n",
      "Fold 0, specified test ratio: 0.2 - Actual test ratio 0.23\n",
      "Fold 1, specified test ratio: 0.2 - Actual test ratio 0.20\n",
      "Fold 2, specified test ratio: 0.2 - Actual test ratio 0.21\n",
      "Fold 3, specified test ratio: 0.2 - Actual test ratio 0.20\n",
      "Fold 4, specified test ratio: 0.2 - Actual test ratio 0.16\n",
      "\n",
      "\tBetween model\n",
      "Initialising training\n"
     ]
    },
    {
     "data": {
      "application/vnd.jupyter.widget-view+json": {
       "model_id": "7c9b51ab35954f3b91efb910da337095",
       "version_major": 2,
       "version_minor": 0
      },
      "text/plain": [
       "  0%|          | 0/5 [00:00<?, ?it/s]"
      ]
     },
     "metadata": {},
     "output_type": "display_data"
    },
    {
     "name": "stdout",
     "output_type": "stream",
     "text": [
      "Finished training after 51 seconds\n",
      "\n",
      "\tWithin Model\n",
      "Initialising training\n"
     ]
    },
    {
     "data": {
      "application/vnd.jupyter.widget-view+json": {
       "model_id": "39a1283d26014d17acba92cd6ea5e2f6",
       "version_major": 2,
       "version_minor": 0
      },
      "text/plain": [
       "  0%|          | 0/5 [00:00<?, ?it/s]"
      ]
     },
     "metadata": {},
     "output_type": "display_data"
    },
    {
     "name": "stdout",
     "output_type": "stream",
     "text": [
      "Finished training after 73 seconds\n",
      "\t{'combined': 0.34463140958564725, 'between': 0.4221200204362953, 'within': -0.027224914424199942}\n",
      "Fold 0, specified test ratio: 0.2 - Actual test ratio 0.21\n",
      "Fold 1, specified test ratio: 0.2 - Actual test ratio 0.23\n",
      "Fold 2, specified test ratio: 0.2 - Actual test ratio 0.21\n",
      "Fold 3, specified test ratio: 0.2 - Actual test ratio 0.20\n",
      "Fold 4, specified test ratio: 0.2 - Actual test ratio 0.16\n",
      "\n",
      "\tBetween model\n",
      "Initialising training\n"
     ]
    },
    {
     "data": {
      "application/vnd.jupyter.widget-view+json": {
       "model_id": "4b517c51a8b54772813f13082791040b",
       "version_major": 2,
       "version_minor": 0
      },
      "text/plain": [
       "  0%|          | 0/5 [00:00<?, ?it/s]"
      ]
     },
     "metadata": {},
     "output_type": "display_data"
    },
    {
     "name": "stdout",
     "output_type": "stream",
     "text": [
      "Finished training after 50 seconds\n",
      "\n",
      "\tWithin Model\n",
      "Initialising training\n"
     ]
    },
    {
     "data": {
      "application/vnd.jupyter.widget-view+json": {
       "model_id": "0f0e23979c5f46fcbfc72f5d94b2882d",
       "version_major": 2,
       "version_minor": 0
      },
      "text/plain": [
       "  0%|          | 0/5 [00:00<?, ?it/s]"
      ]
     },
     "metadata": {},
     "output_type": "display_data"
    },
    {
     "name": "stdout",
     "output_type": "stream",
     "text": [
      "Finished training after 73 seconds\n",
      "\t{'combined': 0.32857002162124144, 'between': 0.3912370714479897, 'within': -0.02407310407281693}\n",
      "Fold 0, specified test ratio: 0.2 - Actual test ratio 0.21\n",
      "Fold 1, specified test ratio: 0.2 - Actual test ratio 0.21\n",
      "Fold 2, specified test ratio: 0.2 - Actual test ratio 0.20\n",
      "Fold 3, specified test ratio: 0.2 - Actual test ratio 0.20\n",
      "Fold 4, specified test ratio: 0.2 - Actual test ratio 0.17\n",
      "\n",
      "\tBetween model\n",
      "Initialising training\n"
     ]
    },
    {
     "data": {
      "application/vnd.jupyter.widget-view+json": {
       "model_id": "1cfc7f705ee243c19d5c1e540a8917d4",
       "version_major": 2,
       "version_minor": 0
      },
      "text/plain": [
       "  0%|          | 0/5 [00:00<?, ?it/s]"
      ]
     },
     "metadata": {},
     "output_type": "display_data"
    },
    {
     "name": "stdout",
     "output_type": "stream",
     "text": [
      "Finished training after 50 seconds\n",
      "\n",
      "\tWithin Model\n",
      "Initialising training\n"
     ]
    },
    {
     "data": {
      "application/vnd.jupyter.widget-view+json": {
       "model_id": "0537779dcdad4de494b8683685127e6f",
       "version_major": 2,
       "version_minor": 0
      },
      "text/plain": [
       "  0%|          | 0/5 [00:00<?, ?it/s]"
      ]
     },
     "metadata": {},
     "output_type": "display_data"
    },
    {
     "name": "stdout",
     "output_type": "stream",
     "text": [
      "Finished training after 73 seconds\n",
      "\t{'combined': 0.30614144234381535, 'between': 0.36635094909641036, 'within': -0.027169056996463416}\n",
      "\n",
      "\n",
      "\n",
      "\n",
      "Training on at least 11 Households per cluster\n",
      "Fold 0, specified test ratio: 0.2 - Actual test ratio 0.21\n",
      "Fold 1, specified test ratio: 0.2 - Actual test ratio 0.21\n",
      "Fold 2, specified test ratio: 0.2 - Actual test ratio 0.21\n",
      "Fold 3, specified test ratio: 0.2 - Actual test ratio 0.21\n",
      "Fold 4, specified test ratio: 0.2 - Actual test ratio 0.16\n",
      "\n",
      "\tBetween model\n",
      "Initialising training\n"
     ]
    },
    {
     "data": {
      "application/vnd.jupyter.widget-view+json": {
       "model_id": "dcb7dbaeedab41078627362c0d41d0e4",
       "version_major": 2,
       "version_minor": 0
      },
      "text/plain": [
       "  0%|          | 0/5 [00:00<?, ?it/s]"
      ]
     },
     "metadata": {},
     "output_type": "display_data"
    },
    {
     "name": "stdout",
     "output_type": "stream",
     "text": [
      "Finished training after 39 seconds\n",
      "\n",
      "\tWithin Model\n",
      "Initialising training\n"
     ]
    },
    {
     "data": {
      "application/vnd.jupyter.widget-view+json": {
       "model_id": "0d2707d6d01a4ba4b84d600cf4c8d2e2",
       "version_major": 2,
       "version_minor": 0
      },
      "text/plain": [
       "  0%|          | 0/5 [00:00<?, ?it/s]"
      ]
     },
     "metadata": {},
     "output_type": "display_data"
    },
    {
     "name": "stdout",
     "output_type": "stream",
     "text": [
      "Finished training after 49 seconds\n",
      "\t{'combined': 0.32082713624409315, 'between': 0.3739412403378391, 'within': -0.046897804896653336}\n",
      "Fold 0, specified test ratio: 0.2 - Actual test ratio 0.23\n",
      "Fold 1, specified test ratio: 0.2 - Actual test ratio 0.20\n",
      "Fold 2, specified test ratio: 0.2 - Actual test ratio 0.22\n",
      "Fold 3, specified test ratio: 0.2 - Actual test ratio 0.21\n",
      "Fold 4, specified test ratio: 0.2 - Actual test ratio 0.14\n",
      "\n",
      "\tBetween model\n",
      "Initialising training\n"
     ]
    },
    {
     "data": {
      "application/vnd.jupyter.widget-view+json": {
       "model_id": "4de9f2be4be24555a0686c00b4fe858e",
       "version_major": 2,
       "version_minor": 0
      },
      "text/plain": [
       "  0%|          | 0/5 [00:00<?, ?it/s]"
      ]
     },
     "metadata": {},
     "output_type": "display_data"
    },
    {
     "name": "stdout",
     "output_type": "stream",
     "text": [
      "Finished training after 38 seconds\n",
      "\n",
      "\tWithin Model\n",
      "Initialising training\n"
     ]
    },
    {
     "data": {
      "application/vnd.jupyter.widget-view+json": {
       "model_id": "776e6114ade54961b5bed6eaa14fe5bd",
       "version_major": 2,
       "version_minor": 0
      },
      "text/plain": [
       "  0%|          | 0/5 [00:00<?, ?it/s]"
      ]
     },
     "metadata": {},
     "output_type": "display_data"
    },
    {
     "name": "stdout",
     "output_type": "stream",
     "text": [
      "Finished training after 48 seconds\n",
      "\t{'combined': 0.36252488892862966, 'between': 0.420381670442532, 'within': -0.016046452698924907}\n",
      "Fold 0, specified test ratio: 0.2 - Actual test ratio 0.21\n",
      "Fold 1, specified test ratio: 0.2 - Actual test ratio 0.21\n",
      "Fold 2, specified test ratio: 0.2 - Actual test ratio 0.20\n",
      "Fold 3, specified test ratio: 0.2 - Actual test ratio 0.20\n",
      "Fold 4, specified test ratio: 0.2 - Actual test ratio 0.17\n",
      "\n",
      "\tBetween model\n",
      "Initialising training\n"
     ]
    },
    {
     "data": {
      "application/vnd.jupyter.widget-view+json": {
       "model_id": "2c4333f74121405fa18c4db9b1d06062",
       "version_major": 2,
       "version_minor": 0
      },
      "text/plain": [
       "  0%|          | 0/5 [00:00<?, ?it/s]"
      ]
     },
     "metadata": {},
     "output_type": "display_data"
    },
    {
     "name": "stdout",
     "output_type": "stream",
     "text": [
      "Finished training after 38 seconds\n",
      "\n",
      "\tWithin Model\n",
      "Initialising training\n"
     ]
    },
    {
     "data": {
      "application/vnd.jupyter.widget-view+json": {
       "model_id": "619810337a054fa5bf971acb51919754",
       "version_major": 2,
       "version_minor": 0
      },
      "text/plain": [
       "  0%|          | 0/5 [00:00<?, ?it/s]"
      ]
     },
     "metadata": {},
     "output_type": "display_data"
    },
    {
     "name": "stdout",
     "output_type": "stream",
     "text": [
      "Finished training after 48 seconds\n",
      "\t{'combined': 0.24212030731143624, 'between': 0.2849559831827238, 'within': -0.021376030719712856}\n",
      "Fold 0, specified test ratio: 0.2 - Actual test ratio 0.20\n",
      "Fold 1, specified test ratio: 0.2 - Actual test ratio 0.23\n",
      "Fold 2, specified test ratio: 0.2 - Actual test ratio 0.20\n",
      "Fold 3, specified test ratio: 0.2 - Actual test ratio 0.21\n",
      "Fold 4, specified test ratio: 0.2 - Actual test ratio 0.16\n",
      "\n",
      "\tBetween model\n",
      "Initialising training\n"
     ]
    },
    {
     "data": {
      "application/vnd.jupyter.widget-view+json": {
       "model_id": "8e1d361334634e95ad86a7b0f404acf7",
       "version_major": 2,
       "version_minor": 0
      },
      "text/plain": [
       "  0%|          | 0/5 [00:00<?, ?it/s]"
      ]
     },
     "metadata": {},
     "output_type": "display_data"
    },
    {
     "name": "stdout",
     "output_type": "stream",
     "text": [
      "Finished training after 39 seconds\n",
      "\n",
      "\tWithin Model\n",
      "Initialising training\n"
     ]
    },
    {
     "data": {
      "application/vnd.jupyter.widget-view+json": {
       "model_id": "b10127675bf74867a99210e82f09f770",
       "version_major": 2,
       "version_minor": 0
      },
      "text/plain": [
       "  0%|          | 0/5 [00:00<?, ?it/s]"
      ]
     },
     "metadata": {},
     "output_type": "display_data"
    },
    {
     "name": "stdout",
     "output_type": "stream",
     "text": [
      "Finished training after 48 seconds\n",
      "\t{'combined': 0.34891195766662675, 'between': 0.4080739344406865, 'within': -0.05206807574207486}\n",
      "Fold 0, specified test ratio: 0.2 - Actual test ratio 0.22\n",
      "Fold 1, specified test ratio: 0.2 - Actual test ratio 0.22\n",
      "Fold 2, specified test ratio: 0.2 - Actual test ratio 0.21\n",
      "Fold 3, specified test ratio: 0.2 - Actual test ratio 0.20\n",
      "Fold 4, specified test ratio: 0.2 - Actual test ratio 0.15\n",
      "\n",
      "\tBetween model\n",
      "Initialising training\n"
     ]
    },
    {
     "data": {
      "application/vnd.jupyter.widget-view+json": {
       "model_id": "9dcf0ff3a7b447cb90d0f7f4f3b3bb15",
       "version_major": 2,
       "version_minor": 0
      },
      "text/plain": [
       "  0%|          | 0/5 [00:00<?, ?it/s]"
      ]
     },
     "metadata": {},
     "output_type": "display_data"
    },
    {
     "name": "stdout",
     "output_type": "stream",
     "text": [
      "Finished training after 38 seconds\n",
      "\n",
      "\tWithin Model\n",
      "Initialising training\n"
     ]
    },
    {
     "data": {
      "application/vnd.jupyter.widget-view+json": {
       "model_id": "79795b93844a47709a0d1df3c65192b8",
       "version_major": 2,
       "version_minor": 0
      },
      "text/plain": [
       "  0%|          | 0/5 [00:00<?, ?it/s]"
      ]
     },
     "metadata": {},
     "output_type": "display_data"
    },
    {
     "name": "stdout",
     "output_type": "stream",
     "text": [
      "Finished training after 48 seconds\n",
      "\t{'combined': 0.2820204221033237, 'between': 0.3522365691165216, 'within': -0.05780451743182602}\n",
      "Fold 0, specified test ratio: 0.2 - Actual test ratio 0.23\n",
      "Fold 1, specified test ratio: 0.2 - Actual test ratio 0.21\n",
      "Fold 2, specified test ratio: 0.2 - Actual test ratio 0.20\n",
      "Fold 3, specified test ratio: 0.2 - Actual test ratio 0.20\n",
      "Fold 4, specified test ratio: 0.2 - Actual test ratio 0.16\n",
      "\n",
      "\tBetween model\n",
      "Initialising training\n"
     ]
    },
    {
     "data": {
      "application/vnd.jupyter.widget-view+json": {
       "model_id": "2735dca57f7a443ba910417450e3e0a9",
       "version_major": 2,
       "version_minor": 0
      },
      "text/plain": [
       "  0%|          | 0/5 [00:00<?, ?it/s]"
      ]
     },
     "metadata": {},
     "output_type": "display_data"
    },
    {
     "name": "stdout",
     "output_type": "stream",
     "text": [
      "Finished training after 38 seconds\n",
      "\n",
      "\tWithin Model\n",
      "Initialising training\n"
     ]
    },
    {
     "data": {
      "application/vnd.jupyter.widget-view+json": {
       "model_id": "38ca6f565f824122ae62bcf794ffc948",
       "version_major": 2,
       "version_minor": 0
      },
      "text/plain": [
       "  0%|          | 0/5 [00:00<?, ?it/s]"
      ]
     },
     "metadata": {},
     "output_type": "display_data"
    },
    {
     "name": "stdout",
     "output_type": "stream",
     "text": [
      "Finished training after 48 seconds\n",
      "\t{'combined': 0.3355402856199696, 'between': 0.3912266326978301, 'within': -0.014312247937368561}\n",
      "Fold 0, specified test ratio: 0.2 - Actual test ratio 0.20\n",
      "Fold 1, specified test ratio: 0.2 - Actual test ratio 0.22\n",
      "Fold 2, specified test ratio: 0.2 - Actual test ratio 0.20\n",
      "Fold 3, specified test ratio: 0.2 - Actual test ratio 0.21\n",
      "Fold 4, specified test ratio: 0.2 - Actual test ratio 0.17\n",
      "\n",
      "\tBetween model\n",
      "Initialising training\n"
     ]
    },
    {
     "data": {
      "application/vnd.jupyter.widget-view+json": {
       "model_id": "e15edaf19a7342438673c97fabf896e5",
       "version_major": 2,
       "version_minor": 0
      },
      "text/plain": [
       "  0%|          | 0/5 [00:00<?, ?it/s]"
      ]
     },
     "metadata": {},
     "output_type": "display_data"
    },
    {
     "name": "stdout",
     "output_type": "stream",
     "text": [
      "Finished training after 38 seconds\n",
      "\n",
      "\tWithin Model\n",
      "Initialising training\n"
     ]
    },
    {
     "data": {
      "application/vnd.jupyter.widget-view+json": {
       "model_id": "af8f537e65b84af7af68005cc6ba908d",
       "version_major": 2,
       "version_minor": 0
      },
      "text/plain": [
       "  0%|          | 0/5 [00:00<?, ?it/s]"
      ]
     },
     "metadata": {},
     "output_type": "display_data"
    },
    {
     "name": "stdout",
     "output_type": "stream",
     "text": [
      "Finished training after 48 seconds\n",
      "\t{'combined': 0.29359980053977525, 'between': 0.34054963713551417, 'within': -0.0365520083135803}\n",
      "Fold 0, specified test ratio: 0.2 - Actual test ratio 0.21\n",
      "Fold 1, specified test ratio: 0.2 - Actual test ratio 0.20\n",
      "Fold 2, specified test ratio: 0.2 - Actual test ratio 0.21\n",
      "Fold 3, specified test ratio: 0.2 - Actual test ratio 0.20\n",
      "Fold 4, specified test ratio: 0.2 - Actual test ratio 0.18\n",
      "\n",
      "\tBetween model\n",
      "Initialising training\n"
     ]
    },
    {
     "data": {
      "application/vnd.jupyter.widget-view+json": {
       "model_id": "9a5e472d352743a6882c334f40107235",
       "version_major": 2,
       "version_minor": 0
      },
      "text/plain": [
       "  0%|          | 0/5 [00:00<?, ?it/s]"
      ]
     },
     "metadata": {},
     "output_type": "display_data"
    },
    {
     "name": "stdout",
     "output_type": "stream",
     "text": [
      "Finished training after 39 seconds\n",
      "\n",
      "\tWithin Model\n",
      "Initialising training\n"
     ]
    },
    {
     "data": {
      "application/vnd.jupyter.widget-view+json": {
       "model_id": "636ec8cebc0547a4b3205ec060fb0ecc",
       "version_major": 2,
       "version_minor": 0
      },
      "text/plain": [
       "  0%|          | 0/5 [00:00<?, ?it/s]"
      ]
     },
     "metadata": {},
     "output_type": "display_data"
    },
    {
     "name": "stdout",
     "output_type": "stream",
     "text": [
      "Finished training after 48 seconds\n",
      "\t{'combined': 0.34609153595880005, 'between': 0.4089867575012183, 'within': -0.05608865828234666}\n",
      "Fold 0, specified test ratio: 0.2 - Actual test ratio 0.22\n",
      "Fold 1, specified test ratio: 0.2 - Actual test ratio 0.24\n",
      "Fold 2, specified test ratio: 0.2 - Actual test ratio 0.21\n",
      "Fold 3, specified test ratio: 0.2 - Actual test ratio 0.21\n",
      "Fold 4, specified test ratio: 0.2 - Actual test ratio 0.12\n",
      "\n",
      "\tBetween model\n",
      "Initialising training\n"
     ]
    },
    {
     "data": {
      "application/vnd.jupyter.widget-view+json": {
       "model_id": "50910407d057470fa2fdcf6a9b603ae9",
       "version_major": 2,
       "version_minor": 0
      },
      "text/plain": [
       "  0%|          | 0/5 [00:00<?, ?it/s]"
      ]
     },
     "metadata": {},
     "output_type": "display_data"
    },
    {
     "name": "stdout",
     "output_type": "stream",
     "text": [
      "Finished training after 38 seconds\n",
      "\n",
      "\tWithin Model\n",
      "Initialising training\n"
     ]
    },
    {
     "data": {
      "application/vnd.jupyter.widget-view+json": {
       "model_id": "d6418c3baa9a417980d09f6c40d1ec59",
       "version_major": 2,
       "version_minor": 0
      },
      "text/plain": [
       "  0%|          | 0/5 [00:00<?, ?it/s]"
      ]
     },
     "metadata": {},
     "output_type": "display_data"
    },
    {
     "name": "stdout",
     "output_type": "stream",
     "text": [
      "Finished training after 48 seconds\n",
      "\t{'combined': 0.30984686057866684, 'between': 0.3709302697297481, 'within': -0.04191533589054062}\n",
      "Fold 0, specified test ratio: 0.2 - Actual test ratio 0.22\n",
      "Fold 1, specified test ratio: 0.2 - Actual test ratio 0.20\n",
      "Fold 2, specified test ratio: 0.2 - Actual test ratio 0.20\n",
      "Fold 3, specified test ratio: 0.2 - Actual test ratio 0.20\n",
      "Fold 4, specified test ratio: 0.2 - Actual test ratio 0.18\n",
      "\n",
      "\tBetween model\n",
      "Initialising training\n"
     ]
    },
    {
     "data": {
      "application/vnd.jupyter.widget-view+json": {
       "model_id": "73239d3b3ca64fdabd69bc5b8e291646",
       "version_major": 2,
       "version_minor": 0
      },
      "text/plain": [
       "  0%|          | 0/5 [00:00<?, ?it/s]"
      ]
     },
     "metadata": {},
     "output_type": "display_data"
    },
    {
     "name": "stdout",
     "output_type": "stream",
     "text": [
      "Finished training after 38 seconds\n",
      "\n",
      "\tWithin Model\n",
      "Initialising training\n"
     ]
    },
    {
     "data": {
      "application/vnd.jupyter.widget-view+json": {
       "model_id": "a7fab932c47c4e3488030094df80c431",
       "version_major": 2,
       "version_minor": 0
      },
      "text/plain": [
       "  0%|          | 0/5 [00:00<?, ?it/s]"
      ]
     },
     "metadata": {},
     "output_type": "display_data"
    },
    {
     "name": "stdout",
     "output_type": "stream",
     "text": [
      "Finished training after 48 seconds\n",
      "\t{'combined': 0.2874465262701196, 'between': 0.317742995369327, 'within': -0.041122168090303425}\n",
      "\n",
      "\n",
      "\n",
      "\n",
      "Training on at least 12 Households per cluster\n",
      "Fold 0, specified test ratio: 0.2 - Actual test ratio 0.23\n",
      "Fold 1, specified test ratio: 0.2 - Actual test ratio 0.24\n",
      "Fold 2, specified test ratio: 0.2 - Actual test ratio 0.20\n",
      "Fold 3, specified test ratio: 0.2 - Actual test ratio 0.20\n",
      "Fold 4, specified test ratio: 0.2 - Actual test ratio 0.13\n",
      "\n",
      "\tBetween model\n",
      "Initialising training\n"
     ]
    },
    {
     "data": {
      "application/vnd.jupyter.widget-view+json": {
       "model_id": "8be5fd9acebe4a018d541642f5f4fcae",
       "version_major": 2,
       "version_minor": 0
      },
      "text/plain": [
       "  0%|          | 0/5 [00:00<?, ?it/s]"
      ]
     },
     "metadata": {},
     "output_type": "display_data"
    },
    {
     "name": "stdout",
     "output_type": "stream",
     "text": [
      "Finished training after 39 seconds\n",
      "\n",
      "\tWithin Model\n",
      "Initialising training\n"
     ]
    },
    {
     "data": {
      "application/vnd.jupyter.widget-view+json": {
       "model_id": "2d53ddd3ec6e41029f551644d4598a29",
       "version_major": 2,
       "version_minor": 0
      },
      "text/plain": [
       "  0%|          | 0/5 [00:00<?, ?it/s]"
      ]
     },
     "metadata": {},
     "output_type": "display_data"
    },
    {
     "name": "stdout",
     "output_type": "stream",
     "text": [
      "Finished training after 41 seconds\n",
      "\t{'combined': 0.20232450909047617, 'between': 0.2285480389313624, 'within': -0.0362859363817362}\n",
      "Fold 0, specified test ratio: 0.2 - Actual test ratio 0.21\n",
      "Fold 1, specified test ratio: 0.2 - Actual test ratio 0.21\n",
      "Fold 2, specified test ratio: 0.2 - Actual test ratio 0.20\n",
      "Fold 3, specified test ratio: 0.2 - Actual test ratio 0.21\n",
      "Fold 4, specified test ratio: 0.2 - Actual test ratio 0.17\n",
      "\n",
      "\tBetween model\n",
      "Initialising training\n"
     ]
    },
    {
     "data": {
      "application/vnd.jupyter.widget-view+json": {
       "model_id": "c891811c043d45dfb89d88b62e0e3787",
       "version_major": 2,
       "version_minor": 0
      },
      "text/plain": [
       "  0%|          | 0/5 [00:00<?, ?it/s]"
      ]
     },
     "metadata": {},
     "output_type": "display_data"
    },
    {
     "name": "stdout",
     "output_type": "stream",
     "text": [
      "Finished training after 35 seconds\n",
      "\n",
      "\tWithin Model\n",
      "Initialising training\n"
     ]
    },
    {
     "data": {
      "application/vnd.jupyter.widget-view+json": {
       "model_id": "beb5e4e10d4c4fda88dab0d0d3b950e7",
       "version_major": 2,
       "version_minor": 0
      },
      "text/plain": [
       "  0%|          | 0/5 [00:00<?, ?it/s]"
      ]
     },
     "metadata": {},
     "output_type": "display_data"
    },
    {
     "name": "stdout",
     "output_type": "stream",
     "text": [
      "Finished training after 41 seconds\n",
      "\t{'combined': 0.24011651684207205, 'between': 0.2904479413746178, 'within': -0.05297083999042664}\n",
      "Fold 0, specified test ratio: 0.2 - Actual test ratio 0.21\n",
      "Fold 1, specified test ratio: 0.2 - Actual test ratio 0.23\n",
      "Fold 2, specified test ratio: 0.2 - Actual test ratio 0.21\n",
      "Fold 3, specified test ratio: 0.2 - Actual test ratio 0.20\n",
      "Fold 4, specified test ratio: 0.2 - Actual test ratio 0.15\n",
      "\n",
      "\tBetween model\n",
      "Initialising training\n"
     ]
    },
    {
     "data": {
      "application/vnd.jupyter.widget-view+json": {
       "model_id": "8c7645fdc11b41aaa2c92d508bbd0d7e",
       "version_major": 2,
       "version_minor": 0
      },
      "text/plain": [
       "  0%|          | 0/5 [00:00<?, ?it/s]"
      ]
     },
     "metadata": {},
     "output_type": "display_data"
    },
    {
     "name": "stdout",
     "output_type": "stream",
     "text": [
      "Finished training after 35 seconds\n",
      "\n",
      "\tWithin Model\n",
      "Initialising training\n"
     ]
    },
    {
     "data": {
      "application/vnd.jupyter.widget-view+json": {
       "model_id": "07efbe666fb64bf985b7acbd10f6282d",
       "version_major": 2,
       "version_minor": 0
      },
      "text/plain": [
       "  0%|          | 0/5 [00:00<?, ?it/s]"
      ]
     },
     "metadata": {},
     "output_type": "display_data"
    },
    {
     "name": "stdout",
     "output_type": "stream",
     "text": [
      "Finished training after 41 seconds\n",
      "\t{'combined': 0.23015286907285148, 'between': 0.27556752063713297, 'within': -0.057925027098551074}\n",
      "Fold 0, specified test ratio: 0.2 - Actual test ratio 0.23\n",
      "Fold 1, specified test ratio: 0.2 - Actual test ratio 0.24\n",
      "Fold 2, specified test ratio: 0.2 - Actual test ratio 0.21\n",
      "Fold 3, specified test ratio: 0.2 - Actual test ratio 0.21\n",
      "Fold 4, specified test ratio: 0.2 - Actual test ratio 0.11\n",
      "\n",
      "\tBetween model\n",
      "Initialising training\n"
     ]
    },
    {
     "data": {
      "application/vnd.jupyter.widget-view+json": {
       "model_id": "c88015c5797b4edc8efce74c4eb99fa0",
       "version_major": 2,
       "version_minor": 0
      },
      "text/plain": [
       "  0%|          | 0/5 [00:00<?, ?it/s]"
      ]
     },
     "metadata": {},
     "output_type": "display_data"
    },
    {
     "name": "stdout",
     "output_type": "stream",
     "text": [
      "Finished training after 36 seconds\n",
      "\n",
      "\tWithin Model\n",
      "Initialising training\n"
     ]
    },
    {
     "data": {
      "application/vnd.jupyter.widget-view+json": {
       "model_id": "e6fda69b73da4d2daedc06f57f5a9894",
       "version_major": 2,
       "version_minor": 0
      },
      "text/plain": [
       "  0%|          | 0/5 [00:00<?, ?it/s]"
      ]
     },
     "metadata": {},
     "output_type": "display_data"
    },
    {
     "name": "stdout",
     "output_type": "stream",
     "text": [
      "Finished training after 41 seconds\n",
      "\t{'combined': 0.28172418556739837, 'between': 0.3260270579949187, 'within': -0.07270291682275223}\n",
      "Fold 0, specified test ratio: 0.2 - Actual test ratio 0.21\n",
      "Fold 1, specified test ratio: 0.2 - Actual test ratio 0.22\n",
      "Fold 2, specified test ratio: 0.2 - Actual test ratio 0.21\n",
      "Fold 3, specified test ratio: 0.2 - Actual test ratio 0.21\n",
      "Fold 4, specified test ratio: 0.2 - Actual test ratio 0.15\n",
      "\n",
      "\tBetween model\n",
      "Initialising training\n"
     ]
    },
    {
     "data": {
      "application/vnd.jupyter.widget-view+json": {
       "model_id": "dec19896f1ae4726b6f43db719c0cdb2",
       "version_major": 2,
       "version_minor": 0
      },
      "text/plain": [
       "  0%|          | 0/5 [00:00<?, ?it/s]"
      ]
     },
     "metadata": {},
     "output_type": "display_data"
    },
    {
     "name": "stdout",
     "output_type": "stream",
     "text": [
      "Finished training after 36 seconds\n",
      "\n",
      "\tWithin Model\n",
      "Initialising training\n"
     ]
    },
    {
     "data": {
      "application/vnd.jupyter.widget-view+json": {
       "model_id": "063b739f5b614b29b7d6a71839b9755d",
       "version_major": 2,
       "version_minor": 0
      },
      "text/plain": [
       "  0%|          | 0/5 [00:00<?, ?it/s]"
      ]
     },
     "metadata": {},
     "output_type": "display_data"
    },
    {
     "name": "stdout",
     "output_type": "stream",
     "text": [
      "Finished training after 41 seconds\n",
      "\t{'combined': 0.241418746344297, 'between': 0.2814065326258057, 'within': -0.048397201776502995}\n",
      "Fold 0, specified test ratio: 0.2 - Actual test ratio 0.21\n",
      "Fold 1, specified test ratio: 0.2 - Actual test ratio 0.23\n",
      "Fold 2, specified test ratio: 0.2 - Actual test ratio 0.20\n",
      "Fold 3, specified test ratio: 0.2 - Actual test ratio 0.20\n",
      "Fold 4, specified test ratio: 0.2 - Actual test ratio 0.15\n",
      "\n",
      "\tBetween model\n",
      "Initialising training\n"
     ]
    },
    {
     "data": {
      "application/vnd.jupyter.widget-view+json": {
       "model_id": "71b6bcc3056d4cd49a41729d0a5d70c8",
       "version_major": 2,
       "version_minor": 0
      },
      "text/plain": [
       "  0%|          | 0/5 [00:00<?, ?it/s]"
      ]
     },
     "metadata": {},
     "output_type": "display_data"
    },
    {
     "name": "stdout",
     "output_type": "stream",
     "text": [
      "Finished training after 36 seconds\n",
      "\n",
      "\tWithin Model\n",
      "Initialising training\n"
     ]
    },
    {
     "data": {
      "application/vnd.jupyter.widget-view+json": {
       "model_id": "3a430dbb721e4bbca2f5fbd5625fe86f",
       "version_major": 2,
       "version_minor": 0
      },
      "text/plain": [
       "  0%|          | 0/5 [00:00<?, ?it/s]"
      ]
     },
     "metadata": {},
     "output_type": "display_data"
    },
    {
     "name": "stdout",
     "output_type": "stream",
     "text": [
      "Finished training after 41 seconds\n",
      "\t{'combined': 0.1801718209168665, 'between': 0.19596801636796699, 'within': -0.08188224553522391}\n",
      "Fold 0, specified test ratio: 0.2 - Actual test ratio 0.21\n",
      "Fold 1, specified test ratio: 0.2 - Actual test ratio 0.21\n",
      "Fold 2, specified test ratio: 0.2 - Actual test ratio 0.21\n",
      "Fold 3, specified test ratio: 0.2 - Actual test ratio 0.22\n",
      "Fold 4, specified test ratio: 0.2 - Actual test ratio 0.15\n",
      "\n",
      "\tBetween model\n",
      "Initialising training\n"
     ]
    },
    {
     "data": {
      "application/vnd.jupyter.widget-view+json": {
       "model_id": "6d9ea410ed9c40a1a103327ca689389d",
       "version_major": 2,
       "version_minor": 0
      },
      "text/plain": [
       "  0%|          | 0/5 [00:00<?, ?it/s]"
      ]
     },
     "metadata": {},
     "output_type": "display_data"
    },
    {
     "name": "stdout",
     "output_type": "stream",
     "text": [
      "Finished training after 35 seconds\n",
      "\n",
      "\tWithin Model\n",
      "Initialising training\n"
     ]
    },
    {
     "data": {
      "application/vnd.jupyter.widget-view+json": {
       "model_id": "4d3432f047d5428eb77d25f7368f8549",
       "version_major": 2,
       "version_minor": 0
      },
      "text/plain": [
       "  0%|          | 0/5 [00:00<?, ?it/s]"
      ]
     },
     "metadata": {},
     "output_type": "display_data"
    },
    {
     "name": "stdout",
     "output_type": "stream",
     "text": [
      "Finished training after 41 seconds\n",
      "\t{'combined': 0.29683787568619546, 'between': 0.33354464489469104, 'within': -0.023456219186364403}\n",
      "Fold 0, specified test ratio: 0.2 - Actual test ratio 0.26\n",
      "Fold 1, specified test ratio: 0.2 - Actual test ratio 0.20\n",
      "Fold 2, specified test ratio: 0.2 - Actual test ratio 0.20\n",
      "Fold 3, specified test ratio: 0.2 - Actual test ratio 0.21\n",
      "Fold 4, specified test ratio: 0.2 - Actual test ratio 0.13\n",
      "\n",
      "\tBetween model\n",
      "Initialising training\n"
     ]
    },
    {
     "data": {
      "application/vnd.jupyter.widget-view+json": {
       "model_id": "c3cb31207f954b809c7f3172dac24e19",
       "version_major": 2,
       "version_minor": 0
      },
      "text/plain": [
       "  0%|          | 0/5 [00:00<?, ?it/s]"
      ]
     },
     "metadata": {},
     "output_type": "display_data"
    },
    {
     "name": "stdout",
     "output_type": "stream",
     "text": [
      "Finished training after 35 seconds\n",
      "\n",
      "\tWithin Model\n",
      "Initialising training\n"
     ]
    },
    {
     "data": {
      "application/vnd.jupyter.widget-view+json": {
       "model_id": "73c8b5517720423e9c7034a180bb1de7",
       "version_major": 2,
       "version_minor": 0
      },
      "text/plain": [
       "  0%|          | 0/5 [00:00<?, ?it/s]"
      ]
     },
     "metadata": {},
     "output_type": "display_data"
    },
    {
     "name": "stdout",
     "output_type": "stream",
     "text": [
      "Finished training after 41 seconds\n",
      "\t{'combined': 0.1720426436197989, 'between': 0.2239115931631681, 'within': -0.09181828326047628}\n",
      "Fold 0, specified test ratio: 0.2 - Actual test ratio 0.20\n",
      "Fold 1, specified test ratio: 0.2 - Actual test ratio 0.21\n",
      "Fold 2, specified test ratio: 0.2 - Actual test ratio 0.22\n",
      "Fold 3, specified test ratio: 0.2 - Actual test ratio 0.20\n",
      "Fold 4, specified test ratio: 0.2 - Actual test ratio 0.17\n",
      "\n",
      "\tBetween model\n",
      "Initialising training\n"
     ]
    },
    {
     "data": {
      "application/vnd.jupyter.widget-view+json": {
       "model_id": "62331f3fd33a4704bcbbcaa9ce8eb6a7",
       "version_major": 2,
       "version_minor": 0
      },
      "text/plain": [
       "  0%|          | 0/5 [00:00<?, ?it/s]"
      ]
     },
     "metadata": {},
     "output_type": "display_data"
    },
    {
     "name": "stdout",
     "output_type": "stream",
     "text": [
      "Finished training after 35 seconds\n",
      "\n",
      "\tWithin Model\n",
      "Initialising training\n"
     ]
    },
    {
     "data": {
      "application/vnd.jupyter.widget-view+json": {
       "model_id": "ef8fd4c7c43f407c96e194fbb372cfa2",
       "version_major": 2,
       "version_minor": 0
      },
      "text/plain": [
       "  0%|          | 0/5 [00:00<?, ?it/s]"
      ]
     },
     "metadata": {},
     "output_type": "display_data"
    },
    {
     "name": "stdout",
     "output_type": "stream",
     "text": [
      "Finished training after 40 seconds\n",
      "\t{'combined': 0.2764103841904027, 'between': 0.3285618695311437, 'within': -0.042846410619498274}\n",
      "Fold 0, specified test ratio: 0.2 - Actual test ratio 0.21\n",
      "Fold 1, specified test ratio: 0.2 - Actual test ratio 0.21\n",
      "Fold 2, specified test ratio: 0.2 - Actual test ratio 0.21\n",
      "Fold 3, specified test ratio: 0.2 - Actual test ratio 0.21\n",
      "Fold 4, specified test ratio: 0.2 - Actual test ratio 0.15\n",
      "\n",
      "\tBetween model\n",
      "Initialising training\n"
     ]
    },
    {
     "data": {
      "application/vnd.jupyter.widget-view+json": {
       "model_id": "88d21b08c87549a6a04bf52ad06a06f6",
       "version_major": 2,
       "version_minor": 0
      },
      "text/plain": [
       "  0%|          | 0/5 [00:00<?, ?it/s]"
      ]
     },
     "metadata": {},
     "output_type": "display_data"
    },
    {
     "name": "stdout",
     "output_type": "stream",
     "text": [
      "Finished training after 36 seconds\n",
      "\n",
      "\tWithin Model\n",
      "Initialising training\n"
     ]
    },
    {
     "data": {
      "application/vnd.jupyter.widget-view+json": {
       "model_id": "7e6701f8ff994145b17d677a5d23e379",
       "version_major": 2,
       "version_minor": 0
      },
      "text/plain": [
       "  0%|          | 0/5 [00:00<?, ?it/s]"
      ]
     },
     "metadata": {},
     "output_type": "display_data"
    },
    {
     "name": "stdout",
     "output_type": "stream",
     "text": [
      "Finished training after 41 seconds\n",
      "\t{'combined': 0.2420081435045705, 'between': 0.27724006122219097, 'within': -0.017685143741102128}\n",
      "\n",
      "\n",
      "\n",
      "\n",
      "Training on at least 13 Households per cluster\n",
      "Fold 0, specified test ratio: 0.2 - Actual test ratio 0.25\n",
      "Fold 1, specified test ratio: 0.2 - Actual test ratio 0.21\n",
      "Fold 2, specified test ratio: 0.2 - Actual test ratio 0.21\n",
      "Fold 3, specified test ratio: 0.2 - Actual test ratio 0.22\n",
      "Fold 4, specified test ratio: 0.2 - Actual test ratio 0.10\n",
      "\n",
      "\tBetween model\n",
      "Initialising training\n"
     ]
    },
    {
     "data": {
      "application/vnd.jupyter.widget-view+json": {
       "model_id": "b23dd1c835044cb584b78c2b3d6c31b0",
       "version_major": 2,
       "version_minor": 0
      },
      "text/plain": [
       "  0%|          | 0/5 [00:00<?, ?it/s]"
      ]
     },
     "metadata": {},
     "output_type": "display_data"
    },
    {
     "name": "stdout",
     "output_type": "stream",
     "text": [
      "Finished training after 32 seconds\n",
      "\n",
      "\tWithin Model\n",
      "Initialising training\n"
     ]
    },
    {
     "data": {
      "application/vnd.jupyter.widget-view+json": {
       "model_id": "922d49cb13e34c6d90e31edbf5ddb757",
       "version_major": 2,
       "version_minor": 0
      },
      "text/plain": [
       "  0%|          | 0/5 [00:00<?, ?it/s]"
      ]
     },
     "metadata": {},
     "output_type": "display_data"
    },
    {
     "name": "stdout",
     "output_type": "stream",
     "text": [
      "Finished training after 33 seconds\n",
      "\t{'combined': 0.20467894694523137, 'between': 0.22671670567365504, 'within': -0.007401366496020701}\n",
      "Fold 0, specified test ratio: 0.2 - Actual test ratio 0.20\n",
      "Fold 1, specified test ratio: 0.2 - Actual test ratio 0.23\n",
      "Fold 2, specified test ratio: 0.2 - Actual test ratio 0.20\n",
      "Fold 3, specified test ratio: 0.2 - Actual test ratio 0.20\n",
      "Fold 4, specified test ratio: 0.2 - Actual test ratio 0.16\n",
      "\n",
      "\tBetween model\n",
      "Initialising training\n"
     ]
    },
    {
     "data": {
      "application/vnd.jupyter.widget-view+json": {
       "model_id": "dba664f3c1a347fc88e3dfeb40fb296c",
       "version_major": 2,
       "version_minor": 0
      },
      "text/plain": [
       "  0%|          | 0/5 [00:00<?, ?it/s]"
      ]
     },
     "metadata": {},
     "output_type": "display_data"
    },
    {
     "name": "stdout",
     "output_type": "stream",
     "text": [
      "Finished training after 32 seconds\n",
      "\n",
      "\tWithin Model\n",
      "Initialising training\n"
     ]
    },
    {
     "data": {
      "application/vnd.jupyter.widget-view+json": {
       "model_id": "58d686c53bb146b0b66b482c98d54c40",
       "version_major": 2,
       "version_minor": 0
      },
      "text/plain": [
       "  0%|          | 0/5 [00:00<?, ?it/s]"
      ]
     },
     "metadata": {},
     "output_type": "display_data"
    },
    {
     "name": "stdout",
     "output_type": "stream",
     "text": [
      "Finished training after 33 seconds\n",
      "\t{'combined': 0.016742700071247233, 'between': 0.02583637212963905, 'within': -0.1525952445732231}\n",
      "Fold 0, specified test ratio: 0.2 - Actual test ratio 0.22\n",
      "Fold 1, specified test ratio: 0.2 - Actual test ratio 0.21\n",
      "Fold 2, specified test ratio: 0.2 - Actual test ratio 0.21\n",
      "Fold 3, specified test ratio: 0.2 - Actual test ratio 0.20\n",
      "Fold 4, specified test ratio: 0.2 - Actual test ratio 0.15\n",
      "\n",
      "\tBetween model\n",
      "Initialising training\n"
     ]
    },
    {
     "data": {
      "application/vnd.jupyter.widget-view+json": {
       "model_id": "67d4c68117b041a28125f7390384cc8e",
       "version_major": 2,
       "version_minor": 0
      },
      "text/plain": [
       "  0%|          | 0/5 [00:00<?, ?it/s]"
      ]
     },
     "metadata": {},
     "output_type": "display_data"
    },
    {
     "name": "stdout",
     "output_type": "stream",
     "text": [
      "Finished training after 32 seconds\n",
      "\n",
      "\tWithin Model\n",
      "Initialising training\n"
     ]
    },
    {
     "data": {
      "application/vnd.jupyter.widget-view+json": {
       "model_id": "52eb51f834bc4325b7955e42810e5585",
       "version_major": 2,
       "version_minor": 0
      },
      "text/plain": [
       "  0%|          | 0/5 [00:00<?, ?it/s]"
      ]
     },
     "metadata": {},
     "output_type": "display_data"
    },
    {
     "name": "stdout",
     "output_type": "stream",
     "text": [
      "Finished training after 34 seconds\n",
      "\t{'combined': 0.1378867873089568, 'between': 0.12647536832074668, 'within': 0.005007733423826677}\n",
      "Fold 0, specified test ratio: 0.2 - Actual test ratio 0.21\n",
      "Fold 1, specified test ratio: 0.2 - Actual test ratio 0.23\n",
      "Fold 2, specified test ratio: 0.2 - Actual test ratio 0.23\n",
      "Fold 3, specified test ratio: 0.2 - Actual test ratio 0.21\n",
      "Fold 4, specified test ratio: 0.2 - Actual test ratio 0.12\n",
      "\n",
      "\tBetween model\n",
      "Initialising training\n"
     ]
    },
    {
     "data": {
      "application/vnd.jupyter.widget-view+json": {
       "model_id": "2e4d3328548b4188b25df2767b7581a3",
       "version_major": 2,
       "version_minor": 0
      },
      "text/plain": [
       "  0%|          | 0/5 [00:00<?, ?it/s]"
      ]
     },
     "metadata": {},
     "output_type": "display_data"
    },
    {
     "name": "stdout",
     "output_type": "stream",
     "text": [
      "Finished training after 32 seconds\n",
      "\n",
      "\tWithin Model\n",
      "Initialising training\n"
     ]
    },
    {
     "data": {
      "application/vnd.jupyter.widget-view+json": {
       "model_id": "3e5389b0d9fa4b0688c137bc838ffe1d",
       "version_major": 2,
       "version_minor": 0
      },
      "text/plain": [
       "  0%|          | 0/5 [00:00<?, ?it/s]"
      ]
     },
     "metadata": {},
     "output_type": "display_data"
    },
    {
     "name": "stdout",
     "output_type": "stream",
     "text": [
      "Finished training after 33 seconds\n",
      "\t{'combined': 0.2681922216867093, 'between': 0.30927956288041736, 'within': -0.04089613088944688}\n",
      "Fold 0, specified test ratio: 0.2 - Actual test ratio 0.22\n",
      "Fold 1, specified test ratio: 0.2 - Actual test ratio 0.20\n",
      "Fold 2, specified test ratio: 0.2 - Actual test ratio 0.20\n",
      "Fold 3, specified test ratio: 0.2 - Actual test ratio 0.20\n",
      "Fold 4, specified test ratio: 0.2 - Actual test ratio 0.18\n",
      "\n",
      "\tBetween model\n",
      "Initialising training\n"
     ]
    },
    {
     "data": {
      "application/vnd.jupyter.widget-view+json": {
       "model_id": "215c24b12b2f4ee1886c655c6d68ada9",
       "version_major": 2,
       "version_minor": 0
      },
      "text/plain": [
       "  0%|          | 0/5 [00:00<?, ?it/s]"
      ]
     },
     "metadata": {},
     "output_type": "display_data"
    },
    {
     "name": "stdout",
     "output_type": "stream",
     "text": [
      "Finished training after 31 seconds\n",
      "\n",
      "\tWithin Model\n",
      "Initialising training\n"
     ]
    },
    {
     "data": {
      "application/vnd.jupyter.widget-view+json": {
       "model_id": "9913ba3eeb8d420bbd34d8b92611e3dd",
       "version_major": 2,
       "version_minor": 0
      },
      "text/plain": [
       "  0%|          | 0/5 [00:00<?, ?it/s]"
      ]
     },
     "metadata": {},
     "output_type": "display_data"
    },
    {
     "name": "stdout",
     "output_type": "stream",
     "text": [
      "Finished training after 33 seconds\n",
      "\t{'combined': 0.06719493316893338, 'between': 0.03808190172517803, 'within': -0.01208822137108052}\n",
      "Fold 0, specified test ratio: 0.2 - Actual test ratio 0.20\n",
      "Fold 1, specified test ratio: 0.2 - Actual test ratio 0.21\n",
      "Fold 2, specified test ratio: 0.2 - Actual test ratio 0.22\n",
      "Fold 3, specified test ratio: 0.2 - Actual test ratio 0.22\n",
      "Fold 4, specified test ratio: 0.2 - Actual test ratio 0.15\n",
      "\n",
      "\tBetween model\n",
      "Initialising training\n"
     ]
    },
    {
     "data": {
      "application/vnd.jupyter.widget-view+json": {
       "model_id": "42e376070c6f479f8e41e70c669eb6db",
       "version_major": 2,
       "version_minor": 0
      },
      "text/plain": [
       "  0%|          | 0/5 [00:00<?, ?it/s]"
      ]
     },
     "metadata": {},
     "output_type": "display_data"
    },
    {
     "name": "stdout",
     "output_type": "stream",
     "text": [
      "Finished training after 32 seconds\n",
      "\n",
      "\tWithin Model\n",
      "Initialising training\n"
     ]
    },
    {
     "data": {
      "application/vnd.jupyter.widget-view+json": {
       "model_id": "00a63c53ea7b45c692efc9a30af9facd",
       "version_major": 2,
       "version_minor": 0
      },
      "text/plain": [
       "  0%|          | 0/5 [00:00<?, ?it/s]"
      ]
     },
     "metadata": {},
     "output_type": "display_data"
    },
    {
     "name": "stdout",
     "output_type": "stream",
     "text": [
      "Finished training after 33 seconds\n",
      "\t{'combined': 0.22215177276484782, 'between': 0.24145393253757758, 'within': -0.03749807623829571}\n",
      "Fold 0, specified test ratio: 0.2 - Actual test ratio 0.21\n",
      "Fold 1, specified test ratio: 0.2 - Actual test ratio 0.20\n",
      "Fold 2, specified test ratio: 0.2 - Actual test ratio 0.22\n",
      "Fold 3, specified test ratio: 0.2 - Actual test ratio 0.21\n",
      "Fold 4, specified test ratio: 0.2 - Actual test ratio 0.16\n",
      "\n",
      "\tBetween model\n",
      "Initialising training\n"
     ]
    },
    {
     "data": {
      "application/vnd.jupyter.widget-view+json": {
       "model_id": "a2d2ccfe9330412ea227a141110af697",
       "version_major": 2,
       "version_minor": 0
      },
      "text/plain": [
       "  0%|          | 0/5 [00:00<?, ?it/s]"
      ]
     },
     "metadata": {},
     "output_type": "display_data"
    },
    {
     "name": "stdout",
     "output_type": "stream",
     "text": [
      "Finished training after 32 seconds\n",
      "\n",
      "\tWithin Model\n",
      "Initialising training\n"
     ]
    },
    {
     "data": {
      "application/vnd.jupyter.widget-view+json": {
       "model_id": "dca5c588155c416f8a24a73eada13c76",
       "version_major": 2,
       "version_minor": 0
      },
      "text/plain": [
       "  0%|          | 0/5 [00:00<?, ?it/s]"
      ]
     },
     "metadata": {},
     "output_type": "display_data"
    },
    {
     "name": "stdout",
     "output_type": "stream",
     "text": [
      "Finished training after 34 seconds\n",
      "\t{'combined': 0.10812148641648364, 'between': 0.11585011967293844, 'within': -0.03639117496135844}\n",
      "Fold 0, specified test ratio: 0.2 - Actual test ratio 0.25\n",
      "Fold 1, specified test ratio: 0.2 - Actual test ratio 0.20\n",
      "Fold 2, specified test ratio: 0.2 - Actual test ratio 0.22\n",
      "Fold 3, specified test ratio: 0.2 - Actual test ratio 0.22\n",
      "Fold 4, specified test ratio: 0.2 - Actual test ratio 0.11\n",
      "\n",
      "\tBetween model\n",
      "Initialising training\n"
     ]
    },
    {
     "data": {
      "application/vnd.jupyter.widget-view+json": {
       "model_id": "cc7cea6c913b4dbea312d01294581a15",
       "version_major": 2,
       "version_minor": 0
      },
      "text/plain": [
       "  0%|          | 0/5 [00:00<?, ?it/s]"
      ]
     },
     "metadata": {},
     "output_type": "display_data"
    },
    {
     "name": "stdout",
     "output_type": "stream",
     "text": [
      "Finished training after 32 seconds\n",
      "\n",
      "\tWithin Model\n",
      "Initialising training\n"
     ]
    },
    {
     "data": {
      "application/vnd.jupyter.widget-view+json": {
       "model_id": "d7d2d2037b63433d9bf14b5a47c4ba53",
       "version_major": 2,
       "version_minor": 0
      },
      "text/plain": [
       "  0%|          | 0/5 [00:00<?, ?it/s]"
      ]
     },
     "metadata": {},
     "output_type": "display_data"
    },
    {
     "name": "stdout",
     "output_type": "stream",
     "text": [
      "Finished training after 33 seconds\n",
      "\t{'combined': 0.2351241010579026, 'between': 0.2645642206573386, 'within': -0.017420180520188122}\n",
      "Fold 0, specified test ratio: 0.2 - Actual test ratio 0.21\n",
      "Fold 1, specified test ratio: 0.2 - Actual test ratio 0.22\n",
      "Fold 2, specified test ratio: 0.2 - Actual test ratio 0.23\n",
      "Fold 3, specified test ratio: 0.2 - Actual test ratio 0.20\n",
      "Fold 4, specified test ratio: 0.2 - Actual test ratio 0.14\n",
      "\n",
      "\tBetween model\n",
      "Initialising training\n"
     ]
    },
    {
     "data": {
      "application/vnd.jupyter.widget-view+json": {
       "model_id": "812ae86540164329957aee47f2c7f1a2",
       "version_major": 2,
       "version_minor": 0
      },
      "text/plain": [
       "  0%|          | 0/5 [00:00<?, ?it/s]"
      ]
     },
     "metadata": {},
     "output_type": "display_data"
    },
    {
     "name": "stdout",
     "output_type": "stream",
     "text": [
      "Finished training after 32 seconds\n",
      "\n",
      "\tWithin Model\n",
      "Initialising training\n"
     ]
    },
    {
     "data": {
      "application/vnd.jupyter.widget-view+json": {
       "model_id": "6cf1621318c44aeba56cde7d72749f5c",
       "version_major": 2,
       "version_minor": 0
      },
      "text/plain": [
       "  0%|          | 0/5 [00:00<?, ?it/s]"
      ]
     },
     "metadata": {},
     "output_type": "display_data"
    },
    {
     "name": "stdout",
     "output_type": "stream",
     "text": [
      "Finished training after 33 seconds\n",
      "\t{'combined': 0.11938607727918803, 'between': 0.13016309003588872, 'within': 0.011243238610720473}\n",
      "Fold 0, specified test ratio: 0.2 - Actual test ratio 0.26\n",
      "Fold 1, specified test ratio: 0.2 - Actual test ratio 0.22\n",
      "Fold 2, specified test ratio: 0.2 - Actual test ratio 0.21\n",
      "Fold 3, specified test ratio: 0.2 - Actual test ratio 0.20\n",
      "Fold 4, specified test ratio: 0.2 - Actual test ratio 0.12\n",
      "\n",
      "\tBetween model\n",
      "Initialising training\n"
     ]
    },
    {
     "data": {
      "application/vnd.jupyter.widget-view+json": {
       "model_id": "3e8e1d4068294acfaea8001b8a4811e5",
       "version_major": 2,
       "version_minor": 0
      },
      "text/plain": [
       "  0%|          | 0/5 [00:00<?, ?it/s]"
      ]
     },
     "metadata": {},
     "output_type": "display_data"
    },
    {
     "name": "stdout",
     "output_type": "stream",
     "text": [
      "Finished training after 32 seconds\n",
      "\n",
      "\tWithin Model\n",
      "Initialising training\n"
     ]
    },
    {
     "data": {
      "application/vnd.jupyter.widget-view+json": {
       "model_id": "5e420ea02f54472d8d37ad9f2650cb03",
       "version_major": 2,
       "version_minor": 0
      },
      "text/plain": [
       "  0%|          | 0/5 [00:00<?, ?it/s]"
      ]
     },
     "metadata": {},
     "output_type": "display_data"
    },
    {
     "name": "stdout",
     "output_type": "stream",
     "text": [
      "Finished training after 33 seconds\n",
      "\t{'combined': 0.13579560395768134, 'between': 0.177496160721269, 'within': -0.1521184281982622}\n",
      "\n",
      "\n",
      "\n",
      "\n",
      "Training on at least 14 Households per cluster\n",
      "Fold 0, specified test ratio: 0.2 - Actual test ratio 0.21\n",
      "Fold 1, specified test ratio: 0.2 - Actual test ratio 0.21\n",
      "Fold 2, specified test ratio: 0.2 - Actual test ratio 0.22\n",
      "Fold 3, specified test ratio: 0.2 - Actual test ratio 0.20\n",
      "Fold 4, specified test ratio: 0.2 - Actual test ratio 0.16\n",
      "\n",
      "\tBetween model\n",
      "Initialising training\n"
     ]
    },
    {
     "data": {
      "application/vnd.jupyter.widget-view+json": {
       "model_id": "8116e09eca86402085d3a95cc116963d",
       "version_major": 2,
       "version_minor": 0
      },
      "text/plain": [
       "  0%|          | 0/5 [00:00<?, ?it/s]"
      ]
     },
     "metadata": {},
     "output_type": "display_data"
    },
    {
     "name": "stdout",
     "output_type": "stream",
     "text": [
      "Finished training after 30 seconds\n",
      "\n",
      "\tWithin Model\n",
      "Initialising training\n"
     ]
    },
    {
     "data": {
      "application/vnd.jupyter.widget-view+json": {
       "model_id": "cfad4e41685445cb89dc5800212d6ebe",
       "version_major": 2,
       "version_minor": 0
      },
      "text/plain": [
       "  0%|          | 0/5 [00:00<?, ?it/s]"
      ]
     },
     "metadata": {},
     "output_type": "display_data"
    },
    {
     "name": "stdout",
     "output_type": "stream",
     "text": [
      "Finished training after 31 seconds\n",
      "\t{'combined': 0.19786542967076648, 'between': 0.1981960492841006, 'within': 0.12357330096395758}\n",
      "Fold 0, specified test ratio: 0.2 - Actual test ratio 0.21\n",
      "Fold 1, specified test ratio: 0.2 - Actual test ratio 0.21\n",
      "Fold 2, specified test ratio: 0.2 - Actual test ratio 0.22\n",
      "Fold 3, specified test ratio: 0.2 - Actual test ratio 0.22\n",
      "Fold 4, specified test ratio: 0.2 - Actual test ratio 0.14\n",
      "\n",
      "\tBetween model\n",
      "Initialising training\n"
     ]
    },
    {
     "data": {
      "application/vnd.jupyter.widget-view+json": {
       "model_id": "abd886a28d9d42599e0021294bcc172c",
       "version_major": 2,
       "version_minor": 0
      },
      "text/plain": [
       "  0%|          | 0/5 [00:00<?, ?it/s]"
      ]
     },
     "metadata": {},
     "output_type": "display_data"
    },
    {
     "name": "stdout",
     "output_type": "stream",
     "text": [
      "Finished training after 30 seconds\n",
      "\n",
      "\tWithin Model\n",
      "Initialising training\n"
     ]
    },
    {
     "data": {
      "application/vnd.jupyter.widget-view+json": {
       "model_id": "186adc24b1e24a48802a53a3ddc23383",
       "version_major": 2,
       "version_minor": 0
      },
      "text/plain": [
       "  0%|          | 0/5 [00:00<?, ?it/s]"
      ]
     },
     "metadata": {},
     "output_type": "display_data"
    },
    {
     "name": "stdout",
     "output_type": "stream",
     "text": [
      "Finished training after 31 seconds\n",
      "\t{'combined': 0.16342032101781845, 'between': 0.15291275339370206, 'within': 0.10442820116308198}\n",
      "Fold 0, specified test ratio: 0.2 - Actual test ratio 0.22\n",
      "Fold 1, specified test ratio: 0.2 - Actual test ratio 0.25\n",
      "Fold 2, specified test ratio: 0.2 - Actual test ratio 0.21\n",
      "Fold 3, specified test ratio: 0.2 - Actual test ratio 0.21\n",
      "Fold 4, specified test ratio: 0.2 - Actual test ratio 0.11\n",
      "\n",
      "\tBetween model\n",
      "Initialising training\n"
     ]
    },
    {
     "data": {
      "application/vnd.jupyter.widget-view+json": {
       "model_id": "008d2bbc670641cc95dadbb9dda9296c",
       "version_major": 2,
       "version_minor": 0
      },
      "text/plain": [
       "  0%|          | 0/5 [00:00<?, ?it/s]"
      ]
     },
     "metadata": {},
     "output_type": "display_data"
    },
    {
     "name": "stdout",
     "output_type": "stream",
     "text": [
      "Finished training after 30 seconds\n",
      "\n",
      "\tWithin Model\n",
      "Initialising training\n"
     ]
    },
    {
     "data": {
      "application/vnd.jupyter.widget-view+json": {
       "model_id": "4c489b5f06894aeab3363b4f32388a45",
       "version_major": 2,
       "version_minor": 0
      },
      "text/plain": [
       "  0%|          | 0/5 [00:00<?, ?it/s]"
      ]
     },
     "metadata": {},
     "output_type": "display_data"
    },
    {
     "name": "stdout",
     "output_type": "stream",
     "text": [
      "Finished training after 31 seconds\n",
      "\t{'combined': 0.00230227500411296, 'between': -0.059237259856618214, 'within': 0.1580495957067719}\n",
      "Fold 0, specified test ratio: 0.2 - Actual test ratio 0.21\n",
      "Fold 1, specified test ratio: 0.2 - Actual test ratio 0.20\n",
      "Fold 2, specified test ratio: 0.2 - Actual test ratio 0.21\n",
      "Fold 3, specified test ratio: 0.2 - Actual test ratio 0.20\n",
      "Fold 4, specified test ratio: 0.2 - Actual test ratio 0.17\n",
      "\n",
      "\tBetween model\n",
      "Initialising training\n"
     ]
    },
    {
     "data": {
      "application/vnd.jupyter.widget-view+json": {
       "model_id": "8cc4490f899e4f7da4f646f9db2d1530",
       "version_major": 2,
       "version_minor": 0
      },
      "text/plain": [
       "  0%|          | 0/5 [00:00<?, ?it/s]"
      ]
     },
     "metadata": {},
     "output_type": "display_data"
    },
    {
     "name": "stdout",
     "output_type": "stream",
     "text": [
      "Finished training after 30 seconds\n",
      "\n",
      "\tWithin Model\n",
      "Initialising training\n"
     ]
    },
    {
     "data": {
      "application/vnd.jupyter.widget-view+json": {
       "model_id": "38344d3e86a543ea9565c50f5ee65b9a",
       "version_major": 2,
       "version_minor": 0
      },
      "text/plain": [
       "  0%|          | 0/5 [00:00<?, ?it/s]"
      ]
     },
     "metadata": {},
     "output_type": "display_data"
    },
    {
     "name": "stdout",
     "output_type": "stream",
     "text": [
      "Finished training after 31 seconds\n",
      "\t{'combined': 0.016639935010208454, 'between': -0.006982942512204909, 'within': 0.07524912900008104}\n",
      "Fold 0, specified test ratio: 0.2 - Actual test ratio 0.21\n",
      "Fold 1, specified test ratio: 0.2 - Actual test ratio 0.20\n",
      "Fold 2, specified test ratio: 0.2 - Actual test ratio 0.24\n",
      "Fold 3, specified test ratio: 0.2 - Actual test ratio 0.22\n",
      "Fold 4, specified test ratio: 0.2 - Actual test ratio 0.13\n",
      "\n",
      "\tBetween model\n",
      "Initialising training\n"
     ]
    },
    {
     "data": {
      "application/vnd.jupyter.widget-view+json": {
       "model_id": "7a4ecdb6155e4e75ad206c97e7821253",
       "version_major": 2,
       "version_minor": 0
      },
      "text/plain": [
       "  0%|          | 0/5 [00:00<?, ?it/s]"
      ]
     },
     "metadata": {},
     "output_type": "display_data"
    },
    {
     "name": "stdout",
     "output_type": "stream",
     "text": [
      "Finished training after 30 seconds\n",
      "\n",
      "\tWithin Model\n",
      "Initialising training\n"
     ]
    },
    {
     "data": {
      "application/vnd.jupyter.widget-view+json": {
       "model_id": "4f73b2ebcded4bf0b7a422afcbd00984",
       "version_major": 2,
       "version_minor": 0
      },
      "text/plain": [
       "  0%|          | 0/5 [00:00<?, ?it/s]"
      ]
     },
     "metadata": {},
     "output_type": "display_data"
    },
    {
     "name": "stdout",
     "output_type": "stream",
     "text": [
      "Finished training after 31 seconds\n",
      "\t{'combined': 0.17145565141911515, 'between': 0.1660982236285138, 'within': 0.11610453812402541}\n",
      "Fold 0, specified test ratio: 0.2 - Actual test ratio 0.20\n",
      "Fold 1, specified test ratio: 0.2 - Actual test ratio 0.23\n",
      "Fold 2, specified test ratio: 0.2 - Actual test ratio 0.22\n",
      "Fold 3, specified test ratio: 0.2 - Actual test ratio 0.21\n",
      "Fold 4, specified test ratio: 0.2 - Actual test ratio 0.14\n",
      "\n",
      "\tBetween model\n",
      "Initialising training\n"
     ]
    },
    {
     "data": {
      "application/vnd.jupyter.widget-view+json": {
       "model_id": "fb47ef23f7cf40b3b927541ccc8982ca",
       "version_major": 2,
       "version_minor": 0
      },
      "text/plain": [
       "  0%|          | 0/5 [00:00<?, ?it/s]"
      ]
     },
     "metadata": {},
     "output_type": "display_data"
    },
    {
     "name": "stdout",
     "output_type": "stream",
     "text": [
      "Finished training after 30 seconds\n",
      "\n",
      "\tWithin Model\n",
      "Initialising training\n"
     ]
    },
    {
     "data": {
      "application/vnd.jupyter.widget-view+json": {
       "model_id": "16f0717f2c2646629487554ae5603420",
       "version_major": 2,
       "version_minor": 0
      },
      "text/plain": [
       "  0%|          | 0/5 [00:00<?, ?it/s]"
      ]
     },
     "metadata": {},
     "output_type": "display_data"
    },
    {
     "name": "stdout",
     "output_type": "stream",
     "text": [
      "Finished training after 31 seconds\n",
      "\t{'combined': 0.21389745889416745, 'between': 0.2266942653488232, 'within': 0.04256771220531323}\n",
      "Fold 0, specified test ratio: 0.2 - Actual test ratio 0.24\n",
      "Fold 1, specified test ratio: 0.2 - Actual test ratio 0.21\n",
      "Fold 2, specified test ratio: 0.2 - Actual test ratio 0.21\n",
      "Fold 3, specified test ratio: 0.2 - Actual test ratio 0.20\n",
      "Fold 4, specified test ratio: 0.2 - Actual test ratio 0.14\n",
      "\n",
      "\tBetween model\n",
      "Initialising training\n"
     ]
    },
    {
     "data": {
      "application/vnd.jupyter.widget-view+json": {
       "model_id": "26d16ce43e27434ba4af1d0c140a74f2",
       "version_major": 2,
       "version_minor": 0
      },
      "text/plain": [
       "  0%|          | 0/5 [00:00<?, ?it/s]"
      ]
     },
     "metadata": {},
     "output_type": "display_data"
    },
    {
     "name": "stdout",
     "output_type": "stream",
     "text": [
      "Finished training after 30 seconds\n",
      "\n",
      "\tWithin Model\n",
      "Initialising training\n"
     ]
    },
    {
     "data": {
      "application/vnd.jupyter.widget-view+json": {
       "model_id": "e529545a9c8345a7a9ef2d429e55b4f6",
       "version_major": 2,
       "version_minor": 0
      },
      "text/plain": [
       "  0%|          | 0/5 [00:00<?, ?it/s]"
      ]
     },
     "metadata": {},
     "output_type": "display_data"
    },
    {
     "name": "stdout",
     "output_type": "stream",
     "text": [
      "Finished training after 31 seconds\n",
      "\t{'combined': 0.16990406367844932, 'between': 0.1591998300647013, 'within': 0.10168301457841411}\n",
      "Fold 0, specified test ratio: 0.2 - Actual test ratio 0.20\n",
      "Fold 1, specified test ratio: 0.2 - Actual test ratio 0.26\n",
      "Fold 2, specified test ratio: 0.2 - Actual test ratio 0.20\n",
      "Fold 3, specified test ratio: 0.2 - Actual test ratio 0.21\n",
      "Fold 4, specified test ratio: 0.2 - Actual test ratio 0.13\n",
      "\n",
      "\tBetween model\n",
      "Initialising training\n"
     ]
    },
    {
     "data": {
      "application/vnd.jupyter.widget-view+json": {
       "model_id": "dc146d827b07476ebcbb8f02278d30d3",
       "version_major": 2,
       "version_minor": 0
      },
      "text/plain": [
       "  0%|          | 0/5 [00:00<?, ?it/s]"
      ]
     },
     "metadata": {},
     "output_type": "display_data"
    },
    {
     "name": "stdout",
     "output_type": "stream",
     "text": [
      "Finished training after 30 seconds\n",
      "\n",
      "\tWithin Model\n",
      "Initialising training\n"
     ]
    },
    {
     "data": {
      "application/vnd.jupyter.widget-view+json": {
       "model_id": "1008fff54918425c9d0e9bc1f0c88db4",
       "version_major": 2,
       "version_minor": 0
      },
      "text/plain": [
       "  0%|          | 0/5 [00:00<?, ?it/s]"
      ]
     },
     "metadata": {},
     "output_type": "display_data"
    },
    {
     "name": "stdout",
     "output_type": "stream",
     "text": [
      "Finished training after 31 seconds\n",
      "\t{'combined': 0.18148942626443007, 'between': 0.18855615070010284, 'within': 0.06884295977745106}\n",
      "Fold 0, specified test ratio: 0.2 - Actual test ratio 0.21\n",
      "Fold 1, specified test ratio: 0.2 - Actual test ratio 0.21\n",
      "Fold 2, specified test ratio: 0.2 - Actual test ratio 0.21\n",
      "Fold 3, specified test ratio: 0.2 - Actual test ratio 0.22\n",
      "Fold 4, specified test ratio: 0.2 - Actual test ratio 0.14\n",
      "\n",
      "\tBetween model\n",
      "Initialising training\n"
     ]
    },
    {
     "data": {
      "application/vnd.jupyter.widget-view+json": {
       "model_id": "2e3edf25ec12412fa8533c696f8321a4",
       "version_major": 2,
       "version_minor": 0
      },
      "text/plain": [
       "  0%|          | 0/5 [00:00<?, ?it/s]"
      ]
     },
     "metadata": {},
     "output_type": "display_data"
    },
    {
     "name": "stdout",
     "output_type": "stream",
     "text": [
      "Finished training after 30 seconds\n",
      "\n",
      "\tWithin Model\n",
      "Initialising training\n"
     ]
    },
    {
     "data": {
      "application/vnd.jupyter.widget-view+json": {
       "model_id": "b4c554c153c747c1bbcb285d022a74bb",
       "version_major": 2,
       "version_minor": 0
      },
      "text/plain": [
       "  0%|          | 0/5 [00:00<?, ?it/s]"
      ]
     },
     "metadata": {},
     "output_type": "display_data"
    },
    {
     "name": "stdout",
     "output_type": "stream",
     "text": [
      "Finished training after 31 seconds\n",
      "\t{'combined': 0.005177087187613026, 'between': -0.03703105757028284, 'within': 0.10883594097754386}\n",
      "Fold 0, specified test ratio: 0.2 - Actual test ratio 0.20\n",
      "Fold 1, specified test ratio: 0.2 - Actual test ratio 0.28\n",
      "Fold 2, specified test ratio: 0.2 - Actual test ratio 0.22\n",
      "Fold 3, specified test ratio: 0.2 - Actual test ratio 0.21\n",
      "Fold 4, specified test ratio: 0.2 - Actual test ratio 0.09\n",
      "\n",
      "\tBetween model\n",
      "Initialising training\n"
     ]
    },
    {
     "data": {
      "application/vnd.jupyter.widget-view+json": {
       "model_id": "09f0d2f4883c40c28b61653c4ad51cfc",
       "version_major": 2,
       "version_minor": 0
      },
      "text/plain": [
       "  0%|          | 0/5 [00:00<?, ?it/s]"
      ]
     },
     "metadata": {},
     "output_type": "display_data"
    },
    {
     "name": "stdout",
     "output_type": "stream",
     "text": [
      "Finished training after 30 seconds\n",
      "\n",
      "\tWithin Model\n",
      "Initialising training\n"
     ]
    },
    {
     "data": {
      "application/vnd.jupyter.widget-view+json": {
       "model_id": "98fbec3f486f45ec8278f6db808dd040",
       "version_major": 2,
       "version_minor": 0
      },
      "text/plain": [
       "  0%|          | 0/5 [00:00<?, ?it/s]"
      ]
     },
     "metadata": {},
     "output_type": "display_data"
    },
    {
     "name": "stdout",
     "output_type": "stream",
     "text": [
      "Finished training after 31 seconds\n",
      "\t{'combined': 0.0935728624615602, 'between': 0.05858927818799159, 'within': 0.1076626671295691}\n",
      "\n",
      "\n",
      "\n",
      "\n",
      "Training on at least 15 Households per cluster\n",
      "Fold 0, specified test ratio: 0.2 - Actual test ratio 0.27\n",
      "Fold 1, specified test ratio: 0.2 - Actual test ratio 0.23\n",
      "Fold 2, specified test ratio: 0.2 - Actual test ratio 0.20\n",
      "Fold 3, specified test ratio: 0.2 - Actual test ratio 0.21\n",
      "Fold 4, specified test ratio: 0.2 - Actual test ratio 0.09\n",
      "\n",
      "\tBetween model\n",
      "Initialising training\n"
     ]
    },
    {
     "data": {
      "application/vnd.jupyter.widget-view+json": {
       "model_id": "b3b3cfd6d2264430aee10a59098a8ba8",
       "version_major": 2,
       "version_minor": 0
      },
      "text/plain": [
       "  0%|          | 0/5 [00:00<?, ?it/s]"
      ]
     },
     "metadata": {},
     "output_type": "display_data"
    },
    {
     "name": "stdout",
     "output_type": "stream",
     "text": [
      "Finished training after 29 seconds\n",
      "\n",
      "\tWithin Model\n",
      "Initialising training\n"
     ]
    },
    {
     "data": {
      "application/vnd.jupyter.widget-view+json": {
       "model_id": "cebc510b914747b0b4e6109e226889b5",
       "version_major": 2,
       "version_minor": 0
      },
      "text/plain": [
       "  0%|          | 0/5 [00:00<?, ?it/s]"
      ]
     },
     "metadata": {},
     "output_type": "display_data"
    },
    {
     "name": "stdout",
     "output_type": "stream",
     "text": [
      "Finished training after 29 seconds\n",
      "\t{'combined': 0.05059175311498381, 'between': 0.044414008927046715, 'within': -0.11100747690365051}\n",
      "Fold 0, specified test ratio: 0.2 - Actual test ratio 0.22\n",
      "Fold 1, specified test ratio: 0.2 - Actual test ratio 0.24\n",
      "Fold 2, specified test ratio: 0.2 - Actual test ratio 0.21\n",
      "Fold 3, specified test ratio: 0.2 - Actual test ratio 0.18\n",
      "Fold 4, specified test ratio: 0.2 - Actual test ratio 0.14\n",
      "\n",
      "\tBetween model\n",
      "Initialising training\n"
     ]
    },
    {
     "data": {
      "application/vnd.jupyter.widget-view+json": {
       "model_id": "ae8c42e8b1ea4a0c872b309e192b3b6d",
       "version_major": 2,
       "version_minor": 0
      },
      "text/plain": [
       "  0%|          | 0/5 [00:00<?, ?it/s]"
      ]
     },
     "metadata": {},
     "output_type": "display_data"
    },
    {
     "name": "stdout",
     "output_type": "stream",
     "text": [
      "Finished training after 28 seconds\n",
      "\n",
      "\tWithin Model\n",
      "Initialising training\n"
     ]
    },
    {
     "data": {
      "application/vnd.jupyter.widget-view+json": {
       "model_id": "8e359069b00a44f3ab1b7c194525655b",
       "version_major": 2,
       "version_minor": 0
      },
      "text/plain": [
       "  0%|          | 0/5 [00:00<?, ?it/s]"
      ]
     },
     "metadata": {},
     "output_type": "display_data"
    },
    {
     "name": "stdout",
     "output_type": "stream",
     "text": [
      "Finished training after 29 seconds\n",
      "\t{'combined': 0.09435954568618911, 'between': 0.08440056884744807, 'within': -0.06056822581496968}\n",
      "Fold 0, specified test ratio: 0.2 - Actual test ratio 0.23\n",
      "Fold 1, specified test ratio: 0.2 - Actual test ratio 0.22\n",
      "Fold 2, specified test ratio: 0.2 - Actual test ratio 0.19\n",
      "Fold 3, specified test ratio: 0.2 - Actual test ratio 0.20\n",
      "Fold 4, specified test ratio: 0.2 - Actual test ratio 0.15\n",
      "\n",
      "\tBetween model\n",
      "Initialising training\n"
     ]
    },
    {
     "data": {
      "application/vnd.jupyter.widget-view+json": {
       "model_id": "b19c2b2fb5d94936a6d290a390eb946e",
       "version_major": 2,
       "version_minor": 0
      },
      "text/plain": [
       "  0%|          | 0/5 [00:00<?, ?it/s]"
      ]
     },
     "metadata": {},
     "output_type": "display_data"
    },
    {
     "name": "stdout",
     "output_type": "stream",
     "text": [
      "Finished training after 29 seconds\n",
      "\n",
      "\tWithin Model\n",
      "Initialising training\n"
     ]
    },
    {
     "data": {
      "application/vnd.jupyter.widget-view+json": {
       "model_id": "3371a0c7ee4e4204b9beaaf662623e26",
       "version_major": 2,
       "version_minor": 0
      },
      "text/plain": [
       "  0%|          | 0/5 [00:00<?, ?it/s]"
      ]
     },
     "metadata": {},
     "output_type": "display_data"
    },
    {
     "name": "stdout",
     "output_type": "stream",
     "text": [
      "Finished training after 29 seconds\n",
      "\t{'combined': 0.02401374225397445, 'between': -0.014842359077408234, 'within': -0.1019741674798639}\n",
      "Fold 0, specified test ratio: 0.2 - Actual test ratio 0.23\n",
      "Fold 1, specified test ratio: 0.2 - Actual test ratio 0.23\n",
      "Fold 2, specified test ratio: 0.2 - Actual test ratio 0.18\n",
      "Fold 3, specified test ratio: 0.2 - Actual test ratio 0.18\n",
      "Fold 4, specified test ratio: 0.2 - Actual test ratio 0.17\n",
      "\n",
      "\tBetween model\n",
      "Initialising training\n"
     ]
    },
    {
     "data": {
      "application/vnd.jupyter.widget-view+json": {
       "model_id": "254fa5a976a44d17a22674e403911e65",
       "version_major": 2,
       "version_minor": 0
      },
      "text/plain": [
       "  0%|          | 0/5 [00:00<?, ?it/s]"
      ]
     },
     "metadata": {},
     "output_type": "display_data"
    },
    {
     "name": "stdout",
     "output_type": "stream",
     "text": [
      "Finished training after 29 seconds\n",
      "\n",
      "\tWithin Model\n",
      "Initialising training\n"
     ]
    },
    {
     "data": {
      "application/vnd.jupyter.widget-view+json": {
       "model_id": "a2cf17f09aae4785910432eb309479c9",
       "version_major": 2,
       "version_minor": 0
      },
      "text/plain": [
       "  0%|          | 0/5 [00:00<?, ?it/s]"
      ]
     },
     "metadata": {},
     "output_type": "display_data"
    },
    {
     "name": "stdout",
     "output_type": "stream",
     "text": [
      "Finished training after 29 seconds\n",
      "\t{'combined': 0.1463815280527959, 'between': 0.17362047829025007, 'within': -0.019744644114241972}\n",
      "Fold 0, specified test ratio: 0.2 - Actual test ratio 0.22\n",
      "Fold 1, specified test ratio: 0.2 - Actual test ratio 0.23\n",
      "Fold 2, specified test ratio: 0.2 - Actual test ratio 0.22\n",
      "Fold 3, specified test ratio: 0.2 - Actual test ratio 0.21\n",
      "Fold 4, specified test ratio: 0.2 - Actual test ratio 0.11\n",
      "\n",
      "\tBetween model\n",
      "Initialising training\n"
     ]
    },
    {
     "data": {
      "application/vnd.jupyter.widget-view+json": {
       "model_id": "de51ce95d69e40e0857817084b044ac9",
       "version_major": 2,
       "version_minor": 0
      },
      "text/plain": [
       "  0%|          | 0/5 [00:00<?, ?it/s]"
      ]
     },
     "metadata": {},
     "output_type": "display_data"
    },
    {
     "name": "stdout",
     "output_type": "stream",
     "text": [
      "Finished training after 29 seconds\n",
      "\n",
      "\tWithin Model\n",
      "Initialising training\n"
     ]
    },
    {
     "data": {
      "application/vnd.jupyter.widget-view+json": {
       "model_id": "fe7a91e7177e43a8b8e313dcc7291136",
       "version_major": 2,
       "version_minor": 0
      },
      "text/plain": [
       "  0%|          | 0/5 [00:00<?, ?it/s]"
      ]
     },
     "metadata": {},
     "output_type": "display_data"
    },
    {
     "name": "stdout",
     "output_type": "stream",
     "text": [
      "Finished training after 29 seconds\n",
      "\t{'combined': -0.19280921674426507, 'between': -0.36430330851944176, 'within': -0.04027665991141562}\n",
      "Fold 0, specified test ratio: 0.2 - Actual test ratio 0.27\n",
      "Fold 1, specified test ratio: 0.2 - Actual test ratio 0.22\n",
      "Fold 2, specified test ratio: 0.2 - Actual test ratio 0.19\n",
      "Fold 3, specified test ratio: 0.2 - Actual test ratio 0.19\n",
      "Fold 4, specified test ratio: 0.2 - Actual test ratio 0.13\n",
      "\n",
      "\tBetween model\n",
      "Initialising training\n"
     ]
    },
    {
     "data": {
      "application/vnd.jupyter.widget-view+json": {
       "model_id": "e8ff5e03092f4e42af1ca0e62e01a9d6",
       "version_major": 2,
       "version_minor": 0
      },
      "text/plain": [
       "  0%|          | 0/5 [00:00<?, ?it/s]"
      ]
     },
     "metadata": {},
     "output_type": "display_data"
    },
    {
     "name": "stdout",
     "output_type": "stream",
     "text": [
      "Finished training after 28 seconds\n",
      "\n",
      "\tWithin Model\n",
      "Initialising training\n"
     ]
    },
    {
     "data": {
      "application/vnd.jupyter.widget-view+json": {
       "model_id": "80e035612c264e61a6f5c38731372ab1",
       "version_major": 2,
       "version_minor": 0
      },
      "text/plain": [
       "  0%|          | 0/5 [00:00<?, ?it/s]"
      ]
     },
     "metadata": {},
     "output_type": "display_data"
    },
    {
     "name": "stdout",
     "output_type": "stream",
     "text": [
      "Finished training after 29 seconds\n",
      "\t{'combined': -0.005495535623734116, 'between': -0.07067289731005283, 'within': -0.03514678355768526}\n",
      "Fold 0, specified test ratio: 0.2 - Actual test ratio 0.28\n",
      "Fold 1, specified test ratio: 0.2 - Actual test ratio 0.24\n",
      "Fold 2, specified test ratio: 0.2 - Actual test ratio 0.20\n",
      "Fold 3, specified test ratio: 0.2 - Actual test ratio 0.19\n",
      "Fold 4, specified test ratio: 0.2 - Actual test ratio 0.09\n",
      "\n",
      "\tBetween model\n",
      "Initialising training\n"
     ]
    },
    {
     "data": {
      "application/vnd.jupyter.widget-view+json": {
       "model_id": "1ca775a73a3d40fdb29be6835448c9c7",
       "version_major": 2,
       "version_minor": 0
      },
      "text/plain": [
       "  0%|          | 0/5 [00:00<?, ?it/s]"
      ]
     },
     "metadata": {},
     "output_type": "display_data"
    },
    {
     "name": "stdout",
     "output_type": "stream",
     "text": [
      "Finished training after 28 seconds\n",
      "\n",
      "\tWithin Model\n",
      "Initialising training\n"
     ]
    },
    {
     "data": {
      "application/vnd.jupyter.widget-view+json": {
       "model_id": "693504f94b4c413abc2606881ae8b548",
       "version_major": 2,
       "version_minor": 0
      },
      "text/plain": [
       "  0%|          | 0/5 [00:00<?, ?it/s]"
      ]
     },
     "metadata": {},
     "output_type": "display_data"
    },
    {
     "name": "stdout",
     "output_type": "stream",
     "text": [
      "Finished training after 29 seconds\n",
      "\t{'combined': 0.24455861279674973, 'between': 0.2794757600379931, 'within': 0.06746796374853432}\n",
      "Fold 0, specified test ratio: 0.2 - Actual test ratio 0.24\n",
      "Fold 1, specified test ratio: 0.2 - Actual test ratio 0.26\n",
      "Fold 2, specified test ratio: 0.2 - Actual test ratio 0.23\n",
      "Fold 3, specified test ratio: 0.2 - Actual test ratio 0.20\n",
      "Fold 4, specified test ratio: 0.2 - Actual test ratio 0.06\n",
      "\n",
      "\tBetween model\n",
      "Initialising training\n"
     ]
    },
    {
     "data": {
      "application/vnd.jupyter.widget-view+json": {
       "model_id": "242fd68287ab455d94b9789e376b68f0",
       "version_major": 2,
       "version_minor": 0
      },
      "text/plain": [
       "  0%|          | 0/5 [00:00<?, ?it/s]"
      ]
     },
     "metadata": {},
     "output_type": "display_data"
    },
    {
     "name": "stdout",
     "output_type": "stream",
     "text": [
      "Finished training after 29 seconds\n",
      "\n",
      "\tWithin Model\n",
      "Initialising training\n"
     ]
    },
    {
     "data": {
      "application/vnd.jupyter.widget-view+json": {
       "model_id": "15bd438b42fb4b288459b9ff568c39ac",
       "version_major": 2,
       "version_minor": 0
      },
      "text/plain": [
       "  0%|          | 0/5 [00:00<?, ?it/s]"
      ]
     },
     "metadata": {},
     "output_type": "display_data"
    },
    {
     "name": "stdout",
     "output_type": "stream",
     "text": [
      "Finished training after 29 seconds\n",
      "\t{'combined': 0.1194618544796425, 'between': 0.053702646626706624, 'within': 0.03571966479824899}\n",
      "Fold 0, specified test ratio: 0.2 - Actual test ratio 0.23\n",
      "Fold 1, specified test ratio: 0.2 - Actual test ratio 0.21\n",
      "Fold 2, specified test ratio: 0.2 - Actual test ratio 0.18\n",
      "Fold 3, specified test ratio: 0.2 - Actual test ratio 0.20\n",
      "Fold 4, specified test ratio: 0.2 - Actual test ratio 0.17\n",
      "\n",
      "\tBetween model\n",
      "Initialising training\n"
     ]
    },
    {
     "data": {
      "application/vnd.jupyter.widget-view+json": {
       "model_id": "20831d5268bf40e89b658f7dca3b537e",
       "version_major": 2,
       "version_minor": 0
      },
      "text/plain": [
       "  0%|          | 0/5 [00:00<?, ?it/s]"
      ]
     },
     "metadata": {},
     "output_type": "display_data"
    },
    {
     "name": "stdout",
     "output_type": "stream",
     "text": [
      "Finished training after 28 seconds\n",
      "\n",
      "\tWithin Model\n",
      "Initialising training\n"
     ]
    },
    {
     "data": {
      "application/vnd.jupyter.widget-view+json": {
       "model_id": "830c0335238f48e4b62fd25052f210b2",
       "version_major": 2,
       "version_minor": 0
      },
      "text/plain": [
       "  0%|          | 0/5 [00:00<?, ?it/s]"
      ]
     },
     "metadata": {},
     "output_type": "display_data"
    },
    {
     "name": "stdout",
     "output_type": "stream",
     "text": [
      "Finished training after 29 seconds\n",
      "\t{'combined': 0.11305980466384724, 'between': 0.0929624871761528, 'within': 0.03494952421288733}\n",
      "Fold 0, specified test ratio: 0.2 - Actual test ratio 0.26\n",
      "Fold 1, specified test ratio: 0.2 - Actual test ratio 0.24\n",
      "Fold 2, specified test ratio: 0.2 - Actual test ratio 0.18\n",
      "Fold 3, specified test ratio: 0.2 - Actual test ratio 0.21\n",
      "Fold 4, specified test ratio: 0.2 - Actual test ratio 0.11\n",
      "\n",
      "\tBetween model\n",
      "Initialising training\n"
     ]
    },
    {
     "data": {
      "application/vnd.jupyter.widget-view+json": {
       "model_id": "d831af9f35304c399f824426b7f1d905",
       "version_major": 2,
       "version_minor": 0
      },
      "text/plain": [
       "  0%|          | 0/5 [00:00<?, ?it/s]"
      ]
     },
     "metadata": {},
     "output_type": "display_data"
    },
    {
     "name": "stdout",
     "output_type": "stream",
     "text": [
      "Finished training after 28 seconds\n",
      "\n",
      "\tWithin Model\n",
      "Initialising training\n"
     ]
    },
    {
     "data": {
      "application/vnd.jupyter.widget-view+json": {
       "model_id": "31fb3ff89e9349939ddccb1f9c6b07e7",
       "version_major": 2,
       "version_minor": 0
      },
      "text/plain": [
       "  0%|          | 0/5 [00:00<?, ?it/s]"
      ]
     },
     "metadata": {},
     "output_type": "display_data"
    },
    {
     "name": "stdout",
     "output_type": "stream",
     "text": [
      "Finished training after 29 seconds\n",
      "\t{'combined': 0.10843572566752031, 'between': 0.09587713272475552, 'within': -0.04940350786231518}\n",
      "\n",
      "\n",
      "\n",
      "\n"
     ]
    }
   ],
   "source": [
    "# run the training and valdiation\n",
    "\n",
    "combined_r2 = []\n",
    "between_r2 = []\n",
    "within_r2 = []\n",
    "\n",
    "for i in n_households:\n",
    "    print(f\"Training on at least {i} Households per cluster\")\n",
    "    \n",
    "    # subset the datasets to only those observations that meet the condition\n",
    "    between_df_sub = between_df[between_df['n_households'] >= i].reset_index(drop = True)\n",
    "    within_df_sub = within_df[within_df['n_households'] >= i].reset_index(drop = True)\n",
    "    df_sub = df[df['n_households'] >= i].reset_index(drop = True)\n",
    "    \n",
    "    # standardise the datasets\n",
    "    between_df_norm = standardise_df(between_df_sub, exclude_cols = [between_target_var])\n",
    "    demeaned_df_norm = standardise_df(demean_df(within_df_sub), exclude_cols = [within_target_var])\n",
    "    \n",
    "    aux_r2_b = []\n",
    "    aux_r2_w = []\n",
    "    aux_r2_c = []\n",
    "    \n",
    "    # do 10-times repeated CV: \n",
    "    for j in range(10):\n",
    "        seeed = spatial_cv_random_seed + i + j\n",
    "        # split the data into training and validation folds\n",
    "        fold_ids = split_lsms_spatial(df_sub, n_folds = n_folds, random_seed = seeed)\n",
    "\n",
    "        # run the bewtween training\n",
    "        print('\\n\\tBetween model')\n",
    "        between_cv_trainer = rf.CrossValidator(between_df_norm, \n",
    "                                               fold_ids,\n",
    "                                               between_target_var, \n",
    "                                               between_x_vars, \n",
    "                                               id_var = 'cluster_id',\n",
    "                                               random_seed = seeed)\n",
    "        between_cv_trainer.run_cv_training(min_samples_leaf = 1)\n",
    "        between_res = between_cv_trainer.compute_overall_performance()\n",
    "\n",
    "        # run the within training\n",
    "        print('\\n\\tWithin Model')\n",
    "        within_cv_trainer = rf.CrossValidator(demeaned_df_norm, \n",
    "                                              fold_ids, \n",
    "                                              within_target_var, \n",
    "                                              within_x_vars,\n",
    "                                              id_var = 'unique_id',\n",
    "                                              random_seed = seeed)\n",
    "        within_cv_trainer.run_cv_training(min_samples_leaf = 1)\n",
    "        within_res = within_cv_trainer.compute_overall_performance()\n",
    "\n",
    "        # run the combined model\n",
    "        combined_model = CombinedModel(df_sub, between_cv_trainer, within_cv_trainer)\n",
    "        combined_model.evaluate()\n",
    "        combined_res = combined_model.compute_overall_performance()\n",
    "        print(f\"\\t{combined_res['r2']}\")\n",
    "\n",
    "        # store results\n",
    "        aux_r2_b.append(combined_res['r2']['between'])\n",
    "        aux_r2_w.append(combined_res['r2']['within'])\n",
    "        aux_r2_c.append(combined_res['r2']['combined'])\n",
    "    \n",
    "    between_r2.append(aux_r2_b)\n",
    "    within_r2.append(aux_r2_w)\n",
    "    combined_r2.append(aux_r2_c)\n",
    "    \n",
    "    print('\\n\\n\\n')\n"
   ]
  },
  {
   "cell_type": "code",
   "execution_count": 13,
   "id": "f5f3f743",
   "metadata": {},
   "outputs": [],
   "source": [
    "results = {\n",
    "    'between_r2': np.array(between_r2),\n",
    "    'within_r2': np.array(within_r2),\n",
    "    'combined_r2': np.array(combined_r2)\n",
    "}\n",
    "\n",
    "# take the average over the repeated CV results\n",
    "agg_results = {k: np.mean(v, axis = 1) for k,v in results.items()}\n",
    "\n",
    "# save the results\n",
    "pth = \"../results/robust_households.pkl\"\n",
    "with open(pth, 'wb') as f:\n",
    "    pickle.dump(results, f)"
   ]
  },
  {
   "cell_type": "code",
   "execution_count": 32,
   "id": "19a17d67",
   "metadata": {},
   "outputs": [
    {
     "data": {
      "image/png": "[encoded data removed]",
      "text/plain": [
       "<Figure size 504x504 with 1 Axes>"
      ]
     },
     "metadata": {
      "needs_background": "light"
     },
     "output_type": "display_data"
    }
   ],
   "source": [
    "# plot the results\n",
    "plt.figure(figsize = (7,7))\n",
    "plt.plot(list(range(1,16)), agg_results['between_r2'], label = 'Between $R^2$')\n",
    "plt.plot(list(range(1,16)), agg_results['within_r2'], label = 'Within $R^2$')\n",
    "plt.plot(list(range(1,16)), agg_results['combined_r2'], label = 'Overall $R^2$')\n",
    "plt.legend()\n",
    "plt.xlabel(\"Minium number of housheolds per cluster\")\n",
    "plt.ylabel(\"$R^2$\")\n",
    "plt.axhline(y=0, color='red', linestyle='dotted', label='y = 0')  # Add red dotted line at y = 0\n",
    "plt.xticks(range(0, 16))  # Set x-axis ticks from 1 to 10\n",
    "plt.savefig(\"../figures/results/R2_vs_households.png\", dpi = 600, bbox_inches = 'tight', pad_inches = 0.1)\n",
    "plt.show() "
   ]
  },
  {
   "cell_type": "markdown",
   "id": "de0b5c13",
   "metadata": {},
   "source": [
    "# Nightlights are noisy which is why no signal"
   ]
  },
  {
   "cell_type": "code",
   "execution_count": null,
   "id": "6ee5e4a0",
   "metadata": {},
   "outputs": [],
   "source": [
    "early_years "
   ]
  },
  {
   "cell_type": "markdown",
   "id": "71aeeb81",
   "metadata": {},
   "source": [
    "# Run different models for Urban and Rural"
   ]
  },
  {
   "cell_type": "code",
   "execution_count": null,
   "id": "1e48884b",
   "metadata": {},
   "outputs": [],
   "source": [
    "urban_cids = list(df[df.rural == 0].cluster_id)\n",
    "rural_cids = list(df[df.rural == 1].cluster_id)"
   ]
  },
  {
   "cell_type": "code",
   "execution_count": null,
   "id": "474d6008",
   "metadata": {},
   "outputs": [],
   "source": []
  },
  {
   "cell_type": "markdown",
   "id": "cac3ed0c",
   "metadata": {},
   "source": [
    "# Ensure T years between cluster-year observations"
   ]
  },
  {
   "cell_type": "code",
   "execution_count": null,
   "id": "316216dc",
   "metadata": {},
   "outputs": [],
   "source": [
    "# two years (drop uganda I and II 2010, and uganda I 2018)\n",
    "# three years (drop Ethiopia I 2013 and Ethiopia II, drop Nigeria I II 2012, Tanzania I 2010, 2012, Tanzania III 2010, Uganda I 2011, 2015 Uganda II)\n",
    "min_year_1_ids = {'uids': list(df.unique_id), \n",
    "                   'cids': list(df.cluster_id)}\n",
    "\n",
    "# create sample with time differences of at least 2 years:\n",
    "condition_1 = (df.country == 'uga') & (df.start_year == 2010)\n",
    "condition_2 = (df.country == 'uga') & (df.series == 'long') & (df.start_year == 2018)\n",
    "condition_2_years = condition_1 | condition_2\n",
    "min_year_2_ids = {'uids': list(df[~condition_2_years].unique_id),\n",
    "                   'cids': list(df[~condition_2_years].cluster_id)}\n",
    "\n",
    "\n",
    "# create sample with time differences of at least 3 years:\n",
    "\n",
    "# drop Ethiopia I 2013 and Ethiopia II\n",
    "eth_cond = ((df.country == 'eth') & (df.start_year == 2013)) | ((df.country == 'eth') & (df.series == 'short'))\n",
    "\n",
    "# drop Nigeria I II 2012\n",
    "nga_cond = ((df.country == 'nga') & (df.start_year == 2012))\n",
    "\n",
    "# drop Tanzania I 2010, 2012, Tanzania III 2010\n",
    "tza_cond_1 = (df.country == 'tza') & (df.start_year == 2010)\n",
    "tza_cond_2 = (df.country == 'tza') & (df.series == 'long') & (df.start_year == 2012)\n",
    "tza_cond = tza_cond_1 | tza_cond_2\n",
    "\n",
    "# drop Uganda I 2011, 2015 Uganda II\n",
    "uga_cond_1 = (df.country == 'uga') & (df.series == 'short')\n",
    "uga_cond_2 = (df.country == 'uga') & (df.start_year.isin([2010, 2011, 2015, 2018]))\n",
    "uga_cond = uga_cond_1 | uga_cond_2\n",
    "\n",
    "# combine all conditions\n",
    "condition_3_years = eth_cond | nga_cond | tza_cond | uga_cond\n",
    "\n",
    "min_year_3_ids = {'uids': list(df[~condition_3_years].unique_id),\n",
    "                  'cids': list(df[~condition_3_years].cluster_id)}"
   ]
  },
  {
   "cell_type": "code",
   "execution_count": null,
   "id": "2707b04c",
   "metadata": {},
   "outputs": [],
   "source": [
    "# run the training and valdiation\n",
    "min_year_ids = [min_year_1_ids, min_year_2_ids, min_year_3_ids]\n",
    "\n",
    "combined_r2 = []\n",
    "between_r2 = []\n",
    "within_r2 = []\n",
    "\n",
    "for idx, ids in enumerate(min_year_ids):\n",
    "    print(f\"Training on at least {idx+1} years of difference between waves\")\n",
    "    \n",
    "    between_df_sub = between_df[between_df['cluster_id'].isin(ids['cids'])].reset_index(drop = True)\n",
    "    within_df_sub = within_df[within_df['unique_id'].isin(ids['uids'])].reset_index(drop = True)\n",
    "    \n",
    "    df_sub = df[df['unique_id'].isin(ids['uids'])].reset_index(drop = True)\n",
    "    \n",
    "    fold_ids = split_lsms_spatial(df_sub, n_folds = n_folds, random_seed = spatial_cv_random_seed)\n",
    "    \n",
    "    between_df_norm = standardise_df(between_df_sub, exclude_cols = [between_target_var])\n",
    "    demeaned_df_norm = standardise_df(demean_df(within_df_sub), exclude_cols = [within_target_var])\n",
    "    \n",
    "    # run the bewtween training\n",
    "    print('\\n\\tBetween model')\n",
    "    between_cv_trainer = rf.CrossValidator(between_df_norm, \n",
    "                                           fold_ids,\n",
    "                                           between_target_var, \n",
    "                                           between_x_vars, \n",
    "                                           id_var = 'cluster_id',\n",
    "                                           random_seed = random_seed)\n",
    "    between_cv_trainer.run_cv_training(min_samples_leaf = 1)\n",
    "    between_res = between_cv_trainer.compute_overall_performance()\n",
    "    \n",
    "    # run the within training\n",
    "    print('\\n\\tWithin Model')\n",
    "    within_cv_trainer = rf.CrossValidator(demeaned_df_norm, \n",
    "                                          fold_ids, \n",
    "                                          within_target_var, \n",
    "                                          within_x_vars,\n",
    "                                          id_var = 'unique_id',\n",
    "                                          random_seed = random_seed)\n",
    "    within_cv_trainer.run_cv_training(min_samples_leaf = 1)\n",
    "    within_res = within_cv_trainer.compute_overall_performance()\n",
    "    \n",
    "    # run the combined model\n",
    "    combined_model = CombinedModel(df_sub, between_cv_trainer, within_cv_trainer)\n",
    "    combined_model.evaluate()\n",
    "    combined_res = combined_model.compute_overall_performance()\n",
    "    print(f\"\\t{combined_res['r2']}\")\n",
    "    \n",
    "    # store results\n",
    "    between_r2.append(combined_res['r2']['between'])\n",
    "    within_r2.append(combined_res['r2']['within'])\n",
    "    combined_r2.append(combined_res['r2']['combined'])\n",
    "    \n",
    "    print('\\n\\n\\n')"
   ]
  },
  {
   "cell_type": "code",
   "execution_count": null,
   "id": "7f7deb05",
   "metadata": {},
   "outputs": [],
   "source": []
  },
  {
   "cell_type": "markdown",
   "id": "3296dd67",
   "metadata": {},
   "source": [
    "# Run a model within each country"
   ]
  },
  {
   "cell_type": "code",
   "execution_count": null,
   "id": "9cce65f5",
   "metadata": {},
   "outputs": [],
   "source": [
    "countries = ['eth', 'mwi', 'nga', 'uga', 'tza', ]\n",
    "for cntry in country:\n",
    "    cntry_df = lsms_df[lsms_df.country == cntry]\n",
    "    \n",
    "    \n",
    "    \n",
    "    \n",
    "\n"
   ]
  }
 ],
 "metadata": {
  "kernelspec": {
   "display_name": "Python 3 (ipykernel)",
   "language": "python",
   "name": "python3"
  },
  "language_info": {
   "codemirror_mode": {
    "name": "ipython",
    "version": 3
   },
   "file_extension": ".py",
   "mimetype": "text/x-python",
   "name": "python",
   "nbconvert_exporter": "python",
   "pygments_lexer": "ipython3",
   "version": "3.10.12"
  }
 },
 "nbformat": 4,
 "nbformat_minor": 5
}
