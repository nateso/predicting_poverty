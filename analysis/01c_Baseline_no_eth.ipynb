{
 "cells": [
  {
   "cell_type": "markdown",
   "id": "37007fa4",
   "metadata": {},
   "source": [
    "# Between model\n",
    "This model takes as input any variable that is static, that is the OSM variables, ESA Landcover variables and the WSF variables. Moreover, it takes the mean over all dynamic variables. The dynamic variables include Nightlights, NDVI, and NDWI_Gao as well as NDWI_McF. \n",
    "\n",
    "The idea is that the between model captures variation between clusters and thus the target variable for the between model is $\\bar{w}_c = \\frac{1}{T_c}\\sum_t^{T_c} w_{c,t}$ "
   ]
  },
  {
   "cell_type": "markdown",
   "id": "f948ff7f",
   "metadata": {},
   "source": [
    "# Within model\n",
    "This goal of this model is to predict the deviations from the cluster mean for each year. I.e. the model should capture variation within each cluster. To do so, the target variable is $\\tilde{w}_{ct} = w_{ct} - \\bar{w}_{c}$. \n",
    "\n",
    "For cluster $c$ in time period $t$, the feature vector is defined as $\\tilde{\\boldsymbol{x}}_{ct} = \\boldsymbol{x}_{ct} - \\bar{\\boldsymbol{x}}_{c}, where~\\bar{\\boldsymbol{x}}_{c} \\in \\mathbb{R}^{k\\times1}$. \n",
    "\n",
    "To predict $\\tilde{w}_{ct}$, I rely on $\\tilde{\\boldsymbol{x}}_{ct}$. This allows me to interpret the performance metric as the within R2, i.e. the share of the variance the model captures within clusters. \n",
    "\n",
    "\n",
    "(this does not help at all, thus disregard)...\n",
    "To augment the number of training observations, I train the model on deltas, rather than on the demeaned variables. This substantially increases the number of training observations and covers a wider range of differences, making the training dataset more versatile and robust. Ideally, this helps to learn from a wider range of differences and thus increases the out-of-sample when predicting $\\tilde{\\boldsymbol{w}}_{ct}$."
   ]
  },
  {
   "cell_type": "code",
   "execution_count": 21,
   "id": "7b9ca298",
   "metadata": {},
   "outputs": [],
   "source": [
    "import pandas as pd\n",
    "import matplotlib.pyplot as plt\n",
    "import matplotlib\n",
    "import pickle\n",
    "from sklearn.metrics import r2_score\n",
    "from sklearn.metrics import mean_squared_error"
   ]
  },
  {
   "cell_type": "code",
   "execution_count": 22,
   "id": "06be23a0",
   "metadata": {},
   "outputs": [],
   "source": [
    "# set the font size for matplotlib and the font family.\n",
    "font = {'family' : 'sans-serif',\n",
    "        'weight' : 'normal',\n",
    "        'size'   : 14}\n",
    "\n",
    "matplotlib.rc('font', **font)"
   ]
  },
  {
   "cell_type": "code",
   "execution_count": 23,
   "id": "8c8bc3ff",
   "metadata": {},
   "outputs": [],
   "source": [
    "# load the necessary functions from the analysis package\n",
    "\n",
    "# load the variable names, this allows to access the variables in the feature data in a compact way\n",
    "from analysis_utils.variable_names import *\n",
    "\n",
    "# load flagged ids \n",
    "from analysis_utils.flagged_uids import *\n",
    "\n",
    "# load the functions to do spatial k-fold CV\n",
    "from analysis_utils.spatial_CV import *\n",
    "\n",
    "# load the helper functions\n",
    "from analysis_utils.analysis_helpers import *\n",
    "\n",
    "# load the random forest trainer and cross_validator\n",
    "import analysis_utils.RandomForest as rf\n",
    "\n",
    "# load the combien model\n",
    "from analysis_utils.CombinedModel import CombinedModel"
   ]
  },
  {
   "cell_type": "code",
   "execution_count": 24,
   "id": "739dc09b",
   "metadata": {},
   "outputs": [],
   "source": [
    "# set the global file paths\n",
    "root_data_dir = \"../../Data\"\n",
    "\n",
    "# the lsms data\n",
    "lsms_pth = f\"{root_data_dir}/lsms/processed/labels_cluster_v1.csv\"\n",
    "\n",
    "# the feature data\n",
    "feat_data_pth = f\"{root_data_dir}/feature_data/tabular_data.csv\"\n",
    "\n",
    "# set the random seed\n",
    "random_seed = 423\n",
    "spatial_cv_random_seed = 348\n",
    "\n",
    "# set the number of folds for k-fold CV\n",
    "n_folds = 5"
   ]
  },
  {
   "cell_type": "code",
   "execution_count": 25,
   "id": "c468b531",
   "metadata": {},
   "outputs": [
    {
     "name": "stdout",
     "output_type": "stream",
     "text": [
      "Number of observations 5214\n",
      "Number of clusters 1697\n",
      "Number of x vars 113\n"
     ]
    }
   ],
   "source": [
    "# load the feature and the label data\n",
    "lsms_df = pd.read_csv(lsms_pth)\n",
    "# remove flagged ids form dataset\n",
    "lsms_df = lsms_df[~lsms_df.unique_id.isin(flagged_uids)].reset_index(drop = True)\n",
    "\n",
    "# remove ethiopia from the sample\n",
    "lsms_df = lsms_df[lsms_df.country != 'eth'].reset_index(drop = True)\n",
    "\n",
    "lsms_df['avg_log_mean_pc_cons_usd_2017'] = lsms_df.groupby('cluster_id')['log_mean_pc_cons_usd_2017'].transform('mean')\n",
    "lsms_df['avg_mean_asset_index_yeh'] = lsms_df.groupby('cluster_id')['mean_asset_index_yeh'].transform('mean')\n",
    "feat_df = pd.read_csv(feat_data_pth)\n",
    "\n",
    "# describe the training data broadly\n",
    "print(f\"Number of observations {len(lsms_df)}\")\n",
    "print(f\"Number of clusters {len(np.unique(lsms_df.cluster_id))}\")\n",
    "print(f\"Number of x vars {len(feat_df.columns)-2}\")"
   ]
  },
  {
   "cell_type": "code",
   "execution_count": 26,
   "id": "111de106",
   "metadata": {},
   "outputs": [],
   "source": [
    "# merge the label and the feature data to one dataset\n",
    "lsms_vars = ['unique_id', 'n_households',           \n",
    "             'log_mean_pc_cons_usd_2017', 'avg_log_mean_pc_cons_usd_2017',\n",
    "             'mean_asset_index_yeh', 'avg_mean_asset_index_yeh']\n",
    "df = pd.merge(lsms_df[lsms_vars], feat_df, on = 'unique_id', how = 'left')"
   ]
  },
  {
   "cell_type": "markdown",
   "id": "7b24eb66",
   "metadata": {},
   "source": [
    "# Run Training"
   ]
  },
  {
   "cell_type": "code",
   "execution_count": 27,
   "id": "4ec39c76",
   "metadata": {},
   "outputs": [],
   "source": [
    "# define the within and between x variables\n",
    "avg_rs_vars = avg_ndvi_vars + avg_ndwi_gao_vars + avg_nl_vars\n",
    "osm_vars = osm_dist_vars + osm_count_vars + osm_road_vars\n",
    "\n",
    "between_x_vars = osm_vars + esa_lc_vars + wsf_vars + avg_rs_vars + avg_preciptiation\n",
    "\n",
    "dyn_rs_vars = dyn_ndvi_vars + dyn_ndwi_gao_vars + dyn_nl_vars\n",
    "within_x_vars = dyn_rs_vars + precipitation"
   ]
  },
  {
   "cell_type": "markdown",
   "id": "2bbec1fc",
   "metadata": {},
   "source": [
    "### Target: Log per capita consumption"
   ]
  },
  {
   "cell_type": "code",
   "execution_count": 28,
   "id": "bda1dc59",
   "metadata": {},
   "outputs": [],
   "source": [
    "between_target_var = 'avg_log_mean_pc_cons_usd_2017'\n",
    "cl_df = df[['cluster_id', between_target_var] + between_x_vars].drop_duplicates().reset_index(drop = True)\n",
    "\n",
    "# normalise the feature data\n",
    "cl_df_norm = standardise_df(cl_df, exclude_cols = [between_target_var])"
   ]
  },
  {
   "cell_type": "code",
   "execution_count": 29,
   "id": "6f429484",
   "metadata": {},
   "outputs": [],
   "source": [
    "# get the within dataframe\n",
    "# define the within variables\n",
    "within_target_var = 'log_mean_pc_cons_usd_2017'\n",
    "within_df = df[['cluster_id','unique_id', within_target_var] + within_x_vars]\n",
    "\n",
    "# demean the data and standardise the variables\n",
    "demeaned_df = demean_df(within_df)\n",
    "demeaned_df_norm = standardise_df(demeaned_df, exclude_cols = [within_target_var])"
   ]
  },
  {
   "cell_type": "code",
   "execution_count": 30,
   "id": "bc87ce90",
   "metadata": {},
   "outputs": [
    {
     "name": "stdout",
     "output_type": "stream",
     "text": [
      "====================================================================================================\n",
      "Iteration 0\n",
      "====================================================================================================\n",
      "Fold 0, specified test ratio: 0.2 - Actual test ratio 0.21\n",
      "Fold 1, specified test ratio: 0.2 - Actual test ratio 0.20\n",
      "Fold 2, specified test ratio: 0.2 - Actual test ratio 0.20\n",
      "Fold 3, specified test ratio: 0.2 - Actual test ratio 0.20\n",
      "Fold 4, specified test ratio: 0.2 - Actual test ratio 0.18\n",
      "Between training\n",
      "Initialising training\n"
     ]
    },
    {
     "data": {
      "application/vnd.jupyter.widget-view+json": {
       "model_id": "e074ae842928427ea67ba07926fb8571",
       "version_major": 2,
       "version_minor": 0
      },
      "text/plain": [
       "  0%|          | 0/5 [00:00<?, ?it/s]"
      ]
     },
     "metadata": {},
     "output_type": "display_data"
    },
    {
     "name": "stdout",
     "output_type": "stream",
     "text": [
      "Finished training after 163 seconds\n",
      "\n",
      "Within training\n",
      "Initialising training\n"
     ]
    },
    {
     "data": {
      "application/vnd.jupyter.widget-view+json": {
       "model_id": "9e573d33d68a4995879d93f94e072917",
       "version_major": 2,
       "version_minor": 0
      },
      "text/plain": [
       "  0%|          | 0/5 [00:00<?, ?it/s]"
      ]
     },
     "metadata": {},
     "output_type": "display_data"
    },
    {
     "name": "stdout",
     "output_type": "stream",
     "text": [
      "Finished training after 176 seconds\n",
      "....................................................................................................\n",
      "{'r2': {'overall': 0.36151827969612477, 'between': 0.4398150991729906, 'within': 0.007934999864063074}, 'mse': {'overall': 0.19480732381111998, 'between': 0.13673283813680862, 'within': 0.05198376582885943}}\n",
      "....................................................................................................\n",
      "====================================================================================================\n",
      "Iteration 1\n",
      "====================================================================================================\n",
      "Fold 0, specified test ratio: 0.2 - Actual test ratio 0.22\n",
      "Fold 1, specified test ratio: 0.2 - Actual test ratio 0.21\n",
      "Fold 2, specified test ratio: 0.2 - Actual test ratio 0.20\n",
      "Fold 3, specified test ratio: 0.2 - Actual test ratio 0.20\n",
      "Fold 4, specified test ratio: 0.2 - Actual test ratio 0.17\n",
      "Between training\n",
      "Initialising training\n"
     ]
    },
    {
     "data": {
      "application/vnd.jupyter.widget-view+json": {
       "model_id": "c9b0ef194d5a4650bdb53332f086d9aa",
       "version_major": 2,
       "version_minor": 0
      },
      "text/plain": [
       "  0%|          | 0/5 [00:00<?, ?it/s]"
      ]
     },
     "metadata": {},
     "output_type": "display_data"
    },
    {
     "name": "stdout",
     "output_type": "stream",
     "text": [
      "Finished training after 161 seconds\n",
      "\n",
      "Within training\n",
      "Initialising training\n"
     ]
    },
    {
     "data": {
      "application/vnd.jupyter.widget-view+json": {
       "model_id": "4141249b2457426ea5f9043a90dfe2b9",
       "version_major": 2,
       "version_minor": 0
      },
      "text/plain": [
       "  0%|          | 0/5 [00:00<?, ?it/s]"
      ]
     },
     "metadata": {},
     "output_type": "display_data"
    },
    {
     "name": "stdout",
     "output_type": "stream",
     "text": [
      "Finished training after 168 seconds\n",
      "....................................................................................................\n",
      "{'r2': {'overall': 0.3866317094725334, 'between': 0.450740510040778, 'within': 0.01613106921336538}, 'mse': {'overall': 0.19217749151285865, 'between': 0.1361103394022302, 'within': 0.05094585958152407}}\n",
      "....................................................................................................\n",
      "====================================================================================================\n",
      "Iteration 2\n",
      "====================================================================================================\n",
      "Fold 0, specified test ratio: 0.2 - Actual test ratio 0.21\n",
      "Fold 1, specified test ratio: 0.2 - Actual test ratio 0.20\n",
      "Fold 2, specified test ratio: 0.2 - Actual test ratio 0.20\n",
      "Fold 3, specified test ratio: 0.2 - Actual test ratio 0.20\n",
      "Fold 4, specified test ratio: 0.2 - Actual test ratio 0.18\n",
      "Between training\n",
      "Initialising training\n"
     ]
    },
    {
     "data": {
      "application/vnd.jupyter.widget-view+json": {
       "model_id": "c2c0eb965e7b4a23b38369a7ef01d8d5",
       "version_major": 2,
       "version_minor": 0
      },
      "text/plain": [
       "  0%|          | 0/5 [00:00<?, ?it/s]"
      ]
     },
     "metadata": {},
     "output_type": "display_data"
    },
    {
     "name": "stdout",
     "output_type": "stream",
     "text": [
      "Finished training after 160 seconds\n",
      "\n",
      "Within training\n",
      "Initialising training\n"
     ]
    },
    {
     "data": {
      "application/vnd.jupyter.widget-view+json": {
       "model_id": "9b683b7e4ccc4d3ea5215fef02efc125",
       "version_major": 2,
       "version_minor": 0
      },
      "text/plain": [
       "  0%|          | 0/5 [00:00<?, ?it/s]"
      ]
     },
     "metadata": {},
     "output_type": "display_data"
    },
    {
     "name": "stdout",
     "output_type": "stream",
     "text": [
      "Finished training after 183 seconds\n",
      "....................................................................................................\n",
      "{'r2': {'overall': 0.3395030207654687, 'between': 0.40457129653934265, 'within': 0.012276536583358144}, 'mse': {'overall': 0.19485633176266665, 'between': 0.1395488553922638, 'within': 0.05166292013832535}}\n",
      "....................................................................................................\n",
      "====================================================================================================\n",
      "Iteration 3\n",
      "====================================================================================================\n",
      "Fold 0, specified test ratio: 0.2 - Actual test ratio 0.21\n",
      "Fold 1, specified test ratio: 0.2 - Actual test ratio 0.20\n",
      "Fold 2, specified test ratio: 0.2 - Actual test ratio 0.21\n",
      "Fold 3, specified test ratio: 0.2 - Actual test ratio 0.20\n",
      "Fold 4, specified test ratio: 0.2 - Actual test ratio 0.18\n",
      "Between training\n",
      "Initialising training\n"
     ]
    },
    {
     "data": {
      "application/vnd.jupyter.widget-view+json": {
       "model_id": "e336dd08546940f9993af05925c8bf34",
       "version_major": 2,
       "version_minor": 0
      },
      "text/plain": [
       "  0%|          | 0/5 [00:00<?, ?it/s]"
      ]
     },
     "metadata": {},
     "output_type": "display_data"
    },
    {
     "name": "stdout",
     "output_type": "stream",
     "text": [
      "Finished training after 152 seconds\n",
      "\n",
      "Within training\n",
      "Initialising training\n"
     ]
    },
    {
     "data": {
      "application/vnd.jupyter.widget-view+json": {
       "model_id": "2dc02157c19147f581820851ebd33180",
       "version_major": 2,
       "version_minor": 0
      },
      "text/plain": [
       "  0%|          | 0/5 [00:00<?, ?it/s]"
      ]
     },
     "metadata": {},
     "output_type": "display_data"
    },
    {
     "name": "stdout",
     "output_type": "stream",
     "text": [
      "Finished training after 185 seconds\n",
      "....................................................................................................\n",
      "{'r2': {'overall': 0.40651756157938956, 'between': 0.468452698986991, 'within': 0.01639036200656241}, 'mse': {'overall': 0.1904219203529563, 'between': 0.1344568767470028, 'within': 0.05150239244640409}}\n",
      "....................................................................................................\n",
      "====================================================================================================\n",
      "Iteration 4\n",
      "====================================================================================================\n",
      "Fold 0, specified test ratio: 0.2 - Actual test ratio 0.24\n",
      "Fold 1, specified test ratio: 0.2 - Actual test ratio 0.20\n",
      "Fold 2, specified test ratio: 0.2 - Actual test ratio 0.20\n",
      "Fold 3, specified test ratio: 0.2 - Actual test ratio 0.20\n",
      "Fold 4, specified test ratio: 0.2 - Actual test ratio 0.15\n",
      "Between training\n",
      "Initialising training\n"
     ]
    },
    {
     "data": {
      "application/vnd.jupyter.widget-view+json": {
       "model_id": "b9696e6f88b845fda1fd8be8958ad6a8",
       "version_major": 2,
       "version_minor": 0
      },
      "text/plain": [
       "  0%|          | 0/5 [00:00<?, ?it/s]"
      ]
     },
     "metadata": {},
     "output_type": "display_data"
    },
    {
     "name": "stdout",
     "output_type": "stream",
     "text": [
      "Finished training after 152 seconds\n",
      "\n",
      "Within training\n",
      "Initialising training\n"
     ]
    },
    {
     "data": {
      "application/vnd.jupyter.widget-view+json": {
       "model_id": "fe773b60b6de4623944afbf335190832",
       "version_major": 2,
       "version_minor": 0
      },
      "text/plain": [
       "  0%|          | 0/5 [00:00<?, ?it/s]"
      ]
     },
     "metadata": {},
     "output_type": "display_data"
    },
    {
     "name": "stdout",
     "output_type": "stream",
     "text": [
      "Finished training after 167 seconds\n",
      "....................................................................................................\n",
      "{'r2': {'overall': 0.3747394571576124, 'between': 0.44584964101927377, 'within': 0.005820348018511922}, 'mse': {'overall': 0.1907022880766038, 'between': 0.13384885681746536, 'within': 0.05207692938522908}}\n",
      "....................................................................................................\n",
      "====================================================================================================\n",
      "Iteration 5\n",
      "====================================================================================================\n",
      "Fold 0, specified test ratio: 0.2 - Actual test ratio 0.28\n",
      "Fold 1, specified test ratio: 0.2 - Actual test ratio 0.20\n",
      "Fold 2, specified test ratio: 0.2 - Actual test ratio 0.20\n",
      "Fold 3, specified test ratio: 0.2 - Actual test ratio 0.20\n",
      "Fold 4, specified test ratio: 0.2 - Actual test ratio 0.11\n",
      "Between training\n",
      "Initialising training\n"
     ]
    },
    {
     "data": {
      "application/vnd.jupyter.widget-view+json": {
       "model_id": "b4b9195a16134caab1a47012f86c30cc",
       "version_major": 2,
       "version_minor": 0
      },
      "text/plain": [
       "  0%|          | 0/5 [00:00<?, ?it/s]"
      ]
     },
     "metadata": {},
     "output_type": "display_data"
    },
    {
     "name": "stdout",
     "output_type": "stream",
     "text": [
      "Finished training after 155 seconds\n",
      "\n",
      "Within training\n",
      "Initialising training\n"
     ]
    },
    {
     "data": {
      "application/vnd.jupyter.widget-view+json": {
       "model_id": "bf42121c5f554de3911d8eb0238ca60d",
       "version_major": 2,
       "version_minor": 0
      },
      "text/plain": [
       "  0%|          | 0/5 [00:00<?, ?it/s]"
      ]
     },
     "metadata": {},
     "output_type": "display_data"
    },
    {
     "name": "stdout",
     "output_type": "stream",
     "text": [
      "Finished training after 172 seconds\n",
      "....................................................................................................\n",
      "{'r2': {'overall': 0.37897679398530043, 'between': 0.4586526750460834, 'within': 0.00483261875012706}, 'mse': {'overall': 0.1899470966342628, 'between': 0.13335379011876133, 'within': 0.05208156691411051}}\n",
      "....................................................................................................\n",
      "====================================================================================================\n",
      "Iteration 6\n",
      "====================================================================================================\n",
      "Fold 0, specified test ratio: 0.2 - Actual test ratio 0.22\n",
      "Fold 1, specified test ratio: 0.2 - Actual test ratio 0.20\n",
      "Fold 2, specified test ratio: 0.2 - Actual test ratio 0.20\n",
      "Fold 3, specified test ratio: 0.2 - Actual test ratio 0.20\n",
      "Fold 4, specified test ratio: 0.2 - Actual test ratio 0.17\n",
      "Between training\n",
      "Initialising training\n"
     ]
    },
    {
     "data": {
      "application/vnd.jupyter.widget-view+json": {
       "model_id": "36f83ba2f5d049ababa46d49560130f0",
       "version_major": 2,
       "version_minor": 0
      },
      "text/plain": [
       "  0%|          | 0/5 [00:00<?, ?it/s]"
      ]
     },
     "metadata": {},
     "output_type": "display_data"
    },
    {
     "name": "stdout",
     "output_type": "stream",
     "text": [
      "Finished training after 153 seconds\n",
      "\n",
      "Within training\n",
      "Initialising training\n"
     ]
    },
    {
     "data": {
      "application/vnd.jupyter.widget-view+json": {
       "model_id": "37e805a2af634ae380b7bb3f80c7e170",
       "version_major": 2,
       "version_minor": 0
      },
      "text/plain": [
       "  0%|          | 0/5 [00:00<?, ?it/s]"
      ]
     },
     "metadata": {},
     "output_type": "display_data"
    },
    {
     "name": "stdout",
     "output_type": "stream",
     "text": [
      "Finished training after 169 seconds\n",
      "....................................................................................................\n",
      "{'r2': {'overall': 0.38496596370551245, 'between': 0.44955651668627683, 'within': 0.007363604665373513}, 'mse': {'overall': 0.19335103930958375, 'between': 0.13747807754717473, 'within': 0.05174258753591787}}\n",
      "....................................................................................................\n",
      "====================================================================================================\n",
      "Iteration 7\n",
      "====================================================================================================\n",
      "Fold 0, specified test ratio: 0.2 - Actual test ratio 0.27\n",
      "Fold 1, specified test ratio: 0.2 - Actual test ratio 0.20\n",
      "Fold 2, specified test ratio: 0.2 - Actual test ratio 0.20\n",
      "Fold 3, specified test ratio: 0.2 - Actual test ratio 0.20\n",
      "Fold 4, specified test ratio: 0.2 - Actual test ratio 0.13\n",
      "Between training\n",
      "Initialising training\n"
     ]
    },
    {
     "data": {
      "application/vnd.jupyter.widget-view+json": {
       "model_id": "cf2472dba81e4a459d5abcd67ad3bfcc",
       "version_major": 2,
       "version_minor": 0
      },
      "text/plain": [
       "  0%|          | 0/5 [00:00<?, ?it/s]"
      ]
     },
     "metadata": {},
     "output_type": "display_data"
    },
    {
     "name": "stdout",
     "output_type": "stream",
     "text": [
      "Finished training after 154 seconds\n",
      "\n",
      "Within training\n",
      "Initialising training\n"
     ]
    },
    {
     "data": {
      "application/vnd.jupyter.widget-view+json": {
       "model_id": "73c245c372bf4821a79601f3b86b3694",
       "version_major": 2,
       "version_minor": 0
      },
      "text/plain": [
       "  0%|          | 0/5 [00:00<?, ?it/s]"
      ]
     },
     "metadata": {},
     "output_type": "display_data"
    },
    {
     "name": "stdout",
     "output_type": "stream",
     "text": [
      "Finished training after 173 seconds\n",
      "....................................................................................................\n",
      "{'r2': {'overall': 0.3837836510834522, 'between': 0.46490856930748664, 'within': 0.004867340146313026}, 'mse': {'overall': 0.1915661546646743, 'between': 0.13381759845087263, 'within': 0.052375305074746845}}\n",
      "....................................................................................................\n",
      "====================================================================================================\n",
      "Iteration 8\n",
      "====================================================================================================\n",
      "Fold 0, specified test ratio: 0.2 - Actual test ratio 0.24\n",
      "Fold 1, specified test ratio: 0.2 - Actual test ratio 0.20\n",
      "Fold 2, specified test ratio: 0.2 - Actual test ratio 0.20\n",
      "Fold 3, specified test ratio: 0.2 - Actual test ratio 0.20\n",
      "Fold 4, specified test ratio: 0.2 - Actual test ratio 0.15\n",
      "Between training\n",
      "Initialising training\n"
     ]
    },
    {
     "data": {
      "application/vnd.jupyter.widget-view+json": {
       "model_id": "e04aafb1ff2a4db483b2723eb9f9490a",
       "version_major": 2,
       "version_minor": 0
      },
      "text/plain": [
       "  0%|          | 0/5 [00:00<?, ?it/s]"
      ]
     },
     "metadata": {},
     "output_type": "display_data"
    },
    {
     "name": "stdout",
     "output_type": "stream",
     "text": [
      "Finished training after 153 seconds\n",
      "\n",
      "Within training\n",
      "Initialising training\n"
     ]
    },
    {
     "data": {
      "application/vnd.jupyter.widget-view+json": {
       "model_id": "9aed73a618574cc8a225802c32074201",
       "version_major": 2,
       "version_minor": 0
      },
      "text/plain": [
       "  0%|          | 0/5 [00:00<?, ?it/s]"
      ]
     },
     "metadata": {},
     "output_type": "display_data"
    },
    {
     "name": "stdout",
     "output_type": "stream",
     "text": [
      "Finished training after 167 seconds\n",
      "....................................................................................................\n",
      "{'r2': {'overall': 0.351246339015771, 'between': 0.42433255777196044, 'within': -0.0002933726203318443}, 'mse': {'overall': 0.19403825632673752, 'between': 0.13810484681996152, 'within': 0.05282304244188975}}\n",
      "....................................................................................................\n",
      "====================================================================================================\n",
      "Iteration 9\n",
      "====================================================================================================\n",
      "Fold 0, specified test ratio: 0.2 - Actual test ratio 0.21\n",
      "Fold 1, specified test ratio: 0.2 - Actual test ratio 0.20\n",
      "Fold 2, specified test ratio: 0.2 - Actual test ratio 0.20\n",
      "Fold 3, specified test ratio: 0.2 - Actual test ratio 0.20\n",
      "Fold 4, specified test ratio: 0.2 - Actual test ratio 0.19\n",
      "Between training\n",
      "Initialising training\n"
     ]
    },
    {
     "data": {
      "application/vnd.jupyter.widget-view+json": {
       "model_id": "930207068e8e444aa586ca931412bc64",
       "version_major": 2,
       "version_minor": 0
      },
      "text/plain": [
       "  0%|          | 0/5 [00:00<?, ?it/s]"
      ]
     },
     "metadata": {},
     "output_type": "display_data"
    },
    {
     "name": "stdout",
     "output_type": "stream",
     "text": [
      "Finished training after 159 seconds\n",
      "\n",
      "Within training\n",
      "Initialising training\n"
     ]
    },
    {
     "data": {
      "application/vnd.jupyter.widget-view+json": {
       "model_id": "a3eaa82eefba4364b2e3635174d8143f",
       "version_major": 2,
       "version_minor": 0
      },
      "text/plain": [
       "  0%|          | 0/5 [00:00<?, ?it/s]"
      ]
     },
     "metadata": {},
     "output_type": "display_data"
    },
    {
     "name": "stdout",
     "output_type": "stream",
     "text": [
      "Finished training after 184 seconds\n",
      "....................................................................................................\n",
      "{'r2': {'overall': 0.34763482909083065, 'between': 0.42543976401601036, 'within': 0.01113745410327729}, 'mse': {'overall': 0.19412514852072507, 'between': 0.13741493225285015, 'within': 0.0519222346572748}}\n",
      "....................................................................................................\n"
     ]
    }
   ],
   "source": [
    "# run repeated cross validation\n",
    "rep_cv_res_cons = {\n",
    "    'between_r2': [],\n",
    "    'within_r2': [],\n",
    "    'overall_r2': []\n",
    "}\n",
    "\n",
    "for j in range(10):\n",
    "    print(\"=\"*100)\n",
    "    print(f\"Iteration {j}\")\n",
    "    print(\"=\"*100)\n",
    "    rep_seed = random_seed + j\n",
    "    \n",
    "    # divide the data into k different folds\n",
    "    fold_ids = split_lsms_spatial(lsms_df, n_folds = n_folds, random_seed = spatial_cv_random_seed + j)\n",
    "    \n",
    "    # run the bewtween training\n",
    "    print('Between training')\n",
    "    between_cv_trainer_cons = rf.CrossValidator(cl_df_norm, \n",
    "                                                fold_ids, \n",
    "                                                between_target_var, \n",
    "                                                between_x_vars, \n",
    "                                                id_var = 'cluster_id', \n",
    "                                                random_seed = rep_seed)\n",
    "    between_cv_trainer_cons.run_cv_training(min_samples_leaf = 1)\n",
    "    \n",
    "    # run the within training\n",
    "    print(\"\\nWithin training\")\n",
    "    within_cv_trainer_cons = rf.CrossValidator(demeaned_df_norm, \n",
    "                                               fold_ids, \n",
    "                                               within_target_var, \n",
    "                                               within_x_vars, \n",
    "                                               id_var = 'unique_id', \n",
    "                                               random_seed = rep_seed)\n",
    "    within_cv_trainer_cons.run_cv_training(min_samples_leaf = 15)\n",
    "    \n",
    "    # combine both models\n",
    "    combined_model_cons = CombinedModel(lsms_df, between_cv_trainer_cons, within_cv_trainer_cons)\n",
    "    combined_model_cons.evaluate()\n",
    "    combined_results = combined_model_cons.compute_overall_performance(use_fold_weights = True)\n",
    "    \n",
    "    # store the results \n",
    "    rep_cv_res_cons['between_r2'].append(combined_results['r2']['between'])\n",
    "    rep_cv_res_cons['within_r2'].append(combined_results['r2']['within'])\n",
    "    rep_cv_res_cons['overall_r2'].append(combined_results['r2']['overall'])\n",
    "    \n",
    "    # print the results\n",
    "    print(\".\"*100)\n",
    "    print(combined_results)\n",
    "    print(\".\"*100)"
   ]
  },
  {
   "cell_type": "code",
   "execution_count": 31,
   "id": "49ff2ada",
   "metadata": {},
   "outputs": [],
   "source": [
    "pth = 'results/baseline/rep_cv_res_cons_no_eth.pkl'\n",
    "with open(pth, 'wb') as f:\n",
    "    pickle.dump(rep_cv_res_cons, f)"
   ]
  },
  {
   "cell_type": "code",
   "execution_count": 32,
   "id": "4f50c260",
   "metadata": {},
   "outputs": [
    {
     "name": "stdout",
     "output_type": "stream",
     "text": [
      "& 0.4432 & 0.0086 & 0.3716 \\\\\n",
      "& \\footnotesize(0.0060) & \\footnotesize(0.0016) & \\footnotesize(0.0063)\\\\\n"
     ]
    }
   ],
   "source": [
    "mean_r2_cons = {k: np.mean(v) for k,v in rep_cv_res_cons.items()}\n",
    "se_r2_cons = {k: np.std(v)/np.sqrt(10) for k,v in rep_cv_res_cons.items()}\n",
    "\n",
    "# print as tex\n",
    "print(f\"& {mean_r2_cons['between_r2']:.4f} & {mean_r2_cons['within_r2']:.4f} & {mean_r2_cons['overall_r2']:.4f} \\\\\\\\\")\n",
    "print(f\"& \\\\footnotesize({se_r2_cons['between_r2']:.4f}) & \\\\footnotesize({se_r2_cons['within_r2']:.4f}) & \\\\footnotesize({se_r2_cons['overall_r2']:.4f})\\\\\\\\\")"
   ]
  },
  {
   "cell_type": "markdown",
   "id": "eab51f96",
   "metadata": {},
   "source": [
    "### Target: Asset index"
   ]
  },
  {
   "cell_type": "code",
   "execution_count": 33,
   "id": "76884897",
   "metadata": {},
   "outputs": [],
   "source": [
    "# get a dataset that only varies at the cluster level\n",
    "between_target_var = 'avg_mean_asset_index_yeh'\n",
    "cl_df = df[['cluster_id', between_target_var] + between_x_vars].drop_duplicates().reset_index(drop = True)\n",
    "\n",
    "# normalise the feature data\n",
    "cl_df_norm = standardise_df(cl_df, exclude_cols = [between_target_var])"
   ]
  },
  {
   "cell_type": "code",
   "execution_count": 34,
   "id": "b4d70637",
   "metadata": {},
   "outputs": [],
   "source": [
    "# define the within variables\n",
    "within_target_var = 'mean_asset_index_yeh'\n",
    "within_df = df[['cluster_id','unique_id', within_target_var] + within_x_vars]\n",
    "\n",
    "# demean the data and standardise the variables\n",
    "demeaned_df = demean_df(within_df)\n",
    "demeaned_df_norm = standardise_df(demeaned_df, exclude_cols = [within_target_var])"
   ]
  },
  {
   "cell_type": "code",
   "execution_count": 35,
   "id": "5c635045",
   "metadata": {},
   "outputs": [
    {
     "name": "stdout",
     "output_type": "stream",
     "text": [
      "====================================================================================================\n",
      "Iteration 0\n",
      "====================================================================================================\n",
      "Fold 0, specified test ratio: 0.2 - Actual test ratio 0.21\n",
      "Fold 1, specified test ratio: 0.2 - Actual test ratio 0.20\n",
      "Fold 2, specified test ratio: 0.2 - Actual test ratio 0.20\n",
      "Fold 3, specified test ratio: 0.2 - Actual test ratio 0.20\n",
      "Fold 4, specified test ratio: 0.2 - Actual test ratio 0.18\n",
      "Between training\n",
      "Initialising training\n"
     ]
    },
    {
     "data": {
      "application/vnd.jupyter.widget-view+json": {
       "model_id": "a5009cff5c204352a80bf193d61d5e51",
       "version_major": 2,
       "version_minor": 0
      },
      "text/plain": [
       "  0%|          | 0/5 [00:00<?, ?it/s]"
      ]
     },
     "metadata": {},
     "output_type": "display_data"
    },
    {
     "name": "stdout",
     "output_type": "stream",
     "text": [
      "Finished training after 165 seconds\n",
      "\n",
      "Within training\n",
      "Initialising training\n"
     ]
    },
    {
     "data": {
      "application/vnd.jupyter.widget-view+json": {
       "model_id": "970b5f16657c45f5b93bdb82a70dcf3d",
       "version_major": 2,
       "version_minor": 0
      },
      "text/plain": [
       "  0%|          | 0/5 [00:00<?, ?it/s]"
      ]
     },
     "metadata": {},
     "output_type": "display_data"
    },
    {
     "name": "stdout",
     "output_type": "stream",
     "text": [
      "Finished training after 178 seconds\n",
      "....................................................................................................\n",
      "{'r2': {'overall': 0.42163113907399485, 'between': 0.4372769627998298, 'within': 0.014935226039086502}, 'mse': {'overall': 1.1300655033858413, 'between': 1.1758038060692082, 'within': 0.07897135862843373}}\n",
      "....................................................................................................\n",
      "====================================================================================================\n",
      "Iteration 1\n",
      "====================================================================================================\n",
      "Fold 0, specified test ratio: 0.2 - Actual test ratio 0.22\n",
      "Fold 1, specified test ratio: 0.2 - Actual test ratio 0.21\n",
      "Fold 2, specified test ratio: 0.2 - Actual test ratio 0.20\n",
      "Fold 3, specified test ratio: 0.2 - Actual test ratio 0.20\n",
      "Fold 4, specified test ratio: 0.2 - Actual test ratio 0.17\n",
      "Between training\n",
      "Initialising training\n"
     ]
    },
    {
     "data": {
      "application/vnd.jupyter.widget-view+json": {
       "model_id": "764e3a6187e24308bf0f97030340ed00",
       "version_major": 2,
       "version_minor": 0
      },
      "text/plain": [
       "  0%|          | 0/5 [00:00<?, ?it/s]"
      ]
     },
     "metadata": {},
     "output_type": "display_data"
    },
    {
     "name": "stdout",
     "output_type": "stream",
     "text": [
      "Finished training after 166 seconds\n",
      "\n",
      "Within training\n",
      "Initialising training\n"
     ]
    },
    {
     "data": {
      "application/vnd.jupyter.widget-view+json": {
       "model_id": "3cb695d1b07f4a2f9dfabb6565364c58",
       "version_major": 2,
       "version_minor": 0
      },
      "text/plain": [
       "  0%|          | 0/5 [00:00<?, ?it/s]"
      ]
     },
     "metadata": {},
     "output_type": "display_data"
    },
    {
     "name": "stdout",
     "output_type": "stream",
     "text": [
      "Finished training after 187 seconds\n",
      "....................................................................................................\n",
      "{'r2': {'overall': 0.45052250774172575, 'between': 0.44129937993512625, 'within': 0.01556166901934115}, 'mse': {'overall': 1.1334751141476562, 'between': 1.194226580144326, 'within': 0.0759218959943763}}\n",
      "....................................................................................................\n",
      "====================================================================================================\n",
      "Iteration 2\n",
      "====================================================================================================\n",
      "Fold 0, specified test ratio: 0.2 - Actual test ratio 0.21\n",
      "Fold 1, specified test ratio: 0.2 - Actual test ratio 0.20\n",
      "Fold 2, specified test ratio: 0.2 - Actual test ratio 0.20\n",
      "Fold 3, specified test ratio: 0.2 - Actual test ratio 0.20\n",
      "Fold 4, specified test ratio: 0.2 - Actual test ratio 0.18\n",
      "Between training\n",
      "Initialising training\n"
     ]
    },
    {
     "data": {
      "application/vnd.jupyter.widget-view+json": {
       "model_id": "f1274e2afbf241679f0187dcb0ddca06",
       "version_major": 2,
       "version_minor": 0
      },
      "text/plain": [
       "  0%|          | 0/5 [00:00<?, ?it/s]"
      ]
     },
     "metadata": {},
     "output_type": "display_data"
    },
    {
     "name": "stdout",
     "output_type": "stream",
     "text": [
      "Finished training after 168 seconds\n",
      "\n",
      "Within training\n",
      "Initialising training\n"
     ]
    },
    {
     "data": {
      "application/vnd.jupyter.widget-view+json": {
       "model_id": "02d6bf05f47c4d10a77b8f0d09315c08",
       "version_major": 2,
       "version_minor": 0
      },
      "text/plain": [
       "  0%|          | 0/5 [00:00<?, ?it/s]"
      ]
     },
     "metadata": {},
     "output_type": "display_data"
    },
    {
     "name": "stdout",
     "output_type": "stream",
     "text": [
      "Finished training after 179 seconds\n",
      "....................................................................................................\n",
      "{'r2': {'overall': 0.4263777019983448, 'between': 0.4333465656155204, 'within': 0.015096121879853519}, 'mse': {'overall': 1.1211576344121756, 'between': 1.1756799250773384, 'within': 0.07772333977098587}}\n",
      "....................................................................................................\n",
      "====================================================================================================\n",
      "Iteration 3\n",
      "====================================================================================================\n",
      "Fold 0, specified test ratio: 0.2 - Actual test ratio 0.21\n",
      "Fold 1, specified test ratio: 0.2 - Actual test ratio 0.20\n",
      "Fold 2, specified test ratio: 0.2 - Actual test ratio 0.21\n",
      "Fold 3, specified test ratio: 0.2 - Actual test ratio 0.20\n",
      "Fold 4, specified test ratio: 0.2 - Actual test ratio 0.18\n",
      "Between training\n",
      "Initialising training\n"
     ]
    },
    {
     "data": {
      "application/vnd.jupyter.widget-view+json": {
       "model_id": "0657a4ebb4df4b9a9948960139e4a1ca",
       "version_major": 2,
       "version_minor": 0
      },
      "text/plain": [
       "  0%|          | 0/5 [00:00<?, ?it/s]"
      ]
     },
     "metadata": {},
     "output_type": "display_data"
    },
    {
     "name": "stdout",
     "output_type": "stream",
     "text": [
      "Finished training after 148 seconds\n",
      "\n",
      "Within training\n",
      "Initialising training\n"
     ]
    },
    {
     "data": {
      "application/vnd.jupyter.widget-view+json": {
       "model_id": "e3f0f963f60f4238b23eca635aefdcdf",
       "version_major": 2,
       "version_minor": 0
      },
      "text/plain": [
       "  0%|          | 0/5 [00:00<?, ?it/s]"
      ]
     },
     "metadata": {},
     "output_type": "display_data"
    },
    {
     "name": "stdout",
     "output_type": "stream",
     "text": [
      "Finished training after 189 seconds\n",
      "....................................................................................................\n",
      "{'r2': {'overall': 0.4333436910696416, 'between': 0.4395164815708625, 'within': 0.018693818028638676}, 'mse': {'overall': 1.1464344429838509, 'between': 1.1965974279117688, 'within': 0.07895440211720198}}\n",
      "....................................................................................................\n",
      "====================================================================================================\n",
      "Iteration 4\n",
      "====================================================================================================\n",
      "Fold 0, specified test ratio: 0.2 - Actual test ratio 0.24\n",
      "Fold 1, specified test ratio: 0.2 - Actual test ratio 0.20\n",
      "Fold 2, specified test ratio: 0.2 - Actual test ratio 0.20\n",
      "Fold 3, specified test ratio: 0.2 - Actual test ratio 0.20\n",
      "Fold 4, specified test ratio: 0.2 - Actual test ratio 0.15\n",
      "Between training\n",
      "Initialising training\n"
     ]
    },
    {
     "data": {
      "application/vnd.jupyter.widget-view+json": {
       "model_id": "6db30f5e0dbe45f2ac04d403a94a9f71",
       "version_major": 2,
       "version_minor": 0
      },
      "text/plain": [
       "  0%|          | 0/5 [00:00<?, ?it/s]"
      ]
     },
     "metadata": {},
     "output_type": "display_data"
    },
    {
     "name": "stdout",
     "output_type": "stream",
     "text": [
      "Finished training after 153 seconds\n",
      "\n",
      "Within training\n",
      "Initialising training\n"
     ]
    },
    {
     "data": {
      "application/vnd.jupyter.widget-view+json": {
       "model_id": "a390af6e815d499b9fad9a94b695378d",
       "version_major": 2,
       "version_minor": 0
      },
      "text/plain": [
       "  0%|          | 0/5 [00:00<?, ?it/s]"
      ]
     },
     "metadata": {},
     "output_type": "display_data"
    },
    {
     "name": "stdout",
     "output_type": "stream",
     "text": [
      "Finished training after 179 seconds\n",
      "....................................................................................................\n",
      "{'r2': {'overall': 0.3886245288126949, 'between': 0.39402806569901, 'within': 0.0174017735855585}, 'mse': {'overall': 1.150634543736813, 'between': 1.2021157900572785, 'within': 0.07687608645508008}}\n",
      "....................................................................................................\n",
      "====================================================================================================\n",
      "Iteration 5\n",
      "====================================================================================================\n",
      "Fold 0, specified test ratio: 0.2 - Actual test ratio 0.28\n",
      "Fold 1, specified test ratio: 0.2 - Actual test ratio 0.20\n",
      "Fold 2, specified test ratio: 0.2 - Actual test ratio 0.20\n",
      "Fold 3, specified test ratio: 0.2 - Actual test ratio 0.20\n",
      "Fold 4, specified test ratio: 0.2 - Actual test ratio 0.11\n",
      "Between training\n",
      "Initialising training\n"
     ]
    },
    {
     "data": {
      "application/vnd.jupyter.widget-view+json": {
       "model_id": "665acefd049c46bb958b96138bc0269f",
       "version_major": 2,
       "version_minor": 0
      },
      "text/plain": [
       "  0%|          | 0/5 [00:00<?, ?it/s]"
      ]
     },
     "metadata": {},
     "output_type": "display_data"
    },
    {
     "name": "stdout",
     "output_type": "stream",
     "text": [
      "Finished training after 153 seconds\n",
      "\n",
      "Within training\n",
      "Initialising training\n"
     ]
    },
    {
     "data": {
      "application/vnd.jupyter.widget-view+json": {
       "model_id": "b3ce9f2ce228474f95bb2e8960d7b58f",
       "version_major": 2,
       "version_minor": 0
      },
      "text/plain": [
       "  0%|          | 0/5 [00:00<?, ?it/s]"
      ]
     },
     "metadata": {},
     "output_type": "display_data"
    },
    {
     "name": "stdout",
     "output_type": "stream",
     "text": [
      "Finished training after 189 seconds\n",
      "....................................................................................................\n",
      "{'r2': {'overall': 0.4052163721664537, 'between': 0.39576019094587384, 'within': 0.017071678245108024}, 'mse': {'overall': 1.1364139951219143, 'between': 1.2043609205191388, 'within': 0.0748601716966445}}\n",
      "....................................................................................................\n",
      "====================================================================================================\n",
      "Iteration 6\n",
      "====================================================================================================\n",
      "Fold 0, specified test ratio: 0.2 - Actual test ratio 0.22\n",
      "Fold 1, specified test ratio: 0.2 - Actual test ratio 0.20\n",
      "Fold 2, specified test ratio: 0.2 - Actual test ratio 0.20\n",
      "Fold 3, specified test ratio: 0.2 - Actual test ratio 0.20\n",
      "Fold 4, specified test ratio: 0.2 - Actual test ratio 0.17\n",
      "Between training\n",
      "Initialising training\n"
     ]
    },
    {
     "data": {
      "application/vnd.jupyter.widget-view+json": {
       "model_id": "b9dc7f48acb246a4a9ec6f648d8c9a0a",
       "version_major": 2,
       "version_minor": 0
      },
      "text/plain": [
       "  0%|          | 0/5 [00:00<?, ?it/s]"
      ]
     },
     "metadata": {},
     "output_type": "display_data"
    },
    {
     "name": "stdout",
     "output_type": "stream",
     "text": [
      "Finished training after 154 seconds\n",
      "\n",
      "Within training\n",
      "Initialising training\n"
     ]
    },
    {
     "data": {
      "application/vnd.jupyter.widget-view+json": {
       "model_id": "e69bba7be96242e7ab03d53059a7eeff",
       "version_major": 2,
       "version_minor": 0
      },
      "text/plain": [
       "  0%|          | 0/5 [00:00<?, ?it/s]"
      ]
     },
     "metadata": {},
     "output_type": "display_data"
    },
    {
     "name": "stdout",
     "output_type": "stream",
     "text": [
      "Finished training after 185 seconds\n",
      "....................................................................................................\n",
      "{'r2': {'overall': 0.44523596739434945, 'between': 0.4379681577960241, 'within': 0.016780762176740027}, 'mse': {'overall': 1.1441985444883265, 'between': 1.20179588133688, 'within': 0.0763898724873263}}\n",
      "....................................................................................................\n",
      "====================================================================================================\n",
      "Iteration 7\n",
      "====================================================================================================\n",
      "Fold 0, specified test ratio: 0.2 - Actual test ratio 0.27\n",
      "Fold 1, specified test ratio: 0.2 - Actual test ratio 0.20\n",
      "Fold 2, specified test ratio: 0.2 - Actual test ratio 0.20\n",
      "Fold 3, specified test ratio: 0.2 - Actual test ratio 0.20\n",
      "Fold 4, specified test ratio: 0.2 - Actual test ratio 0.13\n",
      "Between training\n",
      "Initialising training\n"
     ]
    },
    {
     "data": {
      "application/vnd.jupyter.widget-view+json": {
       "model_id": "3a385a2bedce425b9de7413c8eaeb2e6",
       "version_major": 2,
       "version_minor": 0
      },
      "text/plain": [
       "  0%|          | 0/5 [00:00<?, ?it/s]"
      ]
     },
     "metadata": {},
     "output_type": "display_data"
    },
    {
     "name": "stdout",
     "output_type": "stream",
     "text": [
      "Finished training after 151 seconds\n",
      "\n",
      "Within training\n",
      "Initialising training\n"
     ]
    },
    {
     "data": {
      "application/vnd.jupyter.widget-view+json": {
       "model_id": "be7402912b39455083a2a53d7ac158f1",
       "version_major": 2,
       "version_minor": 0
      },
      "text/plain": [
       "  0%|          | 0/5 [00:00<?, ?it/s]"
      ]
     },
     "metadata": {},
     "output_type": "display_data"
    },
    {
     "name": "stdout",
     "output_type": "stream",
     "text": [
      "Finished training after 197 seconds\n",
      "....................................................................................................\n",
      "{'r2': {'overall': 0.4202367243752705, 'between': 0.4189305489004145, 'within': 0.022753807789239588}, 'mse': {'overall': 1.135345381368025, 'between': 1.1969577952009147, 'within': 0.0755345471230208}}\n",
      "....................................................................................................\n",
      "====================================================================================================\n",
      "Iteration 8\n",
      "====================================================================================================\n",
      "Fold 0, specified test ratio: 0.2 - Actual test ratio 0.24\n",
      "Fold 1, specified test ratio: 0.2 - Actual test ratio 0.20\n",
      "Fold 2, specified test ratio: 0.2 - Actual test ratio 0.20\n",
      "Fold 3, specified test ratio: 0.2 - Actual test ratio 0.20\n",
      "Fold 4, specified test ratio: 0.2 - Actual test ratio 0.15\n",
      "Between training\n",
      "Initialising training\n"
     ]
    },
    {
     "data": {
      "application/vnd.jupyter.widget-view+json": {
       "model_id": "fa3ac5dac2c74352ac5577f98edf7850",
       "version_major": 2,
       "version_minor": 0
      },
      "text/plain": [
       "  0%|          | 0/5 [00:00<?, ?it/s]"
      ]
     },
     "metadata": {},
     "output_type": "display_data"
    },
    {
     "name": "stdout",
     "output_type": "stream",
     "text": [
      "Finished training after 152 seconds\n",
      "\n",
      "Within training\n",
      "Initialising training\n"
     ]
    },
    {
     "data": {
      "application/vnd.jupyter.widget-view+json": {
       "model_id": "6740709405c04443912a1f3d73e7e83f",
       "version_major": 2,
       "version_minor": 0
      },
      "text/plain": [
       "  0%|          | 0/5 [00:00<?, ?it/s]"
      ]
     },
     "metadata": {},
     "output_type": "display_data"
    },
    {
     "name": "stdout",
     "output_type": "stream",
     "text": [
      "Finished training after 177 seconds\n",
      "....................................................................................................\n",
      "{'r2': {'overall': 0.3880589889779468, 'between': 0.391616383624699, 'within': 0.015379038125294332}, 'mse': {'overall': 1.130771701993096, 'between': 1.192433702517365, 'within': 0.07685750301775318}}\n",
      "....................................................................................................\n",
      "====================================================================================================\n",
      "Iteration 9\n",
      "====================================================================================================\n",
      "Fold 0, specified test ratio: 0.2 - Actual test ratio 0.21\n",
      "Fold 1, specified test ratio: 0.2 - Actual test ratio 0.20\n",
      "Fold 2, specified test ratio: 0.2 - Actual test ratio 0.20\n",
      "Fold 3, specified test ratio: 0.2 - Actual test ratio 0.20\n",
      "Fold 4, specified test ratio: 0.2 - Actual test ratio 0.19\n",
      "Between training\n",
      "Initialising training\n"
     ]
    },
    {
     "data": {
      "application/vnd.jupyter.widget-view+json": {
       "model_id": "319326057c4d45c99f6cb31898ea3b9a",
       "version_major": 2,
       "version_minor": 0
      },
      "text/plain": [
       "  0%|          | 0/5 [00:00<?, ?it/s]"
      ]
     },
     "metadata": {},
     "output_type": "display_data"
    },
    {
     "name": "stdout",
     "output_type": "stream",
     "text": [
      "Finished training after 149 seconds\n",
      "\n",
      "Within training\n",
      "Initialising training\n"
     ]
    },
    {
     "data": {
      "application/vnd.jupyter.widget-view+json": {
       "model_id": "c730aae9c1e34093be54a029e7ecf44f",
       "version_major": 2,
       "version_minor": 0
      },
      "text/plain": [
       "  0%|          | 0/5 [00:00<?, ?it/s]"
      ]
     },
     "metadata": {},
     "output_type": "display_data"
    },
    {
     "name": "stdout",
     "output_type": "stream",
     "text": [
      "Finished training after 177 seconds\n",
      "....................................................................................................\n",
      "{'r2': {'overall': 0.4074314514825143, 'between': 0.4168541173008199, 'within': 0.014565199352215074}, 'mse': {'overall': 1.1233417290932357, 'between': 1.1765293277239035, 'within': 0.07864547255102924}}\n",
      "....................................................................................................\n"
     ]
    }
   ],
   "source": [
    "# run repeated cross validation\n",
    "rep_cv_res_asset = {\n",
    "    'between_r2': [],\n",
    "    'within_r2': [],\n",
    "    'overall_r2': []\n",
    "}\n",
    "\n",
    "for j in range(10):\n",
    "    print(\"=\"*100)\n",
    "    print(f\"Iteration {j}\")\n",
    "    print(\"=\"*100)\n",
    "    rep_seed = random_seed + j\n",
    "    \n",
    "    # divide the data into k different folds\n",
    "    fold_ids = split_lsms_spatial(lsms_df, n_folds = n_folds, random_seed = spatial_cv_random_seed + j)\n",
    "    \n",
    "    # run the bewtween training\n",
    "    print('Between training')\n",
    "    between_cv_trainer_asset = rf.CrossValidator(cl_df_norm, \n",
    "                                                fold_ids, \n",
    "                                                between_target_var, \n",
    "                                                between_x_vars, \n",
    "                                                id_var = 'cluster_id', \n",
    "                                                random_seed = rep_seed)\n",
    "    between_cv_trainer_asset.run_cv_training(min_samples_leaf = 1)\n",
    "    \n",
    "    # run the within training\n",
    "    print(\"\\nWithin training\")\n",
    "    within_cv_trainer_asset = rf.CrossValidator(demeaned_df_norm, \n",
    "                                               fold_ids, \n",
    "                                               within_target_var, \n",
    "                                               within_x_vars, \n",
    "                                               id_var = 'unique_id', \n",
    "                                               random_seed = rep_seed)\n",
    "    within_cv_trainer_asset.run_cv_training(min_samples_leaf = 15)\n",
    "    \n",
    "    # combine both models\n",
    "    combined_model_asset = CombinedModel(lsms_df, between_cv_trainer_asset, within_cv_trainer_asset)\n",
    "    combined_model_asset.evaluate()\n",
    "    combined_results = combined_model_asset.compute_overall_performance(use_fold_weights = True)\n",
    "    \n",
    "    # store the results \n",
    "    rep_cv_res_asset['between_r2'].append(combined_results['r2']['between'])\n",
    "    rep_cv_res_asset['within_r2'].append(combined_results['r2']['within'])\n",
    "    rep_cv_res_asset['overall_r2'].append(combined_results['r2']['overall'])\n",
    "    \n",
    "    # print the results\n",
    "    print(\".\"*100)\n",
    "    print(combined_results)\n",
    "    print(\".\"*100)"
   ]
  },
  {
   "cell_type": "code",
   "execution_count": 36,
   "id": "8de374eb",
   "metadata": {},
   "outputs": [],
   "source": [
    "pth = 'results/baseline/rep_cv_res_asset_no_eth.pkl'\n",
    "with open(pth, 'wb') as f:\n",
    "    pickle.dump(rep_cv_res_asset, f)"
   ]
  },
  {
   "cell_type": "code",
   "execution_count": 37,
   "id": "421ed9dd",
   "metadata": {},
   "outputs": [
    {
     "name": "stdout",
     "output_type": "stream",
     "text": [
      "& 0.4207 & 0.0168 & 0.4187 \\\\\n",
      "& \\footnotesize(0.0061) & \\footnotesize(0.0007) & \\footnotesize(0.0064)\\\\\n"
     ]
    }
   ],
   "source": [
    "mean_r2_asset = {k: np.mean(v) for k,v in rep_cv_res_asset.items()}\n",
    "se_r2_asset = {k: np.std(v)/np.sqrt(10) for k,v in rep_cv_res_asset.items()}\n",
    "\n",
    "# print as tex\n",
    "print(f\"& {mean_r2_asset['between_r2']:.4f} & {mean_r2_asset['within_r2']:.4f} & {mean_r2_asset['overall_r2']:.4f} \\\\\\\\\")\n",
    "print(f\"& \\\\footnotesize({se_r2_asset['between_r2']:.4f}) & \\\\footnotesize({se_r2_asset['within_r2']:.4f}) & \\\\footnotesize({se_r2_asset['overall_r2']:.4f})\\\\\\\\\")"
   ]
  }
 ],
 "metadata": {
  "kernelspec": {
   "display_name": "Python 3 (ipykernel)",
   "language": "python",
   "name": "python3"
  },
  "language_info": {
   "codemirror_mode": {
    "name": "ipython",
    "version": 3
   },
   "file_extension": ".py",
   "mimetype": "text/x-python",
   "name": "python",
   "nbconvert_exporter": "python",
   "pygments_lexer": "ipython3",
   "version": "3.10.12"
  }
 },
 "nbformat": 4,
 "nbformat_minor": 5
}
