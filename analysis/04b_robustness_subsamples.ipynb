{
 "cells": [
  {
   "cell_type": "code",
   "execution_count": 2,
   "id": "df5ef64e",
   "metadata": {},
   "outputs": [],
   "source": [
    "import matplotlib\n",
    "import matplotlib.pyplot as plt\n",
    "import pandas as pd\n",
    "import numpy as np\n",
    "import pickle\n",
    "\n",
    "from sklearn.metrics import r2_score\n",
    "from sklearn.metrics import mean_squared_error"
   ]
  },
  {
   "cell_type": "code",
   "execution_count": 3,
   "id": "a7ca44b1",
   "metadata": {},
   "outputs": [],
   "source": [
    "# set the font size for matplotlib and the font family.\n",
    "font = {'family' : 'sans-serif',\n",
    "        'weight' : 'normal',\n",
    "        'size'   : 16}\n",
    "\n",
    "matplotlib.rc('font', **font)"
   ]
  },
  {
   "cell_type": "code",
   "execution_count": 4,
   "id": "93ae8244",
   "metadata": {},
   "outputs": [],
   "source": [
    "# load the necessary functions from the analysis package\n",
    "\n",
    "# load the variable names, this allows to access the variables in the feature data in a compact way\n",
    "from analysis_utils.variable_names import *\n",
    "\n",
    "# load flagged ids \n",
    "from analysis_utils.flagged_uids import *\n",
    "\n",
    "# load the functions to do spatial k-fold CV\n",
    "from analysis_utils.spatial_CV import *\n",
    "\n",
    "# load the helper functions\n",
    "from analysis_utils.analysis_helpers import *\n",
    "\n",
    "# load the random forest trainer and cross_validator\n",
    "import analysis_utils.RandomForest as rf\n",
    "\n",
    "# load the combien model\n",
    "from analysis_utils.CombinedModel import CombinedModel"
   ]
  },
  {
   "cell_type": "code",
   "execution_count": 5,
   "id": "72f82425",
   "metadata": {},
   "outputs": [],
   "source": [
    "# set the global file paths\n",
    "root_data_dir = \"../../Data\"\n",
    "\n",
    "# the lsms data\n",
    "lsms_pth = f\"{root_data_dir}/lsms/processed/labels_cluster_v1.csv\"\n",
    "\n",
    "# the feature data\n",
    "feat_data_pth = f\"{root_data_dir}/feature_data/tabular_data.csv\"\n",
    "\n",
    "# set the random seed\n",
    "random_seed = 423\n",
    "spatial_cv_random_seed = 348\n",
    "\n",
    "# set the number of folds for k-fold CV\n",
    "n_folds = 5"
   ]
  },
  {
   "cell_type": "code",
   "execution_count": 6,
   "id": "6f0c8b41",
   "metadata": {},
   "outputs": [
    {
     "name": "stdout",
     "output_type": "stream",
     "text": [
      "Number of observations 6401\n",
      "Number of clusters 2128\n",
      "Number of x vars 113\n"
     ]
    }
   ],
   "source": [
    "# load the feature and the label data\n",
    "lsms_df = pd.read_csv(lsms_pth)\n",
    "\n",
    "# remove flagged ids form dataset\n",
    "lsms_df = lsms_df[~lsms_df.unique_id.isin(flagged_uids)].reset_index(drop = True)\n",
    "\n",
    "# create average varaibles for the between model\n",
    "lsms_df['avg_log_mean_pc_cons_usd_2017'] = lsms_df.groupby('cluster_id')['log_mean_pc_cons_usd_2017'].transform('mean')\n",
    "lsms_df['avg_mean_asset_index_yeh'] = lsms_df.groupby('cluster_id')['mean_asset_index_yeh'].transform('mean')\n",
    "\n",
    "# load the feature data\n",
    "feat_df = pd.read_csv(feat_data_pth)\n",
    "\n",
    "# describe the training data broadly\n",
    "print(f\"Number of observations {len(lsms_df)}\")\n",
    "print(f\"Number of clusters {len(np.unique(lsms_df.cluster_id))}\")\n",
    "print(f\"Number of x vars {len(feat_df.columns)-2}\")"
   ]
  },
  {
   "cell_type": "code",
   "execution_count": 7,
   "id": "45123cf5",
   "metadata": {},
   "outputs": [],
   "source": [
    "# merge the label and the feature data to one dataset\n",
    "lsms_vars = ['unique_id','n_households', 'country', 'lat', 'lon',        \n",
    "             'log_mean_pc_cons_usd_2017', 'avg_log_mean_pc_cons_usd_2017',\n",
    "             'mean_asset_index_yeh', 'avg_mean_asset_index_yeh']\n",
    "df = pd.merge(lsms_df[lsms_vars], feat_df, on = 'unique_id', how = 'left')"
   ]
  },
  {
   "cell_type": "code",
   "execution_count": 8,
   "id": "39bc46e1",
   "metadata": {},
   "outputs": [],
   "source": [
    "df = pd.merge(lsms_df, feat_df, on  = ('cluster_id', 'unique_id'), how = 'left')"
   ]
  },
  {
   "cell_type": "code",
   "execution_count": 9,
   "id": "299f877f",
   "metadata": {},
   "outputs": [],
   "source": [
    "# define the x variables and the target variable for the between and within models\n",
    "\n",
    "# define the between variables\n",
    "avg_rs_vars = avg_ndvi_vars + avg_ndwi_gao_vars + avg_nl_vars\n",
    "osm_vars = osm_dist_vars + osm_count_vars + osm_road_vars\n",
    "between_x_vars = osm_vars + esa_lc_vars + wsf_vars + avg_rs_vars + avg_preciptiation + median_rgb_vars \n",
    "between_target_var = 'avg_log_mean_pc_cons_usd_2017'\n",
    "\n",
    "# define the within varaibles\n",
    "dyn_rs_vars = dyn_ndvi_vars + dyn_ndwi_gao_vars + dyn_nl_vars\n",
    "within_x_vars = dyn_rs_vars + precipitation + dyn_rgb_vars\n",
    "within_target_var = 'log_mean_pc_cons_usd_2017'"
   ]
  },
  {
   "cell_type": "code",
   "execution_count": 10,
   "id": "c728ea1a",
   "metadata": {},
   "outputs": [],
   "source": [
    "# define the within df for this task, including all necessary variables\n",
    "within_df = df[['unique_id', 'cluster_id', within_target_var, 'rural'] + within_x_vars]"
   ]
  },
  {
   "cell_type": "markdown",
   "id": "be62c4ee",
   "metadata": {},
   "source": [
    "# run CV - Urban - Rural"
   ]
  },
  {
   "cell_type": "code",
   "execution_count": 10,
   "id": "58aaaedd",
   "metadata": {},
   "outputs": [
    {
     "data": {
      "text/plain": [
       "rural\n",
       "1    4417\n",
       "0    1984\n",
       "Name: count, dtype: int64"
      ]
     },
     "execution_count": 10,
     "metadata": {},
     "output_type": "execute_result"
    }
   ],
   "source": [
    "within_df.rural.value_counts()"
   ]
  },
  {
   "cell_type": "code",
   "execution_count": 11,
   "id": "fab69155",
   "metadata": {},
   "outputs": [
    {
     "name": "stdout",
     "output_type": "stream",
     "text": [
      "====================================================================================================\n",
      "Training on urban clusters only\n",
      "====================================================================================================\n",
      "\n",
      "\n",
      "....................................................................................................\n",
      "Iteration 0\n",
      "....................................................................................................\n",
      "Fold 0, specified test ratio: 0.2 - Actual test ratio 0.38\n",
      "Fold 1, specified test ratio: 0.2 - Actual test ratio 0.24\n",
      "Fold 2, specified test ratio: 0.2 - Actual test ratio 0.21\n",
      "Fold 3, specified test ratio: 0.2 - Actual test ratio 0.12\n",
      "Fold 4, specified test ratio: 0.2 - Actual test ratio 0.05\n",
      "Initialising training\n"
     ]
    },
    {
     "data": {
      "application/vnd.jupyter.widget-view+json": {
       "model_id": "0df1ac4e412d4fcb94e659c21e7c422e",
       "version_major": 2,
       "version_minor": 0
      },
      "text/plain": [
       "  0%|          | 0/5 [00:00<?, ?it/s]"
      ]
     },
     "metadata": {},
     "output_type": "display_data"
    },
    {
     "name": "stdout",
     "output_type": "stream",
     "text": [
      "Finished training after 165 seconds\n",
      "....................................................................................................\n",
      "Iteration 1\n",
      "....................................................................................................\n",
      "Fold 0, specified test ratio: 0.2 - Actual test ratio 0.39\n",
      "Fold 1, specified test ratio: 0.2 - Actual test ratio 0.21\n",
      "Fold 2, specified test ratio: 0.2 - Actual test ratio 0.21\n",
      "Fold 3, specified test ratio: 0.2 - Actual test ratio 0.12\n",
      "Fold 4, specified test ratio: 0.2 - Actual test ratio 0.06\n",
      "Initialising training\n"
     ]
    },
    {
     "data": {
      "application/vnd.jupyter.widget-view+json": {
       "model_id": "caf71a64aa0c4cb3a7bd9fe70f139260",
       "version_major": 2,
       "version_minor": 0
      },
      "text/plain": [
       "  0%|          | 0/5 [00:00<?, ?it/s]"
      ]
     },
     "metadata": {},
     "output_type": "display_data"
    },
    {
     "name": "stdout",
     "output_type": "stream",
     "text": [
      "Finished training after 168 seconds\n",
      "....................................................................................................\n",
      "Iteration 2\n",
      "....................................................................................................\n",
      "Fold 0, specified test ratio: 0.2 - Actual test ratio 0.36\n",
      "Fold 1, specified test ratio: 0.2 - Actual test ratio 0.24\n",
      "Fold 2, specified test ratio: 0.2 - Actual test ratio 0.22\n",
      "Fold 3, specified test ratio: 0.2 - Actual test ratio 0.15\n",
      "Fold 4, specified test ratio: 0.2 - Actual test ratio 0.04\n",
      "Initialising training\n"
     ]
    },
    {
     "data": {
      "application/vnd.jupyter.widget-view+json": {
       "model_id": "f30d1d73657046cfbd5f89d7928f03c9",
       "version_major": 2,
       "version_minor": 0
      },
      "text/plain": [
       "  0%|          | 0/5 [00:00<?, ?it/s]"
      ]
     },
     "metadata": {},
     "output_type": "display_data"
    },
    {
     "name": "stdout",
     "output_type": "stream",
     "text": [
      "Finished training after 165 seconds\n",
      "....................................................................................................\n",
      "Iteration 3\n",
      "....................................................................................................\n",
      "Fold 0, specified test ratio: 0.2 - Actual test ratio 0.34\n",
      "Fold 1, specified test ratio: 0.2 - Actual test ratio 0.21\n",
      "Fold 2, specified test ratio: 0.2 - Actual test ratio 0.21\n",
      "Fold 3, specified test ratio: 0.2 - Actual test ratio 0.18\n",
      "Fold 4, specified test ratio: 0.2 - Actual test ratio 0.06\n",
      "Initialising training\n"
     ]
    },
    {
     "data": {
      "application/vnd.jupyter.widget-view+json": {
       "model_id": "74f45e4b1a7b4d50983df6bf0c510758",
       "version_major": 2,
       "version_minor": 0
      },
      "text/plain": [
       "  0%|          | 0/5 [00:00<?, ?it/s]"
      ]
     },
     "metadata": {},
     "output_type": "display_data"
    },
    {
     "name": "stdout",
     "output_type": "stream",
     "text": [
      "Finished training after 162 seconds\n",
      "....................................................................................................\n",
      "Iteration 4\n",
      "....................................................................................................\n",
      "Fold 0, specified test ratio: 0.2 - Actual test ratio 0.34\n",
      "Fold 1, specified test ratio: 0.2 - Actual test ratio 0.27\n",
      "Fold 2, specified test ratio: 0.2 - Actual test ratio 0.21\n",
      "Fold 3, specified test ratio: 0.2 - Actual test ratio 0.12\n",
      "Fold 4, specified test ratio: 0.2 - Actual test ratio 0.06\n",
      "Initialising training\n"
     ]
    },
    {
     "data": {
      "application/vnd.jupyter.widget-view+json": {
       "model_id": "8532185231774f5d8c94a7d134e0be5e",
       "version_major": 2,
       "version_minor": 0
      },
      "text/plain": [
       "  0%|          | 0/5 [00:00<?, ?it/s]"
      ]
     },
     "metadata": {},
     "output_type": "display_data"
    },
    {
     "name": "stdout",
     "output_type": "stream",
     "text": [
      "Finished training after 164 seconds\n",
      "....................................................................................................\n",
      "Iteration 5\n",
      "....................................................................................................\n",
      "Fold 0, specified test ratio: 0.2 - Actual test ratio 0.34\n",
      "Fold 1, specified test ratio: 0.2 - Actual test ratio 0.22\n",
      "Fold 2, specified test ratio: 0.2 - Actual test ratio 0.21\n",
      "Fold 3, specified test ratio: 0.2 - Actual test ratio 0.16\n",
      "Fold 4, specified test ratio: 0.2 - Actual test ratio 0.06\n",
      "Initialising training\n"
     ]
    },
    {
     "data": {
      "application/vnd.jupyter.widget-view+json": {
       "model_id": "ebb088d556744cf091a2950b158e8152",
       "version_major": 2,
       "version_minor": 0
      },
      "text/plain": [
       "  0%|          | 0/5 [00:00<?, ?it/s]"
      ]
     },
     "metadata": {},
     "output_type": "display_data"
    },
    {
     "name": "stdout",
     "output_type": "stream",
     "text": [
      "Finished training after 163 seconds\n",
      "....................................................................................................\n",
      "Iteration 6\n",
      "....................................................................................................\n",
      "Fold 0, specified test ratio: 0.2 - Actual test ratio 0.43\n",
      "Fold 1, specified test ratio: 0.2 - Actual test ratio 0.22\n",
      "Fold 2, specified test ratio: 0.2 - Actual test ratio 0.20\n",
      "Fold 3, specified test ratio: 0.2 - Actual test ratio 0.09\n",
      "Fold 4, specified test ratio: 0.2 - Actual test ratio 0.05\n",
      "Initialising training\n"
     ]
    },
    {
     "data": {
      "application/vnd.jupyter.widget-view+json": {
       "model_id": "8d2eef3860b243f48f47ddde61016336",
       "version_major": 2,
       "version_minor": 0
      },
      "text/plain": [
       "  0%|          | 0/5 [00:00<?, ?it/s]"
      ]
     },
     "metadata": {},
     "output_type": "display_data"
    },
    {
     "name": "stdout",
     "output_type": "stream",
     "text": [
      "Finished training after 163 seconds\n",
      "....................................................................................................\n",
      "Iteration 7\n",
      "....................................................................................................\n",
      "Fold 0, specified test ratio: 0.2 - Actual test ratio 0.35\n",
      "Fold 1, specified test ratio: 0.2 - Actual test ratio 0.21\n",
      "Fold 2, specified test ratio: 0.2 - Actual test ratio 0.22\n",
      "Fold 3, specified test ratio: 0.2 - Actual test ratio 0.16\n",
      "Fold 4, specified test ratio: 0.2 - Actual test ratio 0.06\n",
      "Initialising training\n"
     ]
    },
    {
     "data": {
      "application/vnd.jupyter.widget-view+json": {
       "model_id": "1b71325ac53443a581dfd99a01a4ae53",
       "version_major": 2,
       "version_minor": 0
      },
      "text/plain": [
       "  0%|          | 0/5 [00:00<?, ?it/s]"
      ]
     },
     "metadata": {},
     "output_type": "display_data"
    },
    {
     "name": "stdout",
     "output_type": "stream",
     "text": [
      "Finished training after 162 seconds\n",
      "....................................................................................................\n",
      "Iteration 8\n",
      "....................................................................................................\n",
      "Fold 0, specified test ratio: 0.2 - Actual test ratio 0.35\n",
      "Fold 1, specified test ratio: 0.2 - Actual test ratio 0.24\n",
      "Fold 2, specified test ratio: 0.2 - Actual test ratio 0.21\n",
      "Fold 3, specified test ratio: 0.2 - Actual test ratio 0.18\n",
      "Fold 4, specified test ratio: 0.2 - Actual test ratio 0.02\n",
      "Initialising training\n"
     ]
    },
    {
     "data": {
      "application/vnd.jupyter.widget-view+json": {
       "model_id": "c456e1f7759e4fd99f75adae08f5a6f1",
       "version_major": 2,
       "version_minor": 0
      },
      "text/plain": [
       "  0%|          | 0/5 [00:00<?, ?it/s]"
      ]
     },
     "metadata": {},
     "output_type": "display_data"
    },
    {
     "name": "stdout",
     "output_type": "stream",
     "text": [
      "Finished training after 162 seconds\n",
      "....................................................................................................\n",
      "Iteration 9\n",
      "....................................................................................................\n",
      "Fold 0, specified test ratio: 0.2 - Actual test ratio 0.41\n",
      "Fold 1, specified test ratio: 0.2 - Actual test ratio 0.21\n",
      "Fold 2, specified test ratio: 0.2 - Actual test ratio 0.21\n",
      "Fold 3, specified test ratio: 0.2 - Actual test ratio 0.12\n",
      "Fold 4, specified test ratio: 0.2 - Actual test ratio 0.06\n",
      "Initialising training\n"
     ]
    },
    {
     "data": {
      "application/vnd.jupyter.widget-view+json": {
       "model_id": "dca7faa32d8949579e3a3c878f1cfde8",
       "version_major": 2,
       "version_minor": 0
      },
      "text/plain": [
       "  0%|          | 0/5 [00:00<?, ?it/s]"
      ]
     },
     "metadata": {},
     "output_type": "display_data"
    },
    {
     "name": "stdout",
     "output_type": "stream",
     "text": [
      "Finished training after 162 seconds\n",
      "\n",
      "\n",
      "\n",
      "\n",
      "====================================================================================================\n",
      "Training on rural clusters only\n",
      "====================================================================================================\n",
      "\n",
      "\n",
      "....................................................................................................\n",
      "Iteration 0\n",
      "....................................................................................................\n",
      "Fold 0, specified test ratio: 0.2 - Actual test ratio 0.21\n",
      "Fold 1, specified test ratio: 0.2 - Actual test ratio 0.21\n",
      "Fold 2, specified test ratio: 0.2 - Actual test ratio 0.20\n",
      "Fold 3, specified test ratio: 0.2 - Actual test ratio 0.20\n",
      "Fold 4, specified test ratio: 0.2 - Actual test ratio 0.18\n",
      "Initialising training\n"
     ]
    },
    {
     "data": {
      "application/vnd.jupyter.widget-view+json": {
       "model_id": "fbfd910aee494106ab65b255a7a8b031",
       "version_major": 2,
       "version_minor": 0
      },
      "text/plain": [
       "  0%|          | 0/5 [00:00<?, ?it/s]"
      ]
     },
     "metadata": {},
     "output_type": "display_data"
    },
    {
     "name": "stdout",
     "output_type": "stream",
     "text": [
      "Finished training after 372 seconds\n",
      "....................................................................................................\n",
      "Iteration 1\n",
      "....................................................................................................\n",
      "Fold 0, specified test ratio: 0.2 - Actual test ratio 0.21\n",
      "Fold 1, specified test ratio: 0.2 - Actual test ratio 0.21\n",
      "Fold 2, specified test ratio: 0.2 - Actual test ratio 0.20\n",
      "Fold 3, specified test ratio: 0.2 - Actual test ratio 0.20\n",
      "Fold 4, specified test ratio: 0.2 - Actual test ratio 0.18\n",
      "Initialising training\n"
     ]
    },
    {
     "data": {
      "application/vnd.jupyter.widget-view+json": {
       "model_id": "2a3d588cf2874e35bfd0161d59c9d8d8",
       "version_major": 2,
       "version_minor": 0
      },
      "text/plain": [
       "  0%|          | 0/5 [00:00<?, ?it/s]"
      ]
     },
     "metadata": {},
     "output_type": "display_data"
    },
    {
     "name": "stdout",
     "output_type": "stream",
     "text": [
      "Finished training after 376 seconds\n",
      "....................................................................................................\n",
      "Iteration 2\n",
      "....................................................................................................\n",
      "Fold 0, specified test ratio: 0.2 - Actual test ratio 0.20\n",
      "Fold 1, specified test ratio: 0.2 - Actual test ratio 0.20\n",
      "Fold 2, specified test ratio: 0.2 - Actual test ratio 0.20\n",
      "Fold 3, specified test ratio: 0.2 - Actual test ratio 0.20\n",
      "Fold 4, specified test ratio: 0.2 - Actual test ratio 0.19\n",
      "Initialising training\n"
     ]
    },
    {
     "data": {
      "application/vnd.jupyter.widget-view+json": {
       "model_id": "ad99c959949142a99e731daa194343f8",
       "version_major": 2,
       "version_minor": 0
      },
      "text/plain": [
       "  0%|          | 0/5 [00:00<?, ?it/s]"
      ]
     },
     "metadata": {},
     "output_type": "display_data"
    },
    {
     "name": "stdout",
     "output_type": "stream",
     "text": [
      "Finished training after 375 seconds\n",
      "....................................................................................................\n",
      "Iteration 3\n",
      "....................................................................................................\n",
      "Fold 0, specified test ratio: 0.2 - Actual test ratio 0.20\n",
      "Fold 1, specified test ratio: 0.2 - Actual test ratio 0.20\n",
      "Fold 2, specified test ratio: 0.2 - Actual test ratio 0.20\n",
      "Fold 3, specified test ratio: 0.2 - Actual test ratio 0.20\n",
      "Fold 4, specified test ratio: 0.2 - Actual test ratio 0.19\n",
      "Initialising training\n"
     ]
    },
    {
     "data": {
      "application/vnd.jupyter.widget-view+json": {
       "model_id": "f3518ba893004939abbeeb96c6ba50bd",
       "version_major": 2,
       "version_minor": 0
      },
      "text/plain": [
       "  0%|          | 0/5 [00:00<?, ?it/s]"
      ]
     },
     "metadata": {},
     "output_type": "display_data"
    },
    {
     "name": "stdout",
     "output_type": "stream",
     "text": [
      "Finished training after 371 seconds\n",
      "....................................................................................................\n",
      "Iteration 4\n",
      "....................................................................................................\n",
      "Fold 0, specified test ratio: 0.2 - Actual test ratio 0.20\n",
      "Fold 1, specified test ratio: 0.2 - Actual test ratio 0.20\n",
      "Fold 2, specified test ratio: 0.2 - Actual test ratio 0.20\n",
      "Fold 3, specified test ratio: 0.2 - Actual test ratio 0.20\n",
      "Fold 4, specified test ratio: 0.2 - Actual test ratio 0.19\n",
      "Initialising training\n"
     ]
    },
    {
     "data": {
      "application/vnd.jupyter.widget-view+json": {
       "model_id": "311b96802bb34b0e862a96c7bb569452",
       "version_major": 2,
       "version_minor": 0
      },
      "text/plain": [
       "  0%|          | 0/5 [00:00<?, ?it/s]"
      ]
     },
     "metadata": {},
     "output_type": "display_data"
    },
    {
     "name": "stdout",
     "output_type": "stream",
     "text": [
      "Finished training after 370 seconds\n",
      "....................................................................................................\n",
      "Iteration 5\n",
      "....................................................................................................\n",
      "Fold 0, specified test ratio: 0.2 - Actual test ratio 0.20\n",
      "Fold 1, specified test ratio: 0.2 - Actual test ratio 0.21\n",
      "Fold 2, specified test ratio: 0.2 - Actual test ratio 0.20\n",
      "Fold 3, specified test ratio: 0.2 - Actual test ratio 0.20\n",
      "Fold 4, specified test ratio: 0.2 - Actual test ratio 0.18\n",
      "Initialising training\n"
     ]
    },
    {
     "data": {
      "application/vnd.jupyter.widget-view+json": {
       "model_id": "33dc3538d10d48fca3e4b56534b14599",
       "version_major": 2,
       "version_minor": 0
      },
      "text/plain": [
       "  0%|          | 0/5 [00:00<?, ?it/s]"
      ]
     },
     "metadata": {},
     "output_type": "display_data"
    },
    {
     "name": "stdout",
     "output_type": "stream",
     "text": [
      "Finished training after 369 seconds\n",
      "....................................................................................................\n",
      "Iteration 6\n",
      "....................................................................................................\n",
      "Fold 0, specified test ratio: 0.2 - Actual test ratio 0.20\n",
      "Fold 1, specified test ratio: 0.2 - Actual test ratio 0.20\n",
      "Fold 2, specified test ratio: 0.2 - Actual test ratio 0.21\n",
      "Fold 3, specified test ratio: 0.2 - Actual test ratio 0.20\n",
      "Fold 4, specified test ratio: 0.2 - Actual test ratio 0.19\n",
      "Initialising training\n"
     ]
    },
    {
     "data": {
      "application/vnd.jupyter.widget-view+json": {
       "model_id": "aa474811bdeb42b5b3c123158c4ee537",
       "version_major": 2,
       "version_minor": 0
      },
      "text/plain": [
       "  0%|          | 0/5 [00:00<?, ?it/s]"
      ]
     },
     "metadata": {},
     "output_type": "display_data"
    },
    {
     "name": "stdout",
     "output_type": "stream",
     "text": [
      "Finished training after 365 seconds\n",
      "....................................................................................................\n",
      "Iteration 7\n",
      "....................................................................................................\n",
      "Fold 0, specified test ratio: 0.2 - Actual test ratio 0.21\n",
      "Fold 1, specified test ratio: 0.2 - Actual test ratio 0.21\n",
      "Fold 2, specified test ratio: 0.2 - Actual test ratio 0.21\n",
      "Fold 3, specified test ratio: 0.2 - Actual test ratio 0.20\n",
      "Fold 4, specified test ratio: 0.2 - Actual test ratio 0.17\n",
      "Initialising training\n"
     ]
    },
    {
     "data": {
      "application/vnd.jupyter.widget-view+json": {
       "model_id": "3d17b7bccf124c59b5f14b6bfccc5106",
       "version_major": 2,
       "version_minor": 0
      },
      "text/plain": [
       "  0%|          | 0/5 [00:00<?, ?it/s]"
      ]
     },
     "metadata": {},
     "output_type": "display_data"
    },
    {
     "name": "stdout",
     "output_type": "stream",
     "text": [
      "Finished training after 370 seconds\n",
      "....................................................................................................\n",
      "Iteration 8\n",
      "....................................................................................................\n",
      "Fold 0, specified test ratio: 0.2 - Actual test ratio 0.20\n",
      "Fold 1, specified test ratio: 0.2 - Actual test ratio 0.21\n",
      "Fold 2, specified test ratio: 0.2 - Actual test ratio 0.20\n",
      "Fold 3, specified test ratio: 0.2 - Actual test ratio 0.20\n",
      "Fold 4, specified test ratio: 0.2 - Actual test ratio 0.18\n",
      "Initialising training\n"
     ]
    },
    {
     "data": {
      "application/vnd.jupyter.widget-view+json": {
       "model_id": "32fc29d934694673bcbd3072413d1bcb",
       "version_major": 2,
       "version_minor": 0
      },
      "text/plain": [
       "  0%|          | 0/5 [00:00<?, ?it/s]"
      ]
     },
     "metadata": {},
     "output_type": "display_data"
    },
    {
     "name": "stdout",
     "output_type": "stream",
     "text": [
      "Finished training after 369 seconds\n",
      "....................................................................................................\n",
      "Iteration 9\n",
      "....................................................................................................\n",
      "Fold 0, specified test ratio: 0.2 - Actual test ratio 0.21\n",
      "Fold 1, specified test ratio: 0.2 - Actual test ratio 0.21\n",
      "Fold 2, specified test ratio: 0.2 - Actual test ratio 0.20\n",
      "Fold 3, specified test ratio: 0.2 - Actual test ratio 0.20\n",
      "Fold 4, specified test ratio: 0.2 - Actual test ratio 0.18\n",
      "Initialising training\n"
     ]
    },
    {
     "data": {
      "application/vnd.jupyter.widget-view+json": {
       "model_id": "498904421fad43f3ad69c6f6646f9262",
       "version_major": 2,
       "version_minor": 0
      },
      "text/plain": [
       "  0%|          | 0/5 [00:00<?, ?it/s]"
      ]
     },
     "metadata": {},
     "output_type": "display_data"
    },
    {
     "name": "stdout",
     "output_type": "stream",
     "text": [
      "Finished training after 369 seconds\n",
      "\n",
      "\n",
      "\n",
      "\n"
     ]
    }
   ],
   "source": [
    "# run the training and valdiation\n",
    "cond = {'urban': 0, 'rural': 1}\n",
    "\n",
    "rurb_n = {}\n",
    "rurb_within_r2 = {}\n",
    "rurb_predictions = {}\n",
    "\n",
    "for loc, val in cond.items():\n",
    "    print(\"=\"*100)\n",
    "    print(f\"Training on {loc} clusters only\")\n",
    "    print(\"=\"*100)\n",
    "    print(\"\\n\")\n",
    "    \n",
    "    # subset the datasets to only those observations that meet the condition\n",
    "    df_sub = df[df.rural == val].reset_index(drop = True)\n",
    "    within_df_sub = within_df[within_df.rural == val].reset_index(drop = True )\n",
    "    \n",
    "    # standardise the datasets\n",
    "    demeaned_df_norm = standardise_df(demean_df(within_df_sub), exclude_cols = [within_target_var])\n",
    "    \n",
    "    aux_r2_w = []\n",
    "    aux_pred_df = demeaned_df_norm[['unique_id', within_target_var]].rename(columns = {within_target_var:'y'})\n",
    "\n",
    "    # do 10-times repeated CV: \n",
    "    for j in range(10):\n",
    "        print(\".\"*100)\n",
    "        print(f\"Iteration {j}\")\n",
    "        print(\".\"*100)\n",
    "\n",
    "        seeed = spatial_cv_random_seed + val + j\n",
    "        # split the data into training and validation folds\n",
    "        fold_ids = split_lsms_spatial(df_sub, n_folds = n_folds, random_seed = seeed)\n",
    "\n",
    "        # run the within training\n",
    "        within_cv_trainer = rf.CrossValidator(demeaned_df_norm, \n",
    "                                              fold_ids, \n",
    "                                              within_target_var, \n",
    "                                              within_x_vars,\n",
    "                                              id_var = 'unique_id',\n",
    "                                              random_seed = seeed)\n",
    "        within_cv_trainer.run_cv_training(min_samples_leaf = 1)\n",
    "        within_res = within_cv_trainer.compute_overall_performance()\n",
    "\n",
    "        # store results\n",
    "        aux_r2_w.append(within_res['val_r2'])\n",
    "        \n",
    "        # get predictions for each iteration\n",
    "        preds = pd.DataFrame(within_cv_trainer.predictions).rename(columns = {'y_hat': f\"y_hat_{j}\"}).drop(columns = 'y')\n",
    "        aux_pred_df = pd.merge(aux_pred_df, preds, on = 'unique_id', how = 'left')\n",
    "        \n",
    "    rurb_n[loc] = len(within_df_sub)\n",
    "    rurb_within_r2[loc] = aux_r2_w\n",
    "    rurb_predictions[loc] = aux_pred_df\n",
    "    \n",
    "    print('\\n\\n\\n')\n"
   ]
  },
  {
   "cell_type": "code",
   "execution_count": 12,
   "id": "f5477c3c",
   "metadata": {},
   "outputs": [],
   "source": [
    "rurb_results = {\n",
    "    'n': rurb_n, \n",
    "    'within_r2': rurb_within_r2,\n",
    "    'predictions': rurb_predictions  \n",
    "}\n",
    "pth = 'results/robustness/rurb.pkl'\n",
    "with open(pth, 'wb') as f:\n",
    "    pickle.dump(rurb_results, f)"
   ]
  },
  {
   "cell_type": "markdown",
   "id": "8d9d7c03",
   "metadata": {},
   "source": [
    "# Run CV - pre - post - 2013"
   ]
  },
  {
   "cell_type": "code",
   "execution_count": 13,
   "id": "fcd4143a",
   "metadata": {},
   "outputs": [],
   "source": [
    "pre_2013_df = lsms_df[lsms_df.start_year < 2013].reset_index(drop = True)\n",
    "# count occurence of every cluster\n",
    "n_clusters = pre_2013_df.groupby('cluster_id').size().to_frame('N').reset_index()\n",
    "pre_2013_df = pd.merge(pre_2013_df, n_clusters, on = 'cluster_id')\n",
    "pre_2013_ids = [row.unique_id for idx, row in pre_2013_df.iterrows() if row.N > 1]\n",
    "\n",
    "\n",
    "post_2013_df = lsms_df[lsms_df.start_year >= 2013].reset_index(drop = True)\n",
    "# count occurence of every cluster\n",
    "n_clusters = post_2013_df.groupby('cluster_id').size().to_frame('N').reset_index()\n",
    "post_2013_df = pd.merge(post_2013_df, n_clusters, on = 'cluster_id')\n",
    "post_2013_ids = [row.unique_id for idx, row in post_2013_df.iterrows() if row.N > 1]\n",
    "\n",
    "# post_2013_ids = [row.unique_id for idx, row in lsms_df.iterrows() if row.start_year >= 2013]"
   ]
  },
  {
   "cell_type": "code",
   "execution_count": 14,
   "id": "dc6dc2d9",
   "metadata": {},
   "outputs": [
    {
     "name": "stdout",
     "output_type": "stream",
     "text": [
      "====================================================================================================\n",
      "Training on pre periods only\n",
      "====================================================================================================\n",
      "\n",
      "\n",
      "....................................................................................................\n",
      "Iteration 0\n",
      "....................................................................................................\n",
      "Fold 0, specified test ratio: 0.2 - Actual test ratio 0.21\n",
      "Fold 1, specified test ratio: 0.2 - Actual test ratio 0.20\n",
      "Fold 2, specified test ratio: 0.2 - Actual test ratio 0.20\n",
      "Fold 3, specified test ratio: 0.2 - Actual test ratio 0.20\n",
      "Fold 4, specified test ratio: 0.2 - Actual test ratio 0.19\n",
      "Initialising training\n"
     ]
    },
    {
     "data": {
      "application/vnd.jupyter.widget-view+json": {
       "model_id": "11fa8699f5fc4c61a949ac8b80bf7e42",
       "version_major": 2,
       "version_minor": 0
      },
      "text/plain": [
       "  0%|          | 0/5 [00:00<?, ?it/s]"
      ]
     },
     "metadata": {},
     "output_type": "display_data"
    },
    {
     "name": "stdout",
     "output_type": "stream",
     "text": [
      "Finished training after 174 seconds\n",
      "....................................................................................................\n",
      "Iteration 1\n",
      "....................................................................................................\n",
      "Fold 0, specified test ratio: 0.2 - Actual test ratio 0.22\n",
      "Fold 1, specified test ratio: 0.2 - Actual test ratio 0.20\n",
      "Fold 2, specified test ratio: 0.2 - Actual test ratio 0.20\n",
      "Fold 3, specified test ratio: 0.2 - Actual test ratio 0.20\n",
      "Fold 4, specified test ratio: 0.2 - Actual test ratio 0.17\n",
      "Initialising training\n"
     ]
    },
    {
     "data": {
      "application/vnd.jupyter.widget-view+json": {
       "model_id": "46c425ebf2c84427b55c6bc2ee5cdebb",
       "version_major": 2,
       "version_minor": 0
      },
      "text/plain": [
       "  0%|          | 0/5 [00:00<?, ?it/s]"
      ]
     },
     "metadata": {},
     "output_type": "display_data"
    },
    {
     "name": "stdout",
     "output_type": "stream",
     "text": [
      "Finished training after 173 seconds\n",
      "....................................................................................................\n",
      "Iteration 2\n",
      "....................................................................................................\n",
      "Fold 0, specified test ratio: 0.2 - Actual test ratio 0.21\n",
      "Fold 1, specified test ratio: 0.2 - Actual test ratio 0.20\n",
      "Fold 2, specified test ratio: 0.2 - Actual test ratio 0.20\n",
      "Fold 3, specified test ratio: 0.2 - Actual test ratio 0.20\n",
      "Fold 4, specified test ratio: 0.2 - Actual test ratio 0.18\n",
      "Initialising training\n"
     ]
    },
    {
     "data": {
      "application/vnd.jupyter.widget-view+json": {
       "model_id": "53cbcbcc6dd448a1ab04f92b549d5a21",
       "version_major": 2,
       "version_minor": 0
      },
      "text/plain": [
       "  0%|          | 0/5 [00:00<?, ?it/s]"
      ]
     },
     "metadata": {},
     "output_type": "display_data"
    },
    {
     "name": "stdout",
     "output_type": "stream",
     "text": [
      "Finished training after 174 seconds\n",
      "....................................................................................................\n",
      "Iteration 3\n",
      "....................................................................................................\n",
      "Fold 0, specified test ratio: 0.2 - Actual test ratio 0.22\n",
      "Fold 1, specified test ratio: 0.2 - Actual test ratio 0.20\n",
      "Fold 2, specified test ratio: 0.2 - Actual test ratio 0.20\n",
      "Fold 3, specified test ratio: 0.2 - Actual test ratio 0.21\n",
      "Fold 4, specified test ratio: 0.2 - Actual test ratio 0.18\n",
      "Initialising training\n"
     ]
    },
    {
     "data": {
      "application/vnd.jupyter.widget-view+json": {
       "model_id": "70ae2b0d1cf949e8bb46d1088bb2b9a6",
       "version_major": 2,
       "version_minor": 0
      },
      "text/plain": [
       "  0%|          | 0/5 [00:00<?, ?it/s]"
      ]
     },
     "metadata": {},
     "output_type": "display_data"
    },
    {
     "name": "stdout",
     "output_type": "stream",
     "text": [
      "Finished training after 173 seconds\n",
      "....................................................................................................\n",
      "Iteration 4\n",
      "....................................................................................................\n",
      "Fold 0, specified test ratio: 0.2 - Actual test ratio 0.22\n",
      "Fold 1, specified test ratio: 0.2 - Actual test ratio 0.20\n",
      "Fold 2, specified test ratio: 0.2 - Actual test ratio 0.20\n",
      "Fold 3, specified test ratio: 0.2 - Actual test ratio 0.20\n",
      "Fold 4, specified test ratio: 0.2 - Actual test ratio 0.17\n",
      "Initialising training\n"
     ]
    },
    {
     "data": {
      "application/vnd.jupyter.widget-view+json": {
       "model_id": "1a01185524dc4f73bca1c296a3876bca",
       "version_major": 2,
       "version_minor": 0
      },
      "text/plain": [
       "  0%|          | 0/5 [00:00<?, ?it/s]"
      ]
     },
     "metadata": {},
     "output_type": "display_data"
    },
    {
     "name": "stdout",
     "output_type": "stream",
     "text": [
      "Finished training after 173 seconds\n",
      "....................................................................................................\n",
      "Iteration 5\n",
      "....................................................................................................\n",
      "Fold 0, specified test ratio: 0.2 - Actual test ratio 0.28\n",
      "Fold 1, specified test ratio: 0.2 - Actual test ratio 0.21\n",
      "Fold 2, specified test ratio: 0.2 - Actual test ratio 0.20\n",
      "Fold 3, specified test ratio: 0.2 - Actual test ratio 0.20\n",
      "Fold 4, specified test ratio: 0.2 - Actual test ratio 0.11\n",
      "Initialising training\n"
     ]
    },
    {
     "data": {
      "application/vnd.jupyter.widget-view+json": {
       "model_id": "1195c1b63f6c44a590c415b9e3e59bba",
       "version_major": 2,
       "version_minor": 0
      },
      "text/plain": [
       "  0%|          | 0/5 [00:00<?, ?it/s]"
      ]
     },
     "metadata": {},
     "output_type": "display_data"
    },
    {
     "name": "stdout",
     "output_type": "stream",
     "text": [
      "Finished training after 174 seconds\n",
      "....................................................................................................\n",
      "Iteration 6\n",
      "....................................................................................................\n",
      "Fold 0, specified test ratio: 0.2 - Actual test ratio 0.25\n",
      "Fold 1, specified test ratio: 0.2 - Actual test ratio 0.20\n",
      "Fold 2, specified test ratio: 0.2 - Actual test ratio 0.20\n",
      "Fold 3, specified test ratio: 0.2 - Actual test ratio 0.21\n",
      "Fold 4, specified test ratio: 0.2 - Actual test ratio 0.14\n",
      "Initialising training\n"
     ]
    },
    {
     "data": {
      "application/vnd.jupyter.widget-view+json": {
       "model_id": "785e7027681948229b8b5e106b0bd20d",
       "version_major": 2,
       "version_minor": 0
      },
      "text/plain": [
       "  0%|          | 0/5 [00:00<?, ?it/s]"
      ]
     },
     "metadata": {},
     "output_type": "display_data"
    },
    {
     "name": "stdout",
     "output_type": "stream",
     "text": [
      "Finished training after 174 seconds\n",
      "....................................................................................................\n",
      "Iteration 7\n",
      "....................................................................................................\n",
      "Fold 0, specified test ratio: 0.2 - Actual test ratio 0.26\n",
      "Fold 1, specified test ratio: 0.2 - Actual test ratio 0.20\n",
      "Fold 2, specified test ratio: 0.2 - Actual test ratio 0.20\n",
      "Fold 3, specified test ratio: 0.2 - Actual test ratio 0.20\n",
      "Fold 4, specified test ratio: 0.2 - Actual test ratio 0.13\n",
      "Initialising training\n"
     ]
    },
    {
     "data": {
      "application/vnd.jupyter.widget-view+json": {
       "model_id": "802076c326c141ac9b6c78681bfd7d7b",
       "version_major": 2,
       "version_minor": 0
      },
      "text/plain": [
       "  0%|          | 0/5 [00:00<?, ?it/s]"
      ]
     },
     "metadata": {},
     "output_type": "display_data"
    },
    {
     "name": "stdout",
     "output_type": "stream",
     "text": [
      "Finished training after 173 seconds\n",
      "....................................................................................................\n",
      "Iteration 8\n",
      "....................................................................................................\n",
      "Fold 0, specified test ratio: 0.2 - Actual test ratio 0.20\n",
      "Fold 1, specified test ratio: 0.2 - Actual test ratio 0.21\n",
      "Fold 2, specified test ratio: 0.2 - Actual test ratio 0.20\n",
      "Fold 3, specified test ratio: 0.2 - Actual test ratio 0.20\n",
      "Fold 4, specified test ratio: 0.2 - Actual test ratio 0.19\n",
      "Initialising training\n"
     ]
    },
    {
     "data": {
      "application/vnd.jupyter.widget-view+json": {
       "model_id": "1fe475d807e44dcab957aef6ec675d3e",
       "version_major": 2,
       "version_minor": 0
      },
      "text/plain": [
       "  0%|          | 0/5 [00:00<?, ?it/s]"
      ]
     },
     "metadata": {},
     "output_type": "display_data"
    },
    {
     "name": "stdout",
     "output_type": "stream",
     "text": [
      "Finished training after 174 seconds\n",
      "....................................................................................................\n",
      "Iteration 9\n",
      "....................................................................................................\n",
      "Fold 0, specified test ratio: 0.2 - Actual test ratio 0.25\n",
      "Fold 1, specified test ratio: 0.2 - Actual test ratio 0.21\n",
      "Fold 2, specified test ratio: 0.2 - Actual test ratio 0.20\n",
      "Fold 3, specified test ratio: 0.2 - Actual test ratio 0.20\n",
      "Fold 4, specified test ratio: 0.2 - Actual test ratio 0.14\n",
      "Initialising training\n"
     ]
    },
    {
     "data": {
      "application/vnd.jupyter.widget-view+json": {
       "model_id": "3aaceb0a6e634c7abfd7802fd47984a1",
       "version_major": 2,
       "version_minor": 0
      },
      "text/plain": [
       "  0%|          | 0/5 [00:00<?, ?it/s]"
      ]
     },
     "metadata": {},
     "output_type": "display_data"
    },
    {
     "name": "stdout",
     "output_type": "stream",
     "text": [
      "Finished training after 174 seconds\n",
      "\n",
      "\n",
      "\n",
      "\n",
      "====================================================================================================\n",
      "Training on post periods only\n",
      "====================================================================================================\n",
      "\n",
      "\n",
      "....................................................................................................\n",
      "Iteration 0\n",
      "....................................................................................................\n",
      "Fold 0, specified test ratio: 0.2 - Actual test ratio 0.24\n",
      "Fold 1, specified test ratio: 0.2 - Actual test ratio 0.20\n",
      "Fold 2, specified test ratio: 0.2 - Actual test ratio 0.20\n",
      "Fold 3, specified test ratio: 0.2 - Actual test ratio 0.20\n",
      "Fold 4, specified test ratio: 0.2 - Actual test ratio 0.15\n",
      "Initialising training\n"
     ]
    },
    {
     "data": {
      "application/vnd.jupyter.widget-view+json": {
       "model_id": "2fd79aa38094495287edc75aa6aa3778",
       "version_major": 2,
       "version_minor": 0
      },
      "text/plain": [
       "  0%|          | 0/5 [00:00<?, ?it/s]"
      ]
     },
     "metadata": {},
     "output_type": "display_data"
    },
    {
     "name": "stdout",
     "output_type": "stream",
     "text": [
      "Finished training after 250 seconds\n",
      "....................................................................................................\n",
      "Iteration 1\n",
      "....................................................................................................\n",
      "Fold 0, specified test ratio: 0.2 - Actual test ratio 0.21\n",
      "Fold 1, specified test ratio: 0.2 - Actual test ratio 0.21\n",
      "Fold 2, specified test ratio: 0.2 - Actual test ratio 0.20\n",
      "Fold 3, specified test ratio: 0.2 - Actual test ratio 0.20\n",
      "Fold 4, specified test ratio: 0.2 - Actual test ratio 0.18\n",
      "Initialising training\n"
     ]
    },
    {
     "data": {
      "application/vnd.jupyter.widget-view+json": {
       "model_id": "cb0d56f4b9e04874baba13e0fe07467f",
       "version_major": 2,
       "version_minor": 0
      },
      "text/plain": [
       "  0%|          | 0/5 [00:00<?, ?it/s]"
      ]
     },
     "metadata": {},
     "output_type": "display_data"
    },
    {
     "name": "stdout",
     "output_type": "stream",
     "text": [
      "Finished training after 246 seconds\n",
      "....................................................................................................\n",
      "Iteration 2\n",
      "....................................................................................................\n",
      "Fold 0, specified test ratio: 0.2 - Actual test ratio 0.24\n",
      "Fold 1, specified test ratio: 0.2 - Actual test ratio 0.21\n",
      "Fold 2, specified test ratio: 0.2 - Actual test ratio 0.20\n",
      "Fold 3, specified test ratio: 0.2 - Actual test ratio 0.20\n",
      "Fold 4, specified test ratio: 0.2 - Actual test ratio 0.15\n",
      "Initialising training\n"
     ]
    },
    {
     "data": {
      "application/vnd.jupyter.widget-view+json": {
       "model_id": "ab8d450463ca4cef9d200458fad1c738",
       "version_major": 2,
       "version_minor": 0
      },
      "text/plain": [
       "  0%|          | 0/5 [00:00<?, ?it/s]"
      ]
     },
     "metadata": {},
     "output_type": "display_data"
    },
    {
     "name": "stdout",
     "output_type": "stream",
     "text": [
      "Finished training after 248 seconds\n",
      "....................................................................................................\n",
      "Iteration 3\n",
      "....................................................................................................\n",
      "Fold 0, specified test ratio: 0.2 - Actual test ratio 0.27\n",
      "Fold 1, specified test ratio: 0.2 - Actual test ratio 0.20\n",
      "Fold 2, specified test ratio: 0.2 - Actual test ratio 0.20\n",
      "Fold 3, specified test ratio: 0.2 - Actual test ratio 0.20\n",
      "Fold 4, specified test ratio: 0.2 - Actual test ratio 0.13\n",
      "Initialising training\n"
     ]
    },
    {
     "data": {
      "application/vnd.jupyter.widget-view+json": {
       "model_id": "e6892e3ab2f34e63b61a7d649ac326c0",
       "version_major": 2,
       "version_minor": 0
      },
      "text/plain": [
       "  0%|          | 0/5 [00:00<?, ?it/s]"
      ]
     },
     "metadata": {},
     "output_type": "display_data"
    },
    {
     "name": "stdout",
     "output_type": "stream",
     "text": [
      "Finished training after 245 seconds\n",
      "....................................................................................................\n",
      "Iteration 4\n",
      "....................................................................................................\n",
      "Fold 0, specified test ratio: 0.2 - Actual test ratio 0.20\n",
      "Fold 1, specified test ratio: 0.2 - Actual test ratio 0.21\n",
      "Fold 2, specified test ratio: 0.2 - Actual test ratio 0.20\n",
      "Fold 3, specified test ratio: 0.2 - Actual test ratio 0.20\n",
      "Fold 4, specified test ratio: 0.2 - Actual test ratio 0.18\n",
      "Initialising training\n"
     ]
    },
    {
     "data": {
      "application/vnd.jupyter.widget-view+json": {
       "model_id": "8b9acf23796c4d4da86734a9423003e2",
       "version_major": 2,
       "version_minor": 0
      },
      "text/plain": [
       "  0%|          | 0/5 [00:00<?, ?it/s]"
      ]
     },
     "metadata": {},
     "output_type": "display_data"
    },
    {
     "name": "stdout",
     "output_type": "stream",
     "text": [
      "Finished training after 247 seconds\n",
      "....................................................................................................\n",
      "Iteration 5\n",
      "....................................................................................................\n",
      "Fold 0, specified test ratio: 0.2 - Actual test ratio 0.21\n",
      "Fold 1, specified test ratio: 0.2 - Actual test ratio 0.20\n",
      "Fold 2, specified test ratio: 0.2 - Actual test ratio 0.20\n",
      "Fold 3, specified test ratio: 0.2 - Actual test ratio 0.20\n",
      "Fold 4, specified test ratio: 0.2 - Actual test ratio 0.19\n",
      "Initialising training\n"
     ]
    },
    {
     "data": {
      "application/vnd.jupyter.widget-view+json": {
       "model_id": "219a587f0204434e998e396ab786b750",
       "version_major": 2,
       "version_minor": 0
      },
      "text/plain": [
       "  0%|          | 0/5 [00:00<?, ?it/s]"
      ]
     },
     "metadata": {},
     "output_type": "display_data"
    },
    {
     "name": "stdout",
     "output_type": "stream",
     "text": [
      "Finished training after 244 seconds\n",
      "....................................................................................................\n",
      "Iteration 6\n",
      "....................................................................................................\n",
      "Fold 0, specified test ratio: 0.2 - Actual test ratio 0.25\n",
      "Fold 1, specified test ratio: 0.2 - Actual test ratio 0.21\n",
      "Fold 2, specified test ratio: 0.2 - Actual test ratio 0.20\n",
      "Fold 3, specified test ratio: 0.2 - Actual test ratio 0.20\n",
      "Fold 4, specified test ratio: 0.2 - Actual test ratio 0.14\n",
      "Initialising training\n"
     ]
    },
    {
     "data": {
      "application/vnd.jupyter.widget-view+json": {
       "model_id": "519967e0d97f4b07af8d37c1884fa89f",
       "version_major": 2,
       "version_minor": 0
      },
      "text/plain": [
       "  0%|          | 0/5 [00:00<?, ?it/s]"
      ]
     },
     "metadata": {},
     "output_type": "display_data"
    },
    {
     "name": "stdout",
     "output_type": "stream",
     "text": [
      "Finished training after 243 seconds\n",
      "....................................................................................................\n",
      "Iteration 7\n",
      "....................................................................................................\n",
      "Fold 0, specified test ratio: 0.2 - Actual test ratio 0.20\n",
      "Fold 1, specified test ratio: 0.2 - Actual test ratio 0.20\n",
      "Fold 2, specified test ratio: 0.2 - Actual test ratio 0.20\n",
      "Fold 3, specified test ratio: 0.2 - Actual test ratio 0.20\n",
      "Fold 4, specified test ratio: 0.2 - Actual test ratio 0.19\n",
      "Initialising training\n"
     ]
    },
    {
     "data": {
      "application/vnd.jupyter.widget-view+json": {
       "model_id": "e00919b12514440ea5ab91fd4f3f1b7e",
       "version_major": 2,
       "version_minor": 0
      },
      "text/plain": [
       "  0%|          | 0/5 [00:00<?, ?it/s]"
      ]
     },
     "metadata": {},
     "output_type": "display_data"
    },
    {
     "name": "stdout",
     "output_type": "stream",
     "text": [
      "Finished training after 245 seconds\n",
      "....................................................................................................\n",
      "Iteration 8\n",
      "....................................................................................................\n",
      "Fold 0, specified test ratio: 0.2 - Actual test ratio 0.21\n",
      "Fold 1, specified test ratio: 0.2 - Actual test ratio 0.20\n",
      "Fold 2, specified test ratio: 0.2 - Actual test ratio 0.21\n",
      "Fold 3, specified test ratio: 0.2 - Actual test ratio 0.20\n",
      "Fold 4, specified test ratio: 0.2 - Actual test ratio 0.18\n",
      "Initialising training\n"
     ]
    },
    {
     "data": {
      "application/vnd.jupyter.widget-view+json": {
       "model_id": "1547d1200b264fb79d52bdfb8da89b3c",
       "version_major": 2,
       "version_minor": 0
      },
      "text/plain": [
       "  0%|          | 0/5 [00:00<?, ?it/s]"
      ]
     },
     "metadata": {},
     "output_type": "display_data"
    },
    {
     "name": "stdout",
     "output_type": "stream",
     "text": [
      "Finished training after 242 seconds\n",
      "....................................................................................................\n",
      "Iteration 9\n",
      "....................................................................................................\n",
      "Fold 0, specified test ratio: 0.2 - Actual test ratio 0.23\n",
      "Fold 1, specified test ratio: 0.2 - Actual test ratio 0.20\n",
      "Fold 2, specified test ratio: 0.2 - Actual test ratio 0.20\n",
      "Fold 3, specified test ratio: 0.2 - Actual test ratio 0.20\n",
      "Fold 4, specified test ratio: 0.2 - Actual test ratio 0.16\n",
      "Initialising training\n"
     ]
    },
    {
     "data": {
      "application/vnd.jupyter.widget-view+json": {
       "model_id": "e8394c6a77324cd78603b52a510ffc24",
       "version_major": 2,
       "version_minor": 0
      },
      "text/plain": [
       "  0%|          | 0/5 [00:00<?, ?it/s]"
      ]
     },
     "metadata": {},
     "output_type": "display_data"
    },
    {
     "name": "stdout",
     "output_type": "stream",
     "text": [
      "Finished training after 244 seconds\n",
      "\n",
      "\n",
      "\n",
      "\n"
     ]
    }
   ],
   "source": [
    "# run the training and valdiation\n",
    "pre_post_ids = {'pre': pre_2013_ids, 'post': post_2013_ids}\n",
    "\n",
    "pre_post_n = {}\n",
    "pre_post_within_r2 = {}\n",
    "pre_post_predictions = {}\n",
    "it = 0\n",
    "for k, uids in pre_post_ids.items():\n",
    "    print(\"=\"*100)\n",
    "    print(f\"Training on {k} periods only\")\n",
    "    print(\"=\"*100)\n",
    "    print(\"\\n\")\n",
    "    \n",
    "    # subset the data to only those years with at least ... T years\n",
    "    df_sub = df[df['unique_id'].isin(uids)].reset_index(drop = True)\n",
    "    within_df_sub = within_df[within_df['unique_id'].isin(uids)].reset_index(drop = True)\n",
    "    \n",
    "    # standardise the datasets\n",
    "    demeaned_df_norm = standardise_df(demean_df(within_df_sub), exclude_cols = [within_target_var])\n",
    "    \n",
    "    aux_r2_w = []\n",
    "    aux_pred_df = demeaned_df_norm[['unique_id', within_target_var]].rename(columns = {within_target_var:'y'})\n",
    "\n",
    "    # do 10-times repeated CV: \n",
    "    for j in range(10):\n",
    "        print(\".\"*100)\n",
    "        print(f\"Iteration {j}\")\n",
    "        print(\".\"*100)\n",
    "        \n",
    "        seeed = spatial_cv_random_seed + it + j\n",
    "        # split the data into training and validation folds\n",
    "        fold_ids = split_lsms_spatial(df_sub, n_folds = n_folds, random_seed = seeed)\n",
    "\n",
    "        # run the within training\n",
    "        within_cv_trainer = rf.CrossValidator(demeaned_df_norm, \n",
    "                                              fold_ids, \n",
    "                                              within_target_var, \n",
    "                                              within_x_vars,\n",
    "                                              id_var = 'unique_id',\n",
    "                                              random_seed = seeed)\n",
    "        within_cv_trainer.run_cv_training(min_samples_leaf = 1)\n",
    "        within_res = within_cv_trainer.compute_overall_performance()\n",
    "\n",
    "        # store results\n",
    "        aux_r2_w.append(within_res['val_r2'])\n",
    "        \n",
    "        # get predictions for each iteration\n",
    "        preds = pd.DataFrame(within_cv_trainer.predictions).rename(columns = {'y_hat': f\"y_hat_{j}\"}).drop(columns = 'y')\n",
    "        aux_pred_df = pd.merge(aux_pred_df, preds, on = 'unique_id', how = 'left')\n",
    "    \n",
    "    pre_post_n[k] = len(within_df_sub)\n",
    "    pre_post_within_r2[k] = aux_r2_w\n",
    "    pre_post_predictions[k] = aux_pred_df\n",
    "    it += 1\n",
    "    \n",
    "    print('\\n\\n\\n')\n"
   ]
  },
  {
   "cell_type": "code",
   "execution_count": 15,
   "id": "0a4481f2",
   "metadata": {},
   "outputs": [],
   "source": [
    "pre_post_13_results = {\n",
    "    'n': pre_post_n, \n",
    "    'within_r2': pre_post_within_r2,\n",
    "    'predictions': pre_post_predictions  \n",
    "}\n",
    "pth = 'results/robustness/pre_post.pkl'\n",
    "with open(pth, 'wb') as f:\n",
    "    pickle.dump(pre_post_13_results, f)"
   ]
  },
  {
   "cell_type": "code",
   "execution_count": 79,
   "id": "ebc82897",
   "metadata": {},
   "outputs": [
    {
     "data": {
      "text/plain": [
       "0.0025197923779363028"
      ]
     },
     "execution_count": 79,
     "metadata": {},
     "output_type": "execute_result"
    }
   ],
   "source": [
    "np.mean(pre_post_within_r2['pre'])"
   ]
  },
  {
   "cell_type": "code",
   "execution_count": null,
   "id": "2a246077",
   "metadata": {},
   "outputs": [],
   "source": []
  },
  {
   "cell_type": "code",
   "execution_count": null,
   "id": "af248c41",
   "metadata": {},
   "outputs": [],
   "source": []
  },
  {
   "cell_type": "code",
   "execution_count": 16,
   "id": "f0e279b5",
   "metadata": {},
   "outputs": [],
   "source": [
    "# pred_vars = ['y_hat_' + str(i) for i in range(2)]\n",
    "# pre_post_13_results['predictions']['pre']['mean_y_hat'] = pre_post_13_results['predictions']['pre'][pred_vars].mean(axis = 1)\n"
   ]
  },
  {
   "cell_type": "code",
   "execution_count": 17,
   "id": "e1e5e3e7",
   "metadata": {},
   "outputs": [],
   "source": [
    "# pre_post_13_results['predictions']['post']['mean_y_hat'] = pre_post_13_results['predictions']['pre'][pred_vars].mean(axis = 1)"
   ]
  },
  {
   "cell_type": "markdown",
   "id": "fe7d205d",
   "metadata": {},
   "source": [
    "# At least T years of difference"
   ]
  },
  {
   "cell_type": "code",
   "execution_count": 18,
   "id": "1ba936e8",
   "metadata": {},
   "outputs": [],
   "source": [
    "# two years (drop uganda I and II 2010, and uganda I 2018)\n",
    "# three years (drop Ethiopia I 2013 and Ethiopia II, drop Nigeria I II 2012, Tanzania I 2010, 2012, Tanzania III 2010, Uganda I 2011, 2015 Uganda II)\n",
    "min_year_1_ids = {'uids': list(df.unique_id), \n",
    "                   'cids': list(df.cluster_id)}\n",
    "\n",
    "# create sample with time differences of at least 2 years:\n",
    "condition_1 = (df.country == 'uga') & (df.start_year == 2010)\n",
    "condition_2 = (df.country == 'uga') & (df.series == 'long') & (df.start_year == 2018)\n",
    "condition_2_years = condition_1 | condition_2\n",
    "min_year_2_ids = {'uids': list(df[~condition_2_years].unique_id),\n",
    "                   'cids': list(df[~condition_2_years].cluster_id)}\n",
    "\n",
    "\n",
    "# create sample with time differences of at least 3 years:\n",
    "\n",
    "# drop Ethiopia I 2013 and Ethiopia II\n",
    "eth_cond = ((df.country == 'eth') & (df.start_year == 2013)) | ((df.country == 'eth') & (df.series == 'short'))\n",
    "\n",
    "# drop Nigeria I II 2012\n",
    "nga_cond = ((df.country == 'nga') & (df.start_year == 2012))\n",
    "\n",
    "# drop Tanzania I 2010, 2012, Tanzania III 2010\n",
    "tza_cond_1 = (df.country == 'tza') & (df.start_year == 2010)\n",
    "tza_cond_2 = (df.country == 'tza') & (df.series == 'long') & (df.start_year == 2012)\n",
    "tza_cond = tza_cond_1 | tza_cond_2\n",
    "\n",
    "# drop Uganda I 2011, 2015 Uganda II\n",
    "uga_cond_1 = (df.country == 'uga') & (df.series == 'short')\n",
    "uga_cond_2 = (df.country == 'uga') & (df.start_year.isin([2010, 2011, 2015, 2018]))\n",
    "uga_cond = uga_cond_1 | uga_cond_2\n",
    "\n",
    "# combine all conditions\n",
    "condition_3_years = eth_cond | nga_cond | tza_cond | uga_cond\n",
    "\n",
    "min_year_3_ids = {'uids': list(df[~condition_3_years].unique_id),\n",
    "                  'cids': list(df[~condition_3_years].cluster_id)}"
   ]
  },
  {
   "cell_type": "code",
   "execution_count": 19,
   "id": "a806f73a",
   "metadata": {},
   "outputs": [
    {
     "name": "stdout",
     "output_type": "stream",
     "text": [
      "====================================================================================================\n",
      "Training on at least 2 years of difference between waves\n",
      "====================================================================================================\n",
      "\n",
      "\n",
      "....................................................................................................\n",
      "Iteration 0\n",
      "....................................................................................................\n",
      "Fold 0, specified test ratio: 0.2 - Actual test ratio 0.20\n",
      "Fold 1, specified test ratio: 0.2 - Actual test ratio 0.20\n",
      "Fold 2, specified test ratio: 0.2 - Actual test ratio 0.21\n",
      "Fold 3, specified test ratio: 0.2 - Actual test ratio 0.20\n",
      "Fold 4, specified test ratio: 0.2 - Actual test ratio 0.19\n",
      "Initialising training\n"
     ]
    },
    {
     "data": {
      "application/vnd.jupyter.widget-view+json": {
       "model_id": "20811f420aed47968352c44079737c69",
       "version_major": 2,
       "version_minor": 0
      },
      "text/plain": [
       "  0%|          | 0/5 [00:00<?, ?it/s]"
      ]
     },
     "metadata": {},
     "output_type": "display_data"
    },
    {
     "name": "stdout",
     "output_type": "stream",
     "text": [
      "Finished training after 535 seconds\n",
      "....................................................................................................\n",
      "Iteration 1\n",
      "....................................................................................................\n",
      "Fold 0, specified test ratio: 0.2 - Actual test ratio 0.20\n",
      "Fold 1, specified test ratio: 0.2 - Actual test ratio 0.20\n",
      "Fold 2, specified test ratio: 0.2 - Actual test ratio 0.20\n",
      "Fold 3, specified test ratio: 0.2 - Actual test ratio 0.20\n",
      "Fold 4, specified test ratio: 0.2 - Actual test ratio 0.19\n",
      "Initialising training\n"
     ]
    },
    {
     "data": {
      "application/vnd.jupyter.widget-view+json": {
       "model_id": "9d4636b8082a410c97d1ebf7239c0b13",
       "version_major": 2,
       "version_minor": 0
      },
      "text/plain": [
       "  0%|          | 0/5 [00:00<?, ?it/s]"
      ]
     },
     "metadata": {},
     "output_type": "display_data"
    },
    {
     "name": "stdout",
     "output_type": "stream",
     "text": [
      "Finished training after 530 seconds\n",
      "....................................................................................................\n",
      "Iteration 2\n",
      "....................................................................................................\n",
      "Fold 0, specified test ratio: 0.2 - Actual test ratio 0.20\n",
      "Fold 1, specified test ratio: 0.2 - Actual test ratio 0.20\n",
      "Fold 2, specified test ratio: 0.2 - Actual test ratio 0.20\n",
      "Fold 3, specified test ratio: 0.2 - Actual test ratio 0.20\n",
      "Fold 4, specified test ratio: 0.2 - Actual test ratio 0.18\n",
      "Initialising training\n"
     ]
    },
    {
     "data": {
      "application/vnd.jupyter.widget-view+json": {
       "model_id": "21a34b6bc2a145c882c74cb934749b36",
       "version_major": 2,
       "version_minor": 0
      },
      "text/plain": [
       "  0%|          | 0/5 [00:00<?, ?it/s]"
      ]
     },
     "metadata": {},
     "output_type": "display_data"
    },
    {
     "name": "stdout",
     "output_type": "stream",
     "text": [
      "Finished training after 535 seconds\n",
      "....................................................................................................\n",
      "Iteration 3\n",
      "....................................................................................................\n",
      "Fold 0, specified test ratio: 0.2 - Actual test ratio 0.21\n",
      "Fold 1, specified test ratio: 0.2 - Actual test ratio 0.20\n",
      "Fold 2, specified test ratio: 0.2 - Actual test ratio 0.21\n",
      "Fold 3, specified test ratio: 0.2 - Actual test ratio 0.20\n",
      "Fold 4, specified test ratio: 0.2 - Actual test ratio 0.17\n",
      "Initialising training\n"
     ]
    },
    {
     "data": {
      "application/vnd.jupyter.widget-view+json": {
       "model_id": "14040ecfb0d9447e8af6128a84c7ef23",
       "version_major": 2,
       "version_minor": 0
      },
      "text/plain": [
       "  0%|          | 0/5 [00:00<?, ?it/s]"
      ]
     },
     "metadata": {},
     "output_type": "display_data"
    },
    {
     "name": "stdout",
     "output_type": "stream",
     "text": [
      "Finished training after 535 seconds\n",
      "....................................................................................................\n",
      "Iteration 4\n",
      "....................................................................................................\n",
      "Fold 0, specified test ratio: 0.2 - Actual test ratio 0.23\n",
      "Fold 1, specified test ratio: 0.2 - Actual test ratio 0.20\n",
      "Fold 2, specified test ratio: 0.2 - Actual test ratio 0.20\n",
      "Fold 3, specified test ratio: 0.2 - Actual test ratio 0.20\n",
      "Fold 4, specified test ratio: 0.2 - Actual test ratio 0.16\n",
      "Initialising training\n"
     ]
    },
    {
     "data": {
      "application/vnd.jupyter.widget-view+json": {
       "model_id": "fc13af6d91ac4866b3e320b20bdd0cbb",
       "version_major": 2,
       "version_minor": 0
      },
      "text/plain": [
       "  0%|          | 0/5 [00:00<?, ?it/s]"
      ]
     },
     "metadata": {},
     "output_type": "display_data"
    },
    {
     "name": "stdout",
     "output_type": "stream",
     "text": [
      "Finished training after 531 seconds\n",
      "....................................................................................................\n",
      "Iteration 5\n",
      "....................................................................................................\n",
      "Fold 0, specified test ratio: 0.2 - Actual test ratio 0.26\n",
      "Fold 1, specified test ratio: 0.2 - Actual test ratio 0.21\n",
      "Fold 2, specified test ratio: 0.2 - Actual test ratio 0.20\n",
      "Fold 3, specified test ratio: 0.2 - Actual test ratio 0.20\n",
      "Fold 4, specified test ratio: 0.2 - Actual test ratio 0.13\n",
      "Initialising training\n"
     ]
    },
    {
     "data": {
      "application/vnd.jupyter.widget-view+json": {
       "model_id": "eb4bb490f51e482297ae339e72b73c75",
       "version_major": 2,
       "version_minor": 0
      },
      "text/plain": [
       "  0%|          | 0/5 [00:00<?, ?it/s]"
      ]
     },
     "metadata": {},
     "output_type": "display_data"
    },
    {
     "name": "stdout",
     "output_type": "stream",
     "text": [
      "Finished training after 538 seconds\n",
      "....................................................................................................\n",
      "Iteration 6\n",
      "....................................................................................................\n",
      "Fold 0, specified test ratio: 0.2 - Actual test ratio 0.21\n",
      "Fold 1, specified test ratio: 0.2 - Actual test ratio 0.20\n",
      "Fold 2, specified test ratio: 0.2 - Actual test ratio 0.20\n",
      "Fold 3, specified test ratio: 0.2 - Actual test ratio 0.20\n",
      "Fold 4, specified test ratio: 0.2 - Actual test ratio 0.18\n",
      "Initialising training\n"
     ]
    },
    {
     "data": {
      "application/vnd.jupyter.widget-view+json": {
       "model_id": "ed629edb55c744dc9899c50a43c57386",
       "version_major": 2,
       "version_minor": 0
      },
      "text/plain": [
       "  0%|          | 0/5 [00:00<?, ?it/s]"
      ]
     },
     "metadata": {},
     "output_type": "display_data"
    },
    {
     "name": "stdout",
     "output_type": "stream",
     "text": [
      "Finished training after 555 seconds\n",
      "....................................................................................................\n",
      "Iteration 7\n",
      "....................................................................................................\n",
      "Fold 0, specified test ratio: 0.2 - Actual test ratio 0.25\n",
      "Fold 1, specified test ratio: 0.2 - Actual test ratio 0.20\n",
      "Fold 2, specified test ratio: 0.2 - Actual test ratio 0.20\n",
      "Fold 3, specified test ratio: 0.2 - Actual test ratio 0.20\n",
      "Fold 4, specified test ratio: 0.2 - Actual test ratio 0.14\n",
      "Initialising training\n"
     ]
    },
    {
     "data": {
      "application/vnd.jupyter.widget-view+json": {
       "model_id": "44fddd065f8146d09ad78df09efa4096",
       "version_major": 2,
       "version_minor": 0
      },
      "text/plain": [
       "  0%|          | 0/5 [00:00<?, ?it/s]"
      ]
     },
     "metadata": {},
     "output_type": "display_data"
    },
    {
     "name": "stdout",
     "output_type": "stream",
     "text": [
      "Finished training after 575 seconds\n",
      "....................................................................................................\n",
      "Iteration 8\n",
      "....................................................................................................\n",
      "Fold 0, specified test ratio: 0.2 - Actual test ratio 0.23\n",
      "Fold 1, specified test ratio: 0.2 - Actual test ratio 0.20\n",
      "Fold 2, specified test ratio: 0.2 - Actual test ratio 0.20\n",
      "Fold 3, specified test ratio: 0.2 - Actual test ratio 0.20\n",
      "Fold 4, specified test ratio: 0.2 - Actual test ratio 0.16\n",
      "Initialising training\n"
     ]
    },
    {
     "data": {
      "application/vnd.jupyter.widget-view+json": {
       "model_id": "6bc5c649cbdd435bae648fded5138b2d",
       "version_major": 2,
       "version_minor": 0
      },
      "text/plain": [
       "  0%|          | 0/5 [00:00<?, ?it/s]"
      ]
     },
     "metadata": {},
     "output_type": "display_data"
    },
    {
     "name": "stdout",
     "output_type": "stream",
     "text": [
      "Finished training after 538 seconds\n",
      "....................................................................................................\n",
      "Iteration 9\n",
      "....................................................................................................\n",
      "Fold 0, specified test ratio: 0.2 - Actual test ratio 0.21\n",
      "Fold 1, specified test ratio: 0.2 - Actual test ratio 0.20\n",
      "Fold 2, specified test ratio: 0.2 - Actual test ratio 0.20\n",
      "Fold 3, specified test ratio: 0.2 - Actual test ratio 0.20\n",
      "Fold 4, specified test ratio: 0.2 - Actual test ratio 0.19\n",
      "Initialising training\n"
     ]
    },
    {
     "data": {
      "application/vnd.jupyter.widget-view+json": {
       "model_id": "66169446964a431e809e9a15c5935aa4",
       "version_major": 2,
       "version_minor": 0
      },
      "text/plain": [
       "  0%|          | 0/5 [00:00<?, ?it/s]"
      ]
     },
     "metadata": {},
     "output_type": "display_data"
    },
    {
     "name": "stdout",
     "output_type": "stream",
     "text": [
      "Finished training after 538 seconds\n",
      "\n",
      "\n",
      "\n",
      "\n",
      "====================================================================================================\n",
      "Training on at least 3 years of difference between waves\n",
      "====================================================================================================\n",
      "\n",
      "\n",
      "....................................................................................................\n",
      "Iteration 0\n",
      "....................................................................................................\n",
      "Fold 0, specified test ratio: 0.2 - Actual test ratio 0.21\n",
      "Fold 1, specified test ratio: 0.2 - Actual test ratio 0.20\n",
      "Fold 2, specified test ratio: 0.2 - Actual test ratio 0.20\n",
      "Fold 3, specified test ratio: 0.2 - Actual test ratio 0.20\n",
      "Fold 4, specified test ratio: 0.2 - Actual test ratio 0.19\n",
      "Initialising training\n"
     ]
    },
    {
     "data": {
      "application/vnd.jupyter.widget-view+json": {
       "model_id": "d7e18d1319df4d7b88f59b86334469d4",
       "version_major": 2,
       "version_minor": 0
      },
      "text/plain": [
       "  0%|          | 0/5 [00:00<?, ?it/s]"
      ]
     },
     "metadata": {},
     "output_type": "display_data"
    },
    {
     "name": "stdout",
     "output_type": "stream",
     "text": [
      "Finished training after 313 seconds\n",
      "....................................................................................................\n",
      "Iteration 1\n",
      "....................................................................................................\n",
      "Fold 0, specified test ratio: 0.2 - Actual test ratio 0.21\n",
      "Fold 1, specified test ratio: 0.2 - Actual test ratio 0.21\n",
      "Fold 2, specified test ratio: 0.2 - Actual test ratio 0.20\n",
      "Fold 3, specified test ratio: 0.2 - Actual test ratio 0.20\n",
      "Fold 4, specified test ratio: 0.2 - Actual test ratio 0.17\n",
      "Initialising training\n"
     ]
    },
    {
     "data": {
      "application/vnd.jupyter.widget-view+json": {
       "model_id": "bf112b5339a0448b8d4c61f1929615b4",
       "version_major": 2,
       "version_minor": 0
      },
      "text/plain": [
       "  0%|          | 0/5 [00:00<?, ?it/s]"
      ]
     },
     "metadata": {},
     "output_type": "display_data"
    },
    {
     "name": "stdout",
     "output_type": "stream",
     "text": [
      "Finished training after 314 seconds\n",
      "....................................................................................................\n",
      "Iteration 2\n",
      "....................................................................................................\n",
      "Fold 0, specified test ratio: 0.2 - Actual test ratio 0.21\n",
      "Fold 1, specified test ratio: 0.2 - Actual test ratio 0.20\n",
      "Fold 2, specified test ratio: 0.2 - Actual test ratio 0.20\n",
      "Fold 3, specified test ratio: 0.2 - Actual test ratio 0.20\n",
      "Fold 4, specified test ratio: 0.2 - Actual test ratio 0.18\n",
      "Initialising training\n"
     ]
    },
    {
     "data": {
      "application/vnd.jupyter.widget-view+json": {
       "model_id": "060dc42e55524df1925fd9840fdd5c26",
       "version_major": 2,
       "version_minor": 0
      },
      "text/plain": [
       "  0%|          | 0/5 [00:00<?, ?it/s]"
      ]
     },
     "metadata": {},
     "output_type": "display_data"
    },
    {
     "name": "stdout",
     "output_type": "stream",
     "text": [
      "Finished training after 313 seconds\n",
      "....................................................................................................\n",
      "Iteration 3\n",
      "....................................................................................................\n",
      "Fold 0, specified test ratio: 0.2 - Actual test ratio 0.24\n",
      "Fold 1, specified test ratio: 0.2 - Actual test ratio 0.21\n",
      "Fold 2, specified test ratio: 0.2 - Actual test ratio 0.20\n",
      "Fold 3, specified test ratio: 0.2 - Actual test ratio 0.20\n",
      "Fold 4, specified test ratio: 0.2 - Actual test ratio 0.15\n",
      "Initialising training\n"
     ]
    },
    {
     "data": {
      "application/vnd.jupyter.widget-view+json": {
       "model_id": "193744a27ee6454993a3cd337a9dcb39",
       "version_major": 2,
       "version_minor": 0
      },
      "text/plain": [
       "  0%|          | 0/5 [00:00<?, ?it/s]"
      ]
     },
     "metadata": {},
     "output_type": "display_data"
    },
    {
     "name": "stdout",
     "output_type": "stream",
     "text": [
      "Finished training after 312 seconds\n",
      "....................................................................................................\n",
      "Iteration 4\n",
      "....................................................................................................\n",
      "Fold 0, specified test ratio: 0.2 - Actual test ratio 0.26\n",
      "Fold 1, specified test ratio: 0.2 - Actual test ratio 0.21\n",
      "Fold 2, specified test ratio: 0.2 - Actual test ratio 0.20\n",
      "Fold 3, specified test ratio: 0.2 - Actual test ratio 0.20\n",
      "Fold 4, specified test ratio: 0.2 - Actual test ratio 0.13\n",
      "Initialising training\n"
     ]
    },
    {
     "data": {
      "application/vnd.jupyter.widget-view+json": {
       "model_id": "3653c93e611a4eb797f9c657322155aa",
       "version_major": 2,
       "version_minor": 0
      },
      "text/plain": [
       "  0%|          | 0/5 [00:00<?, ?it/s]"
      ]
     },
     "metadata": {},
     "output_type": "display_data"
    },
    {
     "name": "stdout",
     "output_type": "stream",
     "text": [
      "Finished training after 313 seconds\n",
      "....................................................................................................\n",
      "Iteration 5\n",
      "....................................................................................................\n",
      "Fold 0, specified test ratio: 0.2 - Actual test ratio 0.20\n",
      "Fold 1, specified test ratio: 0.2 - Actual test ratio 0.20\n",
      "Fold 2, specified test ratio: 0.2 - Actual test ratio 0.20\n",
      "Fold 3, specified test ratio: 0.2 - Actual test ratio 0.20\n",
      "Fold 4, specified test ratio: 0.2 - Actual test ratio 0.19\n",
      "Initialising training\n"
     ]
    },
    {
     "data": {
      "application/vnd.jupyter.widget-view+json": {
       "model_id": "ed05e94dc0eb4ebba0781d31439d797d",
       "version_major": 2,
       "version_minor": 0
      },
      "text/plain": [
       "  0%|          | 0/5 [00:00<?, ?it/s]"
      ]
     },
     "metadata": {},
     "output_type": "display_data"
    },
    {
     "name": "stdout",
     "output_type": "stream",
     "text": [
      "Finished training after 312 seconds\n",
      "....................................................................................................\n",
      "Iteration 6\n",
      "....................................................................................................\n",
      "Fold 0, specified test ratio: 0.2 - Actual test ratio 0.25\n",
      "Fold 1, specified test ratio: 0.2 - Actual test ratio 0.21\n",
      "Fold 2, specified test ratio: 0.2 - Actual test ratio 0.20\n",
      "Fold 3, specified test ratio: 0.2 - Actual test ratio 0.20\n",
      "Fold 4, specified test ratio: 0.2 - Actual test ratio 0.14\n",
      "Initialising training\n"
     ]
    },
    {
     "data": {
      "application/vnd.jupyter.widget-view+json": {
       "model_id": "735a773660634c899278f74b3bad3f7b",
       "version_major": 2,
       "version_minor": 0
      },
      "text/plain": [
       "  0%|          | 0/5 [00:00<?, ?it/s]"
      ]
     },
     "metadata": {},
     "output_type": "display_data"
    },
    {
     "name": "stdout",
     "output_type": "stream",
     "text": [
      "Finished training after 314 seconds\n",
      "....................................................................................................\n",
      "Iteration 7\n",
      "....................................................................................................\n",
      "Fold 0, specified test ratio: 0.2 - Actual test ratio 0.24\n",
      "Fold 1, specified test ratio: 0.2 - Actual test ratio 0.21\n",
      "Fold 2, specified test ratio: 0.2 - Actual test ratio 0.20\n",
      "Fold 3, specified test ratio: 0.2 - Actual test ratio 0.20\n",
      "Fold 4, specified test ratio: 0.2 - Actual test ratio 0.14\n",
      "Initialising training\n"
     ]
    },
    {
     "data": {
      "application/vnd.jupyter.widget-view+json": {
       "model_id": "466204ccd80f44f7b196dd61e69bbf85",
       "version_major": 2,
       "version_minor": 0
      },
      "text/plain": [
       "  0%|          | 0/5 [00:00<?, ?it/s]"
      ]
     },
     "metadata": {},
     "output_type": "display_data"
    },
    {
     "name": "stdout",
     "output_type": "stream",
     "text": [
      "Finished training after 310 seconds\n",
      "....................................................................................................\n",
      "Iteration 8\n",
      "....................................................................................................\n",
      "Fold 0, specified test ratio: 0.2 - Actual test ratio 0.22\n",
      "Fold 1, specified test ratio: 0.2 - Actual test ratio 0.20\n",
      "Fold 2, specified test ratio: 0.2 - Actual test ratio 0.20\n",
      "Fold 3, specified test ratio: 0.2 - Actual test ratio 0.21\n",
      "Fold 4, specified test ratio: 0.2 - Actual test ratio 0.18\n",
      "Initialising training\n"
     ]
    },
    {
     "data": {
      "application/vnd.jupyter.widget-view+json": {
       "model_id": "9510b85ce3b94df4b6295ea5b4e533f8",
       "version_major": 2,
       "version_minor": 0
      },
      "text/plain": [
       "  0%|          | 0/5 [00:00<?, ?it/s]"
      ]
     },
     "metadata": {},
     "output_type": "display_data"
    },
    {
     "name": "stdout",
     "output_type": "stream",
     "text": [
      "Finished training after 313 seconds\n",
      "....................................................................................................\n",
      "Iteration 9\n",
      "....................................................................................................\n",
      "Fold 0, specified test ratio: 0.2 - Actual test ratio 0.21\n",
      "Fold 1, specified test ratio: 0.2 - Actual test ratio 0.21\n",
      "Fold 2, specified test ratio: 0.2 - Actual test ratio 0.20\n",
      "Fold 3, specified test ratio: 0.2 - Actual test ratio 0.20\n",
      "Fold 4, specified test ratio: 0.2 - Actual test ratio 0.18\n",
      "Initialising training\n"
     ]
    },
    {
     "data": {
      "application/vnd.jupyter.widget-view+json": {
       "model_id": "b984c63bb06c47dfad0a2b7f72bd59fb",
       "version_major": 2,
       "version_minor": 0
      },
      "text/plain": [
       "  0%|          | 0/5 [00:00<?, ?it/s]"
      ]
     },
     "metadata": {},
     "output_type": "display_data"
    },
    {
     "name": "stdout",
     "output_type": "stream",
     "text": [
      "Finished training after 314 seconds\n",
      "\n",
      "\n",
      "\n",
      "\n"
     ]
    }
   ],
   "source": [
    "# run the training and valdiation\n",
    "min_year_ids = [min_year_2_ids, min_year_3_ids]\n",
    "\n",
    "min_years_n = {}\n",
    "min_years_within_r2 = {}\n",
    "min_years_predictions = {}\n",
    "\n",
    "for idx, ids in enumerate(min_year_ids):\n",
    "    print(\"=\"*100)\n",
    "    print(f\"Training on at least {idx+2} years of difference between waves\")\n",
    "    print(\"=\"*100)\n",
    "    print(\"\\n\")\n",
    "    \n",
    "    # subset the data to only those years with at least ... T years\n",
    "    df_sub = df[df['unique_id'].isin(ids['uids'])].reset_index(drop = True)\n",
    "    within_df_sub = within_df[within_df['unique_id'].isin(ids['uids'])].reset_index(drop = True)\n",
    "    \n",
    "    # standardise the datasets\n",
    "    demeaned_df_norm = standardise_df(demean_df(within_df_sub), exclude_cols = [within_target_var])\n",
    "    \n",
    "    aux_r2_w = []\n",
    "    aux_pred_df = demeaned_df_norm[['unique_id', within_target_var]].rename(columns = {within_target_var:'y'})\n",
    "\n",
    "    # do 10-times repeated CV: \n",
    "    for j in range(10):\n",
    "        print(\".\"*100)\n",
    "        print(f\"Iteration {j}\")\n",
    "        print(\".\"*100)\n",
    "        \n",
    "        seeed = spatial_cv_random_seed + idx + j\n",
    "        # split the data into training and validation folds\n",
    "        fold_ids = split_lsms_spatial(df_sub, n_folds = n_folds, random_seed = seeed)\n",
    "\n",
    "        # run the within training\n",
    "        within_cv_trainer = rf.CrossValidator(demeaned_df_norm, \n",
    "                                              fold_ids, \n",
    "                                              within_target_var, \n",
    "                                              within_x_vars,\n",
    "                                              id_var = 'unique_id',\n",
    "                                              random_seed = seeed)\n",
    "        within_cv_trainer.run_cv_training(min_samples_leaf = 1)\n",
    "        within_res = within_cv_trainer.compute_overall_performance()\n",
    "\n",
    "        # store results\n",
    "        aux_r2_w.append(within_res['val_r2'])\n",
    "        \n",
    "        # get predictions for each iteration\n",
    "        preds = pd.DataFrame(within_cv_trainer.predictions).rename(columns = {'y_hat': f\"y_hat_{j}\"}).drop(columns = 'y')\n",
    "        aux_pred_df = pd.merge(aux_pred_df, preds, on = 'unique_id', how = 'left')\n",
    "    \n",
    "    min_years_n[f\"min_{idx+1}_years\"] = len(within_df_sub)\n",
    "    min_years_within_r2[f\"min_{idx+1}_years\"] = aux_r2_w\n",
    "    min_years_predictions[f\"min_{idx+1}_years\"] = aux_pred_df\n",
    "    \n",
    "    print('\\n\\n\\n')\n"
   ]
  },
  {
   "cell_type": "code",
   "execution_count": 36,
   "id": "75e5984d",
   "metadata": {},
   "outputs": [],
   "source": [
    "min_years_results = {\n",
    "    'n': min_years_n, \n",
    "    'within_r2': min_years_within_r2,\n",
    "    'predictions': min_years_predictions  \n",
    "}\n",
    "pth = 'results/robustness/min_years.pkl'\n",
    "with open(pth, 'wb') as f:\n",
    "    pickle.dump(min_years_results, f)"
   ]
  },
  {
   "cell_type": "code",
   "execution_count": 38,
   "id": "b5d4da82",
   "metadata": {},
   "outputs": [
    {
     "data": {
      "text/plain": [
       "{'min_1_years':                      unique_id         y   y_hat_0   y_hat_1   y_hat_2  \\\n",
       " 0     eth_010101088801601_2011 -0.110937  0.043666  0.027470  0.047810   \n",
       " 1     eth_010101088801601_2013  0.181930 -0.027054  0.007058 -0.026691   \n",
       " 2     eth_010101088801601_2015 -0.070993 -0.011888 -0.002336 -0.011216   \n",
       " 3     eth_010102088801403_2011  0.146545  0.067077  0.052483  0.063448   \n",
       " 4     eth_010102088801403_2013  0.072989 -0.019796 -0.005025 -0.049164   \n",
       " ...                        ...       ...       ...       ...       ...   \n",
       " 5884          uga_4150009_2009 -0.217293  0.028462 -0.003474  0.028115   \n",
       " 5885          uga_4150009_2011 -0.358443 -0.128221 -0.097611 -0.158674   \n",
       " 5886          uga_4150009_2013  0.121821 -0.034096 -0.021491 -0.035710   \n",
       " 5887          uga_4150009_2015  0.179608  0.021632  0.060576  0.036720   \n",
       " 5888          uga_4150009_2019  0.274306  0.111215  0.123213  0.094857   \n",
       " \n",
       "        y_hat_3   y_hat_4   y_hat_5   y_hat_6   y_hat_7   y_hat_8   y_hat_9  \n",
       " 0     0.032521  0.054565  0.039722  0.031572  0.043956  0.029433  0.044897  \n",
       " 1    -0.006061 -0.017210 -0.002570  0.000198 -0.002731 -0.014030 -0.002267  \n",
       " 2    -0.002008 -0.015795 -0.014315 -0.012393 -0.013616 -0.009834 -0.004363  \n",
       " 3     0.066755  0.059532  0.053569  0.039205  0.093510  0.050385  0.079599  \n",
       " 4    -0.023846 -0.010096 -0.003010 -0.009609 -0.011424 -0.031684 -0.043284  \n",
       " ...        ...       ...       ...       ...       ...       ...       ...  \n",
       " 5884  0.018321  0.017282  0.030588  0.001707  0.011841  0.023740  0.022255  \n",
       " 5885 -0.181904 -0.124925 -0.081813 -0.102000 -0.157453 -0.155522 -0.112595  \n",
       " 5886 -0.040395 -0.028651 -0.041282 -0.016127 -0.022691 -0.021852 -0.038749  \n",
       " 5887  0.032565  0.012459  0.024656  0.018866  0.034318  0.035760  0.022023  \n",
       " 5888  0.107825  0.137958  0.076614  0.119733  0.096200  0.094614  0.100986  \n",
       " \n",
       " [5889 rows x 12 columns],\n",
       " 'min_2_years':                      unique_id         y   y_hat_0   y_hat_1   y_hat_2  \\\n",
       " 0     eth_010101088801601_2011 -0.019972  0.009336  0.019989  0.031085   \n",
       " 1     eth_010101088801601_2015  0.019972 -0.018923 -0.023485 -0.025331   \n",
       " 2     eth_010102088801403_2011  0.183040  0.077057  0.041970  0.077944   \n",
       " 3     eth_010102088801403_2015 -0.183040 -0.069926 -0.039287 -0.064894   \n",
       " 4     eth_010103010100106_2011  0.386083  0.031176  0.004400  0.012827   \n",
       " ...                        ...       ...       ...       ...       ...   \n",
       " 4006          uga_4150007_2013 -0.167892  0.013998 -0.019952 -0.001787   \n",
       " 4007          uga_4150007_2019  0.432678  0.034900  0.045586  0.039067   \n",
       " 4008          uga_4150009_2009 -0.276904  0.011556  0.025726  0.008984   \n",
       " 4009          uga_4150009_2013  0.062210 -0.038182 -0.041719 -0.028078   \n",
       " 4010          uga_4150009_2019  0.214695  0.084251  0.069046  0.059583   \n",
       " \n",
       "        y_hat_3   y_hat_4   y_hat_5   y_hat_6   y_hat_7   y_hat_8   y_hat_9  \n",
       " 0     0.034504  0.026410  0.043670  0.037017  0.025898  0.040110  0.015844  \n",
       " 1    -0.036735 -0.015543 -0.040364 -0.041463 -0.013787 -0.029809 -0.025097  \n",
       " 2     0.057681  0.055116  0.074808  0.044460  0.080919  0.068633  0.050647  \n",
       " 3    -0.045902 -0.056951 -0.072284 -0.023790 -0.074905 -0.049702 -0.039139  \n",
       " 4    -0.006464  0.014405  0.016446  0.013467 -0.003720  0.006793  0.024846  \n",
       " ...        ...       ...       ...       ...       ...       ...       ...  \n",
       " 4006 -0.002285 -0.014360 -0.002153 -0.019664  0.005204 -0.000887 -0.019390  \n",
       " 4007  0.039371  0.044951  0.050823  0.060189  0.024905  0.057734  0.033141  \n",
       " 4008  0.022838 -0.015453 -0.013065 -0.009739  0.005594 -0.010273  0.012844  \n",
       " 4009 -0.052404 -0.040328 -0.040554 -0.048269 -0.056745 -0.021082 -0.041110  \n",
       " 4010  0.055233  0.080768  0.084003  0.086892  0.058474  0.080220  0.069592  \n",
       " \n",
       " [4011 rows x 12 columns]}"
      ]
     },
     "execution_count": 38,
     "metadata": {},
     "output_type": "execute_result"
    }
   ],
   "source": [
    "min_years_predictions"
   ]
  },
  {
   "cell_type": "markdown",
   "id": "e7f5c9b0",
   "metadata": {},
   "source": [
    "# Make plot"
   ]
  },
  {
   "cell_type": "code",
   "execution_count": 11,
   "id": "42e82f49",
   "metadata": {},
   "outputs": [],
   "source": [
    "pth = 'results/robustness/rurb.pkl'\n",
    "with open(pth, 'rb') as f:\n",
    "    rurb_results = pickle.load(f)\n",
    "\n",
    "# take average over all predictions\n",
    "pred_vars = ['y_hat_' + str(i) for i in range(10)]\n",
    "rurb_results['predictions']['rural']['mean_y_hat'] = rurb_results['predictions']['rural'][pred_vars].mean(axis = 1)\n",
    "rurb_results['predictions']['urban']['mean_y_hat'] = rurb_results['predictions']['urban'][pred_vars].mean(axis = 1)\n",
    "\n",
    "r2_urban = {\n",
    "    'mean': np.mean(rurb_results['within_r2']['urban']),\n",
    "    'se': np.std(rurb_results['within_r2']['urban'])/np.sqrt(10)\n",
    "}\n",
    "\n",
    "r2_rural = {\n",
    "    'mean': np.mean(rurb_results['within_r2']['rural']),\n",
    "    'se': np.std(rurb_results['within_r2']['rural'])/np.sqrt(10)\n",
    "}"
   ]
  },
  {
   "cell_type": "code",
   "execution_count": 12,
   "id": "502a0a4d",
   "metadata": {},
   "outputs": [],
   "source": [
    "pth = 'results/robustness/pre_post.pkl'\n",
    "with open(pth, 'rb') as f:\n",
    "    pre_post_results = pickle.load(f)\n",
    "\n",
    "pred_vars = ['y_hat_' + str(i) for i in range(10)]\n",
    "pre_post_results['predictions']['pre']['mean_y_hat'] = pre_post_results['predictions']['pre'][pred_vars].mean(axis = 1)\n",
    "pre_post_results['predictions']['post']['mean_y_hat'] = pre_post_results['predictions']['post'][pred_vars].mean(axis = 1)\n",
    "\n",
    "r2_pre = {\n",
    "    'mean': np.mean(pre_post_results['within_r2']['pre']),\n",
    "    'se': np.std(pre_post_results['within_r2']['pre'])/np.sqrt(10)\n",
    "}\n",
    "\n",
    "r2_post = {\n",
    "    'mean': np.mean(pre_post_results['within_r2']['post']),\n",
    "    'se': np.std(pre_post_results['within_r2']['post'])/np.sqrt(10)\n",
    "}\n"
   ]
  },
  {
   "cell_type": "code",
   "execution_count": 13,
   "id": "a64916bb",
   "metadata": {},
   "outputs": [],
   "source": [
    "# load the min years results\n",
    "pth = 'results/robustness/min_years.pkl'\n",
    "with open(pth, 'rb') as f:\n",
    "    min_years_results = pickle.load(f)\n",
    "    \n",
    "pred_vars = ['y_hat_' + str(i) for i in range(10)]\n",
    "min_years_results['predictions']['min_1_years']['mean_y_hat'] = min_years_results['predictions']['min_1_years'][pred_vars].mean(axis = 1)\n",
    "min_years_results['predictions']['min_2_years']['mean_y_hat'] = min_years_results['predictions']['min_2_years'][pred_vars].mean(axis = 1)\n",
    "\n",
    "r2_min_1 = {\n",
    "    'mean': np.mean(min_years_results['within_r2']['min_1_years']),\n",
    "    'se': np.std(min_years_results['within_r2']['min_1_years'])/np.sqrt(10)\n",
    "}\n",
    "\n",
    "r2_min_2 = {\n",
    "    'mean': np.mean(min_years_results['within_r2']['min_2_years']),\n",
    "    'se': np.std(min_years_results['within_r2']['min_2_years'])/np.sqrt(10)\n",
    "}"
   ]
  },
  {
   "cell_type": "code",
   "execution_count": 14,
   "id": "81c6cf91",
   "metadata": {},
   "outputs": [],
   "source": [
    "plot_vals = [\n",
    "    (pre_post_results['predictions']['pre']['y'], pre_post_results['predictions']['pre']['mean_y_hat']),\n",
    "    (rurb_results['predictions']['rural']['y'], rurb_results['predictions']['rural']['mean_y_hat']),\n",
    "    (min_years_results['predictions']['min_1_years']['y'], min_years_results['predictions']['min_1_years']['mean_y_hat']),\n",
    "    (pre_post_results['predictions']['post']['y'], pre_post_results['predictions']['post']['mean_y_hat']),\n",
    "    (rurb_results['predictions']['urban']['y'], rurb_results['predictions']['urban']['mean_y_hat']),\n",
    "    (min_years_results['predictions']['min_2_years']['y'], min_years_results['predictions']['min_2_years']['mean_y_hat'])\n",
    "]"
   ]
  },
  {
   "cell_type": "code",
   "execution_count": 15,
   "id": "72b3cec0",
   "metadata": {},
   "outputs": [],
   "source": [
    "r2_vals = [\n",
    "    r2_pre,\n",
    "    r2_rural,\n",
    "    r2_min_1,\n",
    "    r2_post, \n",
    "    r2_urban, \n",
    "    r2_min_2\n",
    "]"
   ]
  },
  {
   "cell_type": "code",
   "execution_count": 16,
   "id": "4015492f",
   "metadata": {},
   "outputs": [],
   "source": [
    "N_vals = [\n",
    "    pre_post_results['n']['pre'],\n",
    "    rurb_results['n']['rural'],\n",
    "    min_years_results['n']['min_1_years'],\n",
    "    pre_post_results['n']['post'],\n",
    "    rurb_results['n']['urban'],\n",
    "    min_years_results['n']['min_2_years']\n",
    "]"
   ]
  },
  {
   "cell_type": "code",
   "execution_count": 28,
   "id": "fe5c9537",
   "metadata": {},
   "outputs": [
    {
     "data": {
      "image/png": "[encoded data removed]",
      "text/plain": [
       "<Figure size 1200x800 with 6 Axes>"
      ]
     },
     "metadata": {},
     "output_type": "display_data"
    }
   ],
   "source": [
    "# make the actual plot\n",
    "fig, axes = plt.subplots(2,3, figsize=(12, 8), sharex = True, sharey = True)\n",
    "titles = ['Pre 2013','Rural', 'Min 2 Years', 'Post 2013','Urban', 'Min 3 Years']\n",
    "letters = ['A','C','E','B','D','F']\n",
    "for idx, ax in enumerate(axes.flatten()):\n",
    "    vals = plot_vals[idx]\n",
    "    y = vals[0]\n",
    "    y_hat = vals[1]\n",
    "    r2 = r2_vals[idx]\n",
    "    ax.scatter(y_hat, y, s = 1)\n",
    "    #ax.plot([min(y_hat), max(y_hat)], [min(y_hat), max(y_hat)], color='red', linestyle='--')  # Line of perfect correlation\n",
    "    ax.plot([-.2, .2], [-.2, .2], color='red', linestyle='--')  # Line of perfect correlation\n",
    "\n",
    "    ax.set_ylim(ymin = -1, ymax = 1)\n",
    "    ax.set_xlim(xmin = -.2, xmax = .2)\n",
    "\n",
    "    ax.set_title(titles[idx], size = 16)\n",
    "    ax.spines[['right', 'top']].set_visible(False)\n",
    "    \n",
    "    \n",
    "    # Add text in the top right corner\n",
    "    text_x = 0.97  # Adjust this value for horizontal positioning\n",
    "    text_y = 0.97  # Adjust this value for vertical positioning\n",
    "    txt = f\"$R^2_W = {np.round(r2['mean'], 4)}$\"\n",
    "    ax.text(text_x, text_y, txt, transform=ax.transAxes,\n",
    "            fontsize=14, va='top', ha='right', backgroundcolor='white')\n",
    "\n",
    "    text_y = 0.88\n",
    "    se_txt = f\"$SE = {np.round(r2['se'], 4)}$\"\n",
    "    ax.text(text_x, text_y, se_txt, transform=ax.transAxes,\n",
    "            fontsize=10, va='top', ha='right', backgroundcolor='white')\n",
    " \n",
    "    text_y = 0.82\n",
    "    n_txt = f\"$N = {N_vals[idx]}$\"\n",
    "    ax.text(text_x, text_y, n_txt, transform=ax.transAxes,\n",
    "            fontsize=10, va='top', ha='right', backgroundcolor='white')\n",
    "    \n",
    "    text_y = 1.02\n",
    "    text_x = 0\n",
    "    ax.text(text_x, text_y, letters[idx], transform=ax.transAxes, weight='bold')\n",
    "\n",
    "\n",
    "\n",
    "plt.tight_layout()\n",
    "\n",
    "fig.text(0.5, -.02, \"Predicted values \", ha=\"center\", size = 16)\n",
    "fig.text(0.5, -.045, \"demeaned log consumption expenditure (\\$/pc/day)\", ha=\"center\", size = 14)\n",
    "\n",
    "fig.text(-.02, 0.5, \"Ground truth values\", va=\"center\", rotation=\"vertical\", size = 16)\n",
    "fig.text(0, 0.5, \"demeaned log consumption expenditure (\\$/pc/day)\", va=\"center\", rotation=\"vertical\", size = 14)\n",
    "\n",
    "# Add spacing between subplots\n",
    "\n",
    "plt.savefig('../figures/results/robustness_predictions.png', dpi = 300, bbox_inches = 'tight')\n",
    "# Show the plot\n",
    "plt.show()\n"
   ]
  },
  {
   "cell_type": "code",
   "execution_count": null,
   "id": "6f3aca13",
   "metadata": {},
   "outputs": [],
   "source": []
  }
 ],
 "metadata": {
  "kernelspec": {
   "display_name": "Python 3 (ipykernel)",
   "language": "python",
   "name": "python3"
  },
  "language_info": {
   "codemirror_mode": {
    "name": "ipython",
    "version": 3
   },
   "file_extension": ".py",
   "mimetype": "text/x-python",
   "name": "python",
   "nbconvert_exporter": "python",
   "pygments_lexer": "ipython3",
   "version": "3.10.12"
  }
 },
 "nbformat": 4,
 "nbformat_minor": 5
}
