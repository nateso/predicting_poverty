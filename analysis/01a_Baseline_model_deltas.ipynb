{
 "cells": [
  {
   "cell_type": "markdown",
   "id": "37007fa4",
   "metadata": {},
   "source": [
    "# Between model\n",
    "This model takes as input any variable that is static, that is the OSM variables, ESA Landcover variables and the WSF variables. Moreover, it takes the mean over all dynamic variables. The dynamic variables include Nightlights, NDVI, and NDWI_Gao as well as NDWI_McF. \n",
    "\n",
    "The idea is that the between model captures variation between clusters and thus the target variable for the between model is $\\bar{w}_c = \\frac{1}{T_c}\\sum_t^{T_c} w_{c,t}$ "
   ]
  },
  {
   "cell_type": "markdown",
   "id": "f948ff7f",
   "metadata": {},
   "source": [
    "# Within model\n",
    "To augment the number of training observations, I train the model on deltas, rather than on the demeaned variables. This substantially increases the number of training observations and covers a wider range of differences, making the training dataset more versatile and robust. Ideally, this helps to learn from a wider range of differences and thus increases the out-of-sample when predicting $\\tilde{\\boldsymbol{w}}_{ct}$."
   ]
  },
  {
   "cell_type": "code",
   "execution_count": 21,
   "id": "7b9ca298",
   "metadata": {},
   "outputs": [],
   "source": [
    "import pandas as pd\n",
    "import matplotlib.pyplot as plt\n",
    "import matplotlib\n",
    "import pickle\n",
    "from sklearn.metrics import r2_score\n",
    "from sklearn.metrics import mean_squared_error"
   ]
  },
  {
   "cell_type": "code",
   "execution_count": 22,
   "id": "8c8bc3ff",
   "metadata": {},
   "outputs": [],
   "source": [
    "# load the necessary functions from the analysis package\n",
    "\n",
    "# load the variable names, this allows to access the variables in the feature data in a compact way\n",
    "from analysis_utils.variable_names import *\n",
    "\n",
    "# load flagged ids \n",
    "from analysis_utils.flagged_uids import *\n",
    "\n",
    "# load the functions to do spatial k-fold CV\n",
    "from analysis_utils.spatial_CV import *\n",
    "\n",
    "# load the helper functions\n",
    "from analysis_utils.analysis_helpers import *\n",
    "\n",
    "# load the random forest trainer and cross_validator\n",
    "import analysis_utils.RandomForest as rf\n",
    "\n",
    "# load the combien model\n",
    "from analysis_utils.CombinedModel import CombinedModel"
   ]
  },
  {
   "cell_type": "code",
   "execution_count": 23,
   "id": "739dc09b",
   "metadata": {},
   "outputs": [],
   "source": [
    "# set the global file paths\n",
    "root_data_dir = \"../../Data\"\n",
    "\n",
    "# the lsms data\n",
    "lsms_pth = f\"{root_data_dir}/lsms/processed/labels_cluster_v1.csv\"\n",
    "\n",
    "# the feature data\n",
    "feat_data_pth = f\"{root_data_dir}/feature_data/tabular_data.csv\"\n",
    "\n",
    "# set the random seed\n",
    "random_seed = 423\n",
    "spatial_cv_random_seed = 348\n",
    "\n",
    "# set the number of folds for k-fold CV\n",
    "n_folds = 5"
   ]
  },
  {
   "cell_type": "code",
   "execution_count": 24,
   "id": "c468b531",
   "metadata": {},
   "outputs": [
    {
     "name": "stdout",
     "output_type": "stream",
     "text": [
      "Number of observations 6401\n",
      "Number of clusters 2128\n",
      "Number of x vars 113\n"
     ]
    }
   ],
   "source": [
    "# load the feature and the label data\n",
    "lsms_df = pd.read_csv(lsms_pth)\n",
    "# remove flagged ids form dataset\n",
    "lsms_df = lsms_df[~lsms_df.unique_id.isin(flagged_uids)].reset_index()\n",
    "lsms_df['delta_id'] = lsms_df.unique_id\n",
    "lsms_df['avg_log_mean_pc_cons_usd_2017'] = lsms_df.groupby('cluster_id')['log_mean_pc_cons_usd_2017'].transform('mean')\n",
    "lsms_df['avg_mean_asset_index_yeh'] = lsms_df.groupby('cluster_id')['mean_asset_index_yeh'].transform('mean')\n",
    "feat_df = pd.read_csv(feat_data_pth)\n",
    "\n",
    "# describe the training data broadly\n",
    "print(f\"Number of observations {len(lsms_df)}\")\n",
    "print(f\"Number of clusters {len(np.unique(lsms_df.cluster_id))}\")\n",
    "print(f\"Number of x vars {len(feat_df.columns)-2}\")"
   ]
  },
  {
   "cell_type": "code",
   "execution_count": 25,
   "id": "111de106",
   "metadata": {},
   "outputs": [],
   "source": [
    "# merge the label and the feature data to one dataset\n",
    "lsms_vars = ['unique_id', 'n_households',           \n",
    "             'log_mean_pc_cons_usd_2017', 'avg_log_mean_pc_cons_usd_2017',\n",
    "             'mean_asset_index_yeh', 'avg_mean_asset_index_yeh']\n",
    "df = pd.merge(lsms_df[lsms_vars], feat_df, on = 'unique_id', how = 'left')"
   ]
  },
  {
   "cell_type": "markdown",
   "id": "7b24eb66",
   "metadata": {},
   "source": [
    "# Run Training"
   ]
  },
  {
   "cell_type": "code",
   "execution_count": 26,
   "id": "4ec39c76",
   "metadata": {},
   "outputs": [],
   "source": [
    "# define the within and between x variables\n",
    "avg_rs_vars = avg_ndvi_vars + avg_ndwi_gao_vars + avg_nl_vars\n",
    "osm_vars = osm_dist_vars + osm_count_vars + osm_road_vars\n",
    "\n",
    "between_x_vars = osm_vars + esa_lc_vars + wsf_vars + avg_rs_vars + avg_preciptiation\n",
    "\n",
    "dyn_rs_vars = dyn_ndvi_vars + dyn_ndwi_gao_vars + dyn_nl_vars\n",
    "within_x_vars = dyn_rs_vars + precipitation"
   ]
  },
  {
   "cell_type": "markdown",
   "id": "2bbec1fc",
   "metadata": {},
   "source": [
    "### Target: Log per capita consumption"
   ]
  },
  {
   "cell_type": "code",
   "execution_count": 27,
   "id": "bda1dc59",
   "metadata": {},
   "outputs": [],
   "source": [
    "between_target_var = 'avg_log_mean_pc_cons_usd_2017'\n",
    "cl_df = df[['cluster_id', between_target_var] + between_x_vars].drop_duplicates().reset_index(drop = True)\n",
    "\n",
    "# normalise the feature data\n",
    "cl_df_norm = standardise_df(cl_df, exclude_cols = [between_target_var])"
   ]
  },
  {
   "cell_type": "code",
   "execution_count": 29,
   "id": "6f429484",
   "metadata": {},
   "outputs": [
    {
     "name": "stdout",
     "output_type": "stream",
     "text": [
      "Creating Delta df\n"
     ]
    },
    {
     "data": {
      "application/vnd.jupyter.widget-view+json": {
       "model_id": "29c203bf6ee949809d625e872bd506fa",
       "version_major": 2,
       "version_minor": 0
      },
      "text/plain": [
       "  0%|          | 0/2128 [00:00<?, ?it/s]"
      ]
     },
     "metadata": {},
     "output_type": "display_data"
    },
    {
     "name": "stdout",
     "output_type": "stream",
     "text": [
      "Number of observations in delta df: 8600\n"
     ]
    }
   ],
   "source": [
    "# get the within dataframe\n",
    "# define the within variables\n",
    "within_target_var = 'log_mean_pc_cons_usd_2017'\n",
    "within_df = df[['cluster_id','unique_id', within_target_var] + within_x_vars]\n",
    "\n",
    "# create a delta df\n",
    "demeaned_df = demean_df(within_df)\n",
    "print(\"Creating Delta df\")\n",
    "delta_df = make_delta_df(within_df)\n",
    "\n",
    "# combine the delta df, with the demeaned df\n",
    "demeaned_df = demeaned_df.rename(columns = {'unique_id': 'delta_id'})\n",
    "delta_dmn_df = pd.concat([delta_df, demeaned_df]).reset_index(drop = True)\n",
    "delta_dmn_df_norm = standardise_df(delta_dmn_df, exclude_cols = [within_target_var])\n",
    "\n",
    "# subset the normalised dataframe into the demeaned data (used in validation) and the delta data (used in training)\n",
    "demeaned_df_norm = delta_dmn_df_norm[delta_dmn_df_norm.delta_id.isin(demeaned_df.delta_id)].copy().reset_index(drop = True)\n",
    "delta_df_norm = delta_dmn_df_norm[delta_dmn_df_norm.delta_id.isin(delta_df.delta_id)].copy().reset_index(drop = True)\n",
    "\n",
    "print(f\"Number of observations in delta df: {len(delta_df_norm)}\")"
   ]
  },
  {
   "cell_type": "code",
   "execution_count": 9,
   "id": "bc87ce90",
   "metadata": {},
   "outputs": [
    {
     "name": "stdout",
     "output_type": "stream",
     "text": [
      "====================================================================================================\n",
      "Iteration 0\n",
      "====================================================================================================\n",
      "Fold 0, specified test ratio: 0.2 - Actual test ratio 0.20\n",
      "Fold 1, specified test ratio: 0.2 - Actual test ratio 0.20\n",
      "Fold 2, specified test ratio: 0.2 - Actual test ratio 0.21\n",
      "Fold 3, specified test ratio: 0.2 - Actual test ratio 0.20\n",
      "Fold 4, specified test ratio: 0.2 - Actual test ratio 0.19\n",
      "Between training\n",
      "Initialising training\n"
     ]
    },
    {
     "data": {
      "application/vnd.jupyter.widget-view+json": {
       "model_id": "7eba74e0fbbf484aa0a57558b3eb25ef",
       "version_major": 2,
       "version_minor": 0
      },
      "text/plain": [
       "  0%|          | 0/5 [00:00<?, ?it/s]"
      ]
     },
     "metadata": {},
     "output_type": "display_data"
    },
    {
     "name": "stdout",
     "output_type": "stream",
     "text": [
      "Finished training after 179 seconds\n",
      "\n",
      "Within training\n",
      "Initialising training\n"
     ]
    },
    {
     "data": {
      "application/vnd.jupyter.widget-view+json": {
       "model_id": "019deb505309466fa9a183bc97cee125",
       "version_major": 2,
       "version_minor": 0
      },
      "text/plain": [
       "  0%|          | 0/5 [00:00<?, ?it/s]"
      ]
     },
     "metadata": {},
     "output_type": "display_data"
    },
    {
     "name": "stdout",
     "output_type": "stream",
     "text": [
      "Finished training after 537 seconds\n",
      "....................................................................................................\n",
      "{'r2': {'overall': 0.3763864542088609, 'between': 0.47766405472198875, 'within': -0.018147430388866438}, 'mse': {'overall': 0.21855888779176405, 'between': 0.1524115651385797, 'within': 0.17773319230114065}}\n",
      "-0.01837167233755093\n",
      "....................................................................................................\n",
      "====================================================================================================\n",
      "Iteration 1\n",
      "====================================================================================================\n",
      "Fold 0, specified test ratio: 0.2 - Actual test ratio 0.20\n",
      "Fold 1, specified test ratio: 0.2 - Actual test ratio 0.20\n",
      "Fold 2, specified test ratio: 0.2 - Actual test ratio 0.20\n",
      "Fold 3, specified test ratio: 0.2 - Actual test ratio 0.20\n",
      "Fold 4, specified test ratio: 0.2 - Actual test ratio 0.19\n",
      "Between training\n",
      "Initialising training\n"
     ]
    },
    {
     "data": {
      "application/vnd.jupyter.widget-view+json": {
       "model_id": "ec05139ba11e4f8389ec027d1fececdf",
       "version_major": 2,
       "version_minor": 0
      },
      "text/plain": [
       "  0%|          | 0/5 [00:00<?, ?it/s]"
      ]
     },
     "metadata": {},
     "output_type": "display_data"
    },
    {
     "name": "stdout",
     "output_type": "stream",
     "text": [
      "Finished training after 202 seconds\n",
      "\n",
      "Within training\n",
      "Initialising training\n"
     ]
    },
    {
     "data": {
      "application/vnd.jupyter.widget-view+json": {
       "model_id": "2586d382a1e547cea8ceb3742e2a7ed5",
       "version_major": 2,
       "version_minor": 0
      },
      "text/plain": [
       "  0%|          | 0/5 [00:00<?, ?it/s]"
      ]
     },
     "metadata": {},
     "output_type": "display_data"
    },
    {
     "name": "stdout",
     "output_type": "stream",
     "text": [
      "Finished training after 514 seconds\n",
      "....................................................................................................\n",
      "{'r2': {'overall': 0.3495235633569438, 'between': 0.452485541188437, 'within': -0.012277494170292492}, 'mse': {'overall': 0.21732390022132173, 'between': 0.15160646232075717, 'within': 0.17667340605795692}}\n",
      "-0.011787398455365087\n",
      "....................................................................................................\n",
      "====================================================================================================\n",
      "Iteration 2\n",
      "====================================================================================================\n",
      "Fold 0, specified test ratio: 0.2 - Actual test ratio 0.20\n",
      "Fold 1, specified test ratio: 0.2 - Actual test ratio 0.20\n",
      "Fold 2, specified test ratio: 0.2 - Actual test ratio 0.20\n",
      "Fold 3, specified test ratio: 0.2 - Actual test ratio 0.20\n",
      "Fold 4, specified test ratio: 0.2 - Actual test ratio 0.18\n",
      "Between training\n",
      "Initialising training\n"
     ]
    },
    {
     "data": {
      "application/vnd.jupyter.widget-view+json": {
       "model_id": "d31a33b414f54ff2becd90335618ae0a",
       "version_major": 2,
       "version_minor": 0
      },
      "text/plain": [
       "  0%|          | 0/5 [00:00<?, ?it/s]"
      ]
     },
     "metadata": {},
     "output_type": "display_data"
    },
    {
     "name": "stdout",
     "output_type": "stream",
     "text": [
      "Finished training after 192 seconds\n",
      "\n",
      "Within training\n",
      "Initialising training\n"
     ]
    },
    {
     "data": {
      "application/vnd.jupyter.widget-view+json": {
       "model_id": "95c78e7e1a224af98e7c30ad5f4fc6d4",
       "version_major": 2,
       "version_minor": 0
      },
      "text/plain": [
       "  0%|          | 0/5 [00:00<?, ?it/s]"
      ]
     },
     "metadata": {},
     "output_type": "display_data"
    },
    {
     "name": "stdout",
     "output_type": "stream",
     "text": [
      "Finished training after 459 seconds\n",
      "....................................................................................................\n",
      "{'r2': {'overall': 0.3716137957526419, 'between': 0.4813245441294979, 'within': -0.016225160545617224}, 'mse': {'overall': 0.21661935955761408, 'between': 0.1498122983236336, 'within': 0.17672298239763898}}\n",
      "-0.014957765237514157\n",
      "....................................................................................................\n",
      "====================================================================================================\n",
      "Iteration 3\n",
      "====================================================================================================\n",
      "Fold 0, specified test ratio: 0.2 - Actual test ratio 0.21\n",
      "Fold 1, specified test ratio: 0.2 - Actual test ratio 0.20\n",
      "Fold 2, specified test ratio: 0.2 - Actual test ratio 0.21\n",
      "Fold 3, specified test ratio: 0.2 - Actual test ratio 0.20\n",
      "Fold 4, specified test ratio: 0.2 - Actual test ratio 0.17\n",
      "Between training\n",
      "Initialising training\n"
     ]
    },
    {
     "data": {
      "application/vnd.jupyter.widget-view+json": {
       "model_id": "6139029a67764c22a47800bd9b13e6e0",
       "version_major": 2,
       "version_minor": 0
      },
      "text/plain": [
       "  0%|          | 0/5 [00:00<?, ?it/s]"
      ]
     },
     "metadata": {},
     "output_type": "display_data"
    },
    {
     "name": "stdout",
     "output_type": "stream",
     "text": [
      "Finished training after 239 seconds\n",
      "\n",
      "Within training\n",
      "Initialising training\n"
     ]
    },
    {
     "data": {
      "application/vnd.jupyter.widget-view+json": {
       "model_id": "d21f3bc8b78945f3a20cadee24ba6b33",
       "version_major": 2,
       "version_minor": 0
      },
      "text/plain": [
       "  0%|          | 0/5 [00:00<?, ?it/s]"
      ]
     },
     "metadata": {},
     "output_type": "display_data"
    },
    {
     "name": "stdout",
     "output_type": "stream",
     "text": [
      "Finished training after 493 seconds\n",
      "....................................................................................................\n",
      "{'r2': {'overall': 0.34588323540456706, 'between': 0.4505660670254869, 'within': -0.023601695595994787}, 'mse': {'overall': 0.2211368492023913, 'between': 0.15350490870634637, 'within': 0.17818656664942661}}\n",
      "-0.026701200863838717\n",
      "....................................................................................................\n",
      "====================================================================================================\n",
      "Iteration 4\n",
      "====================================================================================================\n",
      "Fold 0, specified test ratio: 0.2 - Actual test ratio 0.23\n",
      "Fold 1, specified test ratio: 0.2 - Actual test ratio 0.20\n",
      "Fold 2, specified test ratio: 0.2 - Actual test ratio 0.20\n",
      "Fold 3, specified test ratio: 0.2 - Actual test ratio 0.20\n",
      "Fold 4, specified test ratio: 0.2 - Actual test ratio 0.16\n",
      "Between training\n",
      "Initialising training\n"
     ]
    },
    {
     "data": {
      "application/vnd.jupyter.widget-view+json": {
       "model_id": "283527d3affb4caebdbe37108ef71956",
       "version_major": 2,
       "version_minor": 0
      },
      "text/plain": [
       "  0%|          | 0/5 [00:00<?, ?it/s]"
      ]
     },
     "metadata": {},
     "output_type": "display_data"
    },
    {
     "name": "stdout",
     "output_type": "stream",
     "text": [
      "Finished training after 201 seconds\n",
      "\n",
      "Within training\n",
      "Initialising training\n"
     ]
    },
    {
     "data": {
      "application/vnd.jupyter.widget-view+json": {
       "model_id": "5f44beec832644b0a844559576283860",
       "version_major": 2,
       "version_minor": 0
      },
      "text/plain": [
       "  0%|          | 0/5 [00:00<?, ?it/s]"
      ]
     },
     "metadata": {},
     "output_type": "display_data"
    },
    {
     "name": "stdout",
     "output_type": "stream",
     "text": [
      "Finished training after 457 seconds\n",
      "....................................................................................................\n",
      "{'r2': {'overall': 0.35446774796551483, 'between': 0.4578227552495696, 'within': -0.023408558546974923}, 'mse': {'overall': 0.2196834554270559, 'between': 0.15318111256398848, 'within': 0.17760864142573343}}\n",
      "-0.02459103393354441\n",
      "....................................................................................................\n",
      "====================================================================================================\n",
      "Iteration 5\n",
      "====================================================================================================\n",
      "Fold 0, specified test ratio: 0.2 - Actual test ratio 0.26\n",
      "Fold 1, specified test ratio: 0.2 - Actual test ratio 0.21\n",
      "Fold 2, specified test ratio: 0.2 - Actual test ratio 0.20\n",
      "Fold 3, specified test ratio: 0.2 - Actual test ratio 0.20\n",
      "Fold 4, specified test ratio: 0.2 - Actual test ratio 0.13\n",
      "Between training\n",
      "Initialising training\n"
     ]
    },
    {
     "data": {
      "application/vnd.jupyter.widget-view+json": {
       "model_id": "bdb37b98de7a47f9a5af0e9e7ffab561",
       "version_major": 2,
       "version_minor": 0
      },
      "text/plain": [
       "  0%|          | 0/5 [00:00<?, ?it/s]"
      ]
     },
     "metadata": {},
     "output_type": "display_data"
    },
    {
     "name": "stdout",
     "output_type": "stream",
     "text": [
      "Finished training after 285 seconds\n",
      "\n",
      "Within training\n",
      "Initialising training\n"
     ]
    },
    {
     "data": {
      "application/vnd.jupyter.widget-view+json": {
       "model_id": "3f3706d54c8d4182951147febfd4ea93",
       "version_major": 2,
       "version_minor": 0
      },
      "text/plain": [
       "  0%|          | 0/5 [00:00<?, ?it/s]"
      ]
     },
     "metadata": {},
     "output_type": "display_data"
    },
    {
     "name": "stdout",
     "output_type": "stream",
     "text": [
      "Finished training after 489 seconds\n",
      "....................................................................................................\n",
      "{'r2': {'overall': 0.36979817878179694, 'between': 0.4720337870786768, 'within': -0.007958044346077098}, 'mse': {'overall': 0.2130593824690269, 'between': 0.14889884901028436, 'within': 0.17710141692399145}}\n",
      "-0.008216404224330776\n",
      "....................................................................................................\n",
      "====================================================================================================\n",
      "Iteration 6\n",
      "====================================================================================================\n",
      "Fold 0, specified test ratio: 0.2 - Actual test ratio 0.21\n",
      "Fold 1, specified test ratio: 0.2 - Actual test ratio 0.20\n",
      "Fold 2, specified test ratio: 0.2 - Actual test ratio 0.20\n",
      "Fold 3, specified test ratio: 0.2 - Actual test ratio 0.20\n",
      "Fold 4, specified test ratio: 0.2 - Actual test ratio 0.18\n",
      "Between training\n",
      "Initialising training\n"
     ]
    },
    {
     "data": {
      "application/vnd.jupyter.widget-view+json": {
       "model_id": "791306dc326547f187b85e1a78e8bf49",
       "version_major": 2,
       "version_minor": 0
      },
      "text/plain": [
       "  0%|          | 0/5 [00:00<?, ?it/s]"
      ]
     },
     "metadata": {},
     "output_type": "display_data"
    },
    {
     "name": "stdout",
     "output_type": "stream",
     "text": [
      "Finished training after 208 seconds\n",
      "\n",
      "Within training\n",
      "Initialising training\n"
     ]
    },
    {
     "data": {
      "application/vnd.jupyter.widget-view+json": {
       "model_id": "279a5d6ff70740adada5f1323fea313f",
       "version_major": 2,
       "version_minor": 0
      },
      "text/plain": [
       "  0%|          | 0/5 [00:00<?, ?it/s]"
      ]
     },
     "metadata": {},
     "output_type": "display_data"
    },
    {
     "name": "stdout",
     "output_type": "stream",
     "text": [
      "Finished training after 502 seconds\n",
      "....................................................................................................\n",
      "{'r2': {'overall': 0.3773823236854457, 'between': 0.47962406763698506, 'within': -0.010330839825649063}, 'mse': {'overall': 0.21611518384921077, 'between': 0.14960635985083662, 'within': 0.17671986682500754}}\n",
      "-0.01245741625766459\n",
      "....................................................................................................\n",
      "====================================================================================================\n",
      "Iteration 7\n",
      "====================================================================================================\n",
      "Fold 0, specified test ratio: 0.2 - Actual test ratio 0.25\n",
      "Fold 1, specified test ratio: 0.2 - Actual test ratio 0.20\n",
      "Fold 2, specified test ratio: 0.2 - Actual test ratio 0.20\n",
      "Fold 3, specified test ratio: 0.2 - Actual test ratio 0.20\n",
      "Fold 4, specified test ratio: 0.2 - Actual test ratio 0.14\n",
      "Between training\n",
      "Initialising training\n"
     ]
    },
    {
     "data": {
      "application/vnd.jupyter.widget-view+json": {
       "model_id": "f3a80afd8d12446dae0482f3eb370ac4",
       "version_major": 2,
       "version_minor": 0
      },
      "text/plain": [
       "  0%|          | 0/5 [00:00<?, ?it/s]"
      ]
     },
     "metadata": {},
     "output_type": "display_data"
    },
    {
     "name": "stdout",
     "output_type": "stream",
     "text": [
      "Finished training after 209 seconds\n",
      "\n",
      "Within training\n",
      "Initialising training\n"
     ]
    },
    {
     "data": {
      "application/vnd.jupyter.widget-view+json": {
       "model_id": "ca9cff83010741a3a237885e743c793e",
       "version_major": 2,
       "version_minor": 0
      },
      "text/plain": [
       "  0%|          | 0/5 [00:00<?, ?it/s]"
      ]
     },
     "metadata": {},
     "output_type": "display_data"
    },
    {
     "name": "stdout",
     "output_type": "stream",
     "text": [
      "Finished training after 458 seconds\n",
      "....................................................................................................\n",
      "{'r2': {'overall': 0.3592767530577625, 'between': 0.4667590487192104, 'within': -0.010001587050515393}, 'mse': {'overall': 0.21389137481011844, 'between': 0.1494449647477894, 'within': 0.17684032779804568}}\n",
      "-0.011000974591502065\n",
      "....................................................................................................\n",
      "====================================================================================================\n",
      "Iteration 8\n",
      "====================================================================================================\n",
      "Fold 0, specified test ratio: 0.2 - Actual test ratio 0.23\n",
      "Fold 1, specified test ratio: 0.2 - Actual test ratio 0.20\n",
      "Fold 2, specified test ratio: 0.2 - Actual test ratio 0.20\n",
      "Fold 3, specified test ratio: 0.2 - Actual test ratio 0.20\n",
      "Fold 4, specified test ratio: 0.2 - Actual test ratio 0.16\n",
      "Between training\n",
      "Initialising training\n"
     ]
    },
    {
     "data": {
      "application/vnd.jupyter.widget-view+json": {
       "model_id": "0dbcf053fa3547c183c5f5b1a8c1f542",
       "version_major": 2,
       "version_minor": 0
      },
      "text/plain": [
       "  0%|          | 0/5 [00:00<?, ?it/s]"
      ]
     },
     "metadata": {},
     "output_type": "display_data"
    },
    {
     "name": "stdout",
     "output_type": "stream",
     "text": [
      "Finished training after 201 seconds\n",
      "\n",
      "Within training\n",
      "Initialising training\n"
     ]
    },
    {
     "data": {
      "application/vnd.jupyter.widget-view+json": {
       "model_id": "4bf99f51ed2445e3ae6dea8ae23204dd",
       "version_major": 2,
       "version_minor": 0
      },
      "text/plain": [
       "  0%|          | 0/5 [00:00<?, ?it/s]"
      ]
     },
     "metadata": {},
     "output_type": "display_data"
    },
    {
     "name": "stdout",
     "output_type": "stream",
     "text": [
      "Finished training after 521 seconds\n",
      "....................................................................................................\n",
      "{'r2': {'overall': 0.35940032268522154, 'between': 0.46790376125867494, 'within': -0.010115951292006774}, 'mse': {'overall': 0.2170716853334766, 'between': 0.15123758738520723, 'within': 0.17479998790640833}}\n",
      "-0.01166933405764155\n",
      "....................................................................................................\n",
      "====================================================================================================\n",
      "Iteration 9\n",
      "====================================================================================================\n",
      "Fold 0, specified test ratio: 0.2 - Actual test ratio 0.21\n",
      "Fold 1, specified test ratio: 0.2 - Actual test ratio 0.20\n",
      "Fold 2, specified test ratio: 0.2 - Actual test ratio 0.20\n",
      "Fold 3, specified test ratio: 0.2 - Actual test ratio 0.20\n",
      "Fold 4, specified test ratio: 0.2 - Actual test ratio 0.19\n",
      "Between training\n",
      "Initialising training\n"
     ]
    },
    {
     "data": {
      "application/vnd.jupyter.widget-view+json": {
       "model_id": "4a3516cd0c104a66afa5dfb35cf8ea6b",
       "version_major": 2,
       "version_minor": 0
      },
      "text/plain": [
       "  0%|          | 0/5 [00:00<?, ?it/s]"
      ]
     },
     "metadata": {},
     "output_type": "display_data"
    },
    {
     "name": "stdout",
     "output_type": "stream",
     "text": [
      "Finished training after 188 seconds\n",
      "\n",
      "Within training\n",
      "Initialising training\n"
     ]
    },
    {
     "data": {
      "application/vnd.jupyter.widget-view+json": {
       "model_id": "5be6959a5b204dee828184e17aaed9a8",
       "version_major": 2,
       "version_minor": 0
      },
      "text/plain": [
       "  0%|          | 0/5 [00:00<?, ?it/s]"
      ]
     },
     "metadata": {},
     "output_type": "display_data"
    },
    {
     "name": "stdout",
     "output_type": "stream",
     "text": [
      "Finished training after 468 seconds\n",
      "....................................................................................................\n",
      "{'r2': {'overall': 0.3645485457025137, 'between': 0.4728559804377793, 'within': -0.015896056011614923}, 'mse': {'overall': 0.21655514406445342, 'between': 0.15039117716823575, 'within': 0.1777265255708545}}\n",
      "-0.014975757597155193\n",
      "....................................................................................................\n"
     ]
    }
   ],
   "source": [
    "# run repeated cross validation\n",
    "rep_cv_res_cons = {\n",
    "    'between_r2': [],\n",
    "    'within_r2': [],\n",
    "    'delta_r2': [],\n",
    "    'overall_r2': []\n",
    "}\n",
    "\n",
    "for j in range(10):\n",
    "    print(\"=\"*100)\n",
    "    print(f\"Iteration {j}\")\n",
    "    print(\"=\"*100)\n",
    "    rep_seed = random_seed + j\n",
    "    \n",
    "    # divide the data into k different folds\n",
    "    fold_ids = split_lsms_spatial(lsms_df, n_folds = n_folds, random_seed = spatial_cv_random_seed + j)\n",
    "    \n",
    "    # run the bewtween training\n",
    "    print('Between training')\n",
    "    between_cv_trainer = rf.CrossValidator(cl_df_norm, \n",
    "                                                fold_ids, \n",
    "                                                between_target_var, \n",
    "                                                between_x_vars, \n",
    "                                                id_var = 'cluster_id', \n",
    "                                                random_seed = rep_seed)\n",
    "    between_cv_trainer.run_cv_training(min_samples_leaf = 1)\n",
    "    \n",
    "    # run the within training\n",
    "    print(\"\\nWithin training\")\n",
    "    delta_trainer = rf.CrossValidator(delta_df_norm, \n",
    "                                               fold_ids, \n",
    "                                               within_target_var, \n",
    "                                               within_x_vars, \n",
    "                                               id_var = 'delta_id', \n",
    "                                               random_seed = rep_seed)\n",
    "    delta_trainer.run_cv_training(min_samples_leaf = 15)\n",
    "    \n",
    "    # get results of the delta predictions\n",
    "    delta_res = delta_trainer.compute_overall_performance(use_fold_weights = True)\n",
    "    \n",
    "    # evaluate the delta model on the demeaned variables\n",
    "    delta_evaluator = rf.CV_Evaluator(demeaned_df_norm, fold_ids, delta_trainer, id_var = 'delta_id')\n",
    "    delta_evaluator.evaluate()\n",
    "    delta_evaluator.compute_overall_performance()\n",
    "    \n",
    "    # add the predictions to the delta_trainer\n",
    "    delta_trainer.predictions = delta_evaluator.predictions\n",
    "\n",
    "    # combine both models\n",
    "    combined_model = CombinedModel(lsms_df, between_cv_trainer, delta_trainer)\n",
    "    combined_model.evaluate()\n",
    "    combined_results = combined_model.compute_overall_performance(use_fold_weights = True)\n",
    "    \n",
    "    # store the results \n",
    "    rep_cv_res_cons['between_r2'].append(combined_results['r2']['between'])\n",
    "    rep_cv_res_cons['within_r2'].append(combined_results['r2']['within'])\n",
    "    rep_cv_res_cons['delta_r2'].append(delta_res['val_r2'])\n",
    "    rep_cv_res_cons['overall_r2'].append(combined_results['r2']['overall'])\n",
    "    \n",
    "    # print the results\n",
    "    print(\".\"*100)\n",
    "    print(combined_results)\n",
    "    print(delta_res['val_r2'])\n",
    "    print(\".\"*100)"
   ]
  },
  {
   "cell_type": "code",
   "execution_count": 10,
   "id": "49ff2ada",
   "metadata": {},
   "outputs": [],
   "source": [
    "pth = 'results/baseline/rep_cv_cons_delta.pkl'\n",
    "with open(pth, 'wb') as f:\n",
    "    pickle.dump(rep_cv_res_cons, f)"
   ]
  },
  {
   "cell_type": "code",
   "execution_count": 17,
   "id": "4f50c260",
   "metadata": {},
   "outputs": [
    {
     "name": "stdout",
     "output_type": "stream",
     "text": [
      "& 0.4679 & -0.0148 & 0.3628 & -0.0155  \\\\\n",
      "& \\footnotesize(0.0033) & \\footnotesize(0.0017) & \\footnotesize(0.0033) & \\footnotesize(0.0018)\\\\\n"
     ]
    }
   ],
   "source": [
    "pth = 'results/baseline/rep_cv_cons_delta.pkl'\n",
    "with open(pth, 'rb') as f:\n",
    "    rep_cv_res_cons = pickle.load(f)\n",
    "\n",
    "mean_r2_cons = {k: np.mean(v) for k,v in rep_cv_res_cons.items()}\n",
    "se_r2_cons = {k: np.std(v)/np.sqrt(10) for k,v in rep_cv_res_cons.items()}\n",
    "\n",
    "# print as tex\n",
    "print(f\"& {mean_r2_cons['between_r2']:.4f} & {mean_r2_cons['within_r2']:.4f} & {mean_r2_cons['overall_r2']:.4f} & {mean_r2_cons['delta_r2']:.4f}  \\\\\\\\\")\n",
    "print(f\"& \\\\footnotesize({se_r2_cons['between_r2']:.4f}) & \\\\footnotesize({se_r2_cons['within_r2']:.4f}) & \\\\footnotesize({se_r2_cons['overall_r2']:.4f}) & \\\\footnotesize({se_r2_cons['delta_r2']:.4f})\\\\\\\\\")\n"
   ]
  },
  {
   "cell_type": "code",
   "execution_count": 7,
   "id": "9fae8197",
   "metadata": {},
   "outputs": [],
   "source": [
    "pth = 'results/baseline/rep_cv_cons_delta.pkl'\n",
    "with open(pth, 'rb') as f:\n",
    "    cons_res = pickle.load(f)"
   ]
  },
  {
   "cell_type": "code",
   "execution_count": 15,
   "id": "b29caf16",
   "metadata": {},
   "outputs": [
    {
     "name": "stdout",
     "output_type": "stream",
     "text": [
      "Delta R2: -0.0155\n",
      "Delta SE: 0.0018\n"
     ]
    }
   ],
   "source": [
    "print(f\"Delta R2: {np.mean(cons_res['delta_r2']):.4f}\")\n",
    "print(f\"Delta SE: {np.std(cons_res['delta_r2'])/np.sqrt(10):.4f}\")"
   ]
  },
  {
   "cell_type": "markdown",
   "id": "eab51f96",
   "metadata": {},
   "source": [
    "### Target: Asset index"
   ]
  },
  {
   "cell_type": "code",
   "execution_count": 12,
   "id": "76884897",
   "metadata": {},
   "outputs": [],
   "source": [
    "# get a dataset that only varies at the cluster level\n",
    "between_target_var = 'avg_mean_asset_index_yeh'\n",
    "cl_df = df[['cluster_id', between_target_var] + between_x_vars].drop_duplicates().reset_index(drop = True)\n",
    "\n",
    "# normalise the feature data\n",
    "cl_df_norm = standardise_df(cl_df, exclude_cols = [between_target_var])"
   ]
  },
  {
   "cell_type": "code",
   "execution_count": 13,
   "id": "b4d70637",
   "metadata": {},
   "outputs": [
    {
     "name": "stdout",
     "output_type": "stream",
     "text": [
      "Creating Delta df\n"
     ]
    },
    {
     "data": {
      "application/vnd.jupyter.widget-view+json": {
       "model_id": "75f464077ff24addad0185610a21756a",
       "version_major": 2,
       "version_minor": 0
      },
      "text/plain": [
       "  0%|          | 0/2128 [00:00<?, ?it/s]"
      ]
     },
     "metadata": {},
     "output_type": "display_data"
    }
   ],
   "source": [
    "# define the within variables\n",
    "within_target_var = 'mean_asset_index_yeh'\n",
    "within_df = df[['cluster_id','unique_id', within_target_var] + within_x_vars]\n",
    "\n",
    "# create a delta df\n",
    "demeaned_df = demean_df(within_df)\n",
    "print(\"Creating Delta df\")\n",
    "delta_df = make_delta_df(within_df)\n",
    "\n",
    "# combine the delta df, with the demeaned df\n",
    "demeaned_df = demeaned_df.rename(columns = {'unique_id': 'delta_id'})\n",
    "delta_dmn_df = pd.concat([delta_df, demeaned_df]).reset_index(drop = True)\n",
    "delta_dmn_df_norm = standardise_df(delta_dmn_df, exclude_cols = [within_target_var])\n",
    "\n",
    "# subset the normalised dataframe into the demeaned data (used in validation) and the delta data (used in training)\n",
    "demeaned_df_norm = delta_dmn_df_norm[delta_dmn_df_norm.delta_id.isin(demeaned_df.delta_id)].copy().reset_index(drop = True)\n",
    "delta_df_norm = delta_dmn_df_norm[delta_dmn_df_norm.delta_id.isin(delta_df.delta_id)].copy().reset_index(drop = True)"
   ]
  },
  {
   "cell_type": "code",
   "execution_count": 14,
   "id": "a94e5cba",
   "metadata": {},
   "outputs": [
    {
     "name": "stdout",
     "output_type": "stream",
     "text": [
      "====================================================================================================\n",
      "Iteration 0\n",
      "====================================================================================================\n",
      "Fold 0, specified test ratio: 0.2 - Actual test ratio 0.20\n",
      "Fold 1, specified test ratio: 0.2 - Actual test ratio 0.20\n",
      "Fold 2, specified test ratio: 0.2 - Actual test ratio 0.21\n",
      "Fold 3, specified test ratio: 0.2 - Actual test ratio 0.20\n",
      "Fold 4, specified test ratio: 0.2 - Actual test ratio 0.19\n",
      "Between training\n",
      "Initialising training\n"
     ]
    },
    {
     "data": {
      "application/vnd.jupyter.widget-view+json": {
       "model_id": "7c9a0edfc6f84317bce35a3b0ea52933",
       "version_major": 2,
       "version_minor": 0
      },
      "text/plain": [
       "  0%|          | 0/5 [00:00<?, ?it/s]"
      ]
     },
     "metadata": {},
     "output_type": "display_data"
    },
    {
     "name": "stdout",
     "output_type": "stream",
     "text": [
      "Finished training after 193 seconds\n",
      "\n",
      "Within training\n",
      "Initialising training\n"
     ]
    },
    {
     "data": {
      "application/vnd.jupyter.widget-view+json": {
       "model_id": "5177e17f9e1e412ba4857550f2049f62",
       "version_major": 2,
       "version_minor": 0
      },
      "text/plain": [
       "  0%|          | 0/5 [00:00<?, ?it/s]"
      ]
     },
     "metadata": {},
     "output_type": "display_data"
    },
    {
     "name": "stdout",
     "output_type": "stream",
     "text": [
      "Finished training after 449 seconds\n",
      "....................................................................................................\n",
      "{'r2': {'overall': 0.49734093118670436, 'between': 0.5269073580780452, 'within': 0.02411204374755973}, 'mse': {'overall': 1.1166528436352692, 'between': 1.1501767333281865, 'within': 0.2558077407467569}}\n",
      "0.024820225470310948\n",
      "....................................................................................................\n",
      "====================================================================================================\n",
      "Iteration 1\n",
      "====================================================================================================\n",
      "Fold 0, specified test ratio: 0.2 - Actual test ratio 0.20\n",
      "Fold 1, specified test ratio: 0.2 - Actual test ratio 0.20\n",
      "Fold 2, specified test ratio: 0.2 - Actual test ratio 0.20\n",
      "Fold 3, specified test ratio: 0.2 - Actual test ratio 0.20\n",
      "Fold 4, specified test ratio: 0.2 - Actual test ratio 0.19\n",
      "Between training\n",
      "Initialising training\n"
     ]
    },
    {
     "data": {
      "application/vnd.jupyter.widget-view+json": {
       "model_id": "6bb9daefc33442c9a85c51024d407a5f",
       "version_major": 2,
       "version_minor": 0
      },
      "text/plain": [
       "  0%|          | 0/5 [00:00<?, ?it/s]"
      ]
     },
     "metadata": {},
     "output_type": "display_data"
    },
    {
     "name": "stdout",
     "output_type": "stream",
     "text": [
      "Finished training after 206 seconds\n",
      "\n",
      "Within training\n",
      "Initialising training\n"
     ]
    },
    {
     "data": {
      "application/vnd.jupyter.widget-view+json": {
       "model_id": "640c34d9081d4fbc8829c6d7d36ec8cb",
       "version_major": 2,
       "version_minor": 0
      },
      "text/plain": [
       "  0%|          | 0/5 [00:00<?, ?it/s]"
      ]
     },
     "metadata": {},
     "output_type": "display_data"
    },
    {
     "name": "stdout",
     "output_type": "stream",
     "text": [
      "Finished training after 552 seconds\n",
      "....................................................................................................\n",
      "{'r2': {'overall': 0.4776733904862209, 'between': 0.5141778707953452, 'within': 0.014532102738887076}, 'mse': {'overall': 1.110836571768237, 'between': 1.1323349221025276, 'within': 0.26018208370507645}}\n",
      "0.014667535840295513\n",
      "....................................................................................................\n",
      "====================================================================================================\n",
      "Iteration 2\n",
      "====================================================================================================\n",
      "Fold 0, specified test ratio: 0.2 - Actual test ratio 0.20\n",
      "Fold 1, specified test ratio: 0.2 - Actual test ratio 0.20\n",
      "Fold 2, specified test ratio: 0.2 - Actual test ratio 0.20\n",
      "Fold 3, specified test ratio: 0.2 - Actual test ratio 0.20\n",
      "Fold 4, specified test ratio: 0.2 - Actual test ratio 0.18\n",
      "Between training\n",
      "Initialising training\n"
     ]
    },
    {
     "data": {
      "application/vnd.jupyter.widget-view+json": {
       "model_id": "b20674b1360e402293aa0ce511032a14",
       "version_major": 2,
       "version_minor": 0
      },
      "text/plain": [
       "  0%|          | 0/5 [00:00<?, ?it/s]"
      ]
     },
     "metadata": {},
     "output_type": "display_data"
    },
    {
     "name": "stdout",
     "output_type": "stream",
     "text": [
      "Finished training after 184 seconds\n",
      "\n",
      "Within training\n",
      "Initialising training\n"
     ]
    },
    {
     "data": {
      "application/vnd.jupyter.widget-view+json": {
       "model_id": "335c14dbfd544804a959b5425f94c51e",
       "version_major": 2,
       "version_minor": 0
      },
      "text/plain": [
       "  0%|          | 0/5 [00:00<?, ?it/s]"
      ]
     },
     "metadata": {},
     "output_type": "display_data"
    },
    {
     "name": "stdout",
     "output_type": "stream",
     "text": [
      "Finished training after 455 seconds\n",
      "....................................................................................................\n",
      "{'r2': {'overall': 0.48983703257624556, 'between': 0.5227742028540355, 'within': 0.03592547114635547}, 'mse': {'overall': 1.113255813738592, 'between': 1.1417236269024638, 'within': 0.2543618798788891}}\n",
      "0.03588764742145118\n",
      "....................................................................................................\n",
      "====================================================================================================\n",
      "Iteration 3\n",
      "====================================================================================================\n",
      "Fold 0, specified test ratio: 0.2 - Actual test ratio 0.21\n",
      "Fold 1, specified test ratio: 0.2 - Actual test ratio 0.20\n",
      "Fold 2, specified test ratio: 0.2 - Actual test ratio 0.21\n",
      "Fold 3, specified test ratio: 0.2 - Actual test ratio 0.20\n",
      "Fold 4, specified test ratio: 0.2 - Actual test ratio 0.17\n",
      "Between training\n",
      "Initialising training\n"
     ]
    },
    {
     "data": {
      "application/vnd.jupyter.widget-view+json": {
       "model_id": "80a6e23f44204b01b8f1726a13b7ba80",
       "version_major": 2,
       "version_minor": 0
      },
      "text/plain": [
       "  0%|          | 0/5 [00:00<?, ?it/s]"
      ]
     },
     "metadata": {},
     "output_type": "display_data"
    },
    {
     "name": "stdout",
     "output_type": "stream",
     "text": [
      "Finished training after 251 seconds\n",
      "\n",
      "Within training\n",
      "Initialising training\n"
     ]
    },
    {
     "data": {
      "application/vnd.jupyter.widget-view+json": {
       "model_id": "f7e3a809919f4f84bb9a05d5b77d8023",
       "version_major": 2,
       "version_minor": 0
      },
      "text/plain": [
       "  0%|          | 0/5 [00:00<?, ?it/s]"
      ]
     },
     "metadata": {},
     "output_type": "display_data"
    },
    {
     "name": "stdout",
     "output_type": "stream",
     "text": [
      "Finished training after 468 seconds\n",
      "....................................................................................................\n",
      "{'r2': {'overall': 0.4817925602173824, 'between': 0.5084122798849106, 'within': 0.008563284832168616}, 'mse': {'overall': 1.1188688905858584, 'between': 1.1503970613830434, 'within': 0.2512048125547214}}\n",
      "0.011576087831282264\n",
      "....................................................................................................\n",
      "====================================================================================================\n",
      "Iteration 4\n",
      "====================================================================================================\n",
      "Fold 0, specified test ratio: 0.2 - Actual test ratio 0.23\n",
      "Fold 1, specified test ratio: 0.2 - Actual test ratio 0.20\n",
      "Fold 2, specified test ratio: 0.2 - Actual test ratio 0.20\n",
      "Fold 3, specified test ratio: 0.2 - Actual test ratio 0.20\n",
      "Fold 4, specified test ratio: 0.2 - Actual test ratio 0.16\n",
      "Between training\n",
      "Initialising training\n"
     ]
    },
    {
     "data": {
      "application/vnd.jupyter.widget-view+json": {
       "model_id": "d5fee54f7493454888e6e0b210b00ee6",
       "version_major": 2,
       "version_minor": 0
      },
      "text/plain": [
       "  0%|          | 0/5 [00:00<?, ?it/s]"
      ]
     },
     "metadata": {},
     "output_type": "display_data"
    },
    {
     "name": "stdout",
     "output_type": "stream",
     "text": [
      "Finished training after 227 seconds\n",
      "\n",
      "Within training\n",
      "Initialising training\n"
     ]
    },
    {
     "data": {
      "application/vnd.jupyter.widget-view+json": {
       "model_id": "61667a7977584bb58b5e0f1f227f8e52",
       "version_major": 2,
       "version_minor": 0
      },
      "text/plain": [
       "  0%|          | 0/5 [00:00<?, ?it/s]"
      ]
     },
     "metadata": {},
     "output_type": "display_data"
    },
    {
     "name": "stdout",
     "output_type": "stream",
     "text": [
      "Finished training after 487 seconds\n",
      "....................................................................................................\n",
      "{'r2': {'overall': 0.47596220629071956, 'between': 0.5032669435267736, 'within': 0.025518128616211232}, 'mse': {'overall': 1.1032535543661561, 'between': 1.1438875304998806, 'within': 0.25259616486349845}}\n",
      "0.02530934650114543\n",
      "....................................................................................................\n",
      "====================================================================================================\n",
      "Iteration 5\n",
      "====================================================================================================\n",
      "Fold 0, specified test ratio: 0.2 - Actual test ratio 0.26\n",
      "Fold 1, specified test ratio: 0.2 - Actual test ratio 0.21\n",
      "Fold 2, specified test ratio: 0.2 - Actual test ratio 0.20\n",
      "Fold 3, specified test ratio: 0.2 - Actual test ratio 0.20\n",
      "Fold 4, specified test ratio: 0.2 - Actual test ratio 0.13\n",
      "Between training\n",
      "Initialising training\n"
     ]
    },
    {
     "data": {
      "application/vnd.jupyter.widget-view+json": {
       "model_id": "c994384106f4408f95b9ecbee09bbfdf",
       "version_major": 2,
       "version_minor": 0
      },
      "text/plain": [
       "  0%|          | 0/5 [00:00<?, ?it/s]"
      ]
     },
     "metadata": {},
     "output_type": "display_data"
    },
    {
     "name": "stdout",
     "output_type": "stream",
     "text": [
      "Finished training after 218 seconds\n",
      "\n",
      "Within training\n",
      "Initialising training\n"
     ]
    },
    {
     "data": {
      "application/vnd.jupyter.widget-view+json": {
       "model_id": "939d0a30e83d4d318c541966d90c649e",
       "version_major": 2,
       "version_minor": 0
      },
      "text/plain": [
       "  0%|          | 0/5 [00:00<?, ?it/s]"
      ]
     },
     "metadata": {},
     "output_type": "display_data"
    },
    {
     "name": "stdout",
     "output_type": "stream",
     "text": [
      "Finished training after 526 seconds\n",
      "....................................................................................................\n",
      "{'r2': {'overall': 0.46220138702057767, 'between': 0.4830192127123397, 'within': 0.022199367988587702}, 'mse': {'overall': 1.1073295924895978, 'between': 1.162587849423459, 'within': 0.2507068867026979}}\n",
      "0.02181055106571556\n",
      "....................................................................................................\n",
      "====================================================================================================\n",
      "Iteration 6\n",
      "====================================================================================================\n",
      "Fold 0, specified test ratio: 0.2 - Actual test ratio 0.21\n",
      "Fold 1, specified test ratio: 0.2 - Actual test ratio 0.20\n",
      "Fold 2, specified test ratio: 0.2 - Actual test ratio 0.20\n",
      "Fold 3, specified test ratio: 0.2 - Actual test ratio 0.20\n",
      "Fold 4, specified test ratio: 0.2 - Actual test ratio 0.18\n",
      "Between training\n",
      "Initialising training\n"
     ]
    },
    {
     "data": {
      "application/vnd.jupyter.widget-view+json": {
       "model_id": "423aec97a02449c9ad87fbb32e7cf4a0",
       "version_major": 2,
       "version_minor": 0
      },
      "text/plain": [
       "  0%|          | 0/5 [00:00<?, ?it/s]"
      ]
     },
     "metadata": {},
     "output_type": "display_data"
    },
    {
     "name": "stdout",
     "output_type": "stream",
     "text": [
      "Finished training after 235 seconds\n",
      "\n",
      "Within training\n",
      "Initialising training\n"
     ]
    },
    {
     "data": {
      "application/vnd.jupyter.widget-view+json": {
       "model_id": "1efbb0ba941a475399ca0a612230ba47",
       "version_major": 2,
       "version_minor": 0
      },
      "text/plain": [
       "  0%|          | 0/5 [00:00<?, ?it/s]"
      ]
     },
     "metadata": {},
     "output_type": "display_data"
    },
    {
     "name": "stdout",
     "output_type": "stream",
     "text": [
      "Finished training after 519 seconds\n",
      "....................................................................................................\n",
      "{'r2': {'overall': 0.49084177610347907, 'between': 0.5202195909821432, 'within': 0.013603933867819329}, 'mse': {'overall': 1.1260823376746611, 'between': 1.146001294653968, 'within': 0.2552104932535819}}\n",
      "0.013034543698398132\n",
      "....................................................................................................\n",
      "====================================================================================================\n",
      "Iteration 7\n",
      "====================================================================================================\n",
      "Fold 0, specified test ratio: 0.2 - Actual test ratio 0.25\n",
      "Fold 1, specified test ratio: 0.2 - Actual test ratio 0.20\n",
      "Fold 2, specified test ratio: 0.2 - Actual test ratio 0.20\n",
      "Fold 3, specified test ratio: 0.2 - Actual test ratio 0.20\n",
      "Fold 4, specified test ratio: 0.2 - Actual test ratio 0.14\n",
      "Between training\n",
      "Initialising training\n"
     ]
    },
    {
     "data": {
      "application/vnd.jupyter.widget-view+json": {
       "model_id": "348cd494bdf342c480364544115bda86",
       "version_major": 2,
       "version_minor": 0
      },
      "text/plain": [
       "  0%|          | 0/5 [00:00<?, ?it/s]"
      ]
     },
     "metadata": {},
     "output_type": "display_data"
    },
    {
     "name": "stdout",
     "output_type": "stream",
     "text": [
      "Finished training after 255 seconds\n",
      "\n",
      "Within training\n",
      "Initialising training\n"
     ]
    },
    {
     "data": {
      "application/vnd.jupyter.widget-view+json": {
       "model_id": "7da5eaa828a448a39a737c6feec83fe1",
       "version_major": 2,
       "version_minor": 0
      },
      "text/plain": [
       "  0%|          | 0/5 [00:00<?, ?it/s]"
      ]
     },
     "metadata": {},
     "output_type": "display_data"
    },
    {
     "name": "stdout",
     "output_type": "stream",
     "text": [
      "Finished training after 458 seconds\n",
      "....................................................................................................\n",
      "{'r2': {'overall': 0.47479013023433625, 'between': 0.500887746647168, 'within': 0.03213531530366209}, 'mse': {'overall': 1.091222656912666, 'between': 1.143938381572645, 'within': 0.2497061353600604}}\n",
      "0.032541453650170075\n",
      "....................................................................................................\n",
      "====================================================================================================\n",
      "Iteration 8\n",
      "====================================================================================================\n",
      "Fold 0, specified test ratio: 0.2 - Actual test ratio 0.23\n",
      "Fold 1, specified test ratio: 0.2 - Actual test ratio 0.20\n",
      "Fold 2, specified test ratio: 0.2 - Actual test ratio 0.20\n",
      "Fold 3, specified test ratio: 0.2 - Actual test ratio 0.20\n",
      "Fold 4, specified test ratio: 0.2 - Actual test ratio 0.16\n",
      "Between training\n",
      "Initialising training\n"
     ]
    },
    {
     "data": {
      "application/vnd.jupyter.widget-view+json": {
       "model_id": "a7574a0c6c5d45b38c2ea13632bbaead",
       "version_major": 2,
       "version_minor": 0
      },
      "text/plain": [
       "  0%|          | 0/5 [00:00<?, ?it/s]"
      ]
     },
     "metadata": {},
     "output_type": "display_data"
    },
    {
     "name": "stdout",
     "output_type": "stream",
     "text": [
      "Finished training after 237 seconds\n",
      "\n",
      "Within training\n",
      "Initialising training\n"
     ]
    },
    {
     "data": {
      "application/vnd.jupyter.widget-view+json": {
       "model_id": "03f6a8673e3c4978bb0ec3253b91b495",
       "version_major": 2,
       "version_minor": 0
      },
      "text/plain": [
       "  0%|          | 0/5 [00:00<?, ?it/s]"
      ]
     },
     "metadata": {},
     "output_type": "display_data"
    },
    {
     "name": "stdout",
     "output_type": "stream",
     "text": [
      "Finished training after 511 seconds\n",
      "....................................................................................................\n",
      "{'r2': {'overall': 0.4791299438615249, 'between': 0.5047568392187705, 'within': 0.020985063574567597}, 'mse': {'overall': 1.0992611650895314, 'between': 1.13844925655747, 'within': 0.2545852511174326}}\n",
      "0.02019142726721898\n",
      "....................................................................................................\n",
      "====================================================================================================\n",
      "Iteration 9\n",
      "====================================================================================================\n",
      "Fold 0, specified test ratio: 0.2 - Actual test ratio 0.21\n",
      "Fold 1, specified test ratio: 0.2 - Actual test ratio 0.20\n",
      "Fold 2, specified test ratio: 0.2 - Actual test ratio 0.20\n",
      "Fold 3, specified test ratio: 0.2 - Actual test ratio 0.20\n",
      "Fold 4, specified test ratio: 0.2 - Actual test ratio 0.19\n",
      "Between training\n",
      "Initialising training\n"
     ]
    },
    {
     "data": {
      "application/vnd.jupyter.widget-view+json": {
       "model_id": "18a3078f02ce4ecd80551be5ec7495a8",
       "version_major": 2,
       "version_minor": 0
      },
      "text/plain": [
       "  0%|          | 0/5 [00:00<?, ?it/s]"
      ]
     },
     "metadata": {},
     "output_type": "display_data"
    },
    {
     "name": "stdout",
     "output_type": "stream",
     "text": [
      "Finished training after 256 seconds\n",
      "\n",
      "Within training\n",
      "Initialising training\n"
     ]
    },
    {
     "data": {
      "application/vnd.jupyter.widget-view+json": {
       "model_id": "a7ab6df06ec540cda5e69941841bb6bc",
       "version_major": 2,
       "version_minor": 0
      },
      "text/plain": [
       "  0%|          | 0/5 [00:00<?, ?it/s]"
      ]
     },
     "metadata": {},
     "output_type": "display_data"
    },
    {
     "name": "stdout",
     "output_type": "stream",
     "text": [
      "Finished training after 555 seconds\n",
      "....................................................................................................\n",
      "{'r2': {'overall': 0.47925980476805763, 'between': 0.5172519639484899, 'within': 0.021787048219215243}, 'mse': {'overall': 1.1087578749009597, 'between': 1.1291558565306428, 'within': 0.26003149824188637}}\n",
      "0.021741358868822665\n",
      "....................................................................................................\n"
     ]
    }
   ],
   "source": [
    "# run repeated cross validation\n",
    "rep_cv_res_asset = {\n",
    "    'between_r2': [],\n",
    "    'within_r2': [],\n",
    "    'delta_r2': [],\n",
    "    'overall_r2': []\n",
    "}\n",
    "\n",
    "for j in range(10):\n",
    "    print(\"=\"*100)\n",
    "    print(f\"Iteration {j}\")\n",
    "    print(\"=\"*100)\n",
    "    rep_seed = random_seed + j\n",
    "    \n",
    "    # divide the data into k different folds\n",
    "    fold_ids = split_lsms_spatial(lsms_df, n_folds = n_folds, random_seed = spatial_cv_random_seed + j)\n",
    "    \n",
    "    # run the bewtween training\n",
    "    print('Between training')\n",
    "    between_cv_trainer = rf.CrossValidator(cl_df_norm, \n",
    "                                                fold_ids, \n",
    "                                                between_target_var, \n",
    "                                                between_x_vars, \n",
    "                                                id_var = 'cluster_id', \n",
    "                                                random_seed = rep_seed)\n",
    "    between_cv_trainer.run_cv_training(min_samples_leaf = 1)\n",
    "    \n",
    "    # run the within training\n",
    "    print(\"\\nWithin training\")\n",
    "    delta_trainer = rf.CrossValidator(delta_df_norm, \n",
    "                                               fold_ids, \n",
    "                                               within_target_var, \n",
    "                                               within_x_vars, \n",
    "                                               id_var = 'delta_id', \n",
    "                                               random_seed = rep_seed)\n",
    "    delta_trainer.run_cv_training(min_samples_leaf = 15)\n",
    "    \n",
    "    # get results of the delta predictions\n",
    "    delta_res = delta_trainer.compute_overall_performance(use_fold_weights = True)\n",
    "    \n",
    "    # evaluate the delta model on the demeaned variables\n",
    "    delta_evaluator = rf.CV_Evaluator(demeaned_df_norm, fold_ids, delta_trainer, id_var = 'delta_id')\n",
    "    delta_evaluator.evaluate()\n",
    "    delta_evaluator.compute_overall_performance()\n",
    "    \n",
    "    # add the predictions to the delta_trainer\n",
    "    delta_trainer.predictions = delta_evaluator.predictions\n",
    "\n",
    "    # combine both models\n",
    "    combined_model = CombinedModel(lsms_df, between_cv_trainer, delta_trainer)\n",
    "    combined_model.evaluate()\n",
    "    combined_results = combined_model.compute_overall_performance(use_fold_weights = True)\n",
    "    \n",
    "    # store the results \n",
    "    rep_cv_res_asset['between_r2'].append(combined_results['r2']['between'])\n",
    "    rep_cv_res_asset['within_r2'].append(combined_results['r2']['within'])\n",
    "    rep_cv_res_asset['delta_r2'].append(delta_res['val_r2'])\n",
    "    rep_cv_res_asset['overall_r2'].append(combined_results['r2']['overall'])\n",
    "    \n",
    "    # print the results\n",
    "    print(\".\"*100)\n",
    "    print(combined_results)\n",
    "    print(delta_res['val_r2'])\n",
    "    print(\".\"*100)"
   ]
  },
  {
   "cell_type": "code",
   "execution_count": 15,
   "id": "8de374eb",
   "metadata": {},
   "outputs": [],
   "source": [
    "pth = 'results/baseline/rep_cv_asset_delta.pkl'\n",
    "with open(pth, 'wb') as f:\n",
    "    pickle.dump(rep_cv_res_asset, f)"
   ]
  },
  {
   "cell_type": "code",
   "execution_count": 18,
   "id": "421ed9dd",
   "metadata": {},
   "outputs": [
    {
     "name": "stdout",
     "output_type": "stream",
     "text": [
      "& 0.5102 & 0.0219 & 0.4809 & 0.0222 \\\\\n",
      "& \\footnotesize(0.0039) & \\footnotesize(0.0025) & \\footnotesize(0.0030) & \\footnotesize(0.0024) \\\\\n"
     ]
    }
   ],
   "source": [
    "pth = 'results/baseline/rep_cv_asset_delta.pkl'\n",
    "with open(pth, 'rb') as f:\n",
    "    rep_cv_res_asset = pickle.load(f)\n",
    "    \n",
    "mean_r2_asset = {k: np.mean(v) for k,v in rep_cv_res_asset.items()}\n",
    "se_r2_asset = {k: np.std(v)/np.sqrt(10) for k,v in rep_cv_res_asset.items()}\n",
    "\n",
    "# print as tex\n",
    "print(f\"& {mean_r2_asset['between_r2']:.4f} & {mean_r2_asset['within_r2']:.4f} & {mean_r2_asset['overall_r2']:.4f} & {mean_r2_asset['delta_r2']:.4f} \\\\\\\\\")\n",
    "print(f\"& \\\\footnotesize({se_r2_asset['between_r2']:.4f}) & \\\\footnotesize({se_r2_asset['within_r2']:.4f}) & \\\\footnotesize({se_r2_asset['overall_r2']:.4f}) & \\\\footnotesize({se_r2_asset['delta_r2']:.4f}) \\\\\\\\\")"
   ]
  },
  {
   "cell_type": "code",
   "execution_count": 11,
   "id": "94492841",
   "metadata": {},
   "outputs": [],
   "source": [
    "pth = 'results/baseline/rep_cv_asset_delta.pkl'\n",
    "with open(pth, 'rb') as f:\n",
    "    asset_res = pickle.load(f)"
   ]
  },
  {
   "cell_type": "code",
   "execution_count": 14,
   "id": "04fe4fca",
   "metadata": {},
   "outputs": [
    {
     "name": "stdout",
     "output_type": "stream",
     "text": [
      "Delta R2: 0.0222\n",
      "Delta SE: 0.0024\n"
     ]
    }
   ],
   "source": [
    "print(f\"Delta R2: {np.mean(asset_res['delta_r2']):.4f}\")\n",
    "print(f\"Delta SE: {np.std(asset_res['delta_r2'])/np.sqrt(len(asset_res['delta_r2'])):.4f}\")"
   ]
  }
 ],
 "metadata": {
  "kernelspec": {
   "display_name": "Python 3 (ipykernel)",
   "language": "python",
   "name": "python3"
  },
  "language_info": {
   "codemirror_mode": {
    "name": "ipython",
    "version": 3
   },
   "file_extension": ".py",
   "mimetype": "text/x-python",
   "name": "python",
   "nbconvert_exporter": "python",
   "pygments_lexer": "ipython3",
   "version": "3.10.12"
  }
 },
 "nbformat": 4,
 "nbformat_minor": 5
}
