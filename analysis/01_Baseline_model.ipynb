{
 "cells": [
  {
   "cell_type": "markdown",
   "id": "37007fa4",
   "metadata": {},
   "source": [
    "# Between model\n",
    "This model takes as input any variable that is static, that is the OSM variables, ESA Landcover variables and the WSF variables. Moreover, it takes the mean over all dynamic variables. The dynamic variables include Nightlights, NDVI, and NDWI_Gao as well as NDWI_McF. \n",
    "\n",
    "The idea is that the between model captures variation between clusters and thus the target variable for the between model is $\\bar{w}_c = \\frac{1}{T_c}\\sum_t^{T_c} w_{c,t}$ "
   ]
  },
  {
   "cell_type": "markdown",
   "id": "f948ff7f",
   "metadata": {},
   "source": [
    "# Within model\n",
    "This goal of this model is to predict the deviations from the cluster mean for each year. I.e. the model should capture variation within each cluster. To do so, the target variable is $\\tilde{w}_{ct} = w_{ct} - \\bar{w}_{c}$. \n",
    "\n",
    "For cluster $c$ in time period $t$, the feature vector is defined as $\\tilde{\\boldsymbol{x}}_{ct} = \\boldsymbol{x}_{ct} - \\bar{\\boldsymbol{x}}_{c}, where~\\bar{\\boldsymbol{x}}_{c} \\in \\mathbb{R}^{k\\times1}$. \n",
    "\n",
    "To predict $\\tilde{w}_{ct}$, I rely on $\\tilde{\\boldsymbol{x}}_{ct}$. This allows me to interpret the performance metric as the within R2, i.e. the share of the variance the model captures within clusters. \n",
    "\n",
    "\n",
    "(this does not help at all, thus disregard)...\n",
    "To augment the number of training observations, I train the model on deltas, rather than on the demeaned variables. This substantially increases the number of training observations and covers a wider range of differences, making the training dataset more versatile and robust. Ideally, this helps to learn from a wider range of differences and thus increases the out-of-sample when predicting $\\tilde{\\boldsymbol{w}}_{ct}$."
   ]
  },
  {
   "cell_type": "code",
   "execution_count": 25,
   "id": "7b9ca298",
   "metadata": {},
   "outputs": [],
   "source": [
    "import pandas as pd\n",
    "import matplotlib.pyplot as plt\n",
    "import matplotlib\n",
    "import pickle\n",
    "from sklearn.metrics import r2_score\n",
    "from sklearn.metrics import mean_squared_error"
   ]
  },
  {
   "cell_type": "code",
   "execution_count": 2,
   "id": "06be23a0",
   "metadata": {},
   "outputs": [],
   "source": [
    "# set the font size for matplotlib and the font family.\n",
    "font = {'family' : 'sans-serif',\n",
    "        'weight' : 'normal',\n",
    "        'size'   : 14}\n",
    "\n",
    "matplotlib.rc('font', **font)"
   ]
  },
  {
   "cell_type": "code",
   "execution_count": 3,
   "id": "8c8bc3ff",
   "metadata": {},
   "outputs": [],
   "source": [
    "# load the necessary functions from the analysis package\n",
    "\n",
    "# load the variable names, this allows to access the variables in the feature data in a compact way\n",
    "from analysis_utils.variable_names import *\n",
    "\n",
    "# load flagged ids \n",
    "from analysis_utils.flagged_uids import *\n",
    "\n",
    "# load the functions to do spatial k-fold CV\n",
    "from analysis_utils.spatial_CV import *\n",
    "\n",
    "# load the helper functions\n",
    "from analysis_utils.analysis_helpers import *\n",
    "\n",
    "# load the random forest trainer and cross_validator\n",
    "import analysis_utils.RandomForest as rf\n",
    "\n",
    "# load the combien model\n",
    "from analysis_utils.CombinedModel import CombinedModel"
   ]
  },
  {
   "cell_type": "code",
   "execution_count": 4,
   "id": "739dc09b",
   "metadata": {},
   "outputs": [],
   "source": [
    "# set the global file paths\n",
    "root_data_dir = \"../../Data\"\n",
    "\n",
    "# the lsms data\n",
    "lsms_pth = f\"{root_data_dir}/lsms/processed/labels_cluster_v1.csv\"\n",
    "\n",
    "# the feature data\n",
    "feat_data_pth = f\"{root_data_dir}/feature_data/tabular_data.csv\"\n",
    "\n",
    "# set the random seed\n",
    "random_seed = 423\n",
    "spatial_cv_random_seed = 348\n",
    "\n",
    "# set the number of folds for k-fold CV\n",
    "n_folds = 5"
   ]
  },
  {
   "cell_type": "code",
   "execution_count": 5,
   "id": "c468b531",
   "metadata": {},
   "outputs": [
    {
     "name": "stdout",
     "output_type": "stream",
     "text": [
      "Number of observations 6401\n",
      "Number of clusters 2128\n",
      "Number of x vars 113\n"
     ]
    }
   ],
   "source": [
    "# load the feature and the label data\n",
    "lsms_df = pd.read_csv(lsms_pth)\n",
    "# remove flagged ids form dataset\n",
    "lsms_df = lsms_df[~lsms_df.unique_id.isin(flagged_uids)].reset_index()\n",
    "lsms_df['avg_log_mean_pc_cons_usd_2017'] = lsms_df.groupby('cluster_id')['log_mean_pc_cons_usd_2017'].transform('mean')\n",
    "lsms_df['avg_mean_asset_index_yeh'] = lsms_df.groupby('cluster_id')['mean_asset_index_yeh'].transform('mean')\n",
    "feat_df = pd.read_csv(feat_data_pth)\n",
    "\n",
    "# describe the training data broadly\n",
    "print(f\"Number of observations {len(lsms_df)}\")\n",
    "print(f\"Number of clusters {len(np.unique(lsms_df.cluster_id))}\")\n",
    "print(f\"Number of x vars {len(feat_df.columns)-2}\")"
   ]
  },
  {
   "cell_type": "code",
   "execution_count": 6,
   "id": "111de106",
   "metadata": {},
   "outputs": [],
   "source": [
    "# merge the label and the feature data to one dataset\n",
    "lsms_vars = ['unique_id', 'n_households',           \n",
    "             'log_mean_pc_cons_usd_2017', 'avg_log_mean_pc_cons_usd_2017',\n",
    "             'mean_asset_index_yeh', 'avg_mean_asset_index_yeh']\n",
    "df = pd.merge(lsms_df[lsms_vars], feat_df, on = 'unique_id', how = 'left')"
   ]
  },
  {
   "cell_type": "markdown",
   "id": "7b24eb66",
   "metadata": {},
   "source": [
    "# Run Training"
   ]
  },
  {
   "cell_type": "code",
   "execution_count": 7,
   "id": "4ec39c76",
   "metadata": {},
   "outputs": [],
   "source": [
    "# define the within and between x variables\n",
    "avg_rs_vars = avg_ndvi_vars + avg_ndwi_gao_vars + avg_nl_vars\n",
    "osm_vars = osm_dist_vars + osm_count_vars + osm_road_vars\n",
    "\n",
    "between_x_vars = osm_vars + esa_lc_vars + wsf_vars + avg_rs_vars + avg_preciptiation\n",
    "\n",
    "dyn_rs_vars = dyn_ndvi_vars + dyn_ndwi_gao_vars + dyn_nl_vars\n",
    "within_x_vars = dyn_rs_vars + precipitation"
   ]
  },
  {
   "cell_type": "markdown",
   "id": "2bbec1fc",
   "metadata": {},
   "source": [
    "### Target: Log per capita consumption"
   ]
  },
  {
   "cell_type": "code",
   "execution_count": 8,
   "id": "bda1dc59",
   "metadata": {},
   "outputs": [],
   "source": [
    "between_target_var = 'avg_log_mean_pc_cons_usd_2017'\n",
    "cl_df = df[['cluster_id', between_target_var] + between_x_vars].drop_duplicates().reset_index(drop = True)\n",
    "\n",
    "# normalise the feature data\n",
    "cl_df_norm = standardise_df(cl_df, exclude_cols = [between_target_var])"
   ]
  },
  {
   "cell_type": "code",
   "execution_count": 9,
   "id": "6f429484",
   "metadata": {},
   "outputs": [],
   "source": [
    "# get the within dataframe\n",
    "# define the within variables\n",
    "within_target_var = 'log_mean_pc_cons_usd_2017'\n",
    "within_df = df[['cluster_id','unique_id', within_target_var] + within_x_vars]\n",
    "\n",
    "# demean the data and standardise the variables\n",
    "demeaned_df = demean_df(within_df)\n",
    "demeaned_df_norm = standardise_df(demeaned_df, exclude_cols = [within_target_var])"
   ]
  },
  {
   "cell_type": "code",
   "execution_count": 10,
   "id": "bc87ce90",
   "metadata": {},
   "outputs": [
    {
     "name": "stdout",
     "output_type": "stream",
     "text": [
      "====================================================================================================\n",
      "Iteration 0\n",
      "====================================================================================================\n",
      "Fold 0, specified test ratio: 0.2 - Actual test ratio 0.20\n",
      "Fold 1, specified test ratio: 0.2 - Actual test ratio 0.20\n",
      "Fold 2, specified test ratio: 0.2 - Actual test ratio 0.21\n",
      "Fold 3, specified test ratio: 0.2 - Actual test ratio 0.20\n",
      "Fold 4, specified test ratio: 0.2 - Actual test ratio 0.19\n",
      "Between training\n",
      "Initialising training\n"
     ]
    },
    {
     "data": {
      "application/vnd.jupyter.widget-view+json": {
       "model_id": "5bd7833bc165412da9f1588b905865b3",
       "version_major": 2,
       "version_minor": 0
      },
      "text/plain": [
       "  0%|          | 0/5 [00:00<?, ?it/s]"
      ]
     },
     "metadata": {},
     "output_type": "display_data"
    },
    {
     "name": "stdout",
     "output_type": "stream",
     "text": [
      "Finished training after 152 seconds\n",
      "\n",
      "Within training\n",
      "Initialising training\n"
     ]
    },
    {
     "data": {
      "application/vnd.jupyter.widget-view+json": {
       "model_id": "b87331008562425aa1a0ec9877ea8957",
       "version_major": 2,
       "version_minor": 0
      },
      "text/plain": [
       "  0%|          | 0/5 [00:00<?, ?it/s]"
      ]
     },
     "metadata": {},
     "output_type": "display_data"
    },
    {
     "name": "stdout",
     "output_type": "stream",
     "text": [
      "Finished training after 334 seconds\n",
      "....................................................................................................\n",
      "{'r2': {'overall': 0.39807005576495247, 'between': 0.47766405472198875, 'within': -0.013313089990722116}, 'mse': {'overall': 0.2108567137373229, 'between': 0.1524115651385797, 'within': 0.05681995801795958}}\n",
      "....................................................................................................\n",
      "====================================================================================================\n",
      "Iteration 1\n",
      "====================================================================================================\n",
      "Fold 0, specified test ratio: 0.2 - Actual test ratio 0.20\n",
      "Fold 1, specified test ratio: 0.2 - Actual test ratio 0.20\n",
      "Fold 2, specified test ratio: 0.2 - Actual test ratio 0.20\n",
      "Fold 3, specified test ratio: 0.2 - Actual test ratio 0.20\n",
      "Fold 4, specified test ratio: 0.2 - Actual test ratio 0.19\n",
      "Between training\n",
      "Initialising training\n"
     ]
    },
    {
     "data": {
      "application/vnd.jupyter.widget-view+json": {
       "model_id": "4c8f9152773f42d29e3436080b9e93fb",
       "version_major": 2,
       "version_minor": 0
      },
      "text/plain": [
       "  0%|          | 0/5 [00:00<?, ?it/s]"
      ]
     },
     "metadata": {},
     "output_type": "display_data"
    },
    {
     "name": "stdout",
     "output_type": "stream",
     "text": [
      "Finished training after 161 seconds\n",
      "\n",
      "Within training\n",
      "Initialising training\n"
     ]
    },
    {
     "data": {
      "application/vnd.jupyter.widget-view+json": {
       "model_id": "935a77508aa1497abfccb5a7a8096821",
       "version_major": 2,
       "version_minor": 0
      },
      "text/plain": [
       "  0%|          | 0/5 [00:00<?, ?it/s]"
      ]
     },
     "metadata": {},
     "output_type": "display_data"
    },
    {
     "name": "stdout",
     "output_type": "stream",
     "text": [
      "Finished training after 338 seconds\n",
      "....................................................................................................\n",
      "{'r2': {'overall': 0.3748528089402263, 'between': 0.452485541188437, 'within': -0.016822084536803738}, 'mse': {'overall': 0.20986336509191467, 'between': 0.15160646232075717, 'within': 0.05709346682909644}}\n",
      "....................................................................................................\n",
      "====================================================================================================\n",
      "Iteration 2\n",
      "====================================================================================================\n",
      "Fold 0, specified test ratio: 0.2 - Actual test ratio 0.20\n",
      "Fold 1, specified test ratio: 0.2 - Actual test ratio 0.20\n",
      "Fold 2, specified test ratio: 0.2 - Actual test ratio 0.20\n",
      "Fold 3, specified test ratio: 0.2 - Actual test ratio 0.20\n",
      "Fold 4, specified test ratio: 0.2 - Actual test ratio 0.18\n",
      "Between training\n",
      "Initialising training\n"
     ]
    },
    {
     "data": {
      "application/vnd.jupyter.widget-view+json": {
       "model_id": "7fb2a0f44fbb4b49bf42192da7b8bb56",
       "version_major": 2,
       "version_minor": 0
      },
      "text/plain": [
       "  0%|          | 0/5 [00:00<?, ?it/s]"
      ]
     },
     "metadata": {},
     "output_type": "display_data"
    },
    {
     "name": "stdout",
     "output_type": "stream",
     "text": [
      "Finished training after 174 seconds\n",
      "\n",
      "Within training\n",
      "Initialising training\n"
     ]
    },
    {
     "data": {
      "application/vnd.jupyter.widget-view+json": {
       "model_id": "9bc3236004a440a4869ceb449911eb2a",
       "version_major": 2,
       "version_minor": 0
      },
      "text/plain": [
       "  0%|          | 0/5 [00:00<?, ?it/s]"
      ]
     },
     "metadata": {},
     "output_type": "display_data"
    },
    {
     "name": "stdout",
     "output_type": "stream",
     "text": [
      "Finished training after 335 seconds\n",
      "....................................................................................................\n",
      "{'r2': {'overall': 0.39619397342479146, 'between': 0.4813245441294979, 'within': -0.025048484609583997}, 'mse': {'overall': 0.20883970365778798, 'between': 0.1498122983236336, 'within': 0.05730275915366012}}\n",
      "....................................................................................................\n",
      "====================================================================================================\n",
      "Iteration 3\n",
      "====================================================================================================\n",
      "Fold 0, specified test ratio: 0.2 - Actual test ratio 0.21\n",
      "Fold 1, specified test ratio: 0.2 - Actual test ratio 0.20\n",
      "Fold 2, specified test ratio: 0.2 - Actual test ratio 0.21\n",
      "Fold 3, specified test ratio: 0.2 - Actual test ratio 0.20\n",
      "Fold 4, specified test ratio: 0.2 - Actual test ratio 0.17\n",
      "Between training\n",
      "Initialising training\n"
     ]
    },
    {
     "data": {
      "application/vnd.jupyter.widget-view+json": {
       "model_id": "55d321beeb5448429be65ab79ed4ba8d",
       "version_major": 2,
       "version_minor": 0
      },
      "text/plain": [
       "  0%|          | 0/5 [00:00<?, ?it/s]"
      ]
     },
     "metadata": {},
     "output_type": "display_data"
    },
    {
     "name": "stdout",
     "output_type": "stream",
     "text": [
      "Finished training after 150 seconds\n",
      "\n",
      "Within training\n",
      "Initialising training\n"
     ]
    },
    {
     "data": {
      "application/vnd.jupyter.widget-view+json": {
       "model_id": "dcaead6d21054b9da8902ed554f7f7b8",
       "version_major": 2,
       "version_minor": 0
      },
      "text/plain": [
       "  0%|          | 0/5 [00:00<?, ?it/s]"
      ]
     },
     "metadata": {},
     "output_type": "display_data"
    },
    {
     "name": "stdout",
     "output_type": "stream",
     "text": [
      "Finished training after 327 seconds\n",
      "....................................................................................................\n",
      "{'r2': {'overall': 0.36935747355815896, 'between': 0.4505660670254869, 'within': -0.0161697199966222}, 'mse': {'overall': 0.21201231656986436, 'between': 0.15350490870634637, 'within': 0.05704006804019866}}\n",
      "....................................................................................................\n",
      "====================================================================================================\n",
      "Iteration 4\n",
      "====================================================================================================\n",
      "Fold 0, specified test ratio: 0.2 - Actual test ratio 0.23\n",
      "Fold 1, specified test ratio: 0.2 - Actual test ratio 0.20\n",
      "Fold 2, specified test ratio: 0.2 - Actual test ratio 0.20\n",
      "Fold 3, specified test ratio: 0.2 - Actual test ratio 0.20\n",
      "Fold 4, specified test ratio: 0.2 - Actual test ratio 0.16\n",
      "Between training\n",
      "Initialising training\n"
     ]
    },
    {
     "data": {
      "application/vnd.jupyter.widget-view+json": {
       "model_id": "181a9e91f64d4c9d8dda5f486d9a5b31",
       "version_major": 2,
       "version_minor": 0
      },
      "text/plain": [
       "  0%|          | 0/5 [00:00<?, ?it/s]"
      ]
     },
     "metadata": {},
     "output_type": "display_data"
    },
    {
     "name": "stdout",
     "output_type": "stream",
     "text": [
      "Finished training after 155 seconds\n",
      "\n",
      "Within training\n",
      "Initialising training\n"
     ]
    },
    {
     "data": {
      "application/vnd.jupyter.widget-view+json": {
       "model_id": "fda9f40728fd4773a439a2b742fd2702",
       "version_major": 2,
       "version_minor": 0
      },
      "text/plain": [
       "  0%|          | 0/5 [00:00<?, ?it/s]"
      ]
     },
     "metadata": {},
     "output_type": "display_data"
    },
    {
     "name": "stdout",
     "output_type": "stream",
     "text": [
      "Finished training after 321 seconds\n",
      "....................................................................................................\n",
      "{'r2': {'overall': 0.3796234844776574, 'between': 0.4578227552495696, 'within': -0.022329770988499354}, 'mse': {'overall': 0.21248695313797528, 'between': 0.15318111256398848, 'within': 0.057416587256864625}}\n",
      "....................................................................................................\n",
      "====================================================================================================\n",
      "Iteration 5\n",
      "====================================================================================================\n",
      "Fold 0, specified test ratio: 0.2 - Actual test ratio 0.26\n",
      "Fold 1, specified test ratio: 0.2 - Actual test ratio 0.21\n",
      "Fold 2, specified test ratio: 0.2 - Actual test ratio 0.20\n",
      "Fold 3, specified test ratio: 0.2 - Actual test ratio 0.20\n",
      "Fold 4, specified test ratio: 0.2 - Actual test ratio 0.13\n",
      "Between training\n",
      "Initialising training\n"
     ]
    },
    {
     "data": {
      "application/vnd.jupyter.widget-view+json": {
       "model_id": "32101e89b2ef4e03892b18f79b9cd09a",
       "version_major": 2,
       "version_minor": 0
      },
      "text/plain": [
       "  0%|          | 0/5 [00:00<?, ?it/s]"
      ]
     },
     "metadata": {},
     "output_type": "display_data"
    },
    {
     "name": "stdout",
     "output_type": "stream",
     "text": [
      "Finished training after 167 seconds\n",
      "\n",
      "Within training\n",
      "Initialising training\n"
     ]
    },
    {
     "data": {
      "application/vnd.jupyter.widget-view+json": {
       "model_id": "cbd32d3b3af14cf7916611b123baf15f",
       "version_major": 2,
       "version_minor": 0
      },
      "text/plain": [
       "  0%|          | 0/5 [00:00<?, ?it/s]"
      ]
     },
     "metadata": {},
     "output_type": "display_data"
    },
    {
     "name": "stdout",
     "output_type": "stream",
     "text": [
      "Finished training after 331 seconds\n",
      "....................................................................................................\n",
      "{'r2': {'overall': 0.3927149784790819, 'between': 0.4720337870786768, 'within': -0.022158063282246787}, 'mse': {'overall': 0.20728216964165663, 'between': 0.14889884901028436, 'within': 0.05816671260570021}}\n",
      "....................................................................................................\n",
      "====================================================================================================\n",
      "Iteration 6\n",
      "====================================================================================================\n",
      "Fold 0, specified test ratio: 0.2 - Actual test ratio 0.21\n",
      "Fold 1, specified test ratio: 0.2 - Actual test ratio 0.20\n",
      "Fold 2, specified test ratio: 0.2 - Actual test ratio 0.20\n",
      "Fold 3, specified test ratio: 0.2 - Actual test ratio 0.20\n",
      "Fold 4, specified test ratio: 0.2 - Actual test ratio 0.18\n",
      "Between training\n",
      "Initialising training\n"
     ]
    },
    {
     "data": {
      "application/vnd.jupyter.widget-view+json": {
       "model_id": "4fa91329564f4114a1d614a4c7aee2fc",
       "version_major": 2,
       "version_minor": 0
      },
      "text/plain": [
       "  0%|          | 0/5 [00:00<?, ?it/s]"
      ]
     },
     "metadata": {},
     "output_type": "display_data"
    },
    {
     "name": "stdout",
     "output_type": "stream",
     "text": [
      "Finished training after 163 seconds\n",
      "\n",
      "Within training\n",
      "Initialising training\n"
     ]
    },
    {
     "data": {
      "application/vnd.jupyter.widget-view+json": {
       "model_id": "ac2800675b834a488418bae837ba6ff6",
       "version_major": 2,
       "version_minor": 0
      },
      "text/plain": [
       "  0%|          | 0/5 [00:00<?, ?it/s]"
      ]
     },
     "metadata": {},
     "output_type": "display_data"
    },
    {
     "name": "stdout",
     "output_type": "stream",
     "text": [
      "Finished training after 331 seconds\n",
      "....................................................................................................\n",
      "{'r2': {'overall': 0.3996358799251828, 'between': 0.47962406763698506, 'within': -0.010170344854863522}, 'mse': {'overall': 0.20803459576554298, 'between': 0.14960635985083662, 'within': 0.05666657255053229}}\n",
      "....................................................................................................\n",
      "====================================================================================================\n",
      "Iteration 7\n",
      "====================================================================================================\n",
      "Fold 0, specified test ratio: 0.2 - Actual test ratio 0.25\n",
      "Fold 1, specified test ratio: 0.2 - Actual test ratio 0.20\n",
      "Fold 2, specified test ratio: 0.2 - Actual test ratio 0.20\n",
      "Fold 3, specified test ratio: 0.2 - Actual test ratio 0.20\n",
      "Fold 4, specified test ratio: 0.2 - Actual test ratio 0.14\n",
      "Between training\n",
      "Initialising training\n"
     ]
    },
    {
     "data": {
      "application/vnd.jupyter.widget-view+json": {
       "model_id": "575bfe79f42743ed9c5039387d48502e",
       "version_major": 2,
       "version_minor": 0
      },
      "text/plain": [
       "  0%|          | 0/5 [00:00<?, ?it/s]"
      ]
     },
     "metadata": {},
     "output_type": "display_data"
    },
    {
     "name": "stdout",
     "output_type": "stream",
     "text": [
      "Finished training after 161 seconds\n",
      "\n",
      "Within training\n",
      "Initialising training\n"
     ]
    },
    {
     "data": {
      "application/vnd.jupyter.widget-view+json": {
       "model_id": "3e1e460fa0df44a59ba7495b4f17c29b",
       "version_major": 2,
       "version_minor": 0
      },
      "text/plain": [
       "  0%|          | 0/5 [00:00<?, ?it/s]"
      ]
     },
     "metadata": {},
     "output_type": "display_data"
    },
    {
     "name": "stdout",
     "output_type": "stream",
     "text": [
      "Finished training after 329 seconds\n",
      "....................................................................................................\n",
      "{'r2': {'overall': 0.38651661009585225, 'between': 0.4667590487192104, 'within': -0.013992989254549037}, 'mse': {'overall': 0.20703989801196665, 'between': 0.1494449647477894, 'within': 0.057343029706152834}}\n",
      "....................................................................................................\n",
      "====================================================================================================\n",
      "Iteration 8\n",
      "====================================================================================================\n",
      "Fold 0, specified test ratio: 0.2 - Actual test ratio 0.23\n",
      "Fold 1, specified test ratio: 0.2 - Actual test ratio 0.20\n",
      "Fold 2, specified test ratio: 0.2 - Actual test ratio 0.20\n",
      "Fold 3, specified test ratio: 0.2 - Actual test ratio 0.20\n",
      "Fold 4, specified test ratio: 0.2 - Actual test ratio 0.16\n",
      "Between training\n",
      "Initialising training\n"
     ]
    },
    {
     "data": {
      "application/vnd.jupyter.widget-view+json": {
       "model_id": "f2bdc077716e4fb8914fb7526891ec8b",
       "version_major": 2,
       "version_minor": 0
      },
      "text/plain": [
       "  0%|          | 0/5 [00:00<?, ?it/s]"
      ]
     },
     "metadata": {},
     "output_type": "display_data"
    },
    {
     "name": "stdout",
     "output_type": "stream",
     "text": [
      "Finished training after 159 seconds\n",
      "\n",
      "Within training\n",
      "Initialising training\n"
     ]
    },
    {
     "data": {
      "application/vnd.jupyter.widget-view+json": {
       "model_id": "faad33d8db13416d90dcf5eea701e1f3",
       "version_major": 2,
       "version_minor": 0
      },
      "text/plain": [
       "  0%|          | 0/5 [00:00<?, ?it/s]"
      ]
     },
     "metadata": {},
     "output_type": "display_data"
    },
    {
     "name": "stdout",
     "output_type": "stream",
     "text": [
      "Finished training after 331 seconds\n",
      "....................................................................................................\n",
      "{'r2': {'overall': 0.3815249088327467, 'between': 0.46790376125867494, 'within': -0.01899265617014343}, 'mse': {'overall': 0.21049826362123542, 'between': 0.15123758738520723, 'within': 0.05693682949569464}}\n",
      "....................................................................................................\n",
      "====================================================================================================\n",
      "Iteration 9\n",
      "====================================================================================================\n",
      "Fold 0, specified test ratio: 0.2 - Actual test ratio 0.21\n",
      "Fold 1, specified test ratio: 0.2 - Actual test ratio 0.20\n",
      "Fold 2, specified test ratio: 0.2 - Actual test ratio 0.20\n",
      "Fold 3, specified test ratio: 0.2 - Actual test ratio 0.20\n",
      "Fold 4, specified test ratio: 0.2 - Actual test ratio 0.19\n",
      "Between training\n",
      "Initialising training\n"
     ]
    },
    {
     "data": {
      "application/vnd.jupyter.widget-view+json": {
       "model_id": "afad2bbc9e5e4f0487254c3d319decb7",
       "version_major": 2,
       "version_minor": 0
      },
      "text/plain": [
       "  0%|          | 0/5 [00:00<?, ?it/s]"
      ]
     },
     "metadata": {},
     "output_type": "display_data"
    },
    {
     "name": "stdout",
     "output_type": "stream",
     "text": [
      "Finished training after 164 seconds\n",
      "\n",
      "Within training\n",
      "Initialising training\n"
     ]
    },
    {
     "data": {
      "application/vnd.jupyter.widget-view+json": {
       "model_id": "30595e0f1aa6422d86458dd96a29c25c",
       "version_major": 2,
       "version_minor": 0
      },
      "text/plain": [
       "  0%|          | 0/5 [00:00<?, ?it/s]"
      ]
     },
     "metadata": {},
     "output_type": "display_data"
    },
    {
     "name": "stdout",
     "output_type": "stream",
     "text": [
      "Finished training after 331 seconds\n",
      "....................................................................................................\n",
      "{'r2': {'overall': 0.3898329886298209, 'between': 0.4728559804377793, 'within': -0.02461591326806458}, 'mse': {'overall': 0.2092320044305603, 'between': 0.15039117716823575, 'within': 0.05747754053128777}}\n",
      "....................................................................................................\n"
     ]
    }
   ],
   "source": [
    "# run repeated cross validation\n",
    "rep_cv_res_cons = {\n",
    "    'between_r2': [],\n",
    "    'within_r2': [],\n",
    "    'overall_r2': []\n",
    "}\n",
    "\n",
    "for j in range(10):\n",
    "    print(\"=\"*100)\n",
    "    print(f\"Iteration {j}\")\n",
    "    print(\"=\"*100)\n",
    "    rep_seed = random_seed + j\n",
    "    \n",
    "    # divide the data into k different folds\n",
    "    fold_ids = split_lsms_spatial(lsms_df, n_folds = n_folds, random_seed = spatial_cv_random_seed + j)\n",
    "    \n",
    "    # run the bewtween training\n",
    "    print('Between training')\n",
    "    between_cv_trainer_cons = rf.CrossValidator(cl_df_norm, \n",
    "                                                fold_ids, \n",
    "                                                between_target_var, \n",
    "                                                between_x_vars, \n",
    "                                                id_var = 'cluster_id', \n",
    "                                                random_seed = rep_seed)\n",
    "    between_cv_trainer_cons.run_cv_training(min_samples_leaf = 1)\n",
    "    \n",
    "    # run the within training\n",
    "    print(\"\\nWithin training\")\n",
    "    within_cv_trainer_cons = rf.CrossValidator(demeaned_df_norm, \n",
    "                                               fold_ids, \n",
    "                                               within_target_var, \n",
    "                                               within_x_vars, \n",
    "                                               id_var = 'unique_id', \n",
    "                                               random_seed = rep_seed)\n",
    "    within_cv_trainer_cons.run_cv_training(min_samples_leaf = 15)\n",
    "    \n",
    "    # combine both models\n",
    "    combined_model_cons = CombinedModel(lsms_df, between_cv_trainer_cons, within_cv_trainer_cons)\n",
    "    combined_model_cons.evaluate()\n",
    "    combined_results = combined_model_cons.compute_overall_performance(use_fold_weights = True)\n",
    "    \n",
    "    # store the results \n",
    "    rep_cv_res_cons['between_r2'].append(combined_results['r2']['between'])\n",
    "    rep_cv_res_cons['within_r2'].append(combined_results['r2']['within'])\n",
    "    rep_cv_res_cons['overall_r2'].append(combined_results['r2']['overall'])\n",
    "    \n",
    "    # print the results\n",
    "    print(\".\"*100)\n",
    "    print(combined_results)\n",
    "    print(\".\"*100)"
   ]
  },
  {
   "cell_type": "code",
   "execution_count": 26,
   "id": "49ff2ada",
   "metadata": {},
   "outputs": [],
   "source": [
    "pth = 'results/baseline/rep_cv_res_cons.pkl'\n",
    "with open(pth, 'wb') as f:\n",
    "    pickle.dump(rep_cv_res_cons, f)"
   ]
  },
  {
   "cell_type": "code",
   "execution_count": 37,
   "id": "4f50c260",
   "metadata": {},
   "outputs": [
    {
     "name": "stdout",
     "output_type": "stream",
     "text": [
      "& 0.4679 & -0.0184 & 0.3868 \\\\\n",
      "& \\footnotesize(0.0033) & \\footnotesize(0.0015) & \\footnotesize(0.0031)\\\\\n"
     ]
    }
   ],
   "source": [
    "mean_r2_cons = {k: np.mean(v) for k,v in rep_cv_res_cons.items()}\n",
    "se_r2_cons = {k: np.std(v)/np.sqrt(10) for k,v in rep_cv_res_cons.items()}\n",
    "\n",
    "# print as tex\n",
    "print(f\"& {mean_r2_cons['between_r2']:.4f} & {mean_r2_cons['within_r2']:.4f} & {mean_r2_cons['overall_r2']:.4f} \\\\\\\\\")\n",
    "print(f\"& \\\\footnotesize({se_r2_cons['between_r2']:.4f}) & \\\\footnotesize({se_r2_cons['within_r2']:.4f}) & \\\\footnotesize({se_r2_cons['overall_r2']:.4f})\\\\\\\\\")"
   ]
  },
  {
   "cell_type": "markdown",
   "id": "eab51f96",
   "metadata": {},
   "source": [
    "### Target: Asset index"
   ]
  },
  {
   "cell_type": "code",
   "execution_count": 12,
   "id": "76884897",
   "metadata": {},
   "outputs": [],
   "source": [
    "# get a dataset that only varies at the cluster level\n",
    "between_target_var = 'avg_mean_asset_index_yeh'\n",
    "cl_df = df[['cluster_id', between_target_var] + between_x_vars].drop_duplicates().reset_index(drop = True)\n",
    "\n",
    "# normalise the feature data\n",
    "cl_df_norm = standardise_df(cl_df, exclude_cols = [between_target_var])"
   ]
  },
  {
   "cell_type": "code",
   "execution_count": 13,
   "id": "b4d70637",
   "metadata": {},
   "outputs": [],
   "source": [
    "# define the within variables\n",
    "within_target_var = 'mean_asset_index_yeh'\n",
    "within_df = df[['cluster_id','unique_id', within_target_var] + within_x_vars]\n",
    "\n",
    "# demean the data and standardise the variables\n",
    "demeaned_df = demean_df(within_df)\n",
    "demeaned_df_norm = standardise_df(demeaned_df, exclude_cols = [within_target_var])"
   ]
  },
  {
   "cell_type": "code",
   "execution_count": 14,
   "id": "5c635045",
   "metadata": {},
   "outputs": [
    {
     "name": "stdout",
     "output_type": "stream",
     "text": [
      "====================================================================================================\n",
      "Iteration 0\n",
      "====================================================================================================\n",
      "Fold 0, specified test ratio: 0.2 - Actual test ratio 0.20\n",
      "Fold 1, specified test ratio: 0.2 - Actual test ratio 0.20\n",
      "Fold 2, specified test ratio: 0.2 - Actual test ratio 0.21\n",
      "Fold 3, specified test ratio: 0.2 - Actual test ratio 0.20\n",
      "Fold 4, specified test ratio: 0.2 - Actual test ratio 0.19\n",
      "Between training\n",
      "Initialising training\n"
     ]
    },
    {
     "data": {
      "application/vnd.jupyter.widget-view+json": {
       "model_id": "93f69e691b8e447aa58b82ec3eb0564f",
       "version_major": 2,
       "version_minor": 0
      },
      "text/plain": [
       "  0%|          | 0/5 [00:00<?, ?it/s]"
      ]
     },
     "metadata": {},
     "output_type": "display_data"
    },
    {
     "name": "stdout",
     "output_type": "stream",
     "text": [
      "Finished training after 159 seconds\n",
      "\n",
      "Within training\n",
      "Initialising training\n"
     ]
    },
    {
     "data": {
      "application/vnd.jupyter.widget-view+json": {
       "model_id": "f69dc177826d462eb26e89f892c9cc4e",
       "version_major": 2,
       "version_minor": 0
      },
      "text/plain": [
       "  0%|          | 0/5 [00:00<?, ?it/s]"
      ]
     },
     "metadata": {},
     "output_type": "display_data"
    },
    {
     "name": "stdout",
     "output_type": "stream",
     "text": [
      "Finished training after 334 seconds\n",
      "....................................................................................................\n",
      "{'r2': {'overall': 0.5079771864235417, 'between': 0.5269073580780452, 'within': -0.008292900617362143}, 'mse': {'overall': 1.0944587832634518, 'between': 1.1501767333281865, 'within': 0.0761340148174402}}\n",
      "....................................................................................................\n",
      "====================================================================================================\n",
      "Iteration 1\n",
      "====================================================================================================\n",
      "Fold 0, specified test ratio: 0.2 - Actual test ratio 0.20\n",
      "Fold 1, specified test ratio: 0.2 - Actual test ratio 0.20\n",
      "Fold 2, specified test ratio: 0.2 - Actual test ratio 0.20\n",
      "Fold 3, specified test ratio: 0.2 - Actual test ratio 0.20\n",
      "Fold 4, specified test ratio: 0.2 - Actual test ratio 0.19\n",
      "Between training\n",
      "Initialising training\n"
     ]
    },
    {
     "data": {
      "application/vnd.jupyter.widget-view+json": {
       "model_id": "d95d0b4f485147d095d0bcb693c1b930",
       "version_major": 2,
       "version_minor": 0
      },
      "text/plain": [
       "  0%|          | 0/5 [00:00<?, ?it/s]"
      ]
     },
     "metadata": {},
     "output_type": "display_data"
    },
    {
     "name": "stdout",
     "output_type": "stream",
     "text": [
      "Finished training after 161 seconds\n",
      "\n",
      "Within training\n",
      "Initialising training\n"
     ]
    },
    {
     "data": {
      "application/vnd.jupyter.widget-view+json": {
       "model_id": "565ea2515bc746beb3a9bfbb773e0cbc",
       "version_major": 2,
       "version_minor": 0
      },
      "text/plain": [
       "  0%|          | 0/5 [00:00<?, ?it/s]"
      ]
     },
     "metadata": {},
     "output_type": "display_data"
    },
    {
     "name": "stdout",
     "output_type": "stream",
     "text": [
      "Finished training after 332 seconds\n",
      "....................................................................................................\n",
      "{'r2': {'overall': 0.49108408496893996, 'between': 0.5141778707953452, 'within': -0.0038585252641507584}, 'mse': {'overall': 1.0828416361578834, 'between': 1.1323349221025276, 'within': 0.07630033762565844}}\n",
      "....................................................................................................\n",
      "====================================================================================================\n",
      "Iteration 2\n",
      "====================================================================================================\n",
      "Fold 0, specified test ratio: 0.2 - Actual test ratio 0.20\n",
      "Fold 1, specified test ratio: 0.2 - Actual test ratio 0.20\n",
      "Fold 2, specified test ratio: 0.2 - Actual test ratio 0.20\n",
      "Fold 3, specified test ratio: 0.2 - Actual test ratio 0.20\n",
      "Fold 4, specified test ratio: 0.2 - Actual test ratio 0.18\n",
      "Between training\n",
      "Initialising training\n"
     ]
    },
    {
     "data": {
      "application/vnd.jupyter.widget-view+json": {
       "model_id": "d8b554be98144d4db943bf4541725bb8",
       "version_major": 2,
       "version_minor": 0
      },
      "text/plain": [
       "  0%|          | 0/5 [00:00<?, ?it/s]"
      ]
     },
     "metadata": {},
     "output_type": "display_data"
    },
    {
     "name": "stdout",
     "output_type": "stream",
     "text": [
      "Finished training after 151 seconds\n",
      "\n",
      "Within training\n",
      "Initialising training\n"
     ]
    },
    {
     "data": {
      "application/vnd.jupyter.widget-view+json": {
       "model_id": "1ae785a7db97479d962eaa5f94a7fd5b",
       "version_major": 2,
       "version_minor": 0
      },
      "text/plain": [
       "  0%|          | 0/5 [00:00<?, ?it/s]"
      ]
     },
     "metadata": {},
     "output_type": "display_data"
    },
    {
     "name": "stdout",
     "output_type": "stream",
     "text": [
      "Finished training after 336 seconds\n",
      "....................................................................................................\n",
      "{'r2': {'overall': 0.5022294933132494, 'between': 0.5227742028540355, 'within': 0.003975727363945003}, 'mse': {'overall': 1.0869339208658872, 'between': 1.1417236269024638, 'within': 0.0754515151133333}}\n",
      "....................................................................................................\n",
      "====================================================================================================\n",
      "Iteration 3\n",
      "====================================================================================================\n",
      "Fold 0, specified test ratio: 0.2 - Actual test ratio 0.21\n",
      "Fold 1, specified test ratio: 0.2 - Actual test ratio 0.20\n",
      "Fold 2, specified test ratio: 0.2 - Actual test ratio 0.21\n",
      "Fold 3, specified test ratio: 0.2 - Actual test ratio 0.20\n",
      "Fold 4, specified test ratio: 0.2 - Actual test ratio 0.17\n",
      "Between training\n",
      "Initialising training\n"
     ]
    },
    {
     "data": {
      "application/vnd.jupyter.widget-view+json": {
       "model_id": "8dc93bf0cc1b401b8d84c725d85d8b07",
       "version_major": 2,
       "version_minor": 0
      },
      "text/plain": [
       "  0%|          | 0/5 [00:00<?, ?it/s]"
      ]
     },
     "metadata": {},
     "output_type": "display_data"
    },
    {
     "name": "stdout",
     "output_type": "stream",
     "text": [
      "Finished training after 165 seconds\n",
      "\n",
      "Within training\n",
      "Initialising training\n"
     ]
    },
    {
     "data": {
      "application/vnd.jupyter.widget-view+json": {
       "model_id": "30f5b1b06f5d400ab72cd160ce6efc5b",
       "version_major": 2,
       "version_minor": 0
      },
      "text/plain": [
       "  0%|          | 0/5 [00:00<?, ?it/s]"
      ]
     },
     "metadata": {},
     "output_type": "display_data"
    },
    {
     "name": "stdout",
     "output_type": "stream",
     "text": [
      "Finished training after 339 seconds\n",
      "....................................................................................................\n",
      "{'r2': {'overall': 0.49017472894694886, 'between': 0.5084122798849106, 'within': -0.008111952030750037}, 'mse': {'overall': 1.0955782139965287, 'between': 1.1503970613830434, 'within': 0.07522516566956947}}\n",
      "....................................................................................................\n",
      "====================================================================================================\n",
      "Iteration 4\n",
      "====================================================================================================\n",
      "Fold 0, specified test ratio: 0.2 - Actual test ratio 0.23\n",
      "Fold 1, specified test ratio: 0.2 - Actual test ratio 0.20\n",
      "Fold 2, specified test ratio: 0.2 - Actual test ratio 0.20\n",
      "Fold 3, specified test ratio: 0.2 - Actual test ratio 0.20\n",
      "Fold 4, specified test ratio: 0.2 - Actual test ratio 0.16\n",
      "Between training\n",
      "Initialising training\n"
     ]
    },
    {
     "data": {
      "application/vnd.jupyter.widget-view+json": {
       "model_id": "dd5e924fce9f4ff180e88ed855007b54",
       "version_major": 2,
       "version_minor": 0
      },
      "text/plain": [
       "  0%|          | 0/5 [00:00<?, ?it/s]"
      ]
     },
     "metadata": {},
     "output_type": "display_data"
    },
    {
     "name": "stdout",
     "output_type": "stream",
     "text": [
      "Finished training after 156 seconds\n",
      "\n",
      "Within training\n",
      "Initialising training\n"
     ]
    },
    {
     "data": {
      "application/vnd.jupyter.widget-view+json": {
       "model_id": "562ab66572b748f8b0e1657d5cfea24f",
       "version_major": 2,
       "version_minor": 0
      },
      "text/plain": [
       "  0%|          | 0/5 [00:00<?, ?it/s]"
      ]
     },
     "metadata": {},
     "output_type": "display_data"
    },
    {
     "name": "stdout",
     "output_type": "stream",
     "text": [
      "Finished training after 337 seconds\n",
      "....................................................................................................\n",
      "{'r2': {'overall': 0.48624717310232557, 'between': 0.5032669435267736, 'within': -0.003072467727322792}, 'mse': {'overall': 1.0882200267423268, 'between': 1.1438875304998806, 'within': 0.07467011568625055}}\n",
      "....................................................................................................\n",
      "====================================================================================================\n",
      "Iteration 5\n",
      "====================================================================================================\n",
      "Fold 0, specified test ratio: 0.2 - Actual test ratio 0.26\n",
      "Fold 1, specified test ratio: 0.2 - Actual test ratio 0.21\n",
      "Fold 2, specified test ratio: 0.2 - Actual test ratio 0.20\n",
      "Fold 3, specified test ratio: 0.2 - Actual test ratio 0.20\n",
      "Fold 4, specified test ratio: 0.2 - Actual test ratio 0.13\n",
      "Between training\n",
      "Initialising training\n"
     ]
    },
    {
     "data": {
      "application/vnd.jupyter.widget-view+json": {
       "model_id": "e6150eee179d4b1fb368adef79242e49",
       "version_major": 2,
       "version_minor": 0
      },
      "text/plain": [
       "  0%|          | 0/5 [00:00<?, ?it/s]"
      ]
     },
     "metadata": {},
     "output_type": "display_data"
    },
    {
     "name": "stdout",
     "output_type": "stream",
     "text": [
      "Finished training after 152 seconds\n",
      "\n",
      "Within training\n",
      "Initialising training\n"
     ]
    },
    {
     "data": {
      "application/vnd.jupyter.widget-view+json": {
       "model_id": "7604798b40d74dca86a2d3a8ee18a87a",
       "version_major": 2,
       "version_minor": 0
      },
      "text/plain": [
       "  0%|          | 0/5 [00:00<?, ?it/s]"
      ]
     },
     "metadata": {},
     "output_type": "display_data"
    },
    {
     "name": "stdout",
     "output_type": "stream",
     "text": [
      "Finished training after 340 seconds\n",
      "....................................................................................................\n",
      "{'r2': {'overall': 0.4731792212911332, 'between': 0.4830192127123397, 'within': -0.0021681648705473176}, 'mse': {'overall': 1.095859626075045, 'between': 1.162587849423459, 'within': 0.07418151032329716}}\n",
      "....................................................................................................\n",
      "====================================================================================================\n",
      "Iteration 6\n",
      "====================================================================================================\n",
      "Fold 0, specified test ratio: 0.2 - Actual test ratio 0.21\n",
      "Fold 1, specified test ratio: 0.2 - Actual test ratio 0.20\n",
      "Fold 2, specified test ratio: 0.2 - Actual test ratio 0.20\n",
      "Fold 3, specified test ratio: 0.2 - Actual test ratio 0.20\n",
      "Fold 4, specified test ratio: 0.2 - Actual test ratio 0.18\n",
      "Between training\n",
      "Initialising training\n"
     ]
    },
    {
     "data": {
      "application/vnd.jupyter.widget-view+json": {
       "model_id": "33e4a3ad6065460b8102e3ae150109d7",
       "version_major": 2,
       "version_minor": 0
      },
      "text/plain": [
       "  0%|          | 0/5 [00:00<?, ?it/s]"
      ]
     },
     "metadata": {},
     "output_type": "display_data"
    },
    {
     "name": "stdout",
     "output_type": "stream",
     "text": [
      "Finished training after 171 seconds\n",
      "\n",
      "Within training\n",
      "Initialising training\n"
     ]
    },
    {
     "data": {
      "application/vnd.jupyter.widget-view+json": {
       "model_id": "b5194af1027a4cd8ba47684842a19572",
       "version_major": 2,
       "version_minor": 0
      },
      "text/plain": [
       "  0%|          | 0/5 [00:00<?, ?it/s]"
      ]
     },
     "metadata": {},
     "output_type": "display_data"
    },
    {
     "name": "stdout",
     "output_type": "stream",
     "text": [
      "Finished training after 354 seconds\n",
      "....................................................................................................\n",
      "{'r2': {'overall': 0.49847093696885264, 'between': 0.5202195909821432, 'within': 0.0006841561275719998}, 'mse': {'overall': 1.103543166347867, 'between': 1.146001294653968, 'within': 0.07494956399424917}}\n",
      "....................................................................................................\n",
      "====================================================================================================\n",
      "Iteration 7\n",
      "====================================================================================================\n",
      "Fold 0, specified test ratio: 0.2 - Actual test ratio 0.25\n",
      "Fold 1, specified test ratio: 0.2 - Actual test ratio 0.20\n",
      "Fold 2, specified test ratio: 0.2 - Actual test ratio 0.20\n",
      "Fold 3, specified test ratio: 0.2 - Actual test ratio 0.20\n",
      "Fold 4, specified test ratio: 0.2 - Actual test ratio 0.14\n",
      "Between training\n",
      "Initialising training\n"
     ]
    },
    {
     "data": {
      "application/vnd.jupyter.widget-view+json": {
       "model_id": "31f93a7dc1d84eb2b5929f12743529f1",
       "version_major": 2,
       "version_minor": 0
      },
      "text/plain": [
       "  0%|          | 0/5 [00:00<?, ?it/s]"
      ]
     },
     "metadata": {},
     "output_type": "display_data"
    },
    {
     "name": "stdout",
     "output_type": "stream",
     "text": [
      "Finished training after 162 seconds\n",
      "\n",
      "Within training\n",
      "Initialising training\n"
     ]
    },
    {
     "data": {
      "application/vnd.jupyter.widget-view+json": {
       "model_id": "9e8dce0831d44e63a8c465b59530f2b4",
       "version_major": 2,
       "version_minor": 0
      },
      "text/plain": [
       "  0%|          | 0/5 [00:00<?, ?it/s]"
      ]
     },
     "metadata": {},
     "output_type": "display_data"
    },
    {
     "name": "stdout",
     "output_type": "stream",
     "text": [
      "Finished training after 339 seconds\n",
      "....................................................................................................\n",
      "{'r2': {'overall': 0.48668385788967206, 'between': 0.500887746647168, 'within': -0.0008819742414799103}, 'mse': {'overall': 1.0776850574476722, 'between': 1.143938381572645, 'within': 0.07425714423416604}}\n",
      "....................................................................................................\n",
      "====================================================================================================\n",
      "Iteration 8\n",
      "====================================================================================================\n",
      "Fold 0, specified test ratio: 0.2 - Actual test ratio 0.23\n",
      "Fold 1, specified test ratio: 0.2 - Actual test ratio 0.20\n",
      "Fold 2, specified test ratio: 0.2 - Actual test ratio 0.20\n",
      "Fold 3, specified test ratio: 0.2 - Actual test ratio 0.20\n",
      "Fold 4, specified test ratio: 0.2 - Actual test ratio 0.16\n",
      "Between training\n",
      "Initialising training\n"
     ]
    },
    {
     "data": {
      "application/vnd.jupyter.widget-view+json": {
       "model_id": "169b81b91e9f4a409d21fdceabdf586a",
       "version_major": 2,
       "version_minor": 0
      },
      "text/plain": [
       "  0%|          | 0/5 [00:00<?, ?it/s]"
      ]
     },
     "metadata": {},
     "output_type": "display_data"
    },
    {
     "name": "stdout",
     "output_type": "stream",
     "text": [
      "Finished training after 171 seconds\n",
      "\n",
      "Within training\n",
      "Initialising training\n"
     ]
    },
    {
     "data": {
      "application/vnd.jupyter.widget-view+json": {
       "model_id": "9d5071f7d471403bb06981b0cbe1bf47",
       "version_major": 2,
       "version_minor": 0
      },
      "text/plain": [
       "  0%|          | 0/5 [00:00<?, ?it/s]"
      ]
     },
     "metadata": {},
     "output_type": "display_data"
    },
    {
     "name": "stdout",
     "output_type": "stream",
     "text": [
      "Finished training after 344 seconds\n",
      "....................................................................................................\n",
      "{'r2': {'overall': 0.4909868928073466, 'between': 0.5047568392187705, 'within': 0.003044395363351482}, 'mse': {'overall': 1.0756895688094001, 'between': 1.13844925655747, 'within': 0.0743435096069994}}\n",
      "....................................................................................................\n",
      "====================================================================================================\n",
      "Iteration 9\n",
      "====================================================================================================\n",
      "Fold 0, specified test ratio: 0.2 - Actual test ratio 0.21\n",
      "Fold 1, specified test ratio: 0.2 - Actual test ratio 0.20\n",
      "Fold 2, specified test ratio: 0.2 - Actual test ratio 0.20\n",
      "Fold 3, specified test ratio: 0.2 - Actual test ratio 0.20\n",
      "Fold 4, specified test ratio: 0.2 - Actual test ratio 0.19\n",
      "Between training\n",
      "Initialising training\n"
     ]
    },
    {
     "data": {
      "application/vnd.jupyter.widget-view+json": {
       "model_id": "7c93002036864aeda52b29ebd8d33b60",
       "version_major": 2,
       "version_minor": 0
      },
      "text/plain": [
       "  0%|          | 0/5 [00:00<?, ?it/s]"
      ]
     },
     "metadata": {},
     "output_type": "display_data"
    },
    {
     "name": "stdout",
     "output_type": "stream",
     "text": [
      "Finished training after 152 seconds\n",
      "\n",
      "Within training\n",
      "Initialising training\n"
     ]
    },
    {
     "data": {
      "application/vnd.jupyter.widget-view+json": {
       "model_id": "91923fc4ef8244b2936c5073df4a92ba",
       "version_major": 2,
       "version_minor": 0
      },
      "text/plain": [
       "  0%|          | 0/5 [00:00<?, ?it/s]"
      ]
     },
     "metadata": {},
     "output_type": "display_data"
    },
    {
     "name": "stdout",
     "output_type": "stream",
     "text": [
      "Finished training after 339 seconds\n",
      "....................................................................................................\n",
      "{'r2': {'overall': 0.4934523386858053, 'between': 0.5172519639484899, 'within': 0.001786743603673413}, 'mse': {'overall': 1.0822288179581783, 'between': 1.1291558565306428, 'within': 0.07540251041631639}}\n",
      "....................................................................................................\n"
     ]
    }
   ],
   "source": [
    "# run repeated cross validation\n",
    "rep_cv_res_asset = {\n",
    "    'between_r2': [],\n",
    "    'within_r2': [],\n",
    "    'overall_r2': []\n",
    "}\n",
    "\n",
    "for j in range(10):\n",
    "    print(\"=\"*100)\n",
    "    print(f\"Iteration {j}\")\n",
    "    print(\"=\"*100)\n",
    "    rep_seed = random_seed + j\n",
    "    \n",
    "    # divide the data into k different folds\n",
    "    fold_ids = split_lsms_spatial(lsms_df, n_folds = n_folds, random_seed = spatial_cv_random_seed + j)\n",
    "    \n",
    "    # run the bewtween training\n",
    "    print('Between training')\n",
    "    between_cv_trainer_asset = rf.CrossValidator(cl_df_norm, \n",
    "                                                fold_ids, \n",
    "                                                between_target_var, \n",
    "                                                between_x_vars, \n",
    "                                                id_var = 'cluster_id', \n",
    "                                                random_seed = rep_seed)\n",
    "    between_cv_trainer_asset.run_cv_training(min_samples_leaf = 1)\n",
    "    \n",
    "    # run the within training\n",
    "    print(\"\\nWithin training\")\n",
    "    within_cv_trainer_asset = rf.CrossValidator(demeaned_df_norm, \n",
    "                                               fold_ids, \n",
    "                                               within_target_var, \n",
    "                                               within_x_vars, \n",
    "                                               id_var = 'unique_id', \n",
    "                                               random_seed = rep_seed)\n",
    "    within_cv_trainer_asset.run_cv_training(min_samples_leaf = 15)\n",
    "    \n",
    "    # combine both models\n",
    "    combined_model_asset = CombinedModel(lsms_df, between_cv_trainer_asset, within_cv_trainer_asset)\n",
    "    combined_model_asset.evaluate()\n",
    "    combined_results = combined_model_asset.compute_overall_performance(use_fold_weights = True)\n",
    "    \n",
    "    # store the results \n",
    "    rep_cv_res_asset['between_r2'].append(combined_results['r2']['between'])\n",
    "    rep_cv_res_asset['within_r2'].append(combined_results['r2']['within'])\n",
    "    rep_cv_res_asset['overall_r2'].append(combined_results['r2']['overall'])\n",
    "    \n",
    "    # print the results\n",
    "    print(\".\"*100)\n",
    "    print(combined_results)\n",
    "    print(\".\"*100)"
   ]
  },
  {
   "cell_type": "code",
   "execution_count": 24,
   "id": "8de374eb",
   "metadata": {},
   "outputs": [],
   "source": [
    "pth = 'results/baseline/rep_cv_res_asset.pkl'\n",
    "with open(pth, 'wb') as f:\n",
    "    pickle.dump(rep_cv_res_asset, f)"
   ]
  },
  {
   "cell_type": "code",
   "execution_count": 38,
   "id": "421ed9dd",
   "metadata": {},
   "outputs": [
    {
     "name": "stdout",
     "output_type": "stream",
     "text": [
      "& 0.5102 & -0.0017 & 0.4920 \\\\\n",
      "& \\footnotesize(0.0039) & \\footnotesize(0.0013) & \\footnotesize(0.0029)\\\\\n"
     ]
    }
   ],
   "source": [
    "mean_r2_asset = {k: np.mean(v) for k,v in rep_cv_res_asset.items()}\n",
    "se_r2_asset = {k: np.std(v)/np.sqrt(10) for k,v in rep_cv_res_asset.items()}\n",
    "\n",
    "# print as tex\n",
    "print(f\"& {mean_r2_asset['between_r2']:.4f} & {mean_r2_asset['within_r2']:.4f} & {mean_r2_asset['overall_r2']:.4f} \\\\\\\\\")\n",
    "print(f\"& \\\\footnotesize({se_r2_asset['between_r2']:.4f}) & \\\\footnotesize({se_r2_asset['within_r2']:.4f}) & \\\\footnotesize({se_r2_asset['overall_r2']:.4f})\\\\\\\\\")"
   ]
  }
 ],
 "metadata": {
  "kernelspec": {
   "display_name": "Python 3 (ipykernel)",
   "language": "python",
   "name": "python3"
  },
  "language_info": {
   "codemirror_mode": {
    "name": "ipython",
    "version": 3
   },
   "file_extension": ".py",
   "mimetype": "text/x-python",
   "name": "python",
   "nbconvert_exporter": "python",
   "pygments_lexer": "ipython3",
   "version": "3.10.12"
  }
 },
 "nbformat": 4,
 "nbformat_minor": 5
}
