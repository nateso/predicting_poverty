{
 "cells": [
  {
   "cell_type": "code",
   "execution_count": 2,
   "id": "a8d22ba2",
   "metadata": {},
   "outputs": [],
   "source": [
    "import pandas as pd\n",
    "import numpy as np\n",
    "import torch\n",
    "import pickle\n",
    "\n",
    "from sklearn.metrics import r2_score"
   ]
  },
  {
   "cell_type": "code",
   "execution_count": 3,
   "id": "0414af50",
   "metadata": {},
   "outputs": [],
   "source": [
    "from analysis_utils.CombinedModel import CombinedModel\n",
    "from analysis_utils.flagged_uids import flagged_uids\n",
    "from analysis_utils.spatial_CV import *\n",
    "from analysis_utils.variable_names import *"
   ]
  },
  {
   "cell_type": "code",
   "execution_count": 4,
   "id": "ac157218",
   "metadata": {},
   "outputs": [],
   "source": [
    "# set the global file paths\n",
    "root_data_dir = \"../../Data\"\n",
    "\n",
    "# the lsms data\n",
    "lsms_pth = f\"{root_data_dir}/lsms/processed/labels_cluster_v1.csv\"\n",
    "\n",
    "# load the feature and the label data\n",
    "lsms_df = pd.read_csv(lsms_pth)\n",
    "\n",
    "# remove flagged ids form dataset\n",
    "lsms_df = lsms_df[~lsms_df.unique_id.isin(flagged_uids)].reset_index()\n",
    "\n",
    "# add delta id to data\n",
    "lsms_df['delta_id'] = lsms_df.unique_id"
   ]
  },
  {
   "cell_type": "markdown",
   "id": "30dd89bd",
   "metadata": {},
   "source": [
    "# Consumption Expenditure"
   ]
  },
  {
   "cell_type": "code",
   "execution_count": 5,
   "id": "5a9bd327",
   "metadata": {},
   "outputs": [],
   "source": [
    "# load the within and between model results\n",
    "results_dir = \"results\"\n",
    "ls_cons_pth = f\"results/model_objects/within_cons_LS_cv.pkl\"\n",
    "rs_cons_pth = \"results/model_objects/within_cons_RS_cv.pkl\"\n",
    "\n",
    "with open(ls_cons_pth, 'rb') as f:\n",
    "    ls_cons = pickle.load(f)\n",
    "    \n",
    "with open(rs_cons_pth, 'rb') as f:\n",
    "    rs_cons = pickle.load(f)"
   ]
  },
  {
   "cell_type": "code",
   "execution_count": 6,
   "id": "c9af7c7e",
   "metadata": {},
   "outputs": [
    {
     "data": {
      "text/plain": [
       "{'train': [0.02758005707821698,\n",
       "  -6.7144596295865e-05,\n",
       "  0.02459709185273673,\n",
       "  0.015919383769434692,\n",
       "  0.020119390234220158],\n",
       " 'val': [-0.019317755009652826,\n",
       "  -2.7247613718639485e-06,\n",
       "  -0.03675914810740499,\n",
       "  -0.004765899684834762,\n",
       "  -0.0013341884328097464]}"
      ]
     },
     "execution_count": 6,
     "metadata": {},
     "output_type": "execute_result"
    }
   ],
   "source": [
    "ls_cons.res_r2"
   ]
  },
  {
   "cell_type": "code",
   "execution_count": 7,
   "id": "975dd1ac",
   "metadata": {},
   "outputs": [
    {
     "data": {
      "text/plain": [
       "{'train': [0.023048421322535484,\n",
       "  0.016575873129174523,\n",
       "  0.09599030041897638,\n",
       "  0.03024911352039994,\n",
       "  0.048382818922569015],\n",
       " 'val': [-0.020152815332056484,\n",
       "  -0.01197124026846108,\n",
       "  -0.049332627883871716,\n",
       "  0.01254466970791146,\n",
       "  -0.0025678573905913993]}"
      ]
     },
     "execution_count": 7,
     "metadata": {},
     "output_type": "execute_result"
    }
   ],
   "source": [
    "rs_cons.res_r2"
   ]
  },
  {
   "cell_type": "code",
   "execution_count": 8,
   "id": "ddbcf6a8",
   "metadata": {},
   "outputs": [
    {
     "data": {
      "text/plain": [
       "[{'lr': 0.01,\n",
       "  'batch_size': 64,\n",
       "  'alpha': 0.001,\n",
       "  'step_size': 2,\n",
       "  'gamma': 0.96,\n",
       "  'n_epochs': 148,\n",
       "  'patience': None},\n",
       " {'lr': 0.001,\n",
       "  'batch_size': 64,\n",
       "  'alpha': 0.01,\n",
       "  'step_size': 2,\n",
       "  'gamma': 0.96,\n",
       "  'n_epochs': 67,\n",
       "  'patience': None},\n",
       " {'lr': 0.001,\n",
       "  'batch_size': 64,\n",
       "  'alpha': 0.001,\n",
       "  'step_size': 2,\n",
       "  'gamma': 0.96,\n",
       "  'n_epochs': 39,\n",
       "  'patience': None},\n",
       " {'lr': 0.001,\n",
       "  'batch_size': 64,\n",
       "  'alpha': 0.001,\n",
       "  'step_size': 2,\n",
       "  'gamma': 0.96,\n",
       "  'n_epochs': 23,\n",
       "  'patience': None},\n",
       " {'lr': 0.001,\n",
       "  'batch_size': 64,\n",
       "  'alpha': 0.001,\n",
       "  'step_size': 2,\n",
       "  'gamma': 0.96,\n",
       "  'n_epochs': 39,\n",
       "  'patience': None}]"
      ]
     },
     "execution_count": 8,
     "metadata": {},
     "output_type": "execute_result"
    }
   ],
   "source": [
    "ls_cons.best_hyper_params"
   ]
  },
  {
   "cell_type": "code",
   "execution_count": 10,
   "id": "60c76e3e",
   "metadata": {},
   "outputs": [
    {
     "data": {
      "text/plain": [
       "{'train': [0.023048421322535484,\n",
       "  0.016575873129174523,\n",
       "  0.09599030041897638,\n",
       "  0.03024911352039994,\n",
       "  0.048382818922569015],\n",
       " 'val': [-0.020152815332056484,\n",
       "  -0.01197124026846108,\n",
       "  -0.049332627883871716,\n",
       "  0.01254466970791146,\n",
       "  -0.0025678573905913993]}"
      ]
     },
     "execution_count": 10,
     "metadata": {},
     "output_type": "execute_result"
    }
   ],
   "source": [
    "rs_cons.res_r2"
   ]
  },
  {
   "cell_type": "code",
   "execution_count": 14,
   "id": "d86d4623",
   "metadata": {},
   "outputs": [
    {
     "data": {
      "text/plain": [
       "{'train': [0.02758005707821698,\n",
       "  -6.7144596295865e-05,\n",
       "  0.02459709185273673,\n",
       "  0.015919383769434692,\n",
       "  0.020119390234220158],\n",
       " 'val': [-0.019317755009652826,\n",
       "  -2.7247613718639485e-06,\n",
       "  -0.03675914810740499,\n",
       "  -0.004765899684834762,\n",
       "  -0.0013341884328097464]}"
      ]
     },
     "execution_count": 14,
     "metadata": {},
     "output_type": "execute_result"
    }
   ],
   "source": [
    "ls_cons.res_r2"
   ]
  },
  {
   "cell_type": "markdown",
   "id": "923ab282",
   "metadata": {},
   "source": [
    "# Asset Index"
   ]
  },
  {
   "cell_type": "code",
   "execution_count": 15,
   "id": "aa6e5f44",
   "metadata": {},
   "outputs": [],
   "source": [
    "results_dir = \"results\"\n",
    "ls_asset_pth = f\"results/model_objects/within_asset_LS_cv.pkl\"\n",
    "rs_asset_pth = \"results/model_objects/within_asset_RS_cv.pkl\"\n",
    "\n",
    "with open(ls_asset_pth, 'rb') as f:\n",
    "    ls_asset = pickle.load(f)\n",
    "    \n",
    "with open(rs_asset_pth, 'rb') as f:\n",
    "    rs_asset = pickle.load(f)"
   ]
  },
  {
   "cell_type": "code",
   "execution_count": 16,
   "id": "cc92853e",
   "metadata": {},
   "outputs": [
    {
     "data": {
      "text/plain": [
       "{'train': [0.011395483903539061,\n",
       "  -0.0005951054312620663,\n",
       "  0.28749500939358985,\n",
       "  0.013447997823222702,\n",
       "  0.01427012628249602],\n",
       " 'val': [0.0038963649733166905,\n",
       "  -0.016472062379589758,\n",
       "  -0.2828245206560216,\n",
       "  0.016831505066255414,\n",
       "  2.660336618909298e-05]}"
      ]
     },
     "execution_count": 16,
     "metadata": {},
     "output_type": "execute_result"
    }
   ],
   "source": [
    "ls_asset.res_r2"
   ]
  },
  {
   "cell_type": "code",
   "execution_count": 17,
   "id": "99629a2c",
   "metadata": {},
   "outputs": [
    {
     "data": {
      "text/plain": [
       "{'train': [0.020959190770948877,\n",
       "  0.010464168277913855,\n",
       "  0.014909995250509067,\n",
       "  0.007292399832718455,\n",
       "  0.016537274799490742],\n",
       " 'val': [-0.002287232079051016,\n",
       "  0.011643646667764407,\n",
       "  -0.01786899334156833,\n",
       "  0.014496747764902396,\n",
       "  -0.011087235701415121]}"
      ]
     },
     "execution_count": 17,
     "metadata": {},
     "output_type": "execute_result"
    }
   ],
   "source": [
    "rs_asset.res_r2"
   ]
  },
  {
   "cell_type": "code",
   "execution_count": null,
   "id": "e9dc56a8",
   "metadata": {},
   "outputs": [],
   "source": []
  }
 ],
 "metadata": {
  "kernelspec": {
   "display_name": "Python 3 (ipykernel)",
   "language": "python",
   "name": "python3"
  },
  "language_info": {
   "codemirror_mode": {
    "name": "ipython",
    "version": 3
   },
   "file_extension": ".py",
   "mimetype": "text/x-python",
   "name": "python",
   "nbconvert_exporter": "python",
   "pygments_lexer": "ipython3",
   "version": "3.10.12"
  }
 },
 "nbformat": 4,
 "nbformat_minor": 5
}
