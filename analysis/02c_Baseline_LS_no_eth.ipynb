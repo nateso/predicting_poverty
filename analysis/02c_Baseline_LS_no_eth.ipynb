{
 "cells": [
  {
   "cell_type": "markdown",
   "id": "37007fa4",
   "metadata": {},
   "source": [
    "# Between model\n",
    "This model takes as input any variable that is static, that is the OSM variables, ESA Landcover variables and the WSF variables. Moreover, it takes the mean over all dynamic variables. The dynamic variables include Nightlights, NDVI, and NDWI_Gao as well as NDWI_McF. \n",
    "\n",
    "The idea is that the between model captures variation between clusters and thus the target variable for the between model is $\\bar{w}_c = \\frac{1}{T_c}\\sum_t^{T_c} w_{c,t}$ "
   ]
  },
  {
   "cell_type": "markdown",
   "id": "f948ff7f",
   "metadata": {},
   "source": [
    "# Within model\n",
    "This goal of this model is to predict the deviations from the cluster mean for each year. I.e. the model should capture variation within each cluster. To do so, the target variable is $\\tilde{w}_{ct} = w_{ct} - \\bar{w}_{c}$. \n",
    "\n",
    "For cluster $c$ in time period $t$, the feature vector is defined as $\\tilde{\\boldsymbol{x}}_{ct} = \\boldsymbol{x}_{ct} - \\bar{\\boldsymbol{x}}_{c}, where~\\bar{\\boldsymbol{x}}_{c} \\in \\mathbb{R}^{k\\times1}$. \n",
    "\n",
    "To predict $\\tilde{w}_{ct}$, I rely on $\\tilde{\\boldsymbol{x}}_{ct}$. This allows me to interpret the performance metric as the within R2, i.e. the share of the variance the model captures within clusters. \n",
    "\n",
    "\n",
    "(this does not help at all, thus disregard)...\n",
    "To augment the number of training observations, I train the model on deltas, rather than on the demeaned variables. This substantially increases the number of training observations and covers a wider range of differences, making the training dataset more versatile and robust. Ideally, this helps to learn from a wider range of differences and thus increases the out-of-sample when predicting $\\tilde{\\boldsymbol{w}}_{ct}$."
   ]
  },
  {
   "cell_type": "code",
   "execution_count": 1,
   "id": "7b9ca298",
   "metadata": {},
   "outputs": [],
   "source": [
    "import pandas as pd\n",
    "import matplotlib.pyplot as plt\n",
    "import matplotlib\n",
    "import pickle\n",
    "from sklearn.metrics import r2_score\n",
    "from sklearn.metrics import mean_squared_error"
   ]
  },
  {
   "cell_type": "code",
   "execution_count": 2,
   "id": "06be23a0",
   "metadata": {},
   "outputs": [],
   "source": [
    "# set the font size for matplotlib and the font family.\n",
    "font = {'family' : 'sans-serif',\n",
    "        'weight' : 'normal',\n",
    "        'size'   : 14}\n",
    "\n",
    "matplotlib.rc('font', **font)"
   ]
  },
  {
   "cell_type": "code",
   "execution_count": 3,
   "id": "8c8bc3ff",
   "metadata": {},
   "outputs": [],
   "source": [
    "# load the necessary functions from the analysis package\n",
    "\n",
    "# load the variable names, this allows to access the variables in the feature data in a compact way\n",
    "from analysis_utils.variable_names import *\n",
    "\n",
    "# load flagged ids \n",
    "from analysis_utils.flagged_uids import *\n",
    "\n",
    "# load the functions to do spatial k-fold CV\n",
    "from analysis_utils.spatial_CV import *\n",
    "\n",
    "# load the helper functions\n",
    "from analysis_utils.analysis_helpers import *\n",
    "\n",
    "# load the random forest trainer and cross_validator\n",
    "import analysis_utils.RandomForest as rf\n",
    "\n",
    "# load the combien model\n",
    "from analysis_utils.CombinedModel import CombinedModel"
   ]
  },
  {
   "cell_type": "code",
   "execution_count": 4,
   "id": "739dc09b",
   "metadata": {},
   "outputs": [],
   "source": [
    "# set the global file paths\n",
    "root_data_dir = \"../../Data\"\n",
    "\n",
    "# the lsms data\n",
    "lsms_pth = f\"{root_data_dir}/lsms/processed/labels_cluster_v1.csv\"\n",
    "\n",
    "# the feature data\n",
    "feat_data_pth = f\"{root_data_dir}/feature_data/tabular_data.csv\"\n",
    "\n",
    "# set the random seed\n",
    "random_seed = 423\n",
    "spatial_cv_random_seed = 348\n",
    "\n",
    "# set the number of folds for k-fold CV\n",
    "n_folds = 5"
   ]
  },
  {
   "cell_type": "code",
   "execution_count": 5,
   "id": "c468b531",
   "metadata": {},
   "outputs": [
    {
     "name": "stdout",
     "output_type": "stream",
     "text": [
      "Number of observations 6401\n",
      "Number of clusters 2128\n",
      "Number of x vars 113\n"
     ]
    }
   ],
   "source": [
    "# load the feature and the label data\n",
    "lsms_df = pd.read_csv(lsms_pth)\n",
    "# remove flagged ids form dataset\n",
    "lsms_df = lsms_df[~lsms_df.unique_id.isin(flagged_uids)].reset_index(drop = True)\n",
    "lsms_df = lsms_df[lsms_df.country != 'eth'].reset_index(drop = True)\n",
    "lsms_df['avg_log_mean_pc_cons_usd_2017'] = lsms_df.groupby('cluster_id')['log_mean_pc_cons_usd_2017'].transform('mean')\n",
    "lsms_df['avg_mean_asset_index_yeh'] = lsms_df.groupby('cluster_id')['mean_asset_index_yeh'].transform('mean')\n",
    "feat_df = pd.read_csv(feat_data_pth)\n",
    "\n",
    "# describe the training data broadly\n",
    "print(f\"Number of observations {len(lsms_df)}\")\n",
    "print(f\"Number of clusters {len(np.unique(lsms_df.cluster_id))}\")\n",
    "print(f\"Number of x vars {len(feat_df.columns)-2}\")"
   ]
  },
  {
   "cell_type": "code",
   "execution_count": 6,
   "id": "111de106",
   "metadata": {},
   "outputs": [],
   "source": [
    "# merge the label and the feature data to one dataset\n",
    "lsms_vars = ['unique_id', 'n_households',           \n",
    "             'log_mean_pc_cons_usd_2017', 'avg_log_mean_pc_cons_usd_2017',\n",
    "             'mean_asset_index_yeh', 'avg_mean_asset_index_yeh']\n",
    "df = pd.merge(lsms_df[lsms_vars], feat_df, on = 'unique_id', how = 'left')"
   ]
  },
  {
   "cell_type": "markdown",
   "id": "7b24eb66",
   "metadata": {},
   "source": [
    "# Run Training"
   ]
  },
  {
   "cell_type": "code",
   "execution_count": 7,
   "id": "4ec39c76",
   "metadata": {},
   "outputs": [],
   "source": [
    "# define the within and between x variables\n",
    "avg_rs_vars = avg_ndvi_vars + avg_ndwi_gao_vars + avg_nl_vars\n",
    "osm_vars = osm_dist_vars + osm_count_vars + osm_road_vars\n",
    "\n",
    "between_x_vars = osm_vars + esa_lc_vars + wsf_vars + avg_rs_vars + avg_preciptiation + median_rgb_vars\n",
    "\n",
    "dyn_rs_vars = dyn_ndvi_vars + dyn_ndwi_gao_vars + dyn_nl_vars\n",
    "within_x_vars = dyn_rs_vars + precipitation + dyn_rgb_vars"
   ]
  },
  {
   "cell_type": "markdown",
   "id": "2bbec1fc",
   "metadata": {},
   "source": [
    "### Target: Log per capita consumption"
   ]
  },
  {
   "cell_type": "code",
   "execution_count": 8,
   "id": "bda1dc59",
   "metadata": {},
   "outputs": [],
   "source": [
    "between_target_var = 'avg_log_mean_pc_cons_usd_2017'\n",
    "cl_df = df[['cluster_id', between_target_var] + between_x_vars].drop_duplicates().reset_index(drop = True)\n",
    "\n",
    "# normalise the feature data\n",
    "cl_df_norm = standardise_df(cl_df, exclude_cols = [between_target_var])"
   ]
  },
  {
   "cell_type": "code",
   "execution_count": 9,
   "id": "6f429484",
   "metadata": {},
   "outputs": [],
   "source": [
    "# get the within dataframe\n",
    "# define the within variables\n",
    "within_target_var = 'log_mean_pc_cons_usd_2017'\n",
    "within_df = df[['cluster_id','unique_id', within_target_var] + within_x_vars]\n",
    "\n",
    "# demean the data and standardise the variables\n",
    "demeaned_df = demean_df(within_df)\n",
    "demeaned_df_norm = standardise_df(demeaned_df, exclude_cols = [within_target_var])"
   ]
  },
  {
   "cell_type": "code",
   "execution_count": 10,
   "id": "bc87ce90",
   "metadata": {},
   "outputs": [
    {
     "name": "stdout",
     "output_type": "stream",
     "text": [
      "====================================================================================================\n",
      "Iteration 0\n",
      "====================================================================================================\n",
      "Fold 0, specified test ratio: 0.2 - Actual test ratio 0.20\n",
      "Fold 1, specified test ratio: 0.2 - Actual test ratio 0.20\n",
      "Fold 2, specified test ratio: 0.2 - Actual test ratio 0.21\n",
      "Fold 3, specified test ratio: 0.2 - Actual test ratio 0.20\n",
      "Fold 4, specified test ratio: 0.2 - Actual test ratio 0.19\n",
      "Between training\n",
      "Initialising training\n"
     ]
    },
    {
     "data": {
      "application/vnd.jupyter.widget-view+json": {
       "model_id": "343d81bb056140a5981462be829e1096",
       "version_major": 2,
       "version_minor": 0
      },
      "text/plain": [
       "  0%|          | 0/5 [00:00<?, ?it/s]"
      ]
     },
     "metadata": {},
     "output_type": "display_data"
    },
    {
     "name": "stdout",
     "output_type": "stream",
     "text": [
      "Finished training after 225 seconds\n",
      "\n",
      "Within training\n",
      "Initialising training\n"
     ]
    },
    {
     "data": {
      "application/vnd.jupyter.widget-view+json": {
       "model_id": "1f9e702c620f4e1cab914c428248d617",
       "version_major": 2,
       "version_minor": 0
      },
      "text/plain": [
       "  0%|          | 0/5 [00:00<?, ?it/s]"
      ]
     },
     "metadata": {},
     "output_type": "display_data"
    },
    {
     "name": "stdout",
     "output_type": "stream",
     "text": [
      "Finished training after 635 seconds\n",
      "....................................................................................................\n",
      "{'r2': {'overall': 0.39155521378372043, 'between': 0.4680397028161642, 'within': 0.003705636198842055}, 'mse': {'overall': 0.21292499678356339, 'between': 0.15544672368474663, 'within': 0.055883566073491764}}\n",
      "....................................................................................................\n",
      "====================================================================================================\n",
      "Iteration 1\n",
      "====================================================================================================\n",
      "Fold 0, specified test ratio: 0.2 - Actual test ratio 0.20\n",
      "Fold 1, specified test ratio: 0.2 - Actual test ratio 0.20\n",
      "Fold 2, specified test ratio: 0.2 - Actual test ratio 0.20\n",
      "Fold 3, specified test ratio: 0.2 - Actual test ratio 0.20\n",
      "Fold 4, specified test ratio: 0.2 - Actual test ratio 0.19\n",
      "Between training\n",
      "Initialising training\n"
     ]
    },
    {
     "data": {
      "application/vnd.jupyter.widget-view+json": {
       "model_id": "8f843245b29a4e0b8e8e57ac4f2d9117",
       "version_major": 2,
       "version_minor": 0
      },
      "text/plain": [
       "  0%|          | 0/5 [00:00<?, ?it/s]"
      ]
     },
     "metadata": {},
     "output_type": "display_data"
    },
    {
     "name": "stdout",
     "output_type": "stream",
     "text": [
      "Finished training after 207 seconds\n",
      "\n",
      "Within training\n",
      "Initialising training\n"
     ]
    },
    {
     "data": {
      "application/vnd.jupyter.widget-view+json": {
       "model_id": "fe75f7410e414f9faeeeba31f30418f6",
       "version_major": 2,
       "version_minor": 0
      },
      "text/plain": [
       "  0%|          | 0/5 [00:00<?, ?it/s]"
      ]
     },
     "metadata": {},
     "output_type": "display_data"
    },
    {
     "name": "stdout",
     "output_type": "stream",
     "text": [
      "Finished training after 618 seconds\n",
      "....................................................................................................\n",
      "{'r2': {'overall': 0.3632369829994231, 'between': 0.4373700346429812, 'within': 0.0018537607486119212}, 'mse': {'overall': 0.21381906535755235, 'between': 0.1563233863099223, 'within': 0.0560120688234916}}\n",
      "....................................................................................................\n",
      "====================================================================================================\n",
      "Iteration 2\n",
      "====================================================================================================\n",
      "Fold 0, specified test ratio: 0.2 - Actual test ratio 0.20\n",
      "Fold 1, specified test ratio: 0.2 - Actual test ratio 0.20\n",
      "Fold 2, specified test ratio: 0.2 - Actual test ratio 0.20\n",
      "Fold 3, specified test ratio: 0.2 - Actual test ratio 0.20\n",
      "Fold 4, specified test ratio: 0.2 - Actual test ratio 0.18\n",
      "Between training\n",
      "Initialising training\n"
     ]
    },
    {
     "data": {
      "application/vnd.jupyter.widget-view+json": {
       "model_id": "11d9d021e71c4fe8a0fdf4aaafc536c8",
       "version_major": 2,
       "version_minor": 0
      },
      "text/plain": [
       "  0%|          | 0/5 [00:00<?, ?it/s]"
      ]
     },
     "metadata": {},
     "output_type": "display_data"
    },
    {
     "name": "stdout",
     "output_type": "stream",
     "text": [
      "Finished training after 215 seconds\n",
      "\n",
      "Within training\n",
      "Initialising training\n"
     ]
    },
    {
     "data": {
      "application/vnd.jupyter.widget-view+json": {
       "model_id": "2b7b3b4cc6494a73a518019fba55afbd",
       "version_major": 2,
       "version_minor": 0
      },
      "text/plain": [
       "  0%|          | 0/5 [00:00<?, ?it/s]"
      ]
     },
     "metadata": {},
     "output_type": "display_data"
    },
    {
     "name": "stdout",
     "output_type": "stream",
     "text": [
      "Finished training after 612 seconds\n",
      "....................................................................................................\n",
      "{'r2': {'overall': 0.38917189553959275, 'between': 0.4703481901733915, 'within': 0.00237859081132914}, 'mse': {'overall': 0.21082247476267438, 'between': 0.15275229044326138, 'within': 0.05581419176714793}}\n",
      "....................................................................................................\n",
      "====================================================================================================\n",
      "Iteration 3\n",
      "====================================================================================================\n",
      "Fold 0, specified test ratio: 0.2 - Actual test ratio 0.21\n",
      "Fold 1, specified test ratio: 0.2 - Actual test ratio 0.20\n",
      "Fold 2, specified test ratio: 0.2 - Actual test ratio 0.21\n",
      "Fold 3, specified test ratio: 0.2 - Actual test ratio 0.20\n",
      "Fold 4, specified test ratio: 0.2 - Actual test ratio 0.17\n",
      "Between training\n",
      "Initialising training\n"
     ]
    },
    {
     "data": {
      "application/vnd.jupyter.widget-view+json": {
       "model_id": "feec6a9776b7449b9dad0d225f12d8d1",
       "version_major": 2,
       "version_minor": 0
      },
      "text/plain": [
       "  0%|          | 0/5 [00:00<?, ?it/s]"
      ]
     },
     "metadata": {},
     "output_type": "display_data"
    },
    {
     "name": "stdout",
     "output_type": "stream",
     "text": [
      "Finished training after 203 seconds\n",
      "\n",
      "Within training\n",
      "Initialising training\n"
     ]
    },
    {
     "data": {
      "application/vnd.jupyter.widget-view+json": {
       "model_id": "d5fb36827a7347d5b9018134cdb348ed",
       "version_major": 2,
       "version_minor": 0
      },
      "text/plain": [
       "  0%|          | 0/5 [00:00<?, ?it/s]"
      ]
     },
     "metadata": {},
     "output_type": "display_data"
    },
    {
     "name": "stdout",
     "output_type": "stream",
     "text": [
      "Finished training after 597 seconds\n",
      "....................................................................................................\n",
      "{'r2': {'overall': 0.3664360324487099, 'between': 0.44387537729956195, 'within': 0.008591513752220493}, 'mse': {'overall': 0.21271344532624759, 'between': 0.15538676518979067, 'within': 0.055612671045043895}}\n",
      "....................................................................................................\n",
      "====================================================================================================\n",
      "Iteration 4\n",
      "====================================================================================================\n",
      "Fold 0, specified test ratio: 0.2 - Actual test ratio 0.23\n",
      "Fold 1, specified test ratio: 0.2 - Actual test ratio 0.20\n",
      "Fold 2, specified test ratio: 0.2 - Actual test ratio 0.20\n",
      "Fold 3, specified test ratio: 0.2 - Actual test ratio 0.20\n",
      "Fold 4, specified test ratio: 0.2 - Actual test ratio 0.16\n",
      "Between training\n",
      "Initialising training\n"
     ]
    },
    {
     "data": {
      "application/vnd.jupyter.widget-view+json": {
       "model_id": "40ca8e4acc0a4e37ae9780bd8e195258",
       "version_major": 2,
       "version_minor": 0
      },
      "text/plain": [
       "  0%|          | 0/5 [00:00<?, ?it/s]"
      ]
     },
     "metadata": {},
     "output_type": "display_data"
    },
    {
     "name": "stdout",
     "output_type": "stream",
     "text": [
      "Finished training after 204 seconds\n",
      "\n",
      "Within training\n",
      "Initialising training\n"
     ]
    },
    {
     "data": {
      "application/vnd.jupyter.widget-view+json": {
       "model_id": "3eb76e3f11f14b74b06c110b0d296f75",
       "version_major": 2,
       "version_minor": 0
      },
      "text/plain": [
       "  0%|          | 0/5 [00:00<?, ?it/s]"
      ]
     },
     "metadata": {},
     "output_type": "display_data"
    },
    {
     "name": "stdout",
     "output_type": "stream",
     "text": [
      "Finished training after 599 seconds\n",
      "....................................................................................................\n",
      "{'r2': {'overall': 0.3723362651615978, 'between': 0.44668153536773103, 'within': -0.0015186259292346849}, 'mse': {'overall': 0.21502889952020454, 'between': 0.1568348807528071, 'within': 0.05634750434870563}}\n",
      "....................................................................................................\n",
      "====================================================================================================\n",
      "Iteration 5\n",
      "====================================================================================================\n",
      "Fold 0, specified test ratio: 0.2 - Actual test ratio 0.26\n",
      "Fold 1, specified test ratio: 0.2 - Actual test ratio 0.21\n",
      "Fold 2, specified test ratio: 0.2 - Actual test ratio 0.20\n",
      "Fold 3, specified test ratio: 0.2 - Actual test ratio 0.20\n",
      "Fold 4, specified test ratio: 0.2 - Actual test ratio 0.13\n",
      "Between training\n",
      "Initialising training\n"
     ]
    },
    {
     "data": {
      "application/vnd.jupyter.widget-view+json": {
       "model_id": "607099de8fd1436ba4894d647ffb6fc7",
       "version_major": 2,
       "version_minor": 0
      },
      "text/plain": [
       "  0%|          | 0/5 [00:00<?, ?it/s]"
      ]
     },
     "metadata": {},
     "output_type": "display_data"
    },
    {
     "name": "stdout",
     "output_type": "stream",
     "text": [
      "Finished training after 196 seconds\n",
      "\n",
      "Within training\n",
      "Initialising training\n"
     ]
    },
    {
     "data": {
      "application/vnd.jupyter.widget-view+json": {
       "model_id": "a3754be71e1d4f70ae44e777d7d30836",
       "version_major": 2,
       "version_minor": 0
      },
      "text/plain": [
       "  0%|          | 0/5 [00:00<?, ?it/s]"
      ]
     },
     "metadata": {},
     "output_type": "display_data"
    },
    {
     "name": "stdout",
     "output_type": "stream",
     "text": [
      "Finished training after 606 seconds\n",
      "....................................................................................................\n",
      "{'r2': {'overall': 0.38435210321311375, 'between': 0.4603291929287872, 'within': 0.00557204768222479}, 'mse': {'overall': 0.21001375106732884, 'between': 0.15233050590403518, 'within': 0.056548653399934715}}\n",
      "....................................................................................................\n",
      "====================================================================================================\n",
      "Iteration 6\n",
      "====================================================================================================\n",
      "Fold 0, specified test ratio: 0.2 - Actual test ratio 0.21\n",
      "Fold 1, specified test ratio: 0.2 - Actual test ratio 0.20\n",
      "Fold 2, specified test ratio: 0.2 - Actual test ratio 0.20\n",
      "Fold 3, specified test ratio: 0.2 - Actual test ratio 0.20\n",
      "Fold 4, specified test ratio: 0.2 - Actual test ratio 0.18\n",
      "Between training\n",
      "Initialising training\n"
     ]
    },
    {
     "data": {
      "application/vnd.jupyter.widget-view+json": {
       "model_id": "4f58e7c4c8f74961a40381d2f1b77d7b",
       "version_major": 2,
       "version_minor": 0
      },
      "text/plain": [
       "  0%|          | 0/5 [00:00<?, ?it/s]"
      ]
     },
     "metadata": {},
     "output_type": "display_data"
    },
    {
     "name": "stdout",
     "output_type": "stream",
     "text": [
      "Finished training after 202 seconds\n",
      "\n",
      "Within training\n",
      "Initialising training\n"
     ]
    },
    {
     "data": {
      "application/vnd.jupyter.widget-view+json": {
       "model_id": "64199d676faa47fba2692ef7def58bc0",
       "version_major": 2,
       "version_minor": 0
      },
      "text/plain": [
       "  0%|          | 0/5 [00:00<?, ?it/s]"
      ]
     },
     "metadata": {},
     "output_type": "display_data"
    },
    {
     "name": "stdout",
     "output_type": "stream",
     "text": [
      "Finished training after 609 seconds\n",
      "....................................................................................................\n",
      "{'r2': {'overall': 0.38722803466250666, 'between': 0.4653559140463946, 'within': 0.007717241156519816}, 'mse': {'overall': 0.21165597495621868, 'between': 0.1537418243454254, 'within': 0.05554887488447757}}\n",
      "....................................................................................................\n",
      "====================================================================================================\n",
      "Iteration 7\n",
      "====================================================================================================\n",
      "Fold 0, specified test ratio: 0.2 - Actual test ratio 0.25\n",
      "Fold 1, specified test ratio: 0.2 - Actual test ratio 0.20\n",
      "Fold 2, specified test ratio: 0.2 - Actual test ratio 0.20\n",
      "Fold 3, specified test ratio: 0.2 - Actual test ratio 0.20\n",
      "Fold 4, specified test ratio: 0.2 - Actual test ratio 0.14\n",
      "Between training\n",
      "Initialising training\n"
     ]
    },
    {
     "data": {
      "application/vnd.jupyter.widget-view+json": {
       "model_id": "7bea03ef116a46b2a5896a2efa1b19d4",
       "version_major": 2,
       "version_minor": 0
      },
      "text/plain": [
       "  0%|          | 0/5 [00:00<?, ?it/s]"
      ]
     },
     "metadata": {},
     "output_type": "display_data"
    },
    {
     "name": "stdout",
     "output_type": "stream",
     "text": [
      "Finished training after 205 seconds\n",
      "\n",
      "Within training\n",
      "Initialising training\n"
     ]
    },
    {
     "data": {
      "application/vnd.jupyter.widget-view+json": {
       "model_id": "9bc236a1187a43dca32bf099d3a6a6f2",
       "version_major": 2,
       "version_minor": 0
      },
      "text/plain": [
       "  0%|          | 0/5 [00:00<?, ?it/s]"
      ]
     },
     "metadata": {},
     "output_type": "display_data"
    },
    {
     "name": "stdout",
     "output_type": "stream",
     "text": [
      "Finished training after 603 seconds\n",
      "....................................................................................................\n",
      "{'r2': {'overall': 0.37614271414402994, 'between': 0.45284080864933723, 'within': 0.005552845649828742}, 'mse': {'overall': 0.21066042633531942, 'between': 0.15363118655566205, 'within': 0.05632444158107837}}\n",
      "....................................................................................................\n",
      "====================================================================================================\n",
      "Iteration 8\n",
      "====================================================================================================\n",
      "Fold 0, specified test ratio: 0.2 - Actual test ratio 0.23\n",
      "Fold 1, specified test ratio: 0.2 - Actual test ratio 0.20\n",
      "Fold 2, specified test ratio: 0.2 - Actual test ratio 0.20\n",
      "Fold 3, specified test ratio: 0.2 - Actual test ratio 0.20\n",
      "Fold 4, specified test ratio: 0.2 - Actual test ratio 0.16\n",
      "Between training\n",
      "Initialising training\n"
     ]
    },
    {
     "data": {
      "application/vnd.jupyter.widget-view+json": {
       "model_id": "af693e9075894a49a7cf27ab3dc9799d",
       "version_major": 2,
       "version_minor": 0
      },
      "text/plain": [
       "  0%|          | 0/5 [00:00<?, ?it/s]"
      ]
     },
     "metadata": {},
     "output_type": "display_data"
    },
    {
     "name": "stdout",
     "output_type": "stream",
     "text": [
      "Finished training after 200 seconds\n",
      "\n",
      "Within training\n",
      "Initialising training\n"
     ]
    },
    {
     "data": {
      "application/vnd.jupyter.widget-view+json": {
       "model_id": "73100737c2474f2981764dc923ce36e5",
       "version_major": 2,
       "version_minor": 0
      },
      "text/plain": [
       "  0%|          | 0/5 [00:00<?, ?it/s]"
      ]
     },
     "metadata": {},
     "output_type": "display_data"
    },
    {
     "name": "stdout",
     "output_type": "stream",
     "text": [
      "Finished training after 605 seconds\n",
      "....................................................................................................\n",
      "{'r2': {'overall': 0.3738208145856476, 'between': 0.4575603867917326, 'within': 0.005820838823327401}, 'mse': {'overall': 0.21283779099020836, 'between': 0.15413245592899416, 'within': 0.05555108438759515}}\n",
      "....................................................................................................\n",
      "====================================================================================================\n",
      "Iteration 9\n",
      "====================================================================================================\n",
      "Fold 0, specified test ratio: 0.2 - Actual test ratio 0.21\n",
      "Fold 1, specified test ratio: 0.2 - Actual test ratio 0.20\n",
      "Fold 2, specified test ratio: 0.2 - Actual test ratio 0.20\n",
      "Fold 3, specified test ratio: 0.2 - Actual test ratio 0.20\n",
      "Fold 4, specified test ratio: 0.2 - Actual test ratio 0.19\n",
      "Between training\n",
      "Initialising training\n"
     ]
    },
    {
     "data": {
      "application/vnd.jupyter.widget-view+json": {
       "model_id": "944355128e9b4add87727cfd7437a640",
       "version_major": 2,
       "version_minor": 0
      },
      "text/plain": [
       "  0%|          | 0/5 [00:00<?, ?it/s]"
      ]
     },
     "metadata": {},
     "output_type": "display_data"
    },
    {
     "name": "stdout",
     "output_type": "stream",
     "text": [
      "Finished training after 193 seconds\n",
      "\n",
      "Within training\n",
      "Initialising training\n"
     ]
    },
    {
     "data": {
      "application/vnd.jupyter.widget-view+json": {
       "model_id": "92f66a1d1f7d487b879d3a6eddaedfe3",
       "version_major": 2,
       "version_minor": 0
      },
      "text/plain": [
       "  0%|          | 0/5 [00:00<?, ?it/s]"
      ]
     },
     "metadata": {},
     "output_type": "display_data"
    },
    {
     "name": "stdout",
     "output_type": "stream",
     "text": [
      "Finished training after 608 seconds\n",
      "....................................................................................................\n",
      "{'r2': {'overall': 0.38018968916801243, 'between': 0.4588353562899485, 'within': 0.007362914972187018}, 'mse': {'overall': 0.21224794884267079, 'between': 0.15447896843223147, 'within': 0.05567021959741114}}\n",
      "....................................................................................................\n"
     ]
    }
   ],
   "source": [
    "# run repeated cross validation\n",
    "rep_cv_res_cons = {\n",
    "    'between_r2': [],\n",
    "    'within_r2': [],\n",
    "    'overall_r2': []\n",
    "}\n",
    "\n",
    "for j in range(10):\n",
    "    print(\"=\"*100)\n",
    "    print(f\"Iteration {j}\")\n",
    "    print(\"=\"*100)\n",
    "    rep_seed = random_seed + j\n",
    "    \n",
    "    # divide the data into k different folds\n",
    "    fold_ids = split_lsms_spatial(lsms_df, n_folds = n_folds, random_seed = spatial_cv_random_seed + j)\n",
    "    \n",
    "    # run the bewtween training\n",
    "    print('Between training')\n",
    "    between_cv_trainer_cons = rf.CrossValidator(cl_df_norm, \n",
    "                                                fold_ids, \n",
    "                                                between_target_var, \n",
    "                                                between_x_vars, \n",
    "                                                id_var = 'cluster_id', \n",
    "                                                random_seed = rep_seed)\n",
    "    between_cv_trainer_cons.run_cv_training(min_samples_leaf = 1)\n",
    "    \n",
    "    # run the within training\n",
    "    print(\"\\nWithin training\")\n",
    "    within_cv_trainer_cons = rf.CrossValidator(demeaned_df_norm, \n",
    "                                               fold_ids, \n",
    "                                               within_target_var, \n",
    "                                               within_x_vars, \n",
    "                                               id_var = 'unique_id', \n",
    "                                               random_seed = rep_seed)\n",
    "    within_cv_trainer_cons.run_cv_training(min_samples_leaf = 15)\n",
    "    \n",
    "    # combine both models\n",
    "    combined_model_cons = CombinedModel(lsms_df, between_cv_trainer_cons, within_cv_trainer_cons)\n",
    "    combined_model_cons.evaluate()\n",
    "    combined_results = combined_model_cons.compute_overall_performance(use_fold_weights = True)\n",
    "    \n",
    "    # store the results \n",
    "    rep_cv_res_cons['between_r2'].append(combined_results['r2']['between'])\n",
    "    rep_cv_res_cons['within_r2'].append(combined_results['r2']['within'])\n",
    "    rep_cv_res_cons['overall_r2'].append(combined_results['r2']['overall'])\n",
    "    \n",
    "    # print the results\n",
    "    print(\".\"*100)\n",
    "    print(combined_results)\n",
    "    print(\".\"*100)"
   ]
  },
  {
   "cell_type": "code",
   "execution_count": 11,
   "id": "704fcc6f",
   "metadata": {},
   "outputs": [],
   "source": [
    "pth = 'results/baseline_ls/rep_cv_res_cons_no_eth.pkl'\n",
    "with open(pth, 'wb') as f:\n",
    "    pickle.dump(rep_cv_res_cons, f)"
   ]
  },
  {
   "cell_type": "code",
   "execution_count": 12,
   "id": "ffd68b9a",
   "metadata": {},
   "outputs": [
    {
     "name": "stdout",
     "output_type": "stream",
     "text": [
      "& 0.4561 & 0.0047 & 0.3784 \\\\\n",
      "& \\footnotesize(0.0033) & \\footnotesize(0.0009) & \\footnotesize(0.0029)\\\\\n"
     ]
    }
   ],
   "source": [
    "mean_r2_cons = {k: np.mean(v) for k,v in rep_cv_res_cons.items()}\n",
    "se_r2_cons = {k: np.std(v)/np.sqrt(10) for k,v in rep_cv_res_cons.items()}\n",
    "\n",
    "# print as tex\n",
    "print(f\"& {mean_r2_cons['between_r2']:.4f} & {mean_r2_cons['within_r2']:.4f} & {mean_r2_cons['overall_r2']:.4f} \\\\\\\\\")\n",
    "print(f\"& \\\\footnotesize({se_r2_cons['between_r2']:.4f}) & \\\\footnotesize({se_r2_cons['within_r2']:.4f}) & \\\\footnotesize({se_r2_cons['overall_r2']:.4f})\\\\\\\\\")"
   ]
  },
  {
   "cell_type": "code",
   "execution_count": 13,
   "id": "0c9bdf88",
   "metadata": {},
   "outputs": [
    {
     "name": "stdout",
     "output_type": "stream",
     "text": [
      "{'between_r2': 0.45612364990060306, 'within_r2': 0.004703676386585669, 'overall_r2': 0.3784469745706355}\n"
     ]
    }
   ],
   "source": [
    "print(mean_r2_cons)"
   ]
  },
  {
   "cell_type": "markdown",
   "id": "eab51f96",
   "metadata": {},
   "source": [
    "### Target: Asset index"
   ]
  },
  {
   "cell_type": "code",
   "execution_count": 15,
   "id": "76884897",
   "metadata": {},
   "outputs": [],
   "source": [
    "# get a dataset that only varies at the cluster level\n",
    "between_target_var = 'avg_mean_asset_index_yeh'\n",
    "cl_df = df[['cluster_id', between_target_var] + between_x_vars].drop_duplicates().reset_index(drop = True)\n",
    "\n",
    "# normalise the feature data\n",
    "cl_df_norm = standardise_df(cl_df, exclude_cols = [between_target_var])"
   ]
  },
  {
   "cell_type": "code",
   "execution_count": 16,
   "id": "b4d70637",
   "metadata": {},
   "outputs": [],
   "source": [
    "# define the within variables\n",
    "within_target_var = 'mean_asset_index_yeh'\n",
    "within_df = df[['cluster_id','unique_id', within_target_var] + within_x_vars]\n",
    "\n",
    "# demean the data and standardise the variables\n",
    "demeaned_df = demean_df(within_df)\n",
    "demeaned_df_norm = standardise_df(demeaned_df, exclude_cols = [within_target_var])"
   ]
  },
  {
   "cell_type": "code",
   "execution_count": 17,
   "id": "5c635045",
   "metadata": {},
   "outputs": [
    {
     "name": "stdout",
     "output_type": "stream",
     "text": [
      "====================================================================================================\n",
      "Iteration 0\n",
      "====================================================================================================\n",
      "Fold 0, specified test ratio: 0.2 - Actual test ratio 0.20\n",
      "Fold 1, specified test ratio: 0.2 - Actual test ratio 0.20\n",
      "Fold 2, specified test ratio: 0.2 - Actual test ratio 0.21\n",
      "Fold 3, specified test ratio: 0.2 - Actual test ratio 0.20\n",
      "Fold 4, specified test ratio: 0.2 - Actual test ratio 0.19\n",
      "Between training\n",
      "Initialising training\n"
     ]
    },
    {
     "data": {
      "application/vnd.jupyter.widget-view+json": {
       "model_id": "441edf4a779d4b2c99ff9c279dab10ef",
       "version_major": 2,
       "version_minor": 0
      },
      "text/plain": [
       "  0%|          | 0/5 [00:00<?, ?it/s]"
      ]
     },
     "metadata": {},
     "output_type": "display_data"
    },
    {
     "name": "stdout",
     "output_type": "stream",
     "text": [
      "Finished training after 197 seconds\n",
      "\n",
      "Within training\n",
      "Initialising training\n"
     ]
    },
    {
     "data": {
      "application/vnd.jupyter.widget-view+json": {
       "model_id": "bdaff5d7a652483d872257e0351106e9",
       "version_major": 2,
       "version_minor": 0
      },
      "text/plain": [
       "  0%|          | 0/5 [00:00<?, ?it/s]"
      ]
     },
     "metadata": {},
     "output_type": "display_data"
    },
    {
     "name": "stdout",
     "output_type": "stream",
     "text": [
      "Finished training after 642 seconds\n",
      "....................................................................................................\n",
      "{'r2': {'overall': 0.4974812136858438, 'between': 0.511914212918517, 'within': 0.03677228901274805}, 'mse': {'overall': 1.1188031263775051, 'between': 1.186998658499354, 'within': 0.0730281764905782}}\n",
      "....................................................................................................\n",
      "====================================================================================================\n",
      "Iteration 1\n",
      "====================================================================================================\n",
      "Fold 0, specified test ratio: 0.2 - Actual test ratio 0.20\n",
      "Fold 1, specified test ratio: 0.2 - Actual test ratio 0.20\n",
      "Fold 2, specified test ratio: 0.2 - Actual test ratio 0.20\n",
      "Fold 3, specified test ratio: 0.2 - Actual test ratio 0.20\n",
      "Fold 4, specified test ratio: 0.2 - Actual test ratio 0.19\n",
      "Between training\n",
      "Initialising training\n"
     ]
    },
    {
     "data": {
      "application/vnd.jupyter.widget-view+json": {
       "model_id": "89bc27a2c284456cad910127d1b3e862",
       "version_major": 2,
       "version_minor": 0
      },
      "text/plain": [
       "  0%|          | 0/5 [00:00<?, ?it/s]"
      ]
     },
     "metadata": {},
     "output_type": "display_data"
    },
    {
     "name": "stdout",
     "output_type": "stream",
     "text": [
      "Finished training after 191 seconds\n",
      "\n",
      "Within training\n",
      "Initialising training\n"
     ]
    },
    {
     "data": {
      "application/vnd.jupyter.widget-view+json": {
       "model_id": "3afd4ca9e51f4e09abd5228053462595",
       "version_major": 2,
       "version_minor": 0
      },
      "text/plain": [
       "  0%|          | 0/5 [00:00<?, ?it/s]"
      ]
     },
     "metadata": {},
     "output_type": "display_data"
    },
    {
     "name": "stdout",
     "output_type": "stream",
     "text": [
      "Finished training after 644 seconds\n",
      "....................................................................................................\n",
      "{'r2': {'overall': 0.4792636867934513, 'between': 0.49889247755311256, 'within': 0.034934219695046065}, 'mse': {'overall': 1.1077049307450417, 'between': 1.168068975150059, 'within': 0.07322752772552979}}\n",
      "....................................................................................................\n",
      "====================================================================================================\n",
      "Iteration 2\n",
      "====================================================================================================\n",
      "Fold 0, specified test ratio: 0.2 - Actual test ratio 0.20\n",
      "Fold 1, specified test ratio: 0.2 - Actual test ratio 0.20\n",
      "Fold 2, specified test ratio: 0.2 - Actual test ratio 0.20\n",
      "Fold 3, specified test ratio: 0.2 - Actual test ratio 0.20\n",
      "Fold 4, specified test ratio: 0.2 - Actual test ratio 0.18\n",
      "Between training\n",
      "Initialising training\n"
     ]
    },
    {
     "data": {
      "application/vnd.jupyter.widget-view+json": {
       "model_id": "0131e41b10b94b85b813a4808672258a",
       "version_major": 2,
       "version_minor": 0
      },
      "text/plain": [
       "  0%|          | 0/5 [00:00<?, ?it/s]"
      ]
     },
     "metadata": {},
     "output_type": "display_data"
    },
    {
     "name": "stdout",
     "output_type": "stream",
     "text": [
      "Finished training after 195 seconds\n",
      "\n",
      "Within training\n",
      "Initialising training\n"
     ]
    },
    {
     "data": {
      "application/vnd.jupyter.widget-view+json": {
       "model_id": "050ea6ee171b443ab3b41410197ca4b0",
       "version_major": 2,
       "version_minor": 0
      },
      "text/plain": [
       "  0%|          | 0/5 [00:00<?, ?it/s]"
      ]
     },
     "metadata": {},
     "output_type": "display_data"
    },
    {
     "name": "stdout",
     "output_type": "stream",
     "text": [
      "Finished training after 638 seconds\n",
      "....................................................................................................\n",
      "{'r2': {'overall': 0.49193002727884094, 'between': 0.5095096586567669, 'within': 0.041650681468429054}, 'mse': {'overall': 1.1092126543748655, 'between': 1.1727883654121796, 'within': 0.07282544697957753}}\n",
      "....................................................................................................\n",
      "====================================================================================================\n",
      "Iteration 3\n",
      "====================================================================================================\n",
      "Fold 0, specified test ratio: 0.2 - Actual test ratio 0.21\n",
      "Fold 1, specified test ratio: 0.2 - Actual test ratio 0.20\n",
      "Fold 2, specified test ratio: 0.2 - Actual test ratio 0.21\n",
      "Fold 3, specified test ratio: 0.2 - Actual test ratio 0.20\n",
      "Fold 4, specified test ratio: 0.2 - Actual test ratio 0.17\n",
      "Between training\n",
      "Initialising training\n"
     ]
    },
    {
     "data": {
      "application/vnd.jupyter.widget-view+json": {
       "model_id": "1bb8112058274392b0043aa88b389bcf",
       "version_major": 2,
       "version_minor": 0
      },
      "text/plain": [
       "  0%|          | 0/5 [00:00<?, ?it/s]"
      ]
     },
     "metadata": {},
     "output_type": "display_data"
    },
    {
     "name": "stdout",
     "output_type": "stream",
     "text": [
      "Finished training after 203 seconds\n",
      "\n",
      "Within training\n",
      "Initialising training\n"
     ]
    },
    {
     "data": {
      "application/vnd.jupyter.widget-view+json": {
       "model_id": "cc4e1e7c2f1b413b8a0618d2b915ea5a",
       "version_major": 2,
       "version_minor": 0
      },
      "text/plain": [
       "  0%|          | 0/5 [00:00<?, ?it/s]"
      ]
     },
     "metadata": {},
     "output_type": "display_data"
    },
    {
     "name": "stdout",
     "output_type": "stream",
     "text": [
      "Finished training after 651 seconds\n",
      "....................................................................................................\n",
      "{'r2': {'overall': 0.4794398632144203, 'between': 0.49386352260951977, 'within': 0.03265507712253339}, 'mse': {'overall': 1.1195535351604335, 'between': 1.1852278707296993, 'within': 0.07232836076544688}}\n",
      "....................................................................................................\n",
      "====================================================================================================\n",
      "Iteration 4\n",
      "====================================================================================================\n",
      "Fold 0, specified test ratio: 0.2 - Actual test ratio 0.23\n",
      "Fold 1, specified test ratio: 0.2 - Actual test ratio 0.20\n",
      "Fold 2, specified test ratio: 0.2 - Actual test ratio 0.20\n",
      "Fold 3, specified test ratio: 0.2 - Actual test ratio 0.20\n",
      "Fold 4, specified test ratio: 0.2 - Actual test ratio 0.16\n",
      "Between training\n",
      "Initialising training\n"
     ]
    },
    {
     "data": {
      "application/vnd.jupyter.widget-view+json": {
       "model_id": "aeef09d5559f44f9ab6c1978655e8f74",
       "version_major": 2,
       "version_minor": 0
      },
      "text/plain": [
       "  0%|          | 0/5 [00:00<?, ?it/s]"
      ]
     },
     "metadata": {},
     "output_type": "display_data"
    },
    {
     "name": "stdout",
     "output_type": "stream",
     "text": [
      "Finished training after 211 seconds\n",
      "\n",
      "Within training\n",
      "Initialising training\n"
     ]
    },
    {
     "data": {
      "application/vnd.jupyter.widget-view+json": {
       "model_id": "5de710990c65436587d8bd7c28a85405",
       "version_major": 2,
       "version_minor": 0
      },
      "text/plain": [
       "  0%|          | 0/5 [00:00<?, ?it/s]"
      ]
     },
     "metadata": {},
     "output_type": "display_data"
    },
    {
     "name": "stdout",
     "output_type": "stream",
     "text": [
      "Finished training after 638 seconds\n",
      "....................................................................................................\n",
      "{'r2': {'overall': 0.4744537176020692, 'between': 0.4851591626062994, 'within': 0.03815951543170763}, 'mse': {'overall': 1.1133279401064229, 'between': 1.185947457502159, 'within': 0.0720485512907085}}\n",
      "....................................................................................................\n",
      "====================================================================================================\n",
      "Iteration 5\n",
      "====================================================================================================\n",
      "Fold 0, specified test ratio: 0.2 - Actual test ratio 0.26\n",
      "Fold 1, specified test ratio: 0.2 - Actual test ratio 0.21\n",
      "Fold 2, specified test ratio: 0.2 - Actual test ratio 0.20\n",
      "Fold 3, specified test ratio: 0.2 - Actual test ratio 0.20\n",
      "Fold 4, specified test ratio: 0.2 - Actual test ratio 0.13\n",
      "Between training\n",
      "Initialising training\n"
     ]
    },
    {
     "data": {
      "application/vnd.jupyter.widget-view+json": {
       "model_id": "b63bed817f05452f9247f3915d79f438",
       "version_major": 2,
       "version_minor": 0
      },
      "text/plain": [
       "  0%|          | 0/5 [00:00<?, ?it/s]"
      ]
     },
     "metadata": {},
     "output_type": "display_data"
    },
    {
     "name": "stdout",
     "output_type": "stream",
     "text": [
      "Finished training after 210 seconds\n",
      "\n",
      "Within training\n",
      "Initialising training\n"
     ]
    },
    {
     "data": {
      "application/vnd.jupyter.widget-view+json": {
       "model_id": "3c1f74916493452895b9c5cb492f4ce6",
       "version_major": 2,
       "version_minor": 0
      },
      "text/plain": [
       "  0%|          | 0/5 [00:00<?, ?it/s]"
      ]
     },
     "metadata": {},
     "output_type": "display_data"
    },
    {
     "name": "stdout",
     "output_type": "stream",
     "text": [
      "Finished training after 645 seconds\n",
      "....................................................................................................\n",
      "{'r2': {'overall': 0.4629666087133664, 'between': 0.46913729535421445, 'within': 0.035469432143868794}, 'mse': {'overall': 1.1155303394027036, 'between': 1.1925117338690798, 'within': 0.07157280352445036}}\n",
      "....................................................................................................\n",
      "====================================================================================================\n",
      "Iteration 6\n",
      "====================================================================================================\n",
      "Fold 0, specified test ratio: 0.2 - Actual test ratio 0.21\n",
      "Fold 1, specified test ratio: 0.2 - Actual test ratio 0.20\n",
      "Fold 2, specified test ratio: 0.2 - Actual test ratio 0.20\n",
      "Fold 3, specified test ratio: 0.2 - Actual test ratio 0.20\n",
      "Fold 4, specified test ratio: 0.2 - Actual test ratio 0.18\n",
      "Between training\n",
      "Initialising training\n"
     ]
    },
    {
     "data": {
      "application/vnd.jupyter.widget-view+json": {
       "model_id": "cd5b117ecc8e4e03b68522adec7ad97a",
       "version_major": 2,
       "version_minor": 0
      },
      "text/plain": [
       "  0%|          | 0/5 [00:00<?, ?it/s]"
      ]
     },
     "metadata": {},
     "output_type": "display_data"
    },
    {
     "name": "stdout",
     "output_type": "stream",
     "text": [
      "Finished training after 207 seconds\n",
      "\n",
      "Within training\n",
      "Initialising training\n"
     ]
    },
    {
     "data": {
      "application/vnd.jupyter.widget-view+json": {
       "model_id": "0fe5201c1ab345dea2c77ed4ce9f9383",
       "version_major": 2,
       "version_minor": 0
      },
      "text/plain": [
       "  0%|          | 0/5 [00:00<?, ?it/s]"
      ]
     },
     "metadata": {},
     "output_type": "display_data"
    },
    {
     "name": "stdout",
     "output_type": "stream",
     "text": [
      "Finished training after 655 seconds\n",
      "....................................................................................................\n",
      "{'r2': {'overall': 0.4910382229366641, 'between': 0.5074997725684639, 'within': 0.03745563494769917}, 'mse': {'overall': 1.1195826700899894, 'between': 1.1757306084233676, 'within': 0.07223725376905081}}\n",
      "....................................................................................................\n",
      "====================================================================================================\n",
      "Iteration 7\n",
      "====================================================================================================\n",
      "Fold 0, specified test ratio: 0.2 - Actual test ratio 0.25\n",
      "Fold 1, specified test ratio: 0.2 - Actual test ratio 0.20\n",
      "Fold 2, specified test ratio: 0.2 - Actual test ratio 0.20\n",
      "Fold 3, specified test ratio: 0.2 - Actual test ratio 0.20\n",
      "Fold 4, specified test ratio: 0.2 - Actual test ratio 0.14\n",
      "Between training\n",
      "Initialising training\n"
     ]
    },
    {
     "data": {
      "application/vnd.jupyter.widget-view+json": {
       "model_id": "3623e4ce6abf47afb46b83691f11b947",
       "version_major": 2,
       "version_minor": 0
      },
      "text/plain": [
       "  0%|          | 0/5 [00:00<?, ?it/s]"
      ]
     },
     "metadata": {},
     "output_type": "display_data"
    },
    {
     "name": "stdout",
     "output_type": "stream",
     "text": [
      "Finished training after 210 seconds\n",
      "\n",
      "Within training\n",
      "Initialising training\n"
     ]
    },
    {
     "data": {
      "application/vnd.jupyter.widget-view+json": {
       "model_id": "c4344092ce494c168a0163c2cc630b2f",
       "version_major": 2,
       "version_minor": 0
      },
      "text/plain": [
       "  0%|          | 0/5 [00:00<?, ?it/s]"
      ]
     },
     "metadata": {},
     "output_type": "display_data"
    },
    {
     "name": "stdout",
     "output_type": "stream",
     "text": [
      "Finished training after 649 seconds\n",
      "....................................................................................................\n",
      "{'r2': {'overall': 0.47217696864759795, 'between': 0.48317115568569446, 'within': 0.03650029749492849}, 'mse': {'overall': 1.1069601049453, 'between': 1.1840521054884658, 'within': 0.07171376981608563}}\n",
      "....................................................................................................\n",
      "====================================================================================================\n",
      "Iteration 8\n",
      "====================================================================================================\n",
      "Fold 0, specified test ratio: 0.2 - Actual test ratio 0.23\n",
      "Fold 1, specified test ratio: 0.2 - Actual test ratio 0.20\n",
      "Fold 2, specified test ratio: 0.2 - Actual test ratio 0.20\n",
      "Fold 3, specified test ratio: 0.2 - Actual test ratio 0.20\n",
      "Fold 4, specified test ratio: 0.2 - Actual test ratio 0.16\n",
      "Between training\n",
      "Initialising training\n"
     ]
    },
    {
     "data": {
      "application/vnd.jupyter.widget-view+json": {
       "model_id": "74c1b55d34c14cd690fe29a330092b7e",
       "version_major": 2,
       "version_minor": 0
      },
      "text/plain": [
       "  0%|          | 0/5 [00:00<?, ?it/s]"
      ]
     },
     "metadata": {},
     "output_type": "display_data"
    },
    {
     "name": "stdout",
     "output_type": "stream",
     "text": [
      "Finished training after 210 seconds\n",
      "\n",
      "Within training\n",
      "Initialising training\n"
     ]
    },
    {
     "data": {
      "application/vnd.jupyter.widget-view+json": {
       "model_id": "12145cbd7fdc4521a1914fba7413f6d2",
       "version_major": 2,
       "version_minor": 0
      },
      "text/plain": [
       "  0%|          | 0/5 [00:00<?, ?it/s]"
      ]
     },
     "metadata": {},
     "output_type": "display_data"
    },
    {
     "name": "stdout",
     "output_type": "stream",
     "text": [
      "Finished training after 651 seconds\n",
      "....................................................................................................\n",
      "{'r2': {'overall': 0.47785576126761387, 'between': 0.487822956737478, 'within': 0.036033039565457024}, 'mse': {'overall': 1.1039645641277318, 'between': 1.1776162092659368, 'within': 0.07210935716889892}}\n",
      "....................................................................................................\n",
      "====================================================================================================\n",
      "Iteration 9\n",
      "====================================================================================================\n",
      "Fold 0, specified test ratio: 0.2 - Actual test ratio 0.21\n",
      "Fold 1, specified test ratio: 0.2 - Actual test ratio 0.20\n",
      "Fold 2, specified test ratio: 0.2 - Actual test ratio 0.20\n",
      "Fold 3, specified test ratio: 0.2 - Actual test ratio 0.20\n",
      "Fold 4, specified test ratio: 0.2 - Actual test ratio 0.19\n",
      "Between training\n",
      "Initialising training\n"
     ]
    },
    {
     "data": {
      "application/vnd.jupyter.widget-view+json": {
       "model_id": "7c649d026bdc4b2688e23a30d4b3c6a9",
       "version_major": 2,
       "version_minor": 0
      },
      "text/plain": [
       "  0%|          | 0/5 [00:00<?, ?it/s]"
      ]
     },
     "metadata": {},
     "output_type": "display_data"
    },
    {
     "name": "stdout",
     "output_type": "stream",
     "text": [
      "Finished training after 192 seconds\n",
      "\n",
      "Within training\n",
      "Initialising training\n"
     ]
    },
    {
     "data": {
      "application/vnd.jupyter.widget-view+json": {
       "model_id": "b24cd6cc63c04957aceacb3cd858e51d",
       "version_major": 2,
       "version_minor": 0
      },
      "text/plain": [
       "  0%|          | 0/5 [00:00<?, ?it/s]"
      ]
     },
     "metadata": {},
     "output_type": "display_data"
    },
    {
     "name": "stdout",
     "output_type": "stream",
     "text": [
      "Finished training after 635 seconds\n",
      "....................................................................................................\n",
      "{'r2': {'overall': 0.48155910992923245, 'between': 0.5019702444655766, 'within': 0.03447802771751514}, 'mse': {'overall': 1.1071112427288183, 'between': 1.1641378535155429, 'within': 0.07304402600709223}}\n",
      "....................................................................................................\n"
     ]
    }
   ],
   "source": [
    "# run repeated cross validation\n",
    "rep_cv_res_asset = {\n",
    "    'between_r2': [],\n",
    "    'within_r2': [],\n",
    "    'overall_r2': []\n",
    "}\n",
    "\n",
    "for j in range(10):\n",
    "    print(\"=\"*100)\n",
    "    print(f\"Iteration {j}\")\n",
    "    print(\"=\"*100)\n",
    "    rep_seed = random_seed + j\n",
    "    \n",
    "    # divide the data into k different folds\n",
    "    fold_ids = split_lsms_spatial(lsms_df, n_folds = n_folds, random_seed = spatial_cv_random_seed + j)\n",
    "    \n",
    "    # run the bewtween training\n",
    "    print('Between training')\n",
    "    between_cv_trainer_asset = rf.CrossValidator(cl_df_norm, \n",
    "                                                fold_ids, \n",
    "                                                between_target_var, \n",
    "                                                between_x_vars, \n",
    "                                                id_var = 'cluster_id', \n",
    "                                                random_seed = rep_seed)\n",
    "    between_cv_trainer_asset.run_cv_training(min_samples_leaf = 1)\n",
    "    \n",
    "    # run the within training\n",
    "    print(\"\\nWithin training\")\n",
    "    within_cv_trainer_asset = rf.CrossValidator(demeaned_df_norm, \n",
    "                                               fold_ids, \n",
    "                                               within_target_var, \n",
    "                                               within_x_vars, \n",
    "                                               id_var = 'unique_id', \n",
    "                                               random_seed = rep_seed)\n",
    "    within_cv_trainer_asset.run_cv_training(min_samples_leaf = 15)\n",
    "    \n",
    "    # combine both models\n",
    "    combined_model_asset = CombinedModel(lsms_df, between_cv_trainer_asset, within_cv_trainer_asset)\n",
    "    combined_model_asset.evaluate()\n",
    "    combined_results = combined_model_asset.compute_overall_performance(use_fold_weights = True)\n",
    "    \n",
    "    # store the results \n",
    "    rep_cv_res_asset['between_r2'].append(combined_results['r2']['between'])\n",
    "    rep_cv_res_asset['within_r2'].append(combined_results['r2']['within'])\n",
    "    rep_cv_res_asset['overall_r2'].append(combined_results['r2']['overall'])\n",
    "    \n",
    "    # print the results\n",
    "    print(\".\"*100)\n",
    "    print(combined_results)\n",
    "    print(\".\"*100)"
   ]
  },
  {
   "cell_type": "code",
   "execution_count": 18,
   "id": "f083012e",
   "metadata": {},
   "outputs": [],
   "source": [
    "pth = 'results/baseline_ls/rep_cv_res_asset_no_eth.pkl'\n",
    "with open(pth, 'wb') as f:\n",
    "    pickle.dump(rep_cv_res_asset, f)"
   ]
  },
  {
   "cell_type": "code",
   "execution_count": 19,
   "id": "b14c5c2b",
   "metadata": {},
   "outputs": [
    {
     "name": "stdout",
     "output_type": "stream",
     "text": [
      "& 0.4949 & 0.0364 & 0.4808 \\\\\n",
      "& \\footnotesize(0.0041) & \\footnotesize(0.0007) & \\footnotesize(0.0031)\\\\\n"
     ]
    }
   ],
   "source": [
    "mean_r2_asset = {k: np.mean(v) for k,v in rep_cv_res_asset.items()}\n",
    "se_r2_asset = {k: np.std(v)/np.sqrt(10) for k,v in rep_cv_res_asset.items()}\n",
    "\n",
    "# print as tex\n",
    "print(f\"& {mean_r2_asset['between_r2']:.4f} & {mean_r2_asset['within_r2']:.4f} & {mean_r2_asset['overall_r2']:.4f} \\\\\\\\\")\n",
    "print(f\"& \\\\footnotesize({se_r2_asset['between_r2']:.4f}) & \\\\footnotesize({se_r2_asset['within_r2']:.4f}) & \\\\footnotesize({se_r2_asset['overall_r2']:.4f})\\\\\\\\\")"
   ]
  }
 ],
 "metadata": {
  "kernelspec": {
   "display_name": "Python 3 (ipykernel)",
   "language": "python",
   "name": "python3"
  },
  "language_info": {
   "codemirror_mode": {
    "name": "ipython",
    "version": 3
   },
   "file_extension": ".py",
   "mimetype": "text/x-python",
   "name": "python",
   "nbconvert_exporter": "python",
   "pygments_lexer": "ipython3",
   "version": "3.10.12"
  }
 },
 "nbformat": 4,
 "nbformat_minor": 5
}
