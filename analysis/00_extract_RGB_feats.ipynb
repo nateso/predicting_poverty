{
 "cells": [
  {
   "cell_type": "code",
   "execution_count": 16,
   "id": "503ac093",
   "metadata": {},
   "outputs": [],
   "source": [
    "import numpy as np\n",
    "import pandas as pd\n",
    "from torch.utils.data import DataLoader, Dataset"
   ]
  },
  {
   "cell_type": "code",
   "execution_count": 166,
   "id": "ee222fb9",
   "metadata": {},
   "outputs": [],
   "source": [
    "# import the torch_framework package\n",
    "from analysis_utils.torch_framework.ResNet18 import ResNet18\n",
    "from analysis_utils.torch_framework.SatDataset import SatDataset\n",
    "from analysis_utils.torch_framework.FeatureExtractor import FeatureExtractor\n",
    "from analysis_utils.torch_framework.FeatureExtractor import reduce_dimensions\n",
    "\n",
    "# load the variable names of the tabular feature data\n",
    "from analysis_utils.variable_names import *\n",
    "\n",
    "# load the uids to exclude from the analysis due to missing values in the images\n",
    "from analysis_utils.flagged_uids import *\n",
    "\n",
    "# load the functions to do spatial CV\n",
    "from analysis_utils.spatial_CV import *"
   ]
  },
  {
   "cell_type": "code",
   "execution_count": 18,
   "id": "428d4ed6",
   "metadata": {},
   "outputs": [],
   "source": [
    "# set the global file paths\n",
    "root_data_dir = \"../../Data\"\n",
    "\n",
    "# the lsms data\n",
    "lsms_pth = f\"{root_data_dir}/lsms/processed/labels_cluster_v1.csv\"\n",
    "\n",
    "# load the lsms data\n",
    "lsms_df = pd.read_csv(lsms_pth)\n",
    "lsms_df = lsms_df[~lsms_df.unique_id.isin(flagged_uids)].reset_index()\n",
    "\n",
    "# set the device\n",
    "device = 'cpu'"
   ]
  },
  {
   "cell_type": "code",
   "execution_count": 19,
   "id": "5f7245a3",
   "metadata": {},
   "outputs": [],
   "source": [
    "# load the pre-trained network\n",
    "resnet = ResNet18(input_channels = 3, \n",
    "                  use_pretrained_weights = True, \n",
    "                  scaled_weight_init = False,\n",
    "                  random_seed = None)\n",
    "\n",
    "# reset the weights of the first layer to their pre-trained values\n",
    "resnet.model.conv1.weight = resnet.layer1_pretrained_weights\n",
    "\n",
    "# load the feature Extractor\n",
    "feature_extractor = FeatureExtractor(model = resnet.model, device = device)"
   ]
  },
  {
   "cell_type": "code",
   "execution_count": 20,
   "id": "69e4fa3c",
   "metadata": {},
   "outputs": [
    {
     "name": "stdout",
     "output_type": "stream",
     "text": [
      "\t\tExtracting Features\n"
     ]
    },
    {
     "data": {
      "application/vnd.jupyter.widget-view+json": {
       "model_id": "87362e09624943498ada79949522f165",
       "version_major": 2,
       "version_minor": 0
      },
      "text/plain": [
       "  0%|          | 0/13 [00:00<?, ?it/s]"
      ]
     },
     "metadata": {},
     "output_type": "display_data"
    }
   ],
   "source": [
    "# load the data set\n",
    "sat_img_dir = f\"{root_data_dir}/satellite_imgs\"\n",
    "\n",
    "# median LS images at the cluster level\n",
    "LS_rgb_img_dir = f\"{sat_img_dir}/LS/LS_rgb\"\n",
    "\n",
    "# load the dataset\n",
    "rgb_dat = SatDataset(labels_df = lsms_df,\n",
    "                     img_dir = LS_rgb_img_dir,\n",
    "                     data_type = \"LS\",\n",
    "                     target_var = 'mean_asset_index_yeh', # not relevant\n",
    "                     id_var = 'unique_id',\n",
    "                     feat_transform=None,\n",
    "                     target_transform=None,\n",
    "                     random_seed=None)\n",
    "\n",
    "# define the data loader\n",
    "rgb_loader = DataLoader(rgb_dat, batch_size=512, shuffle=False)\n",
    "\n",
    "\n",
    "# apply the feature extractor\n",
    "rgb_feats = feature_extractor.extract_feats(rgb_loader, reduced = False)"
   ]
  },
  {
   "cell_type": "code",
   "execution_count": 114,
   "id": "e7d24f94",
   "metadata": {},
   "outputs": [
    {
     "name": "stdout",
     "output_type": "stream",
     "text": [
      "\t\tExtracting Features\n"
     ]
    },
    {
     "data": {
      "application/vnd.jupyter.widget-view+json": {
       "model_id": "325896eab79f4edaa3f865dd5927ce9b",
       "version_major": 2,
       "version_minor": 0
      },
      "text/plain": [
       "  0%|          | 0/5 [00:00<?, ?it/s]"
      ]
     },
     "metadata": {},
     "output_type": "display_data"
    }
   ],
   "source": [
    "# extract features for the mean images\n",
    "# median LS images at the cluster level\n",
    "LS_median_img_dir = f\"{sat_img_dir}/LS/LS_rgb_median_cluster\"\n",
    "\n",
    "cl_df = lsms_df[['cluster_id', 'mean_asset_index_yeh']].groupby('cluster_id').mean().reset_index()\n",
    "\n",
    "# load the dataset\n",
    "median_dat = SatDataset(labels_df = cl_df,\n",
    "                     img_dir = LS_median_img_dir,\n",
    "                     data_type = \"LS\",\n",
    "                     target_var = 'mean_asset_index_yeh', # not relevant\n",
    "                     id_var = 'cluster_id',\n",
    "                     feat_transform=None,\n",
    "                     target_transform=None,\n",
    "                     random_seed=None)\n",
    "\n",
    "# define the data loader\n",
    "median_loader = DataLoader(median_dat, batch_size=512, shuffle=False)\n",
    "\n",
    "# apply the feature extractor\n",
    "median_feats = feature_extractor.extract_feats(median_loader, reduced = False)"
   ]
  },
  {
   "cell_type": "code",
   "execution_count": 174,
   "id": "bb703405",
   "metadata": {},
   "outputs": [
    {
     "name": "stdout",
     "output_type": "stream",
     "text": [
      "\t\tTotal variance explained by first 25 components: 0.9042\n"
     ]
    }
   ],
   "source": [
    "# combine the rgb_feats and the median feats\n",
    "feats = np.concatenate([rgb_feats, median_feats], axis = 0)\n",
    "\n",
    "# run a PCA on the combined dataset and extract first 25 components\n",
    "pca_results = reduce_dimensions(feats, n_components = 25)"
   ]
  },
  {
   "cell_type": "code",
   "execution_count": 178,
   "id": "cdbd54d0",
   "metadata": {},
   "outputs": [],
   "source": [
    "# split the pca results for both datasets and rename variables\n",
    "dyn_pca_feats = pd.DataFrame(pca_results[:len(lsms_df),:])\n",
    "dyn_pca_feats.columns = ['dyn_rgb_pc_' + str(i+1) for i in dyn_pca_feats.columns]\n",
    "dyn_pca_feats['unique_id'] = lsms_df['unique_id']\n",
    "\n",
    "median_pca_feats = pd.DataFrame(pca_results[len(lsms_df):,:])\n",
    "median_pca_feats.columns = ['median_rgb_pc_' + str(i+1) for i in median_pca_feats.columns]\n",
    "median_pca_feats['cluster_id'] = cl_df['cluster_id']"
   ]
  },
  {
   "cell_type": "code",
   "execution_count": 179,
   "id": "48971dfa",
   "metadata": {},
   "outputs": [],
   "source": [
    "# save both datasets\n",
    "pth = f\"{root_data_dir}/satellite_imgs/LS/dyn_rgb_feats.csv\"\n",
    "dyn_pca_feats.to_csv(pth, index = False)\n",
    "\n",
    "pth = f\"{root_data_dir}/satellite_imgs/LS/median_rgb_feats.csv\"\n",
    "median_pca_feats.to_csv(pth, index = False)"
   ]
  }
 ],
 "metadata": {
  "kernelspec": {
   "display_name": "Python 3 (ipykernel)",
   "language": "python",
   "name": "python3"
  },
  "language_info": {
   "codemirror_mode": {
    "name": "ipython",
    "version": 3
   },
   "file_extension": ".py",
   "mimetype": "text/x-python",
   "name": "python",
   "nbconvert_exporter": "python",
   "pygments_lexer": "ipython3",
   "version": "3.10.12"
  }
 },
 "nbformat": 4,
 "nbformat_minor": 5
}
