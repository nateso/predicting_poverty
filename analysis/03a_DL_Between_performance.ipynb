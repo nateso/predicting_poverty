{
 "cells": [
  {
   "cell_type": "code",
   "execution_count": 14,
   "id": "a7295b8b",
   "metadata": {},
   "outputs": [],
   "source": [
    "import pandas as pd\n",
    "import numpy as np\n",
    "import torch\n",
    "import pickle\n",
    "\n",
    "from sklearn.metrics import r2_score"
   ]
  },
  {
   "cell_type": "code",
   "execution_count": 23,
   "id": "39dbdf35",
   "metadata": {},
   "outputs": [],
   "source": [
    "from analysis_utils.CombinedModel import CombinedModel\n",
    "from analysis_utils.flagged_uids import flagged_uids\n",
    "from analysis_utils.spatial_CV import *\n",
    "from analysis_utils.variable_names import *"
   ]
  },
  {
   "cell_type": "code",
   "execution_count": 16,
   "id": "201aa641",
   "metadata": {},
   "outputs": [],
   "source": [
    "# set the global file paths\n",
    "root_data_dir = \"../../Data\"\n",
    "\n",
    "# the lsms data\n",
    "lsms_pth = f\"{root_data_dir}/lsms/processed/labels_cluster_v1.csv\"\n",
    "\n",
    "# load the feature and the label data\n",
    "lsms_df = pd.read_csv(lsms_pth)\n",
    "\n",
    "# remove flagged ids form dataset\n",
    "lsms_df = lsms_df[~lsms_df.unique_id.isin(flagged_uids)].reset_index()\n",
    "\n",
    "# add delta id to data\n",
    "lsms_df['delta_id'] = lsms_df.unique_id"
   ]
  },
  {
   "cell_type": "markdown",
   "id": "552f2618",
   "metadata": {},
   "source": [
    "# consumption Expenditure"
   ]
  },
  {
   "cell_type": "code",
   "execution_count": 17,
   "id": "3508f2a7",
   "metadata": {},
   "outputs": [],
   "source": [
    "# load the within and between model results\n",
    "results_dir = \"results\"\n",
    "ls_cons_pth = f\"results/model_objects/between_cons_LS_cv.pkl\"\n",
    "rs_cons_pth = \"results/model_objects/between_cons_RS_cv.pkl\"\n",
    "\n",
    "with open(ls_cons_pth, 'rb') as f:\n",
    "    ls_cons = pickle.load(f)\n",
    "    \n",
    "with open(rs_cons_pth, 'rb') as f:\n",
    "    rs_cons = pickle.load(f)"
   ]
  },
  {
   "cell_type": "code",
   "execution_count": 20,
   "id": "66e7b6d5",
   "metadata": {},
   "outputs": [
    {
     "data": {
      "text/plain": [
       "{'train': [0.4600230030118855,\n",
       "  0.5609908063673414,\n",
       "  0.48129536736918244,\n",
       "  0.5433171302304786,\n",
       "  0.7339222292687404],\n",
       " 'val': [0.5817593921771876,\n",
       "  0.08775007368998688,\n",
       "  0.05822373893149024,\n",
       "  0.057298737379066766,\n",
       "  0.21000160351751995]}"
      ]
     },
     "execution_count": 20,
     "metadata": {},
     "output_type": "execute_result"
    }
   ],
   "source": [
    "rs_cons.res_r2"
   ]
  },
  {
   "cell_type": "code",
   "execution_count": 19,
   "id": "8172c761",
   "metadata": {},
   "outputs": [
    {
     "data": {
      "text/plain": [
       "[{'lr': 0.001,\n",
       "  'batch_size': 64,\n",
       "  'alpha': 0.01,\n",
       "  'step_size': 1,\n",
       "  'gamma': 0.96,\n",
       "  'n_epochs': 11,\n",
       "  'patience': None},\n",
       " {'lr': 0.01,\n",
       "  'batch_size': 64,\n",
       "  'alpha': 0.01,\n",
       "  'step_size': 1,\n",
       "  'gamma': 0.96,\n",
       "  'n_epochs': 47,\n",
       "  'patience': None},\n",
       " {'lr': 0.01,\n",
       "  'batch_size': 64,\n",
       "  'alpha': 0.01,\n",
       "  'step_size': 1,\n",
       "  'gamma': 0.96,\n",
       "  'n_epochs': 20,\n",
       "  'patience': None},\n",
       " {'lr': 0.001,\n",
       "  'batch_size': 64,\n",
       "  'alpha': 0.01,\n",
       "  'step_size': 1,\n",
       "  'gamma': 0.96,\n",
       "  'n_epochs': 5,\n",
       "  'patience': None},\n",
       " {'lr': 0.0001,\n",
       "  'batch_size': 64,\n",
       "  'alpha': 0.01,\n",
       "  'step_size': 1,\n",
       "  'gamma': 0.96,\n",
       "  'n_epochs': 8,\n",
       "  'patience': None}]"
      ]
     },
     "execution_count": 19,
     "metadata": {},
     "output_type": "execute_result"
    }
   ],
   "source": [
    "rs_cons.best_hyper_params"
   ]
  },
  {
   "cell_type": "markdown",
   "id": "b299382b",
   "metadata": {},
   "source": [
    "# Asset index"
   ]
  },
  {
   "cell_type": "code",
   "execution_count": 7,
   "id": "7f687087",
   "metadata": {},
   "outputs": [],
   "source": [
    "# load the within and between model results\n",
    "results_dir = \"results\"\n",
    "ls_cons_pth = f\"results/model_objects/between_asset_LS_cv.pkl\"\n",
    "rs_cons_pth = \"results/model_objects/between_asset_RS_cv.pkl\"\n",
    "\n",
    "with open(ls_cons_pth, 'rb') as f:\n",
    "    ls_asset = pickle.load(f)\n",
    "    \n",
    "with open(rs_cons_pth, 'rb') as f:\n",
    "    rs_asset = pickle.load(f)\n"
   ]
  },
  {
   "cell_type": "code",
   "execution_count": 22,
   "id": "cfa9c5ca",
   "metadata": {},
   "outputs": [
    {
     "data": {
      "text/plain": [
       "{'train': [0.8567694385700558,\n",
       "  0.51701551000478,\n",
       "  0.5698846796062706,\n",
       "  0.6308124357785184,\n",
       "  0.5279164658383766],\n",
       " 'val': [0.4449617589912561,\n",
       "  0.5174784609870041,\n",
       "  0.38779397200927257,\n",
       "  0.09738718900285881,\n",
       "  0.2793459997462264]}"
      ]
     },
     "execution_count": 22,
     "metadata": {},
     "output_type": "execute_result"
    }
   ],
   "source": [
    "rs_asset.res_r2"
   ]
  },
  {
   "cell_type": "code",
   "execution_count": 21,
   "id": "7d694ca5",
   "metadata": {},
   "outputs": [
    {
     "data": {
      "text/plain": [
       "[{'lr': 0.01,\n",
       "  'batch_size': 64,\n",
       "  'alpha': 0.01,\n",
       "  'step_size': 1,\n",
       "  'gamma': 0.96,\n",
       "  'n_epochs': 92,\n",
       "  'patience': None},\n",
       " {'lr': 0.0001,\n",
       "  'batch_size': 64,\n",
       "  'alpha': 0.01,\n",
       "  'step_size': 1,\n",
       "  'gamma': 0.96,\n",
       "  'n_epochs': 4,\n",
       "  'patience': None},\n",
       " {'lr': 0.0001,\n",
       "  'batch_size': 64,\n",
       "  'alpha': 0.001,\n",
       "  'step_size': 1,\n",
       "  'gamma': 0.96,\n",
       "  'n_epochs': 4,\n",
       "  'patience': None},\n",
       " {'lr': 0.01,\n",
       "  'batch_size': 64,\n",
       "  'alpha': 0.001,\n",
       "  'step_size': 1,\n",
       "  'gamma': 0.96,\n",
       "  'n_epochs': 50,\n",
       "  'patience': None},\n",
       " {'lr': 0.0001,\n",
       "  'batch_size': 64,\n",
       "  'alpha': 0.01,\n",
       "  'step_size': 1,\n",
       "  'gamma': 0.96,\n",
       "  'n_epochs': 3,\n",
       "  'patience': None}]"
      ]
     },
     "execution_count": 21,
     "metadata": {},
     "output_type": "execute_result"
    }
   ],
   "source": [
    "rs_asset.best_hyper_params"
   ]
  },
  {
   "cell_type": "code",
   "execution_count": 10,
   "id": "697c7b88",
   "metadata": {},
   "outputs": [
    {
     "data": {
      "text/plain": [
       "{'train': [0.8567694385700558,\n",
       "  0.51701551000478,\n",
       "  0.5698846796062706,\n",
       "  0.6308124357785184,\n",
       "  0.5279164658383766],\n",
       " 'val': [0.4449617589912561,\n",
       "  0.5174784609870041,\n",
       "  0.38779397200927257,\n",
       "  0.09738718900285881,\n",
       "  0.2793459997462264]}"
      ]
     },
     "execution_count": 10,
     "metadata": {},
     "output_type": "execute_result"
    }
   ],
   "source": [
    "rs_asset.res_r2"
   ]
  },
  {
   "cell_type": "code",
   "execution_count": 11,
   "id": "354a11ab",
   "metadata": {},
   "outputs": [
    {
     "data": {
      "text/plain": [
       "[{'lr': 0.01,\n",
       "  'batch_size': 64,\n",
       "  'alpha': 0.01,\n",
       "  'step_size': 1,\n",
       "  'gamma': 0.96,\n",
       "  'n_epochs': 92,\n",
       "  'patience': None},\n",
       " {'lr': 0.0001,\n",
       "  'batch_size': 64,\n",
       "  'alpha': 0.01,\n",
       "  'step_size': 1,\n",
       "  'gamma': 0.96,\n",
       "  'n_epochs': 4,\n",
       "  'patience': None},\n",
       " {'lr': 0.0001,\n",
       "  'batch_size': 64,\n",
       "  'alpha': 0.001,\n",
       "  'step_size': 1,\n",
       "  'gamma': 0.96,\n",
       "  'n_epochs': 4,\n",
       "  'patience': None},\n",
       " {'lr': 0.01,\n",
       "  'batch_size': 64,\n",
       "  'alpha': 0.001,\n",
       "  'step_size': 1,\n",
       "  'gamma': 0.96,\n",
       "  'n_epochs': 50,\n",
       "  'patience': None},\n",
       " {'lr': 0.0001,\n",
       "  'batch_size': 64,\n",
       "  'alpha': 0.01,\n",
       "  'step_size': 1,\n",
       "  'gamma': 0.96,\n",
       "  'n_epochs': 3,\n",
       "  'patience': None}]"
      ]
     },
     "execution_count": 11,
     "metadata": {},
     "output_type": "execute_result"
    }
   ],
   "source": [
    "rs_asset.best_hyper_params"
   ]
  },
  {
   "cell_type": "code",
   "execution_count": null,
   "id": "9de69859",
   "metadata": {},
   "outputs": [],
   "source": []
  }
 ],
 "metadata": {
  "kernelspec": {
   "display_name": "Python 3 (ipykernel)",
   "language": "python",
   "name": "python3"
  },
  "language_info": {
   "codemirror_mode": {
    "name": "ipython",
    "version": 3
   },
   "file_extension": ".py",
   "mimetype": "text/x-python",
   "name": "python",
   "nbconvert_exporter": "python",
   "pygments_lexer": "ipython3",
   "version": "3.10.12"
  }
 },
 "nbformat": 4,
 "nbformat_minor": 5
}
