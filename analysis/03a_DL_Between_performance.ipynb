{
 "cells": [
  {
   "cell_type": "code",
   "execution_count": 1,
   "id": "a7295b8b",
   "metadata": {},
   "outputs": [],
   "source": [
    "import pandas as pd\n",
    "import numpy as np\n",
    "import torch\n",
    "import pickle\n",
    "\n",
    "from sklearn.metrics import r2_score"
   ]
  },
  {
   "cell_type": "code",
   "execution_count": 2,
   "id": "39dbdf35",
   "metadata": {},
   "outputs": [],
   "source": [
    "from analysis_utils.CombinedModel import CombinedModel\n",
    "from analysis_utils.flagged_uids import flagged_uids\n",
    "from analysis_utils.spatial_CV import *\n",
    "from analysis_utils.variable_names import *"
   ]
  },
  {
   "cell_type": "code",
   "execution_count": 3,
   "id": "201aa641",
   "metadata": {},
   "outputs": [],
   "source": [
    "# set the global file paths\n",
    "root_data_dir = \"../../Data\"\n",
    "\n",
    "# the lsms data\n",
    "lsms_pth = f\"{root_data_dir}/lsms/processed/labels_cluster_v1.csv\"\n",
    "\n",
    "# load the feature and the label data\n",
    "lsms_df = pd.read_csv(lsms_pth)\n",
    "\n",
    "# remove flagged ids form dataset\n",
    "lsms_df = lsms_df[~lsms_df.unique_id.isin(flagged_uids)].reset_index()\n",
    "\n",
    "# add delta id to data\n",
    "lsms_df['delta_id'] = lsms_df.unique_id"
   ]
  },
  {
   "cell_type": "markdown",
   "id": "552f2618",
   "metadata": {},
   "source": [
    "# consumption Expenditure"
   ]
  },
  {
   "cell_type": "code",
   "execution_count": 4,
   "id": "3508f2a7",
   "metadata": {},
   "outputs": [],
   "source": [
    "# load the within and between model results\n",
    "results_dir = \"results\"\n",
    "ls_cons_pth = f\"results/model_objects/between_cons_LS_cv.pkl\"\n",
    "rs_cons_pth = \"results/model_objects/between_cons_RS_cv.pkl\"\n",
    "\n",
    "with open(ls_cons_pth, 'rb') as f:\n",
    "    ls_cons = pickle.load(f)\n",
    "    \n",
    "with open(rs_cons_pth, 'rb') as f:\n",
    "    rs_cons = pickle.load(f)\n",
    "\n"
   ]
  },
  {
   "cell_type": "code",
   "execution_count": 5,
   "id": "782baf5d",
   "metadata": {},
   "outputs": [
    {
     "data": {
      "text/plain": [
       "{'train': [0.850575222470715,\n",
       "  0.8864165469614823,\n",
       "  0.7403321226647814,\n",
       "  0.8354056029398523,\n",
       "  0.5088626340343192],\n",
       " 'val': [0.13255198291780834,\n",
       "  0.23177176886939943,\n",
       "  0.06053439937161764,\n",
       "  0.248575535037322,\n",
       "  0.2238501014454698]}"
      ]
     },
     "execution_count": 5,
     "metadata": {},
     "output_type": "execute_result"
    }
   ],
   "source": [
    "ls_cons.res_r2"
   ]
  },
  {
   "cell_type": "code",
   "execution_count": 6,
   "id": "c724190f",
   "metadata": {},
   "outputs": [
    {
     "data": {
      "text/plain": [
       "[{'lr': 0.001,\n",
       "  'batch_size': 128,\n",
       "  'alpha': 0.01,\n",
       "  'step_size': 1,\n",
       "  'gamma': 0.96,\n",
       "  'n_epochs': 12,\n",
       "  'patience': 30},\n",
       " {'lr': 0.001,\n",
       "  'batch_size': 128,\n",
       "  'alpha': 0.001,\n",
       "  'step_size': 1,\n",
       "  'gamma': 0.96,\n",
       "  'n_epochs': 19,\n",
       "  'patience': 30},\n",
       " {'lr': 0.001,\n",
       "  'batch_size': 128,\n",
       "  'alpha': 0.1,\n",
       "  'step_size': 1,\n",
       "  'gamma': 0.96,\n",
       "  'n_epochs': 19,\n",
       "  'patience': 30},\n",
       " {'lr': 0.001,\n",
       "  'batch_size': 128,\n",
       "  'alpha': 0.001,\n",
       "  'step_size': 1,\n",
       "  'gamma': 0.96,\n",
       "  'n_epochs': 14,\n",
       "  'patience': 30},\n",
       " {'lr': 0.01,\n",
       "  'batch_size': 128,\n",
       "  'alpha': 0.001,\n",
       "  'step_size': 1,\n",
       "  'gamma': 0.96,\n",
       "  'n_epochs': 52,\n",
       "  'patience': 30}]"
      ]
     },
     "execution_count": 6,
     "metadata": {},
     "output_type": "execute_result"
    }
   ],
   "source": [
    "ls_cons.best_hyper_params"
   ]
  },
  {
   "cell_type": "code",
   "execution_count": 7,
   "id": "6b728dc9",
   "metadata": {},
   "outputs": [
    {
     "data": {
      "text/plain": [
       "{'train': [0.42619881136969207,\n",
       "  0.557872729231274,\n",
       "  0.5288325320187668,\n",
       "  0.5901931299223451,\n",
       "  0.5418215893838592],\n",
       " 'val': [0.44921972317200554,\n",
       "  0.3747148225348931,\n",
       "  0.4564121953392528,\n",
       "  0.3189996763011983,\n",
       "  0.3421358934333071]}"
      ]
     },
     "execution_count": 7,
     "metadata": {},
     "output_type": "execute_result"
    }
   ],
   "source": [
    "rs_cons.res_r2"
   ]
  },
  {
   "cell_type": "code",
   "execution_count": 8,
   "id": "6641a108",
   "metadata": {},
   "outputs": [
    {
     "data": {
      "text/plain": [
       "[{'lr': 0.01,\n",
       "  'batch_size': 128,\n",
       "  'alpha': 0.001,\n",
       "  'step_size': 1,\n",
       "  'gamma': 0.96,\n",
       "  'n_epochs': 24,\n",
       "  'patience': 30},\n",
       " {'lr': 0.001,\n",
       "  'batch_size': 128,\n",
       "  'alpha': 0.001,\n",
       "  'step_size': 1,\n",
       "  'gamma': 0.96,\n",
       "  'n_epochs': 7,\n",
       "  'patience': 30},\n",
       " {'lr': 0.001,\n",
       "  'batch_size': 128,\n",
       "  'alpha': 0.001,\n",
       "  'step_size': 1,\n",
       "  'gamma': 0.96,\n",
       "  'n_epochs': 4,\n",
       "  'patience': 30},\n",
       " {'lr': 0.01,\n",
       "  'batch_size': 128,\n",
       "  'alpha': 0.001,\n",
       "  'step_size': 1,\n",
       "  'gamma': 0.96,\n",
       "  'n_epochs': 60,\n",
       "  'patience': 30},\n",
       " {'lr': 0.001,\n",
       "  'batch_size': 128,\n",
       "  'alpha': 0.001,\n",
       "  'step_size': 1,\n",
       "  'gamma': 0.96,\n",
       "  'n_epochs': 5,\n",
       "  'patience': 30}]"
      ]
     },
     "execution_count": 8,
     "metadata": {},
     "output_type": "execute_result"
    }
   ],
   "source": [
    "rs_cons.best_hyper_params"
   ]
  },
  {
   "cell_type": "markdown",
   "id": "b299382b",
   "metadata": {},
   "source": [
    "# Asset index"
   ]
  },
  {
   "cell_type": "code",
   "execution_count": 10,
   "id": "7f687087",
   "metadata": {},
   "outputs": [],
   "source": [
    "# load the within and between model results\n",
    "results_dir = \"results\"\n",
    "ls_cons_pth = f\"results/model_objects/between_asset_LS_cv.pkl\"\n",
    "rs_cons_pth = \"results/model_objects/between_asset_RS_cv.pkl\"\n",
    "\n",
    "with open(ls_cons_pth, 'rb') as f:\n",
    "    ls_asset = pickle.load(f)\n",
    "    \n",
    "with open(rs_cons_pth, 'rb') as f:\n",
    "    rs_asset = pickle.load(f)\n"
   ]
  },
  {
   "cell_type": "code",
   "execution_count": 11,
   "id": "cfa9c5ca",
   "metadata": {},
   "outputs": [
    {
     "data": {
      "text/plain": [
       "{'train': [0.9873887020289962,\n",
       "  0.9887400620478527,\n",
       "  0.9708221770525571,\n",
       "  0.9674237950909879,\n",
       "  0.4009120109883041],\n",
       " 'val': [0.5925229137247126,\n",
       "  0.5436878857963061,\n",
       "  0.3477691098037118,\n",
       "  0.3826803738456298,\n",
       "  0.09601774836185806]}"
      ]
     },
     "execution_count": 11,
     "metadata": {},
     "output_type": "execute_result"
    }
   ],
   "source": [
    "ls_asset.res_r2"
   ]
  },
  {
   "cell_type": "code",
   "execution_count": 12,
   "id": "7d694ca5",
   "metadata": {},
   "outputs": [
    {
     "data": {
      "text/plain": [
       "[{'lr': 0.001,\n",
       "  'batch_size': 128,\n",
       "  'alpha': 0.001,\n",
       "  'step_size': 1,\n",
       "  'gamma': 0.96,\n",
       "  'n_epochs': 67,\n",
       "  'patience': 30},\n",
       " {'lr': 0.001,\n",
       "  'batch_size': 128,\n",
       "  'alpha': 0.001,\n",
       "  'step_size': 1,\n",
       "  'gamma': 0.96,\n",
       "  'n_epochs': 102,\n",
       "  'patience': 30},\n",
       " {'lr': 0.001,\n",
       "  'batch_size': 128,\n",
       "  'alpha': 0.001,\n",
       "  'step_size': 1,\n",
       "  'gamma': 0.96,\n",
       "  'n_epochs': 49,\n",
       "  'patience': 30},\n",
       " {'lr': 0.001,\n",
       "  'batch_size': 128,\n",
       "  'alpha': 0.1,\n",
       "  'step_size': 1,\n",
       "  'gamma': 0.96,\n",
       "  'n_epochs': 57,\n",
       "  'patience': 30},\n",
       " {'lr': 0.01,\n",
       "  'batch_size': 128,\n",
       "  'alpha': 0.01,\n",
       "  'step_size': 1,\n",
       "  'gamma': 0.96,\n",
       "  'n_epochs': 30,\n",
       "  'patience': 30}]"
      ]
     },
     "execution_count": 12,
     "metadata": {},
     "output_type": "execute_result"
    }
   ],
   "source": [
    "ls_asset.best_hyper_params"
   ]
  },
  {
   "cell_type": "code",
   "execution_count": 13,
   "id": "697c7b88",
   "metadata": {},
   "outputs": [
    {
     "data": {
      "text/plain": [
       "{'train': [0.5844525578870439,\n",
       "  0.5033342782606054,\n",
       "  0.5336174787253567,\n",
       "  0.5894352291145417,\n",
       "  0.5223728421002394],\n",
       " 'val': [0.5880139931244928,\n",
       "  0.45750649155177736,\n",
       "  -0.27945320265686413,\n",
       "  0.3512035044226972,\n",
       "  -0.41535508039765423]}"
      ]
     },
     "execution_count": 13,
     "metadata": {},
     "output_type": "execute_result"
    }
   ],
   "source": [
    "rs_asset.res_r2"
   ]
  },
  {
   "cell_type": "code",
   "execution_count": 14,
   "id": "354a11ab",
   "metadata": {},
   "outputs": [
    {
     "data": {
      "text/plain": [
       "[{'lr': 0.01,\n",
       "  'batch_size': 128,\n",
       "  'alpha': 0.001,\n",
       "  'step_size': 1,\n",
       "  'gamma': 0.96,\n",
       "  'n_epochs': 56,\n",
       "  'patience': 30},\n",
       " {'lr': 0.01,\n",
       "  'batch_size': 128,\n",
       "  'alpha': 0.01,\n",
       "  'step_size': 1,\n",
       "  'gamma': 0.96,\n",
       "  'n_epochs': 42,\n",
       "  'patience': 30},\n",
       " {'lr': 0.01,\n",
       "  'batch_size': 128,\n",
       "  'alpha': 0.1,\n",
       "  'step_size': 1,\n",
       "  'gamma': 0.96,\n",
       "  'n_epochs': 74,\n",
       "  'patience': 30},\n",
       " {'lr': 0.01,\n",
       "  'batch_size': 128,\n",
       "  'alpha': 0.01,\n",
       "  'step_size': 1,\n",
       "  'gamma': 0.96,\n",
       "  'n_epochs': 53,\n",
       "  'patience': 30},\n",
       " {'lr': 0.01,\n",
       "  'batch_size': 128,\n",
       "  'alpha': 0.1,\n",
       "  'step_size': 1,\n",
       "  'gamma': 0.96,\n",
       "  'n_epochs': 44,\n",
       "  'patience': 30}]"
      ]
     },
     "execution_count": 14,
     "metadata": {},
     "output_type": "execute_result"
    }
   ],
   "source": [
    "rs_asset.best_hyper_params"
   ]
  },
  {
   "cell_type": "code",
   "execution_count": null,
   "id": "9de69859",
   "metadata": {},
   "outputs": [],
   "source": []
  }
 ],
 "metadata": {
  "kernelspec": {
   "display_name": "Python 3 (ipykernel)",
   "language": "python",
   "name": "python3"
  },
  "language_info": {
   "codemirror_mode": {
    "name": "ipython",
    "version": 3
   },
   "file_extension": ".py",
   "mimetype": "text/x-python",
   "name": "python",
   "nbconvert_exporter": "python",
   "pygments_lexer": "ipython3",
   "version": "3.10.12"
  }
 },
 "nbformat": 4,
 "nbformat_minor": 5
}
