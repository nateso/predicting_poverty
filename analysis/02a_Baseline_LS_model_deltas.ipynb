{
 "cells": [
  {
   "cell_type": "markdown",
   "id": "37007fa4",
   "metadata": {},
   "source": [
    "# Between model\n",
    "This model takes as input any variable that is static, that is the OSM variables, ESA Landcover variables and the WSF variables. Moreover, it takes the mean over all dynamic variables. The dynamic variables include Nightlights, NDVI, and NDWI_Gao as well as NDWI_McF. \n",
    "\n",
    "The idea is that the between model captures variation between clusters and thus the target variable for the between model is $\\bar{w}_c = \\frac{1}{T_c}\\sum_t^{T_c} w_{c,t}$ "
   ]
  },
  {
   "cell_type": "markdown",
   "id": "f948ff7f",
   "metadata": {},
   "source": [
    "# Within model\n",
    "To augment the number of training observations, I train the model on deltas, rather than on the demeaned variables. This substantially increases the number of training observations and covers a wider range of differences, making the training dataset more versatile and robust. Ideally, this helps to learn from a wider range of differences and thus increases the out-of-sample when predicting $\\tilde{\\boldsymbol{w}}_{ct}$."
   ]
  },
  {
   "cell_type": "code",
   "execution_count": 1,
   "id": "7b9ca298",
   "metadata": {},
   "outputs": [],
   "source": [
    "import pandas as pd\n",
    "import matplotlib.pyplot as plt\n",
    "import matplotlib\n",
    "import pickle\n",
    "from sklearn.metrics import r2_score\n",
    "from sklearn.metrics import mean_squared_error"
   ]
  },
  {
   "cell_type": "code",
   "execution_count": 2,
   "id": "8c8bc3ff",
   "metadata": {},
   "outputs": [],
   "source": [
    "# load the necessary functions from the analysis package\n",
    "\n",
    "# load the variable names, this allows to access the variables in the feature data in a compact way\n",
    "from analysis_utils.variable_names import *\n",
    "\n",
    "# load flagged ids \n",
    "from analysis_utils.flagged_uids import *\n",
    "\n",
    "# load the functions to do spatial k-fold CV\n",
    "from analysis_utils.spatial_CV import *\n",
    "\n",
    "# load the helper functions\n",
    "from analysis_utils.analysis_helpers import *\n",
    "\n",
    "# load the random forest trainer and cross_validator\n",
    "import analysis_utils.RandomForest as rf\n",
    "\n",
    "# load the combien model\n",
    "from analysis_utils.CombinedModel import CombinedModel"
   ]
  },
  {
   "cell_type": "code",
   "execution_count": 3,
   "id": "739dc09b",
   "metadata": {},
   "outputs": [],
   "source": [
    "# set the global file paths\n",
    "root_data_dir = \"../../Data\"\n",
    "\n",
    "# the lsms data\n",
    "lsms_pth = f\"{root_data_dir}/lsms/processed/labels_cluster_v1.csv\"\n",
    "\n",
    "# the feature data\n",
    "feat_data_pth = f\"{root_data_dir}/feature_data/tabular_data.csv\"\n",
    "\n",
    "# set the random seed\n",
    "random_seed = 423\n",
    "spatial_cv_random_seed = 348\n",
    "\n",
    "# set the number of folds for k-fold CV\n",
    "n_folds = 5"
   ]
  },
  {
   "cell_type": "code",
   "execution_count": 4,
   "id": "c468b531",
   "metadata": {},
   "outputs": [
    {
     "name": "stdout",
     "output_type": "stream",
     "text": [
      "Number of observations 6401\n",
      "Number of clusters 2128\n",
      "Number of x vars 113\n"
     ]
    }
   ],
   "source": [
    "# load the feature and the label data\n",
    "lsms_df = pd.read_csv(lsms_pth)\n",
    "# remove flagged ids form dataset\n",
    "lsms_df = lsms_df[~lsms_df.unique_id.isin(flagged_uids)].reset_index()\n",
    "lsms_df['delta_id'] = lsms_df.unique_id\n",
    "lsms_df['avg_log_mean_pc_cons_usd_2017'] = lsms_df.groupby('cluster_id')['log_mean_pc_cons_usd_2017'].transform('mean')\n",
    "lsms_df['avg_mean_asset_index_yeh'] = lsms_df.groupby('cluster_id')['mean_asset_index_yeh'].transform('mean')\n",
    "feat_df = pd.read_csv(feat_data_pth)\n",
    "\n",
    "# describe the training data broadly\n",
    "print(f\"Number of observations {len(lsms_df)}\")\n",
    "print(f\"Number of clusters {len(np.unique(lsms_df.cluster_id))}\")\n",
    "print(f\"Number of x vars {len(feat_df.columns)-2}\")"
   ]
  },
  {
   "cell_type": "code",
   "execution_count": 5,
   "id": "111de106",
   "metadata": {},
   "outputs": [],
   "source": [
    "# merge the label and the feature data to one dataset\n",
    "lsms_vars = ['unique_id', 'n_households',           \n",
    "             'log_mean_pc_cons_usd_2017', 'avg_log_mean_pc_cons_usd_2017',\n",
    "             'mean_asset_index_yeh', 'avg_mean_asset_index_yeh']\n",
    "df = pd.merge(lsms_df[lsms_vars], feat_df, on = 'unique_id', how = 'left')"
   ]
  },
  {
   "cell_type": "markdown",
   "id": "7b24eb66",
   "metadata": {},
   "source": [
    "# Run Training"
   ]
  },
  {
   "cell_type": "code",
   "execution_count": 6,
   "id": "4ec39c76",
   "metadata": {},
   "outputs": [],
   "source": [
    "# define the within and between x variables\n",
    "avg_rs_vars = avg_ndvi_vars + avg_ndwi_gao_vars + avg_nl_vars\n",
    "osm_vars = osm_dist_vars + osm_count_vars + osm_road_vars\n",
    "\n",
    "between_x_vars = osm_vars + esa_lc_vars + wsf_vars + avg_rs_vars + avg_preciptiation + median_rgb_vars\n",
    "\n",
    "dyn_rs_vars = dyn_ndvi_vars + dyn_ndwi_gao_vars + dyn_nl_vars\n",
    "within_x_vars = dyn_rs_vars + precipitation + dyn_rgb_vars"
   ]
  },
  {
   "cell_type": "markdown",
   "id": "2bbec1fc",
   "metadata": {},
   "source": [
    "### Target: Log per capita consumption"
   ]
  },
  {
   "cell_type": "code",
   "execution_count": 7,
   "id": "bda1dc59",
   "metadata": {},
   "outputs": [],
   "source": [
    "between_target_var = 'avg_log_mean_pc_cons_usd_2017'\n",
    "cl_df = df[['cluster_id', between_target_var] + between_x_vars].drop_duplicates().reset_index(drop = True)\n",
    "\n",
    "# normalise the feature data\n",
    "cl_df_norm = standardise_df(cl_df, exclude_cols = [between_target_var])"
   ]
  },
  {
   "cell_type": "code",
   "execution_count": 8,
   "id": "6f429484",
   "metadata": {},
   "outputs": [
    {
     "name": "stdout",
     "output_type": "stream",
     "text": [
      "Creating Delta df\n"
     ]
    },
    {
     "data": {
      "application/vnd.jupyter.widget-view+json": {
       "model_id": "0245457126674244976f53ad8c11e0b1",
       "version_major": 2,
       "version_minor": 0
      },
      "text/plain": [
       "  0%|          | 0/2128 [00:00<?, ?it/s]"
      ]
     },
     "metadata": {},
     "output_type": "display_data"
    }
   ],
   "source": [
    "# get the within dataframe\n",
    "# define the within variables\n",
    "within_target_var = 'log_mean_pc_cons_usd_2017'\n",
    "within_df = df[['cluster_id','unique_id', within_target_var] + within_x_vars]\n",
    "\n",
    "# create a delta df\n",
    "demeaned_df = demean_df(within_df)\n",
    "print(\"Creating Delta df\")\n",
    "delta_df = make_delta_df(within_df)\n",
    "\n",
    "# combine the delta df, with the demeaned df\n",
    "demeaned_df = demeaned_df.rename(columns = {'unique_id': 'delta_id'})\n",
    "delta_dmn_df = pd.concat([delta_df, demeaned_df]).reset_index(drop = True)\n",
    "delta_dmn_df_norm = standardise_df(delta_dmn_df, exclude_cols = [within_target_var])\n",
    "\n",
    "# subset the normalised dataframe into the demeaned data (used in validation) and the delta data (used in training)\n",
    "demeaned_df_norm = delta_dmn_df_norm[delta_dmn_df_norm.delta_id.isin(demeaned_df.delta_id)].copy().reset_index(drop = True)\n",
    "delta_df_norm = delta_dmn_df_norm[delta_dmn_df_norm.delta_id.isin(delta_df.delta_id)].copy().reset_index(drop = True)"
   ]
  },
  {
   "cell_type": "code",
   "execution_count": 9,
   "id": "bc87ce90",
   "metadata": {},
   "outputs": [
    {
     "name": "stdout",
     "output_type": "stream",
     "text": [
      "====================================================================================================\n",
      "Iteration 0\n",
      "====================================================================================================\n",
      "Fold 0, specified test ratio: 0.2 - Actual test ratio 0.20\n",
      "Fold 1, specified test ratio: 0.2 - Actual test ratio 0.20\n",
      "Fold 2, specified test ratio: 0.2 - Actual test ratio 0.21\n",
      "Fold 3, specified test ratio: 0.2 - Actual test ratio 0.20\n",
      "Fold 4, specified test ratio: 0.2 - Actual test ratio 0.19\n",
      "Between training\n",
      "Initialising training\n"
     ]
    },
    {
     "data": {
      "application/vnd.jupyter.widget-view+json": {
       "model_id": "a74f6e5296d9419a8dfb34aa201eb85f",
       "version_major": 2,
       "version_minor": 0
      },
      "text/plain": [
       "  0%|          | 0/5 [00:00<?, ?it/s]"
      ]
     },
     "metadata": {},
     "output_type": "display_data"
    },
    {
     "name": "stdout",
     "output_type": "stream",
     "text": [
      "Finished training after 265 seconds\n",
      "\n",
      "Within training\n",
      "Initialising training\n"
     ]
    },
    {
     "data": {
      "application/vnd.jupyter.widget-view+json": {
       "model_id": "1ef43730ec9a4133823df5ea3f863952",
       "version_major": 2,
       "version_minor": 0
      },
      "text/plain": [
       "  0%|          | 0/5 [00:00<?, ?it/s]"
      ]
     },
     "metadata": {},
     "output_type": "display_data"
    },
    {
     "name": "stdout",
     "output_type": "stream",
     "text": [
      "Finished training after 1057 seconds\n",
      "....................................................................................................\n",
      "{'r2': {'overall': 0.38271232479511413, 'between': 0.4680397028161642, 'within': 0.006810988732453738}, 'mse': {'overall': 0.21630467821898658, 'between': 0.15544672368474663, 'within': 0.17326758372499557}}\n",
      "0.006998940108383306\n",
      "....................................................................................................\n",
      "====================================================================================================\n",
      "Iteration 1\n",
      "====================================================================================================\n",
      "Fold 0, specified test ratio: 0.2 - Actual test ratio 0.20\n",
      "Fold 1, specified test ratio: 0.2 - Actual test ratio 0.20\n",
      "Fold 2, specified test ratio: 0.2 - Actual test ratio 0.20\n",
      "Fold 3, specified test ratio: 0.2 - Actual test ratio 0.20\n",
      "Fold 4, specified test ratio: 0.2 - Actual test ratio 0.19\n",
      "Between training\n",
      "Initialising training\n"
     ]
    },
    {
     "data": {
      "application/vnd.jupyter.widget-view+json": {
       "model_id": "5c79fd31811147a4961a629b988a2e96",
       "version_major": 2,
       "version_minor": 0
      },
      "text/plain": [
       "  0%|          | 0/5 [00:00<?, ?it/s]"
      ]
     },
     "metadata": {},
     "output_type": "display_data"
    },
    {
     "name": "stdout",
     "output_type": "stream",
     "text": [
      "Finished training after 246 seconds\n",
      "\n",
      "Within training\n",
      "Initialising training\n"
     ]
    },
    {
     "data": {
      "application/vnd.jupyter.widget-view+json": {
       "model_id": "8ea2ea6a7e414e149491b06bf2108cf3",
       "version_major": 2,
       "version_minor": 0
      },
      "text/plain": [
       "  0%|          | 0/5 [00:00<?, ?it/s]"
      ]
     },
     "metadata": {},
     "output_type": "display_data"
    },
    {
     "name": "stdout",
     "output_type": "stream",
     "text": [
      "Finished training after 958 seconds\n",
      "....................................................................................................\n",
      "{'r2': {'overall': 0.35063185616927034, 'between': 0.4373700346429812, 'within': 0.010345259978969557}, 'mse': {'overall': 0.21766941603620527, 'between': 0.1563233863099223, 'within': 0.17276267063291537}}\n",
      "0.010561350985600657\n",
      "....................................................................................................\n",
      "====================================================================================================\n",
      "Iteration 2\n",
      "====================================================================================================\n",
      "Fold 0, specified test ratio: 0.2 - Actual test ratio 0.20\n",
      "Fold 1, specified test ratio: 0.2 - Actual test ratio 0.20\n",
      "Fold 2, specified test ratio: 0.2 - Actual test ratio 0.20\n",
      "Fold 3, specified test ratio: 0.2 - Actual test ratio 0.20\n",
      "Fold 4, specified test ratio: 0.2 - Actual test ratio 0.18\n",
      "Between training\n",
      "Initialising training\n"
     ]
    },
    {
     "data": {
      "application/vnd.jupyter.widget-view+json": {
       "model_id": "71caa7f7f6dd476c9ac13c7b785a0452",
       "version_major": 2,
       "version_minor": 0
      },
      "text/plain": [
       "  0%|          | 0/5 [00:00<?, ?it/s]"
      ]
     },
     "metadata": {},
     "output_type": "display_data"
    },
    {
     "name": "stdout",
     "output_type": "stream",
     "text": [
      "Finished training after 230 seconds\n",
      "\n",
      "Within training\n",
      "Initialising training\n"
     ]
    },
    {
     "data": {
      "application/vnd.jupyter.widget-view+json": {
       "model_id": "3b7b283968674459a11a340999fa6fae",
       "version_major": 2,
       "version_minor": 0
      },
      "text/plain": [
       "  0%|          | 0/5 [00:00<?, ?it/s]"
      ]
     },
     "metadata": {},
     "output_type": "display_data"
    },
    {
     "name": "stdout",
     "output_type": "stream",
     "text": [
      "Finished training after 957 seconds\n",
      "....................................................................................................\n",
      "{'r2': {'overall': 0.37981546062737476, 'between': 0.4703481901733915, 'within': 0.011306661934008932}, 'mse': {'overall': 0.213593991224197, 'between': 0.15275229044326138, 'within': 0.17195988289590186}}\n",
      "0.012205073723492475\n",
      "....................................................................................................\n",
      "====================================================================================================\n",
      "Iteration 3\n",
      "====================================================================================================\n",
      "Fold 0, specified test ratio: 0.2 - Actual test ratio 0.21\n",
      "Fold 1, specified test ratio: 0.2 - Actual test ratio 0.20\n",
      "Fold 2, specified test ratio: 0.2 - Actual test ratio 0.21\n",
      "Fold 3, specified test ratio: 0.2 - Actual test ratio 0.20\n",
      "Fold 4, specified test ratio: 0.2 - Actual test ratio 0.17\n",
      "Between training\n",
      "Initialising training\n"
     ]
    },
    {
     "data": {
      "application/vnd.jupyter.widget-view+json": {
       "model_id": "900dc5d1f394478eb63014c8e2856111",
       "version_major": 2,
       "version_minor": 0
      },
      "text/plain": [
       "  0%|          | 0/5 [00:00<?, ?it/s]"
      ]
     },
     "metadata": {},
     "output_type": "display_data"
    },
    {
     "name": "stdout",
     "output_type": "stream",
     "text": [
      "Finished training after 282 seconds\n",
      "\n",
      "Within training\n",
      "Initialising training\n"
     ]
    },
    {
     "data": {
      "application/vnd.jupyter.widget-view+json": {
       "model_id": "c36780b8dac24f88a44a540fb39cf799",
       "version_major": 2,
       "version_minor": 0
      },
      "text/plain": [
       "  0%|          | 0/5 [00:00<?, ?it/s]"
      ]
     },
     "metadata": {},
     "output_type": "display_data"
    },
    {
     "name": "stdout",
     "output_type": "stream",
     "text": [
      "Finished training after 947 seconds\n",
      "....................................................................................................\n",
      "{'r2': {'overall': 0.3578106055103658, 'between': 0.44387537729956195, 'within': 0.012292412874956082}, 'mse': {'overall': 0.21686914943764413, 'between': 0.15538676518979067, 'within': 0.17175639150861724}}\n",
      "0.011533019857124637\n",
      "....................................................................................................\n",
      "====================================================================================================\n",
      "Iteration 4\n",
      "====================================================================================================\n",
      "Fold 0, specified test ratio: 0.2 - Actual test ratio 0.23\n",
      "Fold 1, specified test ratio: 0.2 - Actual test ratio 0.20\n",
      "Fold 2, specified test ratio: 0.2 - Actual test ratio 0.20\n",
      "Fold 3, specified test ratio: 0.2 - Actual test ratio 0.20\n",
      "Fold 4, specified test ratio: 0.2 - Actual test ratio 0.16\n",
      "Between training\n",
      "Initialising training\n"
     ]
    },
    {
     "data": {
      "application/vnd.jupyter.widget-view+json": {
       "model_id": "3d259a75eac14f339afedf2248400a1c",
       "version_major": 2,
       "version_minor": 0
      },
      "text/plain": [
       "  0%|          | 0/5 [00:00<?, ?it/s]"
      ]
     },
     "metadata": {},
     "output_type": "display_data"
    },
    {
     "name": "stdout",
     "output_type": "stream",
     "text": [
      "Finished training after 261 seconds\n",
      "\n",
      "Within training\n",
      "Initialising training\n"
     ]
    },
    {
     "data": {
      "application/vnd.jupyter.widget-view+json": {
       "model_id": "67dc490cb6184828a5fc236597aa0d4b",
       "version_major": 2,
       "version_minor": 0
      },
      "text/plain": [
       "  0%|          | 0/5 [00:00<?, ?it/s]"
      ]
     },
     "metadata": {},
     "output_type": "display_data"
    },
    {
     "name": "stdout",
     "output_type": "stream",
     "text": [
      "Finished training after 933 seconds\n",
      "....................................................................................................\n",
      "{'r2': {'overall': 0.36030068703582047, 'between': 0.44668153536773103, 'within': -0.0009854483690895366}, 'mse': {'overall': 0.2183578765551149, 'between': 0.1568348807528071, 'within': 0.1738459527144281}}\n",
      "-0.001666249802815344\n",
      "....................................................................................................\n",
      "====================================================================================================\n",
      "Iteration 5\n",
      "====================================================================================================\n",
      "Fold 0, specified test ratio: 0.2 - Actual test ratio 0.26\n",
      "Fold 1, specified test ratio: 0.2 - Actual test ratio 0.21\n",
      "Fold 2, specified test ratio: 0.2 - Actual test ratio 0.20\n",
      "Fold 3, specified test ratio: 0.2 - Actual test ratio 0.20\n",
      "Fold 4, specified test ratio: 0.2 - Actual test ratio 0.13\n",
      "Between training\n",
      "Initialising training\n"
     ]
    },
    {
     "data": {
      "application/vnd.jupyter.widget-view+json": {
       "model_id": "47542cf9acc44a088241835b005260eb",
       "version_major": 2,
       "version_minor": 0
      },
      "text/plain": [
       "  0%|          | 0/5 [00:00<?, ?it/s]"
      ]
     },
     "metadata": {},
     "output_type": "display_data"
    },
    {
     "name": "stdout",
     "output_type": "stream",
     "text": [
      "Finished training after 238 seconds\n",
      "\n",
      "Within training\n",
      "Initialising training\n"
     ]
    },
    {
     "data": {
      "application/vnd.jupyter.widget-view+json": {
       "model_id": "acd6435aee7d4c2981bdd01933177081",
       "version_major": 2,
       "version_minor": 0
      },
      "text/plain": [
       "  0%|          | 0/5 [00:00<?, ?it/s]"
      ]
     },
     "metadata": {},
     "output_type": "display_data"
    },
    {
     "name": "stdout",
     "output_type": "stream",
     "text": [
      "Finished training after 928 seconds\n",
      "....................................................................................................\n",
      "{'r2': {'overall': 0.3710241810439191, 'between': 0.4603291929287872, 'within': 0.017218215524484236}, 'mse': {'overall': 0.2129789319803504, 'between': 0.15233050590403518, 'within': 0.1727091826890664}}\n",
      "0.017119103713046036\n",
      "....................................................................................................\n",
      "====================================================================================================\n",
      "Iteration 6\n",
      "====================================================================================================\n",
      "Fold 0, specified test ratio: 0.2 - Actual test ratio 0.21\n",
      "Fold 1, specified test ratio: 0.2 - Actual test ratio 0.20\n",
      "Fold 2, specified test ratio: 0.2 - Actual test ratio 0.20\n",
      "Fold 3, specified test ratio: 0.2 - Actual test ratio 0.20\n",
      "Fold 4, specified test ratio: 0.2 - Actual test ratio 0.18\n",
      "Between training\n",
      "Initialising training\n"
     ]
    },
    {
     "data": {
      "application/vnd.jupyter.widget-view+json": {
       "model_id": "4a782e563f16453394a79e66b810a0e6",
       "version_major": 2,
       "version_minor": 0
      },
      "text/plain": [
       "  0%|          | 0/5 [00:00<?, ?it/s]"
      ]
     },
     "metadata": {},
     "output_type": "display_data"
    },
    {
     "name": "stdout",
     "output_type": "stream",
     "text": [
      "Finished training after 251 seconds\n",
      "\n",
      "Within training\n",
      "Initialising training\n"
     ]
    },
    {
     "data": {
      "application/vnd.jupyter.widget-view+json": {
       "model_id": "134717d6e4af4c55b8d1433dea9d47ae",
       "version_major": 2,
       "version_minor": 0
      },
      "text/plain": [
       "  0%|          | 0/5 [00:00<?, ?it/s]"
      ]
     },
     "metadata": {},
     "output_type": "display_data"
    },
    {
     "name": "stdout",
     "output_type": "stream",
     "text": [
      "Finished training after 926 seconds\n",
      "....................................................................................................\n",
      "{'r2': {'overall': 0.38002196668478866, 'between': 0.4653559140463946, 'within': 0.016522642848943492}, 'mse': {'overall': 0.21496686795048936, 'between': 0.1537418243454254, 'within': 0.17188283079589373}}\n",
      "0.01540047735836468\n",
      "....................................................................................................\n",
      "====================================================================================================\n",
      "Iteration 7\n",
      "====================================================================================================\n",
      "Fold 0, specified test ratio: 0.2 - Actual test ratio 0.25\n",
      "Fold 1, specified test ratio: 0.2 - Actual test ratio 0.20\n",
      "Fold 2, specified test ratio: 0.2 - Actual test ratio 0.20\n",
      "Fold 3, specified test ratio: 0.2 - Actual test ratio 0.20\n",
      "Fold 4, specified test ratio: 0.2 - Actual test ratio 0.14\n",
      "Between training\n",
      "Initialising training\n"
     ]
    },
    {
     "data": {
      "application/vnd.jupyter.widget-view+json": {
       "model_id": "89980a0d4e2443168e062922f8dd04a6",
       "version_major": 2,
       "version_minor": 0
      },
      "text/plain": [
       "  0%|          | 0/5 [00:00<?, ?it/s]"
      ]
     },
     "metadata": {},
     "output_type": "display_data"
    },
    {
     "name": "stdout",
     "output_type": "stream",
     "text": [
      "Finished training after 248 seconds\n",
      "\n",
      "Within training\n",
      "Initialising training\n"
     ]
    },
    {
     "data": {
      "application/vnd.jupyter.widget-view+json": {
       "model_id": "a38e920a7eeb4f5fb586d7ca01ca2863",
       "version_major": 2,
       "version_minor": 0
      },
      "text/plain": [
       "  0%|          | 0/5 [00:00<?, ?it/s]"
      ]
     },
     "metadata": {},
     "output_type": "display_data"
    },
    {
     "name": "stdout",
     "output_type": "stream",
     "text": [
      "Finished training after 948 seconds\n",
      "....................................................................................................\n",
      "{'r2': {'overall': 0.35898990753135274, 'between': 0.45284080864933723, 'within': 0.018099772852773244}, 'mse': {'overall': 0.21471061721000903, 'between': 0.15363118655566205, 'within': 0.17189883521659294}}\n",
      "0.01687722204149326\n",
      "....................................................................................................\n",
      "====================================================================================================\n",
      "Iteration 8\n",
      "====================================================================================================\n",
      "Fold 0, specified test ratio: 0.2 - Actual test ratio 0.23\n",
      "Fold 1, specified test ratio: 0.2 - Actual test ratio 0.20\n",
      "Fold 2, specified test ratio: 0.2 - Actual test ratio 0.20\n",
      "Fold 3, specified test ratio: 0.2 - Actual test ratio 0.20\n",
      "Fold 4, specified test ratio: 0.2 - Actual test ratio 0.16\n",
      "Between training\n",
      "Initialising training\n"
     ]
    },
    {
     "data": {
      "application/vnd.jupyter.widget-view+json": {
       "model_id": "496525c683cf4ca896d516bb93b3743b",
       "version_major": 2,
       "version_minor": 0
      },
      "text/plain": [
       "  0%|          | 0/5 [00:00<?, ?it/s]"
      ]
     },
     "metadata": {},
     "output_type": "display_data"
    },
    {
     "name": "stdout",
     "output_type": "stream",
     "text": [
      "Finished training after 241 seconds\n",
      "\n",
      "Within training\n",
      "Initialising training\n"
     ]
    },
    {
     "data": {
      "application/vnd.jupyter.widget-view+json": {
       "model_id": "4c3b14633dbf4b4cbf151a2465d0876e",
       "version_major": 2,
       "version_minor": 0
      },
      "text/plain": [
       "  0%|          | 0/5 [00:00<?, ?it/s]"
      ]
     },
     "metadata": {},
     "output_type": "display_data"
    },
    {
     "name": "stdout",
     "output_type": "stream",
     "text": [
      "Finished training after 927 seconds\n",
      "....................................................................................................\n",
      "{'r2': {'overall': 0.3629047040673096, 'between': 0.4575603867917326, 'within': 0.015129805569607857}, 'mse': {'overall': 0.2159450871518056, 'between': 0.15413245592899416, 'within': 0.17027618475361225}}\n",
      "0.014693753005610806\n",
      "....................................................................................................\n",
      "====================================================================================================\n",
      "Iteration 9\n",
      "====================================================================================================\n",
      "Fold 0, specified test ratio: 0.2 - Actual test ratio 0.21\n",
      "Fold 1, specified test ratio: 0.2 - Actual test ratio 0.20\n",
      "Fold 2, specified test ratio: 0.2 - Actual test ratio 0.20\n",
      "Fold 3, specified test ratio: 0.2 - Actual test ratio 0.20\n",
      "Fold 4, specified test ratio: 0.2 - Actual test ratio 0.19\n",
      "Between training\n",
      "Initialising training\n"
     ]
    },
    {
     "data": {
      "application/vnd.jupyter.widget-view+json": {
       "model_id": "ee08e729541d4166b3b7fb7aa26aedac",
       "version_major": 2,
       "version_minor": 0
      },
      "text/plain": [
       "  0%|          | 0/5 [00:00<?, ?it/s]"
      ]
     },
     "metadata": {},
     "output_type": "display_data"
    },
    {
     "name": "stdout",
     "output_type": "stream",
     "text": [
      "Finished training after 323 seconds\n",
      "\n",
      "Within training\n",
      "Initialising training\n"
     ]
    },
    {
     "data": {
      "application/vnd.jupyter.widget-view+json": {
       "model_id": "2ab46538891d42779ee8fd84516e41a8",
       "version_major": 2,
       "version_minor": 0
      },
      "text/plain": [
       "  0%|          | 0/5 [00:00<?, ?it/s]"
      ]
     },
     "metadata": {},
     "output_type": "display_data"
    },
    {
     "name": "stdout",
     "output_type": "stream",
     "text": [
      "Finished training after 1031 seconds\n",
      "....................................................................................................\n",
      "{'r2': {'overall': 0.36766780733947696, 'between': 0.4588353562899485, 'within': 0.010227655154473391}, 'mse': {'overall': 0.21568768351186762, 'between': 0.15447896843223147, 'within': 0.17300039718954113}}\n",
      "0.011045623924569611\n",
      "....................................................................................................\n"
     ]
    }
   ],
   "source": [
    "# run repeated cross validation\n",
    "rep_cv_res_cons = {\n",
    "    'between_r2': [],\n",
    "    'within_r2': [],\n",
    "    'delta_r2': [],\n",
    "    'overall_r2': []\n",
    "}\n",
    "\n",
    "for j in range(10):\n",
    "    print(\"=\"*100)\n",
    "    print(f\"Iteration {j}\")\n",
    "    print(\"=\"*100)\n",
    "    rep_seed = random_seed + j\n",
    "    \n",
    "    # divide the data into k different folds\n",
    "    fold_ids = split_lsms_spatial(lsms_df, n_folds = n_folds, random_seed = spatial_cv_random_seed + j)\n",
    "    \n",
    "    # run the bewtween training\n",
    "    print('Between training')\n",
    "    between_cv_trainer = rf.CrossValidator(cl_df_norm, \n",
    "                                                fold_ids, \n",
    "                                                between_target_var, \n",
    "                                                between_x_vars, \n",
    "                                                id_var = 'cluster_id', \n",
    "                                                random_seed = rep_seed)\n",
    "    between_cv_trainer.run_cv_training(min_samples_leaf = 1)\n",
    "    \n",
    "    # run the within training\n",
    "    print(\"\\nWithin training\")\n",
    "    delta_trainer = rf.CrossValidator(delta_df_norm, \n",
    "                                               fold_ids, \n",
    "                                               within_target_var, \n",
    "                                               within_x_vars, \n",
    "                                               id_var = 'delta_id', \n",
    "                                               random_seed = rep_seed)\n",
    "    delta_trainer.run_cv_training(min_samples_leaf = 15)\n",
    "    \n",
    "    # get results of the delta predictions\n",
    "    delta_res = delta_trainer.compute_overall_performance(use_fold_weights = True)\n",
    "    \n",
    "    # evaluate the delta model on the demeaned variables\n",
    "    delta_evaluator = rf.CV_Evaluator(demeaned_df_norm, fold_ids, delta_trainer, id_var = 'delta_id')\n",
    "    delta_evaluator.evaluate()\n",
    "    delta_evaluator.compute_overall_performance()\n",
    "    \n",
    "    # add the predictions to the delta_trainer\n",
    "    delta_trainer.predictions = delta_evaluator.predictions\n",
    "\n",
    "    # combine both models\n",
    "    combined_model = CombinedModel(lsms_df, between_cv_trainer, delta_trainer)\n",
    "    combined_model.evaluate()\n",
    "    combined_results = combined_model.compute_overall_performance(use_fold_weights = True)\n",
    "    \n",
    "    # store the results \n",
    "    rep_cv_res_cons['between_r2'].append(combined_results['r2']['between'])\n",
    "    rep_cv_res_cons['within_r2'].append(combined_results['r2']['within'])\n",
    "    rep_cv_res_cons['delta_r2'].append(delta_res['val_r2'])\n",
    "    rep_cv_res_cons['overall_r2'].append(combined_results['r2']['overall'])\n",
    "    \n",
    "    # print the results\n",
    "    print(\".\"*100)\n",
    "    print(combined_results)\n",
    "    print(delta_res['val_r2'])\n",
    "    print(\".\"*100)"
   ]
  },
  {
   "cell_type": "code",
   "execution_count": 10,
   "id": "49ff2ada",
   "metadata": {},
   "outputs": [],
   "source": [
    "pth = 'results/baseline_ls/rep_cv_cons_delta.pkl'\n",
    "with open(pth, 'wb') as f:\n",
    "    pickle.dump(rep_cv_res_cons, f)"
   ]
  },
  {
   "cell_type": "code",
   "execution_count": 8,
   "id": "68864992",
   "metadata": {},
   "outputs": [
    {
     "name": "stdout",
     "output_type": "stream",
     "text": [
      "& 0.4561 & 0.0117 & 0.3672 & 0.0115  \\\\\n",
      "& \\footnotesize(0.0033) & \\footnotesize(0.0017) & \\footnotesize(0.0033) & \\footnotesize(0.0017)\\\\\n"
     ]
    }
   ],
   "source": [
    "pth = 'results/baseline_ls/rep_cv_cons_delta.pkl'\n",
    "with open(pth, 'rb') as f:\n",
    "    rep_cv_res_cons = pickle.load(f)\n",
    "\n",
    "mean_r2_cons = {k: np.mean(v) for k,v in rep_cv_res_cons.items()}\n",
    "se_r2_cons = {k: np.std(v)/np.sqrt(10) for k,v in rep_cv_res_cons.items()}\n",
    "\n",
    "# print as tex\n",
    "print(f\"& {mean_r2_cons['between_r2']:.4f} & {mean_r2_cons['within_r2']:.4f} & {mean_r2_cons['overall_r2']:.4f} & {mean_r2_cons['delta_r2']:.4f}  \\\\\\\\\")\n",
    "print(f\"& \\\\footnotesize({se_r2_cons['between_r2']:.4f}) & \\\\footnotesize({se_r2_cons['within_r2']:.4f}) & \\\\footnotesize({se_r2_cons['overall_r2']:.4f}) & \\\\footnotesize({se_r2_cons['delta_r2']:.4f})\\\\\\\\\")\n"
   ]
  },
  {
   "cell_type": "markdown",
   "id": "eab51f96",
   "metadata": {},
   "source": [
    "### Target: Asset index"
   ]
  },
  {
   "cell_type": "code",
   "execution_count": 12,
   "id": "76884897",
   "metadata": {},
   "outputs": [],
   "source": [
    "# get a dataset that only varies at the cluster level\n",
    "between_target_var = 'avg_mean_asset_index_yeh'\n",
    "cl_df = df[['cluster_id', between_target_var] + between_x_vars].drop_duplicates().reset_index(drop = True)\n",
    "\n",
    "# normalise the feature data\n",
    "cl_df_norm = standardise_df(cl_df, exclude_cols = [between_target_var])"
   ]
  },
  {
   "cell_type": "code",
   "execution_count": 13,
   "id": "b4d70637",
   "metadata": {},
   "outputs": [
    {
     "name": "stdout",
     "output_type": "stream",
     "text": [
      "Creating Delta df\n"
     ]
    },
    {
     "data": {
      "application/vnd.jupyter.widget-view+json": {
       "model_id": "d890979a30084f01815e6322a82051f0",
       "version_major": 2,
       "version_minor": 0
      },
      "text/plain": [
       "  0%|          | 0/2128 [00:00<?, ?it/s]"
      ]
     },
     "metadata": {},
     "output_type": "display_data"
    }
   ],
   "source": [
    "# define the within variables\n",
    "within_target_var = 'mean_asset_index_yeh'\n",
    "within_df = df[['cluster_id','unique_id', within_target_var] + within_x_vars]\n",
    "\n",
    "# create a delta df\n",
    "demeaned_df = demean_df(within_df)\n",
    "print(\"Creating Delta df\")\n",
    "delta_df = make_delta_df(within_df)\n",
    "\n",
    "# combine the delta df, with the demeaned df\n",
    "demeaned_df = demeaned_df.rename(columns = {'unique_id': 'delta_id'})\n",
    "delta_dmn_df = pd.concat([delta_df, demeaned_df]).reset_index(drop = True)\n",
    "delta_dmn_df_norm = standardise_df(delta_dmn_df, exclude_cols = [within_target_var])\n",
    "\n",
    "# subset the normalised dataframe into the demeaned data (used in validation) and the delta data (used in training)\n",
    "demeaned_df_norm = delta_dmn_df_norm[delta_dmn_df_norm.delta_id.isin(demeaned_df.delta_id)].copy().reset_index(drop = True)\n",
    "delta_df_norm = delta_dmn_df_norm[delta_dmn_df_norm.delta_id.isin(delta_df.delta_id)].copy().reset_index(drop = True)"
   ]
  },
  {
   "cell_type": "code",
   "execution_count": 14,
   "id": "b0a516d5",
   "metadata": {},
   "outputs": [
    {
     "name": "stdout",
     "output_type": "stream",
     "text": [
      "====================================================================================================\n",
      "Iteration 0\n",
      "====================================================================================================\n",
      "Fold 0, specified test ratio: 0.2 - Actual test ratio 0.20\n",
      "Fold 1, specified test ratio: 0.2 - Actual test ratio 0.20\n",
      "Fold 2, specified test ratio: 0.2 - Actual test ratio 0.21\n",
      "Fold 3, specified test ratio: 0.2 - Actual test ratio 0.20\n",
      "Fold 4, specified test ratio: 0.2 - Actual test ratio 0.19\n",
      "Between training\n",
      "Initialising training\n"
     ]
    },
    {
     "data": {
      "application/vnd.jupyter.widget-view+json": {
       "model_id": "4278fa61f55441bf83257f662adf8691",
       "version_major": 2,
       "version_minor": 0
      },
      "text/plain": [
       "  0%|          | 0/5 [00:00<?, ?it/s]"
      ]
     },
     "metadata": {},
     "output_type": "display_data"
    },
    {
     "name": "stdout",
     "output_type": "stream",
     "text": [
      "Finished training after 289 seconds\n",
      "\n",
      "Within training\n",
      "Initialising training\n"
     ]
    },
    {
     "data": {
      "application/vnd.jupyter.widget-view+json": {
       "model_id": "20db742410cc40acae9e3367abf4ce7f",
       "version_major": 2,
       "version_minor": 0
      },
      "text/plain": [
       "  0%|          | 0/5 [00:00<?, ?it/s]"
      ]
     },
     "metadata": {},
     "output_type": "display_data"
    },
    {
     "name": "stdout",
     "output_type": "stream",
     "text": [
      "Finished training after 971 seconds\n",
      "....................................................................................................\n",
      "{'r2': {'overall': 0.4895710676639905, 'between': 0.511914212918517, 'within': 0.05526805260284837}, 'mse': {'overall': 1.1349368844973553, 'between': 1.186998658499354, 'within': 0.2492365926466408}}\n",
      "0.05617366358121622\n",
      "....................................................................................................\n",
      "====================================================================================================\n",
      "Iteration 1\n",
      "====================================================================================================\n",
      "Fold 0, specified test ratio: 0.2 - Actual test ratio 0.20\n",
      "Fold 1, specified test ratio: 0.2 - Actual test ratio 0.20\n",
      "Fold 2, specified test ratio: 0.2 - Actual test ratio 0.20\n",
      "Fold 3, specified test ratio: 0.2 - Actual test ratio 0.20\n",
      "Fold 4, specified test ratio: 0.2 - Actual test ratio 0.19\n",
      "Between training\n",
      "Initialising training\n"
     ]
    },
    {
     "data": {
      "application/vnd.jupyter.widget-view+json": {
       "model_id": "b44f32a0b1ab40d2876f191be98e7d64",
       "version_major": 2,
       "version_minor": 0
      },
      "text/plain": [
       "  0%|          | 0/5 [00:00<?, ?it/s]"
      ]
     },
     "metadata": {},
     "output_type": "display_data"
    },
    {
     "name": "stdout",
     "output_type": "stream",
     "text": [
      "Finished training after 294 seconds\n",
      "\n",
      "Within training\n",
      "Initialising training\n"
     ]
    },
    {
     "data": {
      "application/vnd.jupyter.widget-view+json": {
       "model_id": "9cbee38b364846c793dd99330fc0381a",
       "version_major": 2,
       "version_minor": 0
      },
      "text/plain": [
       "  0%|          | 0/5 [00:00<?, ?it/s]"
      ]
     },
     "metadata": {},
     "output_type": "display_data"
    },
    {
     "name": "stdout",
     "output_type": "stream",
     "text": [
      "Finished training after 1051 seconds\n",
      "....................................................................................................\n",
      "{'r2': {'overall': 0.46777569830324456, 'between': 0.49889247755311256, 'within': 0.04827216020656302}, 'mse': {'overall': 1.1309125204593002, 'between': 1.168068975150059, 'within': 0.25285409794071784}}\n",
      "0.048162552737970744\n",
      "....................................................................................................\n",
      "====================================================================================================\n",
      "Iteration 2\n",
      "====================================================================================================\n",
      "Fold 0, specified test ratio: 0.2 - Actual test ratio 0.20\n",
      "Fold 1, specified test ratio: 0.2 - Actual test ratio 0.20\n",
      "Fold 2, specified test ratio: 0.2 - Actual test ratio 0.20\n",
      "Fold 3, specified test ratio: 0.2 - Actual test ratio 0.20\n",
      "Fold 4, specified test ratio: 0.2 - Actual test ratio 0.18\n",
      "Between training\n",
      "Initialising training\n"
     ]
    },
    {
     "data": {
      "application/vnd.jupyter.widget-view+json": {
       "model_id": "86ab535c6c9c45dfa4af372c92ac50ef",
       "version_major": 2,
       "version_minor": 0
      },
      "text/plain": [
       "  0%|          | 0/5 [00:00<?, ?it/s]"
      ]
     },
     "metadata": {},
     "output_type": "display_data"
    },
    {
     "name": "stdout",
     "output_type": "stream",
     "text": [
      "Finished training after 264 seconds\n",
      "\n",
      "Within training\n",
      "Initialising training\n"
     ]
    },
    {
     "data": {
      "application/vnd.jupyter.widget-view+json": {
       "model_id": "3e5e4775ffb8435c8e3b931d6d19eaee",
       "version_major": 2,
       "version_minor": 0
      },
      "text/plain": [
       "  0%|          | 0/5 [00:00<?, ?it/s]"
      ]
     },
     "metadata": {},
     "output_type": "display_data"
    },
    {
     "name": "stdout",
     "output_type": "stream",
     "text": [
      "Finished training after 821 seconds\n",
      "....................................................................................................\n",
      "{'r2': {'overall': 0.4806965167298979, 'between': 0.5095096586567669, 'within': 0.0631028987076105}, 'mse': {'overall': 1.1315165000590193, 'between': 1.1727883654121796, 'within': 0.24898652595671908}}\n",
      "0.06354480491593804\n",
      "....................................................................................................\n",
      "====================================================================================================\n",
      "Iteration 3\n",
      "====================================================================================================\n",
      "Fold 0, specified test ratio: 0.2 - Actual test ratio 0.21\n",
      "Fold 1, specified test ratio: 0.2 - Actual test ratio 0.20\n",
      "Fold 2, specified test ratio: 0.2 - Actual test ratio 0.21\n",
      "Fold 3, specified test ratio: 0.2 - Actual test ratio 0.20\n",
      "Fold 4, specified test ratio: 0.2 - Actual test ratio 0.17\n",
      "Between training\n",
      "Initialising training\n"
     ]
    },
    {
     "data": {
      "application/vnd.jupyter.widget-view+json": {
       "model_id": "9482a8cc556546df8c00133e01664305",
       "version_major": 2,
       "version_minor": 0
      },
      "text/plain": [
       "  0%|          | 0/5 [00:00<?, ?it/s]"
      ]
     },
     "metadata": {},
     "output_type": "display_data"
    },
    {
     "name": "stdout",
     "output_type": "stream",
     "text": [
      "Finished training after 218 seconds\n",
      "\n",
      "Within training\n",
      "Initialising training\n"
     ]
    },
    {
     "data": {
      "application/vnd.jupyter.widget-view+json": {
       "model_id": "7e2ed02dc7874462a0e472bf663d4f92",
       "version_major": 2,
       "version_minor": 0
      },
      "text/plain": [
       "  0%|          | 0/5 [00:00<?, ?it/s]"
      ]
     },
     "metadata": {},
     "output_type": "display_data"
    },
    {
     "name": "stdout",
     "output_type": "stream",
     "text": [
      "Finished training after 801 seconds\n",
      "....................................................................................................\n",
      "{'r2': {'overall': 0.47394923292595514, 'between': 0.49386352260951977, 'within': 0.043333613755008014}, 'mse': {'overall': 1.1354464622665743, 'between': 1.1852278707296993, 'within': 0.2438410417988072}}\n",
      "0.04358334228828824\n",
      "....................................................................................................\n",
      "====================================================================================================\n",
      "Iteration 4\n",
      "====================================================================================================\n",
      "Fold 0, specified test ratio: 0.2 - Actual test ratio 0.23\n",
      "Fold 1, specified test ratio: 0.2 - Actual test ratio 0.20\n",
      "Fold 2, specified test ratio: 0.2 - Actual test ratio 0.20\n",
      "Fold 3, specified test ratio: 0.2 - Actual test ratio 0.20\n",
      "Fold 4, specified test ratio: 0.2 - Actual test ratio 0.16\n",
      "Between training\n",
      "Initialising training\n"
     ]
    },
    {
     "data": {
      "application/vnd.jupyter.widget-view+json": {
       "model_id": "8c3ce1e5c0d1439fbb241451af12004b",
       "version_major": 2,
       "version_minor": 0
      },
      "text/plain": [
       "  0%|          | 0/5 [00:00<?, ?it/s]"
      ]
     },
     "metadata": {},
     "output_type": "display_data"
    },
    {
     "name": "stdout",
     "output_type": "stream",
     "text": [
      "Finished training after 218 seconds\n",
      "\n",
      "Within training\n",
      "Initialising training\n"
     ]
    },
    {
     "data": {
      "application/vnd.jupyter.widget-view+json": {
       "model_id": "781dfd2d58564526bf457ec3ecdb2231",
       "version_major": 2,
       "version_minor": 0
      },
      "text/plain": [
       "  0%|          | 0/5 [00:00<?, ?it/s]"
      ]
     },
     "metadata": {},
     "output_type": "display_data"
    },
    {
     "name": "stdout",
     "output_type": "stream",
     "text": [
      "Finished training after 800 seconds\n",
      "....................................................................................................\n",
      "{'r2': {'overall': 0.46454610286385783, 'between': 0.4851591626062994, 'within': 0.05890594838603016}, 'mse': {'overall': 1.1275742148573558, 'between': 1.185947457502159, 'within': 0.24654596360612366}}\n",
      "0.05861892581355295\n",
      "....................................................................................................\n",
      "====================================================================================================\n",
      "Iteration 5\n",
      "====================================================================================================\n",
      "Fold 0, specified test ratio: 0.2 - Actual test ratio 0.26\n",
      "Fold 1, specified test ratio: 0.2 - Actual test ratio 0.21\n",
      "Fold 2, specified test ratio: 0.2 - Actual test ratio 0.20\n",
      "Fold 3, specified test ratio: 0.2 - Actual test ratio 0.20\n",
      "Fold 4, specified test ratio: 0.2 - Actual test ratio 0.13\n",
      "Between training\n",
      "Initialising training\n"
     ]
    },
    {
     "data": {
      "application/vnd.jupyter.widget-view+json": {
       "model_id": "ae54e6f00da64854b0be448c2bbceee4",
       "version_major": 2,
       "version_minor": 0
      },
      "text/plain": [
       "  0%|          | 0/5 [00:00<?, ?it/s]"
      ]
     },
     "metadata": {},
     "output_type": "display_data"
    },
    {
     "name": "stdout",
     "output_type": "stream",
     "text": [
      "Finished training after 216 seconds\n",
      "\n",
      "Within training\n",
      "Initialising training\n"
     ]
    },
    {
     "data": {
      "application/vnd.jupyter.widget-view+json": {
       "model_id": "aa716d3296ed43fb906c336df1b16999",
       "version_major": 2,
       "version_minor": 0
      },
      "text/plain": [
       "  0%|          | 0/5 [00:00<?, ?it/s]"
      ]
     },
     "metadata": {},
     "output_type": "display_data"
    },
    {
     "name": "stdout",
     "output_type": "stream",
     "text": [
      "Finished training after 782 seconds\n",
      "....................................................................................................\n",
      "{'r2': {'overall': 0.45263077986204325, 'between': 0.46913729535421445, 'within': 0.04843577107281423}, 'mse': {'overall': 1.1253915972500088, 'between': 1.1925117338690798, 'within': 0.24536874201234218}}\n",
      "0.04829492751328881\n",
      "....................................................................................................\n",
      "====================================================================================================\n",
      "Iteration 6\n",
      "====================================================================================================\n",
      "Fold 0, specified test ratio: 0.2 - Actual test ratio 0.21\n",
      "Fold 1, specified test ratio: 0.2 - Actual test ratio 0.20\n",
      "Fold 2, specified test ratio: 0.2 - Actual test ratio 0.20\n",
      "Fold 3, specified test ratio: 0.2 - Actual test ratio 0.20\n",
      "Fold 4, specified test ratio: 0.2 - Actual test ratio 0.18\n",
      "Between training\n",
      "Initialising training\n"
     ]
    },
    {
     "data": {
      "application/vnd.jupyter.widget-view+json": {
       "model_id": "9367bca42ebf44b3b71af0513b936228",
       "version_major": 2,
       "version_minor": 0
      },
      "text/plain": [
       "  0%|          | 0/5 [00:00<?, ?it/s]"
      ]
     },
     "metadata": {},
     "output_type": "display_data"
    },
    {
     "name": "stdout",
     "output_type": "stream",
     "text": [
      "Finished training after 205 seconds\n",
      "\n",
      "Within training\n",
      "Initialising training\n"
     ]
    },
    {
     "data": {
      "application/vnd.jupyter.widget-view+json": {
       "model_id": "7af765f2b37043699308d23751cdb366",
       "version_major": 2,
       "version_minor": 0
      },
      "text/plain": [
       "  0%|          | 0/5 [00:00<?, ?it/s]"
      ]
     },
     "metadata": {},
     "output_type": "display_data"
    },
    {
     "name": "stdout",
     "output_type": "stream",
     "text": [
      "Finished training after 770 seconds\n",
      "....................................................................................................\n",
      "{'r2': {'overall': 0.484849937037314, 'between': 0.5074997725684639, 'within': 0.054497593064964}, 'mse': {'overall': 1.1377404205665322, 'between': 1.1757306084233676, 'within': 0.24461861562975912}}\n",
      "0.0535588799080074\n",
      "....................................................................................................\n",
      "====================================================================================================\n",
      "Iteration 7\n",
      "====================================================================================================\n",
      "Fold 0, specified test ratio: 0.2 - Actual test ratio 0.25\n",
      "Fold 1, specified test ratio: 0.2 - Actual test ratio 0.20\n",
      "Fold 2, specified test ratio: 0.2 - Actual test ratio 0.20\n",
      "Fold 3, specified test ratio: 0.2 - Actual test ratio 0.20\n",
      "Fold 4, specified test ratio: 0.2 - Actual test ratio 0.14\n",
      "Between training\n",
      "Initialising training\n"
     ]
    },
    {
     "data": {
      "application/vnd.jupyter.widget-view+json": {
       "model_id": "7f9a7e5f71d54dabbb324715e7d2f1df",
       "version_major": 2,
       "version_minor": 0
      },
      "text/plain": [
       "  0%|          | 0/5 [00:00<?, ?it/s]"
      ]
     },
     "metadata": {},
     "output_type": "display_data"
    },
    {
     "name": "stdout",
     "output_type": "stream",
     "text": [
      "Finished training after 213 seconds\n",
      "\n",
      "Within training\n",
      "Initialising training\n"
     ]
    },
    {
     "data": {
      "application/vnd.jupyter.widget-view+json": {
       "model_id": "6aabe8aa73f7439186081df33d35dbca",
       "version_major": 2,
       "version_minor": 0
      },
      "text/plain": [
       "  0%|          | 0/5 [00:00<?, ?it/s]"
      ]
     },
     "metadata": {},
     "output_type": "display_data"
    },
    {
     "name": "stdout",
     "output_type": "stream",
     "text": [
      "Finished training after 784 seconds\n",
      "....................................................................................................\n",
      "{'r2': {'overall': 0.46154825389276, 'between': 0.48317115568569446, 'within': 0.054507912988030816}, 'mse': {'overall': 1.1159936968364157, 'between': 1.1840521054884658, 'within': 0.24536574008385587}}\n",
      "0.05456706000865173\n",
      "....................................................................................................\n",
      "====================================================================================================\n",
      "Iteration 8\n",
      "====================================================================================================\n",
      "Fold 0, specified test ratio: 0.2 - Actual test ratio 0.23\n",
      "Fold 1, specified test ratio: 0.2 - Actual test ratio 0.20\n",
      "Fold 2, specified test ratio: 0.2 - Actual test ratio 0.20\n",
      "Fold 3, specified test ratio: 0.2 - Actual test ratio 0.20\n",
      "Fold 4, specified test ratio: 0.2 - Actual test ratio 0.16\n",
      "Between training\n",
      "Initialising training\n"
     ]
    },
    {
     "data": {
      "application/vnd.jupyter.widget-view+json": {
       "model_id": "22545bc8561945d19c3b2df9c435af0d",
       "version_major": 2,
       "version_minor": 0
      },
      "text/plain": [
       "  0%|          | 0/5 [00:00<?, ?it/s]"
      ]
     },
     "metadata": {},
     "output_type": "display_data"
    },
    {
     "name": "stdout",
     "output_type": "stream",
     "text": [
      "Finished training after 217 seconds\n",
      "\n",
      "Within training\n",
      "Initialising training\n"
     ]
    },
    {
     "data": {
      "application/vnd.jupyter.widget-view+json": {
       "model_id": "a7ad0d0bb8a5401fbd4b8dde2834258d",
       "version_major": 2,
       "version_minor": 0
      },
      "text/plain": [
       "  0%|          | 0/5 [00:00<?, ?it/s]"
      ]
     },
     "metadata": {},
     "output_type": "display_data"
    },
    {
     "name": "stdout",
     "output_type": "stream",
     "text": [
      "Finished training after 784 seconds\n",
      "....................................................................................................\n",
      "{'r2': {'overall': 0.46876194812047833, 'between': 0.487822956737478, 'within': 0.0498463880989168}, 'mse': {'overall': 1.1209719741524455, 'between': 1.1776162092659368, 'within': 0.24814330203142704}}\n",
      "0.049756154208269406\n",
      "....................................................................................................\n",
      "====================================================================================================\n",
      "Iteration 9\n",
      "====================================================================================================\n",
      "Fold 0, specified test ratio: 0.2 - Actual test ratio 0.21\n",
      "Fold 1, specified test ratio: 0.2 - Actual test ratio 0.20\n",
      "Fold 2, specified test ratio: 0.2 - Actual test ratio 0.20\n",
      "Fold 3, specified test ratio: 0.2 - Actual test ratio 0.20\n",
      "Fold 4, specified test ratio: 0.2 - Actual test ratio 0.19\n",
      "Between training\n",
      "Initialising training\n"
     ]
    },
    {
     "data": {
      "application/vnd.jupyter.widget-view+json": {
       "model_id": "ef4892fa41464fc298a06df5430db1a2",
       "version_major": 2,
       "version_minor": 0
      },
      "text/plain": [
       "  0%|          | 0/5 [00:00<?, ?it/s]"
      ]
     },
     "metadata": {},
     "output_type": "display_data"
    },
    {
     "name": "stdout",
     "output_type": "stream",
     "text": [
      "Finished training after 200 seconds\n",
      "\n",
      "Within training\n",
      "Initialising training\n"
     ]
    },
    {
     "data": {
      "application/vnd.jupyter.widget-view+json": {
       "model_id": "6900c317885a4c2880ffeed6ceda59f3",
       "version_major": 2,
       "version_minor": 0
      },
      "text/plain": [
       "  0%|          | 0/5 [00:00<?, ?it/s]"
      ]
     },
     "metadata": {},
     "output_type": "display_data"
    },
    {
     "name": "stdout",
     "output_type": "stream",
     "text": [
      "Finished training after 771 seconds\n",
      "....................................................................................................\n",
      "{'r2': {'overall': 0.47037096271522205, 'between': 0.5019702444655766, 'within': 0.05812843509249175}, 'mse': {'overall': 1.1265190057014047, 'between': 1.1641378535155429, 'within': 0.2517340183980058}}\n",
      "0.05859139923610297\n",
      "....................................................................................................\n"
     ]
    }
   ],
   "source": [
    "# run repeated cross validation\n",
    "rep_cv_res_asset = {\n",
    "    'between_r2': [],\n",
    "    'within_r2': [],\n",
    "    'delta_r2': [],\n",
    "    'overall_r2': []\n",
    "}\n",
    "\n",
    "for j in range(10):\n",
    "    print(\"=\"*100)\n",
    "    print(f\"Iteration {j}\")\n",
    "    print(\"=\"*100)\n",
    "    rep_seed = random_seed + j\n",
    "    \n",
    "    # divide the data into k different folds\n",
    "    fold_ids = split_lsms_spatial(lsms_df, n_folds = n_folds, random_seed = spatial_cv_random_seed + j)\n",
    "    \n",
    "    # run the bewtween training\n",
    "    print('Between training')\n",
    "    between_cv_trainer = rf.CrossValidator(cl_df_norm, \n",
    "                                                fold_ids, \n",
    "                                                between_target_var, \n",
    "                                                between_x_vars, \n",
    "                                                id_var = 'cluster_id', \n",
    "                                                random_seed = rep_seed)\n",
    "    between_cv_trainer.run_cv_training(min_samples_leaf = 1)\n",
    "    \n",
    "    # run the within training\n",
    "    print(\"\\nWithin training\")\n",
    "    delta_trainer = rf.CrossValidator(delta_df_norm, \n",
    "                                               fold_ids, \n",
    "                                               within_target_var, \n",
    "                                               within_x_vars, \n",
    "                                               id_var = 'delta_id', \n",
    "                                               random_seed = rep_seed)\n",
    "    delta_trainer.run_cv_training(min_samples_leaf = 15)\n",
    "    \n",
    "    # get results of the delta predictions\n",
    "    delta_res = delta_trainer.compute_overall_performance(use_fold_weights = True)\n",
    "    \n",
    "    # evaluate the delta model on the demeaned variables\n",
    "    delta_evaluator = rf.CV_Evaluator(demeaned_df_norm, fold_ids, delta_trainer, id_var = 'delta_id')\n",
    "    delta_evaluator.evaluate()\n",
    "    delta_evaluator.compute_overall_performance()\n",
    "    \n",
    "    # add the predictions to the delta_trainer\n",
    "    delta_trainer.predictions = delta_evaluator.predictions\n",
    "\n",
    "    # combine both models\n",
    "    combined_model = CombinedModel(lsms_df, between_cv_trainer, delta_trainer)\n",
    "    combined_model.evaluate()\n",
    "    combined_results = combined_model.compute_overall_performance(use_fold_weights = True)\n",
    "    \n",
    "    # store the results \n",
    "    rep_cv_res_asset['between_r2'].append(combined_results['r2']['between'])\n",
    "    rep_cv_res_asset['within_r2'].append(combined_results['r2']['within'])\n",
    "    rep_cv_res_asset['delta_r2'].append(delta_res['val_r2'])\n",
    "    rep_cv_res_asset['overall_r2'].append(combined_results['r2']['overall'])\n",
    "    \n",
    "    # print the results\n",
    "    print(\".\"*100)\n",
    "    print(combined_results)\n",
    "    print(delta_res['val_r2'])\n",
    "    print(\".\"*100)"
   ]
  },
  {
   "cell_type": "code",
   "execution_count": 15,
   "id": "8de374eb",
   "metadata": {},
   "outputs": [],
   "source": [
    "pth = 'results/baseline_ls/rep_cv_asset_delta.pkl'\n",
    "with open(pth, 'wb') as f:\n",
    "    pickle.dump(rep_cv_res_asset, f)"
   ]
  },
  {
   "cell_type": "code",
   "execution_count": 16,
   "id": "421ed9dd",
   "metadata": {},
   "outputs": [
    {
     "name": "stdout",
     "output_type": "stream",
     "text": [
      "& 0.4949 & 0.0534 & 0.4715 \\\\\n",
      "& \\footnotesize(0.0041) & \\footnotesize(0.0018) & \\footnotesize(0.0033)\\\\\n"
     ]
    }
   ],
   "source": [
    "mean_r2_asset = {k: np.mean(v) for k,v in rep_cv_res_asset.items()}\n",
    "se_r2_asset = {k: np.std(v)/np.sqrt(10) for k,v in rep_cv_res_asset.items()}\n",
    "\n",
    "# print as tex\n",
    "print(f\"& {mean_r2_asset['between_r2']:.4f} & {mean_r2_asset['within_r2']:.4f} & {mean_r2_asset['overall_r2']:.4f} \\\\\\\\\")\n",
    "print(f\"& \\\\footnotesize({se_r2_asset['between_r2']:.4f}) & \\\\footnotesize({se_r2_asset['within_r2']:.4f}) & \\\\footnotesize({se_r2_asset['overall_r2']:.4f})\\\\\\\\\")"
   ]
  },
  {
   "cell_type": "code",
   "execution_count": 9,
   "id": "65613831",
   "metadata": {},
   "outputs": [
    {
     "name": "stdout",
     "output_type": "stream",
     "text": [
      "& 0.4949 & 0.0534 & 0.4715 & 0.0535 \\\\\n",
      "& \\footnotesize(0.0041) & \\footnotesize(0.0018) & \\footnotesize(0.0033) & \\footnotesize(0.0018) \\\\\n"
     ]
    }
   ],
   "source": [
    "pth = 'results/baseline_ls/rep_cv_asset_delta.pkl'\n",
    "with open(pth, 'rb') as f:\n",
    "    rep_cv_res_asset = pickle.load(f)\n",
    "    \n",
    "mean_r2_asset = {k: np.mean(v) for k,v in rep_cv_res_asset.items()}\n",
    "se_r2_asset = {k: np.std(v)/np.sqrt(10) for k,v in rep_cv_res_asset.items()}\n",
    "\n",
    "# print as tex\n",
    "print(f\"& {mean_r2_asset['between_r2']:.4f} & {mean_r2_asset['within_r2']:.4f} & {mean_r2_asset['overall_r2']:.4f} & {mean_r2_asset['delta_r2']:.4f} \\\\\\\\\")\n",
    "print(f\"& \\\\footnotesize({se_r2_asset['between_r2']:.4f}) & \\\\footnotesize({se_r2_asset['within_r2']:.4f}) & \\\\footnotesize({se_r2_asset['overall_r2']:.4f}) & \\\\footnotesize({se_r2_asset['delta_r2']:.4f}) \\\\\\\\\")"
   ]
  }
 ],
 "metadata": {
  "kernelspec": {
   "display_name": "Python 3 (ipykernel)",
   "language": "python",
   "name": "python3"
  },
  "language_info": {
   "codemirror_mode": {
    "name": "ipython",
    "version": 3
   },
   "file_extension": ".py",
   "mimetype": "text/x-python",
   "name": "python",
   "nbconvert_exporter": "python",
   "pygments_lexer": "ipython3",
   "version": "3.10.12"
  }
 },
 "nbformat": 4,
 "nbformat_minor": 5
}
