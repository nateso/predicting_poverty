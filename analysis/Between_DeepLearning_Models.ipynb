{
 "cells": [
  {
   "cell_type": "code",
   "execution_count": 1,
   "id": "853cec30",
   "metadata": {},
   "outputs": [],
   "source": [
    "import numpy as npc\n",
    "import pandas as pd\n",
    "from torch.utils.data import DataLoader, Dataset"
   ]
  },
  {
   "cell_type": "code",
   "execution_count": 2,
   "id": "e303e447",
   "metadata": {},
   "outputs": [],
   "source": [
    "# import the torch_framework package\n",
    "from analysis_utils.torch_framework.CrossValidator import CrossValidator\n",
    "from analysis_utils.torch_framework.ResNet18 import *\n",
    "from analysis_utils.torch_framework.torch_helpers import *\n",
    "from analysis_utils.torch_framework.SatDataset import SatDataset\n",
    "from analysis_utils.torch_framework.BetweenModel import BetweenModel\n",
    "\n",
    "# load the variable names of the tabular feature data\n",
    "from analysis_utils.variable_names import *\n",
    "\n",
    "# load the functions to do spatial CV\n",
    "from analysis_utils.spatial_CV import *"
   ]
  },
  {
   "cell_type": "code",
   "execution_count": 3,
   "id": "eb2174eb",
   "metadata": {},
   "outputs": [
    {
     "name": "stdout",
     "output_type": "stream",
     "text": [
      "Training device: cpu\n"
     ]
    }
   ],
   "source": [
    "# set the global file paths\n",
    "root_data_dir = \"../../Data\"\n",
    "\n",
    "# the lsms data\n",
    "lsms_pth = f\"{root_data_dir}/lsms/processed/labels_cluster_v1.csv\"\n",
    "\n",
    "# the feature data (OSM + precipitation)\n",
    "feat_data_pth = f\"{root_data_dir}/feature_data/tabular_data.csv\"\n",
    "\n",
    "# set the random seed\n",
    "random_seed = 348\n",
    "\n",
    "# set the number of folds for k-fold CV\n",
    "n_folds = 5\n",
    "\n",
    "# set the number of epochs\n",
    "n_epochs = 5\n",
    "\n",
    "# training device\n",
    "device = torch.device(\"cuda\") if torch.cuda.is_available() else torch.device(\"cpu\")\n",
    "print(f\"Training device: {device}\")"
   ]
  },
  {
   "cell_type": "code",
   "execution_count": 4,
   "id": "76013e2b",
   "metadata": {},
   "outputs": [],
   "source": [
    "# Set the paths for the satellite image satistics\n",
    "sat_img_dir = f\"{root_data_dir}/satellite_imgs\"\n",
    "\n",
    "# median LS images at the cluster level\n",
    "LS_median_img_dir = f\"{sat_img_dir}/LS/LS_median_cluster\"\n",
    "LS_median_stats_pth = f\"{sat_img_dir}/LS/LS_median_img_stats.pkl\"\n",
    "\n",
    "# the RS v2 images at the cluster level\n",
    "RS_v2_between_img_dir = f\"{sat_img_dir}/RS_v2/RS_v2_between\"\n",
    "RS_v2_between_stats_pth = f\"{sat_img_dir}/RS_v2/RS_v2_between_img_stats.pkl\""
   ]
  },
  {
   "cell_type": "code",
   "execution_count": 12,
   "id": "ac9e6c52",
   "metadata": {},
   "outputs": [],
   "source": [
    "# load the LSMS data and the feature data (OSM and precipitation)\n",
    "lsms_df = pd.read_csv(lsms_pth)#.iloc[:100,:]\n",
    "feat_df = pd.read_csv(feat_data_pth)\n",
    "\n",
    "# add the mean variable at the cluster level\n",
    "lsms_df['avg_log_mean_pc_cons_usd_2017'] = lsms_df.groupby('cluster_id')['log_mean_pc_cons_usd_2017'].transform('mean')\n",
    "\n",
    "# merge the lsms_df and the feat_df\n",
    "df = pd.merge(lsms_df, feat_df, on = ('unique_id','cluster_id'), how = 'left')"
   ]
  },
  {
   "cell_type": "code",
   "execution_count": 13,
   "id": "766aeb38",
   "metadata": {},
   "outputs": [
    {
     "name": "stdout",
     "output_type": "stream",
     "text": [
      "Fold 0, specified test ratio: 0.2 - Actual test ratio 0.21\n",
      "Fold 1, specified test ratio: 0.2 - Actual test ratio 0.21\n",
      "Fold 2, specified test ratio: 0.2 - Actual test ratio 0.20\n",
      "Fold 3, specified test ratio: 0.2 - Actual test ratio 0.20\n",
      "Fold 4, specified test ratio: 0.2 - Actual test ratio 0.18\n"
     ]
    }
   ],
   "source": [
    "# divide the data into k different folds\n",
    "fold_ids = split_lsms_spatial(lsms_df, n_folds = n_folds, random_seed = random_seed)"
   ]
  },
  {
   "cell_type": "code",
   "execution_count": 8,
   "id": "a0647b5f",
   "metadata": {},
   "outputs": [],
   "source": [
    "# define the target variable\n",
    "between_target_var = 'avg_log_mean_pc_cons_usd_2017'\n",
    "\n",
    "# define the tabular x_vars to keep in the data\n",
    "between_x_vars = osm_dist_vars + osm_count_vars + ['avg_precipitation']\n",
    "\n",
    "# define the mean cluster dataset\n",
    "between_df = df[['cluster_id', 'lat', 'lon', 'country', between_target_var] + between_x_vars].drop_duplicates().reset_index(drop = True)"
   ]
  },
  {
   "cell_type": "code",
   "execution_count": 9,
   "id": "cba0250e",
   "metadata": {},
   "outputs": [],
   "source": [
    "# get the image statistics for the Landsat images for each band\n",
    "LS_img_stats = get_agg_img_stats(LS_median_stats_pth, between_df, id_var = 'cluster_id')\n",
    "RS_img_stats = get_agg_img_stats(RS_v2_between_stats_pth, between_df, id_var = 'cluster_id')\n",
    "\n",
    "# extract the relevant statistics for each band (i.e. the mean, std, min, max) and get them as a list\n",
    "LS_feat_stats = get_feat_stats(LS_img_stats) \n",
    "RS_feat_stats = get_feat_stats(RS_img_stats)\n",
    "\n",
    "# For the RS feat stats, alter the mean and std of the last two channels (WSF and ESA LC)\n",
    "# For these two channels normalisation does not introduce any advantage or yields meaningless numbers\n",
    "# Thus just set mean and std for both channels to 0 and 1 (which effectively avoids normalisation)\n",
    "RS_feat_stats['mean'][-2:] = [0,0]\n",
    "RS_feat_stats['std'][-2:] = [1,1]\n",
    "\n",
    "# get the stats for the target variable\n",
    "between_target_stats = get_target_stats(df, between_target_var)"
   ]
  },
  {
   "cell_type": "code",
   "execution_count": null,
   "id": "50324eb6",
   "metadata": {},
   "outputs": [],
   "source": [
    "# get the data transforms for the target --> is used in the DataLoader object\n",
    "target_transform = transforms.Compose([\n",
    "        torchvision.transforms.Lambda(lambda t: standardise(t, between_target_stats['mean'], between_target_stats['std'])),\n",
    "    ])\n",
    "\n",
    "# get the data transform for the Landsat image (normalisation and random horizontal + vertical flips)\n",
    "LS_transforms = torchvision.transforms.Compose(\n",
    "    [torchvision.transforms.RandomVerticalFlip(.5),\n",
    "    torchvision.transforms.RandomHorizontalFlip(.5),\n",
    "    transforms.Normalize(LS_feat_stats['mean'], LS_feat_stats['std'])]\n",
    ")\n",
    "\n",
    "# same for RS:\n",
    "RS_transforms = torchvision.transforms.Compose(\n",
    "    [torchvision.transforms.RandomVerticalFlip(.5),\n",
    "    torchvision.transforms.RandomHorizontalFlip(.5),\n",
    "    transforms.Normalize(RS_feat_stats['mean'], RS_feat_stats['std'])]\n",
    ")"
   ]
  },
  {
   "cell_type": "markdown",
   "id": "f0d3c506",
   "metadata": {},
   "source": [
    "## Run the Landsat model"
   ]
  },
  {
   "cell_type": "code",
   "execution_count": 10,
   "id": "b594c16d",
   "metadata": {},
   "outputs": [],
   "source": [
    "model_name = 'between_cons_LS'\n",
    "cv_object_name = 'between_cons_LS_cv'\n",
    "data_type = 'LS'\n",
    "id_var = 'cluster_id'\n",
    "\n",
    "# set settings for the ResNet\n",
    "input_channels = 6\n",
    "ms = True\n",
    "random_weights = False\n",
    "\n",
    "# set hyper-parameters\n",
    "hyper_params = {\n",
    "    'lr': 1e-3,\n",
    "    'batch_size': 128,\n",
    "    'alpha': 0,\n",
    "    'step_size': 1,\n",
    "    'gamma': 0.96,\n",
    "    'n_epochs': n_epochs\n",
    "}\n"
   ]
  },
  {
   "cell_type": "code",
   "execution_count": 11,
   "id": "62ace1d8",
   "metadata": {},
   "outputs": [],
   "source": [
    "# load the data into RAM first\n",
    "# this reduces training times by ~60%...\n",
    "_dat = SatDataset(between_df, LS_median_img_dir, data_type, between_target_var, id_var,\n",
    "                  LS_transforms, target_transform)\n",
    "_loader = DataLoader(_dat, batch_size = hyper_params['batch_size'], shuffle = False)\n",
    "_, _ = next(iter(_loader))"
   ]
  },
  {
   "cell_type": "code",
   "execution_count": 12,
   "id": "75229242",
   "metadata": {},
   "outputs": [
    {
     "data": {
      "application/vnd.jupyter.widget-view+json": {
       "model_id": "7d05791be4794996944fd763f493f20e",
       "version_major": 2,
       "version_minor": 0
      },
      "text/plain": [
       "  0%|          | 0/5 [00:00<?, ?it/s]"
      ]
     },
     "metadata": {},
     "output_type": "display_data"
    },
    {
     "name": "stdout",
     "output_type": "stream",
     "text": [
      "\n",
      "Training on fold 0\n",
      "Initialising training\n"
     ]
    },
    {
     "data": {
      "application/vnd.jupyter.widget-view+json": {
       "model_id": "e2fe113dd8264ecca38ca6e93ce799ea",
       "version_major": 2,
       "version_minor": 0
      },
      "text/plain": [
       "  0%|          | 0/5 [00:00<?, ?it/s]"
      ]
     },
     "metadata": {},
     "output_type": "display_data"
    },
    {
     "name": "stdout",
     "output_type": "stream",
     "text": [
      "\tEPOCH 0 - Train MSE: 3.5425 - Train R2 -2.2749 - Val MSE: 26.2618 - Val R2 -31.3995\n",
      "\tEPOCH 1 - Train MSE: 20.3883 - Train R2 -17.8482 - Val MSE: 66.7920 - Val R2 -81.4021\n",
      "\tEPOCH 2 - Train MSE: 21.7474 - Train R2 -19.1046 - Val MSE: 255.9488 - Val R2 -314.7672\n",
      "\tEPOCH 3 - Train MSE: 6.4311 - Train R2 -4.9452 - Val MSE: 149.4732 - Val R2 -183.4070\n",
      "\tEPOCH 4 - Train MSE: 1.9466 - Train R2 -0.7996 - Val MSE: 11.4001 - Val R2 -13.0644\n",
      "Finished training after 38 seconds\n",
      "Lowest loss on validation set in epoch 4: 11.400091\n",
      "Maximum R2 on validation set in epoch 4: -13.064434\n",
      "Predicting values\n"
     ]
    },
    {
     "data": {
      "application/vnd.jupyter.widget-view+json": {
       "model_id": "2eac0e9c3e954d6598f42be176102302",
       "version_major": 2,
       "version_minor": 0
      },
      "text/plain": [
       "  0%|          | 0/1 [00:00<?, ?it/s]"
      ]
     },
     "metadata": {},
     "output_type": "display_data"
    },
    {
     "name": "stdout",
     "output_type": "stream",
     "text": [
      "\n",
      "Training on fold 1\n",
      "Initialising training\n"
     ]
    },
    {
     "data": {
      "application/vnd.jupyter.widget-view+json": {
       "model_id": "3d1b7b8d2e1a47eda403958bba90a4dc",
       "version_major": 2,
       "version_minor": 0
      },
      "text/plain": [
       "  0%|          | 0/5 [00:00<?, ?it/s]"
      ]
     },
     "metadata": {},
     "output_type": "display_data"
    },
    {
     "name": "stdout",
     "output_type": "stream",
     "text": [
      "\tEPOCH 0 - Train MSE: 3.0672 - Train R2 -1.5969 - Val MSE: 1.8405 - Val R2 -1.5686\n",
      "\tEPOCH 1 - Train MSE: 19.5629 - Train R2 -15.5635 - Val MSE: 25.1064 - Val R2 -34.0398\n",
      "\tEPOCH 2 - Train MSE: 23.0227 - Train R2 -18.4929 - Val MSE: 72.9961 - Val R2 -100.8770\n",
      "\tEPOCH 3 - Train MSE: 26.0182 - Train R2 -21.0290 - Val MSE: 77.1862 - Val R2 -106.7249\n",
      "\tEPOCH 4 - Train MSE: 18.5402 - Train R2 -14.6976 - Val MSE: 101.9160 - Val R2 -141.2391\n",
      "Finished training after 38 seconds\n",
      "Lowest loss on validation set in epoch 0: 1.840458\n",
      "Maximum R2 on validation set in epoch 0: -1.568635\n",
      "Predicting values\n"
     ]
    },
    {
     "data": {
      "application/vnd.jupyter.widget-view+json": {
       "model_id": "d8cf3051485343a982d399844adab0e0",
       "version_major": 2,
       "version_minor": 0
      },
      "text/plain": [
       "  0%|          | 0/1 [00:00<?, ?it/s]"
      ]
     },
     "metadata": {},
     "output_type": "display_data"
    },
    {
     "name": "stdout",
     "output_type": "stream",
     "text": [
      "\n",
      "Training on fold 2\n",
      "Initialising training\n"
     ]
    },
    {
     "data": {
      "application/vnd.jupyter.widget-view+json": {
       "model_id": "ddba5af22ba74cceb0fd249d996bc6e7",
       "version_major": 2,
       "version_minor": 0
      },
      "text/plain": [
       "  0%|          | 0/5 [00:00<?, ?it/s]"
      ]
     },
     "metadata": {},
     "output_type": "display_data"
    },
    {
     "name": "stdout",
     "output_type": "stream",
     "text": [
      "\tEPOCH 0 - Train MSE: 2.0667 - Train R2 -1.3565 - Val MSE: 9.7342 - Val R2 -7.2553\n",
      "\tEPOCH 1 - Train MSE: 33.0528 - Train R2 -36.6879 - Val MSE: 105.0355 - Val R2 -88.0768\n",
      "\tEPOCH 2 - Train MSE: 15.5135 - Train R2 -16.6890 - Val MSE: 13.3542 - Val R2 -10.3252\n",
      "\tEPOCH 3 - Train MSE: 7.0662 - Train R2 -7.0571 - Val MSE: 59.6572 - Val R2 -49.5931\n",
      "\tEPOCH 4 - Train MSE: 4.5963 - Train R2 -4.2408 - Val MSE: 114.8850 - Val R2 -96.4299\n",
      "Finished training after 42 seconds\n",
      "Lowest loss on validation set in epoch 0: 9.734236\n",
      "Maximum R2 on validation set in epoch 0: -7.255258\n",
      "Predicting values\n"
     ]
    },
    {
     "data": {
      "application/vnd.jupyter.widget-view+json": {
       "model_id": "6dec21be30594ad88c86f509ed2bab20",
       "version_major": 2,
       "version_minor": 0
      },
      "text/plain": [
       "  0%|          | 0/1 [00:00<?, ?it/s]"
      ]
     },
     "metadata": {},
     "output_type": "display_data"
    },
    {
     "name": "stdout",
     "output_type": "stream",
     "text": [
      "\n",
      "Training on fold 3\n",
      "Initialising training\n"
     ]
    },
    {
     "data": {
      "application/vnd.jupyter.widget-view+json": {
       "model_id": "2d877de7ef2a4c3ebb7fcdd4818bdd5b",
       "version_major": 2,
       "version_minor": 0
      },
      "text/plain": [
       "  0%|          | 0/5 [00:00<?, ?it/s]"
      ]
     },
     "metadata": {},
     "output_type": "display_data"
    },
    {
     "name": "stdout",
     "output_type": "stream",
     "text": [
      "\tEPOCH 0 - Train MSE: 3.2345 - Train R2 -1.8237 - Val MSE: 11.6959 - Val R2 -9.6652\n",
      "\tEPOCH 1 - Train MSE: 19.1163 - Train R2 -15.6888 - Val MSE: 55.4577 - Val R2 -49.5706\n",
      "\tEPOCH 2 - Train MSE: 19.6745 - Train R2 -16.1761 - Val MSE: 3.9774 - Val R2 -2.6269\n",
      "\tEPOCH 3 - Train MSE: 24.5234 - Train R2 -20.4093 - Val MSE: 7.8060 - Val R2 -6.1181\n",
      "\tEPOCH 4 - Train MSE: 30.3057 - Train R2 -25.4573 - Val MSE: 6.2410 - Val R2 -4.6910\n",
      "Finished training after 42 seconds\n",
      "Lowest loss on validation set in epoch 2: 3.977365\n",
      "Maximum R2 on validation set in epoch 2: -2.626869\n",
      "Predicting values\n"
     ]
    },
    {
     "data": {
      "application/vnd.jupyter.widget-view+json": {
       "model_id": "edc78c66dbd4402b8b534d387d7881d3",
       "version_major": 2,
       "version_minor": 0
      },
      "text/plain": [
       "  0%|          | 0/1 [00:00<?, ?it/s]"
      ]
     },
     "metadata": {},
     "output_type": "display_data"
    },
    {
     "name": "stdout",
     "output_type": "stream",
     "text": [
      "\n",
      "Training on fold 4\n",
      "Initialising training\n"
     ]
    },
    {
     "data": {
      "application/vnd.jupyter.widget-view+json": {
       "model_id": "e27c707399c24a07ae8436ec4a44e3c8",
       "version_major": 2,
       "version_minor": 0
      },
      "text/plain": [
       "  0%|          | 0/5 [00:00<?, ?it/s]"
      ]
     },
     "metadata": {},
     "output_type": "display_data"
    },
    {
     "name": "stdout",
     "output_type": "stream",
     "text": [
      "\tEPOCH 0 - Train MSE: 3.9094 - Train R2 -3.0115 - Val MSE: 2.4478 - Val R2 -2.0514\n",
      "\tEPOCH 1 - Train MSE: 29.4754 - Train R2 -29.2446 - Val MSE: 40.2339 - Val R2 -49.1543\n",
      "\tEPOCH 2 - Train MSE: 15.6601 - Train R2 -15.0688 - Val MSE: 28.8059 - Val R2 -34.9085\n",
      "\tEPOCH 3 - Train MSE: 12.8414 - Train R2 -12.1765 - Val MSE: 85.2654 - Val R2 -105.2894\n",
      "\tEPOCH 4 - Train MSE: 13.4875 - Train R2 -12.8395 - Val MSE: 93.7637 - Val R2 -115.8831\n",
      "Finished training after 55 seconds\n",
      "Lowest loss on validation set in epoch 0: 2.447798\n",
      "Maximum R2 on validation set in epoch 0: -2.051353\n",
      "Predicting values\n"
     ]
    },
    {
     "data": {
      "application/vnd.jupyter.widget-view+json": {
       "model_id": "58d773db57f246eb8c8c71208ed997b9",
       "version_major": 2,
       "version_minor": 0
      },
      "text/plain": [
       "  0%|          | 0/1 [00:00<?, ?it/s]"
      ]
     },
     "metadata": {},
     "output_type": "display_data"
    },
    {
     "name": "stdout",
     "output_type": "stream",
     "text": [
      "Finished Cross-validation after 221 seconds\n"
     ]
    }
   ],
   "source": [
    "# initialise the model and the CrossValidator object\n",
    "ResNet18 = init_resnet(input_channels, ms, random_weights, random_seed = random_seed)\n",
    "ls_cv = CrossValidator(model = ResNet18, \n",
    "                       lsms_df = between_df, \n",
    "                       fold_ids = fold_ids,\n",
    "                       img_dir = LS_median_img_dir, \n",
    "                       data_type = data_type, \n",
    "                       target_var = between_target_var,\n",
    "                       id_var = id_var,\n",
    "                       feat_transform = LS_transforms, \n",
    "                       target_transform = target_transform,\n",
    "                       device = device,\n",
    "                       model_name = model_name,\n",
    "                       random_seed = random_seed)\n",
    "\n",
    "# run k-fold-cv\n",
    "ls_cv.run_cv(hyper_params)\n",
    "\n",
    "# save the cv object\n",
    "ls_cv.save_object(name = cv_object_name)"
   ]
  },
  {
   "cell_type": "code",
   "execution_count": null,
   "id": "1155f1ed",
   "metadata": {},
   "outputs": [],
   "source": [
    "# output the overall performance of the model\n",
    "ls_cv.compute_overall_performance(use_fold_weights = True)"
   ]
  },
  {
   "cell_type": "markdown",
   "id": "31870376",
   "metadata": {},
   "source": [
    "## Run the RS model"
   ]
  },
  {
   "cell_type": "code",
   "execution_count": 13,
   "id": "826659d6",
   "metadata": {},
   "outputs": [],
   "source": [
    "model_name = 'between_cons_RS'\n",
    "cv_object_name = 'between_cons_RS_cv'\n",
    "data_type = 'RS_v2'\n",
    "id_var = 'cluster_id'\n",
    "img_dir = RS_v2_between_img_dir\n",
    "\n",
    "# set settings for the ResNet\n",
    "input_channels = 6\n",
    "ms = False\n",
    "random_weights = True\n",
    "\n",
    "# set hyper-parameters\n",
    "hyper_params = {\n",
    "    'lr': 1e-3,\n",
    "    'batch_size': 128,\n",
    "    'alpha': 0,\n",
    "    'step_size': 1,\n",
    "    'gamma': 0.96,\n",
    "    'n_epochs': n_epochs\n",
    "}"
   ]
  },
  {
   "cell_type": "code",
   "execution_count": 14,
   "id": "4394188d",
   "metadata": {},
   "outputs": [],
   "source": [
    "# load the data into RAM first\n",
    "# this reduces training times by ~60%...\n",
    "_dat = SatDataset(between_df, img_dir, data_type, between_target_var, id_var,\n",
    "                  RS_transforms, target_transform)\n",
    "_loader = DataLoader(_dat, batch_size = hyper_params['batch_size'], shuffle = False)\n",
    "_, _ = next(iter(_loader))"
   ]
  },
  {
   "cell_type": "code",
   "execution_count": 15,
   "id": "1171c885",
   "metadata": {},
   "outputs": [
    {
     "data": {
      "application/vnd.jupyter.widget-view+json": {
       "model_id": "156e92ba33d246c4b18ee3615b152aef",
       "version_major": 2,
       "version_minor": 0
      },
      "text/plain": [
       "  0%|          | 0/5 [00:00<?, ?it/s]"
      ]
     },
     "metadata": {},
     "output_type": "display_data"
    },
    {
     "name": "stdout",
     "output_type": "stream",
     "text": [
      "\n",
      "Training on fold 0\n",
      "Initialising training\n"
     ]
    },
    {
     "data": {
      "application/vnd.jupyter.widget-view+json": {
       "model_id": "6250688ae09e4980af3a3deed40d9aa5",
       "version_major": 2,
       "version_minor": 0
      },
      "text/plain": [
       "  0%|          | 0/5 [00:00<?, ?it/s]"
      ]
     },
     "metadata": {},
     "output_type": "display_data"
    },
    {
     "name": "stdout",
     "output_type": "stream",
     "text": [
      "\tEPOCH 0 - Train MSE: 2.0872 - Train R2 -0.9295 - Val MSE: 861281.3750 - Val R2 -1062572.5152\n",
      "\tEPOCH 1 - Train MSE: 185.5162 - Train R2 -170.5021 - Val MSE: 28484.6133 - Val R2 -35140.8213\n",
      "\tEPOCH 2 - Train MSE: 11.9891 - Train R2 -10.0834 - Val MSE: 2590.0142 - Val R2 -3194.3325\n",
      "\tEPOCH 3 - Train MSE: 33.7181 - Train R2 -30.1710 - Val MSE: 5984.0225 - Val R2 -7381.5632\n",
      "\tEPOCH 4 - Train MSE: 15.8119 - Train R2 -13.6174 - Val MSE: 10084.7168 - Val R2 -12440.6410\n",
      "Finished training after 37 seconds\n",
      "Lowest loss on validation set in epoch 2: 2590.014160\n",
      "Maximum R2 on validation set in epoch 2: -3194.332545\n",
      "Predicting values\n"
     ]
    },
    {
     "data": {
      "application/vnd.jupyter.widget-view+json": {
       "model_id": "d9c28365744a45c6909ea2deccb2d259",
       "version_major": 2,
       "version_minor": 0
      },
      "text/plain": [
       "  0%|          | 0/1 [00:00<?, ?it/s]"
      ]
     },
     "metadata": {},
     "output_type": "display_data"
    },
    {
     "name": "stdout",
     "output_type": "stream",
     "text": [
      "\n",
      "Training on fold 1\n",
      "Initialising training\n"
     ]
    },
    {
     "data": {
      "application/vnd.jupyter.widget-view+json": {
       "model_id": "979d850b1a2d4718a2054eb17dca9c68",
       "version_major": 2,
       "version_minor": 0
      },
      "text/plain": [
       "  0%|          | 0/5 [00:00<?, ?it/s]"
      ]
     },
     "metadata": {},
     "output_type": "display_data"
    },
    {
     "name": "stdout",
     "output_type": "stream",
     "text": [
      "\tEPOCH 0 - Train MSE: 2.1962 - Train R2 -0.8595 - Val MSE: 1001271.1250 - Val R2 -1397422.9029\n",
      "\tEPOCH 1 - Train MSE: 159.1958 - Train R2 -133.7879 - Val MSE: 5618.6724 - Val R2 -7840.6998\n",
      "\tEPOCH 2 - Train MSE: 6.2770 - Train R2 -4.3146 - Val MSE: 5525.3223 - Val R2 -7710.4148\n",
      "\tEPOCH 3 - Train MSE: 13.3253 - Train R2 -10.2822 - Val MSE: 10810.8008 - Val R2 -15087.0935\n",
      "\tEPOCH 4 - Train MSE: 7.3294 - Train R2 -5.2057 - Val MSE: 30120.3125 - Val R2 -42036.4089\n",
      "Finished training after 46 seconds\n",
      "Lowest loss on validation set in epoch 2: 5525.322266\n",
      "Maximum R2 on validation set in epoch 2: -7710.414758\n",
      "Predicting values\n"
     ]
    },
    {
     "data": {
      "application/vnd.jupyter.widget-view+json": {
       "model_id": "196c3be5226a4b4eadaf200e90527278",
       "version_major": 2,
       "version_minor": 0
      },
      "text/plain": [
       "  0%|          | 0/1 [00:00<?, ?it/s]"
      ]
     },
     "metadata": {},
     "output_type": "display_data"
    },
    {
     "name": "stdout",
     "output_type": "stream",
     "text": [
      "\n",
      "Training on fold 2\n",
      "Initialising training\n"
     ]
    },
    {
     "data": {
      "application/vnd.jupyter.widget-view+json": {
       "model_id": "056038c34ab144219ee785149458b940",
       "version_major": 2,
       "version_minor": 0
      },
      "text/plain": [
       "  0%|          | 0/5 [00:00<?, ?it/s]"
      ]
     },
     "metadata": {},
     "output_type": "display_data"
    },
    {
     "name": "stdout",
     "output_type": "stream",
     "text": [
      "\tEPOCH 0 - Train MSE: 1.3242 - Train R2 -0.5099 - Val MSE: 288446.9688 - Val R2 -244620.5781\n",
      "\tEPOCH 1 - Train MSE: 140.0170 - Train R2 -158.6520 - Val MSE: 8664.1729 - Val R2 -7346.7755\n",
      "\tEPOCH 2 - Train MSE: 8.8408 - Train R2 -9.0805 - Val MSE: 12650.9209 - Val R2 -10727.7944\n",
      "\tEPOCH 3 - Train MSE: 2.3223 - Train R2 -1.6479 - Val MSE: 463.1288 - Val R2 -391.7630\n",
      "\tEPOCH 4 - Train MSE: 1.2248 - Train R2 -0.3966 - Val MSE: 2065.0098 - Val R2 -1750.2611\n",
      "Finished training after 42 seconds\n",
      "Lowest loss on validation set in epoch 3: 463.128845\n",
      "Maximum R2 on validation set in epoch 3: -391.763032\n",
      "Predicting values\n"
     ]
    },
    {
     "data": {
      "application/vnd.jupyter.widget-view+json": {
       "model_id": "b742af6bc9eb48e3b2e44e06b72d51c3",
       "version_major": 2,
       "version_minor": 0
      },
      "text/plain": [
       "  0%|          | 0/1 [00:00<?, ?it/s]"
      ]
     },
     "metadata": {},
     "output_type": "display_data"
    },
    {
     "name": "stdout",
     "output_type": "stream",
     "text": [
      "\n",
      "Training on fold 3\n",
      "Initialising training\n"
     ]
    },
    {
     "data": {
      "application/vnd.jupyter.widget-view+json": {
       "model_id": "87757876c81141e7b053bf1706274589",
       "version_major": 2,
       "version_minor": 0
      },
      "text/plain": [
       "  0%|          | 0/5 [00:00<?, ?it/s]"
      ]
     },
     "metadata": {},
     "output_type": "display_data"
    },
    {
     "name": "stdout",
     "output_type": "stream",
     "text": [
      "\tEPOCH 0 - Train MSE: 1.7469 - Train R2 -0.5251 - Val MSE: 384275.1875 - Val R2 -350410.9032\n",
      "\tEPOCH 1 - Train MSE: 120.8588 - Train R2 -104.5115 - Val MSE: 1826.5724 - Val R2 -1664.6101\n",
      "\tEPOCH 2 - Train MSE: 8.0744 - Train R2 -6.0491 - Val MSE: 308.1467 - Val R2 -279.9920\n",
      "\tEPOCH 3 - Train MSE: 4.3428 - Train R2 -2.7913 - Val MSE: 257.4507 - Val R2 -233.7635\n",
      "\tEPOCH 4 - Train MSE: 3.0625 - Train R2 -1.6736 - Val MSE: 160.4022 - Val R2 -145.2671\n",
      "Finished training after 37 seconds\n",
      "Lowest loss on validation set in epoch 4: 160.402161\n",
      "Maximum R2 on validation set in epoch 4: -145.267106\n",
      "Predicting values\n"
     ]
    },
    {
     "data": {
      "application/vnd.jupyter.widget-view+json": {
       "model_id": "eeb7e7fb7adb491fba8db31a2c573a7b",
       "version_major": 2,
       "version_minor": 0
      },
      "text/plain": [
       "  0%|          | 0/1 [00:00<?, ?it/s]"
      ]
     },
     "metadata": {},
     "output_type": "display_data"
    },
    {
     "name": "stdout",
     "output_type": "stream",
     "text": [
      "\n",
      "Training on fold 4\n",
      "Initialising training\n"
     ]
    },
    {
     "data": {
      "application/vnd.jupyter.widget-view+json": {
       "model_id": "9892f9690bf74030a200cc33ee786a0e",
       "version_major": 2,
       "version_minor": 0
      },
      "text/plain": [
       "  0%|          | 0/5 [00:00<?, ?it/s]"
      ]
     },
     "metadata": {},
     "output_type": "display_data"
    },
    {
     "name": "stdout",
     "output_type": "stream",
     "text": [
      "\tEPOCH 0 - Train MSE: 2.0445 - Train R2 -1.0978 - Val MSE: 33906.1328 - Val R2 -42265.3842\n",
      "\tEPOCH 1 - Train MSE: 7.2598 - Train R2 -6.4492 - Val MSE: 536711.4375 - Val R2 -669047.6086\n",
      "\tEPOCH 2 - Train MSE: 77.7291 - Train R2 -78.7575 - Val MSE: 49295.2969 - Val R2 -61449.0629\n",
      "\tEPOCH 3 - Train MSE: 2.6644 - Train R2 -1.7339 - Val MSE: 98804.0938 - Val R2 -123165.2612\n",
      "\tEPOCH 4 - Train MSE: 5.9719 - Train R2 -5.1277 - Val MSE: 242780.2969 - Val R2 -302641.7184\n",
      "Finished training after 46 seconds\n",
      "Lowest loss on validation set in epoch 0: 33906.132812\n",
      "Maximum R2 on validation set in epoch 0: -42265.384160\n",
      "Predicting values\n"
     ]
    },
    {
     "data": {
      "application/vnd.jupyter.widget-view+json": {
       "model_id": "13c58f14bc2549bb95eb353dd692f6f6",
       "version_major": 2,
       "version_minor": 0
      },
      "text/plain": [
       "  0%|          | 0/1 [00:00<?, ?it/s]"
      ]
     },
     "metadata": {},
     "output_type": "display_data"
    },
    {
     "name": "stdout",
     "output_type": "stream",
     "text": [
      "Finished Cross-validation after 212 seconds\n"
     ]
    }
   ],
   "source": [
    "# initialise the model and the CrossValidator object\n",
    "ResNet18 = init_resnet(input_channels, ms, random_weights, random_seed = random_seed)\n",
    "rs_cv = CrossValidator(model = ResNet18, \n",
    "                       lsms_df = between_df, \n",
    "                       fold_ids = fold_ids,\n",
    "                       img_dir = img_dir, \n",
    "                       data_type = data_type, \n",
    "                       target_var = between_target_var,\n",
    "                       id_var = id_var,\n",
    "                       feat_transform = RS_transforms, \n",
    "                       target_transform = target_transform,\n",
    "                       device = device,\n",
    "                       model_name = model_name,\n",
    "                       random_seed = random_seed)\n",
    "\n",
    "# run k-fold-cv\n",
    "rs_cv.run_cv(hyper_params)\n",
    "\n",
    "# save the cv object\n",
    "rs_cv.save_object(name = cv_object_name)"
   ]
  },
  {
   "cell_type": "code",
   "execution_count": null,
   "id": "d8431726",
   "metadata": {},
   "outputs": [],
   "source": [
    "# output the overall performance\n",
    "rs_cv.compute_overall_performance(use_fold_weights = True)"
   ]
  },
  {
   "cell_type": "markdown",
   "id": "850dc8d5",
   "metadata": {},
   "source": [
    "# Run the between model"
   ]
  },
  {
   "cell_type": "code",
   "execution_count": 10,
   "id": "35d2e0df",
   "metadata": {},
   "outputs": [],
   "source": [
    "# initialise the Between model\n",
    "ls_cv_pth = \"model_results/between_cons_LS_cv.pkl\"\n",
    "rs_cv_pth = \"model_results/between_cons_RS_cv.pkl\"\n",
    "between_model = BetweenModel(ls_cv_pth, rs_cv_pth, between_df, between_target_var, \n",
    "                             between_x_vars, fold_ids, device, random_seed)"
   ]
  },
  {
   "cell_type": "code",
   "execution_count": 11,
   "id": "f0d19e1b",
   "metadata": {},
   "outputs": [
    {
     "name": "stdout",
     "output_type": "stream",
     "text": [
      "\tExtracting Features\n"
     ]
    },
    {
     "data": {
      "application/vnd.jupyter.widget-view+json": {
       "model_id": "0334608efc75487fa724af50ef05335e",
       "version_major": 2,
       "version_minor": 0
      },
      "text/plain": [
       "  0%|          | 0/1 [00:00<?, ?it/s]"
      ]
     },
     "metadata": {},
     "output_type": "display_data"
    },
    {
     "name": "stdout",
     "output_type": "stream",
     "text": [
      "\tTotal variance explained by first 5 components: 0.6972\n",
      "\tExtracting Features\n"
     ]
    },
    {
     "data": {
      "application/vnd.jupyter.widget-view+json": {
       "model_id": "310fcd046a8b4a6b960228e1d09c7c66",
       "version_major": 2,
       "version_minor": 0
      },
      "text/plain": [
       "  0%|          | 0/1 [00:00<?, ?it/s]"
      ]
     },
     "metadata": {},
     "output_type": "display_data"
    },
    {
     "name": "stdout",
     "output_type": "stream",
     "text": [
      "\tTotal variance explained by first 5 components: 0.9146\n",
      "\tExtracting Features\n"
     ]
    },
    {
     "data": {
      "application/vnd.jupyter.widget-view+json": {
       "model_id": "49f98a0c59c44672a0d53371ecda47fc",
       "version_major": 2,
       "version_minor": 0
      },
      "text/plain": [
       "  0%|          | 0/1 [00:00<?, ?it/s]"
      ]
     },
     "metadata": {},
     "output_type": "display_data"
    },
    {
     "name": "stdout",
     "output_type": "stream",
     "text": [
      "\tTotal variance explained by first 5 components: 0.9986\n",
      "\tExtracting Features\n"
     ]
    },
    {
     "data": {
      "application/vnd.jupyter.widget-view+json": {
       "model_id": "50fc675c4b254448b59d972517ee7c06",
       "version_major": 2,
       "version_minor": 0
      },
      "text/plain": [
       "  0%|          | 0/1 [00:00<?, ?it/s]"
      ]
     },
     "metadata": {},
     "output_type": "display_data"
    },
    {
     "name": "stdout",
     "output_type": "stream",
     "text": [
      "\tTotal variance explained by first 5 components: 0.9998\n",
      "Sat feat shape: (28, 10)\n",
      "Index(['school_dist', 'restaurant_dist', 'cafe_dist', 'fuel_dist',\n",
      "       'marketplace_dist', 'hospital_dist', 'pharmacy_dist', 'bar_dist',\n",
      "       'clinic_dist', 'university_dist', 'library_dist', 'restaurant_count',\n",
      "       'bar_count', 'cafe_count', 'marketplace_count', 'school_count',\n",
      "       'university_count', 'library_count', 'fuel_count', 'pharmacy_count',\n",
      "       'hospital_count', 'clinic_count', 'avg_precipitation', 'cluster_id'],\n",
      "      dtype='object')\n"
     ]
    }
   ],
   "source": [
    "between_model.train_between_model()"
   ]
  }
 ],
 "metadata": {
  "kernelspec": {
   "display_name": "Python 3 (ipykernel)",
   "language": "python",
   "name": "python3"
  },
  "language_info": {
   "codemirror_mode": {
    "name": "ipython",
    "version": 3
   },
   "file_extension": ".py",
   "mimetype": "text/x-python",
   "name": "python",
   "nbconvert_exporter": "python",
   "pygments_lexer": "ipython3",
   "version": "3.10.12"
  }
 },
 "nbformat": 4,
 "nbformat_minor": 5
}
