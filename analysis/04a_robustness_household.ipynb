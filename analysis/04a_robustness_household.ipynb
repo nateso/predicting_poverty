{
 "cells": [
  {
   "cell_type": "markdown",
   "id": "2c7d5c03",
   "metadata": {},
   "source": [
    "Overall the temporal model does not explain any of the temporal variance in the data. There are two potential explanations for this failure. First, the observed temporal variation in the labels originates from misreporting in the surveys and not from actual variation in the wealth indicators. In general survey data on consumption expenditure is quite noisy as it involves recalling what a housheold consumed in a given time period prior to the survey date. Thus, parts of the temporal variation in the data might actually originate from misreporting rather than from actual variation in the wealth indicator. If the ratio of variation due to noise in survey answers to actual variation in the wealth indicator is too large, any model will have a hard time learning meaningful mappings between the features and the target variables. Unfortunately, there is no direct way to estimate this ratio. However, I study different channels that affect noise in the training data. \n",
    "\n",
    "First: the level of analysis is the cluster level and the target variables are the average response of all households within a cluster. In general, a cluster level average will be more noisy, if it relies on fewer households. Thus, I reduce noise in the target variables by iteratively excluding clusters with fewer than $H_c \\in {1,...,15}$ households. I train a model for each value of $H_c$. \n",
    "\n",
    "Second: time of survey as quality indicator.\n",
    "\n",
    "Another source of noise that might affect the performance of models is introduced by jittered geoloactions. I recenter geolocations using the four-step procedure described in section .... Arguably, clusters that are recentered in the first round of the procedure are geographically closer to their true location. Thus, I study whether it makes a difference if clusters are recentered in either of the four steps, by excluding clusters that are recentered in any of the subsequent iterations. \n",
    "\n",
    "\n",
    "\n",
    "However, here I empirically assess \n",
    "\n",
    "\n",
    "\n",
    "a statistical argument can be made to study this: the level of analysis is the cluster level and the more households to "
   ]
  },
  {
   "cell_type": "code",
   "execution_count": 12,
   "id": "e612952e",
   "metadata": {},
   "outputs": [],
   "source": [
    "import matplotlib\n",
    "import matplotlib.pyplot as plt\n",
    "import pandas as pd\n",
    "import numpy as np\n",
    "import pickle\n",
    "\n",
    "from sklearn.metrics import r2_score\n",
    "from sklearn.metrics import mean_squared_error"
   ]
  },
  {
   "cell_type": "code",
   "execution_count": 13,
   "id": "0edc1e03",
   "metadata": {},
   "outputs": [],
   "source": [
    "# set the font size for matplotlib and the font family.\n",
    "font = {'family' : 'sans-serif',\n",
    "        'weight' : 'normal',\n",
    "        'size'   : 16}\n",
    "\n",
    "matplotlib.rc('font', **font)"
   ]
  },
  {
   "cell_type": "code",
   "execution_count": 14,
   "id": "1c63dde6",
   "metadata": {},
   "outputs": [],
   "source": [
    "# load the necessary functions from the analysis package\n",
    "\n",
    "# load the variable names, this allows to access the variables in the feature data in a compact way\n",
    "from analysis_utils.variable_names import *\n",
    "\n",
    "# load flagged ids \n",
    "from analysis_utils.flagged_uids import *\n",
    "\n",
    "# load the functions to do spatial k-fold CV\n",
    "from analysis_utils.spatial_CV import *\n",
    "\n",
    "# load the helper functions\n",
    "from analysis_utils.analysis_helpers import *\n",
    "\n",
    "# load the random forest trainer and cross_validator\n",
    "import analysis_utils.RandomForest as rf\n",
    "\n",
    "# load the combien model\n",
    "from analysis_utils.CombinedModel import CombinedModel"
   ]
  },
  {
   "cell_type": "code",
   "execution_count": 15,
   "id": "33f62ffc",
   "metadata": {},
   "outputs": [],
   "source": [
    "# set the global file paths\n",
    "root_data_dir = \"../../Data\"\n",
    "\n",
    "# the lsms data\n",
    "lsms_pth = f\"{root_data_dir}/lsms/processed/labels_cluster_v1.csv\"\n",
    "\n",
    "# the feature data\n",
    "feat_data_pth = f\"{root_data_dir}/feature_data/tabular_data.csv\"\n",
    "\n",
    "# set the random seed\n",
    "random_seed = 423\n",
    "spatial_cv_random_seed = 348\n",
    "\n",
    "# set the number of folds for k-fold CV\n",
    "n_folds = 5"
   ]
  },
  {
   "cell_type": "code",
   "execution_count": 16,
   "id": "b1c49d17",
   "metadata": {},
   "outputs": [
    {
     "name": "stdout",
     "output_type": "stream",
     "text": [
      "Number of observations 6401\n",
      "Number of clusters 2128\n",
      "Number of x vars 113\n"
     ]
    }
   ],
   "source": [
    "# load the feature and the label data\n",
    "lsms_df = pd.read_csv(lsms_pth)\n",
    "\n",
    "# remove flagged ids form dataset\n",
    "lsms_df = lsms_df[~lsms_df.unique_id.isin(flagged_uids)].reset_index(drop = True)\n",
    "\n",
    "# create average varaibles for the between model\n",
    "lsms_df['avg_log_mean_pc_cons_usd_2017'] = lsms_df.groupby('cluster_id')['log_mean_pc_cons_usd_2017'].transform('mean')\n",
    "lsms_df['avg_mean_asset_index_yeh'] = lsms_df.groupby('cluster_id')['mean_asset_index_yeh'].transform('mean')\n",
    "\n",
    "# load the feature data\n",
    "feat_df = pd.read_csv(feat_data_pth)\n",
    "\n",
    "# describe the training data broadly\n",
    "print(f\"Number of observations {len(lsms_df)}\")\n",
    "print(f\"Number of clusters {len(np.unique(lsms_df.cluster_id))}\")\n",
    "print(f\"Number of x vars {len(feat_df.columns)-2}\")"
   ]
  },
  {
   "cell_type": "code",
   "execution_count": 17,
   "id": "7fa08c66",
   "metadata": {},
   "outputs": [],
   "source": [
    "# merge the label and the feature data to one dataset\n",
    "lsms_vars = ['unique_id','n_households', 'country', 'lat', 'lon',        \n",
    "             'log_mean_pc_cons_usd_2017', 'avg_log_mean_pc_cons_usd_2017',\n",
    "             'mean_asset_index_yeh', 'avg_mean_asset_index_yeh']\n",
    "df = pd.merge(lsms_df[lsms_vars], feat_df, on = 'unique_id', how = 'left')"
   ]
  },
  {
   "cell_type": "code",
   "execution_count": 18,
   "id": "4a858ff0",
   "metadata": {},
   "outputs": [],
   "source": [
    "df = pd.merge(lsms_df, feat_df, on  = ('cluster_id', 'unique_id'), how = 'left')"
   ]
  },
  {
   "cell_type": "code",
   "execution_count": 19,
   "id": "82653966",
   "metadata": {},
   "outputs": [],
   "source": [
    "# define the x variables and the target variable for the between and within models\n",
    "\n",
    "# define the between variables\n",
    "avg_rs_vars = avg_ndvi_vars + avg_ndwi_gao_vars + avg_nl_vars\n",
    "osm_vars = osm_dist_vars + osm_count_vars + osm_road_vars\n",
    "between_x_vars = osm_vars + esa_lc_vars + wsf_vars + avg_rs_vars + avg_preciptiation + median_rgb_vars\n",
    "between_target_var = 'avg_log_mean_pc_cons_usd_2017'\n",
    "\n",
    "# define the within varaibles\n",
    "dyn_rs_vars = dyn_ndvi_vars + dyn_ndwi_gao_vars + dyn_nl_vars\n",
    "within_x_vars = dyn_rs_vars + precipitation + dyn_rgb_vars \n",
    "within_target_var = 'log_mean_pc_cons_usd_2017'"
   ]
  },
  {
   "cell_type": "markdown",
   "id": "bb68be93",
   "metadata": {},
   "source": [
    "# Different number of households\n"
   ]
  },
  {
   "cell_type": "code",
   "execution_count": 20,
   "id": "a20871cc",
   "metadata": {},
   "outputs": [],
   "source": [
    "# define the housheold thresholds\n",
    "n_households = [1,2,3,4,5,6,7,8,9,10,11,12,13,14,15]\n",
    "# n_households = [1,2]\n",
    "\n",
    "# define the between df for this task, inlcuding all necessary variables\n",
    "between_df = df[['cluster_id', between_target_var, 'n_households'] + between_x_vars].drop_duplicates().reset_index(drop = True)\n",
    "\n",
    "# define the within df for this task, including all necessary variables\n",
    "within_df = df[['unique_id', 'cluster_id', within_target_var, 'n_households'] + within_x_vars]"
   ]
  },
  {
   "cell_type": "code",
   "execution_count": 21,
   "id": "6f5d1292",
   "metadata": {},
   "outputs": [
    {
     "name": "stdout",
     "output_type": "stream",
     "text": [
      "Training on at least 1 Households per cluster\n",
      "Fold 0, specified test ratio: 0.2 - Actual test ratio 0.20\n",
      "Fold 1, specified test ratio: 0.2 - Actual test ratio 0.20\n",
      "Fold 2, specified test ratio: 0.2 - Actual test ratio 0.20\n",
      "Fold 3, specified test ratio: 0.2 - Actual test ratio 0.20\n",
      "Fold 4, specified test ratio: 0.2 - Actual test ratio 0.19\n",
      "\n",
      "\tBetween model\n",
      "Initialising training\n"
     ]
    },
    {
     "data": {
      "application/vnd.jupyter.widget-view+json": {
       "model_id": "bba39ef859144f8d86c23ef0e2634b4f",
       "version_major": 2,
       "version_minor": 0
      },
      "text/plain": [
       "  0%|          | 0/5 [00:00<?, ?it/s]"
      ]
     },
     "metadata": {},
     "output_type": "display_data"
    },
    {
     "name": "stdout",
     "output_type": "stream",
     "text": [
      "Finished training after 194 seconds\n",
      "\n",
      "\tWithin Model\n",
      "Initialising training\n"
     ]
    },
    {
     "data": {
      "application/vnd.jupyter.widget-view+json": {
       "model_id": "07e9bcee83ec49beb65326b200866b8d",
       "version_major": 2,
       "version_minor": 0
      },
      "text/plain": [
       "  0%|          | 0/5 [00:00<?, ?it/s]"
      ]
     },
     "metadata": {},
     "output_type": "display_data"
    },
    {
     "name": "stdout",
     "output_type": "stream",
     "text": [
      "Finished training after 598 seconds\n",
      "\t{'overall': 0.36324266792558196, 'between': 0.4376299931936972, 'within': 0.0030278458071185234}\n",
      "Fold 0, specified test ratio: 0.2 - Actual test ratio 0.20\n",
      "Fold 1, specified test ratio: 0.2 - Actual test ratio 0.20\n",
      "Fold 2, specified test ratio: 0.2 - Actual test ratio 0.20\n",
      "Fold 3, specified test ratio: 0.2 - Actual test ratio 0.20\n",
      "Fold 4, specified test ratio: 0.2 - Actual test ratio 0.18\n",
      "\n",
      "\tBetween model\n",
      "Initialising training\n"
     ]
    },
    {
     "data": {
      "application/vnd.jupyter.widget-view+json": {
       "model_id": "2a772a2448a04ff89d132b5abf5d3055",
       "version_major": 2,
       "version_minor": 0
      },
      "text/plain": [
       "  0%|          | 0/5 [00:00<?, ?it/s]"
      ]
     },
     "metadata": {},
     "output_type": "display_data"
    },
    {
     "name": "stdout",
     "output_type": "stream",
     "text": [
      "Finished training after 209 seconds\n",
      "\n",
      "\tWithin Model\n",
      "Initialising training\n"
     ]
    },
    {
     "data": {
      "application/vnd.jupyter.widget-view+json": {
       "model_id": "c0e5c20b3af542a384bb8e31db3cb891",
       "version_major": 2,
       "version_minor": 0
      },
      "text/plain": [
       "  0%|          | 0/5 [00:00<?, ?it/s]"
      ]
     },
     "metadata": {},
     "output_type": "display_data"
    },
    {
     "name": "stdout",
     "output_type": "stream",
     "text": [
      "Finished training after 600 seconds\n",
      "\t{'overall': 0.3889306573609417, 'between': 0.4703964331331696, 'within': 0.0035411680761696872}\n",
      "Fold 0, specified test ratio: 0.2 - Actual test ratio 0.21\n",
      "Fold 1, specified test ratio: 0.2 - Actual test ratio 0.20\n",
      "Fold 2, specified test ratio: 0.2 - Actual test ratio 0.21\n",
      "Fold 3, specified test ratio: 0.2 - Actual test ratio 0.20\n",
      "Fold 4, specified test ratio: 0.2 - Actual test ratio 0.17\n",
      "\n",
      "\tBetween model\n",
      "Initialising training\n"
     ]
    },
    {
     "data": {
      "application/vnd.jupyter.widget-view+json": {
       "model_id": "feb902dc20864d67a179826186aa7c4c",
       "version_major": 2,
       "version_minor": 0
      },
      "text/plain": [
       "  0%|          | 0/5 [00:00<?, ?it/s]"
      ]
     },
     "metadata": {},
     "output_type": "display_data"
    },
    {
     "name": "stdout",
     "output_type": "stream",
     "text": [
      "Finished training after 203 seconds\n",
      "\n",
      "\tWithin Model\n",
      "Initialising training\n"
     ]
    },
    {
     "data": {
      "application/vnd.jupyter.widget-view+json": {
       "model_id": "269e37501c6243289e8f80e81ac96551",
       "version_major": 2,
       "version_minor": 0
      },
      "text/plain": [
       "  0%|          | 0/5 [00:00<?, ?it/s]"
      ]
     },
     "metadata": {},
     "output_type": "display_data"
    },
    {
     "name": "stdout",
     "output_type": "stream",
     "text": [
      "Finished training after 600 seconds\n",
      "\t{'overall': 0.3664469173738566, 'between': 0.4445479405241205, 'within': 0.008381511373385674}\n",
      "Fold 0, specified test ratio: 0.2 - Actual test ratio 0.23\n",
      "Fold 1, specified test ratio: 0.2 - Actual test ratio 0.20\n",
      "Fold 2, specified test ratio: 0.2 - Actual test ratio 0.20\n",
      "Fold 3, specified test ratio: 0.2 - Actual test ratio 0.20\n",
      "Fold 4, specified test ratio: 0.2 - Actual test ratio 0.16\n",
      "\n",
      "\tBetween model\n",
      "Initialising training\n"
     ]
    },
    {
     "data": {
      "application/vnd.jupyter.widget-view+json": {
       "model_id": "b8ce014969b34e1fb38032cc593e10e6",
       "version_major": 2,
       "version_minor": 0
      },
      "text/plain": [
       "  0%|          | 0/5 [00:00<?, ?it/s]"
      ]
     },
     "metadata": {},
     "output_type": "display_data"
    },
    {
     "name": "stdout",
     "output_type": "stream",
     "text": [
      "Finished training after 195 seconds\n",
      "\n",
      "\tWithin Model\n",
      "Initialising training\n"
     ]
    },
    {
     "data": {
      "application/vnd.jupyter.widget-view+json": {
       "model_id": "50c98c2298e042868d77597294d88d86",
       "version_major": 2,
       "version_minor": 0
      },
      "text/plain": [
       "  0%|          | 0/5 [00:00<?, ?it/s]"
      ]
     },
     "metadata": {},
     "output_type": "display_data"
    },
    {
     "name": "stdout",
     "output_type": "stream",
     "text": [
      "Finished training after 607 seconds\n",
      "\t{'overall': 0.37213877723549216, 'between': 0.446518807916031, 'within': -0.0013681127326576226}\n",
      "Fold 0, specified test ratio: 0.2 - Actual test ratio 0.26\n",
      "Fold 1, specified test ratio: 0.2 - Actual test ratio 0.21\n",
      "Fold 2, specified test ratio: 0.2 - Actual test ratio 0.20\n",
      "Fold 3, specified test ratio: 0.2 - Actual test ratio 0.20\n",
      "Fold 4, specified test ratio: 0.2 - Actual test ratio 0.13\n",
      "\n",
      "\tBetween model\n",
      "Initialising training\n"
     ]
    },
    {
     "data": {
      "application/vnd.jupyter.widget-view+json": {
       "model_id": "e63ba1f2d29143b09d991b371f942083",
       "version_major": 2,
       "version_minor": 0
      },
      "text/plain": [
       "  0%|          | 0/5 [00:00<?, ?it/s]"
      ]
     },
     "metadata": {},
     "output_type": "display_data"
    },
    {
     "name": "stdout",
     "output_type": "stream",
     "text": [
      "Finished training after 200 seconds\n",
      "\n",
      "\tWithin Model\n",
      "Initialising training\n"
     ]
    },
    {
     "data": {
      "application/vnd.jupyter.widget-view+json": {
       "model_id": "b8d703f702a946d0a1af573cbdfb5287",
       "version_major": 2,
       "version_minor": 0
      },
      "text/plain": [
       "  0%|          | 0/5 [00:00<?, ?it/s]"
      ]
     },
     "metadata": {},
     "output_type": "display_data"
    },
    {
     "name": "stdout",
     "output_type": "stream",
     "text": [
      "Finished training after 603 seconds\n",
      "\t{'overall': 0.3837742139669582, 'between': 0.45952947892174695, 'within': 0.005869271068606352}\n",
      "Fold 0, specified test ratio: 0.2 - Actual test ratio 0.21\n",
      "Fold 1, specified test ratio: 0.2 - Actual test ratio 0.20\n",
      "Fold 2, specified test ratio: 0.2 - Actual test ratio 0.20\n",
      "Fold 3, specified test ratio: 0.2 - Actual test ratio 0.20\n",
      "Fold 4, specified test ratio: 0.2 - Actual test ratio 0.18\n",
      "\n",
      "\tBetween model\n",
      "Initialising training\n"
     ]
    },
    {
     "data": {
      "application/vnd.jupyter.widget-view+json": {
       "model_id": "e973490321d64a1a90962b8997d46132",
       "version_major": 2,
       "version_minor": 0
      },
      "text/plain": [
       "  0%|          | 0/5 [00:00<?, ?it/s]"
      ]
     },
     "metadata": {},
     "output_type": "display_data"
    },
    {
     "name": "stdout",
     "output_type": "stream",
     "text": [
      "Finished training after 205 seconds\n",
      "\n",
      "\tWithin Model\n",
      "Initialising training\n"
     ]
    },
    {
     "data": {
      "application/vnd.jupyter.widget-view+json": {
       "model_id": "a7c2d77a1154437f9add505b35e527ac",
       "version_major": 2,
       "version_minor": 0
      },
      "text/plain": [
       "  0%|          | 0/5 [00:00<?, ?it/s]"
      ]
     },
     "metadata": {},
     "output_type": "display_data"
    },
    {
     "name": "stdout",
     "output_type": "stream",
     "text": [
      "Finished training after 605 seconds\n",
      "\t{'overall': 0.38706264226824827, 'between': 0.46555049391289977, 'within': 0.007560330768327938}\n",
      "Fold 0, specified test ratio: 0.2 - Actual test ratio 0.25\n",
      "Fold 1, specified test ratio: 0.2 - Actual test ratio 0.20\n",
      "Fold 2, specified test ratio: 0.2 - Actual test ratio 0.20\n",
      "Fold 3, specified test ratio: 0.2 - Actual test ratio 0.20\n",
      "Fold 4, specified test ratio: 0.2 - Actual test ratio 0.14\n",
      "\n",
      "\tBetween model\n",
      "Initialising training\n"
     ]
    },
    {
     "data": {
      "application/vnd.jupyter.widget-view+json": {
       "model_id": "5fac6ede319e4c82a52a8172632f4691",
       "version_major": 2,
       "version_minor": 0
      },
      "text/plain": [
       "  0%|          | 0/5 [00:00<?, ?it/s]"
      ]
     },
     "metadata": {},
     "output_type": "display_data"
    },
    {
     "name": "stdout",
     "output_type": "stream",
     "text": [
      "Finished training after 193 seconds\n",
      "\n",
      "\tWithin Model\n",
      "Initialising training\n"
     ]
    },
    {
     "data": {
      "application/vnd.jupyter.widget-view+json": {
       "model_id": "f9de3a245cdd411f83963821e2b530bf",
       "version_major": 2,
       "version_minor": 0
      },
      "text/plain": [
       "  0%|          | 0/5 [00:00<?, ?it/s]"
      ]
     },
     "metadata": {},
     "output_type": "display_data"
    },
    {
     "name": "stdout",
     "output_type": "stream",
     "text": [
      "Finished training after 606 seconds\n",
      "\t{'overall': 0.3768822099072073, 'between': 0.45352517354555283, 'within': 0.004521356487322614}\n",
      "Fold 0, specified test ratio: 0.2 - Actual test ratio 0.23\n",
      "Fold 1, specified test ratio: 0.2 - Actual test ratio 0.20\n",
      "Fold 2, specified test ratio: 0.2 - Actual test ratio 0.20\n",
      "Fold 3, specified test ratio: 0.2 - Actual test ratio 0.20\n",
      "Fold 4, specified test ratio: 0.2 - Actual test ratio 0.16\n",
      "\n",
      "\tBetween model\n",
      "Initialising training\n"
     ]
    },
    {
     "data": {
      "application/vnd.jupyter.widget-view+json": {
       "model_id": "4ca813c09c184cc7823a4a0261a4b8ab",
       "version_major": 2,
       "version_minor": 0
      },
      "text/plain": [
       "  0%|          | 0/5 [00:00<?, ?it/s]"
      ]
     },
     "metadata": {},
     "output_type": "display_data"
    },
    {
     "name": "stdout",
     "output_type": "stream",
     "text": [
      "Finished training after 195 seconds\n",
      "\n",
      "\tWithin Model\n",
      "Initialising training\n"
     ]
    },
    {
     "data": {
      "application/vnd.jupyter.widget-view+json": {
       "model_id": "b568988b190e4bd0bf56da421c2f110a",
       "version_major": 2,
       "version_minor": 0
      },
      "text/plain": [
       "  0%|          | 0/5 [00:00<?, ?it/s]"
      ]
     },
     "metadata": {},
     "output_type": "display_data"
    },
    {
     "name": "stdout",
     "output_type": "stream",
     "text": [
      "Finished training after 607 seconds\n",
      "\t{'overall': 0.373094085653181, 'between': 0.45745226116119453, 'within': 0.005627417073247365}\n",
      "Fold 0, specified test ratio: 0.2 - Actual test ratio 0.21\n",
      "Fold 1, specified test ratio: 0.2 - Actual test ratio 0.20\n",
      "Fold 2, specified test ratio: 0.2 - Actual test ratio 0.20\n",
      "Fold 3, specified test ratio: 0.2 - Actual test ratio 0.20\n",
      "Fold 4, specified test ratio: 0.2 - Actual test ratio 0.19\n",
      "\n",
      "\tBetween model\n",
      "Initialising training\n"
     ]
    },
    {
     "data": {
      "application/vnd.jupyter.widget-view+json": {
       "model_id": "d74f4027ea1c40cc9a276cda273e3caa",
       "version_major": 2,
       "version_minor": 0
      },
      "text/plain": [
       "  0%|          | 0/5 [00:00<?, ?it/s]"
      ]
     },
     "metadata": {},
     "output_type": "display_data"
    },
    {
     "name": "stdout",
     "output_type": "stream",
     "text": [
      "Finished training after 196 seconds\n",
      "\n",
      "\tWithin Model\n",
      "Initialising training\n"
     ]
    },
    {
     "data": {
      "application/vnd.jupyter.widget-view+json": {
       "model_id": "aaff954504aa4cca8d725c8d7abe363a",
       "version_major": 2,
       "version_minor": 0
      },
      "text/plain": [
       "  0%|          | 0/5 [00:00<?, ?it/s]"
      ]
     },
     "metadata": {},
     "output_type": "display_data"
    },
    {
     "name": "stdout",
     "output_type": "stream",
     "text": [
      "Finished training after 605 seconds\n",
      "\t{'overall': 0.380512797420122, 'between': 0.4585117111354626, 'within': 0.0073771676701892995}\n",
      "Fold 0, specified test ratio: 0.2 - Actual test ratio 0.21\n",
      "Fold 1, specified test ratio: 0.2 - Actual test ratio 0.20\n",
      "Fold 2, specified test ratio: 0.2 - Actual test ratio 0.20\n",
      "Fold 3, specified test ratio: 0.2 - Actual test ratio 0.20\n",
      "Fold 4, specified test ratio: 0.2 - Actual test ratio 0.18\n",
      "\n",
      "\tBetween model\n",
      "Initialising training\n"
     ]
    },
    {
     "data": {
      "application/vnd.jupyter.widget-view+json": {
       "model_id": "df3300e213484e5abad7e251719fa172",
       "version_major": 2,
       "version_minor": 0
      },
      "text/plain": [
       "  0%|          | 0/5 [00:00<?, ?it/s]"
      ]
     },
     "metadata": {},
     "output_type": "display_data"
    },
    {
     "name": "stdout",
     "output_type": "stream",
     "text": [
      "Finished training after 194 seconds\n",
      "\n",
      "\tWithin Model\n",
      "Initialising training\n"
     ]
    },
    {
     "data": {
      "application/vnd.jupyter.widget-view+json": {
       "model_id": "f3d60421ba1a4501917f9a9fbc605bb5",
       "version_major": 2,
       "version_minor": 0
      },
      "text/plain": [
       "  0%|          | 0/5 [00:00<?, ?it/s]"
      ]
     },
     "metadata": {},
     "output_type": "display_data"
    },
    {
     "name": "stdout",
     "output_type": "stream",
     "text": [
      "Finished training after 605 seconds\n",
      "\t{'overall': 0.36350287494112143, 'between': 0.43336286874559204, 'within': 0.0021041530644062556}\n",
      "\n",
      "\n",
      "\n",
      "\n",
      "Training on at least 2 Households per cluster\n",
      "Fold 0, specified test ratio: 0.2 - Actual test ratio 0.21\n",
      "Fold 1, specified test ratio: 0.2 - Actual test ratio 0.21\n",
      "Fold 2, specified test ratio: 0.2 - Actual test ratio 0.20\n",
      "Fold 3, specified test ratio: 0.2 - Actual test ratio 0.20\n",
      "Fold 4, specified test ratio: 0.2 - Actual test ratio 0.18\n",
      "\n",
      "\tBetween model\n",
      "Initialising training\n"
     ]
    },
    {
     "data": {
      "application/vnd.jupyter.widget-view+json": {
       "model_id": "c4ac9738ff3f498c8cf1a6bfb3780e25",
       "version_major": 2,
       "version_minor": 0
      },
      "text/plain": [
       "  0%|          | 0/5 [00:00<?, ?it/s]"
      ]
     },
     "metadata": {},
     "output_type": "display_data"
    },
    {
     "name": "stdout",
     "output_type": "stream",
     "text": [
      "Finished training after 200 seconds\n",
      "\n",
      "\tWithin Model\n",
      "Initialising training\n"
     ]
    },
    {
     "data": {
      "application/vnd.jupyter.widget-view+json": {
       "model_id": "32b759228e2946d49e7fee5584779efe",
       "version_major": 2,
       "version_minor": 0
      },
      "text/plain": [
       "  0%|          | 0/5 [00:00<?, ?it/s]"
      ]
     },
     "metadata": {},
     "output_type": "display_data"
    },
    {
     "name": "stdout",
     "output_type": "stream",
     "text": [
      "Finished training after 585 seconds\n",
      "\t{'overall': 0.3943929742624498, 'between': 0.4722842366090014, 'within': 0.010726723192417542}\n",
      "Fold 0, specified test ratio: 0.2 - Actual test ratio 0.25\n",
      "Fold 1, specified test ratio: 0.2 - Actual test ratio 0.20\n",
      "Fold 2, specified test ratio: 0.2 - Actual test ratio 0.20\n",
      "Fold 3, specified test ratio: 0.2 - Actual test ratio 0.20\n",
      "Fold 4, specified test ratio: 0.2 - Actual test ratio 0.15\n",
      "\n",
      "\tBetween model\n",
      "Initialising training\n"
     ]
    },
    {
     "data": {
      "application/vnd.jupyter.widget-view+json": {
       "model_id": "2cf937f712854e0f89403cad75db24c6",
       "version_major": 2,
       "version_minor": 0
      },
      "text/plain": [
       "  0%|          | 0/5 [00:00<?, ?it/s]"
      ]
     },
     "metadata": {},
     "output_type": "display_data"
    },
    {
     "name": "stdout",
     "output_type": "stream",
     "text": [
      "Finished training after 198 seconds\n",
      "\n",
      "\tWithin Model\n",
      "Initialising training\n"
     ]
    },
    {
     "data": {
      "application/vnd.jupyter.widget-view+json": {
       "model_id": "978caf28497149038e115506fac9114f",
       "version_major": 2,
       "version_minor": 0
      },
      "text/plain": [
       "  0%|          | 0/5 [00:00<?, ?it/s]"
      ]
     },
     "metadata": {},
     "output_type": "display_data"
    },
    {
     "name": "stdout",
     "output_type": "stream",
     "text": [
      "Finished training after 598 seconds\n",
      "\t{'overall': 0.3983473766158096, 'between': 0.4668906788739647, 'within': 0.006485422635790372}\n",
      "Fold 0, specified test ratio: 0.2 - Actual test ratio 0.21\n",
      "Fold 1, specified test ratio: 0.2 - Actual test ratio 0.22\n",
      "Fold 2, specified test ratio: 0.2 - Actual test ratio 0.20\n",
      "Fold 3, specified test ratio: 0.2 - Actual test ratio 0.20\n",
      "Fold 4, specified test ratio: 0.2 - Actual test ratio 0.17\n",
      "\n",
      "\tBetween model\n",
      "Initialising training\n"
     ]
    },
    {
     "data": {
      "application/vnd.jupyter.widget-view+json": {
       "model_id": "da21b2fe0b2d4ed0855a86615ef10b1d",
       "version_major": 2,
       "version_minor": 0
      },
      "text/plain": [
       "  0%|          | 0/5 [00:00<?, ?it/s]"
      ]
     },
     "metadata": {},
     "output_type": "display_data"
    },
    {
     "name": "stdout",
     "output_type": "stream",
     "text": [
      "Finished training after 198 seconds\n",
      "\n",
      "\tWithin Model\n",
      "Initialising training\n"
     ]
    },
    {
     "data": {
      "application/vnd.jupyter.widget-view+json": {
       "model_id": "92fbb1a2bd774426965c7284917141ec",
       "version_major": 2,
       "version_minor": 0
      },
      "text/plain": [
       "  0%|          | 0/5 [00:00<?, ?it/s]"
      ]
     },
     "metadata": {},
     "output_type": "display_data"
    },
    {
     "name": "stdout",
     "output_type": "stream",
     "text": [
      "Finished training after 588 seconds\n",
      "\t{'overall': 0.3912896246287881, 'between': 0.4628638572827495, 'within': 0.007664335626781505}\n",
      "Fold 0, specified test ratio: 0.2 - Actual test ratio 0.23\n",
      "Fold 1, specified test ratio: 0.2 - Actual test ratio 0.21\n",
      "Fold 2, specified test ratio: 0.2 - Actual test ratio 0.20\n",
      "Fold 3, specified test ratio: 0.2 - Actual test ratio 0.20\n",
      "Fold 4, specified test ratio: 0.2 - Actual test ratio 0.15\n",
      "\n",
      "\tBetween model\n",
      "Initialising training\n"
     ]
    },
    {
     "data": {
      "application/vnd.jupyter.widget-view+json": {
       "model_id": "bf69d334414247f4be6578b786e10eb0",
       "version_major": 2,
       "version_minor": 0
      },
      "text/plain": [
       "  0%|          | 0/5 [00:00<?, ?it/s]"
      ]
     },
     "metadata": {},
     "output_type": "display_data"
    },
    {
     "name": "stdout",
     "output_type": "stream",
     "text": [
      "Finished training after 198 seconds\n",
      "\n",
      "\tWithin Model\n",
      "Initialising training\n"
     ]
    },
    {
     "data": {
      "application/vnd.jupyter.widget-view+json": {
       "model_id": "8191d2342f4740b5a370e29ad264e627",
       "version_major": 2,
       "version_minor": 0
      },
      "text/plain": [
       "  0%|          | 0/5 [00:00<?, ?it/s]"
      ]
     },
     "metadata": {},
     "output_type": "display_data"
    },
    {
     "name": "stdout",
     "output_type": "stream",
     "text": [
      "Finished training after 583 seconds\n",
      "\t{'overall': 0.3841199410615471, 'between': 0.4614869242217745, 'within': 0.0030754546915868096}\n",
      "Fold 0, specified test ratio: 0.2 - Actual test ratio 0.24\n",
      "Fold 1, specified test ratio: 0.2 - Actual test ratio 0.21\n",
      "Fold 2, specified test ratio: 0.2 - Actual test ratio 0.20\n",
      "Fold 3, specified test ratio: 0.2 - Actual test ratio 0.20\n",
      "Fold 4, specified test ratio: 0.2 - Actual test ratio 0.15\n",
      "\n",
      "\tBetween model\n",
      "Initialising training\n"
     ]
    },
    {
     "data": {
      "application/vnd.jupyter.widget-view+json": {
       "model_id": "2aea3b0635ef46e389c4ae335ef5e22c",
       "version_major": 2,
       "version_minor": 0
      },
      "text/plain": [
       "  0%|          | 0/5 [00:00<?, ?it/s]"
      ]
     },
     "metadata": {},
     "output_type": "display_data"
    },
    {
     "name": "stdout",
     "output_type": "stream",
     "text": [
      "Finished training after 203 seconds\n",
      "\n",
      "\tWithin Model\n",
      "Initialising training\n"
     ]
    },
    {
     "data": {
      "application/vnd.jupyter.widget-view+json": {
       "model_id": "10f0e24cfbf24975b1a13b6c0257f5a6",
       "version_major": 2,
       "version_minor": 0
      },
      "text/plain": [
       "  0%|          | 0/5 [00:00<?, ?it/s]"
      ]
     },
     "metadata": {},
     "output_type": "display_data"
    },
    {
     "name": "stdout",
     "output_type": "stream",
     "text": [
      "Finished training after 588 seconds\n",
      "\t{'overall': 0.3857698518453625, 'between': 0.4614062393044579, 'within': 0.0020537895798025787}\n",
      "Fold 0, specified test ratio: 0.2 - Actual test ratio 0.26\n",
      "Fold 1, specified test ratio: 0.2 - Actual test ratio 0.20\n",
      "Fold 2, specified test ratio: 0.2 - Actual test ratio 0.20\n",
      "Fold 3, specified test ratio: 0.2 - Actual test ratio 0.20\n",
      "Fold 4, specified test ratio: 0.2 - Actual test ratio 0.13\n",
      "\n",
      "\tBetween model\n",
      "Initialising training\n"
     ]
    },
    {
     "data": {
      "application/vnd.jupyter.widget-view+json": {
       "model_id": "830bfe76479c4df69d1231efb8d2fad5",
       "version_major": 2,
       "version_minor": 0
      },
      "text/plain": [
       "  0%|          | 0/5 [00:00<?, ?it/s]"
      ]
     },
     "metadata": {},
     "output_type": "display_data"
    },
    {
     "name": "stdout",
     "output_type": "stream",
     "text": [
      "Finished training after 199 seconds\n",
      "\n",
      "\tWithin Model\n",
      "Initialising training\n"
     ]
    },
    {
     "data": {
      "application/vnd.jupyter.widget-view+json": {
       "model_id": "5bd627a6064f4d3e828b90c8e411a388",
       "version_major": 2,
       "version_minor": 0
      },
      "text/plain": [
       "  0%|          | 0/5 [00:00<?, ?it/s]"
      ]
     },
     "metadata": {},
     "output_type": "display_data"
    },
    {
     "name": "stdout",
     "output_type": "stream",
     "text": [
      "Finished training after 592 seconds\n",
      "\t{'overall': 0.3825882524927439, 'between': 0.45836790974868247, 'within': 0.004805210892386813}\n",
      "Fold 0, specified test ratio: 0.2 - Actual test ratio 0.20\n",
      "Fold 1, specified test ratio: 0.2 - Actual test ratio 0.22\n",
      "Fold 2, specified test ratio: 0.2 - Actual test ratio 0.20\n",
      "Fold 3, specified test ratio: 0.2 - Actual test ratio 0.20\n",
      "Fold 4, specified test ratio: 0.2 - Actual test ratio 0.18\n",
      "\n",
      "\tBetween model\n",
      "Initialising training\n"
     ]
    },
    {
     "data": {
      "application/vnd.jupyter.widget-view+json": {
       "model_id": "dc695de991614155b69d2c39268e780c",
       "version_major": 2,
       "version_minor": 0
      },
      "text/plain": [
       "  0%|          | 0/5 [00:00<?, ?it/s]"
      ]
     },
     "metadata": {},
     "output_type": "display_data"
    },
    {
     "name": "stdout",
     "output_type": "stream",
     "text": [
      "Finished training after 195 seconds\n",
      "\n",
      "\tWithin Model\n",
      "Initialising training\n"
     ]
    },
    {
     "data": {
      "application/vnd.jupyter.widget-view+json": {
       "model_id": "4625411af7c0480a9b75217e1b1b9cee",
       "version_major": 2,
       "version_minor": 0
      },
      "text/plain": [
       "  0%|          | 0/5 [00:00<?, ?it/s]"
      ]
     },
     "metadata": {},
     "output_type": "display_data"
    },
    {
     "name": "stdout",
     "output_type": "stream",
     "text": [
      "Finished training after 603 seconds\n",
      "\t{'overall': 0.36687964011360746, 'between': 0.4371741646979264, 'within': 0.007272800638521604}\n",
      "Fold 0, specified test ratio: 0.2 - Actual test ratio 0.21\n",
      "Fold 1, specified test ratio: 0.2 - Actual test ratio 0.21\n",
      "Fold 2, specified test ratio: 0.2 - Actual test ratio 0.20\n",
      "Fold 3, specified test ratio: 0.2 - Actual test ratio 0.20\n",
      "Fold 4, specified test ratio: 0.2 - Actual test ratio 0.18\n",
      "\n",
      "\tBetween model\n",
      "Initialising training\n"
     ]
    },
    {
     "data": {
      "application/vnd.jupyter.widget-view+json": {
       "model_id": "96a7ebc3b37f4267a9a5483b64ea8981",
       "version_major": 2,
       "version_minor": 0
      },
      "text/plain": [
       "  0%|          | 0/5 [00:00<?, ?it/s]"
      ]
     },
     "metadata": {},
     "output_type": "display_data"
    },
    {
     "name": "stdout",
     "output_type": "stream",
     "text": [
      "Finished training after 199 seconds\n",
      "\n",
      "\tWithin Model\n",
      "Initialising training\n"
     ]
    },
    {
     "data": {
      "application/vnd.jupyter.widget-view+json": {
       "model_id": "7f007c0d5985429a9870ea697f52c11a",
       "version_major": 2,
       "version_minor": 0
      },
      "text/plain": [
       "  0%|          | 0/5 [00:00<?, ?it/s]"
      ]
     },
     "metadata": {},
     "output_type": "display_data"
    },
    {
     "name": "stdout",
     "output_type": "stream",
     "text": [
      "Finished training after 582 seconds\n",
      "\t{'overall': 0.38227221057541627, 'between': 0.4491097741778988, 'within': 0.0038517294505585166}\n",
      "Fold 0, specified test ratio: 0.2 - Actual test ratio 0.22\n",
      "Fold 1, specified test ratio: 0.2 - Actual test ratio 0.20\n",
      "Fold 2, specified test ratio: 0.2 - Actual test ratio 0.20\n",
      "Fold 3, specified test ratio: 0.2 - Actual test ratio 0.20\n",
      "Fold 4, specified test ratio: 0.2 - Actual test ratio 0.17\n",
      "\n",
      "\tBetween model\n",
      "Initialising training\n"
     ]
    },
    {
     "data": {
      "application/vnd.jupyter.widget-view+json": {
       "model_id": "3c8a87f8431c45aa94b3411fb0008619",
       "version_major": 2,
       "version_minor": 0
      },
      "text/plain": [
       "  0%|          | 0/5 [00:00<?, ?it/s]"
      ]
     },
     "metadata": {},
     "output_type": "display_data"
    },
    {
     "name": "stdout",
     "output_type": "stream",
     "text": [
      "Finished training after 201 seconds\n",
      "\n",
      "\tWithin Model\n",
      "Initialising training\n"
     ]
    },
    {
     "data": {
      "application/vnd.jupyter.widget-view+json": {
       "model_id": "f82d185484204604b32c6ff433b5c6f6",
       "version_major": 2,
       "version_minor": 0
      },
      "text/plain": [
       "  0%|          | 0/5 [00:00<?, ?it/s]"
      ]
     },
     "metadata": {},
     "output_type": "display_data"
    },
    {
     "name": "stdout",
     "output_type": "stream",
     "text": [
      "Finished training after 586 seconds\n",
      "\t{'overall': 0.38876928239004954, 'between': 0.4552522252825212, 'within': 0.00917830359081726}\n",
      "Fold 0, specified test ratio: 0.2 - Actual test ratio 0.21\n",
      "Fold 1, specified test ratio: 0.2 - Actual test ratio 0.20\n",
      "Fold 2, specified test ratio: 0.2 - Actual test ratio 0.20\n",
      "Fold 3, specified test ratio: 0.2 - Actual test ratio 0.20\n",
      "Fold 4, specified test ratio: 0.2 - Actual test ratio 0.18\n",
      "\n",
      "\tBetween model\n",
      "Initialising training\n"
     ]
    },
    {
     "data": {
      "application/vnd.jupyter.widget-view+json": {
       "model_id": "f998adf644c346079329e6691d1a848a",
       "version_major": 2,
       "version_minor": 0
      },
      "text/plain": [
       "  0%|          | 0/5 [00:00<?, ?it/s]"
      ]
     },
     "metadata": {},
     "output_type": "display_data"
    },
    {
     "name": "stdout",
     "output_type": "stream",
     "text": [
      "Finished training after 199 seconds\n",
      "\n",
      "\tWithin Model\n",
      "Initialising training\n"
     ]
    },
    {
     "data": {
      "application/vnd.jupyter.widget-view+json": {
       "model_id": "960f7b4aebcf4849a941d5507600d600",
       "version_major": 2,
       "version_minor": 0
      },
      "text/plain": [
       "  0%|          | 0/5 [00:00<?, ?it/s]"
      ]
     },
     "metadata": {},
     "output_type": "display_data"
    },
    {
     "name": "stdout",
     "output_type": "stream",
     "text": [
      "Finished training after 587 seconds\n",
      "\t{'overall': 0.3910405939904229, 'between': 0.4628220888866177, 'within': 0.005525855035745852}\n",
      "\n",
      "\n",
      "\n",
      "\n",
      "Training on at least 3 Households per cluster\n",
      "Fold 0, specified test ratio: 0.2 - Actual test ratio 0.21\n",
      "Fold 1, specified test ratio: 0.2 - Actual test ratio 0.20\n",
      "Fold 2, specified test ratio: 0.2 - Actual test ratio 0.20\n",
      "Fold 3, specified test ratio: 0.2 - Actual test ratio 0.20\n",
      "Fold 4, specified test ratio: 0.2 - Actual test ratio 0.19\n",
      "\n",
      "\tBetween model\n",
      "Initialising training\n"
     ]
    },
    {
     "data": {
      "application/vnd.jupyter.widget-view+json": {
       "model_id": "7700386c86f04707a8ccd62dbfa3cd6d",
       "version_major": 2,
       "version_minor": 0
      },
      "text/plain": [
       "  0%|          | 0/5 [00:00<?, ?it/s]"
      ]
     },
     "metadata": {},
     "output_type": "display_data"
    },
    {
     "name": "stdout",
     "output_type": "stream",
     "text": [
      "Finished training after 202 seconds\n",
      "\n",
      "\tWithin Model\n",
      "Initialising training\n"
     ]
    },
    {
     "data": {
      "application/vnd.jupyter.widget-view+json": {
       "model_id": "313b7d0ecf944b0fa15582a388d27222",
       "version_major": 2,
       "version_minor": 0
      },
      "text/plain": [
       "  0%|          | 0/5 [00:00<?, ?it/s]"
      ]
     },
     "metadata": {},
     "output_type": "display_data"
    },
    {
     "name": "stdout",
     "output_type": "stream",
     "text": [
      "Finished training after 569 seconds\n",
      "\t{'overall': 0.3928952269243876, 'between': 0.4567784398796171, 'within': 0.01089773542029988}\n",
      "Fold 0, specified test ratio: 0.2 - Actual test ratio 0.23\n",
      "Fold 1, specified test ratio: 0.2 - Actual test ratio 0.21\n",
      "Fold 2, specified test ratio: 0.2 - Actual test ratio 0.20\n",
      "Fold 3, specified test ratio: 0.2 - Actual test ratio 0.20\n",
      "Fold 4, specified test ratio: 0.2 - Actual test ratio 0.16\n",
      "\n",
      "\tBetween model\n",
      "Initialising training\n"
     ]
    },
    {
     "data": {
      "application/vnd.jupyter.widget-view+json": {
       "model_id": "685e6d5514b14b889503eeec87310c57",
       "version_major": 2,
       "version_minor": 0
      },
      "text/plain": [
       "  0%|          | 0/5 [00:00<?, ?it/s]"
      ]
     },
     "metadata": {},
     "output_type": "display_data"
    },
    {
     "name": "stdout",
     "output_type": "stream",
     "text": [
      "Finished training after 192 seconds\n",
      "\n",
      "\tWithin Model\n",
      "Initialising training\n"
     ]
    },
    {
     "data": {
      "application/vnd.jupyter.widget-view+json": {
       "model_id": "14d9412eefe248dd83149f8b2883839c",
       "version_major": 2,
       "version_minor": 0
      },
      "text/plain": [
       "  0%|          | 0/5 [00:00<?, ?it/s]"
      ]
     },
     "metadata": {},
     "output_type": "display_data"
    },
    {
     "name": "stdout",
     "output_type": "stream",
     "text": [
      "Finished training after 578 seconds\n",
      "\t{'overall': 0.42468351735902554, 'between': 0.48716424182230494, 'within': 0.004520114968126987}\n",
      "Fold 0, specified test ratio: 0.2 - Actual test ratio 0.26\n",
      "Fold 1, specified test ratio: 0.2 - Actual test ratio 0.20\n",
      "Fold 2, specified test ratio: 0.2 - Actual test ratio 0.20\n",
      "Fold 3, specified test ratio: 0.2 - Actual test ratio 0.20\n",
      "Fold 4, specified test ratio: 0.2 - Actual test ratio 0.14\n",
      "\n",
      "\tBetween model\n",
      "Initialising training\n"
     ]
    },
    {
     "data": {
      "application/vnd.jupyter.widget-view+json": {
       "model_id": "637cf3b792d048749746eb6c42b3f575",
       "version_major": 2,
       "version_minor": 0
      },
      "text/plain": [
       "  0%|          | 0/5 [00:00<?, ?it/s]"
      ]
     },
     "metadata": {},
     "output_type": "display_data"
    },
    {
     "name": "stdout",
     "output_type": "stream",
     "text": [
      "Finished training after 196 seconds\n",
      "\n",
      "\tWithin Model\n",
      "Initialising training\n"
     ]
    },
    {
     "data": {
      "application/vnd.jupyter.widget-view+json": {
       "model_id": "6a74fed2bc0b4722b07c410a813e0e81",
       "version_major": 2,
       "version_minor": 0
      },
      "text/plain": [
       "  0%|          | 0/5 [00:00<?, ?it/s]"
      ]
     },
     "metadata": {},
     "output_type": "display_data"
    },
    {
     "name": "stdout",
     "output_type": "stream",
     "text": [
      "Finished training after 570 seconds\n",
      "\t{'overall': 0.39182733639412454, 'between': 0.46656274766593103, 'within': 0.0036328660808343516}\n",
      "Fold 0, specified test ratio: 0.2 - Actual test ratio 0.20\n",
      "Fold 1, specified test ratio: 0.2 - Actual test ratio 0.21\n",
      "Fold 2, specified test ratio: 0.2 - Actual test ratio 0.20\n",
      "Fold 3, specified test ratio: 0.2 - Actual test ratio 0.20\n",
      "Fold 4, specified test ratio: 0.2 - Actual test ratio 0.19\n",
      "\n",
      "\tBetween model\n",
      "Initialising training\n"
     ]
    },
    {
     "data": {
      "application/vnd.jupyter.widget-view+json": {
       "model_id": "e3ba35f990c743e7998e9cd1047b1bb2",
       "version_major": 2,
       "version_minor": 0
      },
      "text/plain": [
       "  0%|          | 0/5 [00:00<?, ?it/s]"
      ]
     },
     "metadata": {},
     "output_type": "display_data"
    },
    {
     "name": "stdout",
     "output_type": "stream",
     "text": [
      "Finished training after 198 seconds\n",
      "\n",
      "\tWithin Model\n",
      "Initialising training\n"
     ]
    },
    {
     "data": {
      "application/vnd.jupyter.widget-view+json": {
       "model_id": "0b4934ed6ddc416ebd0bbd00e080d36c",
       "version_major": 2,
       "version_minor": 0
      },
      "text/plain": [
       "  0%|          | 0/5 [00:00<?, ?it/s]"
      ]
     },
     "metadata": {},
     "output_type": "display_data"
    },
    {
     "name": "stdout",
     "output_type": "stream",
     "text": [
      "Finished training after 575 seconds\n",
      "\t{'overall': 0.42195379960533935, 'between': 0.4905006056162704, 'within': 0.009851360851043966}\n",
      "Fold 0, specified test ratio: 0.2 - Actual test ratio 0.21\n",
      "Fold 1, specified test ratio: 0.2 - Actual test ratio 0.20\n",
      "Fold 2, specified test ratio: 0.2 - Actual test ratio 0.20\n",
      "Fold 3, specified test ratio: 0.2 - Actual test ratio 0.20\n",
      "Fold 4, specified test ratio: 0.2 - Actual test ratio 0.18\n",
      "\n",
      "\tBetween model\n",
      "Initialising training\n"
     ]
    },
    {
     "data": {
      "application/vnd.jupyter.widget-view+json": {
       "model_id": "03a35ce382b7435d871eb97a2dc9202d",
       "version_major": 2,
       "version_minor": 0
      },
      "text/plain": [
       "  0%|          | 0/5 [00:00<?, ?it/s]"
      ]
     },
     "metadata": {},
     "output_type": "display_data"
    },
    {
     "name": "stdout",
     "output_type": "stream",
     "text": [
      "Finished training after 198 seconds\n",
      "\n",
      "\tWithin Model\n",
      "Initialising training\n"
     ]
    },
    {
     "data": {
      "application/vnd.jupyter.widget-view+json": {
       "model_id": "c66812c93b8745f18306fb416ae09699",
       "version_major": 2,
       "version_minor": 0
      },
      "text/plain": [
       "  0%|          | 0/5 [00:00<?, ?it/s]"
      ]
     },
     "metadata": {},
     "output_type": "display_data"
    },
    {
     "name": "stdout",
     "output_type": "stream",
     "text": [
      "Finished training after 569 seconds\n",
      "\t{'overall': 0.37272433371192615, 'between': 0.4322243432635386, 'within': 0.007852852025753965}\n",
      "Fold 0, specified test ratio: 0.2 - Actual test ratio 0.21\n",
      "Fold 1, specified test ratio: 0.2 - Actual test ratio 0.20\n",
      "Fold 2, specified test ratio: 0.2 - Actual test ratio 0.20\n",
      "Fold 3, specified test ratio: 0.2 - Actual test ratio 0.20\n",
      "Fold 4, specified test ratio: 0.2 - Actual test ratio 0.18\n",
      "\n",
      "\tBetween model\n",
      "Initialising training\n"
     ]
    },
    {
     "data": {
      "application/vnd.jupyter.widget-view+json": {
       "model_id": "0329363e56f54befa515d024b5350fbe",
       "version_major": 2,
       "version_minor": 0
      },
      "text/plain": [
       "  0%|          | 0/5 [00:00<?, ?it/s]"
      ]
     },
     "metadata": {},
     "output_type": "display_data"
    },
    {
     "name": "stdout",
     "output_type": "stream",
     "text": [
      "Finished training after 202 seconds\n",
      "\n",
      "\tWithin Model\n",
      "Initialising training\n"
     ]
    },
    {
     "data": {
      "application/vnd.jupyter.widget-view+json": {
       "model_id": "4bbea317e92d4b989223aef95046704a",
       "version_major": 2,
       "version_minor": 0
      },
      "text/plain": [
       "  0%|          | 0/5 [00:00<?, ?it/s]"
      ]
     },
     "metadata": {},
     "output_type": "display_data"
    },
    {
     "name": "stdout",
     "output_type": "stream",
     "text": [
      "Finished training after 576 seconds\n",
      "\t{'overall': 0.39311804160884845, 'between': 0.4722485830755202, 'within': 0.01093578248965601}\n",
      "Fold 0, specified test ratio: 0.2 - Actual test ratio 0.23\n",
      "Fold 1, specified test ratio: 0.2 - Actual test ratio 0.20\n",
      "Fold 2, specified test ratio: 0.2 - Actual test ratio 0.20\n",
      "Fold 3, specified test ratio: 0.2 - Actual test ratio 0.20\n",
      "Fold 4, specified test ratio: 0.2 - Actual test ratio 0.17\n",
      "\n",
      "\tBetween model\n",
      "Initialising training\n"
     ]
    },
    {
     "data": {
      "application/vnd.jupyter.widget-view+json": {
       "model_id": "d6af95cbc4a240aba73798ee7ac277f9",
       "version_major": 2,
       "version_minor": 0
      },
      "text/plain": [
       "  0%|          | 0/5 [00:00<?, ?it/s]"
      ]
     },
     "metadata": {},
     "output_type": "display_data"
    },
    {
     "name": "stdout",
     "output_type": "stream",
     "text": [
      "Finished training after 200 seconds\n",
      "\n",
      "\tWithin Model\n",
      "Initialising training\n"
     ]
    },
    {
     "data": {
      "application/vnd.jupyter.widget-view+json": {
       "model_id": "94a127f323c349129dc74e21ced47983",
       "version_major": 2,
       "version_minor": 0
      },
      "text/plain": [
       "  0%|          | 0/5 [00:00<?, ?it/s]"
      ]
     },
     "metadata": {},
     "output_type": "display_data"
    },
    {
     "name": "stdout",
     "output_type": "stream",
     "text": [
      "Finished training after 570 seconds\n",
      "\t{'overall': 0.39558527966816115, 'between': 0.4670189066742219, 'within': 0.0063513482440620715}\n",
      "Fold 0, specified test ratio: 0.2 - Actual test ratio 0.23\n",
      "Fold 1, specified test ratio: 0.2 - Actual test ratio 0.20\n",
      "Fold 2, specified test ratio: 0.2 - Actual test ratio 0.20\n",
      "Fold 3, specified test ratio: 0.2 - Actual test ratio 0.20\n",
      "Fold 4, specified test ratio: 0.2 - Actual test ratio 0.16\n",
      "\n",
      "\tBetween model\n",
      "Initialising training\n"
     ]
    },
    {
     "data": {
      "application/vnd.jupyter.widget-view+json": {
       "model_id": "2dc0f390a0fa43ba8a7548c6d77503cb",
       "version_major": 2,
       "version_minor": 0
      },
      "text/plain": [
       "  0%|          | 0/5 [00:00<?, ?it/s]"
      ]
     },
     "metadata": {},
     "output_type": "display_data"
    },
    {
     "name": "stdout",
     "output_type": "stream",
     "text": [
      "Finished training after 192 seconds\n",
      "\n",
      "\tWithin Model\n",
      "Initialising training\n"
     ]
    },
    {
     "data": {
      "application/vnd.jupyter.widget-view+json": {
       "model_id": "484c519bb9394f75a2543074729526dc",
       "version_major": 2,
       "version_minor": 0
      },
      "text/plain": [
       "  0%|          | 0/5 [00:00<?, ?it/s]"
      ]
     },
     "metadata": {},
     "output_type": "display_data"
    },
    {
     "name": "stdout",
     "output_type": "stream",
     "text": [
      "Finished training after 573 seconds\n",
      "\t{'overall': 0.3667155071946886, 'between': 0.4318294973827224, 'within': 0.0007492357072394151}\n",
      "Fold 0, specified test ratio: 0.2 - Actual test ratio 0.23\n",
      "Fold 1, specified test ratio: 0.2 - Actual test ratio 0.21\n",
      "Fold 2, specified test ratio: 0.2 - Actual test ratio 0.20\n",
      "Fold 3, specified test ratio: 0.2 - Actual test ratio 0.20\n",
      "Fold 4, specified test ratio: 0.2 - Actual test ratio 0.16\n",
      "\n",
      "\tBetween model\n",
      "Initialising training\n"
     ]
    },
    {
     "data": {
      "application/vnd.jupyter.widget-view+json": {
       "model_id": "fb1f7a346ff04360aa28b96d68f79fdc",
       "version_major": 2,
       "version_minor": 0
      },
      "text/plain": [
       "  0%|          | 0/5 [00:00<?, ?it/s]"
      ]
     },
     "metadata": {},
     "output_type": "display_data"
    },
    {
     "name": "stdout",
     "output_type": "stream",
     "text": [
      "Finished training after 201 seconds\n",
      "\n",
      "\tWithin Model\n",
      "Initialising training\n"
     ]
    },
    {
     "data": {
      "application/vnd.jupyter.widget-view+json": {
       "model_id": "264789045da341dd8be5b042c86b0cbf",
       "version_major": 2,
       "version_minor": 0
      },
      "text/plain": [
       "  0%|          | 0/5 [00:00<?, ?it/s]"
      ]
     },
     "metadata": {},
     "output_type": "display_data"
    },
    {
     "name": "stdout",
     "output_type": "stream",
     "text": [
      "Finished training after 576 seconds\n",
      "\t{'overall': 0.41398395562862667, 'between': 0.490126763381268, 'within': 0.004714874575996575}\n",
      "Fold 0, specified test ratio: 0.2 - Actual test ratio 0.21\n",
      "Fold 1, specified test ratio: 0.2 - Actual test ratio 0.21\n",
      "Fold 2, specified test ratio: 0.2 - Actual test ratio 0.20\n",
      "Fold 3, specified test ratio: 0.2 - Actual test ratio 0.20\n",
      "Fold 4, specified test ratio: 0.2 - Actual test ratio 0.18\n",
      "\n",
      "\tBetween model\n",
      "Initialising training\n"
     ]
    },
    {
     "data": {
      "application/vnd.jupyter.widget-view+json": {
       "model_id": "bc14ca08265940d2ba108506bf6c6e07",
       "version_major": 2,
       "version_minor": 0
      },
      "text/plain": [
       "  0%|          | 0/5 [00:00<?, ?it/s]"
      ]
     },
     "metadata": {},
     "output_type": "display_data"
    },
    {
     "name": "stdout",
     "output_type": "stream",
     "text": [
      "Finished training after 198 seconds\n",
      "\n",
      "\tWithin Model\n",
      "Initialising training\n"
     ]
    },
    {
     "data": {
      "application/vnd.jupyter.widget-view+json": {
       "model_id": "e1e76809757545a0951411f121590aed",
       "version_major": 2,
       "version_minor": 0
      },
      "text/plain": [
       "  0%|          | 0/5 [00:00<?, ?it/s]"
      ]
     },
     "metadata": {},
     "output_type": "display_data"
    },
    {
     "name": "stdout",
     "output_type": "stream",
     "text": [
      "Finished training after 574 seconds\n",
      "\t{'overall': 0.3606344266277727, 'between': 0.4302761186403897, 'within': 0.0069977898976370636}\n",
      "\n",
      "\n",
      "\n",
      "\n",
      "Training on at least 4 Households per cluster\n",
      "Fold 0, specified test ratio: 0.2 - Actual test ratio 0.21\n",
      "Fold 1, specified test ratio: 0.2 - Actual test ratio 0.21\n",
      "Fold 2, specified test ratio: 0.2 - Actual test ratio 0.20\n",
      "Fold 3, specified test ratio: 0.2 - Actual test ratio 0.20\n",
      "Fold 4, specified test ratio: 0.2 - Actual test ratio 0.18\n",
      "\n",
      "\tBetween model\n",
      "Initialising training\n"
     ]
    },
    {
     "data": {
      "application/vnd.jupyter.widget-view+json": {
       "model_id": "8b21cee8f6ca4de3bac2c20332675e9d",
       "version_major": 2,
       "version_minor": 0
      },
      "text/plain": [
       "  0%|          | 0/5 [00:00<?, ?it/s]"
      ]
     },
     "metadata": {},
     "output_type": "display_data"
    },
    {
     "name": "stdout",
     "output_type": "stream",
     "text": [
      "Finished training after 195 seconds\n",
      "\n",
      "\tWithin Model\n",
      "Initialising training\n"
     ]
    },
    {
     "data": {
      "application/vnd.jupyter.widget-view+json": {
       "model_id": "a59c374e9ab149889fe93ba7b9043b1e",
       "version_major": 2,
       "version_minor": 0
      },
      "text/plain": [
       "  0%|          | 0/5 [00:00<?, ?it/s]"
      ]
     },
     "metadata": {},
     "output_type": "display_data"
    },
    {
     "name": "stdout",
     "output_type": "stream",
     "text": [
      "Finished training after 538 seconds\n",
      "\t{'overall': 0.3801211596881536, 'between': 0.4462014413827451, 'within': 0.006369348689091914}\n",
      "Fold 0, specified test ratio: 0.2 - Actual test ratio 0.23\n",
      "Fold 1, specified test ratio: 0.2 - Actual test ratio 0.21\n",
      "Fold 2, specified test ratio: 0.2 - Actual test ratio 0.20\n",
      "Fold 3, specified test ratio: 0.2 - Actual test ratio 0.20\n",
      "Fold 4, specified test ratio: 0.2 - Actual test ratio 0.16\n",
      "\n",
      "\tBetween model\n",
      "Initialising training\n"
     ]
    },
    {
     "data": {
      "application/vnd.jupyter.widget-view+json": {
       "model_id": "6a5675ac0cfa4998995d27d0b9ab7272",
       "version_major": 2,
       "version_minor": 0
      },
      "text/plain": [
       "  0%|          | 0/5 [00:00<?, ?it/s]"
      ]
     },
     "metadata": {},
     "output_type": "display_data"
    },
    {
     "name": "stdout",
     "output_type": "stream",
     "text": [
      "Finished training after 194 seconds\n",
      "\n",
      "\tWithin Model\n",
      "Initialising training\n"
     ]
    },
    {
     "data": {
      "application/vnd.jupyter.widget-view+json": {
       "model_id": "27c9fd3daa9a4252a8c177c460176a5b",
       "version_major": 2,
       "version_minor": 0
      },
      "text/plain": [
       "  0%|          | 0/5 [00:00<?, ?it/s]"
      ]
     },
     "metadata": {},
     "output_type": "display_data"
    },
    {
     "name": "stdout",
     "output_type": "stream",
     "text": [
      "Finished training after 537 seconds\n",
      "\t{'overall': 0.40197996615307013, 'between': 0.4733824405626064, 'within': 0.0037682779994708147}\n",
      "Fold 0, specified test ratio: 0.2 - Actual test ratio 0.25\n",
      "Fold 1, specified test ratio: 0.2 - Actual test ratio 0.20\n",
      "Fold 2, specified test ratio: 0.2 - Actual test ratio 0.20\n",
      "Fold 3, specified test ratio: 0.2 - Actual test ratio 0.20\n",
      "Fold 4, specified test ratio: 0.2 - Actual test ratio 0.14\n",
      "\n",
      "\tBetween model\n",
      "Initialising training\n"
     ]
    },
    {
     "data": {
      "application/vnd.jupyter.widget-view+json": {
       "model_id": "153213633a974730ac4e1c466b5fc944",
       "version_major": 2,
       "version_minor": 0
      },
      "text/plain": [
       "  0%|          | 0/5 [00:00<?, ?it/s]"
      ]
     },
     "metadata": {},
     "output_type": "display_data"
    },
    {
     "name": "stdout",
     "output_type": "stream",
     "text": [
      "Finished training after 193 seconds\n",
      "\n",
      "\tWithin Model\n",
      "Initialising training\n"
     ]
    },
    {
     "data": {
      "application/vnd.jupyter.widget-view+json": {
       "model_id": "1b7447e005f446b78fcdb390f83bc098",
       "version_major": 2,
       "version_minor": 0
      },
      "text/plain": [
       "  0%|          | 0/5 [00:00<?, ?it/s]"
      ]
     },
     "metadata": {},
     "output_type": "display_data"
    },
    {
     "name": "stdout",
     "output_type": "stream",
     "text": [
      "Finished training after 544 seconds\n",
      "\t{'overall': 0.40710498222100705, 'between': 0.47250168288006605, 'within': 0.004005144338675537}\n",
      "Fold 0, specified test ratio: 0.2 - Actual test ratio 0.26\n",
      "Fold 1, specified test ratio: 0.2 - Actual test ratio 0.20\n",
      "Fold 2, specified test ratio: 0.2 - Actual test ratio 0.21\n",
      "Fold 3, specified test ratio: 0.2 - Actual test ratio 0.20\n",
      "Fold 4, specified test ratio: 0.2 - Actual test ratio 0.13\n",
      "\n",
      "\tBetween model\n",
      "Initialising training\n"
     ]
    },
    {
     "data": {
      "application/vnd.jupyter.widget-view+json": {
       "model_id": "d90b1aa035cc46d7868043708ef17170",
       "version_major": 2,
       "version_minor": 0
      },
      "text/plain": [
       "  0%|          | 0/5 [00:00<?, ?it/s]"
      ]
     },
     "metadata": {},
     "output_type": "display_data"
    },
    {
     "name": "stdout",
     "output_type": "stream",
     "text": [
      "Finished training after 195 seconds\n",
      "\n",
      "\tWithin Model\n",
      "Initialising training\n"
     ]
    },
    {
     "data": {
      "application/vnd.jupyter.widget-view+json": {
       "model_id": "d18bb333bbed42eab42107b7ba06e17c",
       "version_major": 2,
       "version_minor": 0
      },
      "text/plain": [
       "  0%|          | 0/5 [00:00<?, ?it/s]"
      ]
     },
     "metadata": {},
     "output_type": "display_data"
    },
    {
     "name": "stdout",
     "output_type": "stream",
     "text": [
      "Finished training after 543 seconds\n",
      "\t{'overall': 0.38944506589424555, 'between': 0.45769099355961007, 'within': 0.0028264848247208318}\n",
      "Fold 0, specified test ratio: 0.2 - Actual test ratio 0.21\n",
      "Fold 1, specified test ratio: 0.2 - Actual test ratio 0.20\n",
      "Fold 2, specified test ratio: 0.2 - Actual test ratio 0.20\n",
      "Fold 3, specified test ratio: 0.2 - Actual test ratio 0.20\n",
      "Fold 4, specified test ratio: 0.2 - Actual test ratio 0.19\n",
      "\n",
      "\tBetween model\n",
      "Initialising training\n"
     ]
    },
    {
     "data": {
      "application/vnd.jupyter.widget-view+json": {
       "model_id": "fe2767d9d910487e921d1e4e67f9486e",
       "version_major": 2,
       "version_minor": 0
      },
      "text/plain": [
       "  0%|          | 0/5 [00:00<?, ?it/s]"
      ]
     },
     "metadata": {},
     "output_type": "display_data"
    },
    {
     "name": "stdout",
     "output_type": "stream",
     "text": [
      "Finished training after 199 seconds\n",
      "\n",
      "\tWithin Model\n",
      "Initialising training\n"
     ]
    },
    {
     "data": {
      "application/vnd.jupyter.widget-view+json": {
       "model_id": "43e6a36555f34d11986cf45d8cfd2b05",
       "version_major": 2,
       "version_minor": 0
      },
      "text/plain": [
       "  0%|          | 0/5 [00:00<?, ?it/s]"
      ]
     },
     "metadata": {},
     "output_type": "display_data"
    },
    {
     "name": "stdout",
     "output_type": "stream",
     "text": [
      "Finished training after 537 seconds\n",
      "\t{'overall': 0.37896526053288615, 'between': 0.4463777774346045, 'within': 0.006217986239873153}\n",
      "Fold 0, specified test ratio: 0.2 - Actual test ratio 0.26\n",
      "Fold 1, specified test ratio: 0.2 - Actual test ratio 0.21\n",
      "Fold 2, specified test ratio: 0.2 - Actual test ratio 0.20\n",
      "Fold 3, specified test ratio: 0.2 - Actual test ratio 0.20\n",
      "Fold 4, specified test ratio: 0.2 - Actual test ratio 0.13\n",
      "\n",
      "\tBetween model\n",
      "Initialising training\n"
     ]
    },
    {
     "data": {
      "application/vnd.jupyter.widget-view+json": {
       "model_id": "7b4358cf166b45a495efab82fdefa4d0",
       "version_major": 2,
       "version_minor": 0
      },
      "text/plain": [
       "  0%|          | 0/5 [00:00<?, ?it/s]"
      ]
     },
     "metadata": {},
     "output_type": "display_data"
    },
    {
     "name": "stdout",
     "output_type": "stream",
     "text": [
      "Finished training after 185 seconds\n",
      "\n",
      "\tWithin Model\n",
      "Initialising training\n"
     ]
    },
    {
     "data": {
      "application/vnd.jupyter.widget-view+json": {
       "model_id": "4b2b43ad43e0403eb19c7a895b449c3c",
       "version_major": 2,
       "version_minor": 0
      },
      "text/plain": [
       "  0%|          | 0/5 [00:00<?, ?it/s]"
      ]
     },
     "metadata": {},
     "output_type": "display_data"
    },
    {
     "name": "stdout",
     "output_type": "stream",
     "text": [
      "Finished training after 536 seconds\n",
      "\t{'overall': 0.3882330642011531, 'between': 0.45389510626628604, 'within': 0.0039037792018816963}\n",
      "Fold 0, specified test ratio: 0.2 - Actual test ratio 0.20\n",
      "Fold 1, specified test ratio: 0.2 - Actual test ratio 0.20\n",
      "Fold 2, specified test ratio: 0.2 - Actual test ratio 0.20\n",
      "Fold 3, specified test ratio: 0.2 - Actual test ratio 0.20\n",
      "Fold 4, specified test ratio: 0.2 - Actual test ratio 0.19\n",
      "\n",
      "\tBetween model\n",
      "Initialising training\n"
     ]
    },
    {
     "data": {
      "application/vnd.jupyter.widget-view+json": {
       "model_id": "aa03d6ad880941c593e7659519663a13",
       "version_major": 2,
       "version_minor": 0
      },
      "text/plain": [
       "  0%|          | 0/5 [00:00<?, ?it/s]"
      ]
     },
     "metadata": {},
     "output_type": "display_data"
    },
    {
     "name": "stdout",
     "output_type": "stream",
     "text": [
      "Finished training after 189 seconds\n",
      "\n",
      "\tWithin Model\n",
      "Initialising training\n"
     ]
    },
    {
     "data": {
      "application/vnd.jupyter.widget-view+json": {
       "model_id": "4b06ec7b221249d980c949c8b27ebfc6",
       "version_major": 2,
       "version_minor": 0
      },
      "text/plain": [
       "  0%|          | 0/5 [00:00<?, ?it/s]"
      ]
     },
     "metadata": {},
     "output_type": "display_data"
    },
    {
     "name": "stdout",
     "output_type": "stream",
     "text": [
      "Finished training after 539 seconds\n",
      "\t{'overall': 0.3885903885681948, 'between': 0.46105906517055173, 'within': 0.0026805297789664674}\n",
      "Fold 0, specified test ratio: 0.2 - Actual test ratio 0.23\n",
      "Fold 1, specified test ratio: 0.2 - Actual test ratio 0.20\n",
      "Fold 2, specified test ratio: 0.2 - Actual test ratio 0.20\n",
      "Fold 3, specified test ratio: 0.2 - Actual test ratio 0.20\n",
      "Fold 4, specified test ratio: 0.2 - Actual test ratio 0.17\n",
      "\n",
      "\tBetween model\n",
      "Initialising training\n"
     ]
    },
    {
     "data": {
      "application/vnd.jupyter.widget-view+json": {
       "model_id": "d490d45263984bbb94a9aaf96f8dae8d",
       "version_major": 2,
       "version_minor": 0
      },
      "text/plain": [
       "  0%|          | 0/5 [00:00<?, ?it/s]"
      ]
     },
     "metadata": {},
     "output_type": "display_data"
    },
    {
     "name": "stdout",
     "output_type": "stream",
     "text": [
      "Finished training after 191 seconds\n",
      "\n",
      "\tWithin Model\n",
      "Initialising training\n"
     ]
    },
    {
     "data": {
      "application/vnd.jupyter.widget-view+json": {
       "model_id": "cd04c8f98bc1496cb2ab4f916e596b14",
       "version_major": 2,
       "version_minor": 0
      },
      "text/plain": [
       "  0%|          | 0/5 [00:00<?, ?it/s]"
      ]
     },
     "metadata": {},
     "output_type": "display_data"
    },
    {
     "name": "stdout",
     "output_type": "stream",
     "text": [
      "Finished training after 548 seconds\n",
      "\t{'overall': 0.399822100462696, 'between': 0.4674167621338179, 'within': 0.008693545648993184}\n",
      "Fold 0, specified test ratio: 0.2 - Actual test ratio 0.25\n",
      "Fold 1, specified test ratio: 0.2 - Actual test ratio 0.21\n",
      "Fold 2, specified test ratio: 0.2 - Actual test ratio 0.20\n",
      "Fold 3, specified test ratio: 0.2 - Actual test ratio 0.20\n",
      "Fold 4, specified test ratio: 0.2 - Actual test ratio 0.14\n",
      "\n",
      "\tBetween model\n",
      "Initialising training\n"
     ]
    },
    {
     "data": {
      "application/vnd.jupyter.widget-view+json": {
       "model_id": "5363eccebb7e4bac83eeffb2e960f85d",
       "version_major": 2,
       "version_minor": 0
      },
      "text/plain": [
       "  0%|          | 0/5 [00:00<?, ?it/s]"
      ]
     },
     "metadata": {},
     "output_type": "display_data"
    },
    {
     "name": "stdout",
     "output_type": "stream",
     "text": [
      "Finished training after 207 seconds\n",
      "\n",
      "\tWithin Model\n",
      "Initialising training\n"
     ]
    },
    {
     "data": {
      "application/vnd.jupyter.widget-view+json": {
       "model_id": "dd952693dd8b4be49a6b6fa4af4b7c35",
       "version_major": 2,
       "version_minor": 0
      },
      "text/plain": [
       "  0%|          | 0/5 [00:00<?, ?it/s]"
      ]
     },
     "metadata": {},
     "output_type": "display_data"
    },
    {
     "name": "stdout",
     "output_type": "stream",
     "text": [
      "Finished training after 569 seconds\n",
      "\t{'overall': 0.3914603888629631, 'between': 0.46541031486440443, 'within': 0.003678753582303318}\n",
      "Fold 0, specified test ratio: 0.2 - Actual test ratio 0.20\n",
      "Fold 1, specified test ratio: 0.2 - Actual test ratio 0.20\n",
      "Fold 2, specified test ratio: 0.2 - Actual test ratio 0.21\n",
      "Fold 3, specified test ratio: 0.2 - Actual test ratio 0.20\n",
      "Fold 4, specified test ratio: 0.2 - Actual test ratio 0.19\n",
      "\n",
      "\tBetween model\n",
      "Initialising training\n"
     ]
    },
    {
     "data": {
      "application/vnd.jupyter.widget-view+json": {
       "model_id": "8d4e3b861c864853a86c7f6f3302bee0",
       "version_major": 2,
       "version_minor": 0
      },
      "text/plain": [
       "  0%|          | 0/5 [00:00<?, ?it/s]"
      ]
     },
     "metadata": {},
     "output_type": "display_data"
    },
    {
     "name": "stdout",
     "output_type": "stream",
     "text": [
      "Finished training after 201 seconds\n",
      "\n",
      "\tWithin Model\n",
      "Initialising training\n"
     ]
    },
    {
     "data": {
      "application/vnd.jupyter.widget-view+json": {
       "model_id": "a53fb000245648e28c8b813d715911fc",
       "version_major": 2,
       "version_minor": 0
      },
      "text/plain": [
       "  0%|          | 0/5 [00:00<?, ?it/s]"
      ]
     },
     "metadata": {},
     "output_type": "display_data"
    },
    {
     "ename": "KeyboardInterrupt",
     "evalue": "",
     "output_type": "error",
     "traceback": [
      "\u001b[0;31m---------------------------------------------------------------------------\u001b[0m",
      "\u001b[0;31mKeyboardInterrupt\u001b[0m                         Traceback (most recent call last)",
      "Cell \u001b[0;32mIn[21], line 48\u001b[0m\n\u001b[1;32m     41\u001b[0m \u001b[38;5;28mprint\u001b[39m(\u001b[38;5;124m'\u001b[39m\u001b[38;5;130;01m\\n\u001b[39;00m\u001b[38;5;130;01m\\t\u001b[39;00m\u001b[38;5;124mWithin Model\u001b[39m\u001b[38;5;124m'\u001b[39m)\n\u001b[1;32m     42\u001b[0m within_cv_trainer \u001b[38;5;241m=\u001b[39m rf\u001b[38;5;241m.\u001b[39mCrossValidator(demeaned_df_norm, \n\u001b[1;32m     43\u001b[0m                                       fold_ids, \n\u001b[1;32m     44\u001b[0m                                       within_target_var, \n\u001b[1;32m     45\u001b[0m                                       within_x_vars,\n\u001b[1;32m     46\u001b[0m                                       id_var \u001b[38;5;241m=\u001b[39m \u001b[38;5;124m'\u001b[39m\u001b[38;5;124munique_id\u001b[39m\u001b[38;5;124m'\u001b[39m,\n\u001b[1;32m     47\u001b[0m                                       random_seed \u001b[38;5;241m=\u001b[39m seeed)\n\u001b[0;32m---> 48\u001b[0m \u001b[43mwithin_cv_trainer\u001b[49m\u001b[38;5;241;43m.\u001b[39;49m\u001b[43mrun_cv_training\u001b[49m\u001b[43m(\u001b[49m\u001b[43mmin_samples_leaf\u001b[49m\u001b[43m \u001b[49m\u001b[38;5;241;43m=\u001b[39;49m\u001b[43m \u001b[49m\u001b[38;5;241;43m1\u001b[39;49m\u001b[43m)\u001b[49m\n\u001b[1;32m     49\u001b[0m within_res \u001b[38;5;241m=\u001b[39m within_cv_trainer\u001b[38;5;241m.\u001b[39mcompute_overall_performance()\n\u001b[1;32m     51\u001b[0m \u001b[38;5;66;03m# run the combined model\u001b[39;00m\n",
      "File \u001b[0;32m~/Documents/AngSt/master_thesis/data_analysis/predicting_poverty/analysis/analysis_utils/RandomForest.py:107\u001b[0m, in \u001b[0;36mCrossValidator.run_cv_training\u001b[0;34m(self, min_samples_leaf)\u001b[0m\n\u001b[1;32m    105\u001b[0m     random_seed \u001b[38;5;241m=\u001b[39m \u001b[38;5;28mself\u001b[39m\u001b[38;5;241m.\u001b[39mrandom_seed \u001b[38;5;241m+\u001b[39m fold\n\u001b[1;32m    106\u001b[0m forest_trainer \u001b[38;5;241m=\u001b[39m Trainer(X_train, y_train, X_val, y_val, random_seed)\n\u001b[0;32m--> 107\u001b[0m \u001b[43mforest_trainer\u001b[49m\u001b[38;5;241;43m.\u001b[39;49m\u001b[43mtrain\u001b[49m\u001b[43m(\u001b[49m\u001b[43mmin_samples_leaf\u001b[49m\u001b[38;5;241;43m=\u001b[39;49m\u001b[43mmin_samples_leaf\u001b[49m\u001b[43m)\u001b[49m\n\u001b[1;32m    108\u001b[0m forest_trainer\u001b[38;5;241m.\u001b[39mvalidate()\n\u001b[1;32m    110\u001b[0m \u001b[38;5;66;03m# store the trained model\u001b[39;00m\n",
      "File \u001b[0;32m~/Documents/AngSt/master_thesis/data_analysis/predicting_poverty/analysis/analysis_utils/RandomForest.py:38\u001b[0m, in \u001b[0;36mTrainer.train\u001b[0;34m(self, min_samples_leaf)\u001b[0m\n\u001b[1;32m     35\u001b[0m forest\u001b[38;5;241m.\u001b[39mfit(\u001b[38;5;28mself\u001b[39m\u001b[38;5;241m.\u001b[39mX_train, \u001b[38;5;28mself\u001b[39m\u001b[38;5;241m.\u001b[39my_train)\n\u001b[1;32m     37\u001b[0m \u001b[38;5;66;03m# get the training performance\u001b[39;00m\n\u001b[0;32m---> 38\u001b[0m \u001b[38;5;28mself\u001b[39m\u001b[38;5;241m.\u001b[39my_hat_train \u001b[38;5;241m=\u001b[39m \u001b[43mforest\u001b[49m\u001b[38;5;241;43m.\u001b[39;49m\u001b[43mpredict\u001b[49m\u001b[43m(\u001b[49m\u001b[38;5;28;43mself\u001b[39;49m\u001b[38;5;241;43m.\u001b[39;49m\u001b[43mX_train\u001b[49m\u001b[43m)\u001b[49m\n\u001b[1;32m     39\u001b[0m \u001b[38;5;28mself\u001b[39m\u001b[38;5;241m.\u001b[39mr2[\u001b[38;5;124m'\u001b[39m\u001b[38;5;124mtrain\u001b[39m\u001b[38;5;124m'\u001b[39m] \u001b[38;5;241m=\u001b[39m forest\u001b[38;5;241m.\u001b[39mscore(\u001b[38;5;28mself\u001b[39m\u001b[38;5;241m.\u001b[39mX_train, \u001b[38;5;28mself\u001b[39m\u001b[38;5;241m.\u001b[39my_train)\n\u001b[1;32m     40\u001b[0m \u001b[38;5;28mself\u001b[39m\u001b[38;5;241m.\u001b[39mmse[\u001b[38;5;124m'\u001b[39m\u001b[38;5;124mtrain\u001b[39m\u001b[38;5;124m'\u001b[39m] \u001b[38;5;241m=\u001b[39m mean_squared_error(\u001b[38;5;28mself\u001b[39m\u001b[38;5;241m.\u001b[39my_train, \u001b[38;5;28mself\u001b[39m\u001b[38;5;241m.\u001b[39my_hat_train)\n",
      "File \u001b[0;32m~/anaconda3/envs/torch_env_2/lib/python3.10/site-packages/sklearn/ensemble/_forest.py:994\u001b[0m, in \u001b[0;36mForestRegressor.predict\u001b[0;34m(self, X)\u001b[0m\n\u001b[1;32m    992\u001b[0m \u001b[38;5;66;03m# Parallel loop\u001b[39;00m\n\u001b[1;32m    993\u001b[0m lock \u001b[38;5;241m=\u001b[39m threading\u001b[38;5;241m.\u001b[39mLock()\n\u001b[0;32m--> 994\u001b[0m \u001b[43mParallel\u001b[49m\u001b[43m(\u001b[49m\u001b[43mn_jobs\u001b[49m\u001b[38;5;241;43m=\u001b[39;49m\u001b[43mn_jobs\u001b[49m\u001b[43m,\u001b[49m\u001b[43m \u001b[49m\u001b[43mverbose\u001b[49m\u001b[38;5;241;43m=\u001b[39;49m\u001b[38;5;28;43mself\u001b[39;49m\u001b[38;5;241;43m.\u001b[39;49m\u001b[43mverbose\u001b[49m\u001b[43m,\u001b[49m\u001b[43m \u001b[49m\u001b[43mrequire\u001b[49m\u001b[38;5;241;43m=\u001b[39;49m\u001b[38;5;124;43m\"\u001b[39;49m\u001b[38;5;124;43msharedmem\u001b[39;49m\u001b[38;5;124;43m\"\u001b[39;49m\u001b[43m)\u001b[49m\u001b[43m(\u001b[49m\n\u001b[1;32m    995\u001b[0m \u001b[43m    \u001b[49m\u001b[43mdelayed\u001b[49m\u001b[43m(\u001b[49m\u001b[43m_accumulate_prediction\u001b[49m\u001b[43m)\u001b[49m\u001b[43m(\u001b[49m\u001b[43me\u001b[49m\u001b[38;5;241;43m.\u001b[39;49m\u001b[43mpredict\u001b[49m\u001b[43m,\u001b[49m\u001b[43m \u001b[49m\u001b[43mX\u001b[49m\u001b[43m,\u001b[49m\u001b[43m \u001b[49m\u001b[43m[\u001b[49m\u001b[43my_hat\u001b[49m\u001b[43m]\u001b[49m\u001b[43m,\u001b[49m\u001b[43m \u001b[49m\u001b[43mlock\u001b[49m\u001b[43m)\u001b[49m\n\u001b[1;32m    996\u001b[0m \u001b[43m    \u001b[49m\u001b[38;5;28;43;01mfor\u001b[39;49;00m\u001b[43m \u001b[49m\u001b[43me\u001b[49m\u001b[43m \u001b[49m\u001b[38;5;129;43;01min\u001b[39;49;00m\u001b[43m \u001b[49m\u001b[38;5;28;43mself\u001b[39;49m\u001b[38;5;241;43m.\u001b[39;49m\u001b[43mestimators_\u001b[49m\n\u001b[1;32m    997\u001b[0m \u001b[43m\u001b[49m\u001b[43m)\u001b[49m\n\u001b[1;32m    999\u001b[0m y_hat \u001b[38;5;241m/\u001b[39m\u001b[38;5;241m=\u001b[39m \u001b[38;5;28mlen\u001b[39m(\u001b[38;5;28mself\u001b[39m\u001b[38;5;241m.\u001b[39mestimators_)\n\u001b[1;32m   1001\u001b[0m \u001b[38;5;28;01mreturn\u001b[39;00m y_hat\n",
      "File \u001b[0;32m~/anaconda3/envs/torch_env_2/lib/python3.10/site-packages/sklearn/utils/parallel.py:63\u001b[0m, in \u001b[0;36mParallel.__call__\u001b[0;34m(self, iterable)\u001b[0m\n\u001b[1;32m     58\u001b[0m config \u001b[38;5;241m=\u001b[39m get_config()\n\u001b[1;32m     59\u001b[0m iterable_with_config \u001b[38;5;241m=\u001b[39m (\n\u001b[1;32m     60\u001b[0m     (_with_config(delayed_func, config), args, kwargs)\n\u001b[1;32m     61\u001b[0m     \u001b[38;5;28;01mfor\u001b[39;00m delayed_func, args, kwargs \u001b[38;5;129;01min\u001b[39;00m iterable\n\u001b[1;32m     62\u001b[0m )\n\u001b[0;32m---> 63\u001b[0m \u001b[38;5;28;01mreturn\u001b[39;00m \u001b[38;5;28;43msuper\u001b[39;49m\u001b[43m(\u001b[49m\u001b[43m)\u001b[49m\u001b[38;5;241;43m.\u001b[39;49m\u001b[38;5;21;43m__call__\u001b[39;49m\u001b[43m(\u001b[49m\u001b[43miterable_with_config\u001b[49m\u001b[43m)\u001b[49m\n",
      "File \u001b[0;32m~/anaconda3/envs/torch_env_2/lib/python3.10/site-packages/joblib/parallel.py:1088\u001b[0m, in \u001b[0;36mParallel.__call__\u001b[0;34m(self, iterable)\u001b[0m\n\u001b[1;32m   1085\u001b[0m \u001b[38;5;28;01mif\u001b[39;00m \u001b[38;5;28mself\u001b[39m\u001b[38;5;241m.\u001b[39mdispatch_one_batch(iterator):\n\u001b[1;32m   1086\u001b[0m     \u001b[38;5;28mself\u001b[39m\u001b[38;5;241m.\u001b[39m_iterating \u001b[38;5;241m=\u001b[39m \u001b[38;5;28mself\u001b[39m\u001b[38;5;241m.\u001b[39m_original_iterator \u001b[38;5;129;01mis\u001b[39;00m \u001b[38;5;129;01mnot\u001b[39;00m \u001b[38;5;28;01mNone\u001b[39;00m\n\u001b[0;32m-> 1088\u001b[0m \u001b[38;5;28;01mwhile\u001b[39;00m \u001b[38;5;28;43mself\u001b[39;49m\u001b[38;5;241;43m.\u001b[39;49m\u001b[43mdispatch_one_batch\u001b[49m\u001b[43m(\u001b[49m\u001b[43miterator\u001b[49m\u001b[43m)\u001b[49m:\n\u001b[1;32m   1089\u001b[0m     \u001b[38;5;28;01mpass\u001b[39;00m\n\u001b[1;32m   1091\u001b[0m \u001b[38;5;28;01mif\u001b[39;00m pre_dispatch \u001b[38;5;241m==\u001b[39m \u001b[38;5;124m\"\u001b[39m\u001b[38;5;124mall\u001b[39m\u001b[38;5;124m\"\u001b[39m \u001b[38;5;129;01mor\u001b[39;00m n_jobs \u001b[38;5;241m==\u001b[39m \u001b[38;5;241m1\u001b[39m:\n\u001b[1;32m   1092\u001b[0m     \u001b[38;5;66;03m# The iterable was consumed all at once by the above for loop.\u001b[39;00m\n\u001b[1;32m   1093\u001b[0m     \u001b[38;5;66;03m# No need to wait for async callbacks to trigger to\u001b[39;00m\n\u001b[1;32m   1094\u001b[0m     \u001b[38;5;66;03m# consumption.\u001b[39;00m\n",
      "File \u001b[0;32m~/anaconda3/envs/torch_env_2/lib/python3.10/site-packages/joblib/parallel.py:901\u001b[0m, in \u001b[0;36mParallel.dispatch_one_batch\u001b[0;34m(self, iterator)\u001b[0m\n\u001b[1;32m    899\u001b[0m     \u001b[38;5;28;01mreturn\u001b[39;00m \u001b[38;5;28;01mFalse\u001b[39;00m\n\u001b[1;32m    900\u001b[0m \u001b[38;5;28;01melse\u001b[39;00m:\n\u001b[0;32m--> 901\u001b[0m     \u001b[38;5;28;43mself\u001b[39;49m\u001b[38;5;241;43m.\u001b[39;49m\u001b[43m_dispatch\u001b[49m\u001b[43m(\u001b[49m\u001b[43mtasks\u001b[49m\u001b[43m)\u001b[49m\n\u001b[1;32m    902\u001b[0m     \u001b[38;5;28;01mreturn\u001b[39;00m \u001b[38;5;28;01mTrue\u001b[39;00m\n",
      "File \u001b[0;32m~/anaconda3/envs/torch_env_2/lib/python3.10/site-packages/joblib/parallel.py:819\u001b[0m, in \u001b[0;36mParallel._dispatch\u001b[0;34m(self, batch)\u001b[0m\n\u001b[1;32m    817\u001b[0m \u001b[38;5;28;01mwith\u001b[39;00m \u001b[38;5;28mself\u001b[39m\u001b[38;5;241m.\u001b[39m_lock:\n\u001b[1;32m    818\u001b[0m     job_idx \u001b[38;5;241m=\u001b[39m \u001b[38;5;28mlen\u001b[39m(\u001b[38;5;28mself\u001b[39m\u001b[38;5;241m.\u001b[39m_jobs)\n\u001b[0;32m--> 819\u001b[0m     job \u001b[38;5;241m=\u001b[39m \u001b[38;5;28;43mself\u001b[39;49m\u001b[38;5;241;43m.\u001b[39;49m\u001b[43m_backend\u001b[49m\u001b[38;5;241;43m.\u001b[39;49m\u001b[43mapply_async\u001b[49m\u001b[43m(\u001b[49m\u001b[43mbatch\u001b[49m\u001b[43m,\u001b[49m\u001b[43m \u001b[49m\u001b[43mcallback\u001b[49m\u001b[38;5;241;43m=\u001b[39;49m\u001b[43mcb\u001b[49m\u001b[43m)\u001b[49m\n\u001b[1;32m    820\u001b[0m     \u001b[38;5;66;03m# A job can complete so quickly than its callback is\u001b[39;00m\n\u001b[1;32m    821\u001b[0m     \u001b[38;5;66;03m# called before we get here, causing self._jobs to\u001b[39;00m\n\u001b[1;32m    822\u001b[0m     \u001b[38;5;66;03m# grow. To ensure correct results ordering, .insert is\u001b[39;00m\n\u001b[1;32m    823\u001b[0m     \u001b[38;5;66;03m# used (rather than .append) in the following line\u001b[39;00m\n\u001b[1;32m    824\u001b[0m     \u001b[38;5;28mself\u001b[39m\u001b[38;5;241m.\u001b[39m_jobs\u001b[38;5;241m.\u001b[39minsert(job_idx, job)\n",
      "File \u001b[0;32m~/anaconda3/envs/torch_env_2/lib/python3.10/site-packages/joblib/_parallel_backends.py:208\u001b[0m, in \u001b[0;36mSequentialBackend.apply_async\u001b[0;34m(self, func, callback)\u001b[0m\n\u001b[1;32m    206\u001b[0m \u001b[38;5;28;01mdef\u001b[39;00m \u001b[38;5;21mapply_async\u001b[39m(\u001b[38;5;28mself\u001b[39m, func, callback\u001b[38;5;241m=\u001b[39m\u001b[38;5;28;01mNone\u001b[39;00m):\n\u001b[1;32m    207\u001b[0m \u001b[38;5;250m    \u001b[39m\u001b[38;5;124;03m\"\"\"Schedule a func to be run\"\"\"\u001b[39;00m\n\u001b[0;32m--> 208\u001b[0m     result \u001b[38;5;241m=\u001b[39m \u001b[43mImmediateResult\u001b[49m\u001b[43m(\u001b[49m\u001b[43mfunc\u001b[49m\u001b[43m)\u001b[49m\n\u001b[1;32m    209\u001b[0m     \u001b[38;5;28;01mif\u001b[39;00m callback:\n\u001b[1;32m    210\u001b[0m         callback(result)\n",
      "File \u001b[0;32m~/anaconda3/envs/torch_env_2/lib/python3.10/site-packages/joblib/_parallel_backends.py:597\u001b[0m, in \u001b[0;36mImmediateResult.__init__\u001b[0;34m(self, batch)\u001b[0m\n\u001b[1;32m    594\u001b[0m \u001b[38;5;28;01mdef\u001b[39;00m \u001b[38;5;21m__init__\u001b[39m(\u001b[38;5;28mself\u001b[39m, batch):\n\u001b[1;32m    595\u001b[0m     \u001b[38;5;66;03m# Don't delay the application, to avoid keeping the input\u001b[39;00m\n\u001b[1;32m    596\u001b[0m     \u001b[38;5;66;03m# arguments in memory\u001b[39;00m\n\u001b[0;32m--> 597\u001b[0m     \u001b[38;5;28mself\u001b[39m\u001b[38;5;241m.\u001b[39mresults \u001b[38;5;241m=\u001b[39m \u001b[43mbatch\u001b[49m\u001b[43m(\u001b[49m\u001b[43m)\u001b[49m\n",
      "File \u001b[0;32m~/anaconda3/envs/torch_env_2/lib/python3.10/site-packages/joblib/parallel.py:288\u001b[0m, in \u001b[0;36mBatchedCalls.__call__\u001b[0;34m(self)\u001b[0m\n\u001b[1;32m    284\u001b[0m \u001b[38;5;28;01mdef\u001b[39;00m \u001b[38;5;21m__call__\u001b[39m(\u001b[38;5;28mself\u001b[39m):\n\u001b[1;32m    285\u001b[0m     \u001b[38;5;66;03m# Set the default nested backend to self._backend but do not set the\u001b[39;00m\n\u001b[1;32m    286\u001b[0m     \u001b[38;5;66;03m# change the default number of processes to -1\u001b[39;00m\n\u001b[1;32m    287\u001b[0m     \u001b[38;5;28;01mwith\u001b[39;00m parallel_backend(\u001b[38;5;28mself\u001b[39m\u001b[38;5;241m.\u001b[39m_backend, n_jobs\u001b[38;5;241m=\u001b[39m\u001b[38;5;28mself\u001b[39m\u001b[38;5;241m.\u001b[39m_n_jobs):\n\u001b[0;32m--> 288\u001b[0m         \u001b[38;5;28;01mreturn\u001b[39;00m [func(\u001b[38;5;241m*\u001b[39margs, \u001b[38;5;241m*\u001b[39m\u001b[38;5;241m*\u001b[39mkwargs)\n\u001b[1;32m    289\u001b[0m                 \u001b[38;5;28;01mfor\u001b[39;00m func, args, kwargs \u001b[38;5;129;01min\u001b[39;00m \u001b[38;5;28mself\u001b[39m\u001b[38;5;241m.\u001b[39mitems]\n",
      "File \u001b[0;32m~/anaconda3/envs/torch_env_2/lib/python3.10/site-packages/joblib/parallel.py:288\u001b[0m, in \u001b[0;36m<listcomp>\u001b[0;34m(.0)\u001b[0m\n\u001b[1;32m    284\u001b[0m \u001b[38;5;28;01mdef\u001b[39;00m \u001b[38;5;21m__call__\u001b[39m(\u001b[38;5;28mself\u001b[39m):\n\u001b[1;32m    285\u001b[0m     \u001b[38;5;66;03m# Set the default nested backend to self._backend but do not set the\u001b[39;00m\n\u001b[1;32m    286\u001b[0m     \u001b[38;5;66;03m# change the default number of processes to -1\u001b[39;00m\n\u001b[1;32m    287\u001b[0m     \u001b[38;5;28;01mwith\u001b[39;00m parallel_backend(\u001b[38;5;28mself\u001b[39m\u001b[38;5;241m.\u001b[39m_backend, n_jobs\u001b[38;5;241m=\u001b[39m\u001b[38;5;28mself\u001b[39m\u001b[38;5;241m.\u001b[39m_n_jobs):\n\u001b[0;32m--> 288\u001b[0m         \u001b[38;5;28;01mreturn\u001b[39;00m [\u001b[43mfunc\u001b[49m\u001b[43m(\u001b[49m\u001b[38;5;241;43m*\u001b[39;49m\u001b[43margs\u001b[49m\u001b[43m,\u001b[49m\u001b[43m \u001b[49m\u001b[38;5;241;43m*\u001b[39;49m\u001b[38;5;241;43m*\u001b[39;49m\u001b[43mkwargs\u001b[49m\u001b[43m)\u001b[49m\n\u001b[1;32m    289\u001b[0m                 \u001b[38;5;28;01mfor\u001b[39;00m func, args, kwargs \u001b[38;5;129;01min\u001b[39;00m \u001b[38;5;28mself\u001b[39m\u001b[38;5;241m.\u001b[39mitems]\n",
      "File \u001b[0;32m~/anaconda3/envs/torch_env_2/lib/python3.10/site-packages/sklearn/utils/parallel.py:123\u001b[0m, in \u001b[0;36m_FuncWrapper.__call__\u001b[0;34m(self, *args, **kwargs)\u001b[0m\n\u001b[1;32m    121\u001b[0m     config \u001b[38;5;241m=\u001b[39m {}\n\u001b[1;32m    122\u001b[0m \u001b[38;5;28;01mwith\u001b[39;00m config_context(\u001b[38;5;241m*\u001b[39m\u001b[38;5;241m*\u001b[39mconfig):\n\u001b[0;32m--> 123\u001b[0m     \u001b[38;5;28;01mreturn\u001b[39;00m \u001b[38;5;28;43mself\u001b[39;49m\u001b[38;5;241;43m.\u001b[39;49m\u001b[43mfunction\u001b[49m\u001b[43m(\u001b[49m\u001b[38;5;241;43m*\u001b[39;49m\u001b[43margs\u001b[49m\u001b[43m,\u001b[49m\u001b[43m \u001b[49m\u001b[38;5;241;43m*\u001b[39;49m\u001b[38;5;241;43m*\u001b[39;49m\u001b[43mkwargs\u001b[49m\u001b[43m)\u001b[49m\n",
      "File \u001b[0;32m~/anaconda3/envs/torch_env_2/lib/python3.10/site-packages/sklearn/ensemble/_forest.py:650\u001b[0m, in \u001b[0;36m_accumulate_prediction\u001b[0;34m(predict, X, out, lock)\u001b[0m\n\u001b[1;32m    643\u001b[0m \u001b[38;5;28;01mdef\u001b[39;00m \u001b[38;5;21m_accumulate_prediction\u001b[39m(predict, X, out, lock):\n\u001b[1;32m    644\u001b[0m \u001b[38;5;250m    \u001b[39m\u001b[38;5;124;03m\"\"\"\u001b[39;00m\n\u001b[1;32m    645\u001b[0m \u001b[38;5;124;03m    This is a utility function for joblib's Parallel.\u001b[39;00m\n\u001b[1;32m    646\u001b[0m \n\u001b[1;32m    647\u001b[0m \u001b[38;5;124;03m    It can't go locally in ForestClassifier or ForestRegressor, because joblib\u001b[39;00m\n\u001b[1;32m    648\u001b[0m \u001b[38;5;124;03m    complains that it cannot pickle it when placed there.\u001b[39;00m\n\u001b[1;32m    649\u001b[0m \u001b[38;5;124;03m    \"\"\"\u001b[39;00m\n\u001b[0;32m--> 650\u001b[0m     prediction \u001b[38;5;241m=\u001b[39m \u001b[43mpredict\u001b[49m\u001b[43m(\u001b[49m\u001b[43mX\u001b[49m\u001b[43m,\u001b[49m\u001b[43m \u001b[49m\u001b[43mcheck_input\u001b[49m\u001b[38;5;241;43m=\u001b[39;49m\u001b[38;5;28;43;01mFalse\u001b[39;49;00m\u001b[43m)\u001b[49m\n\u001b[1;32m    651\u001b[0m     \u001b[38;5;28;01mwith\u001b[39;00m lock:\n\u001b[1;32m    652\u001b[0m         \u001b[38;5;28;01mif\u001b[39;00m \u001b[38;5;28mlen\u001b[39m(out) \u001b[38;5;241m==\u001b[39m \u001b[38;5;241m1\u001b[39m:\n",
      "File \u001b[0;32m~/anaconda3/envs/torch_env_2/lib/python3.10/site-packages/sklearn/tree/_classes.py:427\u001b[0m, in \u001b[0;36mBaseDecisionTree.predict\u001b[0;34m(self, X, check_input)\u001b[0m\n\u001b[1;32m    425\u001b[0m check_is_fitted(\u001b[38;5;28mself\u001b[39m)\n\u001b[1;32m    426\u001b[0m X \u001b[38;5;241m=\u001b[39m \u001b[38;5;28mself\u001b[39m\u001b[38;5;241m.\u001b[39m_validate_X_predict(X, check_input)\n\u001b[0;32m--> 427\u001b[0m proba \u001b[38;5;241m=\u001b[39m \u001b[38;5;28;43mself\u001b[39;49m\u001b[38;5;241;43m.\u001b[39;49m\u001b[43mtree_\u001b[49m\u001b[38;5;241;43m.\u001b[39;49m\u001b[43mpredict\u001b[49m\u001b[43m(\u001b[49m\u001b[43mX\u001b[49m\u001b[43m)\u001b[49m\n\u001b[1;32m    428\u001b[0m n_samples \u001b[38;5;241m=\u001b[39m X\u001b[38;5;241m.\u001b[39mshape[\u001b[38;5;241m0\u001b[39m]\n\u001b[1;32m    430\u001b[0m \u001b[38;5;66;03m# Classification\u001b[39;00m\n",
      "\u001b[0;31mKeyboardInterrupt\u001b[0m: "
     ]
    }
   ],
   "source": [
    "# run the training and valdiation\n",
    "\n",
    "combined_r2 = []\n",
    "between_r2 = []\n",
    "within_r2 = []\n",
    "\n",
    "for i in n_households:\n",
    "    print(f\"Training on at least {i} Households per cluster\")\n",
    "    \n",
    "    # subset the datasets to only those observations that meet the condition\n",
    "    between_df_sub = between_df[between_df['n_households'] >= i].reset_index(drop = True)\n",
    "    within_df_sub = within_df[within_df['n_households'] >= i].reset_index(drop = True)\n",
    "    df_sub = df[df['n_households'] >= i].reset_index(drop = True)\n",
    "    \n",
    "    # standardise the datasets\n",
    "    between_df_norm = standardise_df(between_df_sub, exclude_cols = [between_target_var])\n",
    "    demeaned_df_norm = standardise_df(demean_df(within_df_sub), exclude_cols = [within_target_var])\n",
    "    \n",
    "    aux_r2_b = []\n",
    "    aux_r2_w = []\n",
    "    aux_r2_c = []\n",
    "    \n",
    "    # do 10-times repeated CV: \n",
    "    for j in range(10):\n",
    "        seeed = spatial_cv_random_seed + i + j\n",
    "        # split the data into training and validation folds\n",
    "        fold_ids = split_lsms_spatial(df_sub, n_folds = n_folds, random_seed = seeed)\n",
    "\n",
    "        # run the bewtween training\n",
    "        print('\\n\\tBetween model')\n",
    "        between_cv_trainer = rf.CrossValidator(between_df_norm, \n",
    "                                               fold_ids,\n",
    "                                               between_target_var, \n",
    "                                               between_x_vars, \n",
    "                                               id_var = 'cluster_id',\n",
    "                                               random_seed = seeed)\n",
    "        between_cv_trainer.run_cv_training(min_samples_leaf = 1)\n",
    "        between_res = between_cv_trainer.compute_overall_performance()\n",
    "\n",
    "        # run the within training\n",
    "        print('\\n\\tWithin Model')\n",
    "        within_cv_trainer = rf.CrossValidator(demeaned_df_norm, \n",
    "                                              fold_ids, \n",
    "                                              within_target_var, \n",
    "                                              within_x_vars,\n",
    "                                              id_var = 'unique_id',\n",
    "                                              random_seed = seeed)\n",
    "        within_cv_trainer.run_cv_training(min_samples_leaf = 15)\n",
    "        within_res = within_cv_trainer.compute_overall_performance()\n",
    "\n",
    "        # run the combined model\n",
    "        combined_model = CombinedModel(df_sub, between_cv_trainer, within_cv_trainer)\n",
    "        combined_model.evaluate()\n",
    "        combined_res = combined_model.compute_overall_performance()\n",
    "        print(f\"\\t{combined_res['r2']}\")\n",
    "\n",
    "        # store results\n",
    "        aux_r2_b.append(combined_res['r2']['between'])\n",
    "        aux_r2_w.append(combined_res['r2']['within'])\n",
    "        aux_r2_c.append(combined_res['r2']['overall'])\n",
    "    \n",
    "    between_r2.append(aux_r2_b)\n",
    "    within_r2.append(aux_r2_w)\n",
    "    combined_r2.append(aux_r2_c)\n",
    "    \n",
    "    print('\\n\\n\\n')\n"
   ]
  },
  {
   "cell_type": "code",
   "execution_count": null,
   "id": "b7206aed",
   "metadata": {},
   "outputs": [],
   "source": [
    "combined_res"
   ]
  },
  {
   "cell_type": "code",
   "execution_count": null,
   "id": "f5f3f743",
   "metadata": {},
   "outputs": [],
   "source": [
    "results = {\n",
    "    'between_r2': np.array(between_r2),\n",
    "    'within_r2': np.array(within_r2),\n",
    "    'combined_r2': np.array(combined_r2)\n",
    "}\n",
    "\n",
    "# take the average over the repeated CV results\n",
    "agg_results = {k: np.mean(v, axis = 1) for k,v in results.items()}\n",
    "\n",
    "# save the results\n",
    "pth = \"results/robustness/robust_households.pkl\"\n",
    "with open(pth, 'wb') as f:\n",
    "    pickle.dump(results, f)"
   ]
  },
  {
   "cell_type": "code",
   "execution_count": null,
   "id": "64d6ece8",
   "metadata": {},
   "outputs": [],
   "source": [
    "# load the data\n",
    "# save the results\n",
    "pth = \"results/robustness/robust_households.pkl\"\n",
    "with open(pth, 'rb') as f:\n",
    "    results = pickle.load(f)\n",
    "\n",
    "# aggregate results and add standard errors.\n",
    "agg_mean_results = {k: np.mean(v, axis = 1) for k,v in results.items()}\n",
    "agg_95ci_results = {k: 1.96*np.std(v, axis = 1)/np.sqrt(10) for k,v in results.items()}\n",
    "agg_results = {\n",
    "    'mean': agg_mean_results,\n",
    "    'ci': agg_95ci_results\n",
    "}   "
   ]
  },
  {
   "cell_type": "code",
   "execution_count": null,
   "id": "19a17d67",
   "metadata": {},
   "outputs": [],
   "source": [
    "# plot the results\n",
    "plt.figure(figsize = (7,7))\n",
    "plt.plot(list(range(1,16)), agg_results['mean']['between_r2'], label = 'Between $R^2$')\n",
    "plt.plot(list(range(1,16)), agg_results['mean']['within_r2'], label = 'Within $R^2$')\n",
    "plt.plot(list(range(1,16)), agg_results['mean']['combined_r2'], label = 'Overall $R^2$')\n",
    "\n",
    "# add confidence bands\n",
    "plt.fill_between(list(range(1, 16)), agg_results['mean']['between_r2'] - agg_results['ci']['between_r2'], agg_results['mean']['between_r2'] + agg_results['ci']['between_r2'], alpha=0.3, color='blue')\n",
    "plt.fill_between(list(range(1, 16)), agg_results['mean']['within_r2'] - agg_results['ci']['within_r2'], agg_results['mean']['within_r2'] + agg_results['ci']['within_r2'], alpha=0.3, color='orange')\n",
    "plt.fill_between(list(range(1, 16)), agg_results['mean']['combined_r2'] - agg_results['ci']['combined_r2'], agg_results['mean']['combined_r2'] + agg_results['ci']['combined_r2'], alpha=0.3, color='green')\n",
    "\n",
    "plt.legend()\n",
    "plt.xlabel(\"Minium number of housheolds per cluster\")\n",
    "plt.ylabel(\"$R^2$\")\n",
    "plt.axhline(y=0, color='red', linestyle='dotted', label='y = 0')  # Add red dotted line at y = 0\n",
    "plt.xticks(range(0, 16))  # Set x-axis ticks from 1 to 10\n",
    "plt.savefig(\"../figures/results/R2_vs_households.png\", dpi = 600, bbox_inches = 'tight', pad_inches = 0.1)\n",
    "plt.show() "
   ]
  }
 ],
 "metadata": {
  "kernelspec": {
   "display_name": "Python 3 (ipykernel)",
   "language": "python",
   "name": "python3"
  },
  "language_info": {
   "codemirror_mode": {
    "name": "ipython",
    "version": 3
   },
   "file_extension": ".py",
   "mimetype": "text/x-python",
   "name": "python",
   "nbconvert_exporter": "python",
   "pygments_lexer": "ipython3",
   "version": "3.10.12"
  }
 },
 "nbformat": 4,
 "nbformat_minor": 5
}
