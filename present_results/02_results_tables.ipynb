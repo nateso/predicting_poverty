{
 "cells": [
  {
   "cell_type": "markdown",
   "id": "94657655",
   "metadata": {},
   "source": [
    "# Results tables\n",
    "\n",
    "This script gathers the output and produces the output to be put in the tables."
   ]
  },
  {
   "cell_type": "code",
   "execution_count": 1,
   "id": "314fb588",
   "metadata": {},
   "outputs": [],
   "source": [
    "import pandas as pd\n",
    "import numpy as np\n",
    "import pickle"
   ]
  },
  {
   "cell_type": "code",
   "execution_count": 2,
   "id": "e5d348f0",
   "metadata": {},
   "outputs": [],
   "source": [
    "# aggregate results function\n",
    "def aggregate_rep_cv_results(rep_cv_res):\n",
    "    mean_r2 = {k: np.mean(v) for k,v in rep_cv_res.items()}\n",
    "    se_r2 = {k: np.std(v)/np.sqrt(10) for k,v in rep_cv_res.items()}\n",
    "    res = {'r2': mean_r2, 'se_r2': se_r2}\n",
    "    return res\n",
    "\n",
    "def print_tex_output(res, model_name = None, is_se = False, is_delta = False):\n",
    "    if not is_se:\n",
    "        aux = f\"{model_name} & {res['between_r2']:.4f} & {res['within_r2']:.4f} & {res['overall_r2']:.4f}\"\n",
    "        if is_delta:\n",
    "            aux = aux + f\"& {res['delta_r2']:.4f}\"\n",
    "        print(\"\\hspace{0.5cm} \" + aux + \"\\\\\\\\\")\n",
    "        \n",
    "    else:\n",
    "        aux = f\"\\t& \\\\footnotesize({res['between_r2']:.4f}) & \\\\footnotesize({res['within_r2']:.4f}) & \\\\footnotesize({res['overall_r2']:.4f})\"\n",
    "        if is_delta:\n",
    "            aux = aux + f\" & \\\\footnotesize({res['delta_r2']:.4f})\"\n",
    "        print(aux + \"\\\\\\\\\")"
   ]
  },
  {
   "cell_type": "markdown",
   "id": "5097cdba",
   "metadata": {},
   "source": [
    "# Main Results table"
   ]
  },
  {
   "cell_type": "code",
   "execution_count": 4,
   "id": "29554478",
   "metadata": {},
   "outputs": [],
   "source": [
    "# load the different model results\n",
    "\n",
    "# baseline model\n",
    "with open('../analysis/results/baseline/rep_cv_res_cons.pkl', 'rb') as f:\n",
    "    cons_baseline = pickle.load(f)\n",
    "cons_baseline = aggregate_rep_cv_results(cons_baseline)\n",
    "    \n",
    "with open('../analysis/results/baseline/rep_cv_res_asset.pkl', 'rb') as f:\n",
    "    asset_baseline = pickle.load(f)\n",
    "asset_baseline = aggregate_rep_cv_results(asset_baseline)\n",
    "\n",
    "    \n",
    "# baseline + LS model\n",
    "with open('../analysis/results/baseline_ls/rep_cv_res_cons.pkl', 'rb') as f:\n",
    "    cons_baseline_ls = pickle.load(f)\n",
    "cons_baseline_ls = aggregate_rep_cv_results(cons_baseline_ls)\n",
    "    \n",
    "with open('../analysis/results/baseline_ls/rep_cv_res_asset.pkl', 'rb') as f:\n",
    "    asset_baseline_ls = pickle.load(f)\n",
    "asset_baseline_ls = aggregate_rep_cv_results(asset_baseline_ls)\n",
    "\n",
    "# Deep learning model\n",
    "with open('../analysis/results/deep_learning_res.pkl', 'rb') as f:\n",
    "    deep_learning = pickle.load(f)\n",
    "    "
   ]
  },
  {
   "cell_type": "code",
   "execution_count": 5,
   "id": "9a2e6304",
   "metadata": {},
   "outputs": [
    {
     "name": "stdout",
     "output_type": "stream",
     "text": [
      "MAIN RESULTS TABLE \n",
      "\n",
      "Consumption Expenditure \n",
      "\n",
      "\\hspace{0.5cm} Baseline & 0.4677 & 0.0060 & 0.3890\\\\\n",
      "\t& \\footnotesize(0.0034) & \\footnotesize(0.0011) & \\footnotesize(0.0031)\\\\\n",
      "\\hspace{0.5cm} Baseline + RGB & 0.4562 & 0.0094 & 0.3785\\\\\n",
      "\t& \\footnotesize(0.0032) & \\footnotesize(0.0007) & \\footnotesize(0.0028)\\\\\n",
      "\\hspace{0.5cm} Deep Learning & 0.4484 & 0.0081 & 0.3735\\\\\n",
      "\n",
      "Asset Index \n",
      "\n",
      "\\hspace{0.5cm} Baseline & 0.5098 & 0.0186 & 0.4926\\\\\n",
      "\t& \\footnotesize(0.0039) & \\footnotesize(0.0008) & \\footnotesize(0.0030)\\\\\n",
      "\\hspace{0.5cm} Baseline + RGB & 0.4950 & 0.0352 & 0.4810\\\\\n",
      "\t& \\footnotesize(0.0042) & \\footnotesize(0.0006) & \\footnotesize(0.0033)\\\\\n",
      "\\hspace{0.5cm} Deep Learning & 0.5640 & 0.0325 & 0.5288\\\\\n"
     ]
    }
   ],
   "source": [
    "print(\"MAIN RESULTS TABLE \\n\")\n",
    "print(\"Consumption Expenditure \\n\")\n",
    "print_tex_output(cons_baseline['r2'], model_name = \"Baseline\",)\n",
    "print_tex_output(cons_baseline['se_r2'], is_se=True)\n",
    "print_tex_output(cons_baseline_ls['r2'], model_name = \"Baseline + RGB\")\n",
    "print_tex_output(cons_baseline_ls['se_r2'], is_se = True)\n",
    "print_tex_output(deep_learning['cons_combined'], model_name = 'Deep Learning')\n",
    "\n",
    "print(\"\\nAsset Index \\n\")\n",
    "print_tex_output(asset_baseline['r2'], model_name = \"Baseline\",)\n",
    "print_tex_output(asset_baseline['se_r2'], is_se=True)\n",
    "print_tex_output(asset_baseline_ls['r2'], model_name = \"Baseline + RGB\")\n",
    "print_tex_output(asset_baseline_ls['se_r2'], is_se = True)\n",
    "print_tex_output(deep_learning['asset_combined'], model_name = 'Deep Learning')"
   ]
  },
  {
   "cell_type": "code",
   "execution_count": 6,
   "id": "a64043bc",
   "metadata": {},
   "outputs": [
    {
     "name": "stdout",
     "output_type": "stream",
     "text": [
      "....................................................................................................\n",
      "Individual model contribution - deep learning\n",
      "....................................................................................................\n",
      "Consumption Expenditure\n",
      "\n",
      "\\hspace{0.5cm} RGB Landsat images & 0.2381 & -0.0124 & 0.1515\\\\\n",
      "\\hspace{0.5cm} MS Landsat images & 0.3294 & 0.0019 & 0.2409\\\\\n",
      "\\hspace{0.5cm} RS images & 0.3567 & -0.0143 & 0.2369\\\\\n",
      "\n",
      "Asset Index\n",
      "\n",
      "\\hspace{0.5cm} RGB Landsat images & 0.4620 & -0.0557 & 0.3238\\\\\n",
      "\\hspace{0.5cm} MS Landsat images & 0.4549 & -0.0214 & 0.3604\\\\\n",
      "\\hspace{0.5cm} RS images & 0.3464 & -0.0010 & 0.3267\\\\\n"
     ]
    }
   ],
   "source": [
    "print(\".\"*100)\n",
    "print(\"Individual model contribution - deep learning\")\n",
    "print(\".\"*100)\n",
    "\n",
    "print(\"Consumption Expenditure\\n\")\n",
    "print_tex_output(deep_learning['cons_rgb'], model_name = 'RGB Landsat images')\n",
    "print_tex_output(deep_learning['cons_ms'], model_name = 'MS Landsat images')\n",
    "print_tex_output(deep_learning['cons_rs'], model_name = 'RS images')\n",
    "\n",
    "print(\"\\nAsset Index\\n\")\n",
    "print_tex_output(deep_learning['asset_rgb'], model_name = 'RGB Landsat images')\n",
    "print_tex_output(deep_learning['asset_ms'], model_name = 'MS Landsat images')\n",
    "print_tex_output(deep_learning['asset_rs'], model_name = 'RS images')"
   ]
  },
  {
   "cell_type": "markdown",
   "id": "4b536fb9",
   "metadata": {},
   "source": [
    "# No Ethiopia results"
   ]
  },
  {
   "cell_type": "code",
   "execution_count": 8,
   "id": "33bc44ca",
   "metadata": {},
   "outputs": [],
   "source": [
    "# load results without ethiopia\n",
    "\n",
    "# consumption\n",
    "with open('../analysis/results/baseline/rep_cv_res_cons_no_eth.pkl', 'rb') as f:\n",
    "    cons_baseline_no_eth = pickle.load(f)\n",
    "cons_baseline_no_eth = aggregate_rep_cv_results(cons_baseline_no_eth)\n",
    "\n",
    "with open('../analysis/results/baseline_ls/rep_cv_res_cons_no_eth.pkl', 'rb') as f:\n",
    "    cons_baseline_ls_no_eth = pickle.load(f)\n",
    "cons_baseline_ls_no_eth = aggregate_rep_cv_results(cons_baseline_ls_no_eth)\n",
    "\n",
    "# asset index\n",
    "with open('../analysis/results/baseline/rep_cv_res_asset_no_eth.pkl', 'rb') as f:\n",
    "    asset_baseline_no_eth = pickle.load(f)\n",
    "asset_baseline_no_eth = aggregate_rep_cv_results(asset_baseline_no_eth)\n",
    "\n",
    "with open('../analysis/results/baseline_ls/rep_cv_res_asset_no_eth.pkl', 'rb') as f:\n",
    "    asset_baseline_ls_no_eth = pickle.load(f)\n",
    "asset_baseline_ls_no_eth = aggregate_rep_cv_results(asset_baseline_ls_no_eth)\n"
   ]
  },
  {
   "cell_type": "code",
   "execution_count": 9,
   "id": "eb3c71bf",
   "metadata": {
    "scrolled": true
   },
   "outputs": [
    {
     "name": "stdout",
     "output_type": "stream",
     "text": [
      "Consumption expenditure\n",
      "\\hspace{0.5cm} Baseline & 0.4429 & 0.0087 & 0.3714\\\\\n",
      "\t& \\footnotesize(0.0061) & \\footnotesize(0.0016) & \\footnotesize(0.0064)\\\\\n",
      "\\hspace{0.5cm} Baseline + RGB & 0.4360 & 0.0119 & 0.3632\\\\\n",
      "\t& \\footnotesize(0.0065) & \\footnotesize(0.0010) & \\footnotesize(0.0065)\\\\\n",
      "\n",
      "Asset Index\n",
      "\\hspace{0.5cm} Baseline & 0.4340 & 0.0101 & 0.4324\\\\\n",
      "\t& \\footnotesize(0.0060) & \\footnotesize(0.0006) & \\footnotesize(0.0065)\\\\\n",
      "\\hspace{0.5cm} Baseline + RGB & 0.4304 & 0.0251 & 0.4291\\\\\n",
      "\t& \\footnotesize(0.0060) & \\footnotesize(0.0007) & \\footnotesize(0.0063)\\\\\n"
     ]
    }
   ],
   "source": [
    "# print table output\n",
    "print('Consumption expenditure')\n",
    "print_tex_output(cons_baseline_no_eth['r2'], model_name = \"Baseline\")\n",
    "print_tex_output(cons_baseline_no_eth['se_r2'], is_se=True)\n",
    "\n",
    "print_tex_output(cons_baseline_ls_no_eth['r2'], model_name = \"Baseline + RGB\")\n",
    "print_tex_output(cons_baseline_ls_no_eth['se_r2'], is_se = True)\n",
    "\n",
    "print('\\nAsset Index')\n",
    "print_tex_output(asset_baseline_no_eth['r2'], model_name = 'Baseline')\n",
    "print_tex_output(asset_baseline_no_eth['se_r2'], is_se = True)\n",
    "\n",
    "print_tex_output(asset_baseline_ls_no_eth['r2'], model_name = 'Baseline + RGB')\n",
    "print_tex_output(asset_baseline_ls_no_eth['se_r2'], is_se = True)"
   ]
  },
  {
   "cell_type": "markdown",
   "id": "31996566",
   "metadata": {},
   "source": [
    "# Delta Results"
   ]
  },
  {
   "cell_type": "code",
   "execution_count": 10,
   "id": "43e6f0aa",
   "metadata": {},
   "outputs": [],
   "source": [
    "# load results for delta models\n",
    "\n",
    "# consumption\n",
    "with open('../analysis/results/baseline/rep_cv_cons_delta.pkl', 'rb') as f:\n",
    "    cons_baseline_delta = pickle.load(f)\n",
    "cons_baseline_delta = aggregate_rep_cv_results(cons_baseline_delta)\n",
    "\n",
    "with open('../analysis/results/baseline_ls/rep_cv_cons_delta.pkl', 'rb') as f:\n",
    "    cons_baseline_ls_delta = pickle.load(f)\n",
    "cons_baseline_ls_delta = aggregate_rep_cv_results(cons_baseline_ls_delta)\n",
    "\n",
    "# asset index\n",
    "with open('../analysis/results/baseline/rep_cv_asset_delta.pkl', 'rb') as f:\n",
    "    asset_baseline_delta = pickle.load(f)\n",
    "asset_baseline_delta = aggregate_rep_cv_results(asset_baseline_delta)\n",
    "\n",
    "with open('../analysis/results/baseline_ls/rep_cv_asset_delta.pkl', 'rb') as f:\n",
    "    asset_baseline_ls_delta= pickle.load(f)\n",
    "asset_baseline_ls_delta = aggregate_rep_cv_results(asset_baseline_ls_delta)\n"
   ]
  },
  {
   "cell_type": "code",
   "execution_count": 11,
   "id": "6a10f787",
   "metadata": {},
   "outputs": [
    {
     "name": "stdout",
     "output_type": "stream",
     "text": [
      "....................................................................................................\n",
      "Delta results\n",
      "....................................................................................................\n",
      "\n",
      "Consumption expenditure\n",
      "\n",
      "\\hspace{0.5cm} Baseline & 0.4679 & -0.0148 & 0.3628& -0.0155\\\\\n",
      "\t& \\footnotesize(0.0033) & \\footnotesize(0.0017) & \\footnotesize(0.0033) & \\footnotesize(0.0018)\\\\\n",
      "\\hspace{0.5cm} Baseline + RGB & 0.4561 & 0.0179 & 0.3696& 0.0178\\\\\n",
      "\t& \\footnotesize(0.0033) & \\footnotesize(0.0015) & \\footnotesize(0.0032) & \\footnotesize(0.0015)\\\\\n",
      "\n",
      "Asset Index\n",
      "\n",
      "\\hspace{0.5cm} Baseline & 0.5102 & 0.0219 & 0.4809& 0.0222\\\\\n",
      "\t& \\footnotesize(0.0039) & \\footnotesize(0.0025) & \\footnotesize(0.0030) & \\footnotesize(0.0024)\\\\\n",
      "\\hspace{0.5cm} Baseline + RGB & 0.4949 & 0.0541 & 0.4715& 0.0541\\\\\n",
      "\t& \\footnotesize(0.0041) & \\footnotesize(0.0017) & \\footnotesize(0.0033) & \\footnotesize(0.0017)\\\\\n"
     ]
    }
   ],
   "source": [
    "print(\".\"*100)\n",
    "print(\"Delta results\")\n",
    "print(\".\"*100)\n",
    "\n",
    "print('\\nConsumption expenditure\\n')\n",
    "print_tex_output(cons_baseline_delta['r2'], model_name = \"Baseline\", is_delta = True)\n",
    "print_tex_output(cons_baseline_delta['se_r2'], is_se=True, is_delta = True)\n",
    "\n",
    "print_tex_output(cons_baseline_ls_delta['r2'], model_name = \"Baseline + RGB\",is_delta = True)\n",
    "print_tex_output(cons_baseline_ls_delta['se_r2'], is_se = True,is_delta = True)\n",
    "\n",
    "print('\\nAsset Index\\n')\n",
    "print_tex_output(asset_baseline_delta['r2'], model_name = 'Baseline',is_delta = True)\n",
    "print_tex_output(asset_baseline_delta['se_r2'], is_se = True,is_delta = True)\n",
    "\n",
    "print_tex_output(asset_baseline_ls_delta['r2'], model_name = 'Baseline + RGB',is_delta = True)\n",
    "print_tex_output(asset_baseline_ls_delta['se_r2'], is_se = True,is_delta = True)"
   ]
  },
  {
   "cell_type": "markdown",
   "id": "cf31f879",
   "metadata": {},
   "source": [
    "# Alternative Asset index (index II)"
   ]
  },
  {
   "cell_type": "code",
   "execution_count": 13,
   "id": "e572a5f4",
   "metadata": {},
   "outputs": [],
   "source": [
    "# asset index\n",
    "with open('../analysis/results/baseline/rep_cv_res_asset_nate.pkl', 'rb') as f:\n",
    "    asset_baseline_nate = pickle.load(f)\n",
    "asset_baseline_nate = aggregate_rep_cv_results(asset_baseline_nate)\n",
    "\n",
    "with open('../analysis/results/baseline_ls/rep_cv_res_asset_nate.pkl', 'rb') as f:\n",
    "    asset_baseline_ls_nate= pickle.load(f)\n",
    "asset_baseline_ls_nate = aggregate_rep_cv_results(asset_baseline_ls_nate)\n"
   ]
  },
  {
   "cell_type": "code",
   "execution_count": 14,
   "id": "ac6cc76b",
   "metadata": {},
   "outputs": [
    {
     "name": "stdout",
     "output_type": "stream",
     "text": [
      "....................................................................................................\n",
      "Asset index II results\n",
      "....................................................................................................\n",
      "\n",
      "Asset Index\n",
      "\n",
      "\\hspace{0.5cm} Baseline & 0.4829 & 0.0181 & 0.4678\\\\\n",
      "\t& \\footnotesize(0.0052) & \\footnotesize(0.0006) & \\footnotesize(0.0039)\\\\\n",
      "\\hspace{0.5cm} Baseline + RGB & 0.4631 & 0.0382 & 0.4509\\\\\n",
      "\t& \\footnotesize(0.0052) & \\footnotesize(0.0006) & \\footnotesize(0.0039)\\\\\n"
     ]
    }
   ],
   "source": [
    "print(\".\"*100)\n",
    "print(\"Asset index II results\")\n",
    "print(\".\"*100)\n",
    "\n",
    "print('\\nAsset Index\\n')\n",
    "print_tex_output(asset_baseline_nate['r2'], model_name = \"Baseline\", is_delta = False)\n",
    "print_tex_output(asset_baseline_nate['se_r2'], is_se=True, is_delta = False)\n",
    "\n",
    "print_tex_output(asset_baseline_ls_nate['r2'], model_name = \"Baseline + RGB\",is_delta = False)\n",
    "print_tex_output(asset_baseline_ls_nate['se_r2'], is_se = True,is_delta = False)"
   ]
  }
 ],
 "metadata": {
  "kernelspec": {
   "display_name": "Python 3 (ipykernel)",
   "language": "python",
   "name": "python3"
  },
  "language_info": {
   "codemirror_mode": {
    "name": "ipython",
    "version": 3
   },
   "file_extension": ".py",
   "mimetype": "text/x-python",
   "name": "python",
   "nbconvert_exporter": "python",
   "pygments_lexer": "ipython3",
   "version": "3.10.12"
  }
 },
 "nbformat": 4,
 "nbformat_minor": 5
}
