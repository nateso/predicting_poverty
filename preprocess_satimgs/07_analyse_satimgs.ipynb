{
 "cells": [
  {
   "cell_type": "markdown",
   "id": "6b5cf868",
   "metadata": {},
   "source": [
    "# Present statistics for all images\n",
    "This script loads the image statistics files, that have been created with ***extract_image_statistics.py*** file and displays their content. Also it aggregates the statistics for eachband. "
   ]
  },
  {
   "cell_type": "code",
   "execution_count": 1,
   "id": "4b7158c7",
   "metadata": {},
   "outputs": [],
   "source": [
    "import pickle\n",
    "import pandas as pd\n",
    "from satimg_utils.img_proc_utils import *"
   ]
  },
  {
   "cell_type": "code",
   "execution_count": 2,
   "id": "c4d602b6",
   "metadata": {},
   "outputs": [],
   "source": [
    "# set the root data directory\n",
    "root_data_dir = \"../../Data\"\n",
    "sat_img_dir = f\"{root_data_dir}/satellite_imgs\""
   ]
  },
  {
   "cell_type": "code",
   "execution_count": 19,
   "id": "09296e4d",
   "metadata": {},
   "outputs": [
    {
     "name": "stdout",
     "output_type": "stream",
     "text": [
      "\n",
      "Band Red sum of NA pixels: 1104153\n",
      "Band Red number of images with NA pixels: 628\n",
      "Band Red mean number of NA pixels: 154.6216216216216\n",
      "\n",
      "Band Green sum of NA pixels: 1104153\n",
      "Band Green number of images with NA pixels: 628\n",
      "Band Green mean number of NA pixels: 154.6216216216216\n",
      "\n",
      "Band Blue sum of NA pixels: 1104156\n",
      "Band Blue number of images with NA pixels: 628\n",
      "Band Blue mean number of NA pixels: 154.62204173085001\n",
      "\n",
      "Band NIR sum of NA pixels: 1104153\n",
      "Band NIR number of images with NA pixels: 628\n",
      "Band NIR mean number of NA pixels: 154.6216216216216\n",
      "\n",
      "Band SWIR1 sum of NA pixels: 1104153\n",
      "Band SWIR1 number of images with NA pixels: 628\n",
      "Band SWIR1 mean number of NA pixels: 154.6216216216216\n",
      "\n",
      "Band SWIR2 sum of NA pixels: 15535729\n",
      "Band SWIR2 number of images with NA pixels: 1504\n",
      "Band SWIR2 mean number of NA pixels: 2175.567707603977\n",
      "\n",
      "Band Temp sum of NA pixels: 1141156\n",
      "Band Temp number of images with NA pixels: 817\n",
      "Band Temp mean number of NA pixels: 159.8033888811091\n",
      "\n",
      "\n",
      "Number of images affected by NA pixels in the Blue channel 628\n",
      "\n",
      "Number of images affected by NAs by country year\n",
      "country  eth  mwi  nga  tza  uga\n",
      "year                            \n",
      "2008       0    0    0   66    0\n",
      "2009       0    0    0    0    3\n",
      "2010       0   21  247   90    4\n",
      "2011       3    0    0    0   13\n",
      "2012       0    0  113   52    0\n",
      "2014       0    0    0    2    0\n",
      "2015       3    0   10    0    0\n",
      "2019       0    0    0    1    0\n",
      "\n",
      "Aggregate statistics\n",
      "0:\t min:-0.10763\t max:1.60221\t mean:0.09938\t std:0.04946\tRed\n",
      "1:\t min:-0.08046\t max:1.60221\t mean:0.08725\t std:0.03188\tGreen\n",
      "2:\t min:-0.19640\t max:1.60221\t mean:0.05816\t std:0.02479\tBlue\n",
      "3:\t min:-0.04278\t max:1.60221\t mean:0.26143\t std:0.06492\tNIR\n",
      "4:\t min:-0.01627\t max:1.60221\t mean:0.23797\t std:0.08335\tSWIR1\n",
      "5:\t min:-0.19194\t max:1.60221\t mean:0.68078\t std:0.43503\tSWIR2\n",
      "6:\t min:150.00148\t max:372.99994\t mean:235.24077\t std:53.39606\tTemp\n"
     ]
    }
   ],
   "source": [
    "# start with Raw Landsat images\n",
    "data_type = 'LS'\n",
    "band_name_dict = dict(zip(list(range(7)),['Red', 'Green', 'Blue', 'NIR',\n",
    "                                          'SWIR1', 'SWIR2', 'Temp']))\n",
    "pth = f\"{sat_img_dir}/{data_type}/{data_type}_raw_img_stats.pkl\"\n",
    "with open(pth, 'rb') as f:\n",
    "  ls_raw_stats = pickle.load(f)\n",
    "\n",
    "print_band_quality(ls_raw_stats, band_name_dict)\n",
    "\n",
    "print(\"\\n\")\n",
    "\n",
    "# print the number of images that are affected by at least one NA pixel in the Blue Channel\n",
    "print(f\"Number of images affected by NA pixels in the Blue channel {sum(ls_raw_stats[2]['n_na'] > 0)}\")\n",
    "\n",
    "# which country year pairs are most affected?\n",
    "aux = ls_raw_stats[2].copy()\n",
    "aux['country'] = [i[:3] for i in aux['unique_id']]\n",
    "aux['year'] = [i[-4:] for i in aux['unique_id']]\n",
    "aux = aux.loc[aux['n_na']>0].reset_index(drop = True)\n",
    "print('\\nNumber of images affected by NAs by country year')\n",
    "print(pd.crosstab(aux['year'], aux.country))\n",
    "\n",
    "##  Aggregate the statistics\n",
    "print('\\nAggregate statistics')\n",
    "summary_band_stats_all = aggregate_band_stats(ls_raw_stats, flagged_ids = [])\n",
    "print_band_summary(summary_band_stats_all, band_name_dict)\n"
   ]
  },
  {
   "cell_type": "code",
   "execution_count": 20,
   "id": "b6d18c2c",
   "metadata": {},
   "outputs": [
    {
     "name": "stdout",
     "output_type": "stream",
     "text": [
      "\n",
      "Band Red sum of NA pixels: 0\n",
      "Band Red number of images with NA pixels: 0\n",
      "Band Red mean number of NA pixels: 0.0\n",
      "\n",
      "Band Green sum of NA pixels: 0\n",
      "Band Green number of images with NA pixels: 0\n",
      "Band Green mean number of NA pixels: 0.0\n",
      "\n",
      "Band Blue sum of NA pixels: 0\n",
      "Band Blue number of images with NA pixels: 0\n",
      "Band Blue mean number of NA pixels: 0.0\n",
      "\n",
      "Band NIR sum of NA pixels: 0\n",
      "Band NIR number of images with NA pixels: 0\n",
      "Band NIR mean number of NA pixels: 0.0\n",
      "\n",
      "Band SWIR1 sum of NA pixels: 0\n",
      "Band SWIR1 number of images with NA pixels: 0\n",
      "Band SWIR1 mean number of NA pixels: 0.0\n",
      "\n",
      "Band Temp sum of NA pixels: 0\n",
      "Band Temp number of images with NA pixels: 0\n",
      "Band Temp mean number of NA pixels: 0.0\n",
      "\n",
      "Aggregate statistics\n",
      "0:\t min:-0.00994\t max:1.05198\t mean:0.10186\t std:0.04780\tRed\n",
      "1:\t min:0.00626\t max:0.93787\t mean:0.08823\t std:0.03049\tGreen\n",
      "2:\t min:-0.04209\t max:0.98074\t mean:0.05847\t std:0.02255\tBlue\n",
      "3:\t min:-0.00764\t max:0.91915\t mean:0.25746\t std:0.06083\tNIR\n",
      "4:\t min:0.00196\t max:1.60221\t mean:0.24084\t std:0.08208\tSWIR1\n",
      "5:\t min:173.71228\t max:372.99994\t mean:235.20238\t std:46.04670\tTemp\n"
     ]
    }
   ],
   "source": [
    "# Median Landsat images\n",
    "band_name_dict = dict(zip(list(range(6)), ['Red', 'Green', 'Blue', 'NIR','SWIR1', 'Temp']))\n",
    "\n",
    "pth = f\"{sat_img_dir}/{data_type}/{data_type}_median_img_stats.pkl\"\n",
    "with open(pth, 'rb') as f:\n",
    "  ls_median_stats = pickle.load(f)\n",
    "\n",
    "print_band_quality(ls_median_stats, band_name_dict)\n",
    "\n",
    "##  Aggregate the statistics\n",
    "print('\\nAggregate statistics')\n",
    "summary_band_stats_all = aggregate_band_stats(ls_median_stats, flagged_ids = [])\n",
    "print_band_summary(summary_band_stats_all, band_name_dict)\n"
   ]
  },
  {
   "cell_type": "code",
   "execution_count": 16,
   "id": "a25b6b85",
   "metadata": {},
   "outputs": [
    {
     "name": "stdout",
     "output_type": "stream",
     "text": [
      "DYNAMIC RS V2 IMAGES\n",
      "\n",
      "Band Nightlights sum of NA pixels: 0\n",
      "Band Nightlights number of images with NA pixels: 0\n",
      "Band Nightlights mean number of NA pixels: 0.0\n",
      "\n",
      "Band ndvi sum of NA pixels: 0\n",
      "Band ndvi number of images with NA pixels: 0\n",
      "Band ndvi mean number of NA pixels: 0.0\n",
      "\n",
      "Band ndwi_gao sum of NA pixels: 0\n",
      "Band ndwi_gao number of images with NA pixels: 0\n",
      "Band ndwi_gao mean number of NA pixels: 0.0\n",
      "\n",
      "Band ndwi_mcf sum of NA pixels: 0\n",
      "Band ndwi_mcf number of images with NA pixels: 0\n",
      "Band ndwi_mcf mean number of NA pixels: 0.0\n",
      "\n",
      "Aggregate statistics\n",
      "0:\t min:0.00000\t max:378.73523\t mean:1.41564\t std:5.34310\tNightlights\n",
      "1:\t min:-0.34757\t max:0.64521\t mean:0.28809\t std:0.09653\tndvi\n",
      "2:\t min:-0.19099\t max:0.50191\t mean:0.10551\t std:0.07576\tndwi_gao\n",
      "3:\t min:-0.57991\t max:0.40066\t mean:-0.29681\t std:0.09647\tndwi_mcf\n"
     ]
    }
   ],
   "source": [
    "# Dynamic RS V2 images\n",
    "data_type = 'RS_v2'\n",
    "print(\"DYNAMIC RS V2 IMAGES\")\n",
    "band_name_dict = dict(zip(list(range(4)), ['Nightlights', 'ndvi', 'ndwi_gao', 'ndwi_mcf']))\n",
    "\n",
    "pth = f\"{sat_img_dir}/{data_type}/{data_type}_dynamic_img_stats.pkl\"\n",
    "with open(pth, 'rb') as f:\n",
    "    rs_dynamic_stats = pickle.load(f)\n",
    "\n",
    "print_band_quality(rs_dynamic_stats, band_name_dict)\n",
    "\n",
    "##  Aggregate the statistics\n",
    "print('\\nAggregate statistics')\n",
    "summary_band_stats_all = aggregate_band_stats(rs_dynamic_stats, flagged_ids = [])\n",
    "print_band_summary(summary_band_stats_all, band_name_dict)\n"
   ]
  },
  {
   "cell_type": "code",
   "execution_count": 17,
   "id": "eb8a32ba",
   "metadata": {},
   "outputs": [
    {
     "name": "stdout",
     "output_type": "stream",
     "text": [
      "MEAN RS V2 IMGAES\n",
      "\n",
      "Band Nightlights sum of NA pixels: 0\n",
      "Band Nightlights number of images with NA pixels: 0\n",
      "Band Nightlights mean number of NA pixels: 0.0\n",
      "\n",
      "Band ndvi sum of NA pixels: 0\n",
      "Band ndvi number of images with NA pixels: 0\n",
      "Band ndvi mean number of NA pixels: 0.0\n",
      "\n",
      "Band ndwi_gao sum of NA pixels: 0\n",
      "Band ndwi_gao number of images with NA pixels: 0\n",
      "Band ndwi_gao mean number of NA pixels: 0.0\n",
      "\n",
      "Band ndwi_mcf sum of NA pixels: 0\n",
      "Band ndwi_mcf number of images with NA pixels: 0\n",
      "Band ndwi_mcf mean number of NA pixels: 0.0\n",
      "\n",
      "Aggregate statistics\n",
      "0:\t min:0.00000\t max:238.44360\t mean:1.51360\t std:5.02827\tNightlights\n",
      "1:\t min:-0.31044\t max:0.61804\t mean:0.28132\t std:0.09204\tndvi\n",
      "2:\t min:-0.15817\t max:0.45781\t mean:0.09623\t std:0.07360\tndwi_gao\n",
      "3:\t min:-0.56016\t max:0.37684\t mean:-0.29378\t std:0.09551\tndwi_mcf\n"
     ]
    }
   ],
   "source": [
    "# Mean RS V2 mean images\n",
    "print(\"MEAN RS V2 IMGAES\")\n",
    "pth = f\"{sat_img_dir}/{data_type}/{data_type}_mean_img_stats.pkl\"\n",
    "with open(pth, 'rb') as f:\n",
    "    rs_mean_stats = pickle.load(f)\n",
    "\n",
    "print_band_quality(rs_mean_stats, band_name_dict)\n",
    "\n",
    "##  Aggregate the statistics\n",
    "print('\\nAggregate statistics')\n",
    "summary_band_stats_all = aggregate_band_stats(rs_mean_stats, flagged_ids = [])\n",
    "print_band_summary(summary_band_stats_all, band_name_dict)\n"
   ]
  },
  {
   "cell_type": "code",
   "execution_count": 14,
   "id": "d7fddca3",
   "metadata": {},
   "outputs": [
    {
     "name": "stdout",
     "output_type": "stream",
     "text": [
      "STATIC RS V2 IMAGES\n",
      "\n",
      "Band wsf sum of NA pixels: 0\n",
      "Band wsf number of images with NA pixels: 0\n",
      "Band wsf mean number of NA pixels: 0.0\n",
      "\n",
      "Band esa_lc sum of NA pixels: 0\n",
      "Band esa_lc number of images with NA pixels: 0\n",
      "Band esa_lc mean number of NA pixels: 0.0\n",
      "\n",
      "Aggregate statistics\n",
      "0:\t min:0.00000\t max:1.00000\t mean:0.17863\t std:0.38304\twsf\n",
      "1:\t min:10.00000\t max:95.00000\t mean:32.22213\t std:17.87670\tesa_lc\n"
     ]
    }
   ],
   "source": [
    "# Static RS V2 images\n",
    "print(\"STATIC RS V2 IMAGES\")\n",
    "band_name_dict = dict(zip(list(range(4)), ['wsf', 'esa_lc']))\n",
    "\n",
    "pth = f\"{sat_img_dir}/{data_type}/{data_type}_static_img_stats.pkl\"\n",
    "with open(pth, 'rb') as f:\n",
    "    rs_static_stats = pickle.load(f)\n",
    "\n",
    "print_band_quality(rs_static_stats, band_name_dict)\n",
    "\n",
    "##  Aggregate the statistics\n",
    "print('\\nAggregate statistics')\n",
    "summary_band_stats_all = aggregate_band_stats(rs_static_stats, flagged_ids = [])\n",
    "print_band_summary(summary_band_stats_all, band_name_dict)\n"
   ]
  }
 ],
 "metadata": {
  "kernelspec": {
   "display_name": "Python 3 (ipykernel)",
   "language": "python",
   "name": "python3"
  },
  "language_info": {
   "codemirror_mode": {
    "name": "ipython",
    "version": 3
   },
   "file_extension": ".py",
   "mimetype": "text/x-python",
   "name": "python",
   "nbconvert_exporter": "python",
   "pygments_lexer": "ipython3",
   "version": "3.10.12"
  }
 },
 "nbformat": 4,
 "nbformat_minor": 5
}
