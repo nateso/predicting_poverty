{
 "cells": [
  {
   "cell_type": "code",
   "execution_count": 2,
   "id": "aa59f39d",
   "metadata": {},
   "outputs": [
    {
     "ename": "ModuleNotFoundError",
     "evalue": "No module named 'analysis_utils'",
     "output_type": "error",
     "traceback": [
      "\u001b[0;31m---------------------------------------------------------------------------\u001b[0m",
      "\u001b[0;31mModuleNotFoundError\u001b[0m                       Traceback (most recent call last)",
      "Cell \u001b[0;32mIn[2], line 5\u001b[0m\n\u001b[1;32m      2\u001b[0m \u001b[38;5;28;01mimport\u001b[39;00m \u001b[38;5;21;01mpandas\u001b[39;00m \u001b[38;5;28;01mas\u001b[39;00m \u001b[38;5;21;01mpd\u001b[39;00m\n\u001b[1;32m      3\u001b[0m \u001b[38;5;28;01mimport\u001b[39;00m \u001b[38;5;21;01mmatplotlib\u001b[39;00m\u001b[38;5;21;01m.\u001b[39;00m\u001b[38;5;21;01mpyplot\u001b[39;00m \u001b[38;5;28;01mas\u001b[39;00m \u001b[38;5;21;01mplt\u001b[39;00m\n\u001b[0;32m----> 5\u001b[0m \u001b[38;5;28;01mfrom\u001b[39;00m \u001b[38;5;21;01manalysis_utils\u001b[39;00m\u001b[38;5;21;01m.\u001b[39;00m\u001b[38;5;21;01mplotting\u001b[39;00m \u001b[38;5;28;01mimport\u001b[39;00m \u001b[38;5;241m*\u001b[39m\n\u001b[1;32m      6\u001b[0m \u001b[38;5;28;01mfrom\u001b[39;00m \u001b[38;5;21;01manalysis_utils\u001b[39;00m\u001b[38;5;21;01m.\u001b[39;00m\u001b[38;5;21;01mdescribe_target\u001b[39;00m \u001b[38;5;28;01mimport\u001b[39;00m \u001b[38;5;241m*\u001b[39m\n",
      "\u001b[0;31mModuleNotFoundError\u001b[0m: No module named 'analysis_utils'"
     ]
    }
   ],
   "source": [
    "import numpy as np\n",
    "import pandas as pd\n",
    "import matplotlib.pyplot as plt\n",
    "\n",
    "from analysis_utils.plotting import *\n",
    "from analysis_utils.describe_target import *"
   ]
  },
  {
   "cell_type": "code",
   "execution_count": null,
   "id": "36759a58",
   "metadata": {},
   "outputs": [],
   "source": [
    "# set the root data directory\n",
    "root_data_dir = \"../../Data\"\n",
    "sat_img_dir = f\"{root_data_dir}/satellite_imgs\"\n",
    "\n",
    "# Load the LSMS data\n",
    "lsms_path = f\"{root_data_dir}/lsms/processed/labels_cluster_v1.csv\"\n",
    "lsms_df = pd.read_csv(lsms_path)"
   ]
  },
  {
   "cell_type": "markdown",
   "id": "8ecab6a8",
   "metadata": {},
   "source": [
    "## Describe the target variables"
   ]
  },
  {
   "cell_type": "code",
   "execution_count": null,
   "id": "f45adf4e",
   "metadata": {},
   "outputs": [],
   "source": [
    "describe_target(lsms_df, 'mean_pc_cons_usd_2017')\n",
    "describe_target(lsms_df, 'mean_asset_index_yeh')\n",
    "\n"
   ]
  }
 ],
 "metadata": {
  "kernelspec": {
   "display_name": "Python 3 (ipykernel)",
   "language": "python",
   "name": "python3"
  },
  "language_info": {
   "codemirror_mode": {
    "name": "ipython",
    "version": 3
   },
   "file_extension": ".py",
   "mimetype": "text/x-python",
   "name": "python",
   "nbconvert_exporter": "python",
   "pygments_lexer": "ipython3",
   "version": "3.10.12"
  }
 },
 "nbformat": 4,
 "nbformat_minor": 5
}
