{
 "cells": [
  {
   "cell_type": "code",
   "execution_count": 1,
   "id": "247a8837",
   "metadata": {},
   "outputs": [],
   "source": [
    "import pandas as pd\n",
    "import numpy as np\n",
    "import matplotlib.pyplot as plt\n",
    "import copy\n",
    "import math\n",
    "import datetime"
   ]
  },
  {
   "cell_type": "code",
   "execution_count": 6,
   "id": "1fa9378b",
   "metadata": {},
   "outputs": [],
   "source": [
    "lsms = pd.read_csv(\"../../Data/processed/labels_cluster.csv\", nrows = 10) \n",
    "lsms['start_day'] = 1\n",
    "lsms['end_day'] = 30\n",
    "lsms['start_ts'] = pd.to_datetime(dict(year = lsms.start_year, month = lsms.start_month, day = lsms.start_day))\n",
    "lsms['end_ts'] = lsms['start_ts'] + pd.DateOffset(365)"
   ]
  },
  {
   "cell_type": "code",
   "execution_count": 8,
   "id": "280bcc96",
   "metadata": {},
   "outputs": [],
   "source": [
    "lsms.to_csv(\"../../Data/processed/test_labels.csv\", index = False)"
   ]
  },
  {
   "cell_type": "code",
   "execution_count": 9,
   "id": "74bea0c1",
   "metadata": {},
   "outputs": [],
   "source": [
    "lsms = pd.read_csv(\"../../Data/processed/test_labels.csv\")"
   ]
  }
 ],
 "metadata": {
  "kernelspec": {
   "display_name": "Python 3 (ipykernel)",
   "language": "python",
   "name": "python3"
  },
  "language_info": {
   "codemirror_mode": {
    "name": "ipython",
    "version": 3
   },
   "file_extension": ".py",
   "mimetype": "text/x-python",
   "name": "python",
   "nbconvert_exporter": "python",
   "pygments_lexer": "ipython3",
   "version": "3.8.2"
  }
 },
 "nbformat": 4,
 "nbformat_minor": 5
}
